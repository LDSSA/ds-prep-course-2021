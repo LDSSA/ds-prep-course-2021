{
 "cells": [
  {
   "cell_type": "markdown",
   "metadata": {
    "nbgrader": {
     "grade": false,
     "grade_id": "cell-914a8ceb7dcb0b1a",
     "locked": true,
     "schema_version": 3,
     "solution": false,
     "task": false
    }
   },
   "source": [
    "# SLU10 | Object Oriented Programming - Inheritance: Exercise Notebook\n",
    "\n",
    "***"
   ]
  },
  {
   "cell_type": "markdown",
   "metadata": {
    "nbgrader": {
     "grade": false,
     "grade_id": "cell-fbaab46e32ac2398",
     "locked": true,
     "schema_version": 3,
     "solution": false,
     "task": false
    }
   },
   "source": [
    "## Start by importing these packages"
   ]
  },
  {
   "cell_type": "code",
   "execution_count": 1,
   "metadata": {
    "nbgrader": {
     "grade": false,
     "grade_id": "cell-90443b58aa193f3e",
     "locked": true,
     "schema_version": 3,
     "solution": false,
     "task": false
    }
   },
   "outputs": [],
   "source": [
    "# for evaluation purposes\n",
    "import hashlib\n",
    "def _hash(s):\n",
    "    return hashlib.blake2b(\n",
    "        bytes(str(s), encoding='utf8'),\n",
    "        digest_size=5\n",
    "    ).hexdigest()\n",
    "\n",
    "import math\n",
    "import inspect\n",
    "\n",
    "from utils import get_random_number\n",
    "from utils import Spell"
   ]
  },
  {
   "cell_type": "markdown",
   "metadata": {
    "nbgrader": {
     "grade": false,
     "grade_id": "cell-b8713c3017850aa4",
     "locked": true,
     "schema_version": 3,
     "solution": false,
     "task": false
    }
   },
   "source": [
    "## PART 1\n",
    "\n",
    "### Exercise 1\n",
    "\n",
    "Create a class named `Worker()` and define the `__init__()` method of the created class to have three arguments:\n",
    "\n",
    "1. name\n",
    "2. age\n",
    "3. department\n",
    "\n",
    "Now, do the following:\n",
    "\n",
    "- Assign these variables to attributes by using the `self` keyword;\n",
    "\n",
    "- Define an extra attribute in the `__init__()` method, **without user input**, called `income` and with default value of **`1200`**;\n",
    "\n",
    "- Define another one attribute in the `__init__()` method, called `company` and with default value  **`\"Dunder Mifflin Paper Company\"`**;\n",
    "\n",
    "- Create a `presentation()` method that will **`return`** a string `speech` with the message:\n",
    "<br><br>\n",
    "    **_\"Hi, my name is `name`! I'm work at `company` on the `department` department, nice to meet you.\"_**\n",
    "<br><br>\n",
    "\n",
    "- Create another method called `show_income()` that will **`return`** a string `salary` with the message:\n",
    "<br><br>\n",
    "    **_\"My salary is € `income` per month\"_**\n",
    "<br><br>\n",
    "In the end, create the `employer` object for a **\"Jim Halpert\"**, **25** from **\"Sales\"** department.\n"
   ]
  },
  {
   "cell_type": "code",
   "execution_count": 2,
   "metadata": {
    "nbgrader": {
     "grade": false,
     "grade_id": "cell-1201721e632289d8",
     "locked": false,
     "schema_version": 3,
     "solution": true,
     "task": false
    }
   },
   "outputs": [],
   "source": [
    "class Worker():\n",
    "    \"\"\"\n",
    "    Abstract base class representing a Worker\n",
    "    \"\"\"\n",
    "\n",
    "    # def __init__(...)    \n",
    "    ### BEGIN SOLUTION\n",
    "    def __init__(self, name, age, department):\n",
    "        \"\"\"\n",
    "        Initialize the Worker object\n",
    "        \"\"\"\n",
    "        self.name = name\n",
    "        self.age = age\n",
    "        self.company = \"Dunder Mifflin Paper Company\"\n",
    "        self.department = department\n",
    "        self.income = 1200\n",
    "    ### END SOLUTION\n",
    "    \n",
    "    # def presentation(...)    \n",
    "    ### BEGIN SOLUTION\n",
    "    def presentation(self):\n",
    "        speech = \"Hi, my name is {name}! I'm work at {company} on the {department} department, nice to meet you.\".format(\n",
    "            name=self.name,\n",
    "            company=self.company,\n",
    "            department=self.department)\n",
    "        \n",
    "        return speech\n",
    "    ### END SOLUTION\n",
    "    \n",
    "    # def show_income(...)    \n",
    "    ### BEGIN SOLUTION        \n",
    "    def show_income(self):\n",
    "        salary = \"My salary is € {income} per month\".format(income=self.income)\n",
    "        return salary\n",
    "    ### END SOLUTION"
   ]
  },
  {
   "cell_type": "code",
   "execution_count": 3,
   "metadata": {
    "nbgrader": {
     "grade": false,
     "grade_id": "cell-d545a621000a9ff9",
     "locked": true,
     "schema_version": 3,
     "solution": false,
     "task": false
    }
   },
   "outputs": [],
   "source": [
    "# Creating our first Worker!\n",
    "\n",
    "employer = Worker(name='Jim Halpert',\n",
    "                  age=25, \n",
    "                  department='Sales')"
   ]
  },
  {
   "cell_type": "code",
   "execution_count": 4,
   "metadata": {
    "nbgrader": {
     "grade": true,
     "grade_id": "cell-3a68fb1816240298",
     "locked": true,
     "points": 1,
     "schema_version": 3,
     "solution": false,
     "task": false
    }
   },
   "outputs": [
    {
     "name": "stdout",
     "output_type": "stream",
     "text": [
      "---- Yay! All asserts passed ---- \n"
     ]
    }
   ],
   "source": [
    "assert _hash(employer.name) == 'aeb6411c48', 'Ops!! Did you set the name?'\n",
    "assert _hash(employer.age) == 'f4073f1323', 'Something is wrong with the age...'\n",
    "assert _hash(employer.company) == '656a034445', 'Ops!! Did you set the company as we said to?'\n",
    "assert _hash(employer.department) == 'f0f668e3a2', 'Where are the department?'\n",
    "assert _hash(employer.income) == 'f9ef548c29', 'Ops!! We are talking about money, right?'\n",
    "\n",
    "assert _hash(type(employer.age)) == 'd461979a1d', 'Are you sure that `age` is a numerical value?'\n",
    "assert _hash(type(employer.income)) == 'd461979a1d', 'Are you sure that `income` is a numerical value?'\n",
    "\n",
    "assert _hash(employer.presentation()) == 'e75d412926', \"Something going wrong with the presentation() method\"\n",
    "assert _hash(employer.show_income()) == '5f5cc6ca00', \"Something going wrong with the show_income() method\"\n",
    "\n",
    "print(\"---- Yay! All asserts passed ---- \")"
   ]
  },
  {
   "cell_type": "code",
   "execution_count": 5,
   "metadata": {
    "nbgrader": {
     "grade": false,
     "grade_id": "cell-67dec53e7ec3ec27",
     "locked": true,
     "schema_version": 3,
     "solution": false,
     "task": false
    }
   },
   "outputs": [
    {
     "name": "stdout",
     "output_type": "stream",
     "text": [
      "Hi, my name is Jim Halpert! I'm work at Dunder Mifflin Paper Company on the Sales department, nice to meet you.\n",
      "My salary is € 1200 per month\n"
     ]
    }
   ],
   "source": [
    "# Please dear employer, present yourself:\n",
    "print(employer.presentation())\n",
    "\n",
    "# And sorry for the indiscretion, but how much do they pay to you?\n",
    "print(employer.show_income())\n",
    "\n",
    "# Oh, ok, Thanks!"
   ]
  },
  {
   "cell_type": "markdown",
   "metadata": {
    "nbgrader": {
     "grade": false,
     "grade_id": "cell-88420631a4fd3d47",
     "locked": true,
     "schema_version": 3,
     "solution": false,
     "task": false
    }
   },
   "source": [
    "<img src=\"./assets/exe_01.jpg\" width=\"700\"/>"
   ]
  },
  {
   "cell_type": "markdown",
   "metadata": {
    "nbgrader": {
     "grade": false,
     "grade_id": "cell-10b1d6cce10341d5",
     "locked": true,
     "schema_version": 3,
     "solution": false,
     "task": false
    }
   },
   "source": [
    "### Exercise 2\n",
    "\n",
    "One of the mainly benefits of **Inheritance** is that we can create more complicated classes that inherit variables or methods from their **parent** classes. This saves us time and helps us build more complex objects, since these **child** classes can also include additional variables or methods. \n",
    "\n",
    "\n",
    "- Create another class, **which inherits `Worker`**, and call it `Manager`;\n",
    "- Define a new method `promote()` that will multiply the `income` **by** a (pseudo)random integer from 2 to 10; ❗\n",
    "- Then, implement an object called `boss` for a **\"Michael Scott\"**, **35** from **\"Management\"**;\n",
    "\n",
    "So, make sure that `boss` belongs to `Manager` class.\n",
    "\n",
    "❗ _use the **`get_random_number()`** function, already imported in the first line, for generating pseudo-random integers._ ❗"
   ]
  },
  {
   "cell_type": "code",
   "execution_count": 6,
   "metadata": {
    "nbgrader": {
     "grade": false,
     "grade_id": "cell-3dd201ca47eb5496",
     "locked": false,
     "schema_version": 3,
     "solution": true,
     "task": false
    }
   },
   "outputs": [],
   "source": [
    "# class Manager(...)\n",
    "### BEGIN SOLUTION\n",
    "class Manager(Worker):\n",
    "    \"\"\"\n",
    "    A new class representing a Manager\n",
    "    \"\"\"\n",
    "    \n",
    "    def promote(self):\n",
    "        self.income *= get_random_number(2, 10)\n",
    "### END SOLUTION"
   ]
  },
  {
   "cell_type": "code",
   "execution_count": 7,
   "metadata": {
    "nbgrader": {
     "grade": false,
     "grade_id": "cell-2fd3a21e9a9fb407",
     "locked": true,
     "schema_version": 3,
     "solution": false,
     "task": false
    },
    "scrolled": true
   },
   "outputs": [],
   "source": [
    "# Now let create our Manager, and call him a Boss!\n",
    "\n",
    "boss = Manager(name='Michael Scott',\n",
    "                  age=35, \n",
    "                  department='Management')"
   ]
  },
  {
   "cell_type": "code",
   "execution_count": 8,
   "metadata": {
    "nbgrader": {
     "grade": true,
     "grade_id": "cell-c4f20bb4fd2d42cf",
     "locked": true,
     "points": 1,
     "schema_version": 3,
     "solution": false,
     "task": false
    }
   },
   "outputs": [
    {
     "name": "stdout",
     "output_type": "stream",
     "text": [
      "Instance test: True | boss belongs to the Manager Child Class\n",
      "Instance test: True | boss belongs to the Worker Parent Class\n",
      "\n",
      "Type test: <class '__main__.Manager'> | boss is the type of Manager Class\n",
      "Type test: <class '__main__.Worker'> | employer is the type of Worker Class\n",
      "\n",
      "---- Well Done, all asserts passed ---- \n"
     ]
    }
   ],
   "source": [
    "assert _hash(boss.name) == '7d84d32222', 'Ops!! Did you changed something with the name?'\n",
    "assert _hash(boss.age) == '7d8e4de993', 'Ops!! Did you changed something with the age?'\n",
    "assert _hash(boss.company) == '656a034445', 'Ops! The company should not change'\n",
    "assert _hash(boss.department) == 'c24f31960b', 'Ops!! Did you changed something with the department?'\n",
    "\n",
    "# Now all our boss need is a promotion!\n",
    "# Let's promote him...\n",
    "boss.promote()\n",
    "assert _hash((boss.income >= (1200*2)) & (boss.income <= (1200*10))) == 'dd931fabaa', 'Ops! The promotion did not work'\n",
    "\n",
    "assert _hash(boss.presentation()) == '11be1d4ed9', 'Ops!! Did you changed something with the presentation() method?'\n",
    "assert _hash((isinstance(boss, Manager))) == 'dd931fabaa', 'boss must belong to the Manager Child Class'\n",
    "assert _hash((isinstance(boss, Worker))) == 'dd931fabaa', 'boss must belong to the Worker Parent Class'\n",
    "assert _hash((isinstance(employer, Worker))) == 'dd931fabaa', 'Did you changed something with our employer?'\n",
    "assert _hash((isinstance(employer, Manager))) == '3ab05b19da', 'Did you changed something with our employer?'\n",
    "\n",
    "# Well, take a look at these details!\n",
    "print(\"Instance test:\", isinstance(boss, Manager),'| boss belongs to the Manager Child Class')\n",
    "print(\"Instance test:\", isinstance(boss, Worker),'| boss belongs to the Worker Parent Class')\n",
    "print('')\n",
    "print(\"Type test:\", type(boss),'| boss is the type of Manager Class')\n",
    "print(\"Type test:\", type(employer),'| employer is the type of Worker Class')\n",
    "print('')\n",
    "print(\"---- Well Done, all asserts passed ---- \")"
   ]
  },
  {
   "cell_type": "code",
   "execution_count": 9,
   "metadata": {
    "nbgrader": {
     "grade": false,
     "grade_id": "cell-b3ddaffe46c72044",
     "locked": true,
     "schema_version": 3,
     "solution": false,
     "task": false
    }
   },
   "outputs": [
    {
     "data": {
      "text/plain": [
       "'My salary is € 2400 per month'"
      ]
     },
     "execution_count": 9,
     "metadata": {},
     "output_type": "execute_result"
    }
   ],
   "source": [
    "# Hello, amazing boss, can you also present yourself?\n",
    "boss.presentation()\n",
    "\n",
    "# I heard you were promoted, so tell me the news!\n",
    "boss.show_income()"
   ]
  },
  {
   "cell_type": "markdown",
   "metadata": {
    "nbgrader": {
     "grade": false,
     "grade_id": "cell-aed5a9a8196a5309",
     "locked": true,
     "schema_version": 3,
     "solution": false,
     "task": false
    }
   },
   "source": [
    "<img src=\"./assets/exe_02.jpg\" width=\"700\"/>\n",
    "\n",
    "***"
   ]
  },
  {
   "cell_type": "markdown",
   "metadata": {
    "nbgrader": {
     "grade": false,
     "grade_id": "cell-0fec0bbbf1da74d4",
     "locked": true,
     "schema_version": 3,
     "solution": false,
     "task": false
    }
   },
   "source": [
    "## Part 2\n",
    "\n",
    "### Exercise 3\n",
    "\n",
    "Now, let's take a look at these enchanted charms: \n",
    "\n",
    "<img src=\"./assets/spell.PNG\" width=\"700\"/>\n",
    "\n",
    "What's the **`parent`** class in this code above?\n",
    "\n",
    "Options:\n",
    "\n",
    "* a. Spell.\n",
    "* b. Hocus_Pocus.\n",
    "* c. Tontus_Talontus.\n",
    "* d. put_spell.\n",
    "\n",
    "Write the letter with the **correct answer** to a variable called **`answer_3`** as a string, for example:\n",
    "\n",
    "    answer_3 = 'c'\n",
    "\n",
    "⚠️ **Note:** _try to think before writing anything. If you don't know the right answer, check the learning material._ ⚠️\n",
    "\n",
    "But please try not to guess the answer by testing the function itself (**don't call it**).\n",
    "\n",
    "_You're learning it for yourself, not for correct answers or some grades!_ 🙂"
   ]
  },
  {
   "cell_type": "code",
   "execution_count": 10,
   "metadata": {
    "nbgrader": {
     "grade": false,
     "grade_id": "cell-cd3f8ea886177e3f",
     "locked": false,
     "schema_version": 3,
     "solution": true,
     "task": false
    }
   },
   "outputs": [],
   "source": [
    "# answer_3 = ''\n",
    "\n",
    "### BEGIN SOLUTION\n",
    "# the answer is going to be 'a', the parent is Spell class\n",
    "# because the Hocus_Pocus and Tontus_Talontus are classes\n",
    "# created from Spell's attributes (they inherit its traits)\n",
    "\n",
    "answer_3 = 'a'\n",
    "### END SOLUTION"
   ]
  },
  {
   "cell_type": "markdown",
   "metadata": {
    "nbgrader": {
     "grade": false,
     "grade_id": "cell-ba30f60d57f3e061",
     "locked": true,
     "schema_version": 3,
     "solution": false,
     "task": false
    }
   },
   "source": [
    "### Exercise 4\n",
    "\n",
    "Which option is correct about the **`child`** class in this code above?\n",
    "\n",
    "Options:\n",
    "\n",
    "* a. Spell.\n",
    "* d. Hocus_Pocus.\n",
    "* c. Tontus_Talontus.\n",
    "* d. Spell and Hocus_Pocus.\n",
    "* e. Hocus_Pocus and Tontus_Talontus.\n",
    "* f. Tontus_Talontus and Spell.\n",
    "\n",
    "Save the answer in a variable called **`answer_4`**. Example:\n",
    "\n",
    "    answer_4 = 'c'"
   ]
  },
  {
   "cell_type": "code",
   "execution_count": 11,
   "metadata": {
    "nbgrader": {
     "grade": false,
     "grade_id": "cell-34c6856836b6fe52",
     "locked": false,
     "schema_version": 3,
     "solution": true,
     "task": false
    }
   },
   "outputs": [],
   "source": [
    "# answer_4 = ''\n",
    "\n",
    "### BEGIN SOLUTION\n",
    "# the answer is going to be 'e', \n",
    "# the child classes are Hocus_Pocus and Tontus_Talontus\n",
    "# which are created inheriting Spell class attributes\n",
    "\n",
    "answer_4 = 'e'\n",
    "### END SOLUTION"
   ]
  },
  {
   "cell_type": "markdown",
   "metadata": {
    "nbgrader": {
     "grade": false,
     "grade_id": "cell-c6cb4700efa1e34f",
     "locked": true,
     "schema_version": 3,
     "solution": false,
     "task": false
    }
   },
   "source": [
    "### Exercise 5\n",
    "\n",
    "What's the output of the following line?\n",
    "\n",
    "**`put_spell(Tontus_Talontus())`**\n",
    "\n",
    "Options:\n",
    "\n",
    "* a. `'Pocus Charm | Hocus Pocus | Causes the victim to become confused and dizzy'` will be printed.\n",
    "* b. `'Pocus Charm | Hocus Pocus | No description'` will be printed.\n",
    "* c. Nothing. The code is not valid.\n",
    "* d. `'Tontus Charm | Tontus_Talontus | Causes the victim to become confused and dizzy'` will be printed.\n",
    "* e. `'Tontus Charm | Tontus_Talontus | No description'` will be printed.\n",
    "\n",
    "Save the answer in a variable called **`answer_5`**. Example:\n",
    "\n",
    "    answer_5 = 'c'"
   ]
  },
  {
   "cell_type": "code",
   "execution_count": 12,
   "metadata": {
    "nbgrader": {
     "grade": false,
     "grade_id": "cell-f7d2eb502855efb2",
     "locked": false,
     "schema_version": 3,
     "solution": true,
     "task": false
    }
   },
   "outputs": [],
   "source": [
    "# answer_5 = ''\n",
    "\n",
    "### BEGIN SOLUTION\n",
    "# the answer is going to be 'd', \n",
    "# the method `put_spell` get an Spell as input\n",
    "# and just print the Spell detail, which returns\n",
    "# a string concatenation for Spell's name, charm and description.\n",
    "\n",
    "answer_5 = 'd'\n",
    "### END SOLUTION"
   ]
  },
  {
   "cell_type": "markdown",
   "metadata": {
    "nbgrader": {
     "grade": false,
     "grade_id": "cell-a8b2f784250a44d1",
     "locked": true,
     "schema_version": 3,
     "solution": false,
     "task": false
    }
   },
   "source": [
    "### Exercise 6\n",
    "\n",
    "What's the output of the following lines?\n",
    "\n",
    "**`spell = Hocus_Pocus()\n",
    "put_spell(spell)`**\n",
    "\n",
    "Options:\n",
    "\n",
    "* a. `'Pocus Charm | Hocus Pocus | Causes the victim to become confused and dizzy'` will be printed.\n",
    "* b. `'Pocus Charm | Hocus Pocus | No description'` will be printed.\n",
    "* c. Nothing. The code is not valid.\n",
    "* d. `'Tontus Charm | Tontus_Talontus | Causes the victim to become confused and dizzy'` will be printed.\n",
    "* e. `'Tontus Charm | Tontus_Talontus | No description'` will be printed.\n",
    "\n",
    "Save the answer in a variable called **`answer_6`**. Example:\n",
    "\n",
    "    answer_6 = 'c'"
   ]
  },
  {
   "cell_type": "code",
   "execution_count": 13,
   "metadata": {
    "nbgrader": {
     "grade": false,
     "grade_id": "cell-7e7cf3b638acec98",
     "locked": false,
     "schema_version": 3,
     "solution": true,
     "task": false
    }
   },
   "outputs": [],
   "source": [
    "# answer_6 = ''\n",
    "\n",
    "### BEGIN SOLUTION\n",
    "# the answer is going to be 'b',\n",
    "# because the Hocus_Pocus class does not have\n",
    "# its own get_description() implemented, \n",
    "# so it'll use the method from parent class\n",
    "\n",
    "answer_6 = 'b'\n",
    "### END SOLUTION"
   ]
  },
  {
   "cell_type": "code",
   "execution_count": 14,
   "metadata": {
    "nbgrader": {
     "grade": true,
     "grade_id": "cell-47eb6eb6bd431088",
     "locked": true,
     "points": 2,
     "schema_version": 3,
     "solution": false,
     "task": false
    }
   },
   "outputs": [
    {
     "name": "stdout",
     "output_type": "stream",
     "text": [
      "---- all asserts passed ---- \n"
     ]
    }
   ],
   "source": [
    "assert isinstance(answer_3, str), 'The answer should be a string'\n",
    "assert isinstance(answer_4, str), 'The answer should be a string'\n",
    "assert isinstance(answer_5, str), 'The answer should be a string'\n",
    "assert isinstance(answer_6, str), 'The answer should be a string'\n",
    "\n",
    "answers = [answer_3, answer_4, answer_5, answer_6]\n",
    "assert _hash(answers) == 'a437db6d5b', 'Oops. One or more answers are not correct! Try it again! :)'\n",
    "\n",
    "print(\"---- all asserts passed ---- \")"
   ]
  },
  {
   "cell_type": "markdown",
   "metadata": {
    "nbgrader": {
     "grade": false,
     "grade_id": "cell-e566343f1542e3f7",
     "locked": true,
     "schema_version": 3,
     "solution": false,
     "task": false
    }
   },
   "source": [
    "<img src=\"./assets/hocus_pocus.jpg\" width=\"500\"/>"
   ]
  },
  {
   "cell_type": "markdown",
   "metadata": {
    "nbgrader": {
     "grade": false,
     "grade_id": "cell-889c4f738ce52759",
     "locked": true,
     "schema_version": 3,
     "solution": false,
     "task": false
    }
   },
   "source": [
    "Do you know another better way to get more practice with **OOP Inheritance** besides biology?\n",
    "\n",
    "_Yeap... Exactly with Math (and geometry)!_ 📐\n",
    "\n",
    "### Exercise 7\n",
    "\n",
    "Start by creating a new class `Rectangle` with the following:\n",
    "+ Attributes\n",
    "    - **length**: float\n",
    "    - **width**: float\n",
    "    \n",
    "    \n",
    "+ Methods\n",
    "    - `get_area()`: returns the product of the rectangle **length** with **width**\n",
    "    - `get_perimeter()`: returns the sum of double the **lenght** and double the **width**"
   ]
  },
  {
   "cell_type": "code",
   "execution_count": 15,
   "metadata": {
    "nbgrader": {
     "grade": false,
     "grade_id": "cell-e1f05519ef39b0f6",
     "locked": false,
     "schema_version": 3,
     "solution": true,
     "task": false
    }
   },
   "outputs": [],
   "source": [
    "# class Rectangle():\n",
    "\n",
    "### BEGIN SOLUTION\n",
    "class Rectangle():\n",
    "    def __init__(self, length, width):\n",
    "        self.length = length\n",
    "        self.width = width\n",
    "\n",
    "    def get_area(self):\n",
    "        return self.length * self.width\n",
    "\n",
    "    def get_perimeter(self):\n",
    "        return 2 * self.length + 2 * self.width\n",
    "### END SOLUTION"
   ]
  },
  {
   "cell_type": "code",
   "execution_count": 16,
   "metadata": {
    "nbgrader": {
     "grade": true,
     "grade_id": "cell-c0da80882a9d38bc",
     "locked": true,
     "points": 2,
     "schema_version": 3,
     "solution": false,
     "task": false
    },
    "scrolled": true
   },
   "outputs": [
    {
     "name": "stdout",
     "output_type": "stream",
     "text": [
      "Retangle Area: 479.76439999999997 | The Area is correct!\n",
      "Retangle Perimeter: 90.3 | The Perimeter is correct!\n",
      "\n",
      "---- UhuuuuL! all asserts passed ---- \n"
     ]
    }
   ],
   "source": [
    "# considering a 28,04 m by 17,11 m rectangle:\n",
    "r = Rectangle(length=28.04, width=17.11)\n",
    "\n",
    "assert math.isclose(r.get_area(), 479.765, abs_tol=0.001), 'Area computation is not correct!'\n",
    "assert math.isclose(r.get_perimeter(), 90.300, abs_tol=0.001), 'Perimeter computation is not correct!'\n",
    "assert _hash(type(r)) == 'f533583264', 'You should implement a Rectangle Class!'\n",
    "\n",
    "print(\"Retangle Area:\", r.get_area(),'| The Area is correct!')\n",
    "print(\"Retangle Perimeter:\", r.get_perimeter(),'| The Perimeter is correct!')\n",
    "print('')\n",
    "print(\"---- UhuuuuL! all asserts passed ---- \")"
   ]
  },
  {
   "cell_type": "markdown",
   "metadata": {
    "nbgrader": {
     "grade": false,
     "grade_id": "cell-d4d7a73e1d86f888",
     "locked": true,
     "schema_version": 3,
     "solution": false,
     "task": false
    }
   },
   "source": [
    "### Exercise 8\n",
    "\n",
    "Now, let's implement another object:\n",
    "\n",
    "- Create a `Square` class, as a **child** of the `Rectangle` class. \n",
    "\n",
    "- Change **only** the `__init__()` method in a way that now it **only** accepts one argument **`side`**. \n",
    "\n",
    "- You can call the `__init__()` method from the **parent** class and assign both **`length`** and **`width`** to be equal to **`side`**"
   ]
  },
  {
   "cell_type": "code",
   "execution_count": 17,
   "metadata": {
    "nbgrader": {
     "grade": false,
     "grade_id": "cell-9262f02e916a66f1",
     "locked": false,
     "schema_version": 3,
     "solution": true,
     "task": false
    }
   },
   "outputs": [],
   "source": [
    "# class Square(...)\n",
    "### BEGIN SOLUTION\n",
    "class Square(Rectangle):\n",
    "    def __init__(self, side):\n",
    "        super().__init__(length=side, width=side)\n",
    "### END SOLUTION"
   ]
  },
  {
   "cell_type": "code",
   "execution_count": 18,
   "metadata": {
    "nbgrader": {
     "grade": true,
     "grade_id": "cell-0d959343e7bd5637",
     "locked": true,
     "points": 1,
     "schema_version": 3,
     "solution": false,
     "task": false
    }
   },
   "outputs": [
    {
     "name": "stdout",
     "output_type": "stream",
     "text": [
      "Square Area: 786.2416 | The Area is correct!\n",
      "Square Perimeter: 112.16 | The Perimeter is correct!\n",
      "\n",
      "---- all asserts passed ---- \n"
     ]
    }
   ],
   "source": [
    "# considering a 28,04 m by 28,04 m square:\n",
    "s = Square(side=28.04)\n",
    "\n",
    "assert math.isclose(s.get_area(), 786.241, abs_tol=0.001), 'Area computation is not correct!'\n",
    "assert math.isclose(s.get_perimeter(), 112.16, abs_tol=0.001), 'Perimeter computation is not correct!'\n",
    "\n",
    "error_message = 'Did you use the super() function?'\n",
    "assert 'self.width' not in inspect.getsource(Square.__init__), error_message\n",
    "assert 'self.length' not in inspect.getsource(Square.__init__), error_message\n",
    "assert \"super().\" in inspect.getsource(Square.__init__), error_message\n",
    "\n",
    "error_message =  'Do not re-implement the methods, use the ones from the Rectangle :)'\n",
    "assert 'self.length' in inspect.getsource(Square.get_area), error_message\n",
    "assert 'self.width' in inspect.getsource(Square.get_area),  error_message\n",
    "assert 'self.length' in inspect.getsource(Square.get_perimeter), error_message\n",
    "assert 'self.width' in inspect.getsource(Square.get_perimeter), error_message\n",
    "\n",
    "\n",
    "print(\"Square Area:\", s.get_area(),'| The Area is correct!')\n",
    "print(\"Square Perimeter:\", s.get_perimeter(),'| The Perimeter is correct!')\n",
    "print('')\n",
    "print(\"---- all asserts passed ---- \")"
   ]
  },
  {
   "cell_type": "markdown",
   "metadata": {
    "nbgrader": {
     "grade": false,
     "grade_id": "cell-74b8cff6a547f994",
     "locked": true,
     "schema_version": 3,
     "solution": false,
     "task": false
    }
   },
   "source": [
    "### Exercise 9\n",
    "\n",
    "Create a new class `Triangle`, independent from the other classes:\n",
    "\n",
    "+ Attributes\n",
    "    - **base**: float\n",
    "    - **height**: float\n",
    "    \n",
    "    \n",
    "+ Methods\n",
    "    - `get_tri_area()` which calculates the area of the triangle (do you remember the formula? 🤓)"
   ]
  },
  {
   "cell_type": "code",
   "execution_count": 19,
   "metadata": {
    "nbgrader": {
     "grade": false,
     "grade_id": "cell-361d990792a542f3",
     "locked": false,
     "schema_version": 3,
     "solution": true,
     "task": false
    }
   },
   "outputs": [],
   "source": [
    "# class Triangle():\n",
    "\n",
    "### BEGIN SOLUTION\n",
    "class Triangle():\n",
    "    def __init__(self, base, height):\n",
    "        self.base = base\n",
    "        self.height = height\n",
    "\n",
    "    def get_tri_area(self):\n",
    "        return 0.5 * self.base * self.height\n",
    "### END SOLUTION"
   ]
  },
  {
   "cell_type": "code",
   "execution_count": 20,
   "metadata": {
    "nbgrader": {
     "grade": true,
     "grade_id": "cell-a0f3c54e307aeee9",
     "locked": true,
     "points": 1,
     "schema_version": 3,
     "solution": false,
     "task": false
    }
   },
   "outputs": [
    {
     "name": "stdout",
     "output_type": "stream",
     "text": [
      "Triangle Area: 238.0 | The Area is correct!\n",
      "\n",
      "---- all asserts passed ---- \n"
     ]
    }
   ],
   "source": [
    "# considering a 28 m by 17 m triangle:\n",
    "t = Triangle(base=28, height=17)\n",
    "\n",
    "assert math.isclose(t.get_tri_area(), 238, abs_tol=0.001), 'The area of the triangle is miscalculated!'\n",
    "\n",
    "print(\"Triangle Area:\", t.get_tri_area(),'| The Area is correct!')\n",
    "print('')\n",
    "print(\"---- all asserts passed ---- \")"
   ]
  },
  {
   "cell_type": "markdown",
   "metadata": {
    "nbgrader": {
     "grade": false,
     "grade_id": "cell-987a4c76dceed9a1",
     "locked": true,
     "schema_version": 3,
     "solution": false,
     "task": false
    }
   },
   "source": [
    "### Exercise 10\n",
    "\n",
    "Now for the `RightPyramid` class, create methods that compute the area of this geometric solid using both the `Square` and `Triangle` classes as **parents**.\n",
    "\n",
    "**Override** the `get_area()` method in order to compute the equation of the **RightPyramid area**. \n",
    "\n",
    "🌟 **Hint:** _use the `super()` function to  make everything easier._ 🌟\n",
    "\n",
    "So, you're in luck, geometry is not the subject for this SLU! Here are the formulas that you need:\n",
    "\n",
    "* The area of a Right Pyramid is equal to the sum of the base_area with the its lateral_area.\n",
    "* The Lateral area can be computed as the next image shows (1/2 * perimeter * slant_height)\n",
    "\n",
    "<img src=\"assets/pyramid_lateral_area.jpg\" width=\"500\"/>\n",
    "\n",
    "Other options do exist to compute the lateral area, like using the **triangle area**. Feel free to use what is easier for you as **this is about python, not geometry!**\n",
    "\n",
    "+ Attributes:\n",
    "    - **square_side** (this is equivalent to one side of the square base, just like the previous exercises. So, base is also equal to 1/4 of the perimeter `p` of the square base of the pyramid)\n",
    "    - **slant_height**\n",
    "    \n",
    "    \n",
    "+ Methods:\n",
    "    - `get_area()`"
   ]
  },
  {
   "cell_type": "code",
   "execution_count": 21,
   "metadata": {
    "nbgrader": {
     "grade": false,
     "grade_id": "cell-18e78aa00977daf8",
     "locked": false,
     "schema_version": 3,
     "solution": true,
     "task": false
    }
   },
   "outputs": [],
   "source": [
    "# class RightPyramid(...)\n",
    "### BEGIN SOLUTION\n",
    "class RightPyramid(Square, Triangle):\n",
    "    def __init__(self, square_side, slant_height):\n",
    "        self.square_side = square_side\n",
    "        self.slant_height = slant_height\n",
    "        self.height = slant_height\n",
    "        self.length = square_side\n",
    "        super().__init__(self.square_side)\n",
    "\n",
    "    def get_area(self):\n",
    "        base_area = super().get_area()\n",
    "        perimeter = super().get_perimeter()\n",
    "        return 0.5 * perimeter * self.slant_height + base_area\n",
    "\n",
    "# alternative solution:    \n",
    "#     def get_area(self):\n",
    "#         base_area = super().get_area()\n",
    "#         triangle_area = super().get_tri_area()\n",
    "#         return triangle_area * 4 + base_area    \n",
    "### END SOLUTION"
   ]
  },
  {
   "cell_type": "code",
   "execution_count": 22,
   "metadata": {
    "nbgrader": {
     "grade": true,
     "grade_id": "cell-7a3b92fb1669680d",
     "locked": true,
     "points": 3,
     "schema_version": 3,
     "solution": false,
     "task": false
    }
   },
   "outputs": [
    {
     "name": "stdout",
     "output_type": "stream",
     "text": [
      "Right Pyramid Area: 1241.0 | The Area is correct!\n",
      "\n",
      "---- all asserts passed ---- \n"
     ]
    }
   ],
   "source": [
    "# Creating one Right Pyramid, right now!\n",
    "rp = RightPyramid(square_side=17, slant_height=28)\n",
    "\n",
    "\n",
    "assert isinstance(rp, RightPyramid), 'ops, are you sure it is a right pyramid object?'\n",
    "assert isinstance(rp, Square), 'Probably your class is not properly defined, should be a child class of the Square class'\n",
    "assert isinstance(rp, Triangle), 'Probably your class is not properly defined, should be a child class of the Triangle class'\n",
    "\n",
    "error_message = 'Did you use the super approach?'\n",
    "assert 'super()' in inspect.getsource(rp.__init__), error_message\n",
    "assert 'super()' in inspect.getsource(rp.get_area), error_message\n",
    "\n",
    "assert math.isclose(rp.get_area(), 1241, abs_tol=0.001), 'The area of the right pyramid is miscalculated!'\n",
    "\n",
    "print(\"Right Pyramid Area:\", rp.get_area(),'| The Area is correct!')\n",
    "print('')\n",
    "print(\"---- all asserts passed ---- \")"
   ]
  },
  {
   "cell_type": "markdown",
   "metadata": {
    "nbgrader": {
     "grade": false,
     "grade_id": "cell-457fdaec685c46a0",
     "locked": true,
     "schema_version": 3,
     "solution": false,
     "task": false
    }
   },
   "source": [
    "Feeling of the day:\n",
    "<img src=\"assets/calculus.png\" width=\"500\"/>\n",
    "\n",
    "***"
   ]
  },
  {
   "cell_type": "markdown",
   "metadata": {
    "nbgrader": {
     "grade": false,
     "grade_id": "cell-aa3d24a15a390c12",
     "locked": true,
     "schema_version": 3,
     "solution": false,
     "task": false
    }
   },
   "source": [
    "## Part 3\n",
    "\n",
    "Uhuuul! 🎉 This is the last part of this notebook exercise! And you're rocking it! 🤘🤘🏻🤘🏼🤘🏽🤘🏾🤘🏿\n",
    "\n",
    "\n",
    "\n",
    "In the following exercice the goal it is to create a **BankAccount program**, composed by **one grand-parent class**, **one parent class** and **one child class**, in order to manage the clients accounts. This is the general idea:\n",
    "\n",
    "<img src=\"assets/exe_08.jpeg\" width=\"600\"/>\n",
    "\n",
    "\n",
    "\n",
    "### Exercise 11\n",
    "\n",
    "First things first, the `BankAccount` class:\n",
    "\n",
    "+ Attributes\n",
    "    - **customer**\n",
    "    - **number**\n",
    "    - **balance** with default value of 0 (zero) but passed as an argument anyway (you'll need it for **Ex.9** and **Ex.10**)\n",
    "    - **currency** variable is always € (no need to pass it as an argument)\n",
    "    \n",
    "    \n",
    "+ Methods\n",
    "    - `deposit()`: \n",
    "        * Deposit **amount** into the bank account. (increase the balance)\n",
    "        * If the **amount** is invalid (< 0) it should `return` an alert message to the user\n",
    "        \n",
    "      ⚠️ **Warning**: it should not deduce the amount and `return`, such as **`Invalid deposit amount`** message. <br><br>\n",
    "    - `withdraw()`:\n",
    "        * Withdraw **amount** from the bank account. (decrease the balance)\n",
    "        * This method must ensure that the account has sufficient funds for the asked **amount**. \n",
    "        \n",
    "      ⚠️ **Warning**: Again, it should be > 0 and also `return` an alert if the value is less than zero or if it's bigger than the current balance \n",
    "      \n",
    "      (a.k.a **`Invalid withdraw amount`** message) <br><br>\n",
    "    - `check_balance()`: `print()` a statement of the account balance, example **`\"The balance of account number 48522888 is €1000\"`**"
   ]
  },
  {
   "cell_type": "code",
   "execution_count": 23,
   "metadata": {
    "nbgrader": {
     "grade": false,
     "grade_id": "cell-aec63d5088ce5f30",
     "locked": false,
     "schema_version": 3,
     "solution": true,
     "task": false
    }
   },
   "outputs": [],
   "source": [
    "class BankAccount:\n",
    "    \"\"\"\n",
    "    Abstract base class representing a bank account\n",
    "    \"\"\"\n",
    "    ### BEGIN SOLUTION\n",
    "    def __init__(self, customer, number, balance=0):\n",
    "        \"\"\"\n",
    "        Initialize the BankAccount class with a customer, \n",
    "        number and opening balance (default value of 0)\n",
    "        \"\"\"\n",
    "        self.customer = customer\n",
    "        self.number = number\n",
    "        self.balance = balance\n",
    "        self.currency = '€'\n",
    "        \n",
    "    def deposit(self, amount):\n",
    "        \"\"\"\n",
    "        Deposit amount into the bank account\n",
    "        \"\"\"\n",
    "        if amount > 0:\n",
    "            self.balance += amount\n",
    "        else:\n",
    "            return 'Invalid deposit amount:' + str(amount)\n",
    "            \n",
    "    def withdraw(self, amount):\n",
    "        \"\"\"\n",
    "        Withdraw amount from the bank account, \n",
    "        ensuring that are sufficient funds\n",
    "        \"\"\"\n",
    "        if amount > 0:\n",
    "            if amount > self.balance:\n",
    "                return 'Insufficient funds!'\n",
    "            else:\n",
    "                self.balance -= amount\n",
    "        else:\n",
    "            return 'Invalid withdrawal amount:' + str(amount)\n",
    "            \n",
    "    def check_balance(self):\n",
    "        \"\"\"\n",
    "        Print a statement of the account balance\n",
    "        \"\"\"\n",
    "        return 'The balance of account number ' + str(self.number) + ' is ' + str(self.currency) + ' ' + str(self.balance)\n",
    "    ### END SOLUTION"
   ]
  },
  {
   "cell_type": "code",
   "execution_count": 24,
   "metadata": {
    "nbgrader": {
     "grade": true,
     "grade_id": "cell-5fb3aa9dc9bb6e4c",
     "locked": true,
     "points": 2,
     "schema_version": 3,
     "solution": false,
     "task": false
    }
   },
   "outputs": [
    {
     "name": "stdout",
     "output_type": "stream",
     "text": [
      "The account for Dwight Schrute was successfully created. \n",
      "His account number is 21457666 and for now his account is empty.\n",
      "\n",
      "---- Horay! All asserts passed ---- \n"
     ]
    }
   ],
   "source": [
    "# Now, let's create our account!\n",
    "account = BankAccount(customer='Dwight Schrute', number=21457666)\n",
    "\n",
    "assert isinstance(account, BankAccount), 'Your class is not properly defined'\n",
    "assert account.number == 21457666, 'You have to define an \"number\" attribute for your class!'\n",
    "assert _hash(account.customer) == 'dd1e4dfba6', 'You have to define a \"customer\" attribute for your class!'\n",
    "assert account.balance == 0, 'The default value of \"balance\" should be 0!'\n",
    "assert 'balance=0' in inspect.getsource(account.__init__), 'balance=0 must be passed as an argument anyway'\n",
    "assert account.currency == '€', 'Currency symbol is not working... Did you change the existing line?'\n",
    "\n",
    "print(\"The account for %s was successfully created. \\nHis account number is %s and for now his account is empty.\"\n",
    "     % (account.customer, account.number))\n",
    "print('')\n",
    "print(\"---- Horay! All asserts passed ---- \")"
   ]
  },
  {
   "cell_type": "code",
   "execution_count": 25,
   "metadata": {
    "nbgrader": {
     "grade": true,
     "grade_id": "cell-f8e3492932f9b714",
     "locked": true,
     "points": 1,
     "schema_version": 3,
     "solution": false,
     "task": false
    }
   },
   "outputs": [
    {
     "name": "stdout",
     "output_type": "stream",
     "text": [
      "Dwight Schrute just made a deposit of €25'000. \n",
      "His new account balance is: €25000\n",
      "\n",
      "---- Yeah! all asserts passed ---- \n"
     ]
    }
   ],
   "source": [
    "# Let's deposit that big, fat check! \n",
    "account.deposit(amount=25000)\n",
    "\n",
    "assert account.balance == 25000, 'Your balance, after making a deposit should change!'\n",
    "\n",
    "print(\"%s just made a deposit of €25'000. \\nHis new account balance is: %s%s\"\n",
    "      %(account.customer, account.currency, account.balance))\n",
    "print('')\n",
    "print(\"---- Yeah! all asserts passed ---- \")"
   ]
  },
  {
   "cell_type": "code",
   "execution_count": 26,
   "metadata": {
    "nbgrader": {
     "grade": true,
     "grade_id": "cell-a12d39bd6fbae5c7",
     "locked": true,
     "points": 1,
     "schema_version": 3,
     "solution": false,
     "task": false
    }
   },
   "outputs": [
    {
     "name": "stdout",
     "output_type": "stream",
     "text": [
      "Dwight Schrute bought the best fertilizers for his beet production. \n",
      "His new account balance is: €22750\n",
      "\n",
      "---- Yoooo! all asserts passed ---- \n"
     ]
    }
   ],
   "source": [
    "# And then just go shopping\n",
    "# online... better be online, right?!\n",
    "\n",
    "account.withdraw(amount=2250)\n",
    "\n",
    "assert account.balance == 22750, 'Your balance, after making a withdrawal should change or it is not correct!'\n",
    "\n",
    "print(\"%s bought the best fertilizers for his beet production. \\nHis new account balance is: %s%s\"\n",
    "      %(account.customer, account.currency, account.balance))\n",
    "print('')\n",
    "print(\"---- Yoooo! all asserts passed ---- \")"
   ]
  },
  {
   "cell_type": "code",
   "execution_count": 27,
   "metadata": {
    "nbgrader": {
     "grade": true,
     "grade_id": "cell-aaeb81da6d6cc191",
     "locked": true,
     "points": 1,
     "schema_version": 3,
     "solution": false,
     "task": false
    }
   },
   "outputs": [
    {
     "name": "stdout",
     "output_type": "stream",
     "text": [
      "---- Amaaazing! all asserts passed ---- \n"
     ]
    }
   ],
   "source": [
    "# checking the returned message for invalid deposit/withdraw:\n",
    "assert type(account.deposit(-10)) == str, 'Are you returning a string message for invalid deposit?'\n",
    "assert type(account.withdraw(-10)) == str, 'Are you returning a string message for invalid withdraw?'\n",
    "\n",
    "# Finally let's ensure that your program does not accept invalid operations:\n",
    "account.deposit(amount=-10)\n",
    "assert account.balance == 22750, 'Your balance, after making an invalid deposit should not change!'\n",
    "account.withdraw(amount=-10)\n",
    "assert account.balance == 22750, 'Your balance, after making an invalid withdraw should not change!'\n",
    "\n",
    "print(\"---- Amaaazing! all asserts passed ---- \")"
   ]
  },
  {
   "cell_type": "markdown",
   "metadata": {
    "nbgrader": {
     "grade": false,
     "grade_id": "cell-9adfd3c5630f4324",
     "locked": true,
     "schema_version": 3,
     "solution": false,
     "task": false
    }
   },
   "source": [
    "### Exercise 12\n",
    "\n",
    "Now we need to implement the `CheckingAccount` class, as a **child class** of `BankAccount`, that has a similar structure of the previous exercise:\n",
    "\n",
    "+ Attributes:\n",
    "    - **annual_fee**\n",
    "    - **withdraw_limit**\n",
    "    - All the BankAccount attributes\n",
    "    \n",
    "    \n",
    "+ Methods:\n",
    "    - `withdraw()`: \n",
    "        **override** the **parent class** method and create an `if` clause with an extra condition, in order to limit the possible amount that a person can withdraw daily.<br><Br>\n",
    "        \n",
    "    - `charge_fee()`: \n",
    "        Deduct the annual fee from the account balance, making sure that the account **never goes negative**! \n",
    "    \n",
    "       🌟 **Hint:** use python's `max()` function 🌟"
   ]
  },
  {
   "cell_type": "code",
   "execution_count": 28,
   "metadata": {
    "nbgrader": {
     "grade": false,
     "grade_id": "cell-6d21acc19869fec0",
     "locked": false,
     "schema_version": 3,
     "solution": true,
     "task": false
    }
   },
   "outputs": [],
   "source": [
    "# class CheckingAccount(...)\n",
    "### BEGIN SOLUTION\n",
    "class CheckingAccount(BankAccount):\n",
    "    \"\"\"\n",
    "    A class representing a checking account\n",
    "    \"\"\"\n",
    "    def __init__(self, customer, number, annual_fee,\n",
    "                withdraw_limit, balance=0):\n",
    "        \"\"\"\n",
    "        Initialize checking account\n",
    "        \"\"\"\n",
    "        self.annual_fee = annual_fee\n",
    "        self.withdraw_limit = withdraw_limit\n",
    "        super().__init__(customer, number, balance)\n",
    "        \n",
    "    def withdraw(self, amount):\n",
    "        \"\"\"\n",
    "        Withdraw amount if sufficient funds exist and amount is less\n",
    "        than the single withdraw limit\n",
    "        \"\"\"\n",
    "        if amount > self.balance:\n",
    "            return 'Insufficient funds'\n",
    "        \n",
    "        elif amount > self.withdraw_limit:\n",
    "            return 'Exceeds the single withdraw limit!'\n",
    "\n",
    "        elif amount < 0:\n",
    "            return 'Invalid withdrawal amount:' + str(amount)\n",
    "            \n",
    "        else: self.balance -= amount  \n",
    "    \n",
    "    def charge_fee(self):\n",
    "        \"\"\"\n",
    "        Deduct the annual fee from the account balance\n",
    "        \"\"\"        \n",
    "        self.balance = max(0., self.balance - self.annual_fee)\n",
    "        \n",
    "### END SOLUTION"
   ]
  },
  {
   "cell_type": "code",
   "execution_count": 29,
   "metadata": {
    "nbgrader": {
     "grade": true,
     "grade_id": "cell-4f6963493a0e8fe9",
     "locked": true,
     "points": 1,
     "schema_version": 3,
     "solution": false,
     "task": false
    }
   },
   "outputs": [
    {
     "name": "stdout",
     "output_type": "stream",
     "text": [
      "---- Weee! all asserts passed ---- \n",
      "\n",
      "Now, the new cheking account for Dwight Schrute was successfully created. \n",
      "His account number is 21457666 and for now his account is empty.\n"
     ]
    }
   ],
   "source": [
    "# Updating our account to be a Checking Account\n",
    "cheking_account = CheckingAccount(customer='Dwight Schrute', number=21457666, annual_fee=20., withdraw_limit=200)\n",
    "\n",
    "assert isinstance(cheking_account, CheckingAccount) == True, 'Your class is not properly defined'\n",
    "assert isinstance(cheking_account, BankAccount) == True, 'Your class has no relation with the BankAccount class'\n",
    "\n",
    "assert cheking_account.number == 21457666, 'You have to define an \"number\" attribute for your class!'\n",
    "assert _hash(cheking_account.customer) == 'dd1e4dfba6', 'You have to define a \"customer\" attribute for your class!'\n",
    "assert cheking_account.balance == 0, 'The default value of \"balance\" should be 0!'\n",
    "assert cheking_account.currency == '€', 'Currency symbol is not working... Did you changed the existing line?'\n",
    "assert cheking_account.annual_fee == 20, 'You have to define a \"annual fee\" attribute for your class!'\n",
    "\n",
    "\n",
    "print(\"---- Weee! all asserts passed ---- \")\n",
    "print('')\n",
    "print(\"Now, the new cheking account for %s was successfully created. \\nHis account number is %s and for now his account is empty.\"\n",
    "     % (cheking_account.customer, cheking_account.number))"
   ]
  },
  {
   "cell_type": "code",
   "execution_count": 30,
   "metadata": {
    "nbgrader": {
     "grade": true,
     "grade_id": "cell-8f5b292e2c0a7fc0",
     "locked": true,
     "points": 1,
     "schema_version": 3,
     "solution": false,
     "task": false
    }
   },
   "outputs": [
    {
     "name": "stdout",
     "output_type": "stream",
     "text": [
      "---- Great!! all asserts passed ---- \n",
      "\n",
      "The balance of account number 21457666 is € 730.0\n",
      "Applying annual fee and...\n",
      "The balance of account number 21457666 is € 710.0\n"
     ]
    }
   ],
   "source": [
    "#Let's do something crazy! Witdhraw more than balance...\n",
    "cheking_account.withdraw(amount=220)\n",
    "\n",
    "assert cheking_account.balance == 0, \"The created current account must not authorize withdraws when the amount is higher than the account balance\"\n",
    "\n",
    "# Making a new deposit and checking balance:\n",
    "cheking_account.deposit(amount=750)\n",
    "cheking_account.check_balance()\n",
    "assert cheking_account.balance == 750, 'Ops! Did you change something on deposit() method?'\n",
    "\n",
    "# Another withdraw that should be blocked by withdraw limit:\n",
    "cheking_account.withdraw(amount=220)\n",
    "assert cheking_account.balance == 750\n",
    "\n",
    "# Charge current account annual fee:\n",
    "cheking_account.charge_fee()\n",
    "assert cheking_account.balance == 730\n",
    "\n",
    "print(\"---- Great!! all asserts passed ---- \")\n",
    "print('')\n",
    "print(cheking_account.check_balance())\n",
    "print('Applying annual fee and...')\n",
    "cheking_account.charge_fee()\n",
    "print(cheking_account.check_balance())"
   ]
  },
  {
   "cell_type": "markdown",
   "metadata": {
    "nbgrader": {
     "grade": false,
     "grade_id": "cell-906ed21665e3fbd0",
     "locked": true,
     "schema_version": 3,
     "solution": false,
     "task": false
    }
   },
   "source": [
    "### Exercise 13\n",
    "\n",
    "Finally, let's create the `InvestimentAccount` class, as a **child class** of `CheckingAccount` (🧩 _Yup! It's right, we have a multilevel inheritance here_ 🧩) \n",
    "\n",
    "+ Attributes:\n",
    "    - **ticker** 🔍 _a code that represents a company in the stock market_ 🔎\n",
    "    - **investment_fee**\n",
    "    - All the CheckingAccount attributes ⚠️ (the **`withdraw_limit`** needs always to be the same as the balance)\n",
    "    \n",
    "    \n",
    "+ Methods:\n",
    "    - `withdraw()`: \n",
    "        **override** the method **again**, and now, deduce from the account balance **`amount + investment_fee`**.\n",
    "    \n",
    "       🌟 **Hint:** remember that the account **never goes negative**!   🌟\n",
    "       <br><Br>\n",
    "    \n",
    "    - `bet_on_market()`: \n",
    "        will multiply the balance **by** a (pseudo)random integer from 1 to 10; ❗ \n",
    "    \n",
    "       ❗ **Hint:** use **`get_random_number()`** function again, remember?! ❗\n",
    "    "
   ]
  },
  {
   "cell_type": "code",
   "execution_count": 31,
   "metadata": {
    "nbgrader": {
     "grade": false,
     "grade_id": "cell-2b45d8e46269b879",
     "locked": false,
     "schema_version": 3,
     "solution": true,
     "task": false
    }
   },
   "outputs": [],
   "source": [
    "# class InvestimentAccount(...)\n",
    "### BEGIN SOLUTION\n",
    "class InvestimentAccount(CheckingAccount):\n",
    "    \"\"\"\n",
    "    A class representing a investment account\n",
    "    \"\"\"\n",
    "    def __init__(self, customer, number, annual_fee, ticker, investment_fee, balance=0):\n",
    "        \"\"\"\n",
    "        Initialize investment account\n",
    "        \"\"\"\n",
    "        self.ticker = ticker\n",
    "        self.investment_fee = investment_fee\n",
    "        super().__init__(customer, number, annual_fee, withdraw_limit=balance, balance=balance)\n",
    "        \n",
    "    def withdraw(self, amount):\n",
    "        \"\"\"\n",
    "        Withdraw amount if sufficient funds exist (amount + investment_fee)\n",
    "        and amount is less than the withdraw limit (balance)\n",
    "        \"\"\"\n",
    "        if (amount + self.investment_fee) > self.balance:\n",
    "            return 'Insufficient funds'\n",
    "\n",
    "        elif amount < 0:\n",
    "            return 'Invalid withdrawal amount:' + str(amount)\n",
    "            \n",
    "        else: self.balance -= (amount + self.investment_fee)\n",
    "        \n",
    "    \n",
    "    def bet_on_market(self):\n",
    "        \"\"\"\n",
    "        multiply the balance by a (pseudo)random integer from 1 to 10\n",
    "        \"\"\"        \n",
    "        self.balance = self.balance * get_random_number(1, 10)\n",
    "        \n",
    "### END SOLUTION"
   ]
  },
  {
   "cell_type": "code",
   "execution_count": 32,
   "metadata": {
    "nbgrader": {
     "grade": true,
     "grade_id": "cell-fbeaf6f831b1a0c4",
     "locked": true,
     "points": 2,
     "schema_version": 3,
     "solution": false,
     "task": false
    }
   },
   "outputs": [
    {
     "name": "stdout",
     "output_type": "stream",
     "text": [
      "---- Everything is awesome!! all asserts passed ---- \n",
      "\n",
      "The balance of account number 21457666 is € 6020\n",
      "Dwight Schrute is playing on market again...\n",
      "And now...\n",
      "The balance of account number 21457666 is € 30100\n"
     ]
    }
   ],
   "source": [
    "# Let's open the our new investment account:\n",
    "investment_account = InvestimentAccount(\n",
    "    customer='Dwight Schrute',number=21457666,annual_fee=20,ticker='DMP',investment_fee=10\n",
    ")\n",
    "\n",
    "assert isinstance(investment_account, InvestimentAccount) == True, 'Your class is not properly defined'\n",
    "assert isinstance(investment_account, CheckingAccount) == True, 'Your class has no relation with the CheckingAccount class'\n",
    "assert isinstance(investment_account, BankAccount) == True, 'Your class has no relation with the BankAccount class'\n",
    "\n",
    "assert investment_account.number == 21457666, 'You have to define an \"number\" attribute for your class!'\n",
    "assert _hash(investment_account.customer) == 'dd1e4dfba6', 'You have to define a \"customer\" attribute for your class!'\n",
    "assert investment_account.balance == 0, 'The default value of \"balance\" should be 0!'\n",
    "assert investment_account.currency == '€', 'Currency symbol is not working... Did you changed the existing line?'\n",
    "assert investment_account.annual_fee == 20, 'You have to define a \"annual fee\" attribute for your class!'\n",
    "assert investment_account.investment_fee == 10, 'Ops! Where is the \"investment fee\" attribute of your class?!'\n",
    "\n",
    "\n",
    "assert _hash(investment_account.ticker) == '941024a0fd', 'Ops! what ticker are we investing?'\n",
    "assert investment_account.withdraw_limit == 0, 'Investiment account does not have a properly withdraw limit...'\n",
    "\n",
    "investment_account.deposit(amount=1570)\n",
    "assert investment_account.balance == 1570, 'Ops! Did you change something on deposit() method?'\n",
    "\n",
    "investment_account.bet_on_market()\n",
    "assert _hash((investment_account.balance >= (1570*1)) & (investment_account.balance <= (1570*10))) == 'dd931fabaa', 'Ops! The bet_on_market() did not work'\n",
    "\n",
    "investment_account.withdraw(250)\n",
    "assert _hash((investment_account.balance >= ((1570*1)-10) & (investment_account.balance <= ((1570*10)-10)))) == 'dd931fabaa', 'Did you deduce \"investment fee\" on withdraw() method?'\n",
    "\n",
    "investment_account.withdraw(investment_account.balance+5)\n",
    "assert _hash((investment_account.balance >= ((1570*1)-10) & (investment_account.balance <= ((1570*10)-10)))) == 'dd931fabaa','You cannot withdraw more funds than you have...'\n",
    "\n",
    "print(\"---- Everything is awesome!! all asserts passed ---- \")\n",
    "print('')\n",
    "print(investment_account.check_balance())\n",
    "print('{} is playing on market again...'.format(investment_account.customer))\n",
    "print('And now...')\n",
    "investment_account.bet_on_market()\n",
    "print(investment_account.check_balance())"
   ]
  },
  {
   "cell_type": "markdown",
   "metadata": {
    "nbgrader": {
     "grade": false,
     "grade_id": "cell-46eb1549d4077eb8",
     "locked": true,
     "schema_version": 3,
     "solution": false,
     "task": false
    }
   },
   "source": [
    "<img src=\"./assets/exe_10.jpg\" width=\"500\"/>\n",
    "\n",
    "***\n",
    "\n",
    "### And now... Mission Accomplished!!! 🎉🎉🎉\n",
    "\n",
    "\n",
    "Now you can rest proudly,\n",
    "because your work was excellent!\n",
    "\n",
    "**But don't forget...**\n",
    "\n",
    "***"
   ]
  },
  {
   "cell_type": "markdown",
   "metadata": {
    "nbgrader": {
     "grade": false,
     "grade_id": "cell-406404ae9bf99285",
     "locked": true,
     "schema_version": 3,
     "solution": false,
     "task": false
    }
   },
   "source": [
    "# Submit your work!\n",
    "\n",
    "To submit your work, [get your slack id](https://moshfeu.medium.com/how-to-find-my-member-id-in-slack-workspace-d4bba942e38c) and fill it in the `slack_id` variable.\n",
    "\n",
    "Example: `slack_id = \"UTS63FC02\"`"
   ]
  },
  {
   "cell_type": "code",
   "execution_count": 33,
   "metadata": {
    "nbgrader": {
     "grade": false,
     "grade_id": "cell-a48c05d8f2f06b81",
     "locked": false,
     "schema_version": 3,
     "solution": true,
     "task": false
    }
   },
   "outputs": [],
   "source": [
    "### BEGIN SOLUTION\n",
    "slack_id = \"UTS63FC02\"\n",
    "### END SOLUTION\n",
    "# slack_id ="
   ]
  },
  {
   "cell_type": "code",
   "execution_count": 34,
   "metadata": {
    "nbgrader": {
     "grade": true,
     "grade_id": "cell-6e99685f6f8c1895",
     "locked": true,
     "points": 0,
     "schema_version": 3,
     "solution": false,
     "task": false
    }
   },
   "outputs": [
    {
     "name": "stdout",
     "output_type": "stream",
     "text": [
      "Success\n"
     ]
    }
   ],
   "source": [
    "from submit import submit\n",
    "\n",
    "assert slack_id is not None\n",
    "submit(slack_id=slack_id, learning_unit=10)"
   ]
  }
 ],
 "metadata": {
  "celltoolbar": "Create Assignment",
  "kernelspec": {
   "display_name": "Python 3",
   "language": "python",
   "name": "python3"
  },
  "language_info": {
   "codemirror_mode": {
    "name": "ipython",
    "version": 3
   },
   "file_extension": ".py",
   "mimetype": "text/x-python",
   "name": "python",
   "nbconvert_exporter": "python",
   "pygments_lexer": "ipython3",
   "version": "3.7.10"
  }
 },
 "nbformat": 4,
 "nbformat_minor": 4
}
