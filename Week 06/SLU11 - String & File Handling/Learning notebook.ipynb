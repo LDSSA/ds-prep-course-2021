{
 "cells": [
  {
   "cell_type": "markdown",
   "metadata": {},
   "source": [
    "# SLU11 | String & File Handling\n",
    "\n",
    "***\n",
    "\n",
    "In this notebook we will be covering the following:\n",
    "\n",
    "### PART 1 | File Handling:\n",
    "- Text and Binary files\n",
    "- `Open()` and `Close()` files\n",
    "- `Read()` and `Write()` files\n",
    "\n",
    "### PART 2 | String manipulation:\n",
    "- The `strip()`, `listrip()`, `rstrip()` functions\n",
    "- String concatenation\n",
    "- The `lower()`, `upper()` and `capitalize()` functions\n",
    "- Substring\n",
    "- String indexing - Index characters\n",
    "- The `replace()` function\n",
    "- The `join()` and the `split()` functions\n",
    "- Loop through strings\n",
    "\n",
    "### PART 3 | Testing, Exception raising & Handling:\n",
    "- Error and Exception concept\n",
    "- Common errors and exceptions\n",
    "- Raise and handle errors\n",
    "- The `assert` function\n",
    "\n",
    "***"
   ]
  },
  {
   "cell_type": "markdown",
   "metadata": {},
   "source": [
    "## PART 1 | File Handling\n",
    "\n",
    "Handling Python files is **a very important concept**. Developers build a lot of programs, data scientists create different models, and all of them need to first **read some data and then save the results**... \n",
    "\n",
    "Can you guess from where they read them? And where they save them? Exactly! On **files!**\n",
    "\n",
    "Imagine that you wanted to check how many files on your computer have the word **`'Kittens'`**. I'm sure you wouldn't want to do it **by hand!**:\n",
    "\n",
    "   1. Opening hundreds and thousands of files;\n",
    "   2. Searching for a word on each file\n",
    "   3. Counting this...<br><br>**Ah... So boring! Let's make the computer do it!**\n",
    "\n",
    "<img src=\"./assets/do_it_pc.jpg\" width=\"500\"/>\n",
    "\n",
    "There are multiple ways to read and save files, and they usually depend on the file format you're dealing with.\n",
    "\n",
    "- Images, \n",
    "- Plain text,\n",
    "- JSON, \n",
    "- CSV (data with delimiters)\n",
    "- There are many and many of them.\n",
    "\n",
    "But from now on, let's concentrate on **two basic types** of files:"
   ]
  },
  {
   "cell_type": "markdown",
   "metadata": {},
   "source": [
    "### TEXT FILES\n",
    "\n",
    "They are the well-known **`.txt`** files that you can easily create by using any simple text editors such as our old-friend **Notepad**. When you open those files (**we'll check this soon**), you'll see the content as **plain text**. \n",
    "\n",
    "* You can easily edit or delete the contents\n",
    "* They take minimum effort to maintain\n",
    "* They are easily readable\n",
    "* Provide the least security\n",
    "* And take more storage space\n",
    "\n",
    "### BINARY FILES\n",
    "\n",
    "These little guys are mostly the **`.bin`** files on your computer. The main mission is to be a file made for computers (**and not for humans, sorry!**). They store the information in the binary form (**only 0's and 1's**), instead of storing it in **plain text**.\n",
    "\n",
    "* They can hold a higher amount of data\n",
    "* They are not readable easily\n",
    "* Provide better security than text files\n",
    "* And take less storage space\n",
    "\n",
    "<img src=\"./assets/txt_bin_files.jpg\" width=\"500\"/>\n",
    "\n",
    "In this learning unit, we're going to learn how to handle these files using built-in python functions. Let's start!"
   ]
  },
  {
   "cell_type": "markdown",
   "metadata": {},
   "source": [
    "### `Open()` files\n",
    "\n",
    "In order to open a file in Python we can use a built-in **`open()`** function. \n",
    "This function gets two arguments as inputs: \n",
    "   * **file path:** _required parameter. Can be a relative or absolute path_\n",
    "   * **mode:** _optional parameter. By default mode='r'_\n",
    "   \n",
    "Let's detail each one below:"
   ]
  },
  {
   "cell_type": "markdown",
   "metadata": {},
   "source": [
    "#### FILE PATH\n",
    "   * The **path** of the file is its address on the device where the file is stored. \n",
    "   * The **directory** is the address of the folder where the file is.   \n",
    "   * The **root** or **root folder** or **root directory** is the beginning of the structure where the file is.\n",
    "\n",
    "Now, to make things easy, think about this analogy:\n",
    "\n",
    "_**`Device`** is the world, and **`path`** is the address of the **`file`** in this world._ \n",
    "\n",
    "_**`Directory`** is the address of the **`folder`** where the **`file`** is stored._\n",
    "\n",
    "\n",
    "The **`path`** of a file can be **absolute** starting with the **`Directory`** (_a.k.a **`root`**_) or **relative** to the program’s current working **`directory`**.\n",
    "\n",
    "<img src=\"./assets/path.svg\" width=\"700\">\n",
    "\n",
    "For **file** **`document.txt`**, on image above:\n",
    "\n",
    "   * **Device** is **`C:`**\n",
    "\n",
    "   * **Directory** is **`C:\\home\\ds-prep-workspace\\week 6\\SLU-11`**\n",
    "\n",
    "   * **Absolute path** is **`C:\\home\\ds-prep-workspace\\week 6\\SLU-11\\document.txt`**\n",
    "\n",
    "   * **Relative path** is **`document.txt`**\n",
    "\n",
    "Pretty easy, right? 😄"
   ]
  },
  {
   "cell_type": "markdown",
   "metadata": {},
   "source": [
    "#### MODE\n",
    "\n",
    "The **`mode`** argument indicates the permission that we want to give for that file if we allow operations like **reading from it** and/or **writing on it**. \n",
    "This parameter is **optional** (which means that it has a default value), but by using it we are protecting the file of operations that we don't want to be executed.\n",
    "\n",
    "The accepted values for **`mode`** argument are: \n",
    "- **`'r'`** - **Read** mode which is used when the file is **only being read** \n",
    "- **`'rb'`** - Same **read** mode, now for **binary files**  \n",
    "- **`'w'`** – **Write** mode which is used to **write information to the file** ⚠️ _If the file exists, its contents will be overwritten. If not, it will be created_ ⚠️\n",
    "- **`'wb'`** - Same **write** mode, now for **binary files**  \n",
    "- **`'a'`** – **Appending** mode which is used to **add new data to the end of the file** ⚠️ _If the file does not exist, it will be created_ ⚠️\n",
    "- **`'ab'`** - Same **appending** mode, now for **binary files**  \n",
    "- **`'r+'`** – Special **read and write** mode, which is used to handle both actions when working with a file\n",
    "- **`'rb+'`** - Same special **read and write** mode, now for **binary files**  \n",
    "- **`'a+'`** – Special **read and append** mode, which is used to handle both actions when working with a file\n",
    "- **`'ab+'`** - Same special **read and append** mode, now for **binary files**  \n",
    "\n",
    "Now, it's practice time!\n",
    "\n",
    "Using **`relative` path**, let's open the file **`document.txt`** on **read mode** that is located on the same folder as this SLU."
   ]
  },
  {
   "cell_type": "code",
   "execution_count": 1,
   "metadata": {},
   "outputs": [
    {
     "data": {
      "text/plain": [
       "<_io.TextIOWrapper name='document.txt' mode='r' encoding='UTF-8'>"
      ]
     },
     "execution_count": 1,
     "metadata": {},
     "output_type": "execute_result"
    }
   ],
   "source": [
    "relative_path = \"document.txt\"\n",
    "our_file = open(relative_path, mode='r')\n",
    "our_file"
   ]
  },
  {
   "cell_type": "markdown",
   "metadata": {},
   "source": [
    "_Ops! Weird, right?_\n",
    "\n",
    "Actually, **`open()`** doesn't read the file's content. As the name suggests, **it only opens the file, returns a file object and keeps it in memory**. Now that we have access to the **file object**, we can use some functions to read the content of the file or write in it. \n",
    "\n",
    "Let's see how we can do that on **`Read()` files** Section"
   ]
  },
  {
   "cell_type": "markdown",
   "metadata": {},
   "source": [
    "## `Close()` files\n",
    "\n",
    "It's important to mention, that the same way as we usually close programs after we use them, we also should close python files, because when we **open a file**, it assumes an **`in use`** status which will block it from being opened by others (programs/processes/people). To avoid this we always need to **`close()`** the file after we finish what we are doing. How can we do this?"
   ]
  },
  {
   "cell_type": "code",
   "execution_count": 2,
   "metadata": {},
   "outputs": [],
   "source": [
    "our_file.close()"
   ]
  },
  {
   "cell_type": "markdown",
   "metadata": {},
   "source": [
    "Very very very simple!\n",
    "\n",
    "### `with open()` statement\n",
    "If we don't want to close the files each time after handling them, we should use the **`with open()`** statement. "
   ]
  },
  {
   "cell_type": "code",
   "execution_count": 3,
   "metadata": {},
   "outputs": [
    {
     "name": "stdout",
     "output_type": "stream",
     "text": [
      "maria\n",
      "\n",
      "ate an apple\n",
      "\n",
      "pie for breakfast\n"
     ]
    }
   ],
   "source": [
    "with open('document.txt') as f: # open the file and store it in a variable called 'f'\n",
    "    lines = f.readlines() # read all the lines\n",
    "    for line in lines: # iterate over each separate line\n",
    "        print(line) # print this line"
   ]
  },
  {
   "cell_type": "markdown",
   "metadata": {},
   "source": [
    "As soon as the python compiler reaches the end of the **`with`** statement, **the file will automatically be closed.** Amazing!!"
   ]
  },
  {
   "cell_type": "markdown",
   "metadata": {},
   "source": [
    "## `Read()` files\n",
    "\n",
    "There are a few ways to read the file's content. Let's see all of them.\n",
    "\n",
    "### Read the whole content of a file\n",
    "\n",
    "We're going to read the whole file's content and store it in a variable called **`txt`**:"
   ]
  },
  {
   "cell_type": "code",
   "execution_count": 4,
   "metadata": {},
   "outputs": [
    {
     "data": {
      "text/plain": [
       "'maria\\nate an apple\\npie for breakfast'"
      ]
     },
     "execution_count": 4,
     "metadata": {},
     "output_type": "execute_result"
    }
   ],
   "source": [
    "f = open(\"document.txt\", mode='r')\n",
    "\n",
    "txt = f.read()\n",
    "txt"
   ]
  },
  {
   "cell_type": "markdown",
   "metadata": {},
   "source": [
    "Great! We can see it now. All the lines are stored in one variable delimited by **`\\n`** symbols (**`\\n`** means a *new line*).\n",
    "\n",
    "It doesn't look pretty until we **`print()`** it:"
   ]
  },
  {
   "cell_type": "code",
   "execution_count": 5,
   "metadata": {},
   "outputs": [
    {
     "name": "stdout",
     "output_type": "stream",
     "text": [
      "maria\n",
      "ate an apple\n",
      "pie for breakfast\n"
     ]
    }
   ],
   "source": [
    "print(txt)"
   ]
  },
  {
   "cell_type": "markdown",
   "metadata": {},
   "source": [
    "Now it looks much better. As we can see, all **`\\n`** symbols were removed and the text was printed on *3 separate lines* (the same way as in the original file). \n",
    "\n",
    "You can open this file in a text editor if you don't trust me!\n",
    "\n",
    "<img src=\"./assets/dont_trust.jpg\" width=\"300\"/>\n",
    "\n",
    "### Read Line By Line - `readlines()`\n",
    "\n",
    "With **`read()`** method we're storing the whole file in just one string.\n",
    "\n",
    "It is also possible to read each line separately using the **`readlines()`** method. What it does is **read all lines in the file and return a list containing each line as a list element**. We can then loop through this list, and access each line's contents. Let's see how it's done!"
   ]
  },
  {
   "cell_type": "code",
   "execution_count": 6,
   "metadata": {},
   "outputs": [
    {
     "name": "stdout",
     "output_type": "stream",
     "text": [
      "[]\n"
     ]
    }
   ],
   "source": [
    "lines = f.readlines()\n",
    "print(lines)"
   ]
  },
  {
   "cell_type": "markdown",
   "metadata": {},
   "source": [
    "_Wait, but why is it empty?_\n",
    "\n",
    "<img src=\"assets/wait_why.jpg\" width=\"400\">"
   ]
  },
  {
   "cell_type": "markdown",
   "metadata": {},
   "source": [
    "\n",
    "_Ok, ok! Don't panic!_ \n",
    "\n",
    "Let's think about what we did... We first opened the file and stored it in a variable called **`f`**. \n",
    "Once we opened a file, a **read cursor** appeared in the very **beginning of this file.** (_the same way as if we'd open it in a text editor_)\n",
    "\n",
    "\n",
    "Next, we called **`read()`** method and stored the result in a variable called **`txt`**. Method **read()** read through the entire file and **left the read cursor at the end of the file.** (_with nothing more to read_)\n",
    "\n",
    "So the **read cursor was at the end of the file** when we tried to read lines separately. This is why the list **`lines`** was empty. Very curious, right?\n",
    "\n",
    "Now let's move the **read cursor** back and do the same thing once again using method **[seek()](https://www.tutorialspoint.com/python/file_seek.htm)**."
   ]
  },
  {
   "cell_type": "code",
   "execution_count": 7,
   "metadata": {},
   "outputs": [
    {
     "name": "stdout",
     "output_type": "stream",
     "text": [
      "['maria\\n', 'ate an apple\\n', 'pie for breakfast']\n"
     ]
    }
   ],
   "source": [
    "f.seek(0) # moves the cursor to the very beggining of the file\n",
    "lines = f.readlines()\n",
    "print(lines)"
   ]
  },
  {
   "cell_type": "markdown",
   "metadata": {},
   "source": [
    "As you can see, the output of **`readlines()`** is a list, with each element being a line. \n",
    "\n",
    "Let's iterate over the list and print its elements:"
   ]
  },
  {
   "cell_type": "code",
   "execution_count": 8,
   "metadata": {},
   "outputs": [
    {
     "name": "stdout",
     "output_type": "stream",
     "text": [
      "maria\n",
      "\n",
      "ate an apple\n",
      "\n",
      "pie for breakfast\n"
     ]
    }
   ],
   "source": [
    "for line in lines:\n",
    "    print(line)"
   ]
  },
  {
   "cell_type": "markdown",
   "metadata": {},
   "source": [
    "We can access separate lines simply indexing the list:"
   ]
  },
  {
   "cell_type": "code",
   "execution_count": 9,
   "metadata": {},
   "outputs": [
    {
     "name": "stdout",
     "output_type": "stream",
     "text": [
      "maria\n",
      "\n"
     ]
    }
   ],
   "source": [
    "print(lines[0])"
   ]
  },
  {
   "cell_type": "markdown",
   "metadata": {},
   "source": [
    "### Read a single line - `readline()`\n",
    "\n",
    "Actually, **we don't have to read the whole file if we don't want to.**\n",
    "\n",
    "Sometimes a file might be large, and we don't want to store large files in the memory. Our computer has a limited amount of memory, so we can't just put terabytes of data in there. So, that is when the single line reading (with **`readline()`** method) comes in!\n",
    "\n",
    "Let's just read the **first line of the file** (_don't forget to move the cursor_)"
   ]
  },
  {
   "cell_type": "code",
   "execution_count": 10,
   "metadata": {},
   "outputs": [
    {
     "data": {
      "text/plain": [
       "'maria\\n'"
      ]
     },
     "execution_count": 10,
     "metadata": {},
     "output_type": "execute_result"
    }
   ],
   "source": [
    "f.seek(0)\n",
    "f.readline()"
   ]
  },
  {
   "cell_type": "markdown",
   "metadata": {},
   "source": [
    "And the second line:"
   ]
  },
  {
   "cell_type": "code",
   "execution_count": 11,
   "metadata": {},
   "outputs": [
    {
     "data": {
      "text/plain": [
       "'ate an apple\\n'"
      ]
     },
     "execution_count": 11,
     "metadata": {},
     "output_type": "execute_result"
    }
   ],
   "source": [
    "f.readline()"
   ]
  },
  {
   "cell_type": "markdown",
   "metadata": {},
   "source": [
    "As you can see, every time we execute the readline method, the cursor moves to the next one. \n",
    "\n",
    "Because of that, the output of **`readline()`** is different every time we call it.\n",
    "\n",
    "So, we already know how to open a file, read the whole file or read a single line."
   ]
  },
  {
   "cell_type": "markdown",
   "metadata": {},
   "source": [
    "## `Write()` files\n",
    "\n",
    "The last thing to mention is the fact, that we can also write information to files\n",
    "\n",
    "What we need to do is:\n",
    "1. Open the file with permissions to write\n",
    "\n",
    "   ❗ by default, when we call **`open()`** function, it opens the file with read-only permissions **`mode='r'`**<br><br>\n",
    "\n",
    "2. Write lines to the file\n",
    "3. Close the files"
   ]
  },
  {
   "cell_type": "code",
   "execution_count": 12,
   "metadata": {},
   "outputs": [],
   "source": [
    "# open a new file with write permissions (mode='w')\n",
    "\n",
    "with open('new_document.txt', mode='w') as f:\n",
    "    f.write(\"I just learned how to deal with files in python\")"
   ]
  },
  {
   "cell_type": "markdown",
   "metadata": {},
   "source": [
    "Now find this file locally! It's going to be stored in the same **directory where this learning notebook is stored**.\n",
    "\n",
    "And now that we wrote on the file let's check what is inside with what we learned so far."
   ]
  },
  {
   "cell_type": "code",
   "execution_count": 13,
   "metadata": {},
   "outputs": [
    {
     "name": "stdout",
     "output_type": "stream",
     "text": [
      "['I just learned how to deal with files in python']\n"
     ]
    }
   ],
   "source": [
    "with open('new_document.txt') as f:\n",
    "    print(f.readlines())"
   ]
  },
  {
   "cell_type": "markdown",
   "metadata": {},
   "source": [
    "And that is all! 🎉🎉\n",
    "\n",
    "You are able, from now on, to manipulate your files using python! 🐍\n",
    "\n",
    "***\n",
    "\n",
    "## PART 2 | String Manipulation"
   ]
  },
  {
   "cell_type": "markdown",
   "metadata": {},
   "source": [
    "We already learned about different types of variables in python\n",
    "\n",
    "* int, \n",
    "* string, \n",
    "* float,\n",
    "* bool,\n",
    "* and etc.\n",
    "\n",
    "Now it's time to learn about **`string` more thoroughly**. As you already know, strings represent **text** in programming languages.\n",
    "\n",
    "Programmers and data scientists work with strings all the time. Look around, almost everything has text!\n",
    "Furthermore, there is a big field in Data Science called **Natural Language Processing** (a.k.a. **`NLP`**), in which the only thing we work with is ... **text** (striiiiings)!\n",
    "\n",
    "**Text** is so good that mathematicians decided to add some letters to formulas just because it's beautiful, you see? 😏\n",
    "\n",
    "So let's learn how to deal with it!\n",
    "\n",
    "<img src=\"./assets/text.jpeg\" width=\"500\"/>"
   ]
  },
  {
   "cell_type": "code",
   "execution_count": 14,
   "metadata": {},
   "outputs": [
    {
     "name": "stdout",
     "output_type": "stream",
     "text": [
      "<class 'str'>\n"
     ]
    },
    {
     "data": {
      "text/plain": [
       "'maria\\n'"
      ]
     },
     "execution_count": 14,
     "metadata": {},
     "output_type": "execute_result"
    }
   ],
   "source": [
    "f = open('document.txt')\n",
    "lines = f.readlines()\n",
    "sentence_1 = lines[0]\n",
    "\n",
    "print(type(sentence_1)) # print the type of the variable\n",
    "sentence_1"
   ]
  },
  {
   "cell_type": "markdown",
   "metadata": {},
   "source": [
    "### The `strip()`, `listrip()`, `rstrip()` functions\n",
    "\n",
    "As you can see, `sentence_1` is a **string** **`<class 'str'>`** representing the **first line** of the **`document.txt`**\n",
    "\n",
    "It contains **`\\n`** symbols, so let's **remove them**. We can use the **`strip()`** method for that. This allows us to remove **any whitespaces** in a string. (_any horizontal/vertical space. So both **`\" \"`** and **`\"\\n\"`** symbols_)\n",
    "\n",
    "There are also **`lstrip()`**, which removes whitespaces **only to the left** of the string, and **`rstrip()`** methods, which removes whitespaces **only to the right** of the string"
   ]
  },
  {
   "cell_type": "code",
   "execution_count": 15,
   "metadata": {},
   "outputs": [
    {
     "data": {
      "text/plain": [
       "'word'"
      ]
     },
     "execution_count": 15,
     "metadata": {},
     "output_type": "execute_result"
    }
   ],
   "source": [
    "s = '\\n\\n   word   \\n\\n'\n",
    "s.strip()"
   ]
  },
  {
   "cell_type": "code",
   "execution_count": 16,
   "metadata": {},
   "outputs": [
    {
     "data": {
      "text/plain": [
       "'\\n\\n   word'"
      ]
     },
     "execution_count": 16,
     "metadata": {},
     "output_type": "execute_result"
    }
   ],
   "source": [
    "s.rstrip()"
   ]
  },
  {
   "cell_type": "code",
   "execution_count": 17,
   "metadata": {},
   "outputs": [
    {
     "data": {
      "text/plain": [
       "'word   \\n\\n'"
      ]
     },
     "execution_count": 17,
     "metadata": {},
     "output_type": "execute_result"
    }
   ],
   "source": [
    "s.lstrip()"
   ]
  },
  {
   "cell_type": "markdown",
   "metadata": {},
   "source": [
    "We can also define the symbol that should be removed by **`strip()`** method. So if we want to **keep spaces**, but want to **remove only the `\"\\n\"` symbols**, we can do it the following way:"
   ]
  },
  {
   "cell_type": "code",
   "execution_count": 18,
   "metadata": {},
   "outputs": [
    {
     "data": {
      "text/plain": [
       "'   word   '"
      ]
     },
     "execution_count": 18,
     "metadata": {},
     "output_type": "execute_result"
    }
   ],
   "source": [
    "s.strip('\\n')"
   ]
  },
  {
   "cell_type": "markdown",
   "metadata": {},
   "source": [
    "### String concatenation\n",
    "\n",
    "Now let's read all the lines from the document, concatenate them (**combine them in one string**) and **remove all the `\\n` symbols:**"
   ]
  },
  {
   "cell_type": "code",
   "execution_count": 19,
   "metadata": {},
   "outputs": [
    {
     "data": {
      "text/plain": [
       "['maria\\n', 'ate an apple\\n', 'pie for breakfast']"
      ]
     },
     "execution_count": 19,
     "metadata": {},
     "output_type": "execute_result"
    }
   ],
   "source": [
    "lines"
   ]
  },
  {
   "cell_type": "code",
   "execution_count": 20,
   "metadata": {},
   "outputs": [
    {
     "data": {
      "text/plain": [
       "'mariaate an applepie for breakfast'"
      ]
     },
     "execution_count": 20,
     "metadata": {},
     "output_type": "execute_result"
    }
   ],
   "source": [
    "# concatenate strings using + and remove whitespaces using strip() function\n",
    "sentence = lines[0].strip() + lines[1].strip() + lines[2].strip() \n",
    "sentence"
   ]
  },
  {
   "cell_type": "markdown",
   "metadata": {},
   "source": [
    "Looks like we also need to add spaces between lines. \n",
    "\n",
    "Let's do it:"
   ]
  },
  {
   "cell_type": "code",
   "execution_count": 21,
   "metadata": {},
   "outputs": [
    {
     "data": {
      "text/plain": [
       "'maria ate an apple pie for breakfast'"
      ]
     },
     "execution_count": 21,
     "metadata": {},
     "output_type": "execute_result"
    }
   ],
   "source": [
    "# concatenate strings with spaces (' ')\n",
    "sentence = lines[0].strip() + ' ' + lines[1].strip() + ' ' + lines[2].strip() \n",
    "sentence"
   ]
  },
  {
   "cell_type": "markdown",
   "metadata": {},
   "source": [
    "<img src=\"./assets/concat.PNG\" width=\"500\"/>\n",
    "\n",
    "Feel free to explore and play with strings concatenation, it'll be really fun and you will interiorize more naturally these methods which now sound like a bunch of crazy stuff...\n",
    "\n",
    "### The `lower()` and `upper()` functions\n",
    "\n",
    "Now let's learn about how Python allows us to easily change the whole line to upper or lowercase if we want to:"
   ]
  },
  {
   "cell_type": "code",
   "execution_count": 22,
   "metadata": {},
   "outputs": [
    {
     "name": "stdout",
     "output_type": "stream",
     "text": [
      "MARIA ATE AN APPLE PIE FOR BREAKFAST\n"
     ]
    }
   ],
   "source": [
    "sentence = sentence.upper()\n",
    "print(sentence)"
   ]
  },
  {
   "cell_type": "code",
   "execution_count": 23,
   "metadata": {},
   "outputs": [
    {
     "name": "stdout",
     "output_type": "stream",
     "text": [
      "maria ate an apple pie for breakfast\n"
     ]
    }
   ],
   "source": [
    "sentence = sentence.lower()\n",
    "print(sentence)"
   ]
  },
  {
   "cell_type": "markdown",
   "metadata": {},
   "source": [
    "These functions might be really useful in some cases. \n",
    "\n",
    "For example, trying to understand if a movie review is **positive** or **negative.** \n",
    "\n",
    "It's often a good idea to **convert all the words to lowercase** because there is no difference for us if a user wrote **`'bad'`, `'BAD'`, `'Bad'`, `'bAd'` or `'BaD'`** (and all the other possibilities), but all these strings **are different for the machine**, even having the **same meaning for us.**\n",
    "\n",
    "### Substring\n",
    "\n",
    "Sometimes, we want to extract new **pieces** of string from our base **string** (_remember when we read all lines in one variable?_) maybe extract a word from an expression. Using our **`sentence`** example, how can we create a new string with only **`apple pie`**?\n",
    "\n",
    "Python provides various methods to create a substring. We will look into the most important operations related to substrings.\n",
    "\n",
    "#### String indexing - Index characters\n",
    "\n",
    "The same way as with **lists**, we can index **strings** using this notation: **`string[index]`**\n",
    "It's a simple way to **get just one string's character**\n",
    "\n",
    "_But first let's remind ourselves about python lists_\n",
    "\n",
    "Do you remember how we access the **first line** in a list of 3 lines from our **`readlines()`** example?\n",
    "\n",
    "**`first_line = lines[0]`**\n",
    "\n",
    "In a way, a string is similar to a list of characters. **We can index them the same way as we do with lists**:"
   ]
  },
  {
   "cell_type": "code",
   "execution_count": 24,
   "metadata": {},
   "outputs": [
    {
     "name": "stdout",
     "output_type": "stream",
     "text": [
      "maria ate an apple pie for breakfast\n",
      "m\n"
     ]
    }
   ],
   "source": [
    "# print the whole string\n",
    "print(sentence)\n",
    "\n",
    "# print the first character of the string (index 0)\n",
    "print(sentence[0])"
   ]
  },
  {
   "cell_type": "markdown",
   "metadata": {},
   "source": [
    "#### String slicing"
   ]
  },
  {
   "cell_type": "markdown",
   "metadata": {},
   "source": [
    "The same way as with lists, we can slice strings. \n",
    "\n",
    "Let's print the **`apple pie`** words of the sentence. We should take indexes from 13 to 22:"
   ]
  },
  {
   "cell_type": "code",
   "execution_count": 25,
   "metadata": {},
   "outputs": [
    {
     "data": {
      "text/plain": [
       "'apple pie'"
      ]
     },
     "execution_count": 25,
     "metadata": {},
     "output_type": "execute_result"
    }
   ],
   "source": [
    "sentence[13:22]"
   ]
  },
  {
   "cell_type": "markdown",
   "metadata": {},
   "source": [
    "If now we combine our knowledge of strings concatenating, indexing and slicing, we can build a **whole new string** from the original one."
   ]
  },
  {
   "cell_type": "code",
   "execution_count": 26,
   "metadata": {},
   "outputs": [
    {
     "data": {
      "text/plain": [
       "'I like an apple'"
      ]
     },
     "execution_count": 26,
     "metadata": {},
     "output_type": "execute_result"
    }
   ],
   "source": [
    "sentence[3].upper() + ' like ' + sentence[10:18]"
   ]
  },
  {
   "cell_type": "markdown",
   "metadata": {},
   "source": [
    "We'd like to be polite and call **Maria** with a capital letter. \n",
    "\n",
    "Let's use the same technique to change the first letter in the original sentence: \n",
    "> **m**aria -> **M**aria."
   ]
  },
  {
   "cell_type": "code",
   "execution_count": 27,
   "metadata": {},
   "outputs": [
    {
     "name": "stdout",
     "output_type": "stream",
     "text": [
      "Maria ate an apple pie for breakfast\n"
     ]
    }
   ],
   "source": [
    "# apply upper() to the first letter\n",
    "# concatenate it with the rest of the sentence (starting from second letter)\n",
    "sentence = sentence[0].upper() + sentence[1:] \n",
    "print(sentence)"
   ]
  },
  {
   "cell_type": "markdown",
   "metadata": {},
   "source": [
    "### The `replace()` function\n",
    "\n",
    "Another way to do some changes on the **string** is with **`replace()`** method. It allows us to replace all occurrences of a **substring** with a new string. \n",
    "\n",
    "Remember that this method **doesn't replace the original string**. It only **returns a copy of the original string with the replaced substrings**. If we want to overwrite the original string, we can simply write:\n",
    "\n",
    "> sentence = sentence.replace('m', 'M')\n",
    "\n",
    "Now let's try to replace some words in the function above so we get a sentence **`\"Anna ate a big apple pie\"`** and save them in a **separate variable**"
   ]
  },
  {
   "cell_type": "code",
   "execution_count": 28,
   "metadata": {},
   "outputs": [
    {
     "name": "stdout",
     "output_type": "stream",
     "text": [
      "Anna ate a big apple pie\n"
     ]
    }
   ],
   "source": [
    "new_sentence = sentence.replace('Maria', 'Anna')\n",
    "new_sentence = new_sentence.replace('an', 'a big')\n",
    "new_sentence = new_sentence.replace(' for breakfast', '')\n",
    "print(new_sentence)"
   ]
  },
  {
   "cell_type": "markdown",
   "metadata": {},
   "source": [
    "And replace 'a' with 'the' in this sentence"
   ]
  },
  {
   "cell_type": "code",
   "execution_count": 29,
   "metadata": {},
   "outputs": [
    {
     "data": {
      "text/plain": [
       "'Annthe thete the big thepple pie'"
      ]
     },
     "execution_count": 29,
     "metadata": {},
     "output_type": "execute_result"
    }
   ],
   "source": [
    "new_sentence.replace('a', 'the')"
   ]
  },
  {
   "cell_type": "markdown",
   "metadata": {},
   "source": [
    "_Oops, something went wrong..._\n",
    "\n",
    "🚨 **Remember** 🚨\n",
    "\n",
    "I told you this function replaces any substring? \n",
    "\n",
    "That's what it did - replaced all **`'a'`** with **`'the'`** \n",
    "\n",
    "So... Be careful with **`replace()`**."
   ]
  },
  {
   "cell_type": "markdown",
   "metadata": {},
   "source": [
    "### The `join()` and the `split()` functions\n",
    "\n",
    "There is another way to combine strings. The **`join()`** method takes all items in an iterable and joins them into one **string**, `separating each element by some symbol`.\n",
    "\n",
    "Let's first try to use **`spaces`** to separate the words from the list on the outputted string."
   ]
  },
  {
   "cell_type": "code",
   "execution_count": 30,
   "metadata": {},
   "outputs": [
    {
     "data": {
      "text/plain": [
       "'maria ate an apple pie for breakfast'"
      ]
     },
     "execution_count": 30,
     "metadata": {},
     "output_type": "execute_result"
    }
   ],
   "source": [
    "' '.join(['maria', 'ate', 'an', 'apple', 'pie', 'for', 'breakfast'])"
   ]
  },
  {
   "cell_type": "markdown",
   "metadata": {},
   "source": [
    "And now with '_' to separate words."
   ]
  },
  {
   "cell_type": "code",
   "execution_count": 31,
   "metadata": {},
   "outputs": [
    {
     "data": {
      "text/plain": [
       "'maria_ate_an_apple_pie_for_breakfast'"
      ]
     },
     "execution_count": 31,
     "metadata": {},
     "output_type": "execute_result"
    }
   ],
   "source": [
    "'_'.join(['maria', 'ate', 'an', 'apple', 'pie', 'for', 'breakfast'])"
   ]
  },
  {
   "cell_type": "markdown",
   "metadata": {},
   "source": [
    "The last method that is really useful when we work with strings is **`split()`** which does something opposite to **`join()`** method. \n",
    "\n",
    "**`join()`** merges multiple strings into one separating them by a given `separator` (**`space symbol`** as an example), whereas **`split()`** divides a string into a list of strings using a `separator`. By default, a separator is a **`space symbol`**. It means that any words separated by a **`space symbol`** will appear as separate elements of a list. \n",
    "\n",
    "Let's call **`split()`** on the **last line of our text** \n",
    "> `'pie for breakfast'`\n",
    "\n",
    "and see what happens:"
   ]
  },
  {
   "cell_type": "code",
   "execution_count": 32,
   "metadata": {},
   "outputs": [
    {
     "name": "stdout",
     "output_type": "stream",
     "text": [
      "pie for breakfast\n"
     ]
    },
    {
     "data": {
      "text/plain": [
       "['pie', 'for', 'breakfast']"
      ]
     },
     "execution_count": 32,
     "metadata": {},
     "output_type": "execute_result"
    }
   ],
   "source": [
    "# original line\n",
    "print(lines[2])\n",
    "\n",
    "# split the line\n",
    "lines[2].split()"
   ]
  },
  {
   "cell_type": "markdown",
   "metadata": {},
   "source": [
    "How is it useful? \n",
    "\n",
    "- Let's imagine this task: \n",
    "\n",
    "> For each separate word in a sentence, save the ones that have a **length > 5.** \n",
    "\n",
    "🌟 **Hint:** _we can apply the `len()` function to strings the same way as we did with lists_ 🌟"
   ]
  },
  {
   "cell_type": "code",
   "execution_count": 33,
   "metadata": {},
   "outputs": [],
   "source": [
    "text = \"A pie is a baked dish which is usually made of a pastry dough casing that contains a filling of various sweet or savoury ingredients\""
   ]
  },
  {
   "cell_type": "markdown",
   "metadata": {},
   "source": [
    "- Possible solution for this task:"
   ]
  },
  {
   "cell_type": "code",
   "execution_count": 34,
   "metadata": {},
   "outputs": [
    {
     "name": "stdout",
     "output_type": "stream",
     "text": [
      "['usually', 'pastry', 'casing', 'contains', 'filling', 'various', 'savoury', 'ingredients']\n"
     ]
    }
   ],
   "source": [
    "long_words = []\n",
    "for word in text.split():\n",
    "    if len(word) > 5:\n",
    "        long_words.append(word)\n",
    "print(long_words)"
   ]
  },
  {
   "cell_type": "markdown",
   "metadata": {},
   "source": [
    "Or we can do the same thing in a list comprehension in just one line:"
   ]
  },
  {
   "cell_type": "code",
   "execution_count": 35,
   "metadata": {},
   "outputs": [
    {
     "name": "stdout",
     "output_type": "stream",
     "text": [
      "['usually', 'pastry', 'casing', 'contains', 'filling', 'various', 'savoury', 'ingredients']\n"
     ]
    }
   ],
   "source": [
    "long_words = [word for word in text.split() if len(word) > 5]\n",
    "print(long_words)"
   ]
  },
  {
   "cell_type": "markdown",
   "metadata": {},
   "source": [
    "### Combining what we learned...\n",
    "\n",
    "Now let's try to use **everything we learned in this learning unit** for a much more complicated task. \n",
    "\n",
    "We'll also use some things that **we learned in the previous lessons** (like dictionaries)\n",
    "\n",
    "<img src=\"./assets/combine.jpg\" width=\"500\"/>\n",
    "\n",
    "* **Task Description:**\n",
    "\n",
    "> 1. Create a function **`preprocess_text()`** that gets a **string as an input**\n",
    "> 2. Returns a **frequency dictionary**, whose `keys` refer to all **unique words** and `values` refer to the **number of times the words appear**\n",
    "> 3. Don't forget to apply **lowercase** to the words\n",
    "> 4. **Replace** each numeric value with a word **`'number'`**\n",
    ">\n",
    "> **Example:**\n",
    ">\n",
    "> input: `\"I like 123 I print 2.13\"`\n",
    ">\n",
    "> output: `{'i' : 2, 'like' : 1, 'number' : 2, 'print' : 1}`\n",
    "\n",
    "* **Possible solution for this task:**\n",
    "\n",
    "We're going to see **2 ways** of doing that.\n",
    "\n",
    "For the **first way** let's create a few **helper functions**.\n",
    "\n",
    "> We're going to create a function **`helper()`** to create a list of lowercase words from the original text and replace each number with the word 'number'. \n",
    ">\n",
    "> Then we create a function called **`count_words()`** to count the number of times a word appears in the list.\n",
    "\n",
    "And in the end, we call both of them from **`preprocess_text()`** function\n",
    "\n",
    "✨✨ _When you are going through these functions, **don't worry if you might not understand some parts.**_ ✨✨\n",
    "\n",
    "    ✨✨ We have written a recap session below, which will explain everything in detail. ✨✨"
   ]
  },
  {
   "cell_type": "code",
   "execution_count": 36,
   "metadata": {},
   "outputs": [],
   "source": [
    "# input: string\n",
    "# output: list of lowercase words. All the numbers replaced with 'number' word\n",
    "\n",
    "# example: \n",
    "# string_input = 'How was your day 123'\n",
    "# helper(string_input) --> ['how', 'was', 'your', 'day', 'number']\n",
    "\n",
    "def helper(text):\n",
    "    \"\"\"\n",
    "    create a list of lowercase words from the original text\n",
    "    replace each number with a word 'number'\n",
    "    \"\"\"\n",
    "    text = text.split()\n",
    "    result = []\n",
    "    for word in text:\n",
    "        if word.isdigit(): # check whether a word is numeric\n",
    "            result.append('number')\n",
    "        else:\n",
    "            result.append(word.lower())\n",
    "    return result"
   ]
  },
  {
   "cell_type": "code",
   "execution_count": 37,
   "metadata": {},
   "outputs": [],
   "source": [
    "# input: list of words (list of strings)\n",
    "# output: dictionary with all unique words and the number of times each word appears in the list\n",
    "\n",
    "# example: \n",
    "# words_list = ['day', 'day', 'evening']\n",
    "# count_words(words_list) --> {'day' : 2, 'evening' : 1}\n",
    "\n",
    "def count_words(words_list):\n",
    "    \"\"\"\n",
    "    count each word's appearence\n",
    "    \"\"\"\n",
    "    vocab = {}\n",
    "    for word in words_list:\n",
    "        if word in vocab.keys():\n",
    "            vocab[word] += 1\n",
    "        else:\n",
    "            vocab[word] = 1 \n",
    "    return vocab"
   ]
  },
  {
   "cell_type": "code",
   "execution_count": 38,
   "metadata": {},
   "outputs": [],
   "source": [
    "# input: string\n",
    "# output: dictionary with unique lowercase words and numbers, and the number of times they appear in the string\n",
    "\n",
    "# example: \n",
    "# text = ['How was your day day 123 evening']\n",
    "# preprocess_text(text) -->  {'how' : 1, 'was' : 1, 'your' : 1, 'day' : 2, 'number' : 1, 'evening' : 1}\n",
    "\n",
    "def preprocess_text(text):\n",
    "    text = helper(text)\n",
    "    vocab = count_words(text)\n",
    "    return vocab"
   ]
  },
  {
   "cell_type": "code",
   "execution_count": 39,
   "metadata": {},
   "outputs": [
    {
     "data": {
      "text/plain": [
       "{'i': 2, 'like': 1, 'number': 2, 'print': 1}"
      ]
     },
     "execution_count": 39,
     "metadata": {},
     "output_type": "execute_result"
    }
   ],
   "source": [
    "preprocess_text('I like 123 I print 213')"
   ]
  },
  {
   "cell_type": "markdown",
   "metadata": {},
   "source": [
    "Now, let's recap what we did step by step:\n",
    "#### helper(text):\n",
    "\n",
    "- **`split()`** all the words in a **string**\n",
    "- for each `word` in the **split string**, check whether the word is **numeric**\n",
    "- if it's **numeric**, add the word `'number'` to our **final list of words**. If it's **not numeric**, add the `word itself`, lowered, to the **final list of words** \n",
    "\n",
    "#### count_words(words_list):\n",
    "\n",
    "- create a dictionary called **`'vocab'`**\n",
    "- for each `word` in the **list of words**, check whether this word is **already in the vocabulary**\n",
    "- if it's **not in the `vocab`**, we understand that we never met this word before, so we **add it to the vocabulary and set the number of occurrences to be equal to 1**\n",
    "- if it's **in the `vocab`**, it means that we already met it before, so the **only thing we need to do is to increase the number of occurrences by 1**\n",
    "\n",
    "#### preprocess_text(text):\n",
    "\n",
    "- Apply **`helper()`** on the **input string**, receiving a list of `lowercase words`\n",
    "- Apply **`count_words()`** on the list of `lowercase words`, receiving the `number of words occurrences` \n",
    "- Return it\n",
    "\n",
    "And... \n",
    "\n",
    "The **second way** is putting all steps in one function and make it shorter using list comprehensions **with no need to use helper functions**"
   ]
  },
  {
   "cell_type": "code",
   "execution_count": 40,
   "metadata": {},
   "outputs": [],
   "source": [
    "def preprocess_text(text):\n",
    "    \n",
    "    # create a list of lowercase words from the original text\n",
    "    # (the same thing we did in helper() function)\n",
    "    words = [word.lower() if not word.isdigit() else 'number' for word in text.split()]\n",
    "    \n",
    "    # count words\n",
    "    # (the same thing we did in count_words() function)\n",
    "    vocab = {}\n",
    "    for word in words:\n",
    "        if word in vocab.keys():\n",
    "            vocab[word] += 1\n",
    "        else:\n",
    "            vocab[word] = 1 \n",
    "            \n",
    "    return vocab"
   ]
  },
  {
   "cell_type": "code",
   "execution_count": 41,
   "metadata": {},
   "outputs": [
    {
     "data": {
      "text/plain": [
       "{'i': 2, 'like': 1, 'number': 2, 'print': 1}"
      ]
     },
     "execution_count": 41,
     "metadata": {},
     "output_type": "execute_result"
    }
   ],
   "source": [
    "preprocess_text('I like 123 I print 213')"
   ]
  },
  {
   "cell_type": "markdown",
   "metadata": {},
   "source": [
    "So charming! Didn't you love it? ❤️❤️❤️\n",
    "\n",
    "***\n",
    "\n",
    "## PART 3 | Testing, Exception raising & Handling\n",
    "\n",
    "Until now we didn't talk about **errors and exceptions**, but they are an important part of every programming language.\n",
    "We want to be sure that our program works in all the possible scenarios, and that it doesn't crash in the very important moment. More than that, **we might want to expect some types of errors and make our program behavior differently in different cases.**\n",
    "So let's see!\n",
    "\n",
    "### Error and Exception concept\n",
    "\n",
    "While doing other exercise notebooks you probably have seen several types of errors (and exceptions). For now, let's understand that an **`error`** is something that went wrong and **cannot be handled**. (in other words - your program will crash out and nothing can be done, other than trying to fix it)\n",
    "\n",
    "Raising an **`exception`** does not eliminate the error but in cases where you can predict which kind of error you may have, it allows you to work around it telling your program how to **handle this scenario**.\n",
    "\n",
    "### Common errors and exceptions\n",
    "\n",
    "Many of these **`errors`** are built-in errors, and they always say **where to look for the error**. Let's see a few examples:\n",
    "\n",
    "> #### SYNTAX ERROR\n",
    ">\n",
    "> As the name suggests, **there is some syntax error in your code.** It usually means, that you made a typo somewhere..."
   ]
  },
  {
   "cell_type": "code",
   "execution_count": 42,
   "metadata": {},
   "outputs": [
    {
     "ename": "SyntaxError",
     "evalue": "invalid syntax (<ipython-input-42-d4280087fc5c>, line 2)",
     "output_type": "error",
     "traceback": [
      "\u001b[0;36m  File \u001b[0;32m\"<ipython-input-42-d4280087fc5c>\"\u001b[0;36m, line \u001b[0;32m2\u001b[0m\n\u001b[0;31m    if True\u001b[0m\n\u001b[0m           ^\u001b[0m\n\u001b[0;31mSyntaxError\u001b[0m\u001b[0;31m:\u001b[0m invalid syntax\n"
     ]
    }
   ],
   "source": [
    "# typo in the code: there are no colon after if statement\n",
    "if True\n",
    "    print('true')"
   ]
  },
  {
   "cell_type": "markdown",
   "metadata": {},
   "source": [
    "> #### ZERO DIVISION ERROR\n",
    ">\n",
    "> Means that you're trying to divide by zero (captain obvious). \n",
    ">\n",
    "> Check any places with division and see what are the values of variables there..."
   ]
  },
  {
   "cell_type": "code",
   "execution_count": 43,
   "metadata": {},
   "outputs": [
    {
     "ename": "ZeroDivisionError",
     "evalue": "division by zero",
     "output_type": "error",
     "traceback": [
      "\u001b[0;31m---------------------------------------------------------------------------\u001b[0m",
      "\u001b[0;31mZeroDivisionError\u001b[0m                         Traceback (most recent call last)",
      "\u001b[0;32m<ipython-input-43-ca9a1fc55cd8>\u001b[0m in \u001b[0;36m<module>\u001b[0;34m\u001b[0m\n\u001b[1;32m      1\u001b[0m \u001b[0;31m# we can't divide by zero\u001b[0m\u001b[0;34m\u001b[0m\u001b[0;34m\u001b[0m\u001b[0;34m\u001b[0m\u001b[0m\n\u001b[0;32m----> 2\u001b[0;31m \u001b[0;36m1\u001b[0m\u001b[0;34m/\u001b[0m\u001b[0;36m0\u001b[0m\u001b[0;34m\u001b[0m\u001b[0;34m\u001b[0m\u001b[0m\n\u001b[0m",
      "\u001b[0;31mZeroDivisionError\u001b[0m: division by zero"
     ]
    }
   ],
   "source": [
    "# we can't divide by zero\n",
    "1/0"
   ]
  },
  {
   "cell_type": "markdown",
   "metadata": {},
   "source": [
    "> #### TYPE ERROR\n",
    "> \n",
    "> means that the operation you're trying to perform is expecting another data type..."
   ]
  },
  {
   "cell_type": "code",
   "execution_count": 44,
   "metadata": {},
   "outputs": [
    {
     "ename": "TypeError",
     "evalue": "can only concatenate str (not \"int\") to str",
     "output_type": "error",
     "traceback": [
      "\u001b[0;31m---------------------------------------------------------------------------\u001b[0m",
      "\u001b[0;31mTypeError\u001b[0m                                 Traceback (most recent call last)",
      "\u001b[0;32m<ipython-input-44-c0e6362e95e6>\u001b[0m in \u001b[0;36m<module>\u001b[0;34m\u001b[0m\n\u001b[1;32m      1\u001b[0m \u001b[0;31m# string + int concatenation is not possible\u001b[0m\u001b[0;34m\u001b[0m\u001b[0;34m\u001b[0m\u001b[0;34m\u001b[0m\u001b[0m\n\u001b[0;32m----> 2\u001b[0;31m \u001b[0;34m'1'\u001b[0m \u001b[0;34m+\u001b[0m \u001b[0;36m1\u001b[0m\u001b[0;34m\u001b[0m\u001b[0;34m\u001b[0m\u001b[0m\n\u001b[0m",
      "\u001b[0;31mTypeError\u001b[0m: can only concatenate str (not \"int\") to str"
     ]
    }
   ],
   "source": [
    "# string + int concatenation is not possible\n",
    "'1' + 1"
   ]
  },
  {
   "cell_type": "markdown",
   "metadata": {},
   "source": [
    "> #### NAME ERROR\n",
    ">\n",
    "> Python interpreter doesn't recognize the variable named `a` "
   ]
  },
  {
   "cell_type": "code",
   "execution_count": 45,
   "metadata": {},
   "outputs": [
    {
     "ename": "NameError",
     "evalue": "name 'a' is not defined",
     "output_type": "error",
     "traceback": [
      "\u001b[0;31m---------------------------------------------------------------------------\u001b[0m",
      "\u001b[0;31mNameError\u001b[0m                                 Traceback (most recent call last)",
      "\u001b[0;32m<ipython-input-45-e61fa43fc8e0>\u001b[0m in \u001b[0;36m<module>\u001b[0;34m\u001b[0m\n\u001b[1;32m      1\u001b[0m \u001b[0;31m# call a variable that doesn't exist\u001b[0m\u001b[0;34m\u001b[0m\u001b[0;34m\u001b[0m\u001b[0;34m\u001b[0m\u001b[0m\n\u001b[0;32m----> 2\u001b[0;31m \u001b[0mprint\u001b[0m\u001b[0;34m(\u001b[0m\u001b[0ma\u001b[0m\u001b[0;34m)\u001b[0m\u001b[0;34m\u001b[0m\u001b[0;34m\u001b[0m\u001b[0m\n\u001b[0m",
      "\u001b[0;31mNameError\u001b[0m: name 'a' is not defined"
     ]
    }
   ],
   "source": [
    "# call a variable that doesn't exist\n",
    "print(a)"
   ]
  },
  {
   "cell_type": "markdown",
   "metadata": {},
   "source": [
    "🌟 **Important Note:** _Always read the `exception` **name** and **message** so you understand what happened!_ 🌟"
   ]
  },
  {
   "cell_type": "markdown",
   "metadata": {},
   "source": [
    "### Raise Exceptions\n",
    "\n",
    "The above errors are **built-in exceptions.** Python also provides us with the possibility to create self-defined exceptions. Sometimes **`we want to stop the program when a condition occurs.`** We can do that by **raising an exception.**\n",
    "\n",
    "**We're going to use our exception** (not one of the errors you saw above)\n",
    "\n",
    "Let's **`print()`** a **number only if it's bigger than 5.** If the condition is not met, `raise an exception`"
   ]
  },
  {
   "cell_type": "code",
   "execution_count": 46,
   "metadata": {},
   "outputs": [],
   "source": [
    "def test(num):\n",
    "    if num > 5:\n",
    "        print(num)\n",
    "    else:\n",
    "        raise Exception('The number is less than 5')"
   ]
  },
  {
   "cell_type": "code",
   "execution_count": 47,
   "metadata": {},
   "outputs": [
    {
     "name": "stdout",
     "output_type": "stream",
     "text": [
      "6\n"
     ]
    }
   ],
   "source": [
    "test(6)"
   ]
  },
  {
   "cell_type": "code",
   "execution_count": 48,
   "metadata": {},
   "outputs": [
    {
     "ename": "Exception",
     "evalue": "The number is less than 5",
     "output_type": "error",
     "traceback": [
      "\u001b[0;31m---------------------------------------------------------------------------\u001b[0m",
      "\u001b[0;31mException\u001b[0m                                 Traceback (most recent call last)",
      "\u001b[0;32m<ipython-input-48-c694943c571f>\u001b[0m in \u001b[0;36m<module>\u001b[0;34m\u001b[0m\n\u001b[0;32m----> 1\u001b[0;31m \u001b[0mtest\u001b[0m\u001b[0;34m(\u001b[0m\u001b[0;36m3\u001b[0m\u001b[0;34m)\u001b[0m\u001b[0;34m\u001b[0m\u001b[0;34m\u001b[0m\u001b[0m\n\u001b[0m",
      "\u001b[0;32m<ipython-input-46-e310493b7723>\u001b[0m in \u001b[0;36mtest\u001b[0;34m(num)\u001b[0m\n\u001b[1;32m      3\u001b[0m         \u001b[0mprint\u001b[0m\u001b[0;34m(\u001b[0m\u001b[0mnum\u001b[0m\u001b[0;34m)\u001b[0m\u001b[0;34m\u001b[0m\u001b[0;34m\u001b[0m\u001b[0m\n\u001b[1;32m      4\u001b[0m     \u001b[0;32melse\u001b[0m\u001b[0;34m:\u001b[0m\u001b[0;34m\u001b[0m\u001b[0;34m\u001b[0m\u001b[0m\n\u001b[0;32m----> 5\u001b[0;31m         \u001b[0;32mraise\u001b[0m \u001b[0mException\u001b[0m\u001b[0;34m(\u001b[0m\u001b[0;34m'The number is less than 5'\u001b[0m\u001b[0;34m)\u001b[0m\u001b[0;34m\u001b[0m\u001b[0;34m\u001b[0m\u001b[0m\n\u001b[0m",
      "\u001b[0;31mException\u001b[0m: The number is less than 5"
     ]
    }
   ],
   "source": [
    "test(3)"
   ]
  },
  {
   "cell_type": "markdown",
   "metadata": {},
   "source": [
    "Or we can also raise exceptions outside functions if we want:"
   ]
  },
  {
   "cell_type": "code",
   "execution_count": 49,
   "metadata": {},
   "outputs": [
    {
     "name": "stdout",
     "output_type": "stream",
     "text": [
      "This line will be printed\n"
     ]
    },
    {
     "ename": "Exception",
     "evalue": "The number is less than 5",
     "output_type": "error",
     "traceback": [
      "\u001b[0;31m---------------------------------------------------------------------------\u001b[0m",
      "\u001b[0;31mException\u001b[0m                                 Traceback (most recent call last)",
      "\u001b[0;32m<ipython-input-49-b6965f1c3409>\u001b[0m in \u001b[0;36m<module>\u001b[0;34m\u001b[0m\n\u001b[1;32m      1\u001b[0m \u001b[0mprint\u001b[0m\u001b[0;34m(\u001b[0m\u001b[0;34m'This line will be printed'\u001b[0m\u001b[0;34m)\u001b[0m\u001b[0;34m\u001b[0m\u001b[0;34m\u001b[0m\u001b[0m\n\u001b[0;32m----> 2\u001b[0;31m \u001b[0;32mraise\u001b[0m \u001b[0mException\u001b[0m\u001b[0;34m(\u001b[0m\u001b[0;34m'The number is less than 5'\u001b[0m\u001b[0;34m)\u001b[0m\u001b[0;34m\u001b[0m\u001b[0;34m\u001b[0m\u001b[0m\n\u001b[0m\u001b[1;32m      3\u001b[0m \u001b[0mprint\u001b[0m\u001b[0;34m(\u001b[0m\u001b[0;34m'This line will not be printed'\u001b[0m\u001b[0;34m)\u001b[0m\u001b[0;34m\u001b[0m\u001b[0;34m\u001b[0m\u001b[0m\n",
      "\u001b[0;31mException\u001b[0m: The number is less than 5"
     ]
    }
   ],
   "source": [
    "print('This line will be printed')\n",
    "raise Exception('The number is less than 5')\n",
    "print('This line will not be printed')"
   ]
  },
  {
   "cell_type": "markdown",
   "metadata": {},
   "source": [
    "As you can see, the program will stop working once an exception is raised.\n",
    "\n",
    "Due to this reason, the **print line after the Exception being raised is not executed**\n",
    "\n",
    "\n",
    "### Handling Exceptions\n",
    "\n",
    "Great. But sometimes (**and even often**) **`we don't want to stop the program if something wrong happens.`** \n",
    "\n",
    "**Why?** Well, because we might foreseen that an error might occur and want to come up with ways to deal with it.\n",
    "\n",
    "We use **`try/except`** statement for that. The syntax is the following:\n",
    "\n",
    ">**`try`**` something:\n",
    ">    if there is no exception, do things`\n",
    ">**`except`**` <exception_type>:\n",
    ">    if there is this type of exception, do other things`\n",
    "\n",
    "**`exception_type`s** are the same things you saw in **Common errors and exceptions**\n",
    "\n",
    "There is a link to more exception types at the **end of this notebook**\n",
    "\n",
    "🌟 _If we don't specify the exception type, every exception will be caught_ 🌟\n",
    "\n",
    "For example, let's iterate over a list of numbers and **add 1 to each of them.** If there is any non-numeric element in the list, **let's catch this element and say that we can't add 1 to a non-numeric value.**\n"
   ]
  },
  {
   "cell_type": "code",
   "execution_count": 50,
   "metadata": {},
   "outputs": [],
   "source": [
    "def test_list_values(array):\n",
    "    for element in array:\n",
    "        try:\n",
    "            print(element + 1)\n",
    "        except TypeError:\n",
    "            print(element, ' is not a number. We cannnot add 1 to not a number')"
   ]
  },
  {
   "cell_type": "code",
   "execution_count": 51,
   "metadata": {},
   "outputs": [
    {
     "name": "stdout",
     "output_type": "stream",
     "text": [
      "2\n",
      "3\n",
      "4\n",
      "a  is not a number. We cannnot add 1 to not a number\n",
      "5\n",
      "6\n"
     ]
    }
   ],
   "source": [
    "test_list_values([1, 2, 3, 'a', 4, 5])"
   ]
  },
  {
   "cell_type": "markdown",
   "metadata": {},
   "source": [
    "As you could see, the program didn't stop because we just defined **`what to do`** when something goes wrong with the expected instructions."
   ]
  },
  {
   "cell_type": "markdown",
   "metadata": {},
   "source": [
    "### The `assert` function\n",
    "\n",
    "We have another way to **raise exception**. Instead of writing: \n",
    "\n",
    "`if condition:\n",
    "    raise Exception()`\n",
    "\n",
    "We might use an **`assert`** method:"
   ]
  },
  {
   "cell_type": "code",
   "execution_count": 52,
   "metadata": {},
   "outputs": [],
   "source": [
    "def test(num):\n",
    "    assert num > 5\n",
    "    print(num)"
   ]
  },
  {
   "cell_type": "markdown",
   "metadata": {},
   "source": [
    "**Assertions** are simply **`boolean expressions`** that check if the `condition` returns **true** or **false**.\n",
    "\n",
    "If it is **true**, the program **will continue to run** and move to the next line of code. On the other hand, if it's **false**, the program **stops and throws an AssertionError.**"
   ]
  },
  {
   "cell_type": "code",
   "execution_count": 53,
   "metadata": {},
   "outputs": [
    {
     "name": "stdout",
     "output_type": "stream",
     "text": [
      "6\n"
     ]
    }
   ],
   "source": [
    "test(6)"
   ]
  },
  {
   "cell_type": "code",
   "execution_count": 54,
   "metadata": {},
   "outputs": [
    {
     "ename": "AssertionError",
     "evalue": "",
     "output_type": "error",
     "traceback": [
      "\u001b[0;31m---------------------------------------------------------------------------\u001b[0m",
      "\u001b[0;31mAssertionError\u001b[0m                            Traceback (most recent call last)",
      "\u001b[0;32m<ipython-input-54-c694943c571f>\u001b[0m in \u001b[0;36m<module>\u001b[0;34m\u001b[0m\n\u001b[0;32m----> 1\u001b[0;31m \u001b[0mtest\u001b[0m\u001b[0;34m(\u001b[0m\u001b[0;36m3\u001b[0m\u001b[0;34m)\u001b[0m\u001b[0;34m\u001b[0m\u001b[0;34m\u001b[0m\u001b[0m\n\u001b[0m",
      "\u001b[0;32m<ipython-input-52-746ee0c802cc>\u001b[0m in \u001b[0;36mtest\u001b[0;34m(num)\u001b[0m\n\u001b[1;32m      1\u001b[0m \u001b[0;32mdef\u001b[0m \u001b[0mtest\u001b[0m\u001b[0;34m(\u001b[0m\u001b[0mnum\u001b[0m\u001b[0;34m)\u001b[0m\u001b[0;34m:\u001b[0m\u001b[0;34m\u001b[0m\u001b[0;34m\u001b[0m\u001b[0m\n\u001b[0;32m----> 2\u001b[0;31m     \u001b[0;32massert\u001b[0m \u001b[0mnum\u001b[0m \u001b[0;34m>\u001b[0m \u001b[0;36m5\u001b[0m\u001b[0;34m\u001b[0m\u001b[0;34m\u001b[0m\u001b[0m\n\u001b[0m\u001b[1;32m      3\u001b[0m     \u001b[0mprint\u001b[0m\u001b[0;34m(\u001b[0m\u001b[0mnum\u001b[0m\u001b[0;34m)\u001b[0m\u001b[0;34m\u001b[0m\u001b[0;34m\u001b[0m\u001b[0m\n",
      "\u001b[0;31mAssertionError\u001b[0m: "
     ]
    }
   ],
   "source": [
    "test(3)"
   ]
  },
  {
   "cell_type": "markdown",
   "metadata": {},
   "source": [
    "We can also add a **`message`** so that the **assertion error is easier to understand**"
   ]
  },
  {
   "cell_type": "code",
   "execution_count": 55,
   "metadata": {},
   "outputs": [],
   "source": [
    "def test(num):\n",
    "    assert num > 5, 'The number has to be bigger than 5'\n",
    "    print(num)"
   ]
  },
  {
   "cell_type": "code",
   "execution_count": 56,
   "metadata": {},
   "outputs": [
    {
     "name": "stdout",
     "output_type": "stream",
     "text": [
      "6\n"
     ]
    }
   ],
   "source": [
    "test(6)"
   ]
  },
  {
   "cell_type": "code",
   "execution_count": 57,
   "metadata": {},
   "outputs": [
    {
     "ename": "AssertionError",
     "evalue": "The number has to be bigger than 5",
     "output_type": "error",
     "traceback": [
      "\u001b[0;31m---------------------------------------------------------------------------\u001b[0m",
      "\u001b[0;31mAssertionError\u001b[0m                            Traceback (most recent call last)",
      "\u001b[0;32m<ipython-input-57-c694943c571f>\u001b[0m in \u001b[0;36m<module>\u001b[0;34m\u001b[0m\n\u001b[0;32m----> 1\u001b[0;31m \u001b[0mtest\u001b[0m\u001b[0;34m(\u001b[0m\u001b[0;36m3\u001b[0m\u001b[0;34m)\u001b[0m\u001b[0;34m\u001b[0m\u001b[0;34m\u001b[0m\u001b[0m\n\u001b[0m",
      "\u001b[0;32m<ipython-input-55-8380508d3fca>\u001b[0m in \u001b[0;36mtest\u001b[0;34m(num)\u001b[0m\n\u001b[1;32m      1\u001b[0m \u001b[0;32mdef\u001b[0m \u001b[0mtest\u001b[0m\u001b[0;34m(\u001b[0m\u001b[0mnum\u001b[0m\u001b[0;34m)\u001b[0m\u001b[0;34m:\u001b[0m\u001b[0;34m\u001b[0m\u001b[0;34m\u001b[0m\u001b[0m\n\u001b[0;32m----> 2\u001b[0;31m     \u001b[0;32massert\u001b[0m \u001b[0mnum\u001b[0m \u001b[0;34m>\u001b[0m \u001b[0;36m5\u001b[0m\u001b[0;34m,\u001b[0m \u001b[0;34m'The number has to be bigger than 5'\u001b[0m\u001b[0;34m\u001b[0m\u001b[0;34m\u001b[0m\u001b[0m\n\u001b[0m\u001b[1;32m      3\u001b[0m     \u001b[0mprint\u001b[0m\u001b[0;34m(\u001b[0m\u001b[0mnum\u001b[0m\u001b[0;34m)\u001b[0m\u001b[0;34m\u001b[0m\u001b[0;34m\u001b[0m\u001b[0m\n",
      "\u001b[0;31mAssertionError\u001b[0m: The number has to be bigger than 5"
     ]
    }
   ],
   "source": [
    "test(3)"
   ]
  },
  {
   "cell_type": "code",
   "execution_count": 58,
   "metadata": {},
   "outputs": [
    {
     "name": "stdout",
     "output_type": "stream",
     "text": [
      "maria\n",
      "\n",
      "ate an apple\n",
      "\n"
     ]
    },
    {
     "ename": "AssertionError",
     "evalue": "Don't eat pies without me!",
     "output_type": "error",
     "traceback": [
      "\u001b[0;31m---------------------------------------------------------------------------\u001b[0m",
      "\u001b[0;31mAssertionError\u001b[0m                            Traceback (most recent call last)",
      "\u001b[0;32m<ipython-input-58-357b759d8970>\u001b[0m in \u001b[0;36m<module>\u001b[0;34m\u001b[0m\n\u001b[1;32m      1\u001b[0m \u001b[0;32mfor\u001b[0m \u001b[0mline\u001b[0m \u001b[0;32min\u001b[0m \u001b[0mlines\u001b[0m\u001b[0;34m:\u001b[0m\u001b[0;34m\u001b[0m\u001b[0;34m\u001b[0m\u001b[0m\n\u001b[0;32m----> 2\u001b[0;31m     \u001b[0;32massert\u001b[0m \u001b[0mline\u001b[0m \u001b[0;34m!=\u001b[0m \u001b[0;34m'pie for breakfast'\u001b[0m\u001b[0;34m,\u001b[0m \u001b[0;34m\"Don't eat pies without me!\"\u001b[0m\u001b[0;34m\u001b[0m\u001b[0;34m\u001b[0m\u001b[0m\n\u001b[0m\u001b[1;32m      3\u001b[0m     \u001b[0mprint\u001b[0m\u001b[0;34m(\u001b[0m\u001b[0mline\u001b[0m\u001b[0;34m)\u001b[0m\u001b[0;34m\u001b[0m\u001b[0;34m\u001b[0m\u001b[0m\n",
      "\u001b[0;31mAssertionError\u001b[0m: Don't eat pies without me!"
     ]
    }
   ],
   "source": [
    "for line in lines:\n",
    "    assert line != 'pie for breakfast', \"Don't eat pies without me!\"\n",
    "    print(line)"
   ]
  },
  {
   "cell_type": "markdown",
   "metadata": {},
   "source": [
    "For example, **we used a lot of asserts to check your exercise notebooks!**\n",
    "\n",
    "We could check if \n",
    "\n",
    "- the output of your functions is right, \n",
    "- the length of created strings is correct...\n",
    "- your code is in line with what we expected,\n",
    "- the correct output is produced, \n",
    "- the program continues to run and no error is raised...\n",
    "\n",
    "However, if your code **is not correct**, an **`AssertionError`** is raised! So **if you don't see any error when running the test cells with a bunch of asserts, it means that your solution is accurate.** Congrats!"
   ]
  },
  {
   "cell_type": "markdown",
   "metadata": {},
   "source": [
    "And one last thing...\n",
    "\n",
    "**Try/except** are very very very commonly used, so **remember about them!**\n",
    "\n",
    "***\n",
    "\n",
    "🎉🎉🎉 **Awesome, you're done with this learning notebook!** 🎉🎉🎉\n",
    "\n",
    "We hope it was useful!\n",
    "\n",
    "In order to practice the things you learned, go to the **exercise notebook** and solve the practical exercise. Don't get frustrated, as it's going to require you to know more things than the ones you have just learned in this lecture.\n",
    "\n",
    "It's really important to learn how to **google things**, so **`do it until you find the right answer.`** And may the force be with you!\n",
    "\n",
    "***\n",
    "\n",
    "# Additional materials:\n",
    "- [more about reading files in python](https://stackabuse.com/reading-files-with-python/)\n",
    "- [even more about reading files](https://realpython.com/read-write-files-python/)\n",
    "- [more about strings in python](https://realpython.com/python-strings/)\n",
    "- [a little about string formatting in python](https://docs.python.org/3/library/stdtypes.html#printf-style-string-formatting)\n",
    "- [additional methods to handle strings in python](https://towardsdatascience.com/useful-string-methods-in-python-5047ea4d3f90)\n",
    "- [python exceptions documentation](https://docs.python.org/3/tutorial/errors.html)\n",
    "- [python built-in exceptions](https://docs.python.org/2/library/exceptions.html)"
   ]
  }
 ],
 "metadata": {
  "kernelspec": {
   "display_name": "Python 3",
   "language": "python",
   "name": "python3"
  },
  "language_info": {
   "codemirror_mode": {
    "name": "ipython",
    "version": 3
   },
   "file_extension": ".py",
   "mimetype": "text/x-python",
   "name": "python",
   "nbconvert_exporter": "python",
   "pygments_lexer": "ipython3",
   "version": "3.7.10"
  }
 },
 "nbformat": 4,
 "nbformat_minor": 2
}
