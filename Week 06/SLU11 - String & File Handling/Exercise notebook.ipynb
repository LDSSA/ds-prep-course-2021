{
 "cells": [
  {
   "cell_type": "markdown",
   "metadata": {
    "deletable": false,
    "editable": false,
    "nbgrader": {
     "grade": false,
     "grade_id": "cell-46d843154dcd7d0f",
     "locked": true,
     "schema_version": 3,
     "solution": false
    }
   },
   "source": [
    "# SLU11 | String & File Handling: Exercise Notebook\n",
    "\n",
    "***\n",
    "\n",
    "Now we're going to test how well you understood the learning notebook.\n",
    "\n",
    "Also, this notebook is going to often require some **googling skills**. \n",
    "\n",
    "It's very important to learn **`how to google anything you don't remember or don't know how to do.`**\n",
    "\n",
    "## Start by importing these packages"
   ]
  },
  {
   "cell_type": "code",
   "execution_count": null,
   "metadata": {
    "deletable": false,
    "editable": false,
    "nbgrader": {
     "grade": false,
     "grade_id": "cell-82d6c951064ba705",
     "locked": true,
     "schema_version": 3,
     "solution": false,
     "task": false
    }
   },
   "outputs": [],
   "source": [
    "# for evaluation purposes\n",
    "import hashlib\n",
    "import os\n",
    "from IPython.display import display, Image\n",
    "\n",
    "def _hash(s):\n",
    "    return hashlib.blake2b(\n",
    "        bytes(str(s), encoding='utf8'),\n",
    "        digest_size=5\n",
    "    ).hexdigest()\n",
    "\n",
    "src = os.path.join('.','assets','eba68db97a.jpg') "
   ]
  },
  {
   "cell_type": "markdown",
   "metadata": {
    "deletable": false,
    "editable": false,
    "nbgrader": {
     "grade": false,
     "grade_id": "cell-2dbef5d9c5c75099",
     "locked": true,
     "schema_version": 3,
     "solution": false,
     "task": false
    }
   },
   "source": [
    "## PART 1\n",
    "\n",
    "### Exercise 1\n",
    "- Open a local file called **`'assignment.txt'`** and store it in a variable called **`'f'`**.\n",
    "- Read the **whole file** and store it in a variable called **`'text'`**.\n",
    "\n",
    "⚠️ _The variable should consist of **only one string representing all the lines from the file.**_"
   ]
  },
  {
   "cell_type": "code",
   "execution_count": null,
   "metadata": {
    "deletable": false,
    "nbgrader": {
     "grade": false,
     "grade_id": "cell-5c616f01a6b14b63",
     "locked": false,
     "schema_version": 3,
     "solution": true,
     "task": false
    }
   },
   "outputs": [],
   "source": [
    "# f = ...\n",
    "# text = ...\n",
    "\n",
    "# YOUR CODE HERE\n",
    "raise NotImplementedError()"
   ]
  },
  {
   "cell_type": "code",
   "execution_count": null,
   "metadata": {
    "deletable": false,
    "editable": false,
    "nbgrader": {
     "grade": true,
     "grade_id": "cell-e2d149b3016dc2fc",
     "locked": true,
     "points": 1,
     "schema_version": 3,
     "solution": false,
     "task": false
    }
   },
   "outputs": [],
   "source": [
    "assert isinstance(text, str), \"Are you sure you read the whole file as one string (not as list of strings)?\"\n",
    "assert _hash(len(text)) == 'a980c09096', \"The length of the string doesn't match\"\n",
    "assert _hash(text[0]) == '5ca379c9c1', \"Did you read the correct file?\"\n",
    "\n",
    "print(\"---- all asserts passed ---- \")"
   ]
  },
  {
   "cell_type": "markdown",
   "metadata": {
    "deletable": false,
    "editable": false,
    "nbgrader": {
     "grade": false,
     "grade_id": "cell-edbda817ca5994ae",
     "locked": true,
     "schema_version": 3,
     "solution": false,
     "task": false
    }
   },
   "source": [
    "### Exercise 2\n",
    "- Move the **`read cursor`** to the **beginning of the file** stored in variable **`f`**.\n",
    "- Read **each line** of the file and store it in a variable called **`lines`**.\n",
    "\n",
    "⚠️ _The variable should be a **list of strings.**_"
   ]
  },
  {
   "cell_type": "code",
   "execution_count": null,
   "metadata": {
    "deletable": false,
    "nbgrader": {
     "grade": false,
     "grade_id": "cell-78e73bd6fb0635fc",
     "locked": false,
     "schema_version": 3,
     "solution": true,
     "task": false
    }
   },
   "outputs": [],
   "source": [
    "# ...\n",
    "# lines = ...\n",
    "\n",
    "# YOUR CODE HERE\n",
    "raise NotImplementedError()"
   ]
  },
  {
   "cell_type": "code",
   "execution_count": null,
   "metadata": {
    "deletable": false,
    "editable": false,
    "nbgrader": {
     "grade": true,
     "grade_id": "cell-d1ac86663d79cef7",
     "locked": true,
     "points": 1,
     "schema_version": 3,
     "solution": false,
     "task": false
    }
   },
   "outputs": [],
   "source": [
    "assert _hash(len(lines)) != '5b4838043f', \"Did you move the cursor to the beginning of the file?\"\n",
    "assert isinstance(lines, list), \"Are you sure you stored the file as a list of strings?\"\n",
    "assert _hash(len(lines)) == 'd4fe3de58a', \"The number of string elements in the list doesn't match\"\n",
    "assert _hash(lines[0]) =='0d3c2c6fb2', \"Are you sure you read the correct file?\"\n",
    "\n",
    "print(\"---- all asserts passed ---- \")"
   ]
  },
  {
   "cell_type": "markdown",
   "metadata": {
    "deletable": false,
    "editable": false,
    "nbgrader": {
     "grade": false,
     "grade_id": "cell-85741d3dfaeed125",
     "locked": true,
     "schema_version": 3,
     "solution": false,
     "task": false
    }
   },
   "source": [
    "***\n",
    "\n",
    "## PART 2\n",
    "\n",
    "### Exercise 3\n",
    "Let's preprocess our file.\n",
    "- For each **string** in the **`lines`** **list**:\n",
    "    > remove all the **`newline characters`** and save the result in **the same variable**."
   ]
  },
  {
   "cell_type": "code",
   "execution_count": null,
   "metadata": {
    "deletable": false,
    "nbgrader": {
     "grade": false,
     "grade_id": "cell-d3af9181b11c5b5b",
     "locked": false,
     "schema_version": 3,
     "solution": true,
     "task": false
    }
   },
   "outputs": [],
   "source": [
    "# lines = ...\n",
    "# YOUR CODE HERE\n",
    "raise NotImplementedError()"
   ]
  },
  {
   "cell_type": "code",
   "execution_count": null,
   "metadata": {
    "deletable": false,
    "editable": false,
    "nbgrader": {
     "grade": true,
     "grade_id": "cell-62eba51f14c12c49",
     "locked": true,
     "points": 1,
     "schema_version": 3,
     "solution": false,
     "task": false
    }
   },
   "outputs": [],
   "source": [
    "assert isinstance(lines, list), \"Lines has to be a list of strings\"\n",
    "assert _hash(len(lines)) == 'd4fe3de58a', \"The number of strings in the list doesn't match\"\n",
    "assert _hash(len(lines[0])) =='fdeb53ac14', \"Are you sure you removed the newline characters?\"\n",
    "\n",
    "print(\"---- all asserts passed ---- \")"
   ]
  },
  {
   "cell_type": "markdown",
   "metadata": {
    "deletable": false,
    "editable": false,
    "nbgrader": {
     "grade": false,
     "grade_id": "cell-5ed6e3eaf36507ca",
     "locked": true,
     "schema_version": 3,
     "solution": false,
     "task": false
    }
   },
   "source": [
    "### Exercise 4\n",
    "\n",
    "Remove all the **empty lines** in the **`lines`** **list** and save the result in **the same variable**:"
   ]
  },
  {
   "cell_type": "code",
   "execution_count": null,
   "metadata": {
    "deletable": false,
    "nbgrader": {
     "grade": false,
     "grade_id": "cell-cca50a46d15fd13d",
     "locked": false,
     "schema_version": 3,
     "solution": true,
     "task": false
    }
   },
   "outputs": [],
   "source": [
    "# lines = ...\n",
    "\n",
    "# YOUR CODE HERE\n",
    "raise NotImplementedError()"
   ]
  },
  {
   "cell_type": "code",
   "execution_count": null,
   "metadata": {
    "deletable": false,
    "editable": false,
    "nbgrader": {
     "grade": true,
     "grade_id": "cell-048486c832b1aeb9",
     "locked": true,
     "points": 1,
     "schema_version": 3,
     "solution": false,
     "task": false
    }
   },
   "outputs": [],
   "source": [
    "assert _hash(len(lines)) == '427566cc6c', \"Are you sure that you removed all the empty strings?\"\n",
    "\n",
    "print(\"---- all asserts passed ---- \")"
   ]
  },
  {
   "cell_type": "markdown",
   "metadata": {
    "deletable": false,
    "editable": false,
    "nbgrader": {
     "grade": false,
     "grade_id": "cell-17ee9bf8efa57e78",
     "locked": true,
     "schema_version": 3,
     "solution": false,
     "task": false
    }
   },
   "source": [
    "### Exercise 5\n",
    "Concatenate all the **strings** in the **`lines` list** into one **long string**."
   ]
  },
  {
   "cell_type": "code",
   "execution_count": null,
   "metadata": {
    "deletable": false,
    "nbgrader": {
     "grade": false,
     "grade_id": "cell-121fbc38e772e04a",
     "locked": false,
     "schema_version": 3,
     "solution": true,
     "task": false
    }
   },
   "outputs": [],
   "source": [
    "# lines = ...\n",
    "# YOUR CODE HERE\n",
    "raise NotImplementedError()"
   ]
  },
  {
   "cell_type": "code",
   "execution_count": null,
   "metadata": {
    "deletable": false,
    "editable": false,
    "nbgrader": {
     "grade": true,
     "grade_id": "cell-d6a132cb0e86cc5d",
     "locked": true,
     "points": 1,
     "schema_version": 3,
     "solution": false,
     "task": false
    }
   },
   "outputs": [],
   "source": [
    "assert isinstance(lines, str), \"It's not a string\"\n",
    "assert _hash(len(lines)) == 'd085807d6c', \"The length of the string doesn't match\"\n",
    "\n",
    "print(\"---- all asserts passed ---- \")"
   ]
  },
  {
   "cell_type": "markdown",
   "metadata": {
    "deletable": false,
    "editable": false,
    "nbgrader": {
     "grade": false,
     "grade_id": "cell-a48fa1f928345ecd",
     "locked": true,
     "schema_version": 3,
     "solution": false,
     "task": false
    }
   },
   "source": [
    "### Exercise 6\n",
    "Convert the **`lines`** (**string**) to a **list of words** and save it in a variable called **`'words'`**.\n",
    "\n",
    "🌟 **Hint:** _Use space symbol as a separator_ 🌟"
   ]
  },
  {
   "cell_type": "code",
   "execution_count": null,
   "metadata": {
    "deletable": false,
    "nbgrader": {
     "grade": false,
     "grade_id": "cell-0023979f541f52e0",
     "locked": false,
     "schema_version": 3,
     "solution": true,
     "task": false
    }
   },
   "outputs": [],
   "source": [
    "# words = ...\n",
    "\n",
    "# YOUR CODE HERE\n",
    "raise NotImplementedError()"
   ]
  },
  {
   "cell_type": "code",
   "execution_count": null,
   "metadata": {
    "deletable": false,
    "editable": false,
    "nbgrader": {
     "grade": true,
     "grade_id": "cell-84bffa431d75f2f6",
     "locked": true,
     "points": 1,
     "schema_version": 3,
     "solution": false,
     "task": false
    }
   },
   "outputs": [],
   "source": [
    "assert isinstance(words, list), \"It's not a list\"\n",
    "assert isinstance(words[0], str), \"The list has to consist of strings\"\n",
    "assert _hash(len(words)) == '8be07733f2', \"The number of words doesn't match\"\n",
    "\n",
    "print(\"---- all asserts passed ---- \")"
   ]
  },
  {
   "cell_type": "markdown",
   "metadata": {
    "deletable": false,
    "editable": false,
    "nbgrader": {
     "grade": false,
     "grade_id": "cell-a8bb3aaa063ea053",
     "locked": true,
     "schema_version": 3,
     "solution": false,
     "task": false
    }
   },
   "source": [
    "### Exercise 7\n",
    "Convert all the **strings** in **`words`** to lowercase."
   ]
  },
  {
   "cell_type": "code",
   "execution_count": null,
   "metadata": {
    "deletable": false,
    "nbgrader": {
     "grade": false,
     "grade_id": "cell-cb00efd631ee3d37",
     "locked": false,
     "schema_version": 3,
     "solution": true,
     "task": false
    }
   },
   "outputs": [],
   "source": [
    "# words = ...\n",
    "\n",
    "# YOUR CODE HERE\n",
    "raise NotImplementedError()"
   ]
  },
  {
   "cell_type": "code",
   "execution_count": null,
   "metadata": {
    "deletable": false,
    "editable": false,
    "nbgrader": {
     "grade": true,
     "grade_id": "cell-ab311a01acff014c",
     "locked": true,
     "points": 1,
     "schema_version": 3,
     "solution": false,
     "task": false
    }
   },
   "outputs": [],
   "source": [
    "assert all([word.islower() for word in words]), \"Not all the words are lowercase\"\n",
    "\n",
    "print(\"---- all asserts passed ---- \")"
   ]
  },
  {
   "cell_type": "markdown",
   "metadata": {
    "deletable": false,
    "editable": false,
    "nbgrader": {
     "grade": false,
     "grade_id": "cell-a76e39ff406a1813",
     "locked": true,
     "schema_version": 3,
     "solution": false,
     "task": false
    }
   },
   "source": [
    "### Exercise 8\n",
    "In **Natural Language Processing** - **`NLP`** we usually want to remove some words that have no meaning. They are usually called **`stop words`**.\n",
    "\n",
    "We're not dealing with **NLP** yet, but let's also **remove such words**.\n",
    "- From the **`words`** list remove the words that are in the **`stop_words`** list:\n",
    "> stop_words = [ **`'on'`, `'an'`, `'in'`, `'a'`, `'of'`, `'the'`, `'and'`** ]"
   ]
  },
  {
   "cell_type": "code",
   "execution_count": null,
   "metadata": {
    "deletable": false,
    "nbgrader": {
     "grade": false,
     "grade_id": "cell-064d872c33ebafdd",
     "locked": false,
     "schema_version": 3,
     "solution": true,
     "task": false
    }
   },
   "outputs": [],
   "source": [
    "# stop_words = ['on','an','in','a','of','the','and']\n",
    "# words = ...\n",
    "\n",
    "# YOUR CODE HERE\n",
    "raise NotImplementedError()"
   ]
  },
  {
   "cell_type": "code",
   "execution_count": null,
   "metadata": {
    "deletable": false,
    "editable": false,
    "nbgrader": {
     "grade": true,
     "grade_id": "cell-5e51d4948d757891",
     "locked": true,
     "points": 1,
     "schema_version": 3,
     "solution": false,
     "task": false
    }
   },
   "outputs": [],
   "source": [
    "assert _hash(len(words)) == 'd03f94b383', \"The number of words doesn't match\"\n",
    "\n",
    "print(\"---- all asserts passed ---- \")"
   ]
  },
  {
   "cell_type": "markdown",
   "metadata": {
    "deletable": false,
    "editable": false,
    "nbgrader": {
     "grade": false,
     "grade_id": "cell-fdb90dbfaf05c6fa",
     "locked": true,
     "schema_version": 3,
     "solution": false,
     "task": false
    }
   },
   "source": [
    "### Exercise 9\n",
    "Keep only unique words in the **`words`** list created on **exercise 8**.\n",
    "\n",
    "Store them in the same variable. **It has to be a list of unique words!**\n",
    "\n",
    "🌟 **Hint:** _You'll need some **Googling** on this question_ 🌟"
   ]
  },
  {
   "cell_type": "code",
   "execution_count": null,
   "metadata": {
    "deletable": false,
    "nbgrader": {
     "grade": false,
     "grade_id": "cell-aa8cd00bd90721fb",
     "locked": false,
     "schema_version": 3,
     "solution": true,
     "task": false
    }
   },
   "outputs": [],
   "source": [
    "# words = ...\n",
    "\n",
    "# YOUR CODE HERE\n",
    "raise NotImplementedError()"
   ]
  },
  {
   "cell_type": "code",
   "execution_count": null,
   "metadata": {
    "deletable": false,
    "editable": false,
    "nbgrader": {
     "grade": true,
     "grade_id": "cell-e354a40c7e837c45",
     "locked": true,
     "points": 1,
     "schema_version": 3,
     "solution": false,
     "task": false
    }
   },
   "outputs": [],
   "source": [
    "assert isinstance(words, list), \"We need to store the unique words in a list\"\n",
    "assert _hash(len(words)) == 'f062f478b4', \"The number of words doesn't match\"\n",
    "\n",
    "print(\"---- all asserts passed ---- \")"
   ]
  },
  {
   "cell_type": "markdown",
   "metadata": {
    "deletable": false,
    "editable": false,
    "nbgrader": {
     "grade": false,
     "grade_id": "cell-2f6bd09053a78cc2",
     "locked": true,
     "schema_version": 3,
     "solution": false,
     "task": false
    }
   },
   "source": [
    "### Exercise 10\n",
    "Create a function to find **if a word has more characters** than a given **number**:\n",
    "- Create the function **`is_long()`**, which must:\n",
    "- Receive **2 parameters:**\n",
    "> * **`string`**: representing the word that we're checking.\n",
    "> * **`integer`**: representing the minimum length that word should have.\n",
    "- Return:\n",
    "> * **`True`**: if length of the word **>=** `integer`;\n",
    "> * **`False`**: if length of the word **<** `integer`;"
   ]
  },
  {
   "cell_type": "code",
   "execution_count": null,
   "metadata": {
    "deletable": false,
    "nbgrader": {
     "grade": false,
     "grade_id": "cell-2cfca9c135f57b08",
     "locked": false,
     "schema_version": 3,
     "solution": true,
     "task": false
    }
   },
   "outputs": [],
   "source": [
    "# def is_long(word, number):\n",
    "#    ...\n",
    "\n",
    "# YOUR CODE HERE\n",
    "raise NotImplementedError()"
   ]
  },
  {
   "cell_type": "code",
   "execution_count": null,
   "metadata": {
    "deletable": false,
    "editable": false,
    "nbgrader": {
     "grade": true,
     "grade_id": "cell-f83d24ebe38a8c0e",
     "locked": true,
     "points": 1,
     "schema_version": 3,
     "solution": false,
     "task": false
    }
   },
   "outputs": [],
   "source": [
    "assert is_long('Exercise', 5), \"The function didn't pass the test for the following parameters: word='exercise', num=5\"\n",
    "assert not is_long('Exercise', 10), \"The function didn't pass the test for the following parameters: word='exercise', num=10\"\n",
    "\n",
    "print(\"---- all asserts passed ---- \")"
   ]
  },
  {
   "cell_type": "markdown",
   "metadata": {
    "deletable": false,
    "editable": false,
    "nbgrader": {
     "grade": false,
     "grade_id": "cell-0d9418708c1af53b",
     "locked": true,
     "schema_version": 3,
     "solution": false,
     "task": false
    }
   },
   "source": [
    "### Exercise 11\n",
    "- Apply **`is_long()`** function to **each word** in **`'words'`** variable you have created in **Exercise 9**.\n",
    "- Use the value **`5`** for the **`integer`** parameter.\n",
    "- Store the result in a variable called **`long_words`**."
   ]
  },
  {
   "cell_type": "code",
   "execution_count": null,
   "metadata": {
    "deletable": false,
    "nbgrader": {
     "grade": false,
     "grade_id": "cell-d6886505b94e4ce5",
     "locked": false,
     "schema_version": 3,
     "solution": true,
     "task": false
    }
   },
   "outputs": [],
   "source": [
    "# long_words = ...\n",
    "\n",
    "# YOUR CODE HERE\n",
    "raise NotImplementedError()"
   ]
  },
  {
   "cell_type": "code",
   "execution_count": null,
   "metadata": {
    "deletable": false,
    "editable": false,
    "nbgrader": {
     "grade": true,
     "grade_id": "cell-8c31b9ac6bc23548",
     "locked": true,
     "points": 1,
     "schema_version": 3,
     "solution": false,
     "task": false
    }
   },
   "outputs": [],
   "source": [
    "assert _hash(len(long_words)) == 'dadbc194c4', \"The number of words doesn't match\"\n",
    "\n",
    "print(\"---- all asserts passed ---- \")"
   ]
  },
  {
   "cell_type": "markdown",
   "metadata": {
    "deletable": false,
    "editable": false,
    "nbgrader": {
     "grade": false,
     "grade_id": "cell-2b796a52092e4acd",
     "locked": true,
     "schema_version": 3,
     "solution": false,
     "task": false
    }
   },
   "source": [
    "### Exercise 12\n",
    "Create a function that **calculates how many words in a list start with a given letter**.\n",
    "- Create the function **`start_with()`**, which must:\n",
    "- Accept **2 parameters:**\n",
    "> * **`words_list`**: list of words.\n",
    "> * **`letter`**: letter to check.\n",
    "- Return an **integer**, which is the **number of cases** when this letter is the **first letter in a word**."
   ]
  },
  {
   "cell_type": "code",
   "execution_count": null,
   "metadata": {
    "deletable": false,
    "nbgrader": {
     "grade": false,
     "grade_id": "cell-2088771824f8e2a1",
     "locked": false,
     "schema_version": 3,
     "solution": true,
     "task": false
    }
   },
   "outputs": [],
   "source": [
    "# def start_with(words_list, letter):\n",
    "#    ...\n",
    "\n",
    "# YOUR CODE HERE\n",
    "raise NotImplementedError()\n"
   ]
  },
  {
   "cell_type": "code",
   "execution_count": null,
   "metadata": {
    "deletable": false,
    "editable": false,
    "nbgrader": {
     "grade": true,
     "grade_id": "cell-8bb4a1579925fe13",
     "locked": true,
     "points": 1,
     "schema_version": 3,
     "solution": false,
     "task": false
    }
   },
   "outputs": [],
   "source": [
    "assert isinstance(start_with(long_words, 'b'), int), \"The function must return an integer.\"\n",
    "assert _hash(start_with(long_words, 'b')) == 'cf2d85ea1d', \"The function didn't work for long_words and letter='b'\"\n",
    "assert _hash(start_with(words, 'a')) == 'a72043e53f', \"The function didn't work for words and letter='a'\"\n",
    "assert _hash(start_with(words, 'd')) == 'e4ffcdac53', \"The function didn't work for words and letter='d'\"\n",
    "\n",
    "print(\"---- all asserts passed ---- \")"
   ]
  },
  {
   "cell_type": "markdown",
   "metadata": {
    "deletable": false,
    "editable": false,
    "nbgrader": {
     "grade": false,
     "grade_id": "cell-3434f8483c126ca7",
     "locked": true,
     "schema_version": 3,
     "solution": false,
     "task": false
    }
   },
   "source": [
    "### Exercise 13\n",
    "\n",
    "This task is going to be a bit **more difficult**, but also **pretty realistic.** \n",
    "\n",
    "We're going to create our own **`encoder`**!\n",
    "\n",
    "> **But what is that?!**\n",
    ">\n",
    "> _**`Encoder`** is a program that transforms one format of data into another format. You're going to use them all the time on the academy. Now we're going to write a simple encoder by ourselves._\n",
    "\n",
    "Our encoder is going to **check if a sentence has some predifined words.** Imagine that we have a lot of sentences and we want to understand if they are `positive` or `negative`.\n",
    "\n",
    "Our idea is the following:\n",
    "\n",
    "> If the sentence has words like **`'good'`**, **`'awesome'`**, **`'fantastic'`**, **`'hilarious'`** etc., it's **positive.** And it's **negative** otherwise.\n",
    "> \n",
    "> Let's call these **good** words our **`vocabulary`**\n",
    "\n",
    "Create a function, which:\n",
    "- Is called **`encoder()`**.\n",
    "- Accepts **2 inputs:**\n",
    "> 1. sentence (string).\n",
    "> 2. vocabulary (list of words).\n",
    "- For each **word** in the **`vocabulary`**:\n",
    "> checks whether this **word** is in the sentence.\n",
    "- Returns a list with the same length of our **`vocabulary`**, but instead of **words** it has only **zeros and ones**:\n",
    "> **`1`** means that this word was in the sentence.\n",
    ">\n",
    "> **`0`** otherwise.\n",
    "\n",
    "**Example:**\n",
    "\n",
    "`vocabulary = ['good', 'better', 'awesome', 'fantastic']\n",
    "sentence = 'This day was fantastic. Tomorrow will be even better!'\n",
    "encoder(sentence, vocabulary)`\n",
    "\n",
    "> **Output:**\n",
    ">\n",
    "> `[0,1,0,1]`\n",
    "\n",
    "**Explanation:**\n",
    "\n",
    "**`'good'`** was **not** in the sentence &#8594; **0** <br>\n",
    "**`'better'`** was in the sentence &#8594; **1** <br>\n",
    "**`'awesome'`** was **not** in the sentence &#8594; **0** <br>\n",
    "**`'fantastic'`** was in the sentence &#8594; **1** <br>\n",
    "\n",
    "⚠️ **WARNING:** Don't forget to **`lowercase`** the words in the **sentence** and in the **vocabulary** ⚠️\n",
    "\n",
    "Assume that all the words are **separated by `space symbol`**. If you're stuck with this task, **try to divide it in smaller parts.** "
   ]
  },
  {
   "cell_type": "markdown",
   "metadata": {
    "deletable": false,
    "editable": false,
    "nbgrader": {
     "grade": false,
     "grade_id": "cell-efdf85b2fefbf6c3",
     "locked": true,
     "schema_version": 3,
     "solution": false,
     "task": false
    }
   },
   "source": [
    "***\n",
    "**Tips:** \n",
    "\n",
    "We can divide this task into a few **smaller steps**:\n",
    "\n",
    "1) First, we might need to **lowercase** each **word** in the **`vocabulary`**.\n",
    "\n",
    "2) **Split** the **sentence** into a **list of words**:\n",
    "> Let's call it **`words_list`**\n",
    "\n",
    "3) Lowercase each **word** in this list.\n",
    "\n",
    "4) For each **word** in our **`vocabulary`**, ask the program whether this word is in words_list:\n",
    "> If **yes**, the answer is **1**.\n",
    "> If it's **not**, the answer is **0**.\n",
    "\n",
    "5) Return the **list of answers**.\n",
    "\n",
    "***"
   ]
  },
  {
   "cell_type": "code",
   "execution_count": null,
   "metadata": {
    "deletable": false,
    "nbgrader": {
     "grade": false,
     "grade_id": "cell-24946c705e259797",
     "locked": false,
     "schema_version": 3,
     "solution": true,
     "task": false
    }
   },
   "outputs": [],
   "source": [
    "# def encoder(sentence, vocabulary):\n",
    "#    ...\n",
    "\n",
    "# YOUR CODE HERE\n",
    "raise NotImplementedError()"
   ]
  },
  {
   "cell_type": "code",
   "execution_count": null,
   "metadata": {
    "deletable": false,
    "editable": false,
    "nbgrader": {
     "grade": true,
     "grade_id": "cell-28362929ccc11e01",
     "locked": true,
     "points": 2,
     "schema_version": 3,
     "solution": false,
     "task": false
    }
   },
   "outputs": [],
   "source": [
    "assert isinstance(encoder('The day was good', ['good']), list), 'The function has to return a list'\n",
    "assert _hash(len(encoder('The day was good', ['good']))) != '5b4838043f', 'Your function returns an empty list'\n",
    "assert isinstance(encoder('The day was good', ['good'])[0], int), 'The elements of the output list have to be integers'\n",
    "assert _hash(len(encoder('The day was good', ['good', 'bad', 'awesome']))) == 'e4ffcdac53', 'Number of elements in the output list does not match the length of the vocabulary'\n",
    "assert _hash(encoder('The day was good', ['good', 'bad', 'awesome'])) == 'dec39382cd', \"The function failed on the test: encoder('The day was good', ['good', 'bad', 'awesome'])\"\n",
    "\n",
    "print(\"---- all asserts passed ---- \")"
   ]
  },
  {
   "cell_type": "markdown",
   "metadata": {
    "deletable": false,
    "editable": false,
    "nbgrader": {
     "grade": false,
     "grade_id": "cell-d174b03af9438acd",
     "locked": true,
     "schema_version": 3,
     "solution": false,
     "task": false
    }
   },
   "source": [
    "***\n",
    "\n",
    "## PART 3\n",
    "\n",
    "### Exercise 14\n",
    "\n",
    "`def function(a):\n",
    "    assert isinstance(a, int)\n",
    "    print(a + 1)`\n",
    "    \n",
    "⚠️ **`isinstance()`** function checks whether a variable has a specific format. Remember that from **`SLU-10`**?\n",
    "    \n",
    "What is going to happen if you call:\n",
    "\n",
    "`function(3.5)`\n",
    "\n",
    "Options:\n",
    "- **a.** 4.5 will be printed.\n",
    "- **b.** `AssertionError` will be raised.\n",
    "- **c.** `AssertionError` will be printed.\n",
    "- **d.** Nothing. The code is not valid."
   ]
  },
  {
   "cell_type": "markdown",
   "metadata": {
    "deletable": false,
    "editable": false,
    "nbgrader": {
     "grade": false,
     "grade_id": "cell-e5f863b1fefbcf2b",
     "locked": true,
     "schema_version": 3,
     "solution": false,
     "task": false
    }
   },
   "source": [
    "Write the letter with the correct answer to a variable called **`answer_14`** as a **string**, for example:\n",
    "\n",
    "**`answer_14 = 'a'`**\n",
    "\n",
    "⚠️ **Note:** _try to think before writing anything. If you don't know the right answer, check the learning material._ ⚠️\n",
    "\n",
    "But please try not to guess the answer by testing the function itself (**don't call it**).\n",
    "\n",
    "_You're learning it for yourself, not for correct answers or some grades!_ 🙂 "
   ]
  },
  {
   "cell_type": "code",
   "execution_count": null,
   "metadata": {
    "deletable": false,
    "nbgrader": {
     "grade": false,
     "grade_id": "cell-213d3992590c59fb",
     "locked": false,
     "schema_version": 3,
     "solution": true,
     "task": false
    }
   },
   "outputs": [],
   "source": [
    "# answer_14 = ''\n",
    "\n",
    "# YOUR CODE HERE\n",
    "raise NotImplementedError()"
   ]
  },
  {
   "cell_type": "markdown",
   "metadata": {
    "deletable": false,
    "editable": false,
    "nbgrader": {
     "grade": false,
     "grade_id": "cell-a0710049be5bde04",
     "locked": true,
     "schema_version": 3,
     "solution": false,
     "task": false
    }
   },
   "source": [
    "### Exercise 15\n",
    "\n",
    "What's the output of the following line?\n",
    "\n",
    "`'I am' + 17 + 'years old'`\n",
    "\n",
    "Options:\n",
    "- **a.** Name error.\n",
    "- **b.** 'I am 17 years old'.\n",
    "- **c.** Type error.\n",
    "- **d.** 'I am years old 17'.\n",
    "\n",
    "Save the answer in a variable called **`answer_15`**. Example:\n",
    "\n",
    "**`answer_15 = 'a'`**"
   ]
  },
  {
   "cell_type": "code",
   "execution_count": null,
   "metadata": {
    "deletable": false,
    "nbgrader": {
     "grade": false,
     "grade_id": "cell-dcc00f6894cf84b2",
     "locked": false,
     "schema_version": 3,
     "solution": true,
     "task": false
    }
   },
   "outputs": [],
   "source": [
    "# answer_15 = ''\n",
    "\n",
    "# YOUR CODE HERE\n",
    "raise NotImplementedError()"
   ]
  },
  {
   "cell_type": "markdown",
   "metadata": {
    "deletable": false,
    "editable": false,
    "nbgrader": {
     "grade": false,
     "grade_id": "cell-c644a80f2c15d3b7",
     "locked": true,
     "schema_version": 3,
     "solution": false,
     "task": false
    }
   },
   "source": [
    "### Exercise 16\n",
    "\n",
    "What's the result of the following lines?\n",
    "\n",
    "`text = ['I', 'am', 'happy', 'today']\n",
    "print(text[4])`\n",
    "\n",
    "Options:\n",
    "- **a.** 'today'.\n",
    "- **b.** 'h'.\n",
    "- **c.** Type error.\n",
    "- **d.** Index error.\n",
    "\n",
    "Save the answer in a variable called **`answer_16`**. Example:\n",
    "\n",
    "**`answer_16 = 'a'`**"
   ]
  },
  {
   "cell_type": "code",
   "execution_count": null,
   "metadata": {
    "deletable": false,
    "nbgrader": {
     "grade": false,
     "grade_id": "cell-c26141d1871dd231",
     "locked": false,
     "schema_version": 3,
     "solution": true,
     "task": false
    }
   },
   "outputs": [],
   "source": [
    "# answer_16 = ''\n",
    "\n",
    "# YOUR CODE HERE\n",
    "raise NotImplementedError()"
   ]
  },
  {
   "cell_type": "code",
   "execution_count": null,
   "metadata": {
    "deletable": false,
    "editable": false,
    "nbgrader": {
     "grade": true,
     "grade_id": "cell-6ea081f9ee1904d5",
     "locked": true,
     "points": 2,
     "schema_version": 3,
     "solution": false,
     "task": false
    }
   },
   "outputs": [],
   "source": [
    "assert isinstance(answer_14, str), 'The answer should be a string'\n",
    "assert isinstance(answer_15, str), 'The answer should be a string'\n",
    "assert isinstance(answer_16, str), 'The answer should be a string'\n",
    "\n",
    "answers = [answer_14, answer_15, answer_16]\n",
    "assert _hash(answers) == '401711e05e', 'Oops. One or more answers are not correct! Try it again! :)'\n",
    "\n",
    "print(\"---- all asserts passed ---- \")"
   ]
  },
  {
   "cell_type": "markdown",
   "metadata": {
    "deletable": false,
    "editable": false,
    "nbgrader": {
     "grade": false,
     "grade_id": "cell-5f476ae74656e3c6",
     "locked": true,
     "schema_version": 3,
     "solution": false,
     "task": false
    }
   },
   "source": [
    "### Exercise 17\n",
    "\n",
    "Create a function called **`join_words()`** which:\n",
    "* Accepts a **list of strings** called `list_strings` and a **string** `separator`.\n",
    "* **Joins** all strings on `list_strings` with string `separator` between all words to a **new variable** called `sentence`.\n",
    "* Returns `sentence`.\n",
    "* If the operation **goes wrong** returns the following string **`\"function inputs don't match the requirements\"`**"
   ]
  },
  {
   "cell_type": "code",
   "execution_count": null,
   "metadata": {
    "deletable": false,
    "nbgrader": {
     "grade": false,
     "grade_id": "cell-ef39f20f9c0de7f0",
     "locked": false,
     "schema_version": 3,
     "solution": true,
     "task": false
    }
   },
   "outputs": [],
   "source": [
    "#def join_words(list_strings, separator):\n",
    "\n",
    "# YOUR CODE HERE\n",
    "raise NotImplementedError()"
   ]
  },
  {
   "cell_type": "code",
   "execution_count": null,
   "metadata": {
    "deletable": false,
    "editable": false,
    "nbgrader": {
     "grade": true,
     "grade_id": "cell-726e1e35c284e034",
     "locked": true,
     "points": 1,
     "schema_version": 3,
     "solution": false,
     "task": false
    }
   },
   "outputs": [],
   "source": [
    "assert isinstance(join_words([\"this\", \"is\", \"a\", \"string\"], \" \"), str), \"String output is expected\"\n",
    "assert join_words([\"this\", \"is\", \"a\", \"string\"], \" \") == \"this is a string\", \"The answer is wrong for input=['This', 'is', 'a', 'string']\"\n",
    "assert join_words([\"this\", \"is\", False, \"a\", \"string\"], \" \") == \"function inputs don't match the requirements\", \"Error message was not returned\"\n",
    "\n",
    "print(\"---- all asserts passed ---- \")"
   ]
  },
  {
   "cell_type": "markdown",
   "metadata": {
    "deletable": false,
    "editable": false,
    "nbgrader": {
     "grade": false,
     "grade_id": "cell-a5b38ae9dfab8c6a",
     "locked": true,
     "schema_version": 3,
     "solution": false,
     "task": false
    }
   },
   "source": [
    "### Exercise 18\n",
    "\n",
    "Create a function called **`multiply_not_five()`**, which:\n",
    "- Accepts an **integer** `number` as a parameter.\n",
    "- Returns the `number` multipled **by 2**.\n",
    "- If the `number` is **equal to 5**, **raises an `AssertionError`**."
   ]
  },
  {
   "cell_type": "code",
   "execution_count": null,
   "metadata": {
    "deletable": false,
    "nbgrader": {
     "grade": false,
     "grade_id": "cell-e778b52bc04648f8",
     "locked": false,
     "schema_version": 3,
     "solution": true,
     "task": false
    }
   },
   "outputs": [],
   "source": [
    "#def multiply_not_five(number):\n",
    "\n",
    "# YOUR CODE HERE\n",
    "raise NotImplementedError()"
   ]
  },
  {
   "cell_type": "code",
   "execution_count": null,
   "metadata": {
    "deletable": false,
    "editable": false,
    "nbgrader": {
     "grade": true,
     "grade_id": "cell-845a471dd5f6e303",
     "locked": true,
     "points": 1,
     "schema_version": 3,
     "solution": false,
     "task": false
    }
   },
   "outputs": [],
   "source": [
    "assert _hash(multiply_not_five(10)) == 'b38f28b46b', 'Wrong answer for number = 10'\n",
    "assert _hash(multiply_not_five(-5)) == '578946e522', 'Wrong answer for number = -5'\n",
    "\n",
    "def check_answer(function):\n",
    "    try:\n",
    "        function(5)\n",
    "        raise Exception(\"The function shouldn't work for number = 5\")\n",
    "    except AssertionError:\n",
    "        pass\n",
    "    except:\n",
    "        raise Exception(\"You need to return an AssertionError, not another exception type\")\n",
    "        \n",
    "check_answer(multiply_not_five)\n",
    "\n",
    "print(\"---- all asserts passed ---- \")"
   ]
  },
  {
   "cell_type": "markdown",
   "metadata": {},
   "source": [
    "### Exercise 19\n",
    "\n",
    "The last exercise is pretty similar to **exercise 18.**\n",
    "\n",
    "Create a function called **`multiply_string()`**, which:\n",
    "- Accepts a **string** as a parameter.\n",
    "- Returns the **string** repeated **15 times**.\n",
    "> For example, `multiply_string('a') = 'aaaaaaaaaaaaaaa'`\n",
    "\n",
    "❗ _You might want to **google** how to repeat strings in python_ ❗\n",
    "\n",
    "- If the input is not a string, raise an **Exception** with some **text output.** \n",
    "> For example, `Exception(\"It's not a string, dude!\")`\n",
    "\n",
    "❗ _You might want to **google** how to check whether a variable is a string in python_ ❗"
   ]
  },
  {
   "cell_type": "code",
   "execution_count": null,
   "metadata": {
    "deletable": false,
    "nbgrader": {
     "grade": false,
     "grade_id": "cell-6f4c85c9880ef5d8",
     "locked": false,
     "schema_version": 3,
     "solution": true,
     "task": false
    }
   },
   "outputs": [],
   "source": [
    "#def multiply_string(string):\n",
    "\n",
    "# YOUR CODE HERE\n",
    "raise NotImplementedError()"
   ]
  },
  {
   "cell_type": "code",
   "execution_count": null,
   "metadata": {
    "deletable": false,
    "editable": false,
    "nbgrader": {
     "grade": true,
     "grade_id": "cell-a055f00629e597a8",
     "locked": true,
     "points": 2,
     "schema_version": 3,
     "solution": false,
     "task": false
    }
   },
   "outputs": [],
   "source": [
    "assert _hash(multiply_string('a')) == '11f86a430e', \"The function didn't work for input='a'\"\n",
    "assert _hash(multiply_string('z')) == '6c6ed9ef14', \"The function didn't work for input='z'\"\n",
    "\n",
    "def check_answer(function):\n",
    "    try:\n",
    "        function(5)\n",
    "        raise Exception(\"The function shouldn't work for integers\")\n",
    "    except:\n",
    "        pass\n",
    "    \n",
    "check_answer(multiply_string)\n",
    "\n",
    "def finalize():    \n",
    "    display(Image(filename=src, width=500))\n",
    "\n",
    "print(\"---- all asserts passed ---- \")\n",
    "\n",
    "finalize()"
   ]
  },
  {
   "cell_type": "markdown",
   "metadata": {
    "deletable": false,
    "editable": false,
    "nbgrader": {
     "grade": false,
     "grade_id": "cell-5850b6ab3bdf73fe",
     "locked": true,
     "schema_version": 3,
     "solution": false,
     "task": false
    }
   },
   "source": [
    "### And now... Mission Accomplished!!! 🎉🎉🎉\n",
    "Now you can rest for this week, because your work was amaaaaaaazing (Again)!\n",
    "\n",
    "**But don't forget...**\n",
    "\n",
    "***\n",
    "\n",
    "# Submit your work!\n",
    "\n",
    "To submit your work, [get your slack id](https://moshfeu.medium.com/how-to-find-my-member-id-in-slack-workspace-d4bba942e38c) and fill it in the `slack_id` variable.\n",
    "\n",
    "Example: `slack_id = \"UTS63FC02\"`"
   ]
  },
  {
   "cell_type": "code",
   "execution_count": null,
   "metadata": {
    "deletable": false,
    "nbgrader": {
     "grade": false,
     "grade_id": "cell-7281d78bfd08794b",
     "locked": false,
     "schema_version": 3,
     "solution": true,
     "task": false
    }
   },
   "outputs": [],
   "source": [
    "# YOUR CODE HERE\n",
    "raise NotImplementedError()\n",
    "# slack_id ="
   ]
  },
  {
   "cell_type": "code",
   "execution_count": null,
   "metadata": {
    "deletable": false,
    "editable": false,
    "nbgrader": {
     "grade": true,
     "grade_id": "cell-383debe5cc5ea67b",
     "locked": true,
     "points": 0,
     "schema_version": 3,
     "solution": false,
     "task": false
    }
   },
   "outputs": [],
   "source": [
    "from submit import submit\n",
    "\n",
    "assert slack_id is not None\n",
    "submit(slack_id=slack_id, learning_unit=11)"
   ]
  }
 ],
 "metadata": {
  "kernelspec": {
   "display_name": "Python 3",
   "language": "python",
   "name": "python3"
  },
  "language_info": {
   "codemirror_mode": {
    "name": "ipython",
    "version": 3
   },
   "file_extension": ".py",
   "mimetype": "text/x-python",
   "name": "python",
   "nbconvert_exporter": "python",
   "pygments_lexer": "ipython3",
   "version": "3.7.10"
  }
 },
 "nbformat": 4,
 "nbformat_minor": 2
}
