{
 "cells": [
  {
   "cell_type": "markdown",
   "metadata": {
    "nbgrader": {
     "grade": false,
     "grade_id": "cell-46d843154dcd7d0f",
     "locked": true,
     "schema_version": 3,
     "solution": false
    }
   },
   "source": [
    "# SLU11 | String & File Handling: Exercise Notebook\n",
    "\n",
    "***\n",
    "\n",
    "Now we're going to test how well you understood the learning notebook.\n",
    "\n",
    "Also, this notebook is going to often require some **googling skills**. \n",
    "\n",
    "It's very important to learn **`how to google anything you don't remember or don't know how to do.`**\n",
    "\n",
    "## Start by importing these packages"
   ]
  },
  {
   "cell_type": "code",
   "execution_count": 1,
   "metadata": {
    "nbgrader": {
     "grade": false,
     "grade_id": "cell-82d6c951064ba705",
     "locked": true,
     "schema_version": 3,
     "solution": false,
     "task": false
    }
   },
   "outputs": [],
   "source": [
    "# for evaluation purposes\n",
    "import hashlib\n",
    "import os\n",
    "from IPython.display import display, Image\n",
    "\n",
    "def _hash(s):\n",
    "    return hashlib.blake2b(\n",
    "        bytes(str(s), encoding='utf8'),\n",
    "        digest_size=5\n",
    "    ).hexdigest()\n",
    "\n",
    "src = os.path.join('.','assets','eba68db97a.jpg') "
   ]
  },
  {
   "cell_type": "markdown",
   "metadata": {
    "nbgrader": {
     "grade": false,
     "grade_id": "cell-2dbef5d9c5c75099",
     "locked": true,
     "schema_version": 3,
     "solution": false,
     "task": false
    }
   },
   "source": [
    "## PART 1\n",
    "\n",
    "### Exercise 1\n",
    "- Open a local file called **`'assignment.txt'`** and store it in a variable called **`'f'`**.\n",
    "- Read the **whole file** and store it in a variable called **`'text'`**.\n",
    "\n",
    "⚠️ _The variable should consist of **only one string representing all the lines from the file.**_"
   ]
  },
  {
   "cell_type": "code",
   "execution_count": 2,
   "metadata": {
    "nbgrader": {
     "grade": false,
     "grade_id": "cell-5c616f01a6b14b63",
     "locked": false,
     "schema_version": 3,
     "solution": true,
     "task": false
    }
   },
   "outputs": [],
   "source": [
    "# f = ...\n",
    "# text = ...\n",
    "\n",
    "### BEGIN SOLUTION\n",
    "# we use the built-in open() function in a read-mode to open a file\n",
    "f = open('assignment.txt', mode='r')\n",
    "\n",
    "# we use read() function to read the whole file and store the result in the 'text' variable\n",
    "text = f.read()\n",
    "### END SOLUTION"
   ]
  },
  {
   "cell_type": "code",
   "execution_count": 3,
   "metadata": {
    "nbgrader": {
     "grade": true,
     "grade_id": "cell-e2d149b3016dc2fc",
     "locked": true,
     "points": 1,
     "schema_version": 3,
     "solution": false,
     "task": false
    }
   },
   "outputs": [
    {
     "name": "stdout",
     "output_type": "stream",
     "text": [
      "---- all asserts passed ---- \n"
     ]
    }
   ],
   "source": [
    "assert isinstance(text, str), \"Are you sure you read the whole file as one string (not as list of strings)?\"\n",
    "assert _hash(len(text)) == 'a980c09096', \"The length of the string doesn't match\"\n",
    "assert _hash(text[0]) == '5ca379c9c1', \"Did you read the correct file?\"\n",
    "\n",
    "print(\"---- all asserts passed ---- \")"
   ]
  },
  {
   "cell_type": "markdown",
   "metadata": {
    "nbgrader": {
     "grade": false,
     "grade_id": "cell-edbda817ca5994ae",
     "locked": true,
     "schema_version": 3,
     "solution": false,
     "task": false
    }
   },
   "source": [
    "### Exercise 2\n",
    "- Move the **`read cursor`** to the **beginning of the file** stored in variable **`f`**.\n",
    "- Read **each line** of the file and store it in a variable called **`lines`**.\n",
    "\n",
    "⚠️ _The variable should be a **list of strings.**_"
   ]
  },
  {
   "cell_type": "code",
   "execution_count": 4,
   "metadata": {
    "nbgrader": {
     "grade": false,
     "grade_id": "cell-78e73bd6fb0635fc",
     "locked": false,
     "schema_version": 3,
     "solution": true,
     "task": false
    }
   },
   "outputs": [],
   "source": [
    "# ...\n",
    "# lines = ...\n",
    "\n",
    "### BEGIN SOLUTION\n",
    "# move the read cursor to the beginning of the file\n",
    "f.seek(0) \n",
    "\n",
    "# read each line and store it as an element of a list\n",
    "lines = f.readlines()\n",
    "### END SOLUTION"
   ]
  },
  {
   "cell_type": "code",
   "execution_count": 5,
   "metadata": {
    "nbgrader": {
     "grade": true,
     "grade_id": "cell-d1ac86663d79cef7",
     "locked": true,
     "points": 1,
     "schema_version": 3,
     "solution": false,
     "task": false
    }
   },
   "outputs": [
    {
     "name": "stdout",
     "output_type": "stream",
     "text": [
      "---- all asserts passed ---- \n"
     ]
    }
   ],
   "source": [
    "assert _hash(len(lines)) != '5b4838043f', \"Did you move the cursor to the beginning of the file?\"\n",
    "assert isinstance(lines, list), \"Are you sure you stored the file as a list of strings?\"\n",
    "assert _hash(len(lines)) == 'd4fe3de58a', \"The number of string elements in the list doesn't match\"\n",
    "assert _hash(lines[0]) =='0d3c2c6fb2', \"Are you sure you read the correct file?\"\n",
    "\n",
    "print(\"---- all asserts passed ---- \")"
   ]
  },
  {
   "cell_type": "markdown",
   "metadata": {
    "nbgrader": {
     "grade": false,
     "grade_id": "cell-85741d3dfaeed125",
     "locked": true,
     "schema_version": 3,
     "solution": false,
     "task": false
    }
   },
   "source": [
    "***\n",
    "\n",
    "## PART 2\n",
    "\n",
    "### Exercise 3\n",
    "Let's preprocess our file.\n",
    "- For each **string** in the **`lines`** **list**:\n",
    "    > remove all the **`newline characters`** and save the result in **the same variable**."
   ]
  },
  {
   "cell_type": "code",
   "execution_count": 6,
   "metadata": {
    "nbgrader": {
     "grade": false,
     "grade_id": "cell-d3af9181b11c5b5b",
     "locked": false,
     "schema_version": 3,
     "solution": true,
     "task": false
    }
   },
   "outputs": [],
   "source": [
    "# lines = ...\n",
    "### BEGIN SOLUTION\n",
    "# we call strip() method for symbols '\\n' for each line in the variable\n",
    "lines = [line.strip('\\n') for line in lines]\n",
    "### END SOLUTION"
   ]
  },
  {
   "cell_type": "code",
   "execution_count": 7,
   "metadata": {
    "nbgrader": {
     "grade": true,
     "grade_id": "cell-62eba51f14c12c49",
     "locked": true,
     "points": 1,
     "schema_version": 3,
     "solution": false,
     "task": false
    }
   },
   "outputs": [
    {
     "name": "stdout",
     "output_type": "stream",
     "text": [
      "---- all asserts passed ---- \n"
     ]
    }
   ],
   "source": [
    "assert isinstance(lines, list), \"Lines has to be a list of strings\"\n",
    "assert _hash(len(lines)) == 'd4fe3de58a', \"The number of strings in the list doesn't match\"\n",
    "assert _hash(len(lines[0])) =='fdeb53ac14', \"Are you sure you removed the newline characters?\"\n",
    "\n",
    "print(\"---- all asserts passed ---- \")"
   ]
  },
  {
   "cell_type": "markdown",
   "metadata": {
    "nbgrader": {
     "grade": false,
     "grade_id": "cell-5ed6e3eaf36507ca",
     "locked": true,
     "schema_version": 3,
     "solution": false,
     "task": false
    }
   },
   "source": [
    "### Exercise 4\n",
    "\n",
    "Remove all the **empty lines** in the **`lines`** **list** and save the result in **the same variable**:"
   ]
  },
  {
   "cell_type": "code",
   "execution_count": 8,
   "metadata": {
    "nbgrader": {
     "grade": false,
     "grade_id": "cell-cca50a46d15fd13d",
     "locked": false,
     "schema_version": 3,
     "solution": true,
     "task": false
    }
   },
   "outputs": [],
   "source": [
    "# lines = ...\n",
    "\n",
    "### BEGIN SOLUTION\n",
    "# we use list comprehensions to return a list of lines, \n",
    "# where the len() of lines is bigger then 0\n",
    "lines = [line for line in lines if len(line) > 0]\n",
    "\n",
    "# alternative solution:\n",
    "# \"if line\" means, that if line is not an empty string it'll be `True`, otherwise `False`. \n",
    "# lines = [line for line in lines if line]\n",
    "### END SOLUTION"
   ]
  },
  {
   "cell_type": "code",
   "execution_count": 9,
   "metadata": {
    "nbgrader": {
     "grade": true,
     "grade_id": "cell-048486c832b1aeb9",
     "locked": true,
     "points": 1,
     "schema_version": 3,
     "solution": false,
     "task": false
    }
   },
   "outputs": [
    {
     "name": "stdout",
     "output_type": "stream",
     "text": [
      "---- all asserts passed ---- \n"
     ]
    }
   ],
   "source": [
    "assert _hash(len(lines)) == '427566cc6c', \"Are you sure that you removed all the empty strings?\"\n",
    "\n",
    "print(\"---- all asserts passed ---- \")"
   ]
  },
  {
   "cell_type": "markdown",
   "metadata": {
    "nbgrader": {
     "grade": false,
     "grade_id": "cell-17ee9bf8efa57e78",
     "locked": true,
     "schema_version": 3,
     "solution": false,
     "task": false
    }
   },
   "source": [
    "### Exercise 5\n",
    "Concatenate all the **strings** in the **`lines` list** into one **long string**."
   ]
  },
  {
   "cell_type": "code",
   "execution_count": 10,
   "metadata": {
    "nbgrader": {
     "grade": false,
     "grade_id": "cell-121fbc38e772e04a",
     "locked": false,
     "schema_version": 3,
     "solution": true,
     "task": false
    }
   },
   "outputs": [],
   "source": [
    "# lines = ...\n",
    "### BEGIN SOLUTION\n",
    "# join lines with a space symbol\n",
    "lines = ' '.join(lines)\n",
    "### END SOLUTION"
   ]
  },
  {
   "cell_type": "code",
   "execution_count": 11,
   "metadata": {
    "nbgrader": {
     "grade": true,
     "grade_id": "cell-d6a132cb0e86cc5d",
     "locked": true,
     "points": 1,
     "schema_version": 3,
     "solution": false,
     "task": false
    }
   },
   "outputs": [
    {
     "name": "stdout",
     "output_type": "stream",
     "text": [
      "---- all asserts passed ---- \n"
     ]
    }
   ],
   "source": [
    "assert isinstance(lines, str), \"It's not a string\"\n",
    "assert _hash(len(lines)) == 'd085807d6c', \"The length of the string doesn't match\"\n",
    "\n",
    "print(\"---- all asserts passed ---- \")"
   ]
  },
  {
   "cell_type": "markdown",
   "metadata": {
    "nbgrader": {
     "grade": false,
     "grade_id": "cell-a48fa1f928345ecd",
     "locked": true,
     "schema_version": 3,
     "solution": false,
     "task": false
    }
   },
   "source": [
    "### Exercise 6\n",
    "Convert the **`lines`** (**string**) to a **list of words** and save it in a variable called **`'words'`**.\n",
    "\n",
    "🌟 **Hint:** _Use space symbol as a separator_ 🌟"
   ]
  },
  {
   "cell_type": "code",
   "execution_count": 12,
   "metadata": {
    "nbgrader": {
     "grade": false,
     "grade_id": "cell-0023979f541f52e0",
     "locked": false,
     "schema_version": 3,
     "solution": true,
     "task": false
    }
   },
   "outputs": [],
   "source": [
    "# words = ...\n",
    "\n",
    "### BEGIN SOLUTION\n",
    "# split the lines into a list of words\n",
    "words = lines.split()\n",
    "### END SOLUTION"
   ]
  },
  {
   "cell_type": "code",
   "execution_count": 13,
   "metadata": {
    "nbgrader": {
     "grade": true,
     "grade_id": "cell-84bffa431d75f2f6",
     "locked": true,
     "points": 1,
     "schema_version": 3,
     "solution": false,
     "task": false
    }
   },
   "outputs": [
    {
     "name": "stdout",
     "output_type": "stream",
     "text": [
      "---- all asserts passed ---- \n"
     ]
    }
   ],
   "source": [
    "assert isinstance(words, list), \"It's not a list\"\n",
    "assert isinstance(words[0], str), \"The list has to consist of strings\"\n",
    "assert _hash(len(words)) == '8be07733f2', \"The number of words doesn't match\"\n",
    "\n",
    "print(\"---- all asserts passed ---- \")"
   ]
  },
  {
   "cell_type": "markdown",
   "metadata": {
    "nbgrader": {
     "grade": false,
     "grade_id": "cell-a8bb3aaa063ea053",
     "locked": true,
     "schema_version": 3,
     "solution": false,
     "task": false
    }
   },
   "source": [
    "### Exercise 7\n",
    "Convert all the **strings** in **`words`** to lowercase."
   ]
  },
  {
   "cell_type": "code",
   "execution_count": 14,
   "metadata": {
    "nbgrader": {
     "grade": false,
     "grade_id": "cell-cb00efd631ee3d37",
     "locked": false,
     "schema_version": 3,
     "solution": true,
     "task": false
    }
   },
   "outputs": [],
   "source": [
    "# words = ...\n",
    "\n",
    "### BEGIN SOLUTION\n",
    "# apply lower() method to each word in the list\n",
    "words = [word.lower() for word in words]\n",
    "### END SOLUTION"
   ]
  },
  {
   "cell_type": "code",
   "execution_count": 15,
   "metadata": {
    "nbgrader": {
     "grade": true,
     "grade_id": "cell-ab311a01acff014c",
     "locked": true,
     "points": 1,
     "schema_version": 3,
     "solution": false,
     "task": false
    }
   },
   "outputs": [
    {
     "name": "stdout",
     "output_type": "stream",
     "text": [
      "---- all asserts passed ---- \n"
     ]
    }
   ],
   "source": [
    "assert all([word.islower() for word in words]), \"Not all the words are lowercase\"\n",
    "\n",
    "print(\"---- all asserts passed ---- \")"
   ]
  },
  {
   "cell_type": "markdown",
   "metadata": {
    "nbgrader": {
     "grade": false,
     "grade_id": "cell-a76e39ff406a1813",
     "locked": true,
     "schema_version": 3,
     "solution": false,
     "task": false
    }
   },
   "source": [
    "### Exercise 8\n",
    "In **Natural Language Processing** - **`NLP`** we usually want to remove some words that have no meaning. They are usually called **`stop words`**.\n",
    "\n",
    "We're not dealing with **NLP** yet, but let's also **remove such words**.\n",
    "- From the **`words`** list remove the words that are in the **`stop_words`** list:\n",
    "> stop_words = [ **`'on'`, `'an'`, `'in'`, `'a'`, `'of'`, `'the'`, `'and'`** ]"
   ]
  },
  {
   "cell_type": "code",
   "execution_count": 16,
   "metadata": {
    "nbgrader": {
     "grade": false,
     "grade_id": "cell-064d872c33ebafdd",
     "locked": false,
     "schema_version": 3,
     "solution": true,
     "task": false
    }
   },
   "outputs": [],
   "source": [
    "# stop_words = ['on','an','in','a','of','the','and']\n",
    "# words = ...\n",
    "\n",
    "### BEGIN SOLUTION\n",
    "# create stop_words list\n",
    "stop_words = ['on','an','in','a','of','the','and']\n",
    "\n",
    "# create a list of words that are NOT in stop_words\n",
    "words = [word for word in words if word not in stop_words]\n",
    "### END SOLUTION"
   ]
  },
  {
   "cell_type": "code",
   "execution_count": 17,
   "metadata": {
    "nbgrader": {
     "grade": true,
     "grade_id": "cell-5e51d4948d757891",
     "locked": true,
     "points": 1,
     "schema_version": 3,
     "solution": false,
     "task": false
    }
   },
   "outputs": [
    {
     "name": "stdout",
     "output_type": "stream",
     "text": [
      "---- all asserts passed ---- \n"
     ]
    }
   ],
   "source": [
    "assert _hash(len(words)) == 'd03f94b383', \"The number of words doesn't match\"\n",
    "\n",
    "print(\"---- all asserts passed ---- \")"
   ]
  },
  {
   "cell_type": "markdown",
   "metadata": {
    "nbgrader": {
     "grade": false,
     "grade_id": "cell-fdb90dbfaf05c6fa",
     "locked": true,
     "schema_version": 3,
     "solution": false,
     "task": false
    }
   },
   "source": [
    "### Exercise 9\n",
    "Keep only unique words in the **`words`** list created on **exercise 8**.\n",
    "\n",
    "Store them in the same variable. **It has to be a list of unique words!**\n",
    "\n",
    "🌟 **Hint:** _You'll need some **Googling** on this question_ 🌟"
   ]
  },
  {
   "cell_type": "code",
   "execution_count": 18,
   "metadata": {
    "nbgrader": {
     "grade": false,
     "grade_id": "cell-aa8cd00bd90721fb",
     "locked": false,
     "schema_version": 3,
     "solution": true,
     "task": false
    }
   },
   "outputs": [],
   "source": [
    "# words = ...\n",
    "\n",
    "### BEGIN SOLUTION\n",
    "# the easiest way to solve this exercise is converting the list of words into a `set` and then back to a list\n",
    "# why does it work? \n",
    "# Well, because `set` consists of ONLY unique elements.\n",
    "# So when we call set(words), we create a set of only unique words\n",
    "# and then we want to convert it back to a list, \n",
    "# so we can call list() on the result of the previous function\n",
    "words = list(set(words))\n",
    "### END SOLUTION"
   ]
  },
  {
   "cell_type": "code",
   "execution_count": 19,
   "metadata": {
    "nbgrader": {
     "grade": true,
     "grade_id": "cell-e354a40c7e837c45",
     "locked": true,
     "points": 1,
     "schema_version": 3,
     "solution": false,
     "task": false
    }
   },
   "outputs": [
    {
     "name": "stdout",
     "output_type": "stream",
     "text": [
      "---- all asserts passed ---- \n"
     ]
    }
   ],
   "source": [
    "assert isinstance(words, list), \"We need to store the unique words in a list\"\n",
    "assert _hash(len(words)) == 'f062f478b4', \"The number of words doesn't match\"\n",
    "\n",
    "print(\"---- all asserts passed ---- \")"
   ]
  },
  {
   "cell_type": "markdown",
   "metadata": {
    "nbgrader": {
     "grade": false,
     "grade_id": "cell-2f6bd09053a78cc2",
     "locked": true,
     "schema_version": 3,
     "solution": false,
     "task": false
    }
   },
   "source": [
    "### Exercise 10\n",
    "Create a function to find **if a word has more characters** than a given **number**:\n",
    "- Create the function **`is_long()`**, which must:\n",
    "- Receive **2 parameters:**\n",
    "> * **`string`**: representing the word that we're checking.\n",
    "> * **`integer`**: representing the minimum length that word should have.\n",
    "- Return:\n",
    "> * **`True`**: if length of the word **>=** `integer`;\n",
    "> * **`False`**: if length of the word **<** `integer`;"
   ]
  },
  {
   "cell_type": "code",
   "execution_count": 20,
   "metadata": {
    "nbgrader": {
     "grade": false,
     "grade_id": "cell-2cfca9c135f57b08",
     "locked": false,
     "schema_version": 3,
     "solution": true,
     "task": false
    }
   },
   "outputs": [],
   "source": [
    "# def is_long(word, number):\n",
    "#    ...\n",
    "\n",
    "### BEGIN SOLUTION\n",
    "def is_long(word, number):\n",
    "    # check if a length of the words is >= then the input parameneter\n",
    "    if len(word) >= number:\n",
    "        return True\n",
    "    # we get to this place only if len(word) >= number was False. \n",
    "    # So it's equavalent to \"else: return False\"\n",
    "    return False\n",
    "### END SOLUTION"
   ]
  },
  {
   "cell_type": "code",
   "execution_count": 21,
   "metadata": {
    "nbgrader": {
     "grade": true,
     "grade_id": "cell-f83d24ebe38a8c0e",
     "locked": true,
     "points": 1,
     "schema_version": 3,
     "solution": false,
     "task": false
    }
   },
   "outputs": [
    {
     "name": "stdout",
     "output_type": "stream",
     "text": [
      "---- all asserts passed ---- \n"
     ]
    }
   ],
   "source": [
    "assert is_long('Exercise', 5), \"The function didn't pass the test for the following parameters: word='exercise', num=5\"\n",
    "assert not is_long('Exercise', 10), \"The function didn't pass the test for the following parameters: word='exercise', num=10\"\n",
    "\n",
    "print(\"---- all asserts passed ---- \")"
   ]
  },
  {
   "cell_type": "markdown",
   "metadata": {
    "nbgrader": {
     "grade": false,
     "grade_id": "cell-0d9418708c1af53b",
     "locked": true,
     "schema_version": 3,
     "solution": false,
     "task": false
    }
   },
   "source": [
    "### Exercise 11\n",
    "- Apply **`is_long()`** function to **each word** in **`'words'`** variable you have created in **Exercise 9**.\n",
    "- Use the value **`5`** for the **`integer`** parameter.\n",
    "- Store the result in a variable called **`long_words`**."
   ]
  },
  {
   "cell_type": "code",
   "execution_count": 22,
   "metadata": {
    "nbgrader": {
     "grade": false,
     "grade_id": "cell-d6886505b94e4ce5",
     "locked": false,
     "schema_version": 3,
     "solution": true,
     "task": false
    }
   },
   "outputs": [],
   "source": [
    "# long_words = ...\n",
    "\n",
    "### BEGIN SOLUTION\n",
    "# create a list of words if they are longer then 5 elements\n",
    "long_words = [word for word in words if is_long(word, 5)]\n",
    "### END SOLUTION"
   ]
  },
  {
   "cell_type": "code",
   "execution_count": 23,
   "metadata": {
    "nbgrader": {
     "grade": true,
     "grade_id": "cell-8c31b9ac6bc23548",
     "locked": true,
     "points": 1,
     "schema_version": 3,
     "solution": false,
     "task": false
    }
   },
   "outputs": [
    {
     "name": "stdout",
     "output_type": "stream",
     "text": [
      "---- all asserts passed ---- \n"
     ]
    }
   ],
   "source": [
    "assert _hash(len(long_words)) == 'dadbc194c4', \"The number of words doesn't match\"\n",
    "\n",
    "print(\"---- all asserts passed ---- \")"
   ]
  },
  {
   "cell_type": "markdown",
   "metadata": {
    "nbgrader": {
     "grade": false,
     "grade_id": "cell-2b796a52092e4acd",
     "locked": true,
     "schema_version": 3,
     "solution": false,
     "task": false
    }
   },
   "source": [
    "### Exercise 12\n",
    "Create a function that **calculates how many words in a list start with a given letter**.\n",
    "- Create the function **`start_with()`**, which must:\n",
    "- Accept **2 parameters:**\n",
    "> * **`words_list`**: list of words.\n",
    "> * **`letter`**: letter to check.\n",
    "- Return an **integer**, which is the **number of cases** when this letter is the **first letter in a word**."
   ]
  },
  {
   "cell_type": "code",
   "execution_count": 24,
   "metadata": {
    "nbgrader": {
     "grade": false,
     "grade_id": "cell-2088771824f8e2a1",
     "locked": false,
     "schema_version": 3,
     "solution": true,
     "task": false
    }
   },
   "outputs": [],
   "source": [
    "# def start_with(words_list, letter):\n",
    "#    ...\n",
    "\n",
    "### BEGIN SOLUTION\n",
    "def start_with(words_list, letter):\n",
    "    # initialize as zero\n",
    "    n = 0\n",
    "    for word in words_list:\n",
    "        # if a word starts with letter, increase n by 1\n",
    "        if word[0] == letter:\n",
    "            n += 1\n",
    "    # return the number of words that start with the input letter\n",
    "    return n\n",
    "### END SOLUTION\n"
   ]
  },
  {
   "cell_type": "code",
   "execution_count": 25,
   "metadata": {
    "nbgrader": {
     "grade": true,
     "grade_id": "cell-8bb4a1579925fe13",
     "locked": true,
     "points": 1,
     "schema_version": 3,
     "solution": false,
     "task": false
    }
   },
   "outputs": [
    {
     "name": "stdout",
     "output_type": "stream",
     "text": [
      "---- all asserts passed ---- \n"
     ]
    }
   ],
   "source": [
    "assert isinstance(start_with(long_words, 'b'), int), \"The function must return an integer.\"\n",
    "assert _hash(start_with(long_words, 'b')) == 'cf2d85ea1d', \"The function didn't work for long_words and letter='b'\"\n",
    "assert _hash(start_with(words, 'a')) == 'a72043e53f', \"The function didn't work for words and letter='a'\"\n",
    "assert _hash(start_with(words, 'd')) == 'e4ffcdac53', \"The function didn't work for words and letter='d'\"\n",
    "\n",
    "print(\"---- all asserts passed ---- \")"
   ]
  },
  {
   "cell_type": "markdown",
   "metadata": {
    "nbgrader": {
     "grade": false,
     "grade_id": "cell-3434f8483c126ca7",
     "locked": true,
     "schema_version": 3,
     "solution": false,
     "task": false
    }
   },
   "source": [
    "### Exercise 13\n",
    "\n",
    "This task is going to be a bit **more difficult**, but also **pretty realistic.** \n",
    "\n",
    "We're going to create our own **`encoder`**!\n",
    "\n",
    "> **But what is that?!**\n",
    ">\n",
    "> _**`Encoder`** is a program that transforms one format of data into another format. You're going to use them all the time on the academy. Now we're going to write a simple encoder by ourselves._\n",
    "\n",
    "Our encoder is going to **check if a sentence has some predifined words.** Imagine that we have a lot of sentences and we want to understand if they are `positive` or `negative`.\n",
    "\n",
    "Our idea is the following:\n",
    "\n",
    "> If the sentence has words like **`'good'`**, **`'awesome'`**, **`'fantastic'`**, **`'hilarious'`** etc., it's **positive.** And it's **negative** otherwise.\n",
    "> \n",
    "> Let's call these **good** words our **`vocabulary`**\n",
    "\n",
    "Create a function, which:\n",
    "- Is called **`encoder()`**.\n",
    "- Accepts **2 inputs:**\n",
    "> 1. sentence (string).\n",
    "> 2. vocabulary (list of words).\n",
    "- For each **word** in the **`vocabulary`**:\n",
    "> checks whether this **word** is in the sentence.\n",
    "- Returns a list with the same length of our **`vocabulary`**, but instead of **words** it has only **zeros and ones**:\n",
    "> **`1`** means that this word was in the sentence.\n",
    ">\n",
    "> **`0`** otherwise.\n",
    "\n",
    "**Example:**\n",
    "\n",
    "`vocabulary = ['good', 'better', 'awesome', 'fantastic']\n",
    "sentence = 'This day was fantastic. Tomorrow will be even better!'\n",
    "encoder(sentence, vocabulary)`\n",
    "\n",
    "> **Output:**\n",
    ">\n",
    "> `[0,1,0,1]`\n",
    "\n",
    "**Explanation:**\n",
    "\n",
    "**`'good'`** was **not** in the sentence &#8594; **0** <br>\n",
    "**`'better'`** was in the sentence &#8594; **1** <br>\n",
    "**`'awesome'`** was **not** in the sentence &#8594; **0** <br>\n",
    "**`'fantastic'`** was in the sentence &#8594; **1** <br>\n",
    "\n",
    "⚠️ **WARNING:** Don't forget to **`lowercase`** the words in the **sentence** and in the **vocabulary** ⚠️\n",
    "\n",
    "Assume that all the words are **separated by `space symbol`**. If you're stuck with this task, **try to divide it in smaller parts.** "
   ]
  },
  {
   "cell_type": "markdown",
   "metadata": {
    "nbgrader": {
     "grade": false,
     "grade_id": "cell-efdf85b2fefbf6c3",
     "locked": true,
     "schema_version": 3,
     "solution": false,
     "task": false
    }
   },
   "source": [
    "***\n",
    "**Tips:** \n",
    "\n",
    "We can divide this task into a few **smaller steps**:\n",
    "\n",
    "1) First, we might need to **lowercase** each **word** in the **`vocabulary`**.\n",
    "\n",
    "2) **Split** the **sentence** into a **list of words**:\n",
    "> Let's call it **`words_list`**\n",
    "\n",
    "3) Lowercase each **word** in this list.\n",
    "\n",
    "4) For each **word** in our **`vocabulary`**, ask the program whether this word is in words_list:\n",
    "> If **yes**, the answer is **1**.\n",
    "> If it's **not**, the answer is **0**.\n",
    "\n",
    "5) Return the **list of answers**.\n",
    "\n",
    "***"
   ]
  },
  {
   "cell_type": "code",
   "execution_count": 26,
   "metadata": {
    "nbgrader": {
     "grade": false,
     "grade_id": "cell-24946c705e259797",
     "locked": false,
     "schema_version": 3,
     "solution": true,
     "task": false
    }
   },
   "outputs": [],
   "source": [
    "# def encoder(sentence, vocabulary):\n",
    "#    ...\n",
    "\n",
    "### BEGIN SOLUTION\n",
    "# My solution is going to be very short, \n",
    "# because I used the power of list comprehensions. \n",
    "def encoder(sentence, vocabulary):\n",
    "    \n",
    "    # Step 1\n",
    "    # Lowercase each word in the vocabulary\n",
    "    vocabulary = [word.lower() for word in vocabulary]\n",
    "    \n",
    "    # Steps 2 and 3\n",
    "    # Lowercase each word in the splitted sentence\n",
    "    words_list = [word.lower() for word in sentence.split()]\n",
    "    \n",
    "    # Steps 4 and 5\n",
    "    # For each word in the vocabulary, check whether this word is in words_list.\n",
    "    # int() converts an input into an integer number. It also works for booleans.\n",
    "    # for booleans, it converts \"True\" values to 1 and \"False\" values to 0.\n",
    "    answers = [int(word in words_list) for word in vocabulary]\n",
    "    \n",
    "    # return the result\n",
    "    return answers\n",
    "### END SOLUTION"
   ]
  },
  {
   "cell_type": "code",
   "execution_count": 27,
   "metadata": {
    "nbgrader": {
     "grade": true,
     "grade_id": "cell-28362929ccc11e01",
     "locked": true,
     "points": 2,
     "schema_version": 3,
     "solution": false,
     "task": false
    }
   },
   "outputs": [
    {
     "name": "stdout",
     "output_type": "stream",
     "text": [
      "---- all asserts passed ---- \n"
     ]
    }
   ],
   "source": [
    "assert isinstance(encoder('The day was good', ['good']), list), 'The function has to return a list'\n",
    "assert _hash(len(encoder('The day was good', ['good']))) != '5b4838043f', 'Your function returns an empty list'\n",
    "assert isinstance(encoder('The day was good', ['good'])[0], int), 'The elements of the output list have to be integers'\n",
    "assert _hash(len(encoder('The day was good', ['good', 'bad', 'awesome']))) == 'e4ffcdac53', 'Number of elements in the output list does not match the length of the vocabulary'\n",
    "assert _hash(encoder('The day was good', ['good', 'bad', 'awesome'])) == 'dec39382cd', \"The function failed on the test: encoder('The day was good', ['good', 'bad', 'awesome'])\"\n",
    "\n",
    "print(\"---- all asserts passed ---- \")"
   ]
  },
  {
   "cell_type": "markdown",
   "metadata": {
    "nbgrader": {
     "grade": false,
     "grade_id": "cell-d174b03af9438acd",
     "locked": true,
     "schema_version": 3,
     "solution": false,
     "task": false
    }
   },
   "source": [
    "***\n",
    "\n",
    "## PART 3\n",
    "\n",
    "### Exercise 14\n",
    "\n",
    "`def function(a):\n",
    "    assert isinstance(a, int)\n",
    "    print(a + 1)`\n",
    "    \n",
    "⚠️ **`isinstance()`** function checks whether a variable has a specific format. Remember that from **`SLU-10`**?\n",
    "    \n",
    "What is going to happen if you call:\n",
    "\n",
    "`function(3.5)`\n",
    "\n",
    "Options:\n",
    "- **a.** 4.5 will be printed.\n",
    "- **b.** `AssertionError` will be raised.\n",
    "- **c.** `AssertionError` will be printed.\n",
    "- **d.** Nothing. The code is not valid."
   ]
  },
  {
   "cell_type": "markdown",
   "metadata": {
    "nbgrader": {
     "grade": false,
     "grade_id": "cell-e5f863b1fefbcf2b",
     "locked": true,
     "schema_version": 3,
     "solution": false,
     "task": false
    }
   },
   "source": [
    "Write the letter with the correct answer to a variable called **`answer_14`** as a **string**, for example:\n",
    "\n",
    "**`answer_14 = 'a'`**\n",
    "\n",
    "⚠️ **Note:** _try to think before writing anything. If you don't know the right answer, check the learning material._ ⚠️\n",
    "\n",
    "But please try not to guess the answer by testing the function itself (**don't call it**).\n",
    "\n",
    "_You're learning it for yourself, not for correct answers or some grades!_ 🙂 "
   ]
  },
  {
   "cell_type": "code",
   "execution_count": 28,
   "metadata": {
    "nbgrader": {
     "grade": false,
     "grade_id": "cell-213d3992590c59fb",
     "locked": false,
     "schema_version": 3,
     "solution": true,
     "task": false
    }
   },
   "outputs": [],
   "source": [
    "# answer_14 = ''\n",
    "\n",
    "### BEGIN SOLUTION\n",
    "# the answer is going to be 'b', so an Assertion error will be raised.\n",
    "# it's because our function has the line \"assert isinstance(a, int)\"\n",
    "# we check whether input is an integer and raise an assert error otherwise.\n",
    "# in our case, 3.5 is not an integer (it's a float number), so the error will be raised\n",
    "answer_14 = 'b'\n",
    "### END SOLUTION"
   ]
  },
  {
   "cell_type": "markdown",
   "metadata": {
    "nbgrader": {
     "grade": false,
     "grade_id": "cell-a0710049be5bde04",
     "locked": true,
     "schema_version": 3,
     "solution": false,
     "task": false
    }
   },
   "source": [
    "### Exercise 15\n",
    "\n",
    "What's the output of the following line?\n",
    "\n",
    "`'I am' + 17 + 'years old'`\n",
    "\n",
    "Options:\n",
    "- **a.** Name error.\n",
    "- **b.** 'I am 17 years old'.\n",
    "- **c.** Type error.\n",
    "- **d.** 'I am years old 17'.\n",
    "\n",
    "Save the answer in a variable called **`answer_15`**. Example:\n",
    "\n",
    "**`answer_15 = 'a'`**"
   ]
  },
  {
   "cell_type": "code",
   "execution_count": 29,
   "metadata": {
    "nbgrader": {
     "grade": false,
     "grade_id": "cell-dcc00f6894cf84b2",
     "locked": false,
     "schema_version": 3,
     "solution": true,
     "task": false
    }
   },
   "outputs": [],
   "source": [
    "# answer_15 = ''\n",
    "\n",
    "### BEGIN SOLUTION\n",
    "# We are not allowed to use + operator on strings and integers at the same time.\n",
    "# Check the \"Type error\" part of the learning notebook if you forgot about it\n",
    "answer_15 = 'c'\n",
    "### END SOLUTION"
   ]
  },
  {
   "cell_type": "markdown",
   "metadata": {
    "nbgrader": {
     "grade": false,
     "grade_id": "cell-c644a80f2c15d3b7",
     "locked": true,
     "schema_version": 3,
     "solution": false,
     "task": false
    }
   },
   "source": [
    "### Exercise 16\n",
    "\n",
    "What's the result of the following lines?\n",
    "\n",
    "`text = ['I', 'am', 'happy', 'today']\n",
    "print(text[4])`\n",
    "\n",
    "Options:\n",
    "- **a.** 'today'.\n",
    "- **b.** 'h'.\n",
    "- **c.** Type error.\n",
    "- **d.** Index error.\n",
    "\n",
    "Save the answer in a variable called **`answer_16`**. Example:\n",
    "\n",
    "**`answer_16 = 'a'`**"
   ]
  },
  {
   "cell_type": "code",
   "execution_count": 30,
   "metadata": {
    "nbgrader": {
     "grade": false,
     "grade_id": "cell-c26141d1871dd231",
     "locked": false,
     "schema_version": 3,
     "solution": true,
     "task": false
    }
   },
   "outputs": [],
   "source": [
    "# answer_16 = ''\n",
    "\n",
    "### BEGIN SOLUTION\n",
    "# remember, in python lists are indexed from zero. \n",
    "# text[0] = 'I'\n",
    "# text[1] = 'am'\n",
    "# text[2] = 'happy' \n",
    "# text[3] = 'today'\n",
    "#\n",
    "# text[4] doesn't exist, as our list has only 4 elements (from 0 to 3)\n",
    "# that's why an index error will be raised. \n",
    "# Check the additional materials in the learning material to learn more!\n",
    "answer_16 = 'd'\n",
    "### END SOLUTION"
   ]
  },
  {
   "cell_type": "code",
   "execution_count": 31,
   "metadata": {
    "nbgrader": {
     "grade": true,
     "grade_id": "cell-6ea081f9ee1904d5",
     "locked": true,
     "points": 2,
     "schema_version": 3,
     "solution": false,
     "task": false
    }
   },
   "outputs": [
    {
     "name": "stdout",
     "output_type": "stream",
     "text": [
      "---- all asserts passed ---- \n"
     ]
    }
   ],
   "source": [
    "assert isinstance(answer_14, str), 'The answer should be a string'\n",
    "assert isinstance(answer_15, str), 'The answer should be a string'\n",
    "assert isinstance(answer_16, str), 'The answer should be a string'\n",
    "\n",
    "answers = [answer_14, answer_15, answer_16]\n",
    "assert _hash(answers) == '401711e05e', 'Oops. One or more answers are not correct! Try it again! :)'\n",
    "\n",
    "print(\"---- all asserts passed ---- \")"
   ]
  },
  {
   "cell_type": "markdown",
   "metadata": {
    "nbgrader": {
     "grade": false,
     "grade_id": "cell-5f476ae74656e3c6",
     "locked": true,
     "schema_version": 3,
     "solution": false,
     "task": false
    }
   },
   "source": [
    "### Exercise 17\n",
    "\n",
    "Create a function called **`join_words()`** which:\n",
    "* Accepts a **list of strings** called `list_strings` and a **string** `separator`.\n",
    "* **Joins** all strings on `list_strings` with string `separator` between all words to a **new variable** called `sentence`.\n",
    "* Returns `sentence`.\n",
    "* If the operation **goes wrong** returns the following string **`\"function inputs don't match the requirements\"`**"
   ]
  },
  {
   "cell_type": "code",
   "execution_count": 32,
   "metadata": {
    "nbgrader": {
     "grade": false,
     "grade_id": "cell-ef39f20f9c0de7f0",
     "locked": false,
     "schema_version": 3,
     "solution": true,
     "task": false
    }
   },
   "outputs": [],
   "source": [
    "#def join_words(list_strings, separator):\n",
    "\n",
    "### BEGIN SOLUTION\n",
    "def join_words(list_strings, separator):\n",
    "    try:\n",
    "        sentence = separator.join(list_strings)\n",
    "        return sentence\n",
    "    except:\n",
    "        error_message = \"function inputs don't match the requirements\"\n",
    "        return error_message\n",
    "### END SOLUTION"
   ]
  },
  {
   "cell_type": "code",
   "execution_count": 33,
   "metadata": {
    "nbgrader": {
     "grade": true,
     "grade_id": "cell-726e1e35c284e034",
     "locked": true,
     "points": 1,
     "schema_version": 3,
     "solution": false,
     "task": false
    }
   },
   "outputs": [
    {
     "name": "stdout",
     "output_type": "stream",
     "text": [
      "---- all asserts passed ---- \n"
     ]
    }
   ],
   "source": [
    "assert isinstance(join_words([\"this\", \"is\", \"a\", \"string\"], \" \"), str), \"String output is expected\"\n",
    "assert join_words([\"this\", \"is\", \"a\", \"string\"], \" \") == \"this is a string\", \"The answer is wrong for input=['This', 'is', 'a', 'string']\"\n",
    "assert join_words([\"this\", \"is\", False, \"a\", \"string\"], \" \") == \"function inputs don't match the requirements\", \"Error message was not returned\"\n",
    "\n",
    "print(\"---- all asserts passed ---- \")"
   ]
  },
  {
   "cell_type": "markdown",
   "metadata": {
    "nbgrader": {
     "grade": false,
     "grade_id": "cell-a5b38ae9dfab8c6a",
     "locked": true,
     "schema_version": 3,
     "solution": false,
     "task": false
    }
   },
   "source": [
    "### Exercise 18\n",
    "\n",
    "Create a function called **`multiply_not_five()`**, which:\n",
    "- Accepts an **integer** `number` as a parameter.\n",
    "- Returns the `number` multipled **by 2**.\n",
    "- If the `number` is **equal to 5**, **raises an `AssertionError`**."
   ]
  },
  {
   "cell_type": "code",
   "execution_count": 34,
   "metadata": {
    "nbgrader": {
     "grade": false,
     "grade_id": "cell-e778b52bc04648f8",
     "locked": false,
     "schema_version": 3,
     "solution": true,
     "task": false
    }
   },
   "outputs": [],
   "source": [
    "#def multiply_not_five(number):\n",
    "\n",
    "### BEGIN SOLUTION\n",
    "def multiply_not_five(number):\n",
    "    # raise an AsserionError if number is equal to 5\n",
    "    assert number != 5, '5 is not acceptable'\n",
    "    # multiply number by 2 otherwise\n",
    "    return number * 2\n",
    "### END SOLUTION"
   ]
  },
  {
   "cell_type": "code",
   "execution_count": 35,
   "metadata": {
    "nbgrader": {
     "grade": true,
     "grade_id": "cell-845a471dd5f6e303",
     "locked": true,
     "points": 1,
     "schema_version": 3,
     "solution": false,
     "task": false
    }
   },
   "outputs": [
    {
     "name": "stdout",
     "output_type": "stream",
     "text": [
      "---- all asserts passed ---- \n"
     ]
    }
   ],
   "source": [
    "assert _hash(multiply_not_five(10)) == 'b38f28b46b', 'Wrong answer for number = 10'\n",
    "assert _hash(multiply_not_five(-5)) == '578946e522', 'Wrong answer for number = -5'\n",
    "\n",
    "def check_answer(function):\n",
    "    try:\n",
    "        function(5)\n",
    "        raise Exception(\"The function shouldn't work for number = 5\")\n",
    "    except AssertionError:\n",
    "        pass\n",
    "    except:\n",
    "        raise Exception(\"You need to return an AssertionError, not another exception type\")\n",
    "        \n",
    "check_answer(multiply_not_five)\n",
    "\n",
    "print(\"---- all asserts passed ---- \")"
   ]
  },
  {
   "cell_type": "markdown",
   "metadata": {},
   "source": [
    "### Exercise 19\n",
    "\n",
    "The last exercise is pretty similar to **exercise 18.**\n",
    "\n",
    "Create a function called **`multiply_string()`**, which:\n",
    "- Accepts a **string** as a parameter.\n",
    "- Returns the **string** repeated **15 times**.\n",
    "> For example, `multiply_string('a') = 'aaaaaaaaaaaaaaa'`\n",
    "\n",
    "❗ _You might want to **google** how to repeat strings in python_ ❗\n",
    "\n",
    "- If the input is not a string, raise an **Exception** with some **text output.** \n",
    "> For example, `Exception(\"It's not a string, dude!\")`\n",
    "\n",
    "❗ _You might want to **google** how to check whether a variable is a string in python_ ❗"
   ]
  },
  {
   "cell_type": "code",
   "execution_count": 36,
   "metadata": {
    "nbgrader": {
     "grade": false,
     "grade_id": "cell-6f4c85c9880ef5d8",
     "locked": false,
     "schema_version": 3,
     "solution": true,
     "task": false
    }
   },
   "outputs": [],
   "source": [
    "#def multiply_string(string):\n",
    "\n",
    "### BEGIN SOLUTION\n",
    "def multiply_string(string):\n",
    "    # check if the input is a string type\n",
    "    if isinstance(string, str):\n",
    "        # repeat the string 10 times\n",
    "        return string * 15\n",
    "    else:\n",
    "        # raise an exception if it's not a string\n",
    "        raise Exception(\"It's not a string, dude\")\n",
    "### END SOLUTION"
   ]
  },
  {
   "cell_type": "code",
   "execution_count": 37,
   "metadata": {
    "nbgrader": {
     "grade": true,
     "grade_id": "cell-a055f00629e597a8",
     "locked": true,
     "points": 2,
     "schema_version": 3,
     "solution": false,
     "task": false
    }
   },
   "outputs": [
    {
     "name": "stdout",
     "output_type": "stream",
     "text": [
      "---- all asserts passed ---- \n"
     ]
    },
    {
     "data": {
      "image/jpeg": "[encoded data removed]",
      "text/plain": [
       "<IPython.core.display.Image object>"
      ]
     },
     "metadata": {
      "image/jpeg": {
       "width": 500
      }
     },
     "output_type": "display_data"
    }
   ],
   "source": [
    "assert _hash(multiply_string('a')) == '11f86a430e', \"The function didn't work for input='a'\"\n",
    "assert _hash(multiply_string('z')) == '6c6ed9ef14', \"The function didn't work for input='z'\"\n",
    "\n",
    "def check_answer(function):\n",
    "    try:\n",
    "        function(5)\n",
    "        raise Exception(\"The function shouldn't work for integers\")\n",
    "    except:\n",
    "        pass\n",
    "    \n",
    "check_answer(multiply_string)\n",
    "\n",
    "def finalize():    \n",
    "    display(Image(filename=src, width=500))\n",
    "\n",
    "print(\"---- all asserts passed ---- \")\n",
    "\n",
    "finalize()"
   ]
  },
  {
   "cell_type": "markdown",
   "metadata": {
    "nbgrader": {
     "grade": false,
     "grade_id": "cell-5850b6ab3bdf73fe",
     "locked": true,
     "schema_version": 3,
     "solution": false,
     "task": false
    }
   },
   "source": [
    "### And now... Mission Accomplished!!! 🎉🎉🎉\n",
    "Now you can rest for this week, because your work was amaaaaaaazing (Again)!\n",
    "\n",
    "**But don't forget...**\n",
    "\n",
    "***\n",
    "\n",
    "# Submit your work!\n",
    "\n",
    "To submit your work, [get your slack id](https://moshfeu.medium.com/how-to-find-my-member-id-in-slack-workspace-d4bba942e38c) and fill it in the `slack_id` variable.\n",
    "\n",
    "Example: `slack_id = \"UTS63FC02\"`"
   ]
  },
  {
   "cell_type": "code",
   "execution_count": 38,
   "metadata": {
    "nbgrader": {
     "grade": false,
     "grade_id": "cell-7281d78bfd08794b",
     "locked": false,
     "schema_version": 3,
     "solution": true,
     "task": false
    }
   },
   "outputs": [],
   "source": [
    "### BEGIN SOLUTION\n",
    "slack_id = \"UTS63FC02\"\n",
    "### END SOLUTION\n",
    "# slack_id ="
   ]
  },
  {
   "cell_type": "code",
   "execution_count": 39,
   "metadata": {
    "nbgrader": {
     "grade": true,
     "grade_id": "cell-383debe5cc5ea67b",
     "locked": true,
     "points": 0,
     "schema_version": 3,
     "solution": false,
     "task": false
    }
   },
   "outputs": [
    {
     "name": "stdout",
     "output_type": "stream",
     "text": [
      "Success\n"
     ]
    }
   ],
   "source": [
    "from submit import submit\n",
    "\n",
    "assert slack_id is not None\n",
    "submit(slack_id=slack_id, learning_unit=11)"
   ]
  }
 ],
 "metadata": {
  "celltoolbar": "Create Assignment",
  "kernelspec": {
   "display_name": "Python 3",
   "language": "python",
   "name": "python3"
  },
  "language_info": {
   "codemirror_mode": {
    "name": "ipython",
    "version": 3
   },
   "file_extension": ".py",
   "mimetype": "text/x-python",
   "name": "python",
   "nbconvert_exporter": "python",
   "pygments_lexer": "ipython3",
   "version": "3.7.10"
  }
 },
 "nbformat": 4,
 "nbformat_minor": 2
}
