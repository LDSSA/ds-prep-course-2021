{
 "cells": [
  {
   "cell_type": "markdown",
   "metadata": {},
   "source": [
    "# SLU08 - Functions Intermediate\n",
    "\n",
    "Please make sure that you've checked out the README for the important points about why we have this Learning Unit and welcome! 😈 "
   ]
  },
  {
   "cell_type": "markdown",
   "metadata": {},
   "source": [
    "![Advanced Functions](assets/this-isnt-your-everyday-functions-this-is-advanced-functions.jpeg)"
   ]
  },
  {
   "cell_type": "markdown",
   "metadata": {},
   "source": [
    "Don't be afraid! Now that we have got the basics from the previous SLU this one will be a breeze!"
   ]
  },
  {
   "cell_type": "markdown",
   "metadata": {},
   "source": [
    "## Next steps\n",
    "\n",
    "The field of [software engineering](https://en.wikipedia.org/wiki/Software_engineering) is all about writing code in a systematic and structured way and writing functions is the most fundamental tool we have to achieve this. There are some features of the Python programming language that direclty affect how you write functions and, thus, how you engineer your software. **Scope** and **keyword arguments** are two of the most important of these.\n",
    "\n",
    "Also, like any programming language, Python has a set of functions that have already been written and are ready for use. We'll go through a few of them and tell you how to find more.\n"
   ]
  },
  {
   "cell_type": "markdown",
   "metadata": {},
   "source": [
    "### Positional Arguments\n",
    "\n",
    "The type of arguments that you've already learned about are **positional arguments**. When you see a function defined like this:"
   ]
  },
  {
   "cell_type": "code",
   "execution_count": 1,
   "metadata": {},
   "outputs": [],
   "source": [
    "def divide(a, b):\n",
    "    return a / b"
   ]
  },
  {
   "cell_type": "markdown",
   "metadata": {},
   "source": [
    "`a` and `b` are positional arguments. A positional argument means that when you call the function, you pass in arguments in the same order (position) in which they were defined. So in this function above, we know that `a` is the first argument and `b` is the second argument. We can totally do this:\n",
    "\n",
    "```py\n",
    "divide(0, 1)\n",
    "```\n",
    "\n",
    "but we cannot do:\n",
    "\n",
    "```py\n",
    "divide(1, 0)\n",
    "```\n",
    "\n",
    "because that would put `0` in the denominator. We can't have this. Not okay. Can't divide by zero."
   ]
  },
  {
   "cell_type": "code",
   "execution_count": 2,
   "metadata": {},
   "outputs": [
    {
     "ename": "ZeroDivisionError",
     "evalue": "division by zero",
     "output_type": "error",
     "traceback": [
      "\u001b[0;31m---------------------------------------------------------------------------\u001b[0m",
      "\u001b[0;31mZeroDivisionError\u001b[0m                         Traceback (most recent call last)",
      "\u001b[0;32m<ipython-input-2-b4d7e8b388b7>\u001b[0m in \u001b[0;36m<module>\u001b[0;34m\u001b[0m\n\u001b[0;32m----> 1\u001b[0;31m \u001b[0mdivide\u001b[0m\u001b[0;34m(\u001b[0m\u001b[0;36m1\u001b[0m\u001b[0;34m,\u001b[0m \u001b[0;36m0\u001b[0m\u001b[0;34m)\u001b[0m\u001b[0;34m\u001b[0m\u001b[0;34m\u001b[0m\u001b[0m\n\u001b[0m",
      "\u001b[0;32m<ipython-input-1-dc50b17f0ae8>\u001b[0m in \u001b[0;36mdivide\u001b[0;34m(a, b)\u001b[0m\n\u001b[1;32m      1\u001b[0m \u001b[0;32mdef\u001b[0m \u001b[0mdivide\u001b[0m\u001b[0;34m(\u001b[0m\u001b[0ma\u001b[0m\u001b[0;34m,\u001b[0m \u001b[0mb\u001b[0m\u001b[0;34m)\u001b[0m\u001b[0;34m:\u001b[0m\u001b[0;34m\u001b[0m\u001b[0;34m\u001b[0m\u001b[0m\n\u001b[0;32m----> 2\u001b[0;31m     \u001b[0;32mreturn\u001b[0m \u001b[0ma\u001b[0m \u001b[0;34m/\u001b[0m \u001b[0mb\u001b[0m\u001b[0;34m\u001b[0m\u001b[0;34m\u001b[0m\u001b[0m\n\u001b[0m",
      "\u001b[0;31mZeroDivisionError\u001b[0m: division by zero"
     ]
    }
   ],
   "source": [
    "divide(1, 0)"
   ]
  },
  {
   "cell_type": "markdown",
   "metadata": {},
   "source": [
    "Now when you have a longer function with lots of arguments, this can start to become a problem. Say you've got a function like this:"
   ]
  },
  {
   "cell_type": "code",
   "execution_count": 7,
   "metadata": {},
   "outputs": [],
   "source": [
    "def lots_of_args(a, b, c, d, denom):\n",
    "    return (a + b + c + d) / denom"
   ]
  },
  {
   "cell_type": "markdown",
   "metadata": {},
   "source": [
    "To call this function while setting `c=5`, `a=1`, `b=2`, `denom=8`, `d=0` using positional arguments you would have to code:"
   ]
  },
  {
   "cell_type": "code",
   "execution_count": 29,
   "metadata": {},
   "outputs": [
    {
     "data": {
      "text/plain": [
       "1.0"
      ]
     },
     "execution_count": 29,
     "metadata": {},
     "output_type": "execute_result"
    }
   ],
   "source": [
    "lots_of_args(1, 2, 5, 0, 8)"
   ]
  },
  {
   "cell_type": "markdown",
   "metadata": {},
   "source": [
    "However, some days and 50 lines later, you need to use this function again, you call the function normally while wanting to set the arguments as `c=100`, `a=12`, `b=23`, `denom=10`, `d=0`"
   ]
  },
  {
   "cell_type": "code",
   "execution_count": 5,
   "metadata": {},
   "outputs": [
    {
     "ename": "ZeroDivisionError",
     "evalue": "division by zero",
     "output_type": "error",
     "traceback": [
      "\u001b[0;31m---------------------------------------------------------------------------\u001b[0m",
      "\u001b[0;31mZeroDivisionError\u001b[0m                         Traceback (most recent call last)",
      "\u001b[0;32m<ipython-input-5-ed99bdeec211>\u001b[0m in \u001b[0;36m<module>\u001b[0;34m\u001b[0m\n\u001b[0;32m----> 1\u001b[0;31m \u001b[0mlots_of_args\u001b[0m\u001b[0;34m(\u001b[0m\u001b[0;36m12\u001b[0m\u001b[0;34m,\u001b[0m \u001b[0;36m23\u001b[0m\u001b[0;34m,\u001b[0m \u001b[0;36m100\u001b[0m\u001b[0;34m,\u001b[0m \u001b[0;36m0\u001b[0m\u001b[0;34m,\u001b[0m \u001b[0;36m10\u001b[0m\u001b[0;34m)\u001b[0m\u001b[0;34m\u001b[0m\u001b[0;34m\u001b[0m\u001b[0m\n\u001b[0m",
      "\u001b[0;32m<ipython-input-3-4431542c8118>\u001b[0m in \u001b[0;36mlots_of_args\u001b[0;34m(a, b, c, denom, d)\u001b[0m\n\u001b[1;32m      1\u001b[0m \u001b[0;32mdef\u001b[0m \u001b[0mlots_of_args\u001b[0m\u001b[0;34m(\u001b[0m\u001b[0ma\u001b[0m\u001b[0;34m,\u001b[0m \u001b[0mb\u001b[0m\u001b[0;34m,\u001b[0m \u001b[0mc\u001b[0m\u001b[0;34m,\u001b[0m \u001b[0mdenom\u001b[0m\u001b[0;34m,\u001b[0m \u001b[0md\u001b[0m\u001b[0;34m)\u001b[0m\u001b[0;34m:\u001b[0m\u001b[0;34m\u001b[0m\u001b[0;34m\u001b[0m\u001b[0m\n\u001b[0;32m----> 2\u001b[0;31m     \u001b[0;32mreturn\u001b[0m \u001b[0;34m(\u001b[0m\u001b[0ma\u001b[0m \u001b[0;34m+\u001b[0m \u001b[0mb\u001b[0m \u001b[0;34m+\u001b[0m \u001b[0mc\u001b[0m \u001b[0;34m+\u001b[0m \u001b[0md\u001b[0m\u001b[0;34m)\u001b[0m \u001b[0;34m/\u001b[0m \u001b[0mdenom\u001b[0m\u001b[0;34m\u001b[0m\u001b[0;34m\u001b[0m\u001b[0m\n\u001b[0m",
      "\u001b[0;31mZeroDivisionError\u001b[0m: division by zero"
     ]
    }
   ],
   "source": [
    "lots_of_args(12, 23, 100, 0, 10)"
   ]
  },
  {
   "cell_type": "markdown",
   "metadata": {},
   "source": [
    "Run that without double checking and you'll get a bug. Then it might take a while for you to look at it to find out where the problem is. **You mixed the order of the variables!** If we want to be engineers and keep our code organized, we need to learn how to do this better so we don't make breaking code. How can we prevent these types of errors when we have so many variables?"
   ]
  },
  {
   "cell_type": "markdown",
   "metadata": {},
   "source": [
    "### Keyword Arguments\n",
    "\n",
    "Keyword arguments (kwargs) are defined  in Python when calling a function and they allow us to explicitly identify each of the inputs you're providing to a function.\n",
    "\n",
    "An extreme case, where every argument is a kwarg, would be:"
   ]
  },
  {
   "cell_type": "code",
   "execution_count": 33,
   "metadata": {},
   "outputs": [
    {
     "data": {
      "text/plain": [
       "13.5"
      ]
     },
     "execution_count": 33,
     "metadata": {},
     "output_type": "execute_result"
    }
   ],
   "source": [
    "lots_of_args(a=12, b=23, c=100, d=0, denom=10)"
   ]
  },
  {
   "cell_type": "markdown",
   "metadata": {},
   "source": [
    "This makes it easier to avoid mixing the inputs as in the error we saw before.\n",
    "\n",
    "In this case, you don't even need to keep the order of the function (even though, for readibility purposes, it is recommended).\n",
    "\n",
    "Take a look at the example below where swapping the 1st and 2nd arguments returns the same output:"
   ]
  },
  {
   "cell_type": "code",
   "execution_count": 36,
   "metadata": {},
   "outputs": [
    {
     "data": {
      "text/plain": [
       "13.5"
      ]
     },
     "execution_count": 36,
     "metadata": {},
     "output_type": "execute_result"
    }
   ],
   "source": [
    "lots_of_args(b=23, a=12, c=100, d=0, denom=10)"
   ]
  },
  {
   "cell_type": "markdown",
   "metadata": {},
   "source": [
    "**However**, if only part of the arguments are kwargs, we will be combining keyword and positional arguments.\n",
    "\n",
    "In such cases, we must remember that..."
   ]
  },
  {
   "cell_type": "code",
   "execution_count": 38,
   "metadata": {},
   "outputs": [
    {
     "ename": "SyntaxError",
     "evalue": "positional argument follows keyword argument (<ipython-input-38-2886ce654789>, line 2)",
     "output_type": "error",
     "traceback": [
      "\u001b[0;36m  File \u001b[0;32m\"<ipython-input-38-2886ce654789>\"\u001b[0;36m, line \u001b[0;32m2\u001b[0m\n\u001b[0;31m    lots_of_args(a=12, 23, c=100, d=0, denom=10)\u001b[0m\n\u001b[0m                      ^\u001b[0m\n\u001b[0;31mSyntaxError\u001b[0m\u001b[0;31m:\u001b[0m positional argument follows keyword argument\n"
     ]
    }
   ],
   "source": [
    "# ... the positional arguments must be first, or else\n",
    "lots_of_args(a=12, 23, c=100, d=0, denom=10)"
   ]
  },
  {
   "cell_type": "code",
   "execution_count": 39,
   "metadata": {},
   "outputs": [
    {
     "ename": "TypeError",
     "evalue": "lots_of_args() got multiple values for argument 'a'",
     "output_type": "error",
     "traceback": [
      "\u001b[0;31m---------------------------------------------------------------------------\u001b[0m",
      "\u001b[0;31mTypeError\u001b[0m                                 Traceback (most recent call last)",
      "\u001b[0;32m<ipython-input-39-498b1a6b35b6>\u001b[0m in \u001b[0;36m<module>\u001b[0;34m\u001b[0m\n\u001b[1;32m      1\u001b[0m \u001b[0;31m# ... we must remember the argument each position corresponds to, or else\u001b[0m\u001b[0;34m\u001b[0m\u001b[0;34m\u001b[0m\u001b[0;34m\u001b[0m\u001b[0m\n\u001b[1;32m      2\u001b[0m \u001b[0;31m# in this case we swapped `a` and `b` but did not specify `b=`\u001b[0m\u001b[0;34m\u001b[0m\u001b[0;34m\u001b[0m\u001b[0;34m\u001b[0m\u001b[0m\n\u001b[0;32m----> 3\u001b[0;31m \u001b[0mlots_of_args\u001b[0m\u001b[0;34m(\u001b[0m\u001b[0;36m23\u001b[0m\u001b[0;34m,\u001b[0m \u001b[0ma\u001b[0m\u001b[0;34m=\u001b[0m\u001b[0;36m12\u001b[0m\u001b[0;34m,\u001b[0m \u001b[0mc\u001b[0m\u001b[0;34m=\u001b[0m\u001b[0;36m100\u001b[0m\u001b[0;34m,\u001b[0m \u001b[0md\u001b[0m\u001b[0;34m=\u001b[0m\u001b[0;36m0\u001b[0m\u001b[0;34m,\u001b[0m \u001b[0mdenom\u001b[0m\u001b[0;34m=\u001b[0m\u001b[0;36m10\u001b[0m\u001b[0;34m)\u001b[0m\u001b[0;34m\u001b[0m\u001b[0;34m\u001b[0m\u001b[0m\n\u001b[0m",
      "\u001b[0;31mTypeError\u001b[0m: lots_of_args() got multiple values for argument 'a'"
     ]
    }
   ],
   "source": [
    "# ... we must remember the argument each position corresponds to, or else\n",
    "# in this case we swapped `a` and `b` but did not specify `b=`\n",
    "lots_of_args(23, a=12, c=100, d=0, denom=10)"
   ]
  },
  {
   "cell_type": "markdown",
   "metadata": {},
   "source": [
    "Thus, leaving us with the following possibilities (with an aribtrary ordering of the kwargs):\n",
    "\n",
    "`\n",
    "lots_of_args(a=12, b=23, c=100, d=0, denom=10)\n",
    "lots_of_args(12, b=23, c=100, d=0, denom=10)\n",
    "lots_of_args(12, 23, c=100, d=0, denom=10)\n",
    "lots_of_args(12, 23, 100, d=0, denom=10)\n",
    "lots_of_args(12, 23, 100, 0, denom=10)\n",
    "`"
   ]
  },
  {
   "cell_type": "markdown",
   "metadata": {},
   "source": [
    "### Default arguments\n",
    "\n",
    "We have already talked about this in the previous SLU, so we should know this by now 👀 Nonetheless, it's always good to recap really important things.\n",
    "\n",
    "Default arguments allows us to do two very powerful things:\n",
    "\n",
    "- Allow arguments to get a default value\n",
    "- Make the function easier to use\n",
    "\n",
    "Although it might not seem like it at first, they are equally important. "
   ]
  },
  {
   "cell_type": "markdown",
   "metadata": {},
   "source": [
    "Say we want to allow the function `lots_of_args` to assume a denominator (`denom`) equal to 10 by default.\n",
    "You could implement the following:"
   ]
  },
  {
   "cell_type": "code",
   "execution_count": 55,
   "metadata": {},
   "outputs": [],
   "source": [
    "def lots_of_args(a, b, c, d, denom=10):\n",
    "    return (a + b + c + d) / denom"
   ]
  },
  {
   "cell_type": "markdown",
   "metadata": {},
   "source": [
    "The only thing you have to make sure is that the default arguments are last in the the argument list, otherwise"
   ]
  },
  {
   "cell_type": "code",
   "execution_count": 56,
   "metadata": {},
   "outputs": [
    {
     "ename": "SyntaxError",
     "evalue": "non-default argument follows default argument (<ipython-input-56-411ac62bf7cf>, line 1)",
     "output_type": "error",
     "traceback": [
      "\u001b[0;36m  File \u001b[0;32m\"<ipython-input-56-411ac62bf7cf>\"\u001b[0;36m, line \u001b[0;32m1\u001b[0m\n\u001b[0;31m    def lots_of_args(a, b, c, d=5, denom):\u001b[0m\n\u001b[0m                    ^\u001b[0m\n\u001b[0;31mSyntaxError\u001b[0m\u001b[0;31m:\u001b[0m non-default argument follows default argument\n"
     ]
    }
   ],
   "source": [
    "def lots_of_args(a, b, c, d=5, denom):\n",
    "    return (a + b + c + d) / denom"
   ]
  },
  {
   "cell_type": "markdown",
   "metadata": {},
   "source": [
    "Going back to the example where the `denom` defaults to 10, you now allow your users to..."
   ]
  },
  {
   "cell_type": "code",
   "execution_count": 57,
   "metadata": {},
   "outputs": [
    {
     "data": {
      "text/plain": [
       "13.5"
      ]
     },
     "execution_count": 57,
     "metadata": {},
     "output_type": "execute_result"
    }
   ],
   "source": [
    "# provide only 4 arguments, skipping ´denom´ (i.e., assuming its default value)\n",
    "# note: you could also explicitly define the arguments (as kwargs) in the function calling\n",
    "lots_of_args(12, 23, 100, 0)"
   ]
  },
  {
   "cell_type": "code",
   "execution_count": 58,
   "metadata": {},
   "outputs": [
    {
     "data": {
      "text/plain": [
       "27.0"
      ]
     },
     "execution_count": 58,
     "metadata": {},
     "output_type": "execute_result"
    }
   ],
   "source": [
    "# assume a value for ´denom´ different from its default\n",
    "# note: you could also explicitly define the arguments (as kwargs) in the function calling\n",
    "lots_of_args(12, 23, 100, 0, 5)"
   ]
  },
  {
   "cell_type": "markdown",
   "metadata": {},
   "source": [
    "See what happened there? Defining default values comes in very handy in specific contexts. Say for example, you are writing a translation function and 99% of your users translate from English to Portuguese:"
   ]
  },
  {
   "cell_type": "code",
   "execution_count": 18,
   "metadata": {},
   "outputs": [],
   "source": [
    "def translate(text, source_lang='en', dest_lang='pt'):\n",
    "    return 'translating ' + text + ' now!'"
   ]
  },
  {
   "cell_type": "markdown",
   "metadata": {},
   "source": [
    "This way, only 1% of your users would need to provide the `source_lang` and `dest_lang` arguments.\n",
    "That's how powerfulbeing able to provide default values for arguments is."
   ]
  },
  {
   "cell_type": "markdown",
   "metadata": {},
   "source": [
    "## Scope\n",
    "\n",
    "Scope is a very abstract but powerful concept. Normally, I would try to avoid concepts as abstract as this for an intro course, but this one is so fundamental that we must really tackle it!\n",
    "\n",
    "Okay, so let's talk about two concepts that are fundamental to using Python in Jupyter notebooks:\n",
    "\n",
    "- Global Scope\n",
    "- Local Scope"
   ]
  },
  {
   "cell_type": "markdown",
   "metadata": {},
   "source": [
    "### Global Scope\n",
    "\n",
    "When you assign a value to a variable in a notebook like this:"
   ]
  },
  {
   "cell_type": "code",
   "execution_count": 20,
   "metadata": {},
   "outputs": [],
   "source": [
    "var = 1"
   ]
  },
  {
   "cell_type": "markdown",
   "metadata": {},
   "source": [
    "It means that the entire notebook has access to this variable. This means that I can use ´var´ anywhere else in this notebook after running the cell above.  Here are a few examples of its usage."
   ]
  },
  {
   "cell_type": "code",
   "execution_count": 21,
   "metadata": {},
   "outputs": [
    {
     "data": {
      "text/plain": [
       "1"
      ]
     },
     "execution_count": 21,
     "metadata": {},
     "output_type": "execute_result"
    }
   ],
   "source": [
    "var"
   ]
  },
  {
   "cell_type": "code",
   "execution_count": 22,
   "metadata": {},
   "outputs": [
    {
     "data": {
      "text/plain": [
       "3"
      ]
     },
     "execution_count": 22,
     "metadata": {},
     "output_type": "execute_result"
    }
   ],
   "source": [
    "var + 2"
   ]
  },
  {
   "cell_type": "markdown",
   "metadata": {},
   "source": [
    "Super basic, right? That's Global Scope. It means that the symbol (in this case a variable) is **globally** available.\n",
    "\n",
    "So now let's take a quick look at local scope."
   ]
  },
  {
   "cell_type": "markdown",
   "metadata": {},
   "source": [
    "### Local Scope\n",
    "\n",
    "When you are writing functions, you'll often want to use variables inside of that function. For example:"
   ]
  },
  {
   "cell_type": "code",
   "execution_count": 23,
   "metadata": {},
   "outputs": [],
   "source": [
    "# This function doesn't do anything useful at all, just pay\n",
    "# attention to the scope part of this example.\n",
    "\n",
    "# Note: Functions also don't need to receive any arguments\n",
    "\n",
    "def fun():\n",
    "    a = 1\n",
    "    b = 2\n",
    "    return a + b"
   ]
  },
  {
   "cell_type": "code",
   "execution_count": 24,
   "metadata": {},
   "outputs": [
    {
     "data": {
      "text/plain": [
       "3"
      ]
     },
     "execution_count": 24,
     "metadata": {},
     "output_type": "execute_result"
    }
   ],
   "source": [
    "# now let's call the function and see it work as expected\n",
    "\n",
    "fun()"
   ]
  },
  {
   "cell_type": "markdown",
   "metadata": {},
   "source": [
    "Now what do you think will happen if we try to access the variables `a` or `b`? Let's see:"
   ]
  },
  {
   "cell_type": "code",
   "execution_count": 25,
   "metadata": {},
   "outputs": [
    {
     "ename": "NameError",
     "evalue": "name 'a' is not defined",
     "output_type": "error",
     "traceback": [
      "\u001b[0;31m---------------------------------------------------------------------------\u001b[0m",
      "\u001b[0;31mNameError\u001b[0m                                 Traceback (most recent call last)",
      "\u001b[0;32m<ipython-input-25-3f786850e387>\u001b[0m in \u001b[0;36m<module>\u001b[0;34m\u001b[0m\n\u001b[0;32m----> 1\u001b[0;31m \u001b[0ma\u001b[0m\u001b[0;34m\u001b[0m\u001b[0;34m\u001b[0m\u001b[0m\n\u001b[0m",
      "\u001b[0;31mNameError\u001b[0m: name 'a' is not defined"
     ]
    }
   ],
   "source": [
    "a"
   ]
  },
  {
   "cell_type": "code",
   "execution_count": 26,
   "metadata": {},
   "outputs": [
    {
     "ename": "NameError",
     "evalue": "name 'b' is not defined",
     "output_type": "error",
     "traceback": [
      "\u001b[0;31m---------------------------------------------------------------------------\u001b[0m",
      "\u001b[0;31mNameError\u001b[0m                                 Traceback (most recent call last)",
      "\u001b[0;32m<ipython-input-26-89e6c98d9288>\u001b[0m in \u001b[0;36m<module>\u001b[0;34m\u001b[0m\n\u001b[0;32m----> 1\u001b[0;31m \u001b[0mb\u001b[0m\u001b[0;34m\u001b[0m\u001b[0;34m\u001b[0m\u001b[0m\n\u001b[0m",
      "\u001b[0;31mNameError\u001b[0m: name 'b' is not defined"
     ]
    }
   ],
   "source": [
    "b"
   ]
  },
  {
   "cell_type": "markdown",
   "metadata": {},
   "source": [
    "Alright, neither of these worked. Why, you ask? It's because they were both declared in the **local scope** of the `fun` function. And, as the word **\"local\"** implies, they are only available locally, inside the function itself. Thus, trying to acess `a` and/or `b` outside of the function won't work, since local scopes are not shared with the global scope."
   ]
  },
  {
   "cell_type": "markdown",
   "metadata": {},
   "source": [
    "### The interaction between local and global scope\n",
    "\n",
    "Now let's take a look at something that will blow your mind:"
   ]
  },
  {
   "cell_type": "code",
   "execution_count": 27,
   "metadata": {},
   "outputs": [],
   "source": [
    "a = 1\n",
    "\n",
    "def fun2():\n",
    "    b = 2\n",
    "    return a + b"
   ]
  },
  {
   "cell_type": "markdown",
   "metadata": {},
   "source": [
    "Now if you have been following so far, this code should not be run. It seems dangerous to allow the global scope to be mixed in with the local scope. So let's give it a try:"
   ]
  },
  {
   "cell_type": "code",
   "execution_count": 28,
   "metadata": {},
   "outputs": [
    {
     "data": {
      "text/plain": [
       "3"
      ]
     },
     "execution_count": 28,
     "metadata": {},
     "output_type": "execute_result"
    }
   ],
   "source": [
    "fun2()"
   ]
  },
  {
   "cell_type": "markdown",
   "metadata": {},
   "source": [
    "Shit. It worked. You now have so many ways to shoot yourself in the foot. This is why it is critical to understand the interaction between local and global scopes. The rule is as follows:\n",
    "\n",
    "- Local scopes have access to the global scope\n",
    "\n",
    "So anything you define in the global scope will be available inside any of the functions that you also define in your notebook.\n",
    "\n",
    "This will end up being a problem. You will end up in a situation where you've got all kinds of things floating around in the global scope which will interact with your functions in unexpected ways. Take the following as an example:"
   ]
  },
  {
   "cell_type": "code",
   "execution_count": 29,
   "metadata": {},
   "outputs": [],
   "source": [
    "def add(c, d):\n",
    "    return var + c"
   ]
  },
  {
   "cell_type": "code",
   "execution_count": 30,
   "metadata": {},
   "outputs": [
    {
     "data": {
      "text/plain": [
       "2"
      ]
     },
     "execution_count": 30,
     "metadata": {},
     "output_type": "execute_result"
    }
   ],
   "source": [
    "add(1, 100)"
   ]
  },
  {
   "cell_type": "markdown",
   "metadata": {},
   "source": [
    "Jesus, this is so dangerous. What we have written is a function that completely ignores one of it's arguments, uses a variabe that was defined in the global scope at the top of this notebook, and doesn't even give a warning. That's crazy.\n",
    "\n",
    "You'll be tempted many times to use global variables inside of your functions but **YOU SHOULD NOT DO THIS!** 🙏 \n",
    "\n",
    "Take the following example where you have a dictionary with all the USA state capitals: "
   ]
  },
  {
   "cell_type": "code",
   "execution_count": 31,
   "metadata": {},
   "outputs": [],
   "source": [
    "capitals = {\n",
    "  \"AL\": {\n",
    "    \"capital\": \"Montgomery\",\n",
    "  },\n",
    "  \"AK\": {\n",
    "    \"capital\": \"Juneau\",\n",
    "  },\n",
    "  \"AZ\": {\n",
    "    \"capital\": \"Phoenix\",\n",
    "  },\n",
    "  \"AR\": {\n",
    "    \"capital\": \"Little Rock\",\n",
    "  },\n",
    "  \"CA\": {\n",
    "    \"capital\": \"Sacramento\",\n",
    "  },\n",
    "  \"CO\": {\n",
    "    \"capital\": \"Denver\",\n",
    "  },\n",
    "  \"CT\": {\n",
    "    \"capital\": \"Hartford\",\n",
    "  },\n",
    "  \"DE\": {\n",
    "    \"capital\": \"Dover\",\n",
    "  },\n",
    "  \"FL\": {\n",
    "    \"capital\": \"Tallahassee\",\n",
    "  },\n",
    "  \"GA\": {\n",
    "    \"capital\": \"Atlanta\",\n",
    "  },\n",
    "  \"HI\": {\n",
    "    \"capital\": \"Honolulu\",\n",
    "  },\n",
    "  \"ID\": {\n",
    "    \"capital\": \"Boise\",\n",
    "  },\n",
    "  \"IL\": {\n",
    "    \"capital\": \"Springfield\",\n",
    "  },\n",
    "  \"IN\": {\n",
    "    \"capital\": \"Indianapolis\",\n",
    "  },\n",
    "  \"IA\": {\n",
    "    \"capital\": \"Des Moines\",\n",
    "  },\n",
    "  \"KS\": {\n",
    "    \"capital\": \"Topeka\",\n",
    "  },\n",
    "  \"KY\": {\n",
    "    \"capital\": \"Frankfort\",\n",
    "  },\n",
    "  \"LA\": {\n",
    "    \"capital\": \"Baton Rouge\",\n",
    "  },\n",
    "  \"ME\": {\n",
    "    \"capital\": \"Augusta\",\n",
    "  },\n",
    "  \"MD\": {\n",
    "    \"capital\": \"Annapolis\",\n",
    "  },\n",
    "  \"MA\": {\n",
    "    \"capital\": \"Boston\",\n",
    "  },\n",
    "  \"MI\": {\n",
    "    \"capital\": \"Lansing\",\n",
    "  },\n",
    "  \"MN\": {\n",
    "    \"capital\": \"Saint Paul\",\n",
    "  },\n",
    "  \"MS\": {\n",
    "    \"capital\": \"Jackson\",\n",
    "  },\n",
    "  \"MO\": {\n",
    "    \"capital\": \"Jefferson City\",\n",
    "  },\n",
    "  \"MT\": {\n",
    "    \"capital\": \"Helana\",\n",
    "  },\n",
    "  \"NE\": {\n",
    "    \"capital\": \"Lincoln\",\n",
    "  },\n",
    "  \"NV\": {\n",
    "    \"capital\": \"Carson City\",\n",
    "  },\n",
    "  \"NH\": {\n",
    "    \"capital\": \"Concord\",\n",
    "  },\n",
    "  \"NJ\": {\n",
    "    \"capital\": \"Trenton\",\n",
    "  },\n",
    "  \"NM\": {\n",
    "    \"capital\": \"Santa Fe\",\n",
    "  },\n",
    "  \"NY\": {\n",
    "    \"capital\": \"Albany\",\n",
    "  },\n",
    "  \"NC\": {\n",
    "    \"capital\": \"Raleigh\",\n",
    "  },\n",
    "  \"ND\": {\n",
    "    \"capital\": \"Bismarck\",\n",
    "  },\n",
    "  \"OH\": {\n",
    "    \"capital\": \"Columbus\",\n",
    "  },\n",
    "  \"OK\": {\n",
    "    \"capital\": \"Oklahoma City\",\n",
    "  },\n",
    "  \"OR\": {\n",
    "    \"capital\": \"Salem\",\n",
    "  },\n",
    "  \"PA\": {\n",
    "    \"capital\": \"Harrisburg\",\n",
    "  },\n",
    "  \"RI\": {\n",
    "    \"capital\": \"Providence\",\n",
    "  },\n",
    "  \"SC\": {\n",
    "    \"capital\": \"Columbia\",\n",
    "  },\n",
    "  \"SD\": {\n",
    "    \"capital\": \"Pierre\",\n",
    "  },\n",
    "  \"TN\": {\n",
    "    \"capital\": \"Nashville\",\n",
    "  },\n",
    "  \"TX\": {\n",
    "    \"capital\": \"Austin\",\n",
    "  },\n",
    "  \"UT\": {\n",
    "    \"capital\": \"Salt Lake City\",\n",
    "  },\n",
    "  \"VT\": {\n",
    "    \"capital\": \"Montpelier\",\n",
    "  },\n",
    "  \"VA\": {\n",
    "    \"capital\": \"Richmond\",\n",
    "  },\n",
    "  \"WA\": {\n",
    "    \"capital\": \"Olympia\",\n",
    "  },\n",
    "  \"WV\": {\n",
    "    \"capital\": \"Charleston\",\n",
    "  },\n",
    "  \"WI\": {\n",
    "    \"capital\": \"Madison\",\n",
    "  },\n",
    "  \"WY\": {\n",
    "    \"capital\": \"Cheyenne\",\n",
    "  }\n",
    "}\n",
    "\n"
   ]
  },
  {
   "cell_type": "markdown",
   "metadata": {},
   "source": [
    "and you have a function that prints the amount of capitals in it. You might be tempted to do this:"
   ]
  },
  {
   "cell_type": "code",
   "execution_count": 32,
   "metadata": {},
   "outputs": [
    {
     "data": {
      "text/plain": [
       "50"
      ]
     },
     "execution_count": 32,
     "metadata": {},
     "output_type": "execute_result"
    }
   ],
   "source": [
    "# Notice that the function takes no arguments and accesses\n",
    "# the variable \"capitals\" from the global namespace.\n",
    "\n",
    "def count_state_capitals():\n",
    "    return len(capitals)\n",
    "\n",
    "count_state_capitals()"
   ]
  },
  {
   "cell_type": "markdown",
   "metadata": {},
   "source": [
    "This is all well and good until either of the following things happens:\n",
    "\n",
    "1. The global variable name is changed\n",
    "1. The global variable goes away\n",
    "1. You move this function to another notebook or file and `capitals` dictionary is not in the global scope\n",
    "\n",
    "In any of these cases, you are in for a very bad time and lots of silent errors.\n",
    "\n",
    "What you should do instead, is make sure that your functions NEVER depend on the global namespace for accessing to variables. Instead, they should always take the variables they need as arguments. Furthermore,\n",
    "you should make an effort so that variables in the local scope have different names than the ones in the global namespace.\n",
    "\n",
    "So let's rewrite our `count_state_capitals` function with this in mind:"
   ]
  },
  {
   "cell_type": "code",
   "execution_count": 33,
   "metadata": {},
   "outputs": [],
   "source": [
    "# Now this is nice and clean and doesn't rely on mixing of scopes!\n",
    "\n",
    "def count_state_capitals(_capitals):\n",
    "    return len(_capitals)"
   ]
  },
  {
   "cell_type": "markdown",
   "metadata": {},
   "source": [
    "### The main lesson\n",
    "\n",
    "The take away message from this lesson on scopes is that **YOU SHOULD NEVER MIX THEM**. You might not understand the importance of this right now but keep it in mind as you move forward! If you don't believe me now, you will soon enough 😊 "
   ]
  },
  {
   "cell_type": "markdown",
   "metadata": {},
   "source": [
    "# Built-in functions\n",
    "\n",
    "The Python programming language provides you with quite a few built-in functions accessible in the global namespace. You can see the official documentation for such functions here:\n",
    "\n",
    "https://docs.python.org/3.7/library/functions.html\n",
    "\n",
    "They are simple but powerful and allow you to do things like this:"
   ]
  },
  {
   "cell_type": "code",
   "execution_count": 34,
   "metadata": {},
   "outputs": [
    {
     "data": {
      "text/plain": [
       "6"
      ]
     },
     "execution_count": 34,
     "metadata": {},
     "output_type": "execute_result"
    }
   ],
   "source": [
    "# using the sum built-in\n",
    "sum([1, 2, 3])"
   ]
  },
  {
   "cell_type": "code",
   "execution_count": 35,
   "metadata": {},
   "outputs": [
    {
     "data": {
      "text/plain": [
       "(1, 1)"
      ]
     },
     "execution_count": 35,
     "metadata": {},
     "output_type": "execute_result"
    }
   ],
   "source": [
    "# using the abs built-in to get the absolute value of a number\n",
    "abs(-1), abs(1)"
   ]
  },
  {
   "cell_type": "code",
   "execution_count": 36,
   "metadata": {},
   "outputs": [
    {
     "name": "stdout",
     "output_type": "stream",
     "text": [
      "hello world\n"
     ]
    }
   ],
   "source": [
    "# print is one that you've already been using for a while:\n",
    "\n",
    "print('hello world')"
   ]
  },
  {
   "cell_type": "code",
   "execution_count": 37,
   "metadata": {},
   "outputs": [
    {
     "data": {
      "text/plain": [
       "100"
      ]
     },
     "execution_count": 37,
     "metadata": {},
     "output_type": "execute_result"
    }
   ],
   "source": [
    "# get the max of a list\n",
    "max([1, 2, 3, 100, 8])"
   ]
  },
  {
   "cell_type": "markdown",
   "metadata": {},
   "source": [
    "There are many other built-in functions available that are not in the global namespace. These can still be part of the Python programming language by being included in the \"core\". You'll need to `import` these which you'll learn about in Learning Units to come."
   ]
  },
  {
   "cell_type": "markdown",
   "metadata": {},
   "source": [
    "# Return statements\n",
    "## Combining flow-control with a return statement\n",
    "\n",
    "You may want to return different values depending on some criteria. Take the following for example:"
   ]
  },
  {
   "cell_type": "code",
   "execution_count": 38,
   "metadata": {},
   "outputs": [],
   "source": [
    "def is_greater_than_10(number):\n",
    "    if number > 10:\n",
    "        return True\n",
    "    else:\n",
    "        return False"
   ]
  },
  {
   "cell_type": "markdown",
   "metadata": {},
   "source": [
    "Then you are able to do this:"
   ]
  },
  {
   "cell_type": "code",
   "execution_count": 39,
   "metadata": {},
   "outputs": [
    {
     "data": {
      "text/plain": [
       "False"
      ]
     },
     "execution_count": 39,
     "metadata": {},
     "output_type": "execute_result"
    }
   ],
   "source": [
    "is_greater_than_10(1)"
   ]
  },
  {
   "cell_type": "code",
   "execution_count": 40,
   "metadata": {},
   "outputs": [
    {
     "data": {
      "text/plain": [
       "True"
      ]
     },
     "execution_count": 40,
     "metadata": {},
     "output_type": "execute_result"
    }
   ],
   "source": [
    "is_greater_than_10(11)"
   ]
  },
  {
   "cell_type": "markdown",
   "metadata": {},
   "source": [
    "## Returning more than one variable\n",
    "\n",
    "It is also possible to return more than one variable inside a function! It's very interesting if you want to return a list or a tuple in a function."
   ]
  },
  {
   "cell_type": "code",
   "execution_count": 41,
   "metadata": {},
   "outputs": [],
   "source": [
    "def return_all_sums(a, b, c):\n",
    "    sum_ab = a + b\n",
    "    sum_ac = a + c\n",
    "    sum_bc = b + c\n",
    "    \n",
    "    return sum_ab, sum_ac, sum_bc"
   ]
  },
  {
   "cell_type": "markdown",
   "metadata": {},
   "source": [
    "It's possible you don't want to assign the output to a variable. In this case, Jupyter will simply print it."
   ]
  },
  {
   "cell_type": "code",
   "execution_count": 42,
   "metadata": {},
   "outputs": [
    {
     "data": {
      "text/plain": [
       "(6, 8, 12)"
      ]
     },
     "execution_count": 42,
     "metadata": {},
     "output_type": "execute_result"
    }
   ],
   "source": [
    "# Here the return is printed just because we are on Jupyter notebooks\n",
    "return_all_sums(1, 5, 7)"
   ]
  },
  {
   "cell_type": "markdown",
   "metadata": {},
   "source": [
    "Or, you want to store each of the outputs individually."
   ]
  },
  {
   "cell_type": "code",
   "execution_count": 43,
   "metadata": {},
   "outputs": [
    {
     "data": {
      "text/plain": [
       "6"
      ]
     },
     "execution_count": 43,
     "metadata": {},
     "output_type": "execute_result"
    }
   ],
   "source": [
    "a,b,c = return_all_sums(1, 5, 7)\n",
    "\n",
    "a"
   ]
  },
  {
   "cell_type": "markdown",
   "metadata": {},
   "source": [
    "Or, last option, we may want to store every output in a single tuple!"
   ]
  },
  {
   "cell_type": "code",
   "execution_count": 44,
   "metadata": {},
   "outputs": [
    {
     "data": {
      "text/plain": [
       "(6, 8, 12)"
      ]
     },
     "execution_count": 44,
     "metadata": {},
     "output_type": "execute_result"
    }
   ],
   "source": [
    "sum_tuple = return_all_sums(1, 5, 7)\n",
    "sum_tuple"
   ]
  },
  {
   "cell_type": "markdown",
   "metadata": {},
   "source": [
    "You can't, however, assign the outputs to only 2 variables (i.e., higher than 1 but lower than the total number of outputs) as Python would not know where to store what."
   ]
  },
  {
   "cell_type": "code",
   "execution_count": 45,
   "metadata": {},
   "outputs": [
    {
     "ename": "ValueError",
     "evalue": "too many values to unpack (expected 2)",
     "output_type": "error",
     "traceback": [
      "\u001b[0;31m---------------------------------------------------------------------------\u001b[0m",
      "\u001b[0;31mValueError\u001b[0m                                Traceback (most recent call last)",
      "\u001b[0;32m<ipython-input-45-6c88e8f8ab27>\u001b[0m in \u001b[0;36m<module>\u001b[0;34m\u001b[0m\n\u001b[0;32m----> 1\u001b[0;31m \u001b[0ma\u001b[0m\u001b[0;34m,\u001b[0m \u001b[0mb\u001b[0m \u001b[0;34m=\u001b[0m \u001b[0mreturn_all_sums\u001b[0m\u001b[0;34m(\u001b[0m\u001b[0;36m1\u001b[0m\u001b[0;34m,\u001b[0m \u001b[0;36m5\u001b[0m\u001b[0;34m,\u001b[0m \u001b[0;36m7\u001b[0m\u001b[0;34m)\u001b[0m\u001b[0;34m\u001b[0m\u001b[0;34m\u001b[0m\u001b[0m\n\u001b[0m\u001b[1;32m      2\u001b[0m \u001b[0ma\u001b[0m\u001b[0;34m,\u001b[0m \u001b[0mb\u001b[0m\u001b[0;34m\u001b[0m\u001b[0;34m\u001b[0m\u001b[0m\n",
      "\u001b[0;31mValueError\u001b[0m: too many values to unpack (expected 2)"
     ]
    }
   ],
   "source": [
    "a, b = return_all_sums(1, 5, 7)\n",
    "a, b"
   ]
  },
  {
   "cell_type": "markdown",
   "metadata": {},
   "source": [
    "You did it! We know this is a lot of information about **Functions** but you will get the hang of it with practice. Don't be afraid of failling and trying again, coming back to this whenever you need a revision."
   ]
  },
  {
   "cell_type": "markdown",
   "metadata": {},
   "source": [
    "![Advanced Functions](assets/you_got_this.jpeg)"
   ]
  },
  {
   "cell_type": "markdown",
   "metadata": {},
   "source": [
    "# Best practices"
   ]
  },
  {
   "cell_type": "markdown",
   "metadata": {},
   "source": [
    "Since this section cannot be graded and is just a **rant** about best practices on functions, this will be covered in the `Appendix` notebook."
   ]
  }
 ],
 "metadata": {
  "kernelspec": {
   "display_name": "Python 3",
   "language": "python",
   "name": "python3"
  },
  "language_info": {
   "codemirror_mode": {
    "name": "ipython",
    "version": 3
   },
   "file_extension": ".py",
   "mimetype": "text/x-python",
   "name": "python",
   "nbconvert_exporter": "python",
   "pygments_lexer": "ipython3",
   "version": "3.8.7"
  }
 },
 "nbformat": 4,
 "nbformat_minor": 4
}
