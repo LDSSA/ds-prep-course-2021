{
 "cells": [
  {
   "cell_type": "markdown",
   "metadata": {
    "nbgrader": {
     "grade": false,
     "grade_id": "cell-cb8099cdad9e6aff",
     "locked": true,
     "schema_version": 3,
     "solution": false,
     "task": false
    }
   },
   "source": [
    "## SLU08 - Functions Intermediate: Exercise notebook"
   ]
  },
  {
   "cell_type": "code",
   "execution_count": 1,
   "metadata": {
    "nbgrader": {
     "grade": false,
     "grade_id": "cell-2876c1ab50205a3d",
     "locked": true,
     "schema_version": 3,
     "solution": false,
     "task": false
    }
   },
   "outputs": [],
   "source": [
    "# Students don't need to worry about this cell\n",
    "# Just make sure that the first thing you do is\n",
    "# to run it or the rest of the grading won't work!\n",
    "\n",
    "import math\n",
    "import hashlib\n",
    "import inspect\n",
    "\n",
    "def _hash(s):\n",
    "    return hashlib.blake2b(\n",
    "        bytes(str(s), encoding='utf8'),\n",
    "        digest_size=5\n",
    "    ).hexdigest()"
   ]
  },
  {
   "cell_type": "markdown",
   "metadata": {
    "nbgrader": {
     "grade": false,
     "grade_id": "cell-90364ca3c57ba5a6",
     "locked": true,
     "schema_version": 3,
     "solution": false,
     "task": false
    }
   },
   "source": [
    "## Exercise 1\n",
    "\n",
    "Open up your favorite editor (word, google docs, notes, whatever) and write answers to the following questions in your own words:\n",
    "\n",
    "1. Explain what local scope is\n",
    "1. Explain what global scope is\n",
    "\n",
    "You should aim to become capable of explaining it (even if you don't understand it yet) using the right words and concepts. Having a good idea yourself about what all of these are is essential."
   ]
  },
  {
   "cell_type": "markdown",
   "metadata": {
    "nbgrader": {
     "grade": true,
     "grade_id": "cell-feba5c25d67069c0",
     "locked": false,
     "points": 0,
     "schema_version": 3,
     "solution": true,
     "task": false
    }
   },
   "source": [
    "## What is local scope\n",
    "\n",
    "Write your answer here\n",
    "\n",
    "## What is global scope\n",
    "\n",
    "Write your answer here"
   ]
  },
  {
   "cell_type": "markdown",
   "metadata": {
    "nbgrader": {
     "grade": false,
     "grade_id": "cell-9455f74ca06bf19a",
     "locked": true,
     "schema_version": 3,
     "solution": false,
     "task": false
    }
   },
   "source": [
    "## Exercise 2\n",
    "\n",
    "Consider the following code:\n"
   ]
  },
  {
   "cell_type": "code",
   "execution_count": 2,
   "metadata": {
    "nbgrader": {
     "grade": false,
     "grade_id": "cell-a19fd93a44f79476",
     "locked": true,
     "schema_version": 3,
     "solution": false,
     "task": false
    }
   },
   "outputs": [],
   "source": [
    "def hello_world():\n",
    "    a_var = 10\n",
    "    return a_var\n",
    "\n",
    "another_var = 100"
   ]
  },
  {
   "cell_type": "markdown",
   "metadata": {
    "nbgrader": {
     "grade": false,
     "grade_id": "cell-8150dc08830e3a1f",
     "locked": true,
     "schema_version": 3,
     "solution": false,
     "task": false
    }
   },
   "source": [
    "Identify which variable is in a local scope and which is in the global scope"
   ]
  },
  {
   "cell_type": "code",
   "execution_count": 3,
   "metadata": {
    "nbgrader": {
     "grade": false,
     "grade_id": "cell-9e7c4f368ba822c3",
     "locked": false,
     "schema_version": 3,
     "solution": true,
     "task": false
    }
   },
   "outputs": [
    {
     "name": "stdout",
     "output_type": "stream",
     "text": [
      "702153dc06\n",
      "ec9f60ee7b\n"
     ]
    }
   ],
   "source": [
    "# assign the string values of either 'local' or 'global'\n",
    "\n",
    "# Assign a_var_scope the value of 'local' or 'global'\n",
    "a_var_scope = ''\n",
    "\n",
    "# Assign another_var_scope the value of 'local' or 'global'\n",
    "another_var_scope = ''\n",
    "\n",
    "### BEGIN SOLUTION\n",
    "a_var_scope = 'local'\n",
    "another_var_scope = 'global'\n",
    "print(_hash(a_var_scope))\n",
    "print(_hash(another_var_scope))\n",
    "### END SOLUTION"
   ]
  },
  {
   "cell_type": "code",
   "execution_count": 4,
   "metadata": {
    "nbgrader": {
     "grade": true,
     "grade_id": "cell-b9fe7c14fb27eeb7",
     "locked": true,
     "points": 4,
     "schema_version": 3,
     "solution": false,
     "task": false
    }
   },
   "outputs": [],
   "source": [
    "assert _hash(a_var_scope) == '702153dc06', 'incorrect scope, try again!'\n",
    "assert _hash(another_var_scope) == 'ec9f60ee7b', 'incorrect scope, try again!'"
   ]
  },
  {
   "cell_type": "markdown",
   "metadata": {
    "nbgrader": {
     "grade": false,
     "grade_id": "cell-8ef228f1d9f0af1e",
     "locked": true,
     "schema_version": 3,
     "solution": false,
     "task": false
    }
   },
   "source": [
    "## Exercise 3\n",
    "\n",
    "In this exercise, you'll learn the difference between scopes regardless of the name of a variable. The name of the variable is not the important part, it's all about being inside or outside of a function when the variable is assigned it's value."
   ]
  },
  {
   "cell_type": "code",
   "execution_count": 5,
   "metadata": {
    "nbgrader": {
     "grade": false,
     "grade_id": "cell-445c367f0e9d14bf",
     "locked": true,
     "schema_version": 3,
     "solution": false,
     "task": false
    }
   },
   "outputs": [],
   "source": [
    "outside_var = 100\n",
    "\n",
    "def hello_world_complicated():\n",
    "    print(outside_var) # first print\n",
    "    a_var = 10\n",
    "    outside_var = 200\n",
    "    print(outside_var) # second print"
   ]
  },
  {
   "cell_type": "code",
   "execution_count": 6,
   "metadata": {
    "nbgrader": {
     "grade": false,
     "grade_id": "cell-ee96a24cc19231ea",
     "locked": false,
     "schema_version": 3,
     "solution": true,
     "task": false
    }
   },
   "outputs": [
    {
     "name": "stdout",
     "output_type": "stream",
     "text": [
      "outside_var_first_print_scope fc6003ae12\n",
      "outside_var_second_print_scope 650bfd57ec\n"
     ]
    }
   ],
   "source": [
    "# The print(outside_var) which is the first line in the function is printing\n",
    "# the value of a global or locally scoped variable\n",
    "# Assign outside_var_first_print_scope the value of 'local' or 'global'\n",
    "\n",
    "outside_var_first_print_scope = ''\n",
    "\n",
    "# The print(outside_var) which is the last line in the function is printing\n",
    "# the value of a global or locally scoped variable\n",
    "# Assign outside_var_second_print_scope the value of 'local' or 'global'\n",
    "\n",
    "outside_var_second_print_scope = ''\n",
    "\n",
    "\n",
    "### BEGIN SOLUTION\n",
    "outside_var_first_print_scope = 'global'\n",
    "outside_var_second_print_scope = 'local'\n",
    "print('outside_var_first_print_scope', _hash('a' + outside_var_first_print_scope))\n",
    "print('outside_var_second_print_scope', _hash('b' + outside_var_second_print_scope))\n",
    "### END SOLUTION"
   ]
  },
  {
   "cell_type": "code",
   "execution_count": 7,
   "metadata": {
    "nbgrader": {
     "grade": true,
     "grade_id": "cell-15f4aacaf3f4acf2",
     "locked": true,
     "points": 4,
     "schema_version": 3,
     "solution": false
    }
   },
   "outputs": [],
   "source": [
    "assert _hash('a' + outside_var_first_print_scope) == 'fc6003ae12', 'incorrect scope, try again!'\n",
    "assert _hash('b' + outside_var_second_print_scope) == '650bfd57ec', 'incorrect scope, try again!'"
   ]
  },
  {
   "cell_type": "markdown",
   "metadata": {
    "nbgrader": {
     "grade": false,
     "grade_id": "cell-ff6c7128bba30b0d",
     "locked": true,
     "schema_version": 3,
     "solution": false
    }
   },
   "source": [
    "## Exercise 4\n",
    "\n",
    "Now you'll see first hand how local and global scope can clash (and potentially create problems) when a local function accesses variables in the global scope."
   ]
  },
  {
   "cell_type": "markdown",
   "metadata": {
    "nbgrader": {
     "grade": false,
     "grade_id": "cell-56378b142f852572",
     "locked": true,
     "schema_version": 3,
     "solution": false
    }
   },
   "source": [
    "### DO NOT RUN THIS CODE\n",
    "\n",
    "The point of this exercise is to read and understand what is happening between the variables and the scopes. You can easily run this code and come up with the answers but if you do it before thinking about it first, you'll be robbing yourself of a valueable learning opportunity!\n",
    "\n",
    "```py\n",
    "a_list = [1, 2, 3]\n",
    "\n",
    "def hello():\n",
    "    another_list = a_list\n",
    "    another_list.append(4)\n",
    "    \n",
    "my_value_1 = a_list + [5]\n",
    "hello()\n",
    "my_value_2 = a_list\n",
    "```"
   ]
  },
  {
   "cell_type": "code",
   "execution_count": 8,
   "metadata": {
    "nbgrader": {
     "grade": false,
     "grade_id": "cell-1d991da3b4fc577d",
     "locked": false,
     "schema_version": 3,
     "solution": true,
     "task": false
    }
   },
   "outputs": [
    {
     "name": "stdout",
     "output_type": "stream",
     "text": [
      "90cd62da52\n",
      "76d2a49034\n"
     ]
    }
   ],
   "source": [
    "# Fill in the values after ONLY READING the code.\n",
    "# DO NOT RUN THE CELL ABOVE\n",
    "\n",
    "my_value_1 = [] # fill in the values in the list for my_value_1\n",
    "my_value_2 = [] # fill in the values in the list for my_value_2\n",
    "\n",
    "### BEGIN SOLUTION\n",
    "my_value_1 = [1, 2, 3, 5]\n",
    "my_value_2 = [1, 2, 3, 4]\n",
    "print(_hash(my_value_1))\n",
    "print(_hash(my_value_2))\n",
    "### END SOLUTION"
   ]
  },
  {
   "cell_type": "code",
   "execution_count": 9,
   "metadata": {
    "nbgrader": {
     "grade": true,
     "grade_id": "cell-8f1b5ee5de1cd405",
     "locked": true,
     "points": 4,
     "schema_version": 3,
     "solution": false,
     "task": false
    }
   },
   "outputs": [],
   "source": [
    "assert _hash(my_value_1) == '90cd62da52', 'not quite, follow the code and the concepts!'\n",
    "assert _hash(my_value_2) == '76d2a49034', 'not quite, follow the code and the concepts!'"
   ]
  },
  {
   "cell_type": "markdown",
   "metadata": {
    "nbgrader": {
     "grade": false,
     "grade_id": "cell-4379f9b5e0555f0e",
     "locked": true,
     "schema_version": 3,
     "solution": false,
     "task": false
    }
   },
   "source": [
    "## Exercise 5\n",
    "\n",
    "In this exercise, you will create a variable in the global scope and then use it inside the local scope\n",
    "of another function. \n",
    "\n",
    "Create a function with the following specifications:\n",
    "1. Create a global variable called `a_number` and assign it the value of `2`\n",
    "1. Create a function called `use_global_scope` that takes one argument\n",
    "1. The argument is called `multiply_by` and should be an integer\n",
    "1. If `multiply_by` is not an integer, the function returns `None`\n",
    "1. This function should return the value of the global variable `a_number` multiplied by `multiply_by`"
   ]
  },
  {
   "cell_type": "code",
   "execution_count": 10,
   "metadata": {
    "nbgrader": {
     "grade": false,
     "grade_id": "cell-4d7ca7728f0a1ab1",
     "locked": false,
     "schema_version": 3,
     "solution": true,
     "task": false
    }
   },
   "outputs": [],
   "source": [
    "# first define a global variable called a_number\n",
    "\n",
    "# next define your function use_global_scope that multiplies a_number by multiply_by\n",
    "\n",
    "\n",
    "### BEGIN SOLUTION\n",
    "a_number = 2\n",
    "\n",
    "def use_global_scope(multiply_by):\n",
    "    if type(multiply_by) is not int:\n",
    "        return None\n",
    "    \n",
    "    return multiply_by * a_number\n",
    "### END SOLUTION"
   ]
  },
  {
   "cell_type": "code",
   "execution_count": 11,
   "metadata": {
    "nbgrader": {
     "grade": true,
     "grade_id": "cell-7eeb010ffbd8b2d1",
     "locked": true,
     "points": 4,
     "schema_version": 3,
     "solution": false,
     "task": false
    }
   },
   "outputs": [],
   "source": [
    "sig = inspect.signature(use_global_scope)\n",
    "source = inspect.getsource(use_global_scope)\n",
    "params = sig.parameters\n",
    "\n",
    "assert 'use_global_scope' in globals(), 'did you name the function correctly?'\n",
    "\n",
    "assert len(sig.parameters) == 1, 'your function should take one argument'\n",
    "assert 'multiply_by' in params, 'you must have an argument called multiply_by'\n",
    "assert 'a_number' in globals(), 'be sure to define a_number in the global scope'\n",
    "assert use_global_scope(10) == 20, 'check if your implementation fulfills all specifications'\n",
    "assert use_global_scope('hello') == None, 'check if your implementation fulfills all specifications'\n",
    "assert 'a_number' in source, 'be sure to use a_number in side of the function'\n",
    "assert '=' not in source, 'you do not need to assign any values to any variables inside of this function'\n",
    "assert '10' not in source, 'are you cheating by hard-coding?'\n",
    "assert '20' not in source, 'no cheating by hard-coding stuff!'"
   ]
  },
  {
   "cell_type": "markdown",
   "metadata": {
    "nbgrader": {
     "grade": false,
     "grade_id": "cell-5d34cb2d2ce40474",
     "locked": true,
     "schema_version": 3,
     "solution": false,
     "task": false
    }
   },
   "source": [
    "## Exercise 6\n",
    "\n",
    "In this exercise, you will create a function that multiplies all the elements of a list\n",
    "by a given number\n",
    "\n",
    "1. Create a function named `mult_by`\n",
    "1. It takes one positional argument called `my_list`\n",
    "1. It take one keyword argument called `multiply_by` and is a number\n",
    "    1. The default value is `2`\n",
    "1. The function must multiply all elements of the list by `multiply_by` and return the result(which will also be a list)"
   ]
  },
  {
   "cell_type": "code",
   "execution_count": 12,
   "metadata": {
    "nbgrader": {
     "grade": false,
     "grade_id": "cell-a20188b198ba965e",
     "locked": false,
     "schema_version": 3,
     "solution": true,
     "task": false
    }
   },
   "outputs": [],
   "source": [
    "### BEGIN SOLUTION\n",
    "a_number = 2\n",
    "\n",
    "def mult_by(my_list, multiply_by=2):\n",
    "    multiplied_by = []\n",
    "    for num in my_list:\n",
    "        multiplied_by.append(num * multiply_by)\n",
    "    return multiplied_by\n",
    "### END SOLUTION"
   ]
  },
  {
   "cell_type": "code",
   "execution_count": 13,
   "metadata": {
    "nbgrader": {
     "grade": true,
     "grade_id": "cell-c9c233f3b6f3e544",
     "locked": true,
     "points": 4,
     "schema_version": 3,
     "solution": false,
     "task": false
    }
   },
   "outputs": [],
   "source": [
    "assert 'mult_by' in globals(), 'did you name the function correctly?'\n",
    "\n",
    "sig = inspect.signature(mult_by)\n",
    "source = inspect.getsource(mult_by)\n",
    "params = sig.parameters\n",
    "\n",
    "assert len(sig.parameters) == 2, 'your function should define two arguments'\n",
    "assert 'my_list' in params, 'you must have an argument called my_list'\n",
    "assert 'multiply_by' in params, 'you must have an argument called multiply_by'\n",
    "assert sig.parameters['my_list'].default == inspect._empty, 'my_list should be a positional argument'\n",
    "assert sig.parameters['multiply_by'].default == 2, 'multiply_by should be a keyword argument with a default value of 2'\n",
    "assert (\n",
    "    '8' not in source\n",
    "    and\n",
    "    '10' not in source\n",
    "), 'are you cheeeeeating?'\n",
    "\n",
    "\n",
    "assert mult_by([4, 5]) == [8, 10], 'wrong return value, check if your implementation fulfills all specifications!'\n",
    "assert mult_by([4, 5], multiply_by=1) == [4, 5], 'wrong return value, check if your implementation fulfills all specifications!'"
   ]
  },
  {
   "cell_type": "code",
   "execution_count": 14,
   "metadata": {
    "nbgrader": {
     "grade": false,
     "grade_id": "cell-8fadee9bf39bad5e",
     "locked": false,
     "schema_version": 3,
     "solution": true,
     "task": false
    }
   },
   "outputs": [],
   "source": [
    "# Submit your work!\n",
    "\n",
    "#slack_id = \n",
    "\n",
    "### BEGIN SOLUTION\n",
    "slack_id = \"ADMINSLU08\"\n",
    "### END SOLUTION"
   ]
  },
  {
   "cell_type": "code",
   "execution_count": 15,
   "metadata": {
    "nbgrader": {
     "grade": true,
     "grade_id": "cell-3136d76d011bcbc9",
     "locked": true,
     "points": 0,
     "schema_version": 3,
     "solution": false,
     "task": false
    }
   },
   "outputs": [
    {
     "name": "stdout",
     "output_type": "stream",
     "text": [
      "Success\n"
     ]
    }
   ],
   "source": [
    "from submit import submit\n",
    "assert isinstance(slack_id, str)\n",
    "\n",
    "slu = 8\n",
    "\n",
    "submit(slack_id, slu)"
   ]
  }
 ],
 "metadata": {
  "celltoolbar": "Create Assignment",
  "kernelspec": {
   "display_name": "Python 3",
   "language": "python",
   "name": "python3"
  },
  "language_info": {
   "codemirror_mode": {
    "name": "ipython",
    "version": 3
   },
   "file_extension": ".py",
   "mimetype": "text/x-python",
   "name": "python",
   "nbconvert_exporter": "python",
   "pygments_lexer": "ipython3",
   "version": "3.8.7"
  }
 },
 "nbformat": 4,
 "nbformat_minor": 2
}
