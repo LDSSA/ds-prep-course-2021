{
 "cells": [
  {
   "cell_type": "markdown",
   "id": "c26bdbe9",
   "metadata": {},
   "source": [
    "# Functions - Best practices\n",
    "\n",
    "In this notebook we will discuss a bit about what are the best practices of documenting and writing functions. These topics won't be graded but they will give you a general idea of what to do once you start developing in real-world. They are also usable throughout any programming language.\n",
    "\n",
    "The following are just initial ideas for you to think about and use during the course. Commenting, what to comment and how to comment are open-ended discussions and different people have different opinions. Just make sure, pretty please 🙏, that you comment and document what you don't know. I can't stress this enough, **You don't know how many times people had to refactor code and redo everything just because they forgot what it did.**"
   ]
  },
  {
   "cell_type": "markdown",
   "id": "34379bc9",
   "metadata": {},
   "source": [
    "## Comments\n",
    "\n",
    "Everyone likes comments and everyone knows that they are important. Leaving comments in the code allows others to understand our thought process and allows you to return to the code, after some days, and still understand what the hell you were trying to do at that time. I know it sounds troublesome and you think that you will remember what you were doing, but trust me when I say this: \n",
    "\n",
    "### You won't remember everything so might as well add some comments"
   ]
  },
  {
   "cell_type": "markdown",
   "id": "28e06dd8",
   "metadata": {},
   "source": [
    "Initially, and after reading all these warnings your thought process will likely be\n",
    "\n",
    "![Comments everywhere](assets/comments-comments-everywhere.jpeg)\n",
    "\n",
    "But **be careful!** If you start commenting everything like in the function `adding_function` below, most of your comments will feel like noise and the important comments will be lost in the spam"
   ]
  },
  {
   "cell_type": "code",
   "execution_count": 1,
   "id": "62411607",
   "metadata": {},
   "outputs": [],
   "source": [
    "# Example of spammy comments\n",
    "def adding_function(int_1, int_2):\n",
    "    # This function adds two integers -> as the name and parameters already suggest, useless comment\n",
    "    \n",
    "    # Adding variables a+b -> useless as well, any person that sees this knows that it's an adding operation\n",
    "    result = int_1 + int_2\n",
    "    \n",
    "    #returns the result of the sum made above -> we know already 😂 \n",
    "    return result\n",
    "\n",
    "# In this case the code is very self-descriptive, so it may not need any comments really"
   ]
  },
  {
   "cell_type": "markdown",
   "id": "61184d46",
   "metadata": {},
   "source": [
    "When taking comments into consideration, and this will be hard at first, you need to find balance between over-commenting and commenting what is needed. Your variables should also be descriptive of what you are trying to achieve"
   ]
  },
  {
   "cell_type": "code",
   "execution_count": 2,
   "id": "29672467",
   "metadata": {},
   "outputs": [],
   "source": [
    "import re\n",
    "\n",
    "def sanitize_string(string):\n",
    "    \n",
    "    if type(string) is not str:\n",
    "        # No need for a comment, you understand by the print and condition what is happening here\n",
    "        print(\"Not a string!\")\n",
    "        return\n",
    "    \n",
    "    # Wow, what the *!F$% is this next piece of code doing? \n",
    "    #  -> Maybe I should document this for other people and myself in the future!\n",
    "    \n",
    "    # regex, removes any character that is not a space, number or letter\n",
    "    clean_string = re.sub('[^A-Za-z0-9 ]+', '', string)\n",
    "    \n",
    "    # this you probably know, but if you don't -> comment! \n",
    "    # It lowercases the string\n",
    "    return clean_string.lower()\n",
    "    "
   ]
  },
  {
   "cell_type": "code",
   "execution_count": 3,
   "id": "1414f45a",
   "metadata": {},
   "outputs": [
    {
     "data": {
      "text/plain": [
       "'hello world'"
      ]
     },
     "execution_count": 3,
     "metadata": {},
     "output_type": "execute_result"
    }
   ],
   "source": [
    "weird_string = \"^*ººHe'?llo Woç.,-rld!\"\n",
    "sanitize_string(weird_string)"
   ]
  },
  {
   "cell_type": "code",
   "execution_count": 4,
   "id": "8f3869f6",
   "metadata": {},
   "outputs": [
    {
     "name": "stdout",
     "output_type": "stream",
     "text": [
      "Not a string!\n"
     ]
    }
   ],
   "source": [
    "sanitize_string(2)"
   ]
  },
  {
   "cell_type": "markdown",
   "id": "e939177e",
   "metadata": {},
   "source": [
    "<div>\n",
    "<img alt=\"perfectly balanced\", src=\"./assets/perfectly_balanced.jpeg\" width=\"400\">\n",
    "</div>\n",
    "\n",
    "Commenting is completely up to the programmer. It's **your responsability** to know what you are doing and to make sure that the people who are reading your code understand what you were doing at the time of writing!\n",
    "\n",
    "* Use clear, descriptive variables!\n",
    "* Use clear, descriptive function names - `function_one` doesn't add any information on what it does!\n",
    "* If you are making any assumption inside the code - document it!\n",
    "* If you are fixing an edge case (i.e., a very specific problem/condition of your solution) - document it!\n",
    "* If you feel that it's not clear what you have done - leave a comment!\n",
    "* Don't add comments to every line of the program describing every single thing you do, most of them probably won't add any value"
   ]
  },
  {
   "cell_type": "markdown",
   "id": "de7acb01",
   "metadata": {},
   "source": [
    "## Docstrings\n",
    "\n",
    "Python documentation strings - docstrings - are a way of providing a convenient and constant way of writing a description to any type of functions, classes and methods (the last two you will learn later on). There are several ways of writing docstrings, I'll introduce you to a specific one but in general they all tend to rotate around the same idea which is - **document and comment your function!**\n",
    "\n",
    "Usually every function should state its purpose and give a general description of what it receives (parameters) and what it returns. Moreover, some IDEs - like VSCode, not Jupyter - already come with this option so usually if you write `\"\"\"` and click enter after a function it will create a docstring for you to fill\n",
    "\n",
    "Example shown below"
   ]
  },
  {
   "cell_type": "markdown",
   "id": "d10baa7e",
   "metadata": {},
   "source": [
    "<div>\n",
    "<img alt=\"docstring_1\", src=\"./assets/docstring_01.png\" width=\"600\">\n",
    "</div>"
   ]
  },
  {
   "cell_type": "markdown",
   "id": "6b85740a",
   "metadata": {},
   "source": [
    "After pressing Enter this is what shows up!"
   ]
  },
  {
   "cell_type": "markdown",
   "id": "23db4b62",
   "metadata": {},
   "source": [
    "<div>\n",
    "<img alt=\"docstring_2\", src=\"./assets/docstring_02.png\" width=\"600\">\n",
    "</div>"
   ]
  },
  {
   "cell_type": "markdown",
   "id": "e0cd9822",
   "metadata": {},
   "source": [
    "Pretty cool right?! Some IDEs already give you all the tools to employ Docstrings so there is really no excuse! \n",
    "\n",
    "**Note:** You may need to activate this feature on your IDE. For VSCode you might need to install this plugin: https://marketplace.visualstudio.com/items?itemName=njpwerner.autodocstring -> check its example for a detailed video on how to do this\n",
    "\n",
    "Using function `sanitize_string` as an example:"
   ]
  },
  {
   "cell_type": "code",
   "execution_count": 5,
   "id": "c1ae4519",
   "metadata": {},
   "outputs": [],
   "source": [
    "def sanitize_string(string):\n",
    "    \"\"\"\n",
    "    Cleans a string by removing any characters that are not spaces, numbers or letters. returns it in lowercase\n",
    "    \n",
    "    :param string: string to be cleaned\n",
    "    :return: sanitized string\n",
    "    \"\"\"\n",
    "    if type(string) is not str:\n",
    "        print(\"Not a string!\")\n",
    "        return\n",
    "    \n",
    "    # removes any character that is not a space, number or letter\n",
    "    clean_string = re.sub('[^A-Za-z0-9 ]+', '', string)\n",
    "    \n",
    "    return clean_string.lower()"
   ]
  },
  {
   "cell_type": "markdown",
   "id": "1f2ec6c2",
   "metadata": {},
   "source": [
    "In conclusion, docstrings are a really good way of documenting every function you use on a program! Keeping it constant throughout all functions leads to a very organised commenting. Moreover (and this is the fun interesting part!), there are tools - like [Sphinx](https://www.sphinx-doc.org/en/master/) - that you can use that transform all these docstring comments into a web documentation page automatically! \n",
    "\n",
    "For a real life example, the [Numpy documentation page](https://numpy.org/doc/stable/reference/) (a really valuable tool for data scientists!) was created automatically by using Sphinx with docstrings!"
   ]
  },
  {
   "cell_type": "markdown",
   "id": "193dcd5f",
   "metadata": {},
   "source": [
    "There are many many more stuff that can be done here but I don't want to kill you with information overload. If you focus on these two topics it will be of great help to you in the future! Thank you for reading this, have an appreciation meme!"
   ]
  },
  {
   "cell_type": "markdown",
   "id": "e793be6b",
   "metadata": {},
   "source": [
    "<div>\n",
    "<img alt=\"love_python\", src=\"./assets/program_python.png\" width=\"400\">\n",
    "</div>"
   ]
  }
 ],
 "metadata": {
  "kernelspec": {
   "display_name": "Python 3",
   "language": "python",
   "name": "python3"
  },
  "language_info": {
   "codemirror_mode": {
    "name": "ipython",
    "version": 3
   },
   "file_extension": ".py",
   "mimetype": "text/x-python",
   "name": "python",
   "nbconvert_exporter": "python",
   "pygments_lexer": "ipython3",
   "version": "3.8.7"
  }
 },
 "nbformat": 4,
 "nbformat_minor": 5
}
