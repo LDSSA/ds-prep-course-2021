{
 "cells": [
  {
   "cell_type": "markdown",
   "metadata": {
    "nbgrader": {
     "grade": false,
     "grade_id": "cell-e9618f92d187d071",
     "locked": true,
     "schema_version": 3,
     "solution": false,
     "task": false
    }
   },
   "source": [
    "# SLU18 - Exam preparation II\n",
    "\n",
    "## Batch 3 #Wave 2\n",
    "\n",
    "This is the 2nd Python exam from batch 3. Exam Duration: 3h"
   ]
  },
  {
   "cell_type": "code",
   "execution_count": 1,
   "metadata": {
    "nbgrader": {
     "grade": false,
     "grade_id": "cell-483102a02d381dd4",
     "locked": true,
     "schema_version": 3,
     "solution": false,
     "task": false
    }
   },
   "outputs": [],
   "source": [
    "import numpy as np\n",
    "import pytest\n",
    "import io\n",
    "import math\n",
    "import utils"
   ]
  },
  {
   "cell_type": "markdown",
   "metadata": {
    "nbgrader": {
     "grade": false,
     "grade_id": "cell-1db03a5ab4527508",
     "locked": true,
     "schema_version": 3,
     "solution": false,
     "task": false
    }
   },
   "source": [
    "## Exercise 1"
   ]
  },
  {
   "cell_type": "markdown",
   "metadata": {
    "nbgrader": {
     "grade": false,
     "grade_id": "cell-b02d2bd029a7ea78",
     "locked": true,
     "schema_version": 3,
     "solution": false,
     "task": false
    }
   },
   "source": [
    "**Orthogonal arrays**\n",
    "\n",
    "In this exercise, we want to write a function that validates if two arrays are orthogonal.\n",
    "\n",
    "For two arrays to be orthogonal, we need their inner product to be zero.\n",
    "\n",
    "In this exercise, we'll represent arrays as tuples.\n",
    "\n",
    "But let's do this in steps!\n",
    "\n",
    "-------------------------------------------------------------------------------------------------------------------------------------------------------------------------------------------------\n",
    "**1.1 Validate tuples**\n",
    "\n",
    "First, define a function called **validate_tuples** that receives two arguments, x and y, and checks if both x and y are tuples. \n",
    "\n",
    "- If both x and y are tuples, the function should return **True**.\n",
    "\n",
    "- Otherwise, it should raise a ValueError with message: \"The input arguments must be tuples.\"\n",
    "\n",
    "- If the points don’t have the same number of coordinates, raise a ValueError with message: \"Cannot compute distance between points with different number of coordinates.\"\n"
   ]
  },
  {
   "cell_type": "markdown",
   "metadata": {
    "nbgrader": {
     "grade": false,
     "grade_id": "cell-819c71d746455ee5",
     "locked": true,
     "schema_version": 3,
     "solution": false,
     "task": false
    }
   },
   "source": [
    "**Grader tips**\n",
    "\n",
    "In this exercise, you should just define function **validate_tuples**, you should not invoke the function!\n",
    "Make sure that:\n",
    "- the name of the function is exactly what is requested\n",
    "- the message in the ValueError is exactly what is requested\n",
    "- you don't have any print statements in your code"
   ]
  },
  {
   "cell_type": "code",
   "execution_count": 2,
   "metadata": {
    "nbgrader": {
     "grade": false,
     "grade_id": "cell-4d00af57c3b45c44",
     "locked": false,
     "schema_version": 3,
     "solution": true,
     "task": false
    }
   },
   "outputs": [],
   "source": [
    "# create function called validate_tuples\n",
    "\n",
    "# def validate_tuples(a, b)\n",
    "# ...\n",
    "# ...\n",
    "\n",
    "### BEGIN SOLUTION\n",
    "def validate_tuples(a, b):\n",
    "    if (not isinstance(a, tuple)) or (not isinstance(b, tuple)):\n",
    "        raise ValueError(\"The input arguments must be tuples.\")\n",
    "\n",
    "    return True\n",
    "### END SOLUTION"
   ]
  },
  {
   "cell_type": "markdown",
   "metadata": {
    "nbgrader": {
     "grade": false,
     "grade_id": "cell-209a5905ffec33ec",
     "locked": true,
     "schema_version": 3,
     "solution": false,
     "task": false
    }
   },
   "source": [
    "**1.2 Validate dimensions** \n",
    "\n",
    "In this second step, we want to check if two arrays have the same number of dimensions. For that, you'll have to define a function called **validate_dimensions**, that:\n",
    "\n",
    "- Receives two arguments, x and y, which are tuples (and represent our two arrays)\n",
    "- First, check if both x and y have at least two dimensions, i.e, check if the length of the tuples is at least two. In case they don't, raise a ValueError with message: \"Input arrays must have at least two dimensions.\"\n",
    "- Then, check if the two arrays have the same number of dimensions, i.e, check if the two tuples have the same length. In case they don't, \"chop out\" the last dimensions from the longer array, until they have the same number of dimensions\n",
    "- Finally return a list with the resulting arrays"
   ]
  },
  {
   "cell_type": "code",
   "execution_count": 3,
   "metadata": {
    "nbgrader": {
     "grade": false,
     "grade_id": "cell-4d00af57c3b45c45",
     "locked": false,
     "schema_version": 3,
     "solution": true,
     "task": false
    }
   },
   "outputs": [],
   "source": [
    "# create function called validate_dimensions\n",
    "\n",
    "# def validate_dimensions(a, b)\n",
    "# ...\n",
    "# ...\n",
    "\n",
    "\n",
    "### BEGIN SOLUTION\n",
    "\n",
    "def validate_dimensions(a, b):\n",
    "    if (len(a) < 2) or (len(b) < 2):\n",
    "        raise ValueError(\"Input arrays must have at least two dimensions.\")\n",
    "\n",
    "    min_dims = min(len(a), len(b))\n",
    "\n",
    "    return [a[:min_dims], b[:min_dims]]\n",
    "\n",
    "### END SOLUTION"
   ]
  },
  {
   "cell_type": "markdown",
   "metadata": {
    "nbgrader": {
     "grade": false,
     "grade_id": "cell-051112477f9fa24d",
     "locked": true,
     "schema_version": 3,
     "solution": false,
     "task": false
    }
   },
   "source": [
    "**1.3 Inner product** \n",
    "\n",
    "In this third step, you'll have to define a function called **inner_product**, that receives two arguments, x and y, which are n-dimensional tuples, and computes their inner product as:\n",
    "\n",
    "\n",
    "$$<x,y> = \\sum_{n=1}^N {x_iy_i}={x_1y_1 + x_2y_2 + ... +  x_n y_n}$$"
   ]
  },
  {
   "cell_type": "code",
   "execution_count": 4,
   "metadata": {
    "nbgrader": {
     "grade": false,
     "grade_id": "cell-4d00af57c3b45c46",
     "locked": false,
     "schema_version": 3,
     "solution": true,
     "task": false
    }
   },
   "outputs": [],
   "source": [
    "# create function called inner_product\n",
    "\n",
    "# def inner_product(a, b)\n",
    "# ...\n",
    "# ...\n",
    "\n",
    "### BEGIN SOLUTION\n",
    "\n",
    "def inner_product(a, b):\n",
    "    return sum([x_i * y_i for x_i, y_i in zip(a, b)])\n",
    "\n",
    "### END SOLUTION"
   ]
  },
  {
   "cell_type": "markdown",
   "metadata": {
    "nbgrader": {
     "grade": false,
     "grade_id": "cell-b76aae57f7841fa0",
     "locked": true,
     "schema_version": 3,
     "solution": false,
     "task": false
    }
   },
   "source": [
    "**1.4 Are orthogonal** \n",
    "\n",
    "In the final step we'll put everything together.\n",
    "\n",
    "Define a function called **are_orthogonal**, that receives two arguments, x and y, and does the following:\n",
    "\n",
    "- Calls function **validate_tuples** with arguments x and y\n",
    "- Calls function **validate_dimensions** with arguments x and y\n",
    "- Calls function **inner_product** with arguments x' and y', which were returned by function **validate_dimensions**\n",
    "- Check if the inner product of the two arrays is 0. Return **True** if it is, and **False** if it's not.\n",
    "In this step we've defined functions **validate_tuples**, **validate_dimensions** and **inner_product** for you. Thus you can call them even if you didn't pass the previous steps!"
   ]
  },
  {
   "cell_type": "code",
   "execution_count": 5,
   "metadata": {
    "nbgrader": {
     "grade": false,
     "grade_id": "cell-4d00af57c3b45c43",
     "locked": false,
     "schema_version": 3,
     "solution": true,
     "task": false
    }
   },
   "outputs": [],
   "source": [
    "# create function called are_orthogonal\n",
    "\n",
    "# def are_orthogonal(x, y)\n",
    "# ...\n",
    "# ...\n",
    "\n",
    "\n",
    "### BEGIN SOLUTION\n",
    "def are_orthogonal(x, y):\n",
    "    validate_tuples(x, y)\n",
    "    x, y = validate_dimensions(x, y)\n",
    "\n",
    "    return inner_product(x, y) == 0\n",
    "### END SOLUTION"
   ]
  },
  {
   "cell_type": "code",
   "execution_count": 6,
   "metadata": {
    "nbgrader": {
     "grade": true,
     "grade_id": "cell-0da2a9cc467a82cc",
     "locked": true,
     "points": 2,
     "schema_version": 3,
     "solution": false,
     "task": false
    }
   },
   "outputs": [
    {
     "name": "stdout",
     "output_type": "stream",
     "text": [
      "Answer is correct. Good Job.\n"
     ]
    }
   ],
   "source": [
    "\n",
    "test_cases = [\n",
    "    {'x': (-1, -2, -3), 'y': (4, 5, 6), 'expected_result': False},\n",
    "    {'x': (-1, 0), 'y': (0, 1), 'expected_result': True},\n",
    "    {'x': (-1, 0, 3), 'y': (0, 1), 'expected_result': True},\n",
    "    {'x': (-1, 0, 3), 'y': (0, 1, 4, 5), 'expected_result': False}\n",
    "]\n",
    "\n",
    "for t in test_cases:\n",
    "\n",
    "    assert are_orthogonal(t['x'], t['y']) == t['expected_result'] , \"The update from your function was: \\n \"+ are_orthogonal(t['x'], t['y']) +\"We were expecting: \\n\"+t['expected_result']\n",
    "\n",
    "x = (1,)\n",
    "y = (2,)\n",
    "with pytest.raises(ValueError) as e:\n",
    "    are_orthogonal(x, y)\n",
    "assert str(e.value) == 'Input arrays must have at least two dimensions.'\n",
    "\n",
    "x = (1,)\n",
    "y = (2, -4, -5)\n",
    "\n",
    "with pytest.raises(ValueError) as e:\n",
    "    are_orthogonal(x, y)\n",
    "assert str(e.value) == 'Input arrays must have at least two dimensions.'\n",
    "\n",
    "\n",
    "print(\"Answer is correct. Good Job.\")\n"
   ]
  },
  {
   "cell_type": "markdown",
   "metadata": {
    "nbgrader": {
     "grade": false,
     "grade_id": "cell-254e0574e9d6aa36",
     "locked": true,
     "schema_version": 3,
     "solution": false,
     "task": false
    }
   },
   "source": [
    "---"
   ]
  },
  {
   "cell_type": "markdown",
   "metadata": {
    "nbgrader": {
     "grade": false,
     "grade_id": "cell-1db03a5ab4527509",
     "locked": true,
     "schema_version": 3,
     "solution": false,
     "task": false
    }
   },
   "source": [
    "## Exercise 2"
   ]
  },
  {
   "cell_type": "markdown",
   "metadata": {
    "nbgrader": {
     "grade": false,
     "grade_id": "cell-77a3a84cd4590ef1",
     "locked": true,
     "schema_version": 3,
     "solution": false,
     "task": false
    }
   },
   "source": [
    "**Sorting word**\n",
    "\n",
    "**1.1. Select strings**\n",
    "\n",
    "In this exercise, we want to write a function that sorts a list of words.\n",
    "\n",
    "Again, we'll do this in steps.\n",
    "\n",
    "First, define a function called **select_strings** that:\n",
    "\n",
    "- receives a list as argument, let's call it list1\n",
    "- creates a new list with the elements from list1 that are strings, let's call the new list list2\n",
    "- returns list2\n"
   ]
  },
  {
   "cell_type": "markdown",
   "metadata": {
    "nbgrader": {
     "grade": false,
     "grade_id": "cell-1875bc9c3b246cdf",
     "locked": true,
     "schema_version": 3,
     "solution": false,
     "task": false
    }
   },
   "source": [
    "**Grader tips**\n",
    "\n",
    "In this exercise, you should just define function select_strings, you should not invoke the function!\n",
    "\n",
    "Make sure that:\n",
    "\n",
    "- the name of the function is exactly what is requested\n",
    "- you don't have any print statements in your code"
   ]
  },
  {
   "cell_type": "code",
   "execution_count": 7,
   "metadata": {
    "nbgrader": {
     "grade": false,
     "grade_id": "cell-f089360ee63f8d14",
     "locked": false,
     "schema_version": 3,
     "solution": true,
     "task": false
    }
   },
   "outputs": [],
   "source": [
    "# create function called select_strings\n",
    "\n",
    "# def select_strings(l)\n",
    "# ...\n",
    "# ...\n",
    "\n",
    "### BEGIN SOLUTION\n",
    "def select_strings(l):\n",
    "    return [i for i in l if isinstance(i, str)]\n",
    "### END SOLUTION"
   ]
  },
  {
   "cell_type": "code",
   "execution_count": 8,
   "metadata": {
    "nbgrader": {
     "grade": true,
     "grade_id": "cell-84ee2ec237b2a4c2",
     "locked": true,
     "points": 1,
     "schema_version": 3,
     "solution": false,
     "task": false
    }
   },
   "outputs": [
    {
     "name": "stdout",
     "output_type": "stream",
     "text": [
      "Answer is correct. Good Job.\n"
     ]
    }
   ],
   "source": [
    "x = [\"hello\", \"1\", 4, \"goodbye\", None, (1, 2)]\n",
    "expected_x = [\"hello\", \"1\", \"goodbye\"]\n",
    "assert select_strings(x) == expected_x\n",
    "\n",
    "x = list(range(3))\n",
    "expected_x = []\n",
    "assert select_strings(x) == expected_x\n",
    "\n",
    "\n",
    "print(\"Answer is correct. Good Job.\")\n"
   ]
  },
  {
   "cell_type": "markdown",
   "metadata": {
    "nbgrader": {
     "grade": false,
     "grade_id": "cell-77a3a84cd4590ef3",
     "locked": true,
     "schema_version": 3,
     "solution": false,
     "task": false
    }
   },
   "source": [
    "**1.2 Clean strings.**\n",
    "\n",
    "Now define a function called **clean_string** that:\n",
    "\n",
    "- receives a string as argument, let's call it x\n",
    "- removes any white spaces at the beginning and end of x \n",
    "- lowercases x\n",
    "- returns the clean version of x\n"
   ]
  },
  {
   "cell_type": "code",
   "execution_count": 9,
   "metadata": {
    "nbgrader": {
     "grade": false,
     "grade_id": "cell-f089360ee63f8d15",
     "locked": false,
     "schema_version": 3,
     "solution": true,
     "task": false
    }
   },
   "outputs": [],
   "source": [
    "# create function called clean_string\n",
    "\n",
    "# def clean_string(l)\n",
    "# ...\n",
    "# ...\n",
    "\n",
    "\n",
    "### BEGIN SOLUTION\n",
    "def clean_string(x):\n",
    "    return x.strip().lower()\n",
    "### END SOLUTION"
   ]
  },
  {
   "cell_type": "code",
   "execution_count": 10,
   "metadata": {
    "nbgrader": {
     "grade": true,
     "grade_id": "cell-84ee2ec237b2a4c3",
     "locked": true,
     "points": 1,
     "schema_version": 3,
     "solution": false,
     "task": false
    }
   },
   "outputs": [
    {
     "name": "stdout",
     "output_type": "stream",
     "text": [
      "Answer is correct. Good Job.\n"
     ]
    }
   ],
   "source": [
    "x = \"  HELLO\"\n",
    "expected_x = \"hello\"\n",
    "assert clean_string(x) == expected_x\n",
    "\n",
    "x = \"   ByE1  \"\n",
    "expected_x = \"bye1\"\n",
    "assert clean_string(x) == expected_x\n",
    "\n",
    "x = \"ldsa rules\"\n",
    "expected_x = x\n",
    "assert clean_string(x) == expected_x\n",
    "\n",
    "x = \"\"\n",
    "expected_x = x\n",
    "assert clean_string(x) == expected_x\n",
    "\n",
    "\n",
    "print(\"Answer is correct. Good Job.\")\n"
   ]
  },
  {
   "cell_type": "markdown",
   "metadata": {
    "nbgrader": {
     "grade": false,
     "grade_id": "cell-77a3a84cd4590ef2",
     "locked": true,
     "schema_version": 3,
     "solution": false,
     "task": false
    }
   },
   "source": [
    "**1.3. Sort string list**\n",
    "\n",
    "Now define a function called **sort_string_list** that:\n",
    "\n",
    "- receives a list of strings as argument, let's call it list1\n",
    "- gets a sorted version of list1, in alphabetical order, **without changing the original list**, let's call it - list2\n",
    "- returns list2"
   ]
  },
  {
   "cell_type": "code",
   "execution_count": 11,
   "metadata": {
    "nbgrader": {
     "grade": false,
     "grade_id": "cell-f089360ee63f8d16",
     "locked": false,
     "schema_version": 3,
     "solution": true,
     "task": false
    }
   },
   "outputs": [],
   "source": [
    "# create function called sort_string_list\n",
    "\n",
    "# def sort_string_list(l)\n",
    "# ...\n",
    "# ...\n",
    "\n",
    "### BEGIN SOLUTION\n",
    "def sort_string_list(l):\n",
    "    return sorted(l)\n",
    "### END SOLUTION"
   ]
  },
  {
   "cell_type": "code",
   "execution_count": 12,
   "metadata": {
    "nbgrader": {
     "grade": true,
     "grade_id": "cell-84ee2ec237b2a4c4",
     "locked": true,
     "points": 1,
     "schema_version": 3,
     "solution": false,
     "task": false
    }
   },
   "outputs": [
    {
     "name": "stdout",
     "output_type": "stream",
     "text": [
      "Answer is correct. Good Job.\n"
     ]
    }
   ],
   "source": [
    "x = [\"a\", \"d\", \"c\", \"b\"]\n",
    "copy_of_x = x.copy()\n",
    "expected_x = [\"a\", \"b\", \"c\", \"d\"]\n",
    "assert sort_string_list(x) == expected_x\n",
    "assert x == copy_of_x\n",
    "\n",
    "x = []\n",
    "copy_of_x = x.copy()\n",
    "expected_x = []\n",
    "assert sort_string_list(x) == expected_x\n",
    "assert x == copy_of_x\n",
    "\n",
    "x = [\"random\", \"words\", \"to\", \"sort!\"]\n",
    "copy_of_x = x.copy()\n",
    "expected_x = [\"random\", \"sort!\", \"to\", \"words\"]\n",
    "assert sort_string_list(x) == expected_x\n",
    "assert x == copy_of_x\n",
    "\n",
    "\n",
    "print(\"Answer is correct. Good Job.\")\n"
   ]
  },
  {
   "cell_type": "markdown",
   "metadata": {
    "nbgrader": {
     "grade": false,
     "grade_id": "cell-77a3a84cd4590ef9",
     "locked": true,
     "schema_version": 3,
     "solution": false,
     "task": false
    }
   },
   "source": [
    "**1.4. Sort this**\n",
    "\n",
    "Now define a function called **sort_this** that:\n",
    "\n",
    "- receives a list as argument, let's call it list1\n",
    "- calls function **select_strings** in order to get a new version of the list with only strings, let's call it list2\n",
    "- applies function **clean_string** to each element of the list2\n",
    "- calls function **sort_string_list** to get a sorted version of list2, let's call it list3\n",
    "- returns list3\n",
    "\n",
    "In this exercise, we have defined functions **select_strings**, **clean_string** and **sort_string_list** for you, so you don't need to reimplement them. And you can still pass this step even if you didn't complete any of the previous steps.\n"
   ]
  },
  {
   "cell_type": "code",
   "execution_count": 13,
   "metadata": {
    "nbgrader": {
     "grade": false,
     "grade_id": "cell-f089360ee63f8d17",
     "locked": false,
     "schema_version": 3,
     "solution": true,
     "task": false
    }
   },
   "outputs": [],
   "source": [
    "# create function called sort_this\n",
    "\n",
    "# def sort_this(l):\n",
    "# ...\n",
    "# ...\n",
    "\n",
    "### BEGIN SOLUTION\n",
    "def sort_this(l):\n",
    "    return sort_string_list([clean_string(i) for i in select_strings(l)])\n",
    "### END SOLUTION"
   ]
  },
  {
   "cell_type": "code",
   "execution_count": 14,
   "metadata": {
    "nbgrader": {
     "grade": true,
     "grade_id": "cell-84ee2ec237b2a4c1",
     "locked": true,
     "points": 1,
     "schema_version": 3,
     "solution": false,
     "task": false
    }
   },
   "outputs": [
    {
     "name": "stdout",
     "output_type": "stream",
     "text": [
      "Answer is correct. Good Job.\n"
     ]
    }
   ],
   "source": [
    "x = [\" Aleluia\", 1, \"None!   \", None]\n",
    "expected_x = [\"aleluia\", \"none!\"]\n",
    "assert sort_this(x) == expected_x\n",
    "\n",
    "x = []\n",
    "expected_x = []\n",
    "assert sort_this(x) == expected_x\n",
    "\n",
    "x = [1, \"words\", \"    to\", (1, 2)]\n",
    "expected_x = [\"to\", \"words\"]\n",
    "assert sort_this(x) == expected_x\n",
    "\n",
    "x = [1, 2, 3]\n",
    "expected_x = []\n",
    "assert sort_this(x) == expected_x\n",
    "\n",
    "\n",
    "print(\"Answer is correct. Good Job.\")\n"
   ]
  },
  {
   "cell_type": "markdown",
   "metadata": {
    "nbgrader": {
     "grade": false,
     "grade_id": "cell-254e0574e9d6aa37",
     "locked": true,
     "schema_version": 3,
     "solution": false,
     "task": false
    }
   },
   "source": [
    "---"
   ]
  },
  {
   "cell_type": "markdown",
   "metadata": {
    "nbgrader": {
     "grade": false,
     "grade_id": "cell-1db03a5ab4527510",
     "locked": true,
     "schema_version": 3,
     "solution": false,
     "task": false
    }
   },
   "source": [
    "## Exercise 3"
   ]
  },
  {
   "cell_type": "markdown",
   "metadata": {
    "nbgrader": {
     "grade": false,
     "grade_id": "cell-b599c2db78b9a7a2",
     "locked": true,
     "schema_version": 3,
     "solution": false,
     "task": false
    }
   },
   "source": [
    "**Process File**\n",
    "In this exercise you should define a function called **process_file**, that processes a file.\n",
    "\n",
    "The function should be defined so that:\n",
    "\n",
    "- it receives two arguments: 1) a file descriptor, for the file to be processed,  2) a string that defines a separator\n",
    "- you should define a variable named total, initially with the value 0\n",
    "- you should iterate over the lines of the file:\n",
    "\n",
    "1. each line is a string with multiple values. In order to split the string into its values, you should consider the separator\n",
    "2. if the first value of a line is neither \"+\" nor \"-\", ignore the line\n",
    "3. then, all the other values in the line are valid integers, and you'll add them to total as positive numbers if the line started with a \"+\", or as negative numbers, if the line started with a \"-\"\n",
    "\n",
    "Note: a file descriptor is what's returned by the open( ) function when you call it on a file. This means that you don't need to call open( ) anymore, the file is already open! In fact, if you try to open the file descriptor, you should see something like this error:\n",
    "\n",
    "`TypeError: expected str, bytes or os.PathLike object, not io.StringIO`"
   ]
  },
  {
   "cell_type": "code",
   "execution_count": 15,
   "metadata": {
    "nbgrader": {
     "grade": false,
     "grade_id": "cell-dba1c3448d02f3d4",
     "locked": false,
     "schema_version": 3,
     "solution": true,
     "task": false
    }
   },
   "outputs": [],
   "source": [
    "# create function called multiply_matrices\n",
    "\n",
    "#def multiply_matrices(matrix_1, matrix_2):\n",
    "# ...\n",
    "# ...\n",
    "\n",
    "### BEGIN SOLUTION\n",
    "def process_file(fp, separator):\n",
    "    total = 0\n",
    "    for line in fp:\n",
    "        line_split = line.split(separator)\n",
    "        line_sum = sum([int(i) for i in line_split[1:]])\n",
    "        if line_split[0] == '+':\n",
    "            total += line_sum\n",
    "        if line_split[0] == '-':\n",
    "            total -= line_sum\n",
    "\n",
    "    return total\n",
    "### END SOLUTION"
   ]
  },
  {
   "cell_type": "code",
   "execution_count": 16,
   "metadata": {
    "nbgrader": {
     "grade": true,
     "grade_id": "cell-4887ed8b8490950d",
     "locked": true,
     "points": 2,
     "schema_version": 3,
     "solution": false,
     "task": false
    }
   },
   "outputs": [
    {
     "name": "stdout",
     "output_type": "stream",
     "text": [
      "Answer is correct. Good Job.\n"
     ]
    }
   ],
   "source": [
    "### BEGIN HIDDEN TEST\n",
    "def mock_fp(test_input, separator):\n",
    "    lines_list = [\n",
    "        separator.join(str(item) for item in raw_line)\n",
    "        for raw_line in test_input\n",
    "    ]\n",
    "    lines = '\\n'.join(lines_list)\n",
    "\n",
    "    return io.StringIO(lines)\n",
    "\n",
    "\n",
    "def get_error_msg(test_input, separator, expected_output, computed):\n",
    "    return (\n",
    "        f\"data used to generate file: {test_input}\\n\"\n",
    "        f'with separator: \"{separator}\"\\n'\n",
    "        'ERROR!'\n",
    "        f\"expected: {expected_output}\\n\"\n",
    "        f\"got: {computed}\"\n",
    "    )\n",
    "\n",
    "\n",
    "def test_process_file():\n",
    "    test_cases = {\n",
    "        ((\"+\", 3, 4, 10), (\"+\", 1)): 18,\n",
    "        ((\"+\", 3, 4, 5), (\"-\", 2, 6)): 4,\n",
    "        ((\"+\", 1, 1), (\"-\", 5)): -3,\n",
    "        ((\"-\", 1, 1, 3),): -5,\n",
    "        ((\"-\", 11, 4), ('+', 15)): 0,\n",
    "        ((\"-\", 11, 4), ('+', 15), ('=', 10)): 0,\n",
    "    }\n",
    "    separators = [' ', ',', '::']\n",
    "\n",
    "    for test_input, expected_output in test_cases.items():\n",
    "        for sep in separators:\n",
    "            fp = mock_fp(test_input, sep)\n",
    "            answer = process_file(fp, sep)\n",
    "\n",
    "            error_msg = get_error_msg(test_input, sep, expected_output, answer)\n",
    "### END HIDDEN TEST\n",
    "            assert answer == expected_output, error_msg\n",
    "\n",
    "\n",
    "print(\"Answer is correct. Good Job.\")\n"
   ]
  },
  {
   "cell_type": "markdown",
   "metadata": {
    "nbgrader": {
     "grade": false,
     "grade_id": "cell-254e0574e9d6aa38",
     "locked": true,
     "schema_version": 3,
     "solution": false,
     "task": false
    }
   },
   "source": [
    "---"
   ]
  },
  {
   "cell_type": "markdown",
   "metadata": {
    "nbgrader": {
     "grade": false,
     "grade_id": "cell-1db03a5ab4527511",
     "locked": true,
     "schema_version": 3,
     "solution": false,
     "task": false
    }
   },
   "source": [
    "## Exercise 4"
   ]
  },
  {
   "cell_type": "markdown",
   "metadata": {
    "nbgrader": {
     "grade": false,
     "grade_id": "cell-c531f1e7cc75752f",
     "locked": true,
     "schema_version": 3,
     "solution": false,
     "task": false
    }
   },
   "source": [
    "### Shapes\n",
    "\n",
    "**4.1. Perimeter**\n",
    "\n",
    "In this exercise we are going to use Python classes to represent geometrical shapes.\n",
    "\n",
    "The first step is a building block for the next exercise.\n",
    "\n",
    "You should define a method called **perimeter**, that:\n",
    "\n",
    "- receives as argument a list of points, which are represented as 2D tuples (2D means that they have length = 2), and that represent the vertices of a polygon\n",
    "- you don't need to do any validations on the input, just assume that all the tuples in the list have 2 elements and that they are sorted in a way that our algorithm to compute the perimeter works\n",
    "- if the list of points has less than 3 points, just return 0\n",
    "- otherwise, compute the perimeter of the polygon:\n",
    " \n",
    "1. iterate through the list of points\n",
    "2. compute the euclidean distance between each point and the next one\n",
    "3. also compute the distance between the last point and the first one\n",
    "4. sum all the distances and return this value\n",
    "\n",
    "Hint: you can use numpy on this exercise.\n",
    "\n",
    "\n"
   ]
  },
  {
   "cell_type": "markdown",
   "metadata": {
    "nbgrader": {
     "grade": false,
     "grade_id": "cell-e398bba5b784df76",
     "locked": true,
     "schema_version": 3,
     "solution": false,
     "task": false
    }
   },
   "source": [
    "**Grader tips**\n",
    "\n",
    "In this exercise, you should just define function **perimeter**, you should not invoke the function!\n",
    "\n",
    "Make sure that:\n",
    "\n",
    "- the name of the function is exactly what is requested\n",
    "- you don't have any print statements in your code \n",
    "- you are handling all the cases described in the problem statement"
   ]
  },
  {
   "cell_type": "code",
   "execution_count": 17,
   "metadata": {
    "nbgrader": {
     "grade": false,
     "grade_id": "cell-2a151430c72dc66f",
     "locked": false,
     "schema_version": 3,
     "solution": true,
     "task": false
    }
   },
   "outputs": [],
   "source": [
    "# create function called perimeter\n",
    "\n",
    "# def perimeter(points)\n",
    "# ...\n",
    "# ...\n",
    "\n",
    "### BEGIN SOLUTION\n",
    "\n",
    "def perimeter(points):\n",
    "    if len(points) < 3:\n",
    "        return 0\n",
    "\n",
    "    dists = []\n",
    "\n",
    "    points_round = points + [points[0]]\n",
    "    for i in range(len(points)):\n",
    "        p1 = np.array(points_round[i])\n",
    "        p2 = np.array(points_round[i+1])\n",
    "        dists.append(np.linalg.norm(p1 - p2))\n",
    "\n",
    "    return sum(dists)\n",
    "\n",
    "### END SOLUTION"
   ]
  },
  {
   "cell_type": "code",
   "execution_count": 18,
   "metadata": {
    "nbgrader": {
     "grade": true,
     "grade_id": "cell-9cee4c6578deb3a4",
     "locked": true,
     "points": 2,
     "schema_version": 3,
     "solution": false,
     "task": false
    }
   },
   "outputs": [
    {
     "name": "stdout",
     "output_type": "stream",
     "text": [
      "Answer is correct. Good Job.\n"
     ]
    }
   ],
   "source": [
    "points = [(0, 0), (1, 0), (1, 1), (0, 1)]\n",
    "assert perimeter(points) == 4\n",
    "\n",
    "points = [(0, 0), (3, 0), (1.5, 7)]\n",
    "assert math.isclose(perimeter(points), 17.31782, rel_tol=1e-2)\n",
    "\n",
    "points = [(-1, -1), (3, -4), (4, 5), (4.5, 7), (-1.5, 10)]\n",
    "assert math.isclose(perimeter(points), 33.83649, rel_tol=1e-2)\n",
    "\n",
    "points = []\n",
    "assert perimeter(points) == 0\n",
    "\n",
    "points = [(1, 1)]\n",
    "assert perimeter(points) == 0\n",
    "\n",
    "points = [(1, 1), (2, 2)]\n",
    "assert perimeter(points) == 0\n",
    "\n",
    "\n",
    "print(\"Answer is correct. Good Job.\")\n"
   ]
  },
  {
   "cell_type": "markdown",
   "metadata": {
    "nbgrader": {
     "grade": false,
     "grade_id": "cell-c531f1e7cc75752e",
     "locked": true,
     "schema_version": 3,
     "solution": false,
     "task": false
    }
   },
   "source": [
    "**4.3. Polygon**\n",
    "\n",
    "In this exercise we are going to use Python classes to represent geometrical shapes.\n",
    "\n",
    "Create a class **Polygon**, that:\n",
    "\n",
    "- has an attribute called points that should be initialized through an argument passed into the constructor. points is the list of 2 dimensional points that define the polygon.\n",
    "- defines a method called **area**, that simply raises a NotImplementedError, with message: \"Method area should be defined in the child class.\"\n",
    "- defines a method called **perimeter**\n",
    "Method **perimeter** should behave exactly like the one you defined on the previous step. We have defined function **compute_perimeter**, that receives a list of points as argument, and that you can call in your **perimeter** method. This way, you can still complete this exercise if you didn't figure out how to implement the function from last step."
   ]
  },
  {
   "cell_type": "markdown",
   "metadata": {
    "nbgrader": {
     "grade": false,
     "grade_id": "cell-7376b8bcb785644c",
     "locked": true,
     "schema_version": 3,
     "solution": false,
     "task": false
    }
   },
   "source": [
    "**Grader tips**\n",
    "\n",
    "In this exercise, you should just implement class Polygon!\n",
    "\n",
    "Make sure that:\n",
    "\n",
    "- the name of the class and the methods are exactly what is requested\n",
    "- you don't have any print statements in your code\n",
    "- you are throwing the right type of error, with the right error message\n"
   ]
  },
  {
   "cell_type": "code",
   "execution_count": 19,
   "metadata": {
    "nbgrader": {
     "grade": false,
     "grade_id": "cell-edc0084ca8ba2211",
     "locked": false,
     "schema_version": 3,
     "solution": true,
     "task": false
    },
    "scrolled": false
   },
   "outputs": [],
   "source": [
    "# create class called Polygon\n",
    "\n",
    "# def class Polygon:\n",
    "# ...\n",
    "# ...\n",
    "\n",
    "### BEGIN SOLUTION\n",
    "\n",
    "\n",
    "class Polygon:\n",
    "    def __init__(self, points):\n",
    "        self.points = points\n",
    "\n",
    "    def area(self):\n",
    "        msg = 'Method area should be defined in the child class.'\n",
    "        raise NotImplementedError(msg)\n",
    "\n",
    "    def perimeter(self):\n",
    "        return perimeter(self.points)\n",
    "    \n",
    "### END SOLUTION"
   ]
  },
  {
   "cell_type": "code",
   "execution_count": 20,
   "metadata": {
    "nbgrader": {
     "grade": true,
     "grade_id": "cell-65397abfd2557135",
     "locked": true,
     "points": 1,
     "schema_version": 3,
     "solution": false,
     "task": false
    }
   },
   "outputs": [
    {
     "name": "stdout",
     "output_type": "stream",
     "text": [
      "Answer is correct. Good Job.\n"
     ]
    }
   ],
   "source": [
    "\n",
    "points = [(0, 0), (2, 0), (2, 2), (0, 2)]\n",
    "polygon = Polygon(points)\n",
    "\n",
    "assert isinstance(polygon, Polygon)\n",
    "assert isinstance(polygon.points, list)\n",
    "assert polygon.points == points\n",
    "\n",
    "points = [(0, 0), (2, 0), (2, 2), (0, 2)]\n",
    "polygon = Polygon(points)\n",
    "\n",
    "with pytest.raises(NotImplementedError) as e:\n",
    "    polygon.area()\n",
    "\n",
    "assert str(e.value) == 'Method area should be defined in the child class.'\n",
    "\n",
    "points = [(0, 0), (2, 0), (2, 2), (0, 2)]\n",
    "polygon = Polygon(points)\n",
    "\n",
    "assert polygon.perimeter() == 8\n",
    "\n",
    "\n",
    "points = []\n",
    "polygon = Polygon(points)\n",
    "\n",
    "assert isinstance(polygon, Polygon)\n",
    "assert isinstance(polygon.points, list)\n",
    "assert polygon.points == points\n",
    "assert polygon.perimeter() == 0\n",
    "\n",
    "\n",
    "points = [(0, 0), (10, 9)]\n",
    "polygon = Polygon(points)\n",
    "\n",
    "assert isinstance(polygon, Polygon)\n",
    "assert isinstance(polygon.points, list)\n",
    "assert polygon.points == points\n",
    "assert polygon.perimeter() == 0\n",
    "    \n",
    "\n",
    "print(\"Answer is correct. Good Job.\")\n"
   ]
  },
  {
   "cell_type": "markdown",
   "metadata": {
    "nbgrader": {
     "grade": false,
     "grade_id": "cell-816a97a85fdef7b7",
     "locked": true,
     "schema_version": 3,
     "solution": false,
     "task": false
    }
   },
   "source": [
    "**4.3. Square** \n",
    "\n",
    "Now create a class **Square**, that:\n",
    "\n",
    "- extends class **Polygon**\n",
    "- re-defines method **area**\n",
    "\n",
    "Method **area** should compute the area of the square defined by the class, by doing the following:\n",
    "\n",
    "- we are going to believe that the points actually define a square\n",
    "- so, we'll just compute the euclidean distance between the first two points in points\n",
    "- and return the square of its value\n",
    "\n",
    "In this exercise we have implemented class Polygon for you, so it will be already defined if you refer to it.\n",
    "\n",
    "We've also implemented a function called **euclidean_distance**, that receives two tuples as arguments and returns the euclidean distance between the pair of points (tuples). You can use it in this exercise.\n",
    "\n",
    "Finally, if you don't know what extending a class means, check the Python docs here: https://docs.python.org/3/tutorial/classes.html#inheritance.\n"
   ]
  },
  {
   "cell_type": "markdown",
   "metadata": {
    "nbgrader": {
     "grade": false,
     "grade_id": "cell-5b2da1996e53f63e",
     "locked": true,
     "schema_version": 3,
     "solution": false,
     "task": false
    }
   },
   "source": [
    "**Grader tips**\n",
    "\n",
    "In this exercise, you should just implement class **Square**!\n",
    "\n",
    "Make sure that:\n",
    "\n",
    "- the name of the class and the methods are exactly what is requested\n",
    "- you don't have any print statements in your code"
   ]
  },
  {
   "cell_type": "code",
   "execution_count": 21,
   "metadata": {
    "nbgrader": {
     "grade": false,
     "grade_id": "cell-eacfb152edb1f698",
     "locked": false,
     "schema_version": 3,
     "solution": true,
     "task": false
    }
   },
   "outputs": [],
   "source": [
    "def euclidean_distance(a, b):\n",
    "    array_a = np.array(a)\n",
    "    array_b = np.array(b)\n",
    "\n",
    "    return np.linalg.norm(array_a - array_b)\n",
    "\n",
    "# create class called Square\n",
    "\n",
    "# class Square(Polygon):\n",
    "# ...\n",
    "# ...\n",
    "\n",
    "### BEGIN SOLUTION\n",
    "\n",
    "\n",
    "\n",
    "# this function was given in the exercise\n",
    "\n",
    "class Square(Polygon):\n",
    "    def area(self):\n",
    "        side = euclidean_distance(self.points[0], self.points[1])\n",
    "\n",
    "        return side**2\n",
    "    \n",
    "### END SOLUTION"
   ]
  },
  {
   "cell_type": "code",
   "execution_count": 22,
   "metadata": {
    "nbgrader": {
     "grade": true,
     "grade_id": "cell-430a45dfcb1413e1",
     "locked": true,
     "points": 1,
     "schema_version": 3,
     "solution": false,
     "task": false
    }
   },
   "outputs": [
    {
     "name": "stdout",
     "output_type": "stream",
     "text": [
      "Answer is correct. Good Job.\n"
     ]
    }
   ],
   "source": [
    "points = [(0, 0), (2, 0), (2, 2), (0, 2)]\n",
    "square = Square(points)\n",
    "\n",
    "assert isinstance(square, Square)\n",
    "assert issubclass(Square, Polygon)\n",
    "assert isinstance(square.points, list)\n",
    "assert square.points == points\n",
    "\n",
    "points = [(0, 0), (2, 0), (2, 2), (0, 2)]\n",
    "square = Square(points)\n",
    "\n",
    "assert square.area() == 4\n",
    "\n",
    "points = [(0, 0), (2, 0), (2, 2), (0, 2)]\n",
    "square = Square(points)\n",
    "\n",
    "assert square.perimeter() == 8\n",
    "    \n",
    "\n",
    "print(\"Answer is correct. Good Job.\")\n"
   ]
  },
  {
   "cell_type": "markdown",
   "metadata": {
    "nbgrader": {
     "grade": false,
     "grade_id": "cell-52501d73bb9fe95b",
     "locked": true,
     "schema_version": 3,
     "solution": false,
     "task": false
    }
   },
   "source": [
    "### 4.4. Circle"
   ]
  },
  {
   "cell_type": "markdown",
   "metadata": {
    "nbgrader": {
     "grade": false,
     "grade_id": "cell-ee29e2aaee9c9a6c",
     "locked": true,
     "schema_version": 3,
     "solution": false,
     "task": false
    }
   },
   "source": [
    "Now create a class Circle, that:\n",
    "\n",
    "- has two attributes, centre and radius, that should be initialized through arguments passed into the constructor in this specified order. centre will be a 2 dimensional point represented as a tuple and radius will be a number (int or float)\n",
    "- has a method perimeter that returns the perimeter of the circle, as \n",
    "$$perimeter = 2 π×radius$$\n",
    "\n",
    "- has a method area that returns the area of the circle, as \n",
    "$$ area=π×radius^2$$\n",
    "\n",
    "\n",
    " "
   ]
  },
  {
   "cell_type": "markdown",
   "metadata": {
    "nbgrader": {
     "grade": false,
     "grade_id": "cell-ded364e797fd78ad",
     "locked": true,
     "schema_version": 3,
     "solution": false,
     "task": false
    }
   },
   "source": [
    "**Grader tips**\n",
    "\n",
    "In this exercise, you should just implement class **Circle**!\n",
    "\n",
    "Make sure that:\n",
    "\n",
    "the name of the class and the methods are exactly what is requested\n",
    "you don't have any print statements in your code"
   ]
  },
  {
   "cell_type": "code",
   "execution_count": 23,
   "metadata": {
    "nbgrader": {
     "grade": false,
     "grade_id": "cell-fc30f3aa92e79eb9",
     "locked": false,
     "schema_version": 3,
     "solution": true,
     "task": false
    }
   },
   "outputs": [],
   "source": [
    "# create class called Circle\n",
    "\n",
    "# class Circle:\n",
    "# ...\n",
    "# ...\n",
    "\n",
    "### BEGIN SOLUTION\n",
    "\n",
    "class Circle:\n",
    "    def __init__(self, centre, radius):\n",
    "        self.centre = centre\n",
    "        self.radius = radius\n",
    "\n",
    "    def perimeter(self):\n",
    "        return 2 * math.pi * self.radius\n",
    "\n",
    "    def area(self):\n",
    "        return math.pi * self.radius**2\n",
    "\n",
    "### END SOLUTION"
   ]
  },
  {
   "cell_type": "code",
   "execution_count": 24,
   "metadata": {
    "nbgrader": {
     "grade": true,
     "grade_id": "cell-e477ce094c4043f4",
     "locked": true,
     "points": 1,
     "schema_version": 3,
     "solution": false,
     "task": false
    }
   },
   "outputs": [
    {
     "name": "stdout",
     "output_type": "stream",
     "text": [
      "Answer is correct. Good Job.\n"
     ]
    }
   ],
   "source": [
    "centre = (1, 1)\n",
    "radius = 3\n",
    "circle = Circle(centre, radius)\n",
    "\n",
    "assert isinstance(circle, Circle)\n",
    "assert isinstance(circle.centre, tuple)\n",
    "assert circle.centre == centre\n",
    "assert circle.radius == radius\n",
    "\n",
    "centre = (1, 1)\n",
    "radius = 3\n",
    "circle = Circle(centre, radius)\n",
    "\n",
    "assert math.isclose(circle.area(), 28.27433, rel_tol=1e-2)\n",
    "\n",
    "centre = (1, 1)\n",
    "radius = 3\n",
    "circle = Circle(centre, radius)\n",
    "\n",
    "assert math.isclose(circle.perimeter(), 18.84955, rel_tol=1e-2)\n",
    "\n",
    "centre = (1, 1)\n",
    "radius = 0\n",
    "circle = Circle(centre, radius)\n",
    "\n",
    "assert circle.perimeter() == 0\n",
    "assert circle.area() == 0\n",
    "    \n",
    "\n",
    "print(\"Answer is correct. Good Job.\")\n"
   ]
  },
  {
   "cell_type": "markdown",
   "metadata": {
    "nbgrader": {
     "grade": false,
     "grade_id": "cell-8773ad4b29743d39",
     "locked": true,
     "schema_version": 3,
     "solution": false,
     "task": false
    }
   },
   "source": [
    "### 4.5. Shapes"
   ]
  },
  {
   "cell_type": "markdown",
   "metadata": {
    "nbgrader": {
     "grade": false,
     "grade_id": "cell-fe9b7668e377b008",
     "locked": true,
     "schema_version": 3,
     "solution": false,
     "task": false
    }
   },
   "source": [
    "This is a multiple choice questions. \n",
    "\n",
    "What you have to do here is to flag the correct sentence  (there is only one).\n",
    "\n",
    "\n",
    "1. Class Polygon is an abstract class\n",
    "\n",
    "2. Class Circle is as a child of class Polygon\n",
    "\n",
    "3. The relationship between classes Polygon and Square is an example of inheritance\n",
    "\n",
    "4. Class Square is the parent of class Polygon\n",
    " "
   ]
  },
  {
   "cell_type": "code",
   "execution_count": 25,
   "metadata": {
    "nbgrader": {
     "grade": false,
     "grade_id": "cell-f9786f4be2292225",
     "locked": false,
     "schema_version": 3,
     "solution": true,
     "task": false
    }
   },
   "outputs": [],
   "source": [
    "# answer_4_5 = ...\n",
    "\n",
    "### BEGIN SOLUTION\n",
    "answer_4_5 = 3\n",
    "\n",
    "### END SOLUTION"
   ]
  },
  {
   "cell_type": "code",
   "execution_count": 26,
   "metadata": {
    "nbgrader": {
     "grade": true,
     "grade_id": "cell-8bdc604d7ca18ac0",
     "locked": true,
     "points": 1,
     "schema_version": 3,
     "solution": false,
     "task": false
    }
   },
   "outputs": [
    {
     "name": "stdout",
     "output_type": "stream",
     "text": [
      "Answer is correct. Good Job.\n"
     ]
    }
   ],
   "source": [
    "# Run this cell to see if your answer is correct\n",
    "\n",
    "assert answer_4_5 == 3\n",
    "\n",
    "print(\"Answer is correct. Good Job.\")\n"
   ]
  },
  {
   "cell_type": "markdown",
   "metadata": {
    "nbgrader": {
     "grade": false,
     "grade_id": "cell-254e0574e9d6aa39",
     "locked": true,
     "schema_version": 3,
     "solution": false,
     "task": false
    }
   },
   "source": [
    "---"
   ]
  },
  {
   "cell_type": "markdown",
   "metadata": {
    "nbgrader": {
     "grade": false,
     "grade_id": "cell-1db03a5ab4527512",
     "locked": true,
     "schema_version": 3,
     "solution": false,
     "task": false
    }
   },
   "source": [
    "## Exercise 5"
   ]
  },
  {
   "cell_type": "markdown",
   "metadata": {
    "nbgrader": {
     "grade": false,
     "grade_id": "cell-016945f38afa70e2",
     "locked": true,
     "schema_version": 3,
     "solution": false,
     "task": false
    }
   },
   "source": [
    "## Numpy Questions"
   ]
  },
  {
   "cell_type": "markdown",
   "metadata": {
    "nbgrader": {
     "grade": false,
     "grade_id": "cell-6fdb5f3768b277ef",
     "locked": true,
     "schema_version": 3,
     "solution": false,
     "task": false
    }
   },
   "source": [
    "**5.1 - Create array**\n",
    "\n",
    "Implement a function called **create_array**, that:\n",
    "\n",
    "1. Receives two arguments: a list of numbers and a 2D tuple (has length = 2)\n",
    "2. The goal of this function is to create a numpy array using the data from the list, with the shape defined in the tuple. For that, we need to validate if it's possible or not to create an array with that data and that shape. If it's not possible to create the array with these conditions, the function should just return None\n",
    "3. Otherwise, return a numpy array with the data from the list and with the shape defined in the tuple\n"
   ]
  },
  {
   "cell_type": "markdown",
   "metadata": {
    "nbgrader": {
     "grade": false,
     "grade_id": "cell-6fdb5f3768b277eg",
     "locked": true,
     "schema_version": 3,
     "solution": false,
     "task": false
    }
   },
   "source": [
    "**Grader tips**\n",
    "\n",
    "In this exercise, you should just define function **create_array**, you should not invoke the function!\n",
    "\n",
    "Make sure that:\n",
    "\n",
    "- the name of the function is exactly what is requested\n",
    "- you don't have any print statements in your code\n"
   ]
  },
  {
   "cell_type": "code",
   "execution_count": 27,
   "metadata": {
    "nbgrader": {
     "grade": false,
     "grade_id": "cell-c89c51ca779da3dc",
     "locked": false,
     "schema_version": 3,
     "solution": true,
     "task": false
    }
   },
   "outputs": [],
   "source": [
    "# create function called create_array\n",
    "\n",
    "# def create_array(numbers, shape):\n",
    "# ...\n",
    "# ...\n",
    "\n",
    "### BEGIN SOLUTION\n",
    "def create_array(numbers, shape):\n",
    "    if len(numbers) != shape[0] * shape[1]:\n",
    "        return None\n",
    "\n",
    "    return np.array(numbers).reshape(shape)\n",
    "\n",
    "\n",
    "# alternative solution\n",
    "def create_array_aternative(numbers, shape):\n",
    "    n_elements = shape[0] * shape[1]\n",
    "    if len(numbers) < n_elements:\n",
    "        return None\n",
    "\n",
    "    if len(numbers) > n_elements:\n",
    "        numbers = numbers[:n_elements]\n",
    "\n",
    "    return np.array(numbers).reshape(shape)\n",
    "\n",
    "### END SOLUTION"
   ]
  },
  {
   "cell_type": "code",
   "execution_count": 28,
   "metadata": {
    "nbgrader": {
     "grade": true,
     "grade_id": "cell-2a4834cad293d726",
     "locked": true,
     "points": 1,
     "schema_version": 3,
     "solution": false,
     "task": false
    }
   },
   "outputs": [
    {
     "name": "stdout",
     "output_type": "stream",
     "text": [
      "Answer is correct. Good Job.\n"
     ]
    }
   ],
   "source": [
    "numbers = [1, 2, 3, 4]\n",
    "shape = (2, 2)\n",
    "\n",
    "expected_result = np.array([[1, 2], [3, 4]])\n",
    "result = create_array(numbers, shape)\n",
    "\n",
    "assert isinstance(result, np.ndarray)\n",
    "assert np.array_equal(result, expected_result)\n",
    "\n",
    "\n",
    "numbers = [1, 2, 3, 4]\n",
    "shape = (3, 3)\n",
    "\n",
    "assert create_array(numbers, shape) is None\n",
    "\n",
    "\n",
    "print(\"Answer is correct. Good Job.\")\n"
   ]
  },
  {
   "cell_type": "markdown",
   "metadata": {
    "nbgrader": {
     "grade": false,
     "grade_id": "cell-51a6355708b5ec4c",
     "locked": true,
     "schema_version": 3,
     "solution": false,
     "task": false
    }
   },
   "source": [
    "**5.2 - Substract matrices**\n",
    "\n",
    "Implement a function called **subtract_matrices**, that:\n",
    "\n",
    "1. Receives two arguments that are numpy arrays: *a* and *b*\n",
    "2. Checks if the shapes of *a* and *b* are the same\n",
    "3. If not, the function should just return None\n",
    "4. Otherwise, return a numpy array where each element is the subtraction of the correspondent element in *a* and *b*"
   ]
  },
  {
   "cell_type": "code",
   "execution_count": 29,
   "metadata": {
    "nbgrader": {
     "grade": false,
     "grade_id": "cell-3e293051e761c4f2",
     "locked": false,
     "schema_version": 3,
     "solution": true,
     "task": false
    }
   },
   "outputs": [],
   "source": [
    "# create function called subtract_matrices\n",
    "\n",
    "# def subtract_matrices(a, b):\n",
    "# ...\n",
    "# ...\n",
    "\n",
    "\n",
    "### BEGIN SOLUTION\n",
    "\n",
    "def subtract_matrices(a, b):\n",
    "    if a.shape != b.shape:\n",
    "        return None\n",
    "\n",
    "    return a - b\n",
    "\n",
    "\n",
    "### END SOLUTION"
   ]
  },
  {
   "cell_type": "code",
   "execution_count": 30,
   "metadata": {
    "nbgrader": {
     "grade": true,
     "grade_id": "cell-8c6bff316acc6eb1",
     "locked": true,
     "points": 1,
     "schema_version": 3,
     "solution": false,
     "task": false
    }
   },
   "outputs": [
    {
     "name": "stdout",
     "output_type": "stream",
     "text": [
      "Answer is correct. Good Job.\n"
     ]
    }
   ],
   "source": [
    "a = np.array([[1, 2], [3, 4]])\n",
    "b = np.array([[1, 1], [1, 1]])\n",
    "\n",
    "expected_result = np.array([[0, 1], [2, 3]])\n",
    "result = subtract_matrices(a, b)\n",
    "\n",
    "assert isinstance(result, np.ndarray)\n",
    "assert np.array_equal(result, expected_result)\n",
    "\n",
    "\n",
    "a = np.array([[1, 2], [3, 4]])\n",
    "b = np.array([[1, 1]])\n",
    "\n",
    "assert subtract_matrices(a, b) is None\n",
    "\n",
    "\n",
    "print(\"Answer is correct. Good Job.\")\n"
   ]
  },
  {
   "cell_type": "markdown",
   "metadata": {
    "nbgrader": {
     "grade": false,
     "grade_id": "cell-e074add4eb9d46ef",
     "locked": true,
     "schema_version": 3,
     "solution": false,
     "task": false
    }
   },
   "source": [
    "**5.3 - Sum rows**\n",
    "\n",
    "Implement a function called **sum_rows**, that:\n",
    "\n",
    "1. Receives an argument that is a numpy array\n",
    "2. Sums the values in each row of the array\n",
    "3. Returns the resulting array"
   ]
  },
  {
   "cell_type": "code",
   "execution_count": 31,
   "metadata": {
    "nbgrader": {
     "grade": false,
     "grade_id": "cell-861b51250ce79c44",
     "locked": false,
     "schema_version": 3,
     "solution": true,
     "task": false
    }
   },
   "outputs": [],
   "source": [
    "# create function called sum_rows\n",
    "\n",
    "# def sum_rows(a):\n",
    "# ...\n",
    "# ...\n",
    "\n",
    "\n",
    "### BEGIN SOLUTION\n",
    "def sum_rows(a):\n",
    "    return a.sum(axis=1)\n",
    "\n",
    "### END SOLUTION\n",
    "\n",
    "\n"
   ]
  },
  {
   "cell_type": "code",
   "execution_count": 32,
   "metadata": {
    "nbgrader": {
     "grade": true,
     "grade_id": "cell-c981c118374add77",
     "locked": true,
     "points": 1,
     "schema_version": 3,
     "solution": false,
     "task": false
    }
   },
   "outputs": [
    {
     "name": "stdout",
     "output_type": "stream",
     "text": [
      "Answer is correct. Good Job.\n"
     ]
    }
   ],
   "source": [
    "a = np.array([[1, 2], [3, 4]])\n",
    "expected_result = np.array([3, 7])\n",
    "result = sum_rows(a)\n",
    "\n",
    "assert isinstance(result, np.ndarray)\n",
    "assert np.array_equal(result, expected_result)\n",
    "\n",
    "a = np.array([[1, -2], [0, 4], [6, -10]])\n",
    "expected_result = np.array([-1, 4, -4])\n",
    "result = sum_rows(a)\n",
    "\n",
    "assert isinstance(result, np.ndarray)\n",
    "assert np.array_equal(result, expected_result)\n",
    "\n",
    "\n",
    "print(\"Answer is correct. Good Job.\")\n"
   ]
  },
  {
   "cell_type": "markdown",
   "metadata": {
    "nbgrader": {
     "grade": false,
     "grade_id": "cell-e074add4eb9d46eg",
     "locked": true,
     "schema_version": 3,
     "solution": false,
     "task": false
    }
   },
   "source": [
    "**5.4 - Maximum per column**\n",
    "\n",
    "Implement a function called **maximum_per_column**, that:\n",
    "\n",
    "1. Receives an argument that is a numpy array x\n",
    "2. Returns an array where each value is the maximum value in each column of x"
   ]
  },
  {
   "cell_type": "code",
   "execution_count": 33,
   "metadata": {
    "nbgrader": {
     "grade": false,
     "grade_id": "cell-e080838a6b305989",
     "locked": false,
     "schema_version": 3,
     "solution": true,
     "task": false
    }
   },
   "outputs": [],
   "source": [
    "# create function called maximum_per_column\n",
    "\n",
    "# def maximum_per_column(x):\n",
    "# ...\n",
    "# ...\n",
    "\n",
    "### BEGIN SOLUTION\n",
    "def maximum_per_column(x):\n",
    "    return x.max(axis=0)\n",
    "### END SOLUTION\n",
    "\n"
   ]
  },
  {
   "cell_type": "code",
   "execution_count": 34,
   "metadata": {
    "nbgrader": {
     "grade": true,
     "grade_id": "cell-c981c118374add78",
     "locked": true,
     "points": 1,
     "schema_version": 3,
     "solution": false,
     "task": false
    }
   },
   "outputs": [
    {
     "name": "stdout",
     "output_type": "stream",
     "text": [
      "Answer is correct. Good Job.\n"
     ]
    }
   ],
   "source": [
    "a = np.array([[1, 2], [3, -5]])\n",
    "expected_result = np.array([3, 2])\n",
    "result = maximum_per_column(a)\n",
    "\n",
    "assert isinstance(result, np.ndarray)\n",
    "assert np.array_equal(result, expected_result)\n",
    "\n",
    "a = np.array([[1, -2], [0, 4], [6, -10]])\n",
    "expected_result = np.array([6, 4])\n",
    "result = maximum_per_column(a)\n",
    "\n",
    "assert isinstance(result, np.ndarray)\n",
    "assert np.array_equal(result, expected_result)\n",
    "\n",
    "\n",
    "print(\"Answer is correct. Good Job.\")\n"
   ]
  },
  {
   "cell_type": "markdown",
   "metadata": {
    "nbgrader": {
     "grade": false,
     "grade_id": "cell-e074add4eb9d46ed",
     "locked": true,
     "schema_version": 3,
     "solution": false,
     "task": false
    }
   },
   "source": [
    "**5.5 - Replace negatives**\n",
    "\n",
    "Implement a function called **replace_negatives**, that:\n",
    "\n",
    "1. Receives two argument: a numpy array, *x*, and a number, replacement\n",
    "2. Gets a new numpy array which is the a version of *x*, with all the negative values replaced by replacement\n",
    "3. Return the new numpy array\n",
    "4. This function should not change the input numpy array!"
   ]
  },
  {
   "cell_type": "code",
   "execution_count": 35,
   "metadata": {
    "nbgrader": {
     "grade": false,
     "grade_id": "cell-e080838a6b305988",
     "locked": false,
     "schema_version": 3,
     "solution": true,
     "task": false
    }
   },
   "outputs": [],
   "source": [
    "# create function called replace_negatives\n",
    "\n",
    "# def replace_negatives(x, replacement):\n",
    "# ...\n",
    "# ...\n",
    "\n",
    "### BEGIN SOLUTION\n",
    "def replace_negatives(x, replacement):\n",
    "    return np.where(x > 0, x, replacement)\n",
    "### END SOLUTION\n",
    "\n"
   ]
  },
  {
   "cell_type": "code",
   "execution_count": 36,
   "metadata": {
    "nbgrader": {
     "grade": true,
     "grade_id": "cell-c981c118374add79",
     "locked": true,
     "points": 1,
     "schema_version": 3,
     "solution": false,
     "task": false
    }
   },
   "outputs": [
    {
     "name": "stdout",
     "output_type": "stream",
     "text": [
      "Answer is correct. Good Job.\n"
     ]
    }
   ],
   "source": [
    "a = np.array([[1, 2], [3, -5]])\n",
    "b = 100\n",
    "original_a = a.copy()\n",
    "\n",
    "expected_result = np.array([[1, 2], [3, 100]])\n",
    "result = replace_negatives(a, b)\n",
    "\n",
    "assert isinstance(result, np.ndarray)\n",
    "assert np.array_equal(result, expected_result)\n",
    "\n",
    "error_msg = 'The original array has changed'\n",
    "assert np.array_equal(a, original_a), error_msg\n",
    "\n",
    "a = np.array([[-100, 2], [3.1, -5]])\n",
    "b = 7\n",
    "original_a = a.copy()\n",
    "\n",
    "expected_result = np.array([[7, 2], [3.1, 7]])\n",
    "result = replace_negatives(a, b)\n",
    "\n",
    "assert isinstance(result, np.ndarray)\n",
    "assert np.array_equal(result, expected_result)\n",
    "\n",
    "error_msg = 'The original array has changed'\n",
    "assert np.array_equal(a, original_a), error_msg\n",
    "\n",
    "\n",
    "print(\"Answer is correct. Good Job.\")\n"
   ]
  },
  {
   "cell_type": "markdown",
   "metadata": {
    "nbgrader": {
     "grade": false,
     "grade_id": "cell-254e0574e9d6aa35",
     "locked": true,
     "schema_version": 3,
     "solution": false,
     "task": false
    }
   },
   "source": [
    "---"
   ]
  },
  {
   "cell_type": "markdown",
   "metadata": {
    "nbgrader": {
     "grade": false,
     "grade_id": "cell-1db03a5ab4527507",
     "locked": true,
     "schema_version": 3,
     "solution": false,
     "task": false
    }
   },
   "source": [
    "## Exercise 6 - Git questions"
   ]
  },
  {
   "cell_type": "markdown",
   "metadata": {
    "nbgrader": {
     "grade": false,
     "grade_id": "cell-26d0409910632bd3",
     "locked": true,
     "schema_version": 3,
     "solution": false,
     "task": false
    }
   },
   "source": [
    "\n",
    "This exercise is a quiz with 5 multiple answer questions.\n",
    "In the cell below, we've declared a dictionary called `answers`.\n",
    "\n",
    "You should fill in that dictionary with your answers, using as keys the question number, like `question_x`, and as values the number from `1` to `4` that corresponds to the right answer.\n",
    "For each question, you should provide only one answer, i.e, the dict values should have type **int**.\n",
    "\n",
    "For example, if you want to answer Question 1 with choice number 2, then you do:\n",
    "```\n",
    "answers[\"question_1\"] = 2\n",
    "```"
   ]
  },
  {
   "cell_type": "code",
   "execution_count": 37,
   "metadata": {
    "nbgrader": {
     "grade": false,
     "grade_id": "cell-c73ca362c7d02007",
     "locked": true,
     "schema_version": 3,
     "solution": false,
     "task": false
    }
   },
   "outputs": [],
   "source": [
    "answers = {}"
   ]
  },
  {
   "cell_type": "markdown",
   "metadata": {
    "nbgrader": {
     "grade": false,
     "grade_id": "cell-7c0ca16bc2b01af9",
     "locked": true,
     "schema_version": 3,
     "solution": false,
     "task": false
    }
   },
   "source": [
    "**Question 1** \n",
    "\n",
    "In your local machine, you have a clone of git repository. You haven't touched it in a while and now want to work a bit on this project.\n",
    "\n",
    "What is the first thing that you should do?\n",
    "\n",
    "1. git push\n",
    "\n",
    "2. git add\n",
    "\n",
    "3. git commit\n",
    "\n",
    "4. git pull"
   ]
  },
  {
   "cell_type": "code",
   "execution_count": 38,
   "metadata": {
    "nbgrader": {
     "grade": false,
     "grade_id": "cell-944db9daa15f31b3",
     "locked": false,
     "schema_version": 3,
     "solution": true,
     "task": false
    }
   },
   "outputs": [],
   "source": [
    "# answers[\"question_1\"] = ...\n",
    "\n",
    "### BEGIN SOLUTION\n",
    "\n",
    "answers[\"question_1\"] = 4\n",
    "\n",
    "### END SOLUTION"
   ]
  },
  {
   "cell_type": "markdown",
   "metadata": {
    "nbgrader": {
     "grade": false,
     "grade_id": "cell-9474f1ef4b4df7f9",
     "locked": true,
     "schema_version": 3,
     "solution": false,
     "task": false
    }
   },
   "source": [
    "**Question 2** \n",
    "Now that you made sure that your clone of the git repository is up to date, you will start working on it.\n",
    "\n",
    "You are a very careful person, so you want to make sure that your code is not going to mess up the current version of the code.\n",
    "\n",
    "What's the first step that you should take when working on this project, while feeling safe that you're not going to mess up the current version of the code?\n",
    "\n",
    "\n",
    "1. Open a pull request on GitHub\n",
    "\n",
    "2. Ask for comments on your pull request before you commit and push your changes\n",
    "\n",
    "3. Create a new branch and work on your changes there instead of in master branch\n",
    "\n",
    "4. Ask for comments on your pull request after you commit and push your changes"
   ]
  },
  {
   "cell_type": "code",
   "execution_count": 39,
   "metadata": {
    "nbgrader": {
     "grade": false,
     "grade_id": "cell-944db9daa15f31b2",
     "locked": false,
     "schema_version": 3,
     "solution": true,
     "task": false
    }
   },
   "outputs": [],
   "source": [
    "# answers[\"question_2\"] = ...\n",
    "\n",
    "### BEGIN SOLUTION\n",
    "\n",
    "answers[\"question_2\"] = 3\n",
    "\n",
    "### END SOLUTION"
   ]
  },
  {
   "cell_type": "markdown",
   "metadata": {
    "nbgrader": {
     "grade": false,
     "grade_id": "cell-d29f9a64b03d79eb",
     "locked": true,
     "schema_version": 3,
     "solution": false,
     "task": false
    }
   },
   "source": [
    "**Question 3** \n",
    "\n",
    "What does the -m flag does in the git commit command?\n",
    "\n",
    "\n",
    "1. It means that your both committing and pushing your changes in the same command\n",
    "\n",
    "2. It allows you to add a commit message\n",
    "\n",
    "3. It means that you'll commit against the master branch\n",
    "\n",
    "4. It means that your both adding the changed files and committing your changes in the same command"
   ]
  },
  {
   "cell_type": "code",
   "execution_count": 40,
   "metadata": {
    "nbgrader": {
     "grade": false,
     "grade_id": "cell-884dc207680723be",
     "locked": false,
     "schema_version": 3,
     "solution": true,
     "task": false
    }
   },
   "outputs": [],
   "source": [
    "# answers[\"question_3\"] = ...\n",
    "\n",
    "### BEGIN SOLUTION\n",
    "\n",
    "answers[\"question_3\"] = 2\n",
    "\n",
    "### END SOLUTION"
   ]
  },
  {
   "cell_type": "markdown",
   "metadata": {
    "nbgrader": {
     "grade": false,
     "grade_id": "cell-f1e04f4a7d886566",
     "locked": true,
     "schema_version": 3,
     "solution": false,
     "task": false
    }
   },
   "source": [
    "**Question 4** \n",
    "\n",
    "What git command should you use if you wanted to add all the python files in the current directory to the staging area?\n",
    "\n",
    "1. git add .\n",
    "\n",
    "2. git add . py\n",
    "\n",
    "3. git add *.py\n",
    "\n",
    "4. git add .py"
   ]
  },
  {
   "cell_type": "code",
   "execution_count": 41,
   "metadata": {
    "nbgrader": {
     "grade": false,
     "grade_id": "cell-20a72a68ef2738e4",
     "locked": false,
     "schema_version": 3,
     "solution": true,
     "task": false
    }
   },
   "outputs": [],
   "source": [
    "# answers[\"question_4\"] = ...\n",
    "\n",
    "### BEGIN SOLUTION\n",
    "\n",
    "answers[\"question_4\"] = 3\n",
    "\n",
    "### END SOLUTION"
   ]
  },
  {
   "cell_type": "markdown",
   "metadata": {
    "nbgrader": {
     "grade": false,
     "grade_id": "cell-60ba9d746c6e09f1",
     "locked": true,
     "schema_version": 3,
     "solution": false,
     "task": false
    }
   },
   "source": [
    "**Question 5** \n",
    "\n",
    "What git command should you use to update the remote repository after you've commited your changes to the master branch?\n",
    "\n",
    "1. git stash\n",
    "\n",
    "2. git push\n",
    "\n",
    "3. git pull\n",
    "\n",
    "4. git commit"
   ]
  },
  {
   "cell_type": "code",
   "execution_count": 42,
   "metadata": {
    "nbgrader": {
     "grade": false,
     "grade_id": "cell-149bc74590f9b7f9",
     "locked": false,
     "schema_version": 3,
     "solution": true,
     "task": false
    }
   },
   "outputs": [],
   "source": [
    "# answers[\"question_5\"] = ...\n",
    "\n",
    "### BEGIN SOLUTION\n",
    "\n",
    "answers[\"question_5\"] = 2\n",
    "\n",
    "### END SOLUTION"
   ]
  },
  {
   "cell_type": "code",
   "execution_count": 43,
   "metadata": {
    "nbgrader": {
     "grade": true,
     "grade_id": "cell-360cc5dfa82f167f",
     "locked": true,
     "points": 1,
     "schema_version": 3,
     "solution": false,
     "task": false
    }
   },
   "outputs": [
    {
     "name": "stdout",
     "output_type": "stream",
     "text": [
      "Answer is correct. Good Job.\n"
     ]
    }
   ],
   "source": [
    "# Run this cell to see if your answers are correct\n",
    "utils.exercise_6(answers)\n"
   ]
  },
  {
   "cell_type": "markdown",
   "metadata": {
    "nbgrader": {
     "grade": false,
     "grade_id": "cell-9e29050517a6a83c",
     "locked": true,
     "schema_version": 3,
     "solution": false,
     "task": false
    }
   },
   "source": [
    "---"
   ]
  },
  {
   "cell_type": "markdown",
   "metadata": {
    "nbgrader": {
     "grade": false,
     "grade_id": "cell-095541a2a1c70ff5",
     "locked": true,
     "schema_version": 3,
     "solution": false,
     "task": false
    }
   },
   "source": [
    "### Last but not least, submit your work!"
   ]
  },
  {
   "cell_type": "markdown",
   "metadata": {
    "nbgrader": {
     "grade": false,
     "grade_id": "cell-763ccdd5054687ba",
     "locked": true,
     "schema_version": 3,
     "solution": false,
     "task": false
    }
   },
   "source": [
    "To submit your work, fill your slack ID in the `slack_id` variable (as a string).\n",
    "\n",
    "Example: `slack_id = \"x-men\"`\n",
    "\n",
    "Help: if you forgot your slack ID, [read this](https://moshfeu.medium.com/how-to-find-my-member-id-in-slack-workspace-d4bba942e38c)."
   ]
  },
  {
   "cell_type": "code",
   "execution_count": 44,
   "metadata": {
    "nbgrader": {
     "grade": false,
     "grade_id": "cell-cc9a39c41ca8e434",
     "locked": false,
     "schema_version": 3,
     "solution": true,
     "task": false
    }
   },
   "outputs": [],
   "source": [
    "# Submit your work!\n",
    "\n",
    "#slack_id = \n",
    "\n",
    "### BEGIN SOLUTION\n",
    "slack_id = \"ADMINSLU18_2\"\n",
    "### END SOLUTION"
   ]
  },
  {
   "cell_type": "code",
   "execution_count": 45,
   "metadata": {
    "nbgrader": {
     "grade": true,
     "grade_id": "cell-eaa3733afdf6743c",
     "locked": true,
     "points": 0,
     "schema_version": 3,
     "solution": false,
     "task": false
    }
   },
   "outputs": [
    {
     "name": "stdout",
     "output_type": "stream",
     "text": [
      "Success\n"
     ]
    }
   ],
   "source": [
    "from submit import submit\n",
    "assert isinstance(slack_id, str)\n",
    "\n",
    "slu = 18_2\n",
    "submit(slack_id, slu)"
   ]
  },
  {
   "cell_type": "markdown",
   "metadata": {},
   "source": [
    "---"
   ]
  }
 ],
 "metadata": {
  "celltoolbar": "Create Assignment",
  "kernelspec": {
   "display_name": "Python 3",
   "language": "python",
   "name": "python3"
  },
  "language_info": {
   "codemirror_mode": {
    "name": "ipython",
    "version": 3
   },
   "file_extension": ".py",
   "mimetype": "text/x-python",
   "name": "python",
   "nbconvert_exporter": "python",
   "pygments_lexer": "ipython3",
   "version": "3.7.9"
  }
 },
 "nbformat": 4,
 "nbformat_minor": 2
}
