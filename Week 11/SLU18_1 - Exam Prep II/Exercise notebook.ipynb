{
 "cells": [
  {
   "cell_type": "markdown",
   "metadata": {
    "deletable": false,
    "editable": false,
    "nbgrader": {
     "grade": false,
     "grade_id": "cell-e9618f92d187d071",
     "locked": true,
     "schema_version": 3,
     "solution": false,
     "task": false
    }
   },
   "source": [
    "# SLU18 - Exam preparation II\n",
    "## Batch 3 #Wave 1\n",
    "\n",
    "This is the 1st Python exam from batch 3. Exam Duration: 3h"
   ]
  },
  {
   "cell_type": "code",
   "execution_count": null,
   "metadata": {
    "deletable": false,
    "editable": false,
    "nbgrader": {
     "grade": false,
     "grade_id": "cell-483102a02d381dd4",
     "locked": true,
     "schema_version": 3,
     "solution": false,
     "task": false
    }
   },
   "outputs": [],
   "source": [
    "import numpy as np\n",
    "import pytest\n",
    "import io\n",
    "import math"
   ]
  },
  {
   "cell_type": "markdown",
   "metadata": {
    "deletable": false,
    "editable": false,
    "nbgrader": {
     "grade": false,
     "grade_id": "cell-1db03a5ab4527509",
     "locked": true,
     "schema_version": 3,
     "solution": false,
     "task": false
    }
   },
   "source": [
    "## Exercise 1"
   ]
  },
  {
   "cell_type": "markdown",
   "metadata": {
    "deletable": false,
    "editable": false,
    "nbgrader": {
     "grade": false,
     "grade_id": "cell-c24ef3e24d51d7f3",
     "locked": true,
     "schema_version": 3,
     "solution": false,
     "task": false
    }
   },
   "source": [
    "Implement a function called **euclidean_distance** that:\n",
    "\n",
    "- Receives two arguments: points x and y. A point is represented as a tuple, for example: (1, 2, 3) or (1.4, -7, 0)\n",
    "\n",
    "\n",
    "- Validates the input arguments:\n",
    "\n",
    "    - Point x must not be None. If it is, raise a ValueError with message \"First point must be defined.\"\n",
    "\n",
    "    - If point y is None, then it defaults to the origin (0,0,...,0) and has as many coordinates as point x\n",
    "\n",
    "    - If the points don’t have the same number of coordinates, raise a ValueError with message \"Cannot compute distance between points with different number of coordinates.\"\n",
    "\n",
    "\n",
    "- Computes the euclidean distance between the two points as: \n",
    "\n",
    "$$d = \\sqrt{(x_1 - y_1)^2 + (x_2 - y_2)^2 + ... + (x_n - y_n)^2}$$\n",
    "\n",
    "- Returns the computed distance"
   ]
  },
  {
   "cell_type": "markdown",
   "metadata": {
    "deletable": false,
    "editable": false,
    "nbgrader": {
     "grade": false,
     "grade_id": "cell-f9d203575c74ade1",
     "locked": true,
     "schema_version": 3,
     "solution": false,
     "task": false
    }
   },
   "source": [
    "**Grader tips**\n",
    "\n",
    "In this exercise, you should just define function **euclidean_distance**, and make sure that it has the correct name and takes the correct arguments.\n",
    "\n",
    "You should not invoke the function!\n"
   ]
  },
  {
   "cell_type": "code",
   "execution_count": null,
   "metadata": {
    "deletable": false,
    "nbgrader": {
     "grade": false,
     "grade_id": "cell-4d00af57c3b45c43",
     "locked": false,
     "schema_version": 3,
     "solution": true,
     "task": false
    }
   },
   "outputs": [],
   "source": [
    "# create function called euclidean_distance\n",
    "\n",
    "# def euclidean_distance(x, y):\n",
    "# ...\n",
    "# ...\n",
    "\n",
    "\n",
    "# YOUR CODE HERE\n",
    "raise NotImplementedError()"
   ]
  },
  {
   "cell_type": "code",
   "execution_count": null,
   "metadata": {
    "deletable": false,
    "editable": false,
    "nbgrader": {
     "grade": true,
     "grade_id": "cell-0da2a9cc467a82cc",
     "locked": true,
     "points": 2,
     "schema_version": 3,
     "solution": false,
     "task": false
    }
   },
   "outputs": [],
   "source": [
    "a = (8, -3, 4)\n",
    "b = (7, 14, 0)\n",
    "assert isclose(euclidean_distance(a, b), 17.4928, rel_tol=1e-2) \n",
    "\n",
    "\n",
    "a = (1.2, 3, 4.1)\n",
    "b = (5, 7.8, -9.0)\n",
    "assert isclose(euclidean_distance(a, b), 14.4599, rel_tol=1e-2)\n",
    "\n",
    "\n",
    "a = None\n",
    "b = (1, 2)\n",
    "\n",
    "with pytest.raises(ValueError) as e:\n",
    "    euclidean_distance(a, b)\n",
    "    \n",
    "assert str(e.value) == 'First point must be defined.'\n",
    "\n",
    "\n",
    "a = (1, 2, 3)\n",
    "b = None\n",
    "assert isclose(euclidean_distance(a, b), 3.7416, rel_tol=1e-2)\n",
    "\n",
    "\n",
    "a = (8, 9)\n",
    "b = (1.2, 3, -7, 8)\n",
    "with pytest.raises(ValueError) as e:\n",
    "    euclidean_distance(a, b)\n",
    "\n",
    "msg = 'Cannot compute distance between points with different number of coordinates.'  \n",
    "assert str(e.value) == msg\n",
    "    \n",
    "\n",
    "a = (4, 4, 4)\n",
    "b = (4, 4, 4)\n",
    "assert euclidean_distance(a, b) == 0\n",
    "\n",
    "\n",
    "print(\"Answer is correct. Good Job.\")\n"
   ]
  },
  {
   "cell_type": "markdown",
   "metadata": {
    "deletable": false,
    "editable": false,
    "nbgrader": {
     "grade": false,
     "grade_id": "cell-1ac8450cbc887a48",
     "locked": true,
     "schema_version": 3,
     "solution": false,
     "task": false
    }
   },
   "source": [
    "---"
   ]
  },
  {
   "cell_type": "markdown",
   "metadata": {
    "deletable": false,
    "editable": false,
    "nbgrader": {
     "grade": false,
     "grade_id": "cell-1db03a5ab4527510",
     "locked": true,
     "schema_version": 3,
     "solution": false,
     "task": false
    }
   },
   "source": [
    "## Exercise 2"
   ]
  },
  {
   "cell_type": "markdown",
   "metadata": {
    "deletable": false,
    "editable": false,
    "nbgrader": {
     "grade": false,
     "grade_id": "cell-77a3a84cd4590ef9",
     "locked": true,
     "schema_version": 3,
     "solution": false,
     "task": false
    }
   },
   "source": [
    "**Indexing words**\n",
    "\n",
    "Implement a function called **create_index** that will index a list of words.\n",
    "\n",
    "This function:\n",
    "- Receives a list called lst as argument. lst will have values with different data types\n",
    "\n",
    "- We don’t care about the values in the list that are not strings\n",
    "\n",
    "- For each string in the list, remove any characters that are not a-z, A-Z\n",
    "\n",
    "- Each non-empty string in the list should be added to a dictionary where\n",
    "\n",
    "    - the keys are the first letter of the words (uppercase)\n",
    "\n",
    "    - the values are lists, where each list has all the words in lst that begin with the letter in the key\n",
    "\n",
    "- The lists that are the dictionary's values should be sorted alphabetically in reversed order\n",
    "\n",
    "- The words in the lists should be lowercase\n",
    "\n",
    "- Return the dictionary"
   ]
  },
  {
   "cell_type": "markdown",
   "metadata": {
    "deletable": false,
    "editable": false,
    "nbgrader": {
     "grade": false,
     "grade_id": "cell-ef3909ba15cbd186",
     "locked": true,
     "schema_version": 3,
     "solution": false,
     "task": false
    }
   },
   "source": [
    "**Grader tips**\n",
    "\n",
    "In this exercise, you should just define function **create_index**, and make sure that it has the correct name and takes the correct arguments.\n",
    "\n",
    "You should not invoke the function!"
   ]
  },
  {
   "cell_type": "code",
   "execution_count": null,
   "metadata": {
    "deletable": false,
    "nbgrader": {
     "grade": false,
     "grade_id": "cell-f089360ee63f8d14",
     "locked": false,
     "schema_version": 3,
     "solution": true,
     "task": false
    }
   },
   "outputs": [],
   "source": [
    "# create function called create_array\n",
    "\n",
    "# def create_array():\n",
    "# ...\n",
    "# ...\n",
    "\n",
    "# YOUR CODE HERE\n",
    "raise NotImplementedError()"
   ]
  },
  {
   "cell_type": "code",
   "execution_count": null,
   "metadata": {
    "deletable": false,
    "editable": false,
    "nbgrader": {
     "grade": true,
     "grade_id": "cell-84ee2ec237b2a4c1",
     "locked": true,
     "points": 3,
     "schema_version": 3,
     "solution": false,
     "task": false
    }
   },
   "outputs": [],
   "source": [
    "lst = [\"Salut!\", 9, 7.5, [1, 2, 3], \"bye\", \"tomat0\", \"surpr!se\", 13, None]\n",
    "answer = create_index(lst)\n",
    "assert answer == {\"S\": [\"surprse\", \"salut\"], \"B\": [\"bye\"], \"T\": [\"tomat\"]}\n",
    "\n",
    "lst = []\n",
    "answer = create_index(lst)\n",
    "assert answer == {}\n",
    "\n",
    "lst = [\"alice!\", '9', 'BOB', None, 'berlim', 'Charlie']\n",
    "answer = create_index(lst)\n",
    "assert answer == {\"A\": [\"alice\"], \"B\": [\"bob\", \"berlim\"], \"C\": [\"charlie\"]}\n",
    "\n",
    "\n",
    "print(\"Answer is correct. Good Job.\")\n"
   ]
  },
  {
   "cell_type": "markdown",
   "metadata": {
    "deletable": false,
    "editable": false,
    "nbgrader": {
     "grade": false,
     "grade_id": "cell-1634f06883e80ee5",
     "locked": true,
     "schema_version": 3,
     "solution": false,
     "task": false
    }
   },
   "source": [
    "---"
   ]
  },
  {
   "cell_type": "markdown",
   "metadata": {
    "deletable": false,
    "editable": false,
    "nbgrader": {
     "grade": false,
     "grade_id": "cell-1db03a5ab4527511",
     "locked": true,
     "schema_version": 3,
     "solution": false,
     "task": false
    }
   },
   "source": [
    "## Exercise 3"
   ]
  },
  {
   "cell_type": "markdown",
   "metadata": {
    "deletable": false,
    "editable": false,
    "nbgrader": {
     "grade": false,
     "grade_id": "cell-b599c2db78b9a7a2",
     "locked": true,
     "schema_version": 3,
     "solution": false,
     "task": false
    }
   },
   "source": [
    "**Parse a JSON file**\n",
    "\n",
    "Define a function called **parse_json**, that parses a file where each line is a json object. The function should behave in the following way:\n",
    "\n",
    "- Receive as argument a **file descriptor** and read through the lines of the file\n",
    "\n",
    "    - Note: a file descriptor is what's returned by the open( ) function when you call it on a file. This means that, given the argument that the function parse_json receives is already a file descriptor, you don't need to open the file anymore!\n",
    "\n",
    "- If you can’t convert a line into a python dictionary, ignore that line and move on to the next one\n",
    "\n",
    "- Each dictionary should have at least two keys: A and B. Discard the lines that don’t have these two keys (i.e, the dictionaries must have both key A and key B)\n",
    "\n",
    "- Get the smallest number from all the values with key A. Discard any non int/float values with key A\n",
    "\n",
    "- Get the longest string from all the values with key B. Discard any non string values with key B\n",
    "\n",
    "- Return a list like **[smallest_number_in_A, longest_string_in_B]**\n",
    "\n",
    "- In case there is more than one candidate for longest_string_in_B, return the one that showed up first in the file\n",
    "\n",
    "- If there is no smallest_number_in_A or longest_string_in_B, use None in the list instead (e.g, return [None, 'bla'] or [-2, None])"
   ]
  },
  {
   "cell_type": "code",
   "execution_count": null,
   "metadata": {
    "deletable": false,
    "nbgrader": {
     "grade": false,
     "grade_id": "cell-dba1c3448d02f3d4",
     "locked": false,
     "schema_version": 3,
     "solution": true,
     "task": false
    }
   },
   "outputs": [],
   "source": [
    "# create function called parse_json\n",
    "\n",
    "#def parse_json(f):\n",
    "# ...\n",
    "# ...\n",
    "\n",
    "# YOUR CODE HERE\n",
    "raise NotImplementedError()"
   ]
  },
  {
   "cell_type": "code",
   "execution_count": null,
   "metadata": {
    "deletable": false,
    "editable": false,
    "nbgrader": {
     "grade": true,
     "grade_id": "cell-4887ed8b8490950d",
     "locked": true,
     "points": 2,
     "schema_version": 3,
     "solution": false,
     "task": false
    }
   },
   "outputs": [],
   "source": [
    "data = (\n",
    "    '{\"C\": 3}\\n'\n",
    "    '{\"A\": 1, \"B\": \"Hello\"}\\n'\n",
    "    '\"Blabla\"\\n'\n",
    "    '{\"C\": 76, \"A\": -14, \"B\": 7}\\n'\n",
    "    '{\"C\": \"Bla\", \"D\": 34, \"B\": \"This is a string!\"}\\n'\n",
    "    '{\"B\":\"A\", \"A\": 50.5}'\n",
    ")\n",
    "\n",
    "fd = io.StringIO(data)\n",
    "assert parse_json(fd) == [-14, 'Hello']\n",
    "\n",
    "data = (\n",
    "    '{\"C\": 3}\\n'\n",
    "    '{\"A\": \"1\", \"B\": \"Hello\"}\\n'\n",
    "    '\"Blabla\"'\n",
    ")\n",
    "fd = io.StringIO(data)\n",
    "assert parse_json(fd) == [None, 'Hello']\n",
    "\n",
    "data = (\n",
    "    '{\"C\": 3}\\n'\n",
    "    '{\"A\": \"1\", \"B\": 3}\\n'\n",
    "    '\"Blabla\"'\n",
    ")\n",
    "fd = io.StringIO(data)\n",
    "assert parse_json(fd) == [None, None]\n",
    "    \n",
    "\n",
    "print(\"Answer is correct. Good Job.\")\n"
   ]
  },
  {
   "cell_type": "markdown",
   "metadata": {
    "deletable": false,
    "editable": false,
    "nbgrader": {
     "grade": false,
     "grade_id": "cell-a59f3c41cddd1d95",
     "locked": true,
     "schema_version": 3,
     "solution": false,
     "task": false
    }
   },
   "source": [
    "---"
   ]
  },
  {
   "cell_type": "markdown",
   "metadata": {
    "deletable": false,
    "editable": false,
    "nbgrader": {
     "grade": false,
     "grade_id": "cell-1db03a5ab4527512",
     "locked": true,
     "schema_version": 3,
     "solution": false,
     "task": false
    }
   },
   "source": [
    "## Exercise 4"
   ]
  },
  {
   "cell_type": "markdown",
   "metadata": {
    "deletable": false,
    "editable": false,
    "nbgrader": {
     "grade": false,
     "grade_id": "cell-c531f1e7cc75752f",
     "locked": true,
     "schema_version": 3,
     "solution": false,
     "task": false
    }
   },
   "source": [
    "### Linked List\n",
    "\n",
    "**1.4. Defining Node**\n",
    "\n",
    "The following exercises will be about a data structure called **linked list.**\n",
    "\n",
    "A linked list is a sequence of nodes. These nodes that can hold a certain value, and have a link that points to the next element in the list.\n",
    "\n",
    "**Attention: In this exercise we will sometimes refer to \"linked lists\" as just \"lists\". This doesn't mean that you should use Python lists to implement the linked list data structure. In fact, you will probably solve Exercise 4 without using a single Python list!**\n",
    "\n",
    " \n",
    "\n",
    "In this first exercise, you'll implement a class called **Node**. Node has 2 instance variables, that are passed into the constructor (to be initialized) in the following order:\n",
    "\n",
    "- *value*: it can be of any data type. By default it should be None\n",
    "\n",
    "- *next_node*: this is the link that points to the next element in the linked list. By default it points to None\n",
    "\n",
    "As an illustration, this is a **Node**:\n",
    "\n",
    "<img src=\"./images/batch3_ex_4_node0.png\" alt=\"drawing\" width=\"400\"/>\n"
   ]
  },
  {
   "cell_type": "markdown",
   "metadata": {
    "deletable": false,
    "editable": false,
    "nbgrader": {
     "grade": false,
     "grade_id": "cell-58059e72033d92e3",
     "locked": true,
     "schema_version": 3,
     "solution": false,
     "task": false
    }
   },
   "source": [
    "**Grader tips**\n",
    "\n",
    "To test your class we're going to check the following:\n",
    "\n",
    "- try to instantiate it with the values you see on the Sample Input (first value is value, second value is next_node)\n",
    "\n",
    "- check if it has two instance variables (value and next_node)\n",
    "\n",
    "- check if the instance variables have the values passed in the input\n",
    "\n",
    "You just need to implement the class, you don't need to do anything else."
   ]
  },
  {
   "cell_type": "code",
   "execution_count": null,
   "metadata": {
    "deletable": false,
    "nbgrader": {
     "grade": false,
     "grade_id": "cell-2a151430c72dc66f",
     "locked": false,
     "schema_version": 3,
     "solution": true,
     "task": false
    }
   },
   "outputs": [],
   "source": [
    "# create class called Node\n",
    "\n",
    "# class Node:\n",
    "# ...\n",
    "# ...\n",
    "\n",
    "# YOUR CODE HERE\n",
    "raise NotImplementedError()"
   ]
  },
  {
   "cell_type": "code",
   "execution_count": null,
   "metadata": {
    "deletable": false,
    "editable": false,
    "nbgrader": {
     "grade": true,
     "grade_id": "cell-00a56df15b4a44d3",
     "locked": true,
     "points": 1,
     "schema_version": 3,
     "solution": false,
     "task": false
    }
   },
   "outputs": [],
   "source": [
    "node = Node(1, 'next')\n",
    "assert isinstance(node, Node)\n",
    "assert hasattr(node, 'value') and hasattr(node, 'next_node')\n",
    "assert node.value == 1\n",
    "assert node.next_node == 'next'\n",
    "\n",
    "node = Node()\n",
    "assert isinstance(node, Node)\n",
    "assert hasattr(node, 'value') and hasattr(node, 'next_node')\n",
    "assert node.value is None\n",
    "assert node.next_node is None\n",
    "\n",
    "\n",
    "print(\"Answer is correct. Good Job.\")\n"
   ]
  },
  {
   "cell_type": "markdown",
   "metadata": {
    "deletable": false,
    "editable": false,
    "nbgrader": {
     "grade": false,
     "grade_id": "cell-c531f1e7cc75752g",
     "locked": true,
     "schema_version": 3,
     "solution": false,
     "task": false
    }
   },
   "source": [
    "**4.2. Defining LinkedList**\n",
    "\n",
    "In this second exercise, you will implement another class called **LinkedList**:\n",
    "\n",
    "- It has one instance variable of type Node, called base. The base node is considered the zero-node in the list: its value is None, its next_node points to the first node in the list, it can never be removed and doesn’t count as a list node. This is an example of an empty list, just with a base.\n",
    "\n",
    "\n",
    "<img src=\"./images/batch3_ex_4.2_node0.png\" alt=\"drawing\" width=\"400\"/>\n",
    "\n",
    " \n",
    "\n",
    "- It has one method called add_node, that:\n",
    "\n",
    "    - Receives an argument called value. If value is None, just return without doing anything else\n",
    "\n",
    "    - Adds a new Node to the end of the list, with the value specified in value\n",
    "\n",
    "    - Doesn’t return anything\n",
    "\n",
    "- It has one method called remove_node, that:\n",
    "\n",
    "    - Receives an argument called value. If value is None, just return without doing anything else\n",
    "\n",
    "    - Finds the first node in the list with that value and removes it from the list\n",
    "\n",
    "    - If there are no nodes in the list with that value, the list should remain unchanged\n",
    "\n",
    "    - Doesn't return anything\n",
    "\n",
    "- It has one method called count_nodes, that:\n",
    "\n",
    "    - Doesn’t receive any argument\n",
    "\n",
    "    - Counts the number of nodes in the list and returns it\n",
    "\n",
    "    - The base node should not be included in the count\n",
    "\n",
    "Examples:\n",
    "\n",
    "This is a linked list after method add_node was called 4 times, with values 10, 3, 7 and 9, respectively.\n",
    "\n",
    "<img src=\"./images/batch3_ex_4.2_node1.png\" alt=\"drawing\" width=\"700\"/>\n",
    "\n",
    "\n",
    "This is the previous list after method remove_node was called once, with value 7.\n",
    "\n",
    "\n",
    "<img src=\"./images/batch3_ex_4.2_node2.png\" alt=\"drawing\" width=\"700\"/>\n",
    "\n",
    "This is the previous list after method remove_node was called once, with value 10. Be careful when removing the first node from the list!\n",
    "\n",
    "\n",
    "\n",
    "<img src=\"./images/batch3_ex_4.2_node3.png\" alt=\"drawing\" width=\"700\"/>\n"
   ]
  },
  {
   "cell_type": "markdown",
   "metadata": {
    "deletable": false,
    "editable": false,
    "nbgrader": {
     "grade": false,
     "grade_id": "cell-ab24fdd88f59519e",
     "locked": true,
     "schema_version": 3,
     "solution": false,
     "task": false
    }
   },
   "source": [
    "**Grader tips**\n",
    "\n",
    "For this exercise, you can assume that there is already an implementation of class Node, and that you can instantiate it by calling Node(). So, even if you didn't complete the previous exercise, you can still solve this one.\n",
    "\n",
    "You just need to implement the class, you don't need to do anything else!"
   ]
  },
  {
   "cell_type": "code",
   "execution_count": null,
   "metadata": {
    "deletable": false,
    "nbgrader": {
     "grade": false,
     "grade_id": "cell-edc0084ca8ba2211",
     "locked": false,
     "schema_version": 3,
     "solution": true,
     "task": false
    }
   },
   "outputs": [],
   "source": [
    "# create function called create_array\n",
    "\n",
    "# def add_node(self, value):\n",
    "# ...\n",
    "# def remove_node(self, value):\n",
    "# ...\n",
    "# def count_nodes(self):\n",
    "# ...\n",
    "\n",
    "# YOUR CODE HERE\n",
    "raise NotImplementedError()\n"
   ]
  },
  {
   "cell_type": "code",
   "execution_count": null,
   "metadata": {
    "deletable": false,
    "editable": false,
    "nbgrader": {
     "grade": true,
     "grade_id": "cell-65397abfd2557135",
     "locked": true,
     "points": 1,
     "schema_version": 3,
     "solution": false,
     "task": false
    }
   },
   "outputs": [],
   "source": [
    "def count_nodes(l):\n",
    "    n_nodes = 0\n",
    "    p = l.base\n",
    "    while p.next_node is not None:\n",
    "        p = p.next_node\n",
    "        n_nodes += 1\n",
    "    return n_nodes\n",
    "\n",
    "\n",
    "ll = LinkedList()\n",
    "assert isinstance(ll, LinkedList)\n",
    "assert hasattr(ll, 'base')\n",
    "assert isinstance(ll.base, Node)\n",
    "assert ll.base.value is None\n",
    "assert ll.base.next_node is None\n",
    "\n",
    "\n",
    "ll = LinkedList()\n",
    "ll.add_node(3)\n",
    "\n",
    "# list: 3\n",
    "\n",
    "nodes_before = count_nodes(ll)\n",
    "ll.add_node(None)\n",
    "\n",
    "# list: 3 None\n",
    "nodes_after = count_nodes(ll)\n",
    "assert nodes_before == nodes_after\n",
    "\n",
    "first_node = ll.base.next_node\n",
    "assert first_node.value == 3\n",
    "assert first_node.next_node is None\n",
    "\n",
    "ll = LinkedList()\n",
    "ll.add_node(3)\n",
    "# list: 3 None 3\n",
    "assert ll.base.next_node is not None\n",
    "assert ll.base.next_node.value == 3\n",
    "\n",
    "\n",
    "ll = LinkedList()\n",
    "ll.add_node(3)\n",
    "ll.add_node('hello')\n",
    "\n",
    "\n",
    "\n",
    "# list: 3 'hello'\n",
    "first_node = ll.base.next_node\n",
    "second_node = first_node.next_node\n",
    "assert first_node.value == 3\n",
    "assert first_node.next_node is not None\n",
    "assert second_node.value == 'hello'\n",
    "assert second_node.next_node is None\n",
    "\n",
    "\n",
    "ll = LinkedList()\n",
    "ll.add_node(3)\n",
    "ll.add_node('hello')\n",
    "ll.add_node(4)\n",
    "ll.add_node(5)\n",
    "ll.add_node(6)\n",
    "\n",
    "\n",
    "# list: 3 'hello' 4 5 6\n",
    "nodes_before = count_nodes(ll)\n",
    "ll.remove_node(6)\n",
    "nodes_after = count_nodes(ll)\n",
    "\n",
    "assert nodes_after == nodes_before - 1\n",
    "    \n",
    "\n",
    "last = ll.base\n",
    "while last.next_node is not None:\n",
    "    last = last.next_node\n",
    "\n",
    "assert last.value == 5\n",
    "\n",
    "\n",
    "ll = LinkedList()\n",
    "ll.add_node(3)\n",
    "ll.add_node('hello')\n",
    "ll.add_node(4)\n",
    "ll.add_node(5)\n",
    "\n",
    "\n",
    "# list: 3 'hello' 4 5\n",
    "\n",
    "nodes_before = count_nodes(ll)\n",
    "ll.remove_node(4)\n",
    "nodes_after = count_nodes(ll)\n",
    "assert nodes_after == nodes_before - 1\n",
    "\n",
    "p = ll.base.next_node\n",
    "assert p.value == 3\n",
    "\n",
    "p = p.next_node\n",
    "assert p.value == 'hello'\n",
    "\n",
    "p = p.next_node\n",
    "assert p.value == 5\n",
    "assert p.next_node is None\n",
    "\n",
    "\n",
    "print(\"Answer is correct. Good Job.\")\n"
   ]
  },
  {
   "cell_type": "code",
   "execution_count": null,
   "metadata": {
    "deletable": false,
    "editable": false,
    "nbgrader": {
     "grade": true,
     "grade_id": "cell-5f8d1c7104d9af2b",
     "locked": true,
     "points": 2,
     "schema_version": 3,
     "solution": false,
     "task": false
    }
   },
   "outputs": [],
   "source": [
    "ll = LinkedList()\n",
    "ll.add_node(3)\n",
    "ll.add_node('hello')\n",
    "ll.add_node(5)\n",
    "\n",
    "\n",
    "# list: 3 'hello' 5\n",
    "\n",
    "nodes_before = count_nodes(ll)\n",
    "ll.remove_node(3)\n",
    "nodes_after = count_nodes(ll)\n",
    "assert nodes_after == nodes_before - 1\n",
    "\n",
    "p = ll.base.next_node\n",
    "assert p.value == 'hello'\n",
    "\n",
    "p = p.next_node\n",
    "assert p.value == 5\n",
    "assert p.next_node is None\n",
    "\n",
    "\n",
    "ll = LinkedList()\n",
    "ll.add_node(3)\n",
    "ll.add_node('hello')\n",
    "ll.add_node(5)\n",
    "\n",
    "\n",
    "\n",
    "# list: 3 'hello' 5\n",
    "\n",
    "nodes_before = count_nodes(ll)\n",
    "ll.remove_node(None)\n",
    "nodes_after = count_nodes(ll)\n",
    "assert nodes_before == nodes_after\n",
    "\n",
    "\n",
    "ll = LinkedList()\n",
    "ll.add_node(3)\n",
    "ll.add_node('hello')\n",
    "ll.add_node(5)\n",
    "\n",
    "\n",
    "# list: 3 'hello' 5\n",
    "\n",
    "nodes_before = count_nodes(ll)\n",
    "ll.remove_node(4)\n",
    "nodes_after = count_nodes(ll)\n",
    "assert nodes_before == nodes_after\n",
    "\n",
    "\n",
    "ll = LinkedList()\n",
    "ll.add_node(3)\n",
    "ll.add_node('hello')\n",
    "ll.add_node(5)\n",
    "ll.add_node(5)\n",
    "\n",
    "\n",
    "# list: 3 'hello' 5 5\n",
    "\n",
    "nodes_before = count_nodes(ll)\n",
    "ll.remove_node(5)\n",
    "nodes_after = count_nodes(ll)\n",
    "assert nodes_after == nodes_before - 1\n",
    "    \n",
    "\n",
    "ll = LinkedList()\n",
    "ll.add_node('hello')\n",
    "ll.add_node(5)\n",
    "\n",
    "# list: 'hello' 5\n",
    "assert ll.count_nodes() == 2\n",
    "\n",
    "ll = LinkedList()\n",
    "assert ll.count_nodes() == 0\n",
    "\n",
    "\n",
    "print(\"Answer is correct. Good Job.\")\n"
   ]
  },
  {
   "cell_type": "markdown",
   "metadata": {
    "deletable": false,
    "editable": false,
    "nbgrader": {
     "grade": false,
     "grade_id": "cell-63721a289de76dca",
     "locked": true,
     "schema_version": 3,
     "solution": false,
     "task": false
    }
   },
   "source": [
    "**4.3. Playing with linked lists** \n",
    "\n",
    "On the following exercises, we'll play with linked lists!\n",
    "\n",
    "Now, you should create a function called **create_list**, that doesn't receive any arguments and that returns an instance of class LinkedList exactly like this one.\n",
    "\n",
    " \n",
    "\n",
    "<img src=\"./images/batch3_ex_4.3_node0.png\" alt=\"drawing\" width=\"700\"/>\n"
   ]
  },
  {
   "cell_type": "code",
   "execution_count": null,
   "metadata": {
    "deletable": false,
    "nbgrader": {
     "grade": false,
     "grade_id": "cell-8c53952863eb9ef2",
     "locked": false,
     "schema_version": 3,
     "solution": true,
     "task": false
    }
   },
   "outputs": [],
   "source": [
    "# create function called create_list\n",
    "\n",
    "# def create_list():\n",
    "# ...\n",
    "# ...\n",
    "\n",
    "# YOUR CODE HERE\n",
    "raise NotImplementedError()"
   ]
  },
  {
   "cell_type": "code",
   "execution_count": null,
   "metadata": {
    "deletable": false,
    "editable": false,
    "nbgrader": {
     "grade": true,
     "grade_id": "cell-fc9f5f1ec0dab941",
     "locked": true,
     "points": 1,
     "schema_version": 3,
     "solution": false,
     "task": false
    }
   },
   "outputs": [],
   "source": [
    "l = create_list()\n",
    "assert isinstance(l, LinkedList)\n",
    "assert isinstance(l.base, Node)\n",
    "assert l.base.value is None\n",
    "assert l.base.next_node is not None\n",
    "assert l.count_nodes() == 4\n",
    "\n",
    "p = l.base.next_node\n",
    "assert p.value == 10\n",
    "\n",
    "p = p.next_node\n",
    "assert p.value == 3\n",
    "\n",
    "p = p.next_node\n",
    "assert p.value == 7\n",
    "\n",
    "p = p.next_node\n",
    "assert p.value == 9\n",
    "\n",
    "p = p.next_node\n",
    "assert p is None\n",
    "\n",
    "\n",
    "print(\"Answer is correct. Good Job.\")\n"
   ]
  },
  {
   "cell_type": "markdown",
   "metadata": {
    "deletable": false,
    "editable": false,
    "nbgrader": {
     "grade": false,
     "grade_id": "cell-c5edd9962fd82266",
     "locked": true,
     "schema_version": 3,
     "solution": false,
     "task": false
    }
   },
   "source": [
    "**4.4. Playing with linked lists**\n",
    "\n",
    "Now, you should create a function called **update_list**, that receives this linked list as argument (the one that we built in the last exercise):\n",
    "\n",
    "<img src=\"./images/batch3_ex_4.4_node0.png\" alt=\"drawing\" width=\"700\"/>\n",
    "\n",
    "\n",
    "\n",
    "And then returns this one:\n",
    "\n",
    "<img src=\"./images/batch3_ex_4.4_node1.png\" alt=\"drawing\" width=\"700\"/>\n",
    "\n"
   ]
  },
  {
   "cell_type": "markdown",
   "metadata": {
    "deletable": false,
    "editable": false,
    "nbgrader": {
     "grade": false,
     "grade_id": "cell-7aba490687fb3337",
     "locked": true,
     "schema_version": 3,
     "solution": false,
     "task": false
    }
   },
   "source": [
    "**Grader tips**\n",
    "\n",
    "For this exercise, you can assume that class **LinkedList** is already implemented, with all the methods described in the previous exercises. So, even if you didn't complete the previous exercises, you can still solve this one.\n",
    "\n",
    "You just need to implement the function, you should not invoke it!"
   ]
  },
  {
   "cell_type": "code",
   "execution_count": null,
   "metadata": {
    "deletable": false,
    "nbgrader": {
     "grade": false,
     "grade_id": "cell-0d9d4d5d0c5a2ffa",
     "locked": false,
     "schema_version": 3,
     "solution": true,
     "task": false
    }
   },
   "outputs": [],
   "source": [
    "# create function called update_list\n",
    "\n",
    "# def update_list(l):\n",
    "# ...\n",
    "# ...\n",
    "\n",
    "# YOUR CODE HERE\n",
    "raise NotImplementedError()"
   ]
  },
  {
   "cell_type": "code",
   "execution_count": null,
   "metadata": {
    "deletable": false,
    "editable": false,
    "nbgrader": {
     "grade": true,
     "grade_id": "cell-343de6d058bc1406",
     "locked": true,
     "points": 1,
     "schema_version": 3,
     "solution": false,
     "task": false
    }
   },
   "outputs": [],
   "source": [
    "\n",
    "l = LinkedList()\n",
    "l.add_node(10)\n",
    "l.add_node(3)\n",
    "l.add_node(7)\n",
    "l.add_node(9)\n",
    "\n",
    "\n",
    "# List: base -> 10 -> 3 -> 7 -> 9\n",
    "l = update_list(l)\n",
    "# List: base -> 3 -> 9\n",
    "\n",
    "assert isinstance(l, LinkedList)\n",
    "assert isinstance(l.base, Node)\n",
    "assert l.base.value is None\n",
    "assert l.base.next_node is not None\n",
    "assert l.count_nodes() == 2\n",
    "\n",
    "p = l.base.next_node\n",
    "assert p.value == 3\n",
    "\n",
    "p = p.next_node\n",
    "assert p.value == 9\n",
    "\n",
    "p = p.next_node\n",
    "assert p is None\n",
    "\n",
    "\n",
    "print(\"Answer is correct. Good Job.\")\n"
   ]
  },
  {
   "cell_type": "markdown",
   "metadata": {
    "deletable": false,
    "editable": false,
    "nbgrader": {
     "grade": false,
     "grade_id": "cell-ee49453e1e488731",
     "locked": true,
     "schema_version": 3,
     "solution": false,
     "task": false
    }
   },
   "source": [
    "---"
   ]
  },
  {
   "cell_type": "markdown",
   "metadata": {
    "deletable": false,
    "editable": false,
    "nbgrader": {
     "grade": false,
     "grade_id": "cell-1db03a5ab4527513",
     "locked": true,
     "schema_version": 3,
     "solution": false,
     "task": false
    }
   },
   "source": [
    "## Exercise 5"
   ]
  },
  {
   "cell_type": "markdown",
   "metadata": {
    "deletable": false,
    "editable": false,
    "nbgrader": {
     "grade": false,
     "grade_id": "cell-6fdb5f3768b277eb",
     "locked": true,
     "schema_version": 3,
     "solution": false,
     "task": false
    }
   },
   "source": [
    "**5.1 - Gimme ones**\n",
    "\n",
    "Write a function called **gimme_ones** that takes an argument n and returns a numpy array with shape (n,) where all the values are ones.\n",
    "\n",
    "**Examples:**\n",
    "\n",
    "- **Input:** 4\n",
    "    \n",
    "    **Output:** array([1., 1., 1., 1.])\n",
    "    \n",
    "\n",
    "- **Input:** 1\n",
    "    \n",
    "    **Output:** array([1.])"
   ]
  },
  {
   "cell_type": "code",
   "execution_count": null,
   "metadata": {
    "deletable": false,
    "nbgrader": {
     "grade": false,
     "grade_id": "cell-7b09df2905ee630f",
     "locked": false,
     "schema_version": 3,
     "solution": true,
     "task": false
    }
   },
   "outputs": [],
   "source": [
    "# create function called gimme_ones\n",
    "\n",
    "# def gimme_ones(n):\n",
    "# ...\n",
    "# ...\n",
    "\n",
    "# YOUR CODE HERE\n",
    "raise NotImplementedError()\n",
    "\n"
   ]
  },
  {
   "cell_type": "code",
   "execution_count": null,
   "metadata": {
    "deletable": false,
    "editable": false,
    "nbgrader": {
     "grade": true,
     "grade_id": "cell-2a4834cad293d726",
     "locked": true,
     "points": 1,
     "schema_version": 3,
     "solution": false,
     "task": false
    }
   },
   "outputs": [],
   "source": [
    "assert np.array_equal(gimme_ones(3), np.ones(3))\n",
    "assert np.array_equal(gimme_ones(1), np.ones(1))\n",
    "\n",
    "\n",
    "print(\"Answer is correct. Good Job.\")\n"
   ]
  },
  {
   "cell_type": "markdown",
   "metadata": {
    "deletable": false,
    "editable": false,
    "nbgrader": {
     "grade": false,
     "grade_id": "cell-e074add4eb9d46ed",
     "locked": true,
     "schema_version": 3,
     "solution": false,
     "task": false
    }
   },
   "source": [
    "**5.2 - Gimme numbers**\n",
    "\n",
    "Now write a function called **gimme_numbers** that:\n",
    "\n",
    "- receives two positional arguments: n and x\n",
    "- calls function gimme_ones with n\n",
    "- multiplies the ones by x\n",
    "- returns the resulting numpy array"
   ]
  },
  {
   "cell_type": "code",
   "execution_count": null,
   "metadata": {
    "deletable": false,
    "nbgrader": {
     "grade": false,
     "grade_id": "cell-e080838a6b305988",
     "locked": false,
     "schema_version": 3,
     "solution": true,
     "task": false
    }
   },
   "outputs": [],
   "source": [
    "# create function called gimme_numbers\n",
    "\n",
    "# def gimme_numbers(n,x):\n",
    "# ...\n",
    "# ...\n",
    "\n",
    "# YOUR CODE HERE\n",
    "raise NotImplementedError()\n",
    "\n"
   ]
  },
  {
   "cell_type": "code",
   "execution_count": null,
   "metadata": {
    "deletable": false,
    "editable": false,
    "nbgrader": {
     "grade": true,
     "grade_id": "cell-c981c118374add77",
     "locked": true,
     "points": 1,
     "schema_version": 3,
     "solution": false,
     "task": false
    }
   },
   "outputs": [],
   "source": [
    "assert np.array_equal(gimme_numbers(3, 5.67), np.ones(3) * 5.67)\n",
    "print(\"Answer is correct. Good Job.\")"
   ]
  },
  {
   "cell_type": "markdown",
   "metadata": {
    "deletable": false,
    "editable": false,
    "nbgrader": {
     "grade": false,
     "grade_id": "cell-553f9078f74c8e23",
     "locked": true,
     "schema_version": 3,
     "solution": false,
     "task": false
    }
   },
   "source": [
    "---"
   ]
  },
  {
   "cell_type": "markdown",
   "metadata": {
    "deletable": false,
    "editable": false,
    "nbgrader": {
     "grade": false,
     "grade_id": "cell-1db03a5ab4527507",
     "locked": true,
     "schema_version": 3,
     "solution": false,
     "task": false
    }
   },
   "source": [
    "## Exercise 6 - Numpy"
   ]
  },
  {
   "cell_type": "markdown",
   "metadata": {
    "deletable": false,
    "editable": false,
    "nbgrader": {
     "grade": false,
     "grade_id": "cell-b9cc3f05e9c599df",
     "locked": true,
     "schema_version": 3,
     "solution": false,
     "task": false
    }
   },
   "source": [
    "**6.1 - Creating arrays**\n",
    "\n",
    "Consider this matrix.\n",
    "\n",
    "   $$\n",
    "        \\begin{bmatrix}\n",
    "            1 & 2 & 3\\\\\n",
    "            4 & 5 & 6\\\\\n",
    "            7 & 8 & 9\n",
    "        \\end{bmatrix}\\;\\;\n",
    "    $$\n",
    "\n",
    " \n",
    "\n",
    "Implement a function call **create_array** that creates a numpy array with the data in the matrix above, and returns it.\n",
    "\n"
   ]
  },
  {
   "cell_type": "code",
   "execution_count": null,
   "metadata": {
    "deletable": false,
    "nbgrader": {
     "grade": false,
     "grade_id": "cell-a989410b2b21e63f",
     "locked": false,
     "schema_version": 3,
     "solution": true,
     "task": false
    }
   },
   "outputs": [],
   "source": [
    "# create function called create_array\n",
    "\n",
    "# def create_array():\n",
    "# ...\n",
    "# ...\n",
    "\n",
    "# YOUR CODE HERE\n",
    "raise NotImplementedError()"
   ]
  },
  {
   "cell_type": "code",
   "execution_count": null,
   "metadata": {
    "deletable": false,
    "editable": false,
    "nbgrader": {
     "grade": true,
     "grade_id": "cell-ed74cb1ab32560dc",
     "locked": true,
     "points": 1,
     "schema_version": 3,
     "solution": false,
     "task": false
    }
   },
   "outputs": [],
   "source": [
    "assert np.array_equal(create_array(), np.array([[1, 2, 3], [4, 5, 6], [7, 8, 9]]))\n",
    "print(\"Answer is correct. Good Job.\")"
   ]
  },
  {
   "cell_type": "markdown",
   "metadata": {
    "deletable": false,
    "editable": false,
    "nbgrader": {
     "grade": false,
     "grade_id": "cell-b9cc3f05e9c599dg",
     "locked": true,
     "schema_version": 3,
     "solution": false,
     "task": false
    }
   },
   "source": [
    "**6.2 - Subsetting arrays**\n",
    "\n",
    "Implement a function called **select_first_col**, that receives a numpy array and returns it's first column.\n",
    "\n",
    "You don't need to do any validations on the input array shape.\n",
    "\n",
    "If you consider as input the array that you created in the previous question, then the output should have shape (3,).\n"
   ]
  },
  {
   "cell_type": "code",
   "execution_count": null,
   "metadata": {
    "deletable": false,
    "nbgrader": {
     "grade": false,
     "grade_id": "cell-5ab8635824fc5b09",
     "locked": false,
     "schema_version": 3,
     "solution": true,
     "task": false
    }
   },
   "outputs": [],
   "source": [
    "# create function called select_first_col\n",
    "\n",
    "# def select_first_col(q):\n",
    "# ...\n",
    "# ...\n",
    "\n",
    "# YOUR CODE HERE\n",
    "raise NotImplementedError()\n"
   ]
  },
  {
   "cell_type": "code",
   "execution_count": null,
   "metadata": {
    "deletable": false,
    "editable": false,
    "nbgrader": {
     "grade": true,
     "grade_id": "cell-aa19bcef0c87f8db",
     "locked": true,
     "points": 1,
     "schema_version": 3,
     "solution": false,
     "task": false
    }
   },
   "outputs": [],
   "source": [
    "a = np.array([[1, 2, 3], [4, 5, 6], [7, 8, 9]])\n",
    "assert np.array_equal(select_first_col(a), a[:, 0])\n",
    "print(\"Answer is correct. Good Job.\")"
   ]
  },
  {
   "cell_type": "markdown",
   "metadata": {
    "deletable": false,
    "editable": false,
    "nbgrader": {
     "grade": false,
     "grade_id": "cell-b9cc3f05e9c599dh",
     "locked": true,
     "schema_version": 3,
     "solution": false,
     "task": false
    }
   },
   "source": [
    "**6.3 - Selecting values arrays**\n",
    "\n",
    "Implement a function called **select_values**, that receives a numpy array and returns all the values in the array that are **bigger than 4**.\n",
    "\n",
    "If you consider as input the array that you created in the first question, then the shape of the return value should be (5,)."
   ]
  },
  {
   "cell_type": "code",
   "execution_count": null,
   "metadata": {
    "deletable": false,
    "nbgrader": {
     "grade": false,
     "grade_id": "cell-5ab8635824fc5b10",
     "locked": false,
     "schema_version": 3,
     "solution": true,
     "task": false
    }
   },
   "outputs": [],
   "source": [
    "# create function called select_values\n",
    "\n",
    "# def select_values(x):\n",
    "# ...\n",
    "# ...\n",
    "\n",
    "# YOUR CODE HERE\n",
    "raise NotImplementedError()"
   ]
  },
  {
   "cell_type": "code",
   "execution_count": null,
   "metadata": {
    "deletable": false,
    "editable": false,
    "nbgrader": {
     "grade": true,
     "grade_id": "cell-aa19bcef0c87f8dg",
     "locked": true,
     "points": 1,
     "schema_version": 3,
     "solution": false,
     "task": false
    }
   },
   "outputs": [],
   "source": [
    "a = np.array([[1, 2, 3], [4, 5, 6], [7, 8, 9]])\n",
    "assert np.array_equal(select_values(a), a[a > 4])\n",
    "print(\"Answer is correct. Good Job.\")"
   ]
  },
  {
   "cell_type": "markdown",
   "metadata": {
    "deletable": false,
    "editable": false,
    "nbgrader": {
     "grade": false,
     "grade_id": "cell-b9cc3f05e9c599di",
     "locked": true,
     "schema_version": 3,
     "solution": false,
     "task": false
    }
   },
   "source": [
    "**6.4 - Invert values**\n",
    "\n",
    "Implement a function called **invert_values**, that:\n",
    "\n",
    "- receives a numpy array\n",
    "- checks if there are any 0 in the array. If yes return False\n",
    "- otherwise, returns an array with the same shape as the input, where all the values are 1/value"
   ]
  },
  {
   "cell_type": "code",
   "execution_count": null,
   "metadata": {
    "deletable": false,
    "nbgrader": {
     "grade": false,
     "grade_id": "cell-5ab8635824fc5b08",
     "locked": false,
     "schema_version": 3,
     "solution": true,
     "task": false
    }
   },
   "outputs": [],
   "source": [
    "# create function called invert_values\n",
    "\n",
    "# def invert_values(x):\n",
    "# ...\n",
    "# ...\n",
    "\n",
    "# YOUR CODE HERE\n",
    "raise NotImplementedError()"
   ]
  },
  {
   "cell_type": "code",
   "execution_count": null,
   "metadata": {
    "deletable": false,
    "editable": false,
    "nbgrader": {
     "grade": true,
     "grade_id": "cell-aa19bcef0c87f8dh",
     "locked": true,
     "points": 1,
     "schema_version": 3,
     "solution": false,
     "task": false
    }
   },
   "outputs": [],
   "source": [
    "a = np.array([[1, 2, 3], [4, 5, 6], [7, 8, 9]])\n",
    "assert np.array_equal(invert_values(a), 1 / a)\n",
    "\n",
    "a = np.array([[1, 2, 3], [4, 0, 6], [7, 8, 9]])\n",
    "assert not invert_values(a)\n",
    "print(\"Answer is correct. Good Job.\")"
   ]
  },
  {
   "cell_type": "markdown",
   "metadata": {
    "deletable": false,
    "editable": false,
    "nbgrader": {
     "grade": false,
     "grade_id": "cell-1db03a5ab4527508",
     "locked": true,
     "schema_version": 3,
     "solution": false,
     "task": false
    }
   },
   "source": [
    "## Exercise 7 - Git questions"
   ]
  },
  {
   "cell_type": "markdown",
   "metadata": {
    "deletable": false,
    "editable": false,
    "nbgrader": {
     "grade": false,
     "grade_id": "cell-34a0cf5f6ea82467",
     "locked": true,
     "schema_version": 3,
     "solution": false,
     "task": false
    }
   },
   "source": [
    "\n",
    "This exercise is a quiz with 5 multiple answer questions.\n",
    "In the cell below, we've declared a dictionary called `answers`.\n",
    "\n",
    "You should fill in that dictionary with your answers, using as keys the question number, like `question_x`, and as values the number from `1` to `4` that corresponds to the right answer.\n",
    "For each question, you should provide only one answer, i.e, the dict values should have type **int**.\n",
    "\n",
    "For example, if you want to answer Question 1 with choice number 2, then you do:\n",
    "```\n",
    "answers[\"question_1\"] = 2\n",
    "```"
   ]
  },
  {
   "cell_type": "code",
   "execution_count": null,
   "metadata": {
    "deletable": false,
    "editable": false,
    "nbgrader": {
     "grade": false,
     "grade_id": "cell-26b29d349cc9d7a2",
     "locked": true,
     "schema_version": 3,
     "solution": false,
     "task": false
    }
   },
   "outputs": [],
   "source": [
    "answers = {}"
   ]
  },
  {
   "cell_type": "markdown",
   "metadata": {
    "deletable": false,
    "editable": false,
    "nbgrader": {
     "grade": false,
     "grade_id": "cell-fc05cec6e3c03a77",
     "locked": true,
     "schema_version": 3,
     "solution": false,
     "task": false
    }
   },
   "source": [
    "**Question 1** \n",
    "\n",
    "You just found a cool Git repository on GitHub and you want to have it on your local machine.\n",
    "\n",
    "Which command will you use?\n",
    "1. git clone\n",
    "\n",
    "2. git push\n",
    "\n",
    "3. git add\n",
    "\n",
    "4. git pull"
   ]
  },
  {
   "cell_type": "code",
   "execution_count": null,
   "metadata": {
    "deletable": false,
    "nbgrader": {
     "grade": false,
     "grade_id": "cell-944db9daa15f31b3",
     "locked": false,
     "schema_version": 3,
     "solution": true,
     "task": false
    }
   },
   "outputs": [],
   "source": [
    "# answers[\"question_1\"] = ...\n",
    "\n",
    "# YOUR CODE HERE\n",
    "raise NotImplementedError()"
   ]
  },
  {
   "cell_type": "markdown",
   "metadata": {
    "deletable": false,
    "editable": false,
    "nbgrader": {
     "grade": false,
     "grade_id": "cell-9f268ac79c648e8a",
     "locked": true,
     "schema_version": 3,
     "solution": false,
     "task": false
    }
   },
   "source": [
    "**Question 2** \n",
    "\n",
    "On your local machine, you’re tracking a remote repository. You know that people have made some changes to the code in that repo and now you want to have these new changes in your local machine too.\n",
    "\n",
    "In general, what should you do?\n",
    "1. git clone\n",
    "\n",
    "2. git pull\n",
    "\n",
    "3. git push\n",
    "\n",
    "4. git add"
   ]
  },
  {
   "cell_type": "code",
   "execution_count": null,
   "metadata": {
    "deletable": false,
    "nbgrader": {
     "grade": false,
     "grade_id": "cell-944db9daa15f31b2",
     "locked": false,
     "schema_version": 3,
     "solution": true,
     "task": false
    }
   },
   "outputs": [],
   "source": [
    "# answers[\"question_2\"] = ...\n",
    "\n",
    "# YOUR CODE HERE\n",
    "raise NotImplementedError()"
   ]
  },
  {
   "cell_type": "markdown",
   "metadata": {
    "deletable": false,
    "editable": false,
    "nbgrader": {
     "grade": false,
     "grade_id": "cell-d6ed7e61a7ebf26e",
     "locked": true,
     "schema_version": 3,
     "solution": false,
     "task": false
    }
   },
   "source": [
    "**Question 3** \n",
    "\n",
    "You’ve been working on your local machine on some files, and now you’re happy about the changes you’ve made.\n",
    "\n",
    "What’s the first thing that you need to do, for Git to start tracking the changes you’ve made to the files locally?\n",
    "\n",
    "1. git commit\n",
    "\n",
    "2. git stash\n",
    "\n",
    "3. git push\n",
    "\n",
    "4. git add"
   ]
  },
  {
   "cell_type": "code",
   "execution_count": null,
   "metadata": {
    "deletable": false,
    "nbgrader": {
     "grade": false,
     "grade_id": "cell-ca9deae67cb3a590",
     "locked": false,
     "schema_version": 3,
     "solution": true,
     "task": false
    }
   },
   "outputs": [],
   "source": [
    "# answers[\"question_3\"] = ...\n",
    "\n",
    "# YOUR CODE HERE\n",
    "raise NotImplementedError()"
   ]
  },
  {
   "cell_type": "markdown",
   "metadata": {
    "deletable": false,
    "editable": false,
    "nbgrader": {
     "grade": false,
     "grade_id": "cell-f1e04f4a7d886566",
     "locked": true,
     "schema_version": 3,
     "solution": false,
     "task": false
    }
   },
   "source": [
    "**Question 4** \n",
    "\n",
    "What if you’re working on some files but now you need to run a script without your local changes? So, you just want to go back to the original version of the files for a while, and then return and keep working on your changes to the files.\n",
    "\n",
    "1. git add\n",
    "\n",
    "2. git stash\n",
    "\n",
    "3. git push\n",
    "\n",
    "4. git commit"
   ]
  },
  {
   "cell_type": "code",
   "execution_count": null,
   "metadata": {
    "deletable": false,
    "nbgrader": {
     "grade": false,
     "grade_id": "cell-bf6f3cdf2b027dc3",
     "locked": false,
     "schema_version": 3,
     "solution": true,
     "task": false
    }
   },
   "outputs": [],
   "source": [
    "# answers[\"question_4\"] = ...\n",
    "\n",
    "# YOUR CODE HERE\n",
    "raise NotImplementedError()"
   ]
  },
  {
   "cell_type": "markdown",
   "metadata": {
    "deletable": false,
    "editable": false,
    "nbgrader": {
     "grade": false,
     "grade_id": "cell-4f4079d52c1a2baf",
     "locked": true,
     "schema_version": 3,
     "solution": false,
     "task": false
    }
   },
   "source": [
    "**Question 5** \n",
    "\n",
    "What do you need to do next, so that your changes are recorded?\n",
    "\n",
    "1. git stash\n",
    "\n",
    "2. git push\n",
    "\n",
    "3. git add\n",
    "\n",
    "4. git commit"
   ]
  },
  {
   "cell_type": "code",
   "execution_count": null,
   "metadata": {
    "deletable": false,
    "nbgrader": {
     "grade": false,
     "grade_id": "cell-d33f2f38492df790",
     "locked": false,
     "schema_version": 3,
     "solution": true,
     "task": false
    }
   },
   "outputs": [],
   "source": [
    "# answers[\"question_5\"] = ...\n",
    "\n",
    "# YOUR CODE HERE\n",
    "raise NotImplementedError()"
   ]
  },
  {
   "cell_type": "code",
   "execution_count": null,
   "metadata": {
    "deletable": false,
    "editable": false,
    "nbgrader": {
     "grade": true,
     "grade_id": "cell-fde6680579abecb5",
     "locked": true,
     "points": 1,
     "schema_version": 3,
     "solution": false,
     "task": false
    }
   },
   "outputs": [],
   "source": [
    "# Run this cell to see if your answers are correct\n",
    "\n",
    "solution = {\"question_1\": 1, \"question_2\": 2, \"question_3\":4,\"question_4\":2,\"question_5\":4}\n",
    "common_pairs = dict()\n",
    "for key in answers:\n",
    "    if (key in solution and answers[key] == solution[key]):\n",
    "        common_pairs[key] = answers[key]\n",
    "\n",
    "assert len(common_pairs)==5, \"You have \"+ str(5- len(common_pairs))+\" incorrect answer. The answers you were correct are: \\n\"+str((common_pairs))\n",
    "\n",
    "print(\"Answer is correct. Good Job.\")\n"
   ]
  },
  {
   "cell_type": "markdown",
   "metadata": {
    "deletable": false,
    "editable": false,
    "nbgrader": {
     "grade": false,
     "grade_id": "cell-94f1c556ed814e11",
     "locked": true,
     "schema_version": 3,
     "solution": false,
     "task": false
    }
   },
   "source": [
    "---"
   ]
  },
  {
   "cell_type": "markdown",
   "metadata": {
    "deletable": false,
    "editable": false,
    "nbgrader": {
     "grade": false,
     "grade_id": "cell-2569425255820892",
     "locked": true,
     "schema_version": 3,
     "solution": false,
     "task": false
    }
   },
   "source": [
    "### Last but not least, submit your work!"
   ]
  },
  {
   "cell_type": "markdown",
   "metadata": {
    "deletable": false,
    "editable": false,
    "nbgrader": {
     "grade": false,
     "grade_id": "cell-a00654b06ad8cc4f",
     "locked": true,
     "schema_version": 3,
     "solution": false,
     "task": false
    }
   },
   "source": [
    "To submit your work, fill your slack ID in the `slack_id` variable (as a string).\n",
    "\n",
    "Example: `slack_id = \"x-men\"`\n",
    "\n",
    "Help: if you forgot your slack ID, [read this](https://moshfeu.medium.com/how-to-find-my-member-id-in-slack-workspace-d4bba942e38c)."
   ]
  },
  {
   "cell_type": "code",
   "execution_count": null,
   "metadata": {
    "deletable": false,
    "nbgrader": {
     "grade": false,
     "grade_id": "cell-4667211e0ac5a5b3",
     "locked": false,
     "schema_version": 3,
     "solution": true,
     "task": false
    }
   },
   "outputs": [],
   "source": [
    "# Submit your work!\n",
    "\n",
    "#slack_id = \n",
    "\n",
    "# YOUR CODE HERE\n",
    "raise NotImplementedError()"
   ]
  },
  {
   "cell_type": "code",
   "execution_count": null,
   "metadata": {
    "deletable": false,
    "editable": false,
    "nbgrader": {
     "grade": true,
     "grade_id": "cell-8094f49e6b91057e",
     "locked": true,
     "points": 0,
     "schema_version": 3,
     "solution": false,
     "task": false
    }
   },
   "outputs": [],
   "source": [
    "from submit import submit\n",
    "assert isinstance(slack_id, str)\n",
    "\n",
    "slu = 18_1\n",
    "submit(slack_id, slu)"
   ]
  },
  {
   "cell_type": "markdown",
   "metadata": {
    "deletable": false,
    "editable": false,
    "nbgrader": {
     "grade": false,
     "grade_id": "cell-e3da8ea021a752c1",
     "locked": true,
     "schema_version": 3,
     "solution": false,
     "task": false
    }
   },
   "source": [
    "---"
   ]
  }
 ],
 "metadata": {
  "kernelspec": {
   "display_name": "Python 3",
   "language": "python",
   "name": "python3"
  },
  "language_info": {
   "codemirror_mode": {
    "name": "ipython",
    "version": 3
   },
   "file_extension": ".py",
   "mimetype": "text/x-python",
   "name": "python",
   "nbconvert_exporter": "python",
   "pygments_lexer": "ipython3",
   "version": "3.7.9"
  }
 },
 "nbformat": 4,
 "nbformat_minor": 2
}
