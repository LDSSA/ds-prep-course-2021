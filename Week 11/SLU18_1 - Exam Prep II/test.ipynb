{
 "cells": [
  {
   "cell_type": "code",
   "execution_count": null,
   "metadata": {
    "deletable": false,
    "editable": false,
    "nbgrader": {
     "cell_type": "code",
     "checksum": "167dd6e1b2af5215e1d635028ac7213a",
     "grade": false,
     "grade_id": "cell-528ea9078565a6e1",
     "locked": true,
     "schema_version": 3,
     "solution": false,
     "task": false
    }
   },
   "outputs": [],
   "source": [
    "import csv\n",
    "import json\n",
    "import numpy as np"
   ]
  },
  {
   "cell_type": "markdown",
   "metadata": {
    "deletable": false,
    "editable": false,
    "nbgrader": {
     "cell_type": "markdown",
     "checksum": "4367147b7cbcd58e93faeb3315a227b5",
     "grade": false,
     "grade_id": "cell-2f73855a3cbbf843",
     "locked": true,
     "schema_version": 3,
     "solution": false,
     "task": false
    }
   },
   "source": [
    "### Exercise 1 (5 points)\n",
    "\n",
    "This exercise is a quiz with 14 multiple answer questions.\n",
    "In the cell below, we've declared a dictionary called `answers`.\n",
    "\n",
    "You should fill in that dictionary with your answers, using as keys the question number, like `question_x`, and as values the number from `1` to `4` that corresponds to the right answer.\n",
    "For each question, you should provide only one answer, i.e, the dict values should have type **int**.\n",
    "\n",
    "For example, if you want to answer Question 1 with choice number 2, then you do:\n",
    "```\n",
    "answers[\"question_1\"] = 2\n",
    "```"
   ]
  },
  {
   "cell_type": "code",
   "execution_count": null,
   "metadata": {
    "deletable": false,
    "editable": false,
    "nbgrader": {
     "cell_type": "code",
     "checksum": "72eed0037d7c74f44f0586fa81aa98e1",
     "grade": false,
     "grade_id": "cell-845a4d3a7c6fd757",
     "locked": true,
     "schema_version": 3,
     "solution": false,
     "task": false
    }
   },
   "outputs": [],
   "source": [
    "answers = {}"
   ]
  },
  {
   "cell_type": "markdown",
   "metadata": {
    "deletable": false,
    "editable": false,
    "nbgrader": {
     "cell_type": "markdown",
     "checksum": "3735e069c0527e617991de7ab227e666",
     "grade": false,
     "grade_id": "cell-4fee136a9be985d7",
     "locked": true,
     "schema_version": 3,
     "solution": false,
     "task": false
    }
   },
   "source": [
    "#### Question 1\n",
    "In the terminal of a Unix based machine, which of these commands will take you to your home directory?\n",
    "1. cd ..\n",
    "2. ls ..\n",
    "3. cd ~/\n",
    "4. ls ~/"
   ]
  },
  {
   "cell_type": "code",
   "execution_count": null,
   "metadata": {
    "deletable": false,
    "nbgrader": {
     "cell_type": "code",
     "checksum": "a8005de2fcfd4047eee7c283923dc148",
     "grade": false,
     "grade_id": "cell-98b6eeed9f5eb544",
     "locked": false,
     "schema_version": 3,
     "solution": true,
     "task": false
    }
   },
   "outputs": [],
   "source": [
    "# YOUR CODE HERE\n",
    "\n",
    "\n",
    "# answers[\"question_1\"] = ..."
   ]
  },
  {
   "cell_type": "markdown",
   "metadata": {
    "deletable": false,
    "editable": false,
    "nbgrader": {
     "cell_type": "markdown",
     "checksum": "4d244463aed3c7cf08b11967d83befdd",
     "grade": false,
     "grade_id": "cell-844accc86543007c",
     "locked": true,
     "schema_version": 3,
     "solution": false,
     "task": false
    }
   },
   "source": [
    "#### Question 2\n",
    "In the terminal of a Unix based machine, which of these commands would you use to see the entire content of a file named `data.csv`?\n",
    "1. head -5 data.csv\n",
    "2. tail -5 data.csv\n",
    "3. cat data.csv\n",
    "4. ls -la data.csv"
   ]
  },
  {
   "cell_type": "code",
   "execution_count": null,
   "metadata": {
    "deletable": false,
    "nbgrader": {
     "cell_type": "code",
     "checksum": "ba078e820e63715f12ab2cf278194d6b",
     "grade": false,
     "grade_id": "cell-f75169d418f280ba",
     "locked": false,
     "schema_version": 3,
     "solution": true,
     "task": false
    }
   },
   "outputs": [],
   "source": [
    "# YOUR CODE HERE\n",
    "raise NotImplementedError()\n",
    "\n",
    "# answers[\"question_2\"] = ..."
   ]
  },
  {
   "cell_type": "markdown",
   "metadata": {
    "deletable": false,
    "editable": false,
    "nbgrader": {
     "cell_type": "markdown",
     "checksum": "ba7a3134a6de6971ba42fdd057736e3b",
     "grade": false,
     "grade_id": "cell-740c06fb3ff91e5a",
     "locked": true,
     "schema_version": 3,
     "solution": false,
     "task": false
    }
   },
   "source": [
    "#### Question 3\n",
    "After running one of these commands in the terminal of a Unix based machine, you won't have a file named `data.csv` in your current directory. Which command is it?\n",
    "1. cp dataset.csv data.csv\n",
    "2. rm data.csv\n",
    "3. touch data.csv\n",
    "4. mv dataset.csv data.csv"
   ]
  },
  {
   "cell_type": "code",
   "execution_count": null,
   "metadata": {
    "deletable": false,
    "nbgrader": {
     "cell_type": "code",
     "checksum": "377bbdec02c2443067a9b40c872fe290",
     "grade": false,
     "grade_id": "cell-d0ee1b32bb06368b",
     "locked": false,
     "schema_version": 3,
     "solution": true,
     "task": false
    }
   },
   "outputs": [],
   "source": [
    "# YOUR CODE HERE\n",
    "raise NotImplementedError()\n",
    "\n",
    "# answers[\"question_3\"] = ..."
   ]
  },
  {
   "cell_type": "markdown",
   "metadata": {
    "deletable": false,
    "editable": false,
    "nbgrader": {
     "cell_type": "markdown",
     "checksum": "11d55d9930a5f968393c74cd97486696",
     "grade": false,
     "grade_id": "cell-d057502c6df7557e",
     "locked": true,
     "schema_version": 3,
     "solution": false,
     "task": false
    }
   },
   "source": [
    "#### Question 4\n",
    "In the terminal of a Unix based machine, if you want to see the size of the files in the current directory, in a human readable format, which command is the best option?\n",
    "1. ls\n",
    "2. ls .\n",
    "3. ls -la\n",
    "4. ls -lh"
   ]
  },
  {
   "cell_type": "code",
   "execution_count": null,
   "metadata": {
    "deletable": false,
    "nbgrader": {
     "cell_type": "code",
     "checksum": "845012ef9609a5595a5d2bc6c209646c",
     "grade": false,
     "grade_id": "cell-b48ab5ac85e1bf69",
     "locked": false,
     "schema_version": 3,
     "solution": true,
     "task": false
    }
   },
   "outputs": [],
   "source": [
    "# YOUR CODE HERE\n",
    "raise NotImplementedError()\n",
    "\n",
    "# answers[\"question_4\"] = ..."
   ]
  },
  {
   "cell_type": "markdown",
   "metadata": {
    "deletable": false,
    "editable": false,
    "nbgrader": {
     "cell_type": "markdown",
     "checksum": "370a4e4f96d928b7dab1ba1040b08928",
     "grade": false,
     "grade_id": "cell-091fe9ea7062af04",
     "locked": true,
     "schema_version": 3,
     "solution": false,
     "task": false
    }
   },
   "source": [
    "#### Question 5\n",
    "There are certain types of files that you usually don't want to have in your git repositories, like cache files, or local configuration files that contain passwords. In order to have git not tracking these files, you can use the `.gitignore` file. Say you're currently in the root directory of your project, and you have a `.gitignore` file there. In the terminal of a Unix based machine, which of these commands should you use to list the files and see the `.gitignore` file on that list?\n",
    "1. ls -la\n",
    "2. ls .\n",
    "3. ls -lh\n",
    "4. ls -l"
   ]
  },
  {
   "cell_type": "code",
   "execution_count": null,
   "metadata": {
    "deletable": false,
    "nbgrader": {
     "cell_type": "code",
     "checksum": "48b6852b18ec10a985646dc15592c640",
     "grade": false,
     "grade_id": "cell-d53190f9ce4dedbe",
     "locked": false,
     "schema_version": 3,
     "solution": true,
     "task": false
    }
   },
   "outputs": [],
   "source": [
    "# YOUR CODE HERE\n",
    "raise NotImplementedError()\n",
    "\n",
    "# answers[\"question_5\"] = ..."
   ]
  },
  {
   "cell_type": "markdown",
   "metadata": {
    "deletable": false,
    "editable": false,
    "nbgrader": {
     "cell_type": "markdown",
     "checksum": "61a587e80919d4a08fadc1ae5e98335f",
     "grade": false,
     "grade_id": "cell-efd153569f17eddc",
     "locked": true,
     "schema_version": 3,
     "solution": false,
     "task": false
    }
   },
   "source": [
    "#### Question 6\n",
    "Consider the following git commands: `add`, `commit`, `status`, `pull`, `push`. Which is the most natural order to use them?\n",
    "1. `pull` > `status` > `add` > `commit` > `push`\n",
    "2. `status` > `commit` > `add` > `push` > `pull`\n",
    "3. `push` > `add` > `status` > `commit` > `pull`\n",
    "4. `pull` > `push` > `status` > `add` > `commit`"
   ]
  },
  {
   "cell_type": "code",
   "execution_count": null,
   "metadata": {
    "deletable": false,
    "nbgrader": {
     "cell_type": "code",
     "checksum": "a8979a8b2f20d6537de58d139a9931a2",
     "grade": false,
     "grade_id": "cell-44e7a38840f54f6c",
     "locked": false,
     "schema_version": 3,
     "solution": true,
     "task": false
    }
   },
   "outputs": [],
   "source": [
    "# YOUR CODE HERE\n",
    "raise NotImplementedError()\n",
    "\n",
    "# answers[\"question_6\"] = ..."
   ]
  },
  {
   "cell_type": "markdown",
   "metadata": {
    "deletable": false,
    "editable": false,
    "nbgrader": {
     "cell_type": "markdown",
     "checksum": "04f1d2db9642f0748de053e1101f294e",
     "grade": false,
     "grade_id": "cell-c6c87fce1a31df28",
     "locked": true,
     "schema_version": 3,
     "solution": false,
     "task": false
    }
   },
   "source": [
    "#### Question 7\n",
    "How do you change from the `master` branch to an existing `feature_dev` branch?\n",
    "1. git checkout master\n",
    "2. git checkout master feature_dev\n",
    "3. git checkout -b feature_dev\n",
    "4. git checkout feature_dev"
   ]
  },
  {
   "cell_type": "code",
   "execution_count": null,
   "metadata": {
    "deletable": false,
    "nbgrader": {
     "cell_type": "code",
     "checksum": "5fb0f4110d3cef129586777f60ce66b8",
     "grade": false,
     "grade_id": "cell-8f6345404f52ff67",
     "locked": false,
     "schema_version": 3,
     "solution": true,
     "task": false
    }
   },
   "outputs": [],
   "source": [
    "# YOUR CODE HERE\n",
    "raise NotImplementedError()\n",
    "\n",
    "# answers[\"question_7\"] = ..."
   ]
  },
  {
   "cell_type": "markdown",
   "metadata": {
    "deletable": false,
    "editable": false,
    "nbgrader": {
     "cell_type": "markdown",
     "checksum": "652f57189a01dc5daee038d46b5800bb",
     "grade": false,
     "grade_id": "cell-400e482351eb011b",
     "locked": true,
     "schema_version": 3,
     "solution": false,
     "task": false
    }
   },
   "source": [
    "#### Question 8\n",
    "Which of these commands should you use to find the hash of your previous commit?\n",
    "1. git status\n",
    "2. git log\n",
    "3. git diff\n",
    "4. git commit"
   ]
  },
  {
   "cell_type": "code",
   "execution_count": null,
   "metadata": {
    "deletable": false,
    "nbgrader": {
     "cell_type": "code",
     "checksum": "3bbc257f2b710438a5dee93f9c0a8a3d",
     "grade": false,
     "grade_id": "cell-67e3948e70b7e795",
     "locked": false,
     "schema_version": 3,
     "solution": true,
     "task": false
    }
   },
   "outputs": [],
   "source": [
    "# YOUR CODE HERE\n",
    "raise NotImplementedError()\n",
    "\n",
    "# answers[\"question_8\"] = ..."
   ]
  },
  {
   "cell_type": "markdown",
   "metadata": {
    "deletable": false,
    "editable": false,
    "nbgrader": {
     "cell_type": "markdown",
     "checksum": "6c8d4e098816923277affd0a3b685496",
     "grade": false,
     "grade_id": "cell-789c29332373bbf7",
     "locked": true,
     "schema_version": 3,
     "solution": false,
     "task": false
    }
   },
   "source": [
    "#### Question 9\n",
    "Which one of these is false:\n",
    "1. You can use a tuple as a dictionary key.\n",
    "2. You can add new elements to a tuple.\n",
    "3. Tuples can have duplicated elements.\n",
    "4. You can define a tuple with length 0."
   ]
  },
  {
   "cell_type": "code",
   "execution_count": null,
   "metadata": {
    "deletable": false,
    "nbgrader": {
     "cell_type": "code",
     "checksum": "2b30872058c164c070e6649be30a029d",
     "grade": false,
     "grade_id": "cell-fd120313a3617c0f",
     "locked": false,
     "schema_version": 3,
     "solution": true,
     "task": false
    }
   },
   "outputs": [],
   "source": [
    "# YOUR CODE HERE\n",
    "raise NotImplementedError()\n",
    "\n",
    "# answers[\"question_9\"] = ..."
   ]
  },
  {
   "cell_type": "markdown",
   "metadata": {
    "deletable": false,
    "editable": false,
    "nbgrader": {
     "cell_type": "markdown",
     "checksum": "cdf4dd23861044666949995370cb5483",
     "grade": false,
     "grade_id": "cell-dc30f487d5bed6b9",
     "locked": true,
     "schema_version": 3,
     "solution": false,
     "task": false
    }
   },
   "source": [
    "#### Question 10\n",
    "If you want to incorporate the master branch into another branch called `dev`, which 2 commands should you run sequentially?\n",
    "1. git checkout dev; git merge master\n",
    "2. git merge master; git checkout dev\n",
    "3. git checkout master; git merge dev\n",
    "4. git merge dev; git checkout master"
   ]
  },
  {
   "cell_type": "code",
   "execution_count": null,
   "metadata": {
    "deletable": false,
    "nbgrader": {
     "cell_type": "code",
     "checksum": "7e4341b5628f92bc8d4a575eaf5373c6",
     "grade": false,
     "grade_id": "cell-03d49ee095b85596",
     "locked": false,
     "schema_version": 3,
     "solution": true,
     "task": false
    }
   },
   "outputs": [],
   "source": [
    "# YOUR CODE HERE\n",
    "raise NotImplementedError()\n",
    "\n",
    "# answers[\"question_10\"] = ..."
   ]
  },
  {
   "cell_type": "markdown",
   "metadata": {
    "deletable": false,
    "editable": false,
    "nbgrader": {
     "cell_type": "markdown",
     "checksum": "72a9ca4cf9d162680806727c38a814a9",
     "grade": false,
     "grade_id": "cell-2ff278821108b8dc",
     "locked": true,
     "schema_version": 3,
     "solution": false,
     "task": false
    }
   },
   "source": [
    "#### Question 11\n",
    "Which command should you use to bring back changes that you've stashed?\n",
    "1. git stash\n",
    "2. git stash pop\n",
    "3. git revert\n",
    "4. git revert apply"
   ]
  },
  {
   "cell_type": "code",
   "execution_count": null,
   "metadata": {
    "deletable": false,
    "nbgrader": {
     "cell_type": "code",
     "checksum": "ddeb5592f2b68aa14ccf500f8a84e406",
     "grade": false,
     "grade_id": "cell-3753c7fa82eba09c",
     "locked": false,
     "schema_version": 3,
     "solution": true,
     "task": false
    }
   },
   "outputs": [],
   "source": [
    "# YOUR CODE HERE\n",
    "raise NotImplementedError()\n",
    "\n",
    "# answers[\"question_11\"] = ..."
   ]
  },
  {
   "cell_type": "markdown",
   "metadata": {
    "deletable": false,
    "editable": false,
    "nbgrader": {
     "cell_type": "markdown",
     "checksum": "1cf065a048e26b949cd95a75f7692465",
     "grade": false,
     "grade_id": "cell-1bd5d5dc872d9d60",
     "locked": true,
     "schema_version": 3,
     "solution": false,
     "task": false
    }
   },
   "source": [
    "#### Question 12\n",
    "Which one of these files will you always find in the root directory of a Python package?\n",
    "1. README.md\n",
    "2. requirements.txt\n",
    "3. \\_\\_init\\_\\_.py\n",
    "4. setup.py"
   ]
  },
  {
   "cell_type": "code",
   "execution_count": null,
   "metadata": {
    "deletable": false,
    "nbgrader": {
     "cell_type": "code",
     "checksum": "f4677db1fa108269c15bc72f30562716",
     "grade": false,
     "grade_id": "cell-6c9b515dc4382694",
     "locked": false,
     "schema_version": 3,
     "solution": true,
     "task": false
    }
   },
   "outputs": [],
   "source": [
    "# YOUR CODE HERE\n",
    "raise NotImplementedError()\n",
    "\n",
    "# answers[\"question_12\"] = ..."
   ]
  },
  {
   "cell_type": "markdown",
   "metadata": {
    "deletable": false,
    "editable": false,
    "nbgrader": {
     "cell_type": "markdown",
     "checksum": "c986764ebb3be36b2f687150dff854c7",
     "grade": false,
     "grade_id": "cell-0bc5861937b3cb7d",
     "locked": true,
     "schema_version": 3,
     "solution": false,
     "task": false
    }
   },
   "source": [
    "#### Question 13\n",
    "How do you import function `my_function` from module `my_module`?\n",
    "1. import my_function\n",
    "2. import my_module\n",
    "3. from my_function import my_module\n",
    "4. from my_module import my_function"
   ]
  },
  {
   "cell_type": "code",
   "execution_count": null,
   "metadata": {
    "deletable": false,
    "nbgrader": {
     "cell_type": "code",
     "checksum": "0022a01f01eb96bdcbc2ff7e3f0b2822",
     "grade": false,
     "grade_id": "cell-63f33fece990776a",
     "locked": false,
     "schema_version": 3,
     "solution": true,
     "task": false
    }
   },
   "outputs": [],
   "source": [
    "# YOUR CODE HERE\n",
    "raise NotImplementedError()\n",
    "\n",
    "# answers[\"question_13\"] = ..."
   ]
  },
  {
   "cell_type": "markdown",
   "metadata": {
    "deletable": false,
    "editable": false,
    "nbgrader": {
     "cell_type": "markdown",
     "checksum": "603a53e60228a5db2f59ded6afe92199",
     "grade": false,
     "grade_id": "cell-783753cba7a2dd2c",
     "locked": true,
     "schema_version": 3,
     "solution": false,
     "task": false
    }
   },
   "source": [
    "#### Question 14\n",
    "Which one of these should not raise an Error?\n",
    "1. '4' + 'None'\n",
    "2. 4 + None\n",
    "3. 4 + 'None'\n",
    "4. '4' + None"
   ]
  },
  {
   "cell_type": "code",
   "execution_count": null,
   "metadata": {
    "deletable": false,
    "nbgrader": {
     "cell_type": "code",
     "checksum": "3c39c91b708926bf459f1b8ef068a801",
     "grade": false,
     "grade_id": "cell-81aca48ed55e858b",
     "locked": false,
     "schema_version": 3,
     "solution": true,
     "task": false
    }
   },
   "outputs": [],
   "source": [
    "# YOUR CODE HERE\n",
    "raise NotImplementedError()\n",
    "\n",
    "# answers[\"question_14\"] = ..."
   ]
  },
  {
   "cell_type": "code",
   "execution_count": null,
   "metadata": {
    "deletable": false,
    "editable": false,
    "nbgrader": {
     "cell_type": "code",
     "checksum": "4f6d02f25c7c29f5c95e0c64c828aedb",
     "grade": true,
     "grade_id": "cell-1daf63702b1b0228",
     "locked": true,
     "points": 5,
     "schema_version": 3,
     "solution": false,
     "task": false
    }
   },
   "outputs": [],
   "source": [
    "# This cell runs some hidden tests.\n",
    "# To see how much you scored in this question, please submit your notebook in the portal.\n"
   ]
  },
  {
   "cell_type": "markdown",
   "metadata": {
    "deletable": false,
    "editable": false,
    "nbgrader": {
     "cell_type": "markdown",
     "checksum": "5a1644f5d02c318fa290091199a6277d",
     "grade": false,
     "grade_id": "cell-bc7df0ba9c5df93a",
     "locked": true,
     "schema_version": 3,
     "solution": false,
     "task": false
    }
   },
   "source": [
    "### Exercise 2\n",
    "\n",
    "Consider a csv file with four columns: `city`, `latitude`, `longitude`, `country`.\n",
    "\n",
    "File `cities_locations.csv` is an example of such file and was included in the zip file you downloaded with this notebook, so you can preview it using some command line arguments."
   ]
  },
  {
   "cell_type": "markdown",
   "metadata": {
    "deletable": false,
    "editable": false,
    "nbgrader": {
     "cell_type": "markdown",
     "checksum": "7352381658a9e3baf1c0f4641e31d323",
     "grade": false,
     "grade_id": "cell-8589bdd23fda251c",
     "locked": true,
     "schema_version": 3,
     "solution": false,
     "task": false
    }
   },
   "source": [
    "#### Part I (2 points)\n",
    "\n",
    "Implement a function that reads a file with the same format as the `cities_locations.csv` file, and stores the data in a dictionary with the following structure:\n",
    "\n",
    "```\n",
    "{\n",
    "    \"city_name\": {\n",
    "        \"idx\": row number in the input file, not considering the header,\n",
    "               i.e, the first row with data values has idx=0 (type: int),\n",
    "        \"lat\": latitude value (type: float),\n",
    "        \"lng\": longitude value (type: float),\n",
    "        \"country\": country (type: str)\n",
    "    },\n",
    "}\n",
    "\n",
    "```\n",
    "\n",
    "The function should be called `read_cities`, receives an argument called `filepath` (which is the file that the function should read the data from), and returns the dictionary that was created."
   ]
  },
  {
   "cell_type": "code",
   "execution_count": null,
   "metadata": {
    "deletable": false,
    "nbgrader": {
     "cell_type": "code",
     "checksum": "1b9739d71d69631d1125cbc0ea142034",
     "grade": false,
     "grade_id": "cell-622c6adc26159244",
     "locked": false,
     "schema_version": 3,
     "solution": true,
     "task": false
    }
   },
   "outputs": [],
   "source": [
    "def read_cities(filepath):\n",
    "    \"\"\"\n",
    "    Reads the file in filepath, parses it and returns the data in a dictionary.\n",
    "\n",
    "    Parameters:\n",
    "    filepath (str): Path to the input file to be parsed.\n",
    "\n",
    "    Returns:\n",
    "    cities_parsed_data (dict): Cities locations dataset stored as a dictionary, where the keys are city names\n",
    "          and the values are data about the city.\n",
    "    \"\"\"\n",
    "    \n",
    "    # YOUR CODE HERE\n",
    "    raise NotImplementedError()"
   ]
  },
  {
   "cell_type": "code",
   "execution_count": null,
   "metadata": {
    "deletable": false,
    "editable": false,
    "nbgrader": {
     "cell_type": "code",
     "checksum": "92c2f0803719ff7b5e39576ce6f44188",
     "grade": true,
     "grade_id": "cell-6c24a4ad6f30ce55",
     "locked": true,
     "points": 2,
     "schema_version": 3,
     "solution": false,
     "task": false
    }
   },
   "outputs": [],
   "source": [
    "cities_locations_data = read_cities('cities_locations.csv')\n",
    "\n",
    "assert len(cities_locations_data) == 10\n",
    "\n",
    "assert 'Barcelona' in cities_locations_data\n",
    "barcelona = cities_locations_data['Barcelona']\n",
    "assert barcelona['idx'] == 5\n",
    "assert barcelona['country'] == 'Spain'\n",
    "np.testing.assert_almost_equal(barcelona['lat'], 41.3833, decimal=3)\n",
    "np.testing.assert_almost_equal(barcelona['lng'], 2.1834, decimal=3)\n",
    "\n",
    "\n",
    "from more_tests import test_exercise_2_I\n",
    "test_exercise_2_I(read_cities)"
   ]
  },
  {
   "cell_type": "markdown",
   "metadata": {
    "deletable": false,
    "editable": false,
    "nbgrader": {
     "cell_type": "markdown",
     "checksum": "6e5eefb2c73bcfeffa3d74a938d4f5be",
     "grade": false,
     "grade_id": "cell-84df9405332848ae",
     "locked": true,
     "schema_version": 3,
     "solution": false,
     "task": false
    }
   },
   "source": [
    "#### Part II (3 points)\n",
    "\n",
    "We want to calculate the distance in km between each pair of cities from our dataset, and store this in a numpy array.\n",
    "\n",
    "In order to calculate these distances, you should use the **geodesic** function from the python package [geopy](https://pypi.org/project/geopy/).\n",
    "\n",
    "You'll need to read the package's docs, in order to install it in your local environment and to learn how to use the **geodesic** function. The version of geopy that is installed in our grader is `1.22.0`, so, to make sure that you'll have the same behaviour in your local environment and in our grader, make sure to install the same version.\n",
    "\n",
    "The matrix with the distances will have shape `(n_cities, n_cities)`, where `n_cities` is the number of cities in the dataset. Each city's position in the matrix's rows and columns should be the `idx` value from the dataset. \n",
    "\n",
    "Implement a function called `create_dist_matrix` that receives as input a dictionary like the one we created in the first part of this exercise, and returns the numpy array representing the distances matrix."
   ]
  },
  {
   "cell_type": "code",
   "execution_count": null,
   "metadata": {
    "deletable": false,
    "nbgrader": {
     "cell_type": "code",
     "checksum": "37419e5b69eba275af5f61e54dccd280",
     "grade": false,
     "grade_id": "cell-7854488ee93d67b6",
     "locked": false,
     "schema_version": 3,
     "solution": true,
     "task": false
    }
   },
   "outputs": [],
   "source": [
    "def create_dist_matrix(cities_data):\n",
    "    \"\"\"\n",
    "    Computes the geodesic distance between each pair of cities in the input dataset, and returns a matrix with the\n",
    "    computed distances.\n",
    "\n",
    "    Parameters:\n",
    "    cities_data (dict): Dictionary with the city locations dataset.\n",
    "\n",
    "    Returns:\n",
    "    matrix (np.array): Matrix with shape (n_cities, n_cities) where the value in position (i, j) represents\n",
    "        the geodesic distance in km between city_i and city_j.\n",
    "    \"\"\"\n",
    "    \n",
    "    # YOUR CODE HERE\n",
    "    raise NotImplementedError()"
   ]
  },
  {
   "cell_type": "code",
   "execution_count": null,
   "metadata": {
    "deletable": false,
    "editable": false,
    "nbgrader": {
     "cell_type": "code",
     "checksum": "048b6646312fa95b80ecaeed371ead78",
     "grade": true,
     "grade_id": "cell-56eb4a74f3544d03",
     "locked": true,
     "points": 3,
     "schema_version": 3,
     "solution": false,
     "task": false
    }
   },
   "outputs": [],
   "source": [
    "cities_locations_data = {\n",
    "    'Rome': {'idx': 0, 'lat': 41.896, 'lng': 12.4833, 'country': 'Italy'},\n",
    "    'Milan': {'idx': 1, 'lat': 45.47, 'lng': 9.205, 'country': 'Italy'},\n",
    "    'Lisbon': {'idx': 2, 'lat': 38.7227, 'lng': -9.1449, 'country': 'Portugal'},\n",
    "    'Porto': {'idx': 3, 'lat': 41.15, 'lng': -8.62, 'country': 'Portugal'},\n",
    "    'Madrid': {'idx': 4, 'lat': 40.4, 'lng': -3.6834, 'country': 'Spain'},\n",
    "    'Barcelona': {'idx': 5, 'lat': 41.3833, 'lng': 2.1834, 'country': 'Spain'}\n",
    "}\n",
    "\n",
    "dists = create_dist_matrix(cities_locations_data)\n",
    "\n",
    "assert type(dists) == np.ndarray\n",
    "assert dists.shape == (6, 6)\n",
    "\n",
    "for i in range(dists.shape[0]):\n",
    "    assert dists[i][i] == 0\n",
    "    \n",
    "np.testing.assert_almost_equal(dists[0][1], 476.93, decimal=1)\n",
    "np.testing.assert_almost_equal(dists[0][5], 859.51, decimal=1)\n",
    "\n",
    "\n",
    "from more_tests import test_exercise_2_II\n",
    "test_exercise_2_II(create_dist_matrix)"
   ]
  },
  {
   "cell_type": "markdown",
   "metadata": {
    "deletable": false,
    "editable": false,
    "nbgrader": {
     "cell_type": "markdown",
     "checksum": "e25aefb79021a3999b2ca66fb2418175",
     "grade": false,
     "grade_id": "cell-4ba93c4331a3e31c",
     "locked": true,
     "schema_version": 3,
     "solution": false,
     "task": false
    }
   },
   "source": [
    "#### Part III (2 points)\n",
    "\n",
    "Create a function called `furthest_cities` that finds in our distances matrix, the pair of cities furthest away from each other.\n",
    "\n",
    "It should return a tuple of city indexes, where the first one is smaller than the second."
   ]
  },
  {
   "cell_type": "code",
   "execution_count": null,
   "metadata": {
    "deletable": false,
    "nbgrader": {
     "cell_type": "code",
     "checksum": "f8ccfa4089fca0a46420a9b1bc78d915",
     "grade": false,
     "grade_id": "cell-29b0e001d3a16b34",
     "locked": false,
     "schema_version": 3,
     "solution": true,
     "task": false
    }
   },
   "outputs": [],
   "source": [
    "def furthest_cities(dist_matrix):\n",
    "    \"\"\"\n",
    "    Finds the pair of cities that is furthest away from each other.\n",
    "\n",
    "    Parameters:\n",
    "    dist_matrix (np.array): Matrix that stores geodesic distances between cities.\n",
    "\n",
    "    Returns:\n",
    "    furthest_cities_idx (tuple): Indexes of the two cities. The first element in the tuple is the lower index. \n",
    "    \"\"\"\n",
    "    \n",
    "    # YOUR CODE HERE\n",
    "    raise NotImplementedError()"
   ]
  },
  {
   "cell_type": "code",
   "execution_count": null,
   "metadata": {
    "deletable": false,
    "editable": false,
    "nbgrader": {
     "cell_type": "code",
     "checksum": "9de5194fdb6dff83f452eea6e3b9204e",
     "grade": true,
     "grade_id": "cell-7a082faf67626b85",
     "locked": true,
     "points": 2,
     "schema_version": 3,
     "solution": false,
     "task": false
    }
   },
   "outputs": [],
   "source": [
    "# Creating a random distances matrix for this test\n",
    "np.random.seed(19)\n",
    "dists = np.random.rand(5, 5) * 1000\n",
    "for i in range(dists.shape[0]):\n",
    "    dists[i][i] = 0\n",
    "    for j in range(dists.shape[1]):\n",
    "        if j > i:\n",
    "            dists[i][j] = dists[j][i]\n",
    "\n",
    "idx_1, idx_2 = furthest_cities(dists)\n",
    "assert idx_1 == 1\n",
    "assert idx_2 == 4\n",
    "\n",
    "\n",
    "from more_tests import test_exercise_2_III\n",
    "test_exercise_2_III(furthest_cities)"
   ]
  },
  {
   "cell_type": "markdown",
   "metadata": {
    "deletable": false,
    "editable": false,
    "nbgrader": {
     "cell_type": "markdown",
     "checksum": "d4188a43cc2c4d05258b5eab9d07f937",
     "grade": false,
     "grade_id": "cell-17a275d699bf540a",
     "locked": true,
     "schema_version": 3,
     "solution": false,
     "task": false
    }
   },
   "source": [
    "### Exercise 3\n",
    "\n",
    "In this exercise, we'll use object oriented programming concepts to model [Pokemons](https://en.wikipedia.org/wiki/Pok%C3%A9mon).\n",
    "\n",
    "In case you're not familiar with Pokemon, they are wild (imaginary) creatures. These are some examples.\n",
    "\n",
    "<img src=\"./images/pokemons.png\" style=\"width:800px\">\n",
    "\n",
    "When they're living in the wild, Pokemon can be captured by Pokemon Trainers. Once they belong to a Trainer, they will obey the Trainer's commands. They're usually sent out to non-lethal battles against other Pokémon, in order to gain experience and level up.\n",
    "\n",
    "<img src=\"./images/battle.png\" style=\"width:300px\">\n",
    "\n",
    "When they reach certain levels, they can undergo a form of metamorphosis and transform into a similar but stronger species of Pokémon: this is called evolution.\n",
    "\n",
    "<img src=\"./images/charmander_evolves.jpg\" style=\"width:350px\">"
   ]
  },
  {
   "cell_type": "markdown",
   "metadata": {
    "deletable": false,
    "editable": false,
    "nbgrader": {
     "cell_type": "markdown",
     "checksum": "1d69525e5e0eb098c4b30fbd8b504951",
     "grade": false,
     "grade_id": "cell-1f2611d8d0e9a610",
     "locked": true,
     "schema_version": 3,
     "solution": false,
     "task": false
    }
   },
   "source": [
    "#### Part I (4 points)\n",
    "\n",
    "Your first assignment is to implement a class that represents a `Pokemon`.\n",
    "\n",
    "You'll need to store the following information about a Pokemon:\n",
    "* `name`: the Pokemon's name.\n",
    "* `max_health`: the number of health points that this Pokemon has with full health.\n",
    "* `speed`: a measure of how fast this Pokemon is. Faster Pokemons usually attack first in battles.\n",
    "* `hp`: current number of health points. Pokemons may lose health points during battles.\n",
    "* `level`: Pokemon's current level. This is a measure of the Pokemon's experience. Pokemons in higher levels have more chances of winning battles.\n",
    "\n",
    "Some additional information:\n",
    "* All the stats points described above (`max_health`, `speed`, `hp`, `level`) should be measured with non-negative integers.\n",
    "* When a Pokemon is born, its `level` is always 1 and its `hp` is always the same as `max_health`, but its `name`, `max_health`and `speed` vary from Pokemon to Pokemon.\n",
    "\n",
    "\n",
    "Our Pokemon class should implement 4 methods, described below.\n",
    "\n",
    "##### 1. Method `is_knocked_out`\n",
    "\n",
    "During battles, Pokemon take damage, which translates into losing health points.\n",
    "Method `is_knocked_out` receives no arguments, and checks whether the Pokemon is knocked out by checking if the Pokemon's `hp` is equal to 0.\n",
    "This method should return a bool.\n",
    "\n",
    "\n",
    "##### 2. Method `level_up`\n",
    "\n",
    "When a Pokemon wins a battle, it will level up.\n",
    "Method `level_up` receives no arguments, and doesn't return anything.\n",
    "\n",
    "This method should:\n",
    "* Increase the Pokemon's `level` by one.\n",
    "* Increase the Pokemon's `max_health` by 20 points.\n",
    "* Increase the Pokemon's `speed` by 10%. But speed must be an integer, so round it down.\n",
    "* It shouldn't change the Pokemon's `hp`!\n",
    "\n",
    "\n",
    "##### 3. Method `take_damage`\n",
    "\n",
    "As explained above, during battles, Pokemon take damage, which translates into losing health points.\n",
    "Method `take_damage` receives as argument the integer `damage_points`, and doesn't return anything.\n",
    "\n",
    "This method should decrease the Pokemon's `hp` by `damage_points`. Make sure that the Pokemon's `hp`doesn't fall below 0.\n",
    "\n",
    "\n",
    "##### 4. Method `attack_damage`\n",
    "\n",
    "This method calculates the number of damage points that our Pokemon's attack will inflict on an enemy Pokemon, during a battle. More experienced Pokemon inflict more damage and have higher chances of having successful attacks than less experienced Pokemon. \n",
    "Method `attack_damage` receives as argument an `enemy_pokemon` (which is another instance of the Pokemon class) and returns an integer representing the number of damage points.\n",
    "\n",
    "This method should compute the damage points in the following way:\n",
    "* Create a variable `level_diff` that stores the difference in levels of the two Pokemon. If our Pokemon is more experienced, `level_diff` should be positive. If our Pokemon is less experienced, `level_diff` should be 0.\n",
    "* Create a variable `max_level` that stores the maximum level between the levels of the two Pokemon.\n",
    "* Create a variable called `p_success`, that represents the probability of success of your Pokemon's attack, and set it to: $$0.5 + \\frac{level\\_diff}{2 * max\\_level}$$\n",
    "* Create a variable called `attack_success`, that represents whether the attack was successful or not. Calculate its value by drawing one sample from a binomial distribution: use numpy's [binomial function](https://numpy.org/doc/stable/reference/random/generated/numpy.random.binomial.html), with parameters `n=1` and `p=p_success`. This function will output a 0 (which means the attack was not successful) or a 1 (which means the attack was successful). \n",
    "* Create a variable called `damage_points`. Calculate its value by multiplying your Pokemon's `level` by `attack_success`.\n",
    "* Return `damage_points`.\n"
   ]
  },
  {
   "cell_type": "code",
   "execution_count": null,
   "metadata": {
    "deletable": false,
    "nbgrader": {
     "cell_type": "code",
     "checksum": "cd5a7394e782b0008d4629496b1f6809",
     "grade": false,
     "grade_id": "cell-25e4812b96a967d8",
     "locked": false,
     "schema_version": 3,
     "solution": true,
     "task": false
    }
   },
   "outputs": [],
   "source": [
    "class Pokemon:\n",
    "    # YOUR CODE HERE\n",
    "    raise NotImplementedError()"
   ]
  },
  {
   "cell_type": "code",
   "execution_count": null,
   "metadata": {
    "deletable": false,
    "editable": false,
    "nbgrader": {
     "cell_type": "code",
     "checksum": "30a15e31b34b903ef2bac34e7aee7ff8",
     "grade": true,
     "grade_id": "cell-92c4e256e70cfb10",
     "locked": true,
     "points": 4,
     "schema_version": 3,
     "solution": false,
     "task": false
    }
   },
   "outputs": [],
   "source": [
    "score = 0\n",
    "\n",
    "try:\n",
    "    pika = Pokemon(name='Pikachu', max_health=20, speed=5)\n",
    "    assert pika.name == 'Pikachu'\n",
    "    assert pika.max_health == 20\n",
    "    assert pika.speed == 5\n",
    "    assert pika.hp == pika.max_health\n",
    "    assert pika.level == 1\n",
    "    assert not pika.is_knocked_out()\n",
    "except AssertionError:\n",
    "    pass\n",
    "else:\n",
    "    score += 1\n",
    "\n",
    "try:\n",
    "    pika.level_up()\n",
    "    assert pika.max_health == 40\n",
    "    assert pika.hp == 20\n",
    "    assert pika.speed == 5\n",
    "    assert pika.level == 2\n",
    "except AssertionError:\n",
    "    pass\n",
    "else:\n",
    "    score += 1\n",
    "\n",
    "\n",
    "try:\n",
    "    enemy = Pokemon(name='Squirtle', max_health=10, speed=10)\n",
    "    np.random.seed(42)\n",
    "    assert pika.attack_damage(enemy) == 2\n",
    "    assert pika.attack_damage(enemy) == 0\n",
    "    assert pika.attack_damage(enemy) == 2\n",
    "\n",
    "    np.random.seed(13)\n",
    "    assert pika.attack_damage(enemy) == 0\n",
    "    assert pika.attack_damage(enemy) == 2\n",
    "    assert pika.attack_damage(enemy) == 0\n",
    "except AssertionError:\n",
    "    pass\n",
    "else:\n",
    "    score += 1\n",
    "\n",
    "try:\n",
    "    pika.take_damage(5)\n",
    "    assert pika.hp == 15\n",
    "\n",
    "    pika.take_damage(20)\n",
    "    assert pika.hp == 0\n",
    "    assert pika.is_knocked_out()\n",
    "except AssertionError:\n",
    "    pass\n",
    "else:\n",
    "    score += 1\n",
    "\n",
    "if score == 0:\n",
    "    raise AssertionError(\"Not enough correct answers to score points :(\")\n",
    "\n",
    "score"
   ]
  },
  {
   "cell_type": "markdown",
   "metadata": {
    "deletable": false,
    "editable": false,
    "nbgrader": {
     "cell_type": "markdown",
     "checksum": "e0ebdd61ba40c6e30a477b7635fb98e1",
     "grade": false,
     "grade_id": "cell-038a08738a966958",
     "locked": true,
     "schema_version": 3,
     "solution": false,
     "task": false
    }
   },
   "source": [
    "#### Part II (2 points)\n",
    "\n",
    "Now we'll implement a battle between two Pokemon.\n",
    "\n",
    "Write a function called `battle` that receives as arguments `p1` and `p2`, both instances of the Pokemon class, and returns the Pokemon that wins the battle and the Pokemon that loses the battle (in this order!).\n",
    "\n",
    "A battle is a sequence of attacks. In the first turn, the Pokemon who attacks is the fastest (if they have the same speed, `p1` attacks first); the slowest Pokemon attacks in the second turn, and then the fastest Pokemon attacks again. No Pokemon is allowed to attack twice, they always switch places as the attacker.\n",
    "\n",
    "In an attack, the attacker inflicts as many damage points as indicated by the `attack_damage` method. Remember that this method has a random component, so you have to explicitly call it everytime the Pokemon attacks.\n",
    "The defender may suffer damage points. In order to record that, you should use the `take_tamage` method.\n",
    "\n",
    "The battle ends as soon as one of the Pokemon is knocked out.\n",
    "\n",
    "Grader Tip: If you see a `KeyboardInterrupt` error on the grader feedback, that is because your cell is taking too long to run, which is probably due to an infinite loop."
   ]
  },
  {
   "cell_type": "code",
   "execution_count": null,
   "metadata": {
    "deletable": false,
    "nbgrader": {
     "cell_type": "code",
     "checksum": "bc39e7bc81faeb80e6fead24e25e871e",
     "grade": false,
     "grade_id": "cell-6ee8d592008072c6",
     "locked": false,
     "schema_version": 3,
     "solution": true,
     "task": false
    }
   },
   "outputs": [],
   "source": [
    "def battle(p1, p2):\n",
    "    \"\"\"\n",
    "    Represents a battle between two Pokemon, where each Pokemon attacks at a time.\n",
    "\n",
    "    Parameters:\n",
    "    p1 (Pokemon): A Pokemon fighting in the battle.\n",
    "    p2 (Pokemon): The other Pokemon fighting in the battle.\n",
    "\n",
    "    Returns:\n",
    "    winner (Pokemon): The winner Pokemon\n",
    "    loser (Pokemon): The loser Pokemon\n",
    "    \"\"\"    \n",
    "    # YOUR CODE HERE\n",
    "    raise NotImplementedError()"
   ]
  },
  {
   "cell_type": "code",
   "execution_count": null,
   "metadata": {
    "deletable": false,
    "editable": false,
    "nbgrader": {
     "cell_type": "code",
     "checksum": "2477c539ead021083fe26398848fbf7b",
     "grade": true,
     "grade_id": "cell-b055a1cab77f20ad",
     "locked": true,
     "points": 2,
     "schema_version": 3,
     "solution": false,
     "task": false
    }
   },
   "outputs": [],
   "source": [
    "pika = Pokemon(name='Pikachu', max_health=20, speed=5)\n",
    "squirtle = Pokemon(name='Squirtle', max_health=10, speed=10)\n",
    "\n",
    "np.random.seed(19)\n",
    "winner, loser = battle(pika, squirtle)\n",
    "\n",
    "assert winner.name == \"Pikachu\"\n",
    "assert loser.name == \"Squirtle\"\n",
    "assert winner.hp == 15\n",
    "assert loser.hp == 0\n",
    "\n",
    "from more_tests import test_exercise_3_II\n",
    "test_exercise_3_II(battle, Pokemon)"
   ]
  },
  {
   "cell_type": "markdown",
   "metadata": {
    "deletable": false,
    "editable": false,
    "nbgrader": {
     "cell_type": "markdown",
     "checksum": "a35c24076dd08dddea31eb5ef3c5ffa5",
     "grade": false,
     "grade_id": "cell-3deddd603f411b0a",
     "locked": true,
     "schema_version": 3,
     "solution": false,
     "task": false
    }
   },
   "source": [
    "### Exercise 4\n",
    "\n",
    "Consider that you have a matrix, that represents a field, where you can go for a walk.\n",
    "\n",
    "In order to refer to a specific position in the matrix, we'll use the notation `(i,j)`, where `i` represents the row number, `j` represents the column number, using 0-indexing (the first row has index 0).\n",
    "\n",
    "You start walking at some position in the matrix, and the value on that position will guide you towards your next position. The possible values in the matrix are:\n",
    "* `l`: means that you'll move to the column on your **left**, in the same row\n",
    "* `r`: means that you'll move to the column on your **right**, in the same row\n",
    "* `u`: means that you'll move to the row **above**, in the same column\n",
    "* `d`: means that you'll move to the row **below**, in the same column\n",
    "\n",
    "\n",
    "You'll be able to keep walking until you're guided to a position outside the boundaries of the field.\n",
    "\n",
    "Let's see an example. This is a field.\n",
    "\n",
    "<code>[['r', 'r', 'd', 'l', 'u'],\n",
    " ['r', 'd', 'l', 'd', 'd'],\n",
    " ['u', 'r', 'd', 'r', 'l'],\n",
    " ['l', 'd', 'd', 'u', 'r']]\n",
    "</code>\n",
    "\n",
    "If you start your walk in position (0,0), your path will be:\n",
    "* `(0,0)`\n",
    "* `r` => `(0,1)`\n",
    "* `r` => `(0,2)`\n",
    "* `d` => `(1,2)`\n",
    "* `l` => `(1,1)`\n",
    "* `d` => `(2,1)`\n",
    "* `r` => `(2,2)`\n",
    "* `d` => `(3,2)`\n",
    "* `d` => `end`\n",
    "\n",
    "In red you can see the positions where you passed.\n",
    "\n",
    "<code>[[<font color='red'>'r'</font>, <font color='red'>'r'</font>, <font color='red'>'d'</font>, 'l', 'u'],\n",
    " ['r', <font color='red'>'d'</font>, <font color='red'>'l'</font>, 'd', 'd'],\n",
    " ['u', <font color='red'>'r'</font>, <font color='red'>'d'</font>, 'r', 'l'],\n",
    " ['l', 'd', <font color='red'>'d'</font>, 'u', 'r']]\n",
    "</code>\n",
    "\n",
    "The length of your path is the number of positions where you have been in the field.\n",
    "The path in the example has length 8.\n",
    "\n",
    "***\n",
    "\n",
    "#### Part I (1 point)\n",
    "\n",
    "Write a function, named `walk` that receives as arguments:\n",
    "* a numpy matrix that represents a **field**, and\n",
    "* a tuple `(i, j)` that represents a **starting position**,\n",
    "\n",
    "and returns the length of the path that you get if you start walking at the starting position and continue until you leave the field.\n",
    "\n",
    "You can assume that the field is not empty, i.e, it has at least one position, and that the starting position is within the field.\n",
    "\n",
    "\n",
    "#### Part II (1 point)\n",
    "\n",
    "For an extra point, add the following validations to your function.\n",
    "\n",
    "If you find an unknown instruction while walking your path, raise a **ValueError** with message: `Invalid instruction found on position (i, j)`, where `i` and `j` are the row and column numbers of the position where you found the unknown instruction. If the field has unknown instructions, but you don't stumble upon them while walking, no exception should be raised.\n",
    "\n",
    "And be careful! Your field might tell you to start walking in circles! If during your walk, you find yourself in a position where you have been before, you should raise a **ValueError** with message: `\"I'm running in circles\"`\n",
    "\n",
    "Grader Tip: If you see a `KeyboardInterrupt` error on the grader feedback, that is because your cell is taking too long to run, which is probably due to an infinite loop."
   ]
  },
  {
   "cell_type": "code",
   "execution_count": null,
   "metadata": {
    "deletable": false,
    "nbgrader": {
     "cell_type": "code",
     "checksum": "b4e74fd27b964661b9ff2f960c8d4e07",
     "grade": false,
     "grade_id": "cell-5a7eaacbb7097d35",
     "locked": false,
     "schema_version": 3,
     "solution": true,
     "task": false
    }
   },
   "outputs": [],
   "source": [
    "def walk(field, start):\n",
    "    \"\"\"\n",
    "    Returns the length of the path that begins on a starting position and continues according to the\n",
    "    field's instructions.\n",
    "\n",
    "    Parameters:\n",
    "    field (np.array): Matrix with instructions that describes a field where one can go for a walk.\n",
    "    start (tuple):    Position where to start walking.\n",
    "                      The first value is the row index and the second is the column index.\n",
    "\n",
    "    Returns:\n",
    "    walk_length (int): Length of the walk.\n",
    "    \n",
    "    Raises:\n",
    "    ValueError: if an invalid instruction is found.\n",
    "    ValueError: if the walk has a loop.\n",
    "    \"\"\"\n",
    "    \n",
    "    # YOUR CODE HERE\n",
    "### BE"
   ]
  },
  {
   "cell_type": "code",
   "execution_count": null,
   "metadata": {
    "deletable": false,
    "editable": false,
    "nbgrader": {
     "cell_type": "code",
     "checksum": "348dc635f3ec83c5c1bceebf581d4504",
     "grade": true,
     "grade_id": "cell-2eb102f666a51257",
     "locked": true,
     "points": 1,
     "schema_version": 3,
     "solution": false,
     "task": false
    }
   },
   "outputs": [],
   "source": [
    "# test field with single position\n",
    "field = np.array([['d']])\n",
    "assert walk(field, (0, 0)) == 1\n",
    "\n",
    "\n",
    "# test field with successful walk\n",
    "field = np.array([\n",
    "    ['d', 'l', 'd'],\n",
    "    ['d', 'u', 'l'],\n",
    "    ['d', 'r', 'd'],\n",
    "    ['d', 'd', 'd'],\n",
    "])\n",
    "assert walk(field, (1, 2)) == 7\n",
    "assert walk(field, (2, 2)) == 2\n",
    "\n",
    "\n",
    "# test another field with successful walk\n",
    "field = np.array([\n",
    "    ['r', 'r', 'd', 'l', 'u'],\n",
    "    ['r', 'd', 'l', 'd', 'd'],\n",
    "    ['u', 'r', 'd', 'r', 'l'],\n",
    "    ['l', 'd', 'd', 'u', 'r'],\n",
    "])\n",
    "assert walk(field, (0, 0)) == 8"
   ]
  },
  {
   "cell_type": "code",
   "execution_count": null,
   "metadata": {
    "deletable": false,
    "editable": false,
    "nbgrader": {
     "cell_type": "code",
     "checksum": "d19aad7b1614392a2e58fd3c20b33b61",
     "grade": true,
     "grade_id": "cell-8da0084a934a316d",
     "locked": true,
     "points": 1,
     "schema_version": 3,
     "solution": false,
     "task": false
    }
   },
   "outputs": [],
   "source": [
    "# test field with loop\n",
    "field = np.array([\n",
    "        ['r', 'r', 'd', 'l', 'u'],\n",
    "        ['r', 'd', 'l', 'd', 'd'],\n",
    "        ['u', 'r', 'd', 'r', 'l'],\n",
    "        ['l', 'd', 'd', 'u', 'r'],\n",
    "    ])\n",
    "try:\n",
    "    walk(field, (1, 3))\n",
    "    raise AssertionError(\"Should raise a ValueError when running in circles!\")\n",
    "except ValueError as e:\n",
    "    assert str(e) == \"I'm running in circles\"\n",
    "else:\n",
    "    raise AssertionError(\"Should have raised the right error type!\")\n",
    "\n",
    "# test another field with loop\n",
    "field = np.array([\n",
    "    ['d', 'l', 'l'],\n",
    "    ['d', 'w', 'u'],\n",
    "    ['d', 'u', 'u'],\n",
    "    ['r', 'r', 'u'],\n",
    "])\n",
    "try:\n",
    "    walk(field, (3, 1))\n",
    "    raise AssertionError(\"Should raise a ValueError when running in circles!\")\n",
    "except ValueError as e:\n",
    "    assert str(e) == \"I'm running in circles\"\n",
    "else:\n",
    "    raise AssertionError(\"Should have raised the right error type!\")\n",
    "\n",
    "# test field with error\n",
    "field = np.array([\n",
    "    ['d', 'l', 'l'],\n",
    "    ['d', 'w', 'u'],\n",
    "    ['d', 'u', 'u'],\n",
    "    ['r', 'r', 'u'],\n",
    "])\n",
    "try:\n",
    "    walk(field, (2, 1))\n",
    "    raise AssertionError(\"Should raise a ValueError when an invalid instruction is found!\")\n",
    "except ValueError as e:\n",
    "    assert str(e) == \"Invalid instruction found on position (1, 1)\"\n",
    "else:\n",
    "    raise AssertionError(\"Should have raised the right error type!\")\n",
    "\n",
    "# test another field with error\n",
    "field_with_error = np.array([\n",
    "    ['r', 'x', 'd', 'l', 'u'],\n",
    "    ['r', 'd', 'l', 'd', 'd'],\n",
    "    ['u', 'r', 'd', 'r', 'l'],\n",
    "    ['l', 'd', 'd', 'u', 'r'],\n",
    "])\n",
    "try:\n",
    "    walk(field_with_error, (0, 0))\n",
    "    raise AssertionError(\"Should raise a ValueError when an invalid instruction is found!\")\n",
    "except ValueError as e:\n",
    "    assert str(e) == \"Invalid instruction found on position (0, 1)\"\n",
    "else:\n",
    "    raise AssertionError(\"Should have raised the right error type!\")"
   ]
  },
  {
   "cell_type": "markdown",
   "metadata": {},
   "source": [
    "---"
   ]
  }
 ],
 "metadata": {
  "kernelspec": {
   "display_name": "Python 3",
   "language": "python",
   "name": "python3"
  },
  "language_info": {
   "codemirror_mode": {
    "name": "ipython",
    "version": 3
   },
   "file_extension": ".py",
   "mimetype": "text/x-python",
   "name": "python",
   "nbconvert_exporter": "python",
   "pygments_lexer": "ipython3",
   "version": "3.7.9"
  }
 },
 "nbformat": 4,
 "nbformat_minor": 2
}
