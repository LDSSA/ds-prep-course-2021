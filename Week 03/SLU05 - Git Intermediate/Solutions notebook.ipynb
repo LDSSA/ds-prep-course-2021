{
 "cells": [
  {
   "cell_type": "markdown",
   "id": "liquid-involvement",
   "metadata": {
    "nbgrader": {
     "grade": false,
     "grade_id": "cell-1d313d186fc772db",
     "locked": true,
     "schema_version": 3,
     "solution": false,
     "task": false
    }
   },
   "source": [
    "# SLU05 - Git Intermediate"
   ]
  },
  {
   "cell_type": "markdown",
   "id": "dressed-tulsa",
   "metadata": {
    "nbgrader": {
     "grade": false,
     "grade_id": "cell-fbc7910349a9ed9d",
     "locked": true,
     "schema_version": 3,
     "solution": false,
     "task": false
    }
   },
   "source": [
    "I hope you enjoyed the **Learning Notebook**! Like SLU03, the Exercise Notebook is multiple choice so it's really important that you have a good grasp of everything before starting it. \n",
    "\n",
    "**Good luck!**"
   ]
  },
  {
   "cell_type": "code",
   "execution_count": 3,
   "id": "complex-variety",
   "metadata": {
    "nbgrader": {
     "grade": false,
     "grade_id": "cell-5dcb085a3b60553b",
     "locked": true,
     "schema_version": 3,
     "solution": false,
     "task": false
    }
   },
   "outputs": [],
   "source": [
    "import hashlib\n",
    "import requests\n",
    "from submit import submit"
   ]
  },
  {
   "cell_type": "markdown",
   "id": "mechanical-aerospace",
   "metadata": {
    "nbgrader": {
     "grade": false,
     "grade_id": "cell-85683aa10c499f50",
     "locked": true,
     "schema_version": 3,
     "solution": false,
     "task": false
    }
   },
   "source": [
    "## Exercise 1: Git remotes\n",
    "\n",
    "\n",
    "What is the main purpose of a remote repository?\n",
    "- Option **A**: To serve as a backup to your local files.\n",
    "- Option **B**: Tracking and committing changes to your files.\n",
    "- Option **C**: Sharing work with your teammates.\n",
    "- Option **D**: See who committed what changes to a project and hunt them down."
   ]
  },
  {
   "cell_type": "code",
   "execution_count": 3,
   "id": "marine-runner",
   "metadata": {
    "nbgrader": {
     "grade": false,
     "grade_id": "cell-14d1430f3cf9833a",
     "locked": false,
     "schema_version": 3,
     "solution": true,
     "task": false
    }
   },
   "outputs": [],
   "source": [
    "# Assign to the variable exercise_1 the option letter that you think is correct.\n",
    "\n",
    "### BEGIN SOLUTION\n",
    "exercise_1 = \"B\" \n",
    "### END SOLUTION\n",
    "# exercise_1 ="
   ]
  },
  {
   "cell_type": "code",
   "execution_count": 4,
   "id": "domestic-designation",
   "metadata": {
    "nbgrader": {
     "grade": true,
     "grade_id": "cell-fccabbb7b3b73a9a",
     "locked": true,
     "points": 2,
     "schema_version": 3,
     "solution": false,
     "task": false
    }
   },
   "outputs": [],
   "source": [
    "exercise_1_hash = \"df7e70e5021544f4834bbee64a9e3789febc4be81470df629cad6ddb03320a5c\"\n",
    "options = [\"A\", \"B\", \"C\", \"D\"]\n",
    "assert isinstance(exercise_1,str), \"The variable should be a string.\"\n",
    "assert exercise_1.isupper(), \"Please use uppercase for your answer.\"\n",
    "assert exercise_1.upper() in options, \"Please choose one of the options: %s\" % ', '.join(str(opt) for opt in options)\n",
    "assert exercise_1_hash == hashlib.sha256(bytes(exercise_1, encoding='utf8')).hexdigest(), \"Wrong answer\""
   ]
  },
  {
   "cell_type": "markdown",
   "id": "progressive-flexibility",
   "metadata": {
    "nbgrader": {
     "grade": false,
     "grade_id": "cell-a9aeab9c291f003e",
     "locked": true,
     "schema_version": 3,
     "solution": false,
     "task": false
    }
   },
   "source": [
    "## Exercise 2: Git remotes\n",
    "\n",
    "What is the function of `git push`?\n",
    "\n",
    "- Option **A**: Updates remote refs along with associated objects.\n",
    "- Option **B**: Push all changes to the remote branch\n",
    "- Option **C**: Push all changes to the main branch\n",
    "- Option **D**: Updates local refs along with associated objects"
   ]
  },
  {
   "cell_type": "code",
   "execution_count": 7,
   "id": "aware-marble",
   "metadata": {
    "nbgrader": {
     "grade": false,
     "grade_id": "cell-349ecbd85ce6985f",
     "locked": false,
     "schema_version": 3,
     "solution": true,
     "task": false
    }
   },
   "outputs": [],
   "source": [
    "# Assign to the variable exercise_2 the option letter that you think is correct.\n",
    "\n",
    "### BEGIN SOLUTION\n",
    "exercise_2 = \"A\" \n",
    "### END SOLUTION\n",
    "# exercise_2 ="
   ]
  },
  {
   "cell_type": "code",
   "execution_count": 8,
   "id": "covered-imaging",
   "metadata": {
    "nbgrader": {
     "grade": true,
     "grade_id": "cell-dbaa29386c745914",
     "locked": true,
     "points": 2,
     "schema_version": 3,
     "solution": false,
     "task": false
    }
   },
   "outputs": [],
   "source": [
    "exercise_2_hash = \"559aead08264d5795d3909718cdd05abd49572e84fe55590eef31a88a08fdffd\"\n",
    "options = [\"A\", \"B\", \"C\", \"D\"]\n",
    "assert isinstance(exercise_2,str), \"The variable should be a string.\"\n",
    "assert exercise_2.isupper(), \"Please use uppercase for your answer.\"\n",
    "assert exercise_2.upper() in options, \"Please choose one of the options: %s\" % ', '.join(str(opt) for opt in options)\n",
    "assert exercise_2_hash == hashlib.sha256(bytes(exercise_2, encoding='utf8')).hexdigest(), \"Wrong answer\""
   ]
  },
  {
   "cell_type": "markdown",
   "id": "electrical-plain",
   "metadata": {
    "nbgrader": {
     "grade": false,
     "grade_id": "cell-7bcc368d90d896e1",
     "locked": true,
     "schema_version": 3,
     "solution": false,
     "task": false
    }
   },
   "source": [
    "## Exercise 3: Git remotes\n",
    "\n",
    "What is the function of `git clone`?\n",
    "\n",
    "- Option **A**: Creates a new Git repository on your local machine\n",
    "- Option **B**: Creates a copy of an existing Git repository on your remote repository\n",
    "- Option **C**: Creates a copy of the files in a Git repository, without any history \n",
    "- Option **D**: Creates a copy of an existing Git repository on your local machine"
   ]
  },
  {
   "cell_type": "code",
   "execution_count": 9,
   "id": "visible-quebec",
   "metadata": {
    "nbgrader": {
     "grade": false,
     "grade_id": "cell-548374c265341b10",
     "locked": false,
     "schema_version": 3,
     "solution": true,
     "task": false
    }
   },
   "outputs": [],
   "source": [
    "# Assign to the variable exercise_3 the option letter that you think is correct.\n",
    "\n",
    "### BEGIN SOLUTION\n",
    "exercise_3 = \"D\" \n",
    "### END SOLUTION\n",
    "# exercise_3 ="
   ]
  },
  {
   "cell_type": "code",
   "execution_count": 11,
   "id": "white-papua",
   "metadata": {
    "nbgrader": {
     "grade": true,
     "grade_id": "cell-9bb7f9bb7974e4d7",
     "locked": true,
     "points": 4,
     "schema_version": 3,
     "solution": false,
     "task": false
    }
   },
   "outputs": [],
   "source": [
    "exercise_3_hash = \"3f39d5c348e5b79d06e842c114e6cc571583bbf44e4b0ebfda1a01ec05745d43\"\n",
    "options = [\"A\", \"B\", \"C\", \"D\"]\n",
    "assert isinstance(exercise_3,str), \"The variable should be a string.\"\n",
    "assert exercise_3.isupper(), \"Please use uppercase for your answer.\"\n",
    "assert exercise_3.upper() in options, \"Please choose one of the options: %s\" % ', '.join(str(opt) for opt in options)\n",
    "assert exercise_3_hash == hashlib.sha256(bytes(exercise_3, encoding='utf8')).hexdigest(), \"Wrong answer\""
   ]
  },
  {
   "cell_type": "markdown",
   "id": "powerful-thought",
   "metadata": {
    "nbgrader": {
     "grade": false,
     "grade_id": "cell-c082b55e237c4ea8",
     "locked": true,
     "schema_version": 3,
     "solution": false,
     "task": false
    }
   },
   "source": [
    "## Exercise 4: Git remotes\n",
    "\n",
    "Did your review how to create and clone a repository [here](https://github.com/LDSSA/ds-prep-course-2021#12-setup-git-and-github)? Good!\n",
    "\n",
    "Go to [Github](https://github.com/), and create a new repository called *SLU05* and then clone it to your machine.\n",
    "\n",
    "**Important:** Make sure you set your repository to *public*!\n",
    "\n",
    "It's the same thing you did for setting up the *ds-prep-workspace* repository, but with a different name:\n",
    "\n",
    "1. You don't need to setup git and Github again, that part is already covered\n",
    "2. Follow the instruction on [Setup your Workspace Repository](https://github.com/LDSSA/ds-prep-course-2021#13-setup-your-workspace-repository), but name your repository *SLU05*\n",
    "3. Follow the instruction on [Cloning the workspace](https://github.com/LDSSA/ds-prep-course-2021#14-clone-the-ds-prep-course-2021-repository) for cloning the remote repository into your machine, but for the repository you've just created.\n",
    "\n",
    "That's it for this exercise. We will use this new repository for the remaining exercises"
   ]
  },
  {
   "cell_type": "code",
   "execution_count": 21,
   "id": "increased-orleans",
   "metadata": {
    "nbgrader": {
     "grade": false,
     "grade_id": "cell-f7886da512b156a0",
     "locked": false,
     "schema_version": 3,
     "solution": true,
     "task": false
    }
   },
   "outputs": [],
   "source": [
    "# Assign to the variable exercise_4 the URL to your SLU05 repository on github, in between quotes\n",
    "\n",
    "### BEGIN SOLUTION\n",
    "exercise_4 = \"https://github.com/LDSSA/ds-prep-course-2021\" \n",
    "### END SOLUTION\n",
    "# exercise_4 = \"\""
   ]
  },
  {
   "cell_type": "code",
   "execution_count": 22,
   "id": "stable-shipping",
   "metadata": {
    "nbgrader": {
     "grade": true,
     "grade_id": "cell-b99b518a1ed4e6d9",
     "locked": true,
     "points": 4,
     "schema_version": 3,
     "solution": false,
     "task": false
    }
   },
   "outputs": [],
   "source": [
    "assert isinstance(exercise_4,str), \"The variable should be a string.\"\n",
    "request = requests.get(exercise_4)\n",
    "assert request.status_code == 200, \"Can't find the repository! Have you set it as public?\""
   ]
  },
  {
   "cell_type": "markdown",
   "id": "reported-eight",
   "metadata": {
    "nbgrader": {
     "grade": false,
     "grade_id": "cell-d1b590dd53743e13",
     "locked": true,
     "schema_version": 3,
     "solution": false,
     "task": false
    }
   },
   "source": [
    "## Exercise 5: Pushing changes into a remote repository\n",
    "\n",
    "Do the following workflow:\n",
    "\n",
    "1. On your **local SLU05 repository**, create a groceries.txt file and add some grocery items to it\n",
    "2. Stage and commit your changes\n",
    "3. You just forgot the butter! Add it to your grocery list (groceries.txt)\n",
    "4. Stage and commit your changes (again!)\n",
    "5. Verify, by using `git status` and `git log`, that you have 2 commits in the local repository that are not in the remote repository\n",
    "6. Push the changes to the remote repository\n",
    "7. Verify, by using `git status` and `git log`, that your local and remote repositories are in sync.\n",
    "\n",
    "\n",
    "**Note:** You don't have to follow the exact workflow above. Feel free to experiment on this one :) The idea is to get used to the commands. You will use them a lot, so start getting that muscle memory now!"
   ]
  },
  {
   "cell_type": "markdown",
   "id": "coupled-guitar",
   "metadata": {
    "nbgrader": {
     "grade": false,
     "grade_id": "cell-ac8b14932dc0f78b",
     "locked": true,
     "schema_version": 3,
     "solution": false,
     "task": false
    }
   },
   "source": [
    "## Exercise 6: Pulling changes from remote\n",
    "\n",
    "Now try to do the same workflow we did on the *learning notebook*:\n",
    "\n",
    "1. Use your browser to go to your SLU repository on Github (probably https://github.com/\"your_github_userid_here\"/SLU05)\n",
    "2. Edit your groceries.txt file on the GitHub website - Your mum wants eggs to make a pudding! ;) \n",
    "3. Commit your changes on the website\n",
    "4. Check, on your machine, that `git status` and `git log` don't show any differences. *If you feel like it, disconnect your computer from the network and check that those commands keep working :)*\n",
    "5. Try using `git remote` to check if the repositories are synced\n",
    "6. Pull the changes you did in the remote into your local repository"
   ]
  },
  {
   "cell_type": "markdown",
   "id": "colored-casino",
   "metadata": {
    "nbgrader": {
     "grade": false,
     "grade_id": "cell-65f3136f6320991a",
     "locked": true,
     "schema_version": 3,
     "solution": false,
     "task": false
    }
   },
   "source": [
    "## Exercise 7. Stash Changes\n",
    "\n",
    "Follow the workflow:\n",
    "\n",
    "1. Create a new file named winelist.txt.\n",
    "2. Add a few wines you'd like to drink (*yey quarantine for making day drinking a thing!*).\n",
    "3. Stash the changes (**hint:** remember that stash does not save untracked files).\n",
    "4. Add a new item to the groceries.txt file (*you always need a massive amount of toilet paper in a global crisis*).\n",
    "5. Commit those changes.\n",
    "6. Pop the changes you have in the stash.\n",
    "7. If you're feeling like it, add a nice bottle of Moscatel to your winelist. When you're ready, commit-\n",
    "8. Check, using whatever method you like, that the local repository is 2 commits ahead of the remote repository\n",
    "9. Push the commits to the remote repository"
   ]
  },
  {
   "cell_type": "code",
   "execution_count": null,
   "id": "guilty-peninsula",
   "metadata": {},
   "outputs": [],
   "source": []
  },
  {
   "cell_type": "markdown",
   "id": "positive-custody",
   "metadata": {
    "nbgrader": {
     "grade": false,
     "grade_id": "cell-e02122ba0ef76457",
     "locked": true,
     "schema_version": 3,
     "solution": false,
     "task": false
    }
   },
   "source": [
    "## Exercise 8. Create and push branches¶\n",
    "Try the following workflow:\n",
    "\n",
    "1. Create a new branch based on main. Name it \"Ubereats\"\n",
    "2. In the new branch create a new file restaurantes_to_try.txt and add some content to it\n",
    "3. Commit the changes and push the branch to the remote\n",
    "4. Check on GitHub that the branch is there"
   ]
  },
  {
   "cell_type": "markdown",
   "id": "victorian-conspiracy",
   "metadata": {
    "nbgrader": {
     "grade": false,
     "grade_id": "cell-94425cb939bc44ed",
     "locked": true,
     "schema_version": 3,
     "solution": false,
     "task": false
    }
   },
   "source": [
    "## Exercise 9. Merging branches\n",
    "**Warning:** I'm leaving out a lot of step-by-step instructions in this exercise and the next one. Remember that the *learning notebook* is your friend\n",
    "\n",
    "1. Merge the branch you created on exercise 7 into main. Verify that it was a **fast-forward** merge.\n",
    "2. Do a 3-way merge of a branch into master. This might be a tough one. Go through the learning notebook carefully. Everything you need is in there.\n",
    "3. Push master to the remote.\n",
    "4. **Bonus:** Do a Google search on how to delete a branch and delete the branches you created, both on the local and remote repositories."
   ]
  },
  {
   "cell_type": "markdown",
   "id": "adequate-linux",
   "metadata": {},
   "source": [
    "## Exercise 10: Collaborating with Git\n",
    "\n",
    "What's the difference between a \"pull request\" and a \"branch\"?\n",
    "\n",
    "**Select the false statement**\n",
    "\n",
    "- Option **A**: A \"branch\" is just a separate version of the code.\n",
    "- Option **B**: A \"pull request\" is when someone who has been working on a project branch wants to merge their work into another branch and requests a code review before doing it.  \n",
    "- Option **C**: You can only do pull requests to the main branch, where you can branch from any other branch, including the main.\n",
    "- Option **D**: A pull request lets the project maintainer know that an update is ready to be integrated"
   ]
  },
  {
   "cell_type": "code",
   "execution_count": 13,
   "id": "injured-boards",
   "metadata": {
    "nbgrader": {
     "grade": false,
     "grade_id": "cell-4fc49f4aad340d87",
     "locked": false,
     "schema_version": 3,
     "solution": true,
     "task": false
    }
   },
   "outputs": [],
   "source": [
    "# Assign to the variable exercise_10 the option letter that you think is correct.\n",
    "\n",
    "### BEGIN SOLUTION\n",
    "exercise_10 = \"C\" \n",
    "### END SOLUTION\n",
    "# exercise_10 ="
   ]
  },
  {
   "cell_type": "code",
   "execution_count": 14,
   "id": "anonymous-solomon",
   "metadata": {
    "nbgrader": {
     "grade": true,
     "grade_id": "cell-813abdc5b03ac7ce",
     "locked": true,
     "points": 4,
     "schema_version": 3,
     "solution": false,
     "task": false
    }
   },
   "outputs": [],
   "source": [
    "exercise_10_hash = \"6b23c0d5f35d1b11f9b683f0b0a617355deb11277d91ae091d399c655b87940d\"\n",
    "options = [\"A\", \"B\", \"C\", \"D\"]\n",
    "assert isinstance(exercise_10,str), \"The variable should be a string.\"\n",
    "assert exercise_10.isupper(), \"Please use uppercase for your answer.\"\n",
    "assert exercise_10.upper() in options, \"Please choose one of the options: %s\" % ', '.join(str(opt) for opt in options)\n",
    "assert exercise_10_hash == hashlib.sha256(bytes(exercise_10, encoding='utf8')).hexdigest(), \"Wrong answer\""
   ]
  },
  {
   "cell_type": "markdown",
   "id": "turned-degree",
   "metadata": {},
   "source": [
    "## Exercise 11: Conflicts\n",
    "\n",
    "How can conflict in git be resolved?\n",
    "\n",
    "**Select the false statement**\n",
    "\n",
    "- Option **A**: You can abort the merge and discard the alterations that are in conflict.\n",
    "- Option **B**: You can dit the files to fix the conflicting changes and then add the resolved files by running `git add`, followed by `git commit`. \n",
    "- Option **C**: You can choose what version you want to keep of the two conflicting branches.\n",
    "- Option **D**: After a conflict is created, you cannot go back to your previous state."
   ]
  },
  {
   "cell_type": "code",
   "execution_count": 16,
   "id": "underlying-belgium",
   "metadata": {
    "nbgrader": {
     "grade": false,
     "grade_id": "cell-bb2837e739fc4c32",
     "locked": false,
     "schema_version": 3,
     "solution": true,
     "task": false
    }
   },
   "outputs": [],
   "source": [
    "# Assign to the variable exercise_11 the option letter that you think is correct.\n",
    "\n",
    "### BEGIN SOLUTION\n",
    "exercise_11 = \"D\" \n",
    "### END SOLUTION\n",
    "# exercise_11 ="
   ]
  },
  {
   "cell_type": "code",
   "execution_count": 17,
   "id": "professional-humor",
   "metadata": {
    "nbgrader": {
     "grade": true,
     "grade_id": "cell-9e36d4171ea208f0",
     "locked": true,
     "points": 4,
     "schema_version": 3,
     "solution": false,
     "task": false
    }
   },
   "outputs": [],
   "source": [
    "exercise_11_hash = \"3f39d5c348e5b79d06e842c114e6cc571583bbf44e4b0ebfda1a01ec05745d43\"\n",
    "options = [\"A\", \"B\", \"C\", \"D\"]\n",
    "assert isinstance(exercise_11,str), \"The variable should be a string.\"\n",
    "assert exercise_11.isupper(), \"Please use uppercase for your answer.\"\n",
    "assert exercise_11.upper() in options, \"Please choose one of the options: %s\" % ', '.join(str(opt) for opt in options)\n",
    "assert exercise_11_hash == hashlib.sha256(bytes(exercise_11, encoding='utf8')).hexdigest(), \"Wrong answer\""
   ]
  },
  {
   "attachments": {},
   "cell_type": "markdown",
   "id": "generous-composer",
   "metadata": {},
   "source": [
    "**Now you're ready to make the most out of Git!** You'll be using it throughout the rest of the Prep Course so it's important that you two become good friends!\n",
    "\n",
    "Keep the git workflow in your heart, and use it whenever you find a typo in a Learning/Exercise Notebook! I'll give you a golden start for it! :D"
   ]
  },
  {
   "cell_type": "markdown",
   "id": "aerial-wrist",
   "metadata": {},
   "source": [
    "## Submit your work!\n",
    "To submit your work, get your slack id and fill it in the slack_id variable.\n",
    "\n",
    "Example: slack_id = \"UTS63FC02\""
   ]
  },
  {
   "cell_type": "code",
   "execution_count": 1,
   "id": "pediatric-level",
   "metadata": {
    "nbgrader": {
     "grade": false,
     "grade_id": "cell-a3dc67590ead160d",
     "locked": false,
     "schema_version": 3,
     "solution": true,
     "task": false
    }
   },
   "outputs": [],
   "source": [
    "#slack_id = ...  \n",
    "### BEGIN SOLUTION\n",
    "slack_id = \"U01RTPQGEH0\"\n",
    "### END SOLUTION"
   ]
  },
  {
   "cell_type": "code",
   "execution_count": 4,
   "id": "strange-simon",
   "metadata": {},
   "outputs": [
    {
     "name": "stdout",
     "output_type": "stream",
     "text": [
      "Success\n"
     ]
    }
   ],
   "source": [
    "assert isinstance(slack_id,str)\n",
    "submit(slack_id, 5)"
   ]
  }
 ],
 "metadata": {
  "celltoolbar": "Create Assignment",
  "kernelspec": {
   "display_name": "Python 3",
   "language": "python",
   "name": "python3"
  },
  "language_info": {
   "codemirror_mode": {
    "name": "ipython",
    "version": 3
   },
   "file_extension": ".py",
   "mimetype": "text/x-python",
   "name": "python",
   "nbconvert_exporter": "python",
   "pygments_lexer": "ipython3",
   "version": "3.8.2"
  }
 },
 "nbformat": 4,
 "nbformat_minor": 5
}
