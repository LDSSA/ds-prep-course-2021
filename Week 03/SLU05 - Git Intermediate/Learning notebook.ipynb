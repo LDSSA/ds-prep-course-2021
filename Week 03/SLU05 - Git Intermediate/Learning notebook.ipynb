{
 "cells": [
  {
   "cell_type": "markdown",
   "id": "fifth-chrome",
   "metadata": {},
   "source": [
    "# SLU05 - Git Intermediate"
   ]
  },
  {
   "cell_type": "markdown",
   "id": "suffering-arrival",
   "metadata": {},
   "source": [
    "In this notebook we will be covering the following:\n",
    "\n",
    "- Working with Git - a review\n",
    "- The remote repository\n",
    "- Cloning a repository\n",
    "- Stash changes\n",
    "- Git branches\n",
    "  - Concept of main/master branch\n",
    "  - Creating and switching branches\n",
    "  - A final note on creating branches\n",
    "  - Merging branches\n",
    "  - Merge conflicts\n",
    "  - Solving a merge conflict\n",
    "  - A note about jupyter notebooks conflicts\n",
    "- Collaboration\n",
    "  - Create an issue\n",
    "  - Fork a repository\n",
    "  - Create a pull request\n",
    "  - The GitHub Flow\n",
    "- Git is love, Git is life"
   ]
  },
  {
   "cell_type": "markdown",
   "id": "suitable-restoration",
   "metadata": {},
   "source": [
    "## Working with Git - a review"
   ]
  },
  {
   "cell_type": "markdown",
   "id": "premier-recorder",
   "metadata": {},
   "source": [
    "On **SLU03 - Git basics**, we got acquainted with the way Git, and other Version Control\n",
    "Systems (VCS) operate, the basic flow, and the basic commands to store and track changes and host them in a remote repository. "
   ]
  },
  {
   "cell_type": "markdown",
   "id": "bound-vinyl",
   "metadata": {},
   "source": [
    "<img width=\"700\" src=\"https://imgur.com/JefNy7n.png\"/>"
   ]
  },
  {
   "cell_type": "markdown",
   "id": "starting-offering",
   "metadata": {},
   "source": [
    "As a refresher (*and totally copied from SLU03*)...\n",
    "\n",
    "    The local repository is the “container” that tracks the changes to your project files. It holds all the commits — a snapshot of all your files at a point in time — that have been made.\n",
    "    \n",
    "    The workspace consists of files that you are currently working on. You can think of the workspace as a file system where you can view and modify files.\n",
    "    \n",
    "    The staging area is where commits are prepared. The index compares the files in the workspace to the files in the local repository. When you make a change in the workspace, the index marks the file as \"modified\" before it is committed.\n",
    "\n",
    "We briefly covered the **remote repository**, and how to communicate with it through the `git pull` and `git push` commands allowing us to **incorporate changes from the remote repository into our workspace** and **to update the remote repository with our changes**, respectively. \n",
    "\n",
    "In this SLU we'll dive deeper into the **remote repository** and how to make the most out of it. *Get ready!* "
   ]
  },
  {
   "cell_type": "markdown",
   "id": "failing-intelligence",
   "metadata": {},
   "source": [
    "## The remote repository"
   ]
  },
  {
   "cell_type": "markdown",
   "id": "accepting-cotton",
   "metadata": {},
   "source": [
    "The **remote repository** (also called *remotes*) are versions of your project that are hosted on the Internet or network *somewhere*. You can have **several of them**, and **collaborating with others involves managing these remote repositories and pushing and pulling data to and from them when you need to share work**."
   ]
  },
  {
   "cell_type": "markdown",
   "id": "annoying-consolidation",
   "metadata": {},
   "source": [
    "<img width=\"700\" src=\"http://jlord.us/git-it/assets/imgs/remotes.png\"/>"
   ]
  },
  {
   "cell_type": "markdown",
   "id": "annual-moral",
   "metadata": {},
   "source": [
    "Managing remote repositories includes knowing *how to add remote repositories*, *remove the ones that are no longer valid*, *manage various remote branches and define them as being tracked or not* (what the heck are branches, you ask? You'll see!), and more.\n",
    "\n",
    "Most of the work you need to do related to version control happens on your **local machine's repository**: *staging, committing, viewing the status, log/history*, and so on.\n",
    "\n",
    "The main purpose of a remote repository is to **place the repository in a central location so that it can be accessed by multiple developers, allowing**:\n",
    "- All developers to work in their local repository and have all modifications made and committed locally. \n",
    "- These changes can then be uploaded to the remote repository to share with others. "
   ]
  },
  {
   "cell_type": "markdown",
   "id": "ongoing-virgin",
   "metadata": {},
   "source": [
    "## Cloning a repository"
   ]
  },
  {
   "cell_type": "markdown",
   "id": "satisfied-picture",
   "metadata": {},
   "source": [
    "You are probably wondering: *\"Isn't this what I did at the beginning of this course!?\"*. The answer? **Yes!** \n",
    "\n",
    "You already **created a remote repository and cloned it to your local machine** when you followed [these instructions](https://github.com/LDSSA/ds-prep-course-2021#13-setup-your-workspace-repository)."
   ]
  },
  {
   "cell_type": "markdown",
   "id": "surface-journey",
   "metadata": {},
   "source": [
    "You can check which remote repositories you have configured by using the command `git remote`. If you run that command inside your `ds-prep-workspace` you should see something like this:\n",
    "<img width=\"700\" src=\"https://i.imgur.com/s0DhizY.png\"/>\n",
    "\n",
    "**Note:** The name `origin` is the default name Git gives to the server you cloned from.\n",
    "\n",
    "If you do `git remote -v` (for *verbose*), it includes the URL of each connection.\n",
    "<img width=\"700\" src=\"https://i.imgur.com/OF3qF59.png\"/>\n"
   ]
  },
  {
   "cell_type": "markdown",
   "id": "pleasant-allowance",
   "metadata": {},
   "source": [
    "As you remember from **SLU03 - Git basics**:\n",
    "- the `git pull` command  is used to fetch and download content from a remote repository and immediately update the local repository to match that content\n",
    "- the `git push` command is used to upload local repository content to a remote repository\n",
    "\n",
    "With the `git remote -v` command you can see what URLs git is using to make the connection to the remote repository for these operations.\n",
    "\n",
    "Another important command covered in **SLU03** was `git status` (*hands down the most used git command in all the land!*). This command lets you see the **status of your workspace and staging area files**. \n",
    "\n",
    "Here's the status of my repository as I'm working on these learning materials.\n",
    "\n",
    "<img width=\"700\" src=\"https://i.imgur.com/gtQIy4K.png\"/>\n"
   ]
  },
  {
   "cell_type": "markdown",
   "id": "dominant-church",
   "metadata": {},
   "source": [
    "The `git status` command is super fast and you **can use it offline**, meaning you don't need to have an active network connection to use it. This is possible because **checking the status of your Git repository doesn’t actually mean you are communicating with the remote repository to check what the current status is**.\n",
    "\n",
    "One simple way to know if your local repo is out of date in comparison to the remote repository is to use the command `git remote show origin`. To update it, the `git pull` command is your friend!"
   ]
  },
  {
   "cell_type": "markdown",
   "id": "signed-newark",
   "metadata": {},
   "source": [
    "## Stash changes"
   ]
  },
  {
   "cell_type": "markdown",
   "id": "extensive-setting",
   "metadata": {},
   "source": [
    "You already know how to save changes permanently in the repository using the trusty `git commit` command. Now imagine the following (hypothetical) situation:\n",
    "\n",
    "    You are midway through the development of Feature-X. Your code is a complete tangled mess. \n",
    "    Your manager enters the room screaming at you to solve BUG-XPTO. The development of Feature-X is completely unrelated to BUG-XPTO. \n",
    "    You surely cannot commit, or you'll be ridiculed by your colleagues and never be asked to play darts again! So, what do you do?\n",
    "\n",
    "This is where `git stash` comes to the rescue! As I have read somewhere: *stash is like a clipboard on steroids!* ;) \n"
   ]
  },
  {
   "cell_type": "markdown",
   "id": "derived-registration",
   "metadata": {},
   "source": [
    "<img width=\"400\" src=\"https://miro.medium.com/max/600/1*KDah4xyJW5PtPuN6LOlFiQ.png\"/>"
   ]
  },
  {
   "cell_type": "markdown",
   "id": "transsexual-charlotte",
   "metadata": {},
   "source": [
    "**`git stash` saves all your staged and unstaged files** (if you want to include untracked files you must add the `-u` or `--include-untracked` option) **and saves them.** You are left with a repository in the same state as when you committed your latest changes."
   ]
  },
  {
   "cell_type": "markdown",
   "id": "standing-population",
   "metadata": {},
   "source": [
    "I'll add a few changes to my local repo. Its status looks like this now:\n",
    "\n",
    "![16_git_status_before_stash.png](assets/16_git_status_before_stash.png)\n",
    "\n",
    "As you can see, I created new 3 files, added 2 of them and modified a fourth. Since there are untracked files, I'll stash them using the `-u` option.\n",
    "\n",
    "![17_git_stash_and_git_status.png](assets/17_git_stash_and_git_status.png)\n",
    "\n",
    "Notice how the result of stash identifies the latest commit of your local repo and how the status shows that there is nothing to commit? *It's magic!* \n",
    "\n",
    "**But now how do I get my work back?!**\n"
   ]
  },
  {
   "cell_type": "markdown",
   "id": "eight-subscription",
   "metadata": {},
   "source": [
    "To get the changes out of your stash, you use the command `git stash pop`. The changes you stashed will be removed from the stash and applied to your local repository again. *Super duper awesome magic!*\n",
    "\n",
    "You can store multiple stashes, do partial stashes, *pop* specific stashes, and much more. But this is outside the scope of this SLU. What you've learned should be enough to keep you out of trouble (*I hope!*) :) \n"
   ]
  },
  {
   "cell_type": "markdown",
   "id": "incident-mystery",
   "metadata": {},
   "source": [
    "##  Git branches"
   ]
  },
  {
   "cell_type": "markdown",
   "id": "polar-throw",
   "metadata": {},
   "source": [
    "Now we reached the scariest bit, but the most powerful one of git. **The wonderful world of BRANCHES**!! Woohoo! *Party everywhere!* \n",
    "\n",
    "What the heck is it, you ask? Well... In simple terms, **a *branch* is a parallel version of the code that can be modified without affecting the other versions.** This is **extremely** useful for collaborative work, to introduce new features, for anything really... Branches are cool. *Trust me.* \n",
    "\n",
    "**Branching in Git is fast and easy and is strongly (!!!!!!!) encouraged.**"
   ]
  },
  {
   "cell_type": "markdown",
   "id": "demographic-integral",
   "metadata": {},
   "source": [
    "When you work on a new functionality or fix a bug, you create a new branch to isolate your changes. This makes it harder for unstable code to find its way to the main codebase. If this is true for a single person, imagine working on a team, where your teammates are working on the same code base (a.k.a. repository), but on different features or bug fixes. Life would be extremely hard without branching."
   ]
  },
  {
   "cell_type": "markdown",
   "id": "narrow-blackjack",
   "metadata": {},
   "source": [
    "When you start a new repository, you, by default, are in the **Master** or **Main** branch. All your pushes are going to this branch and you don't need to specify it."
   ]
  },
  {
   "cell_type": "markdown",
   "id": "subsequent-isolation",
   "metadata": {},
   "source": [
    "<img width=\"700\" src=\"https://wac-cdn.atlassian.com/dam/jcr:80aa77d2-c28f-415e-ab10-e3612456a9c1/02.svg\"/>"
   ]
  },
  {
   "cell_type": "markdown",
   "id": "amino-march",
   "metadata": {},
   "source": [
    "When you create a new branch, let's say for a *crazy experiment*, you are creating a copy of your master branch at that time."
   ]
  },
  {
   "cell_type": "markdown",
   "id": "prime-finance",
   "metadata": {},
   "source": [
    "<img width=\"700\" src=\"https://wac-cdn.atlassian.com/dam/jcr:b0e2f237-9337-4385-be22-43f623e133d0/03.svg\"/>"
   ]
  },
  {
   "cell_type": "markdown",
   "id": "authentic-punishment",
   "metadata": {},
   "source": [
    "As you continue your development, **the two branches will continue to co-exist on their own, independently of each other until you purposefully merge them together** (comming soon!). And this process can be repeated *indefinitely*."
   ]
  },
  {
   "cell_type": "markdown",
   "id": "creative-malta",
   "metadata": {},
   "source": [
    "<img width=\"700\" src=\"https://i.imgur.com/8cIjZzU.png\"/>"
   ]
  },
  {
   "cell_type": "markdown",
   "id": "systematic-order",
   "metadata": {},
   "source": [
    "### Concept of main/master branch\n",
    "\n",
    "The main branch in git is called **main** (*surprising, I know*), although until very recently it was called **master**, and this nomenclature is still currently used. The main branch is created by Git when you create the repository. \n",
    "\n",
    "All the changes you do in the other branches should, sooner or later, be integrated (called *merging* in git) into the master branch. \n"
   ]
  },
  {
   "cell_type": "markdown",
   "id": "qualified-exhibition",
   "metadata": {},
   "source": [
    "<img width=\"700\" src=\"https://miro.medium.com/max/878/0*2wt_pIwNkFPy7wpU.png\"/>"
   ]
  },
  {
   "cell_type": "markdown",
   "id": "seven-assets",
   "metadata": {},
   "source": [
    "#### Do not mess with the master (the main branch ruined my pun...)\n",
    "\n",
    "Why? The main branch should be where your stable code lives. It's supposed to be your production-ready code, that you can deploy at any moment. If you want to work on a new feature or experiment with something, you branch out. Only when you're sure the code is stable should it be merged to master. \n",
    "\n",
    "For the purpose of the Prep Course, you are using your workspace repository more as a cloud *so we'll ignore the advice of people wiser than us and keep pushing to master... #rebels*"
   ]
  },
  {
   "cell_type": "markdown",
   "id": "sitting-hacker",
   "metadata": {},
   "source": [
    "### Creating and switching branches\n",
    "\n",
    "To demonstrate the use of branches let's pretend we want to work on two new features:\n",
    "- **Feature A** is a list of books we want to read\n",
    "- **Feature B** is a list of foods to try.\n",
    "\n",
    "We know better than to create these new features directly on the main branch because *Inês will get sad and cry*. So we should create two new branches, one for each of the features. "
   ]
  },
  {
   "cell_type": "markdown",
   "id": "valued-malawi",
   "metadata": {},
   "source": [
    "#### Feature A branch\n",
    "Let's start by creating the branch for Feature A. I'll name it **\"feature_a_books\"** and create it by using the command `git branch <branch name>`.\n",
    "\n",
    "![19_git_create_branch.png](assets/19_git_create_branch.png)\n",
    "\n",
    "So, the `git branch <branch name>` has no output and `git status` still says that we're on branch master. *Did anything go wrong?* No! \n",
    "\n",
    "The `git branch` command just creates the branch but does not switch you to it. You continue to work in whatever branch you were in before. \n",
    "\n",
    "To switch branches in git you use the command `git checkout <branch name>`. You can also list the branches with the command `git branch`. The branch identified with an `*` is the currently active one.\n",
    "\n",
    "![20_git_checkout_feature_a.png](assets/20_git_checkout_feature_a.png)"
   ]
  },
  {
   "cell_type": "markdown",
   "id": "confirmed-harassment",
   "metadata": {},
   "source": [
    "#### Feature B branch\n",
    "\n",
    "To create the branch for Feature B I'll use the command `git checkout -b <branch name>`. The `-b` of the *checkout* command is very handy as it creates the branch and immediately makes it the active one. This is the most common way of creating a branch.\n",
    "\n",
    "![22_checkout_feature_b.png](assets/22_checkout_feature_b.png)"
   ]
  },
  {
   "cell_type": "markdown",
   "id": "detected-college",
   "metadata": {},
   "source": [
    "Now let's create a file with some foods, stage and commit it.\n",
    "\n",
    "![23_create_and_commit_foods.png](assets/23_create_and_commit_foods.png)\n"
   ]
  },
  {
   "cell_type": "markdown",
   "id": "weird-fishing",
   "metadata": {},
   "source": [
    "#### Checking the changes\n",
    "\n",
    "Let's check the commits log on each of the branches:\n",
    "\n",
    "![24_git_log_branches.png](assets/24_git_log_branches.png)\n",
    "\n",
    "- **master** still has the same 3 commits\n",
    "- **feature_a_books** has a new commit with the message \"add books to read file\"\n",
    "- **feature_b_foods** has a new commit with the message \"add foods list\""
   ]
  },
  {
   "cell_type": "markdown",
   "id": "infectious-grain",
   "metadata": {},
   "source": [
    "Let's compare one final thing on the three branches: the files on each one of them. I'll list only the files with the extension `.txt` to remove some clutter from the screen.\n",
    "\n",
    "![26_list_files_in_branches.png](assets/26_list_files_in_branches.png)\n",
    "\n",
    "- **master** has only the file `groceries.txt`\n",
    "- **feature_a_books** has the files `groceries.txt` and `books_to_read.txt`, which were added in the commit with the message \"add books to read file\"\n",
    "- **feature_b_foods** has the files `groceries.txt` and `foods_to_try.txt`, which were added in the commit with the message \"add foods list\""
   ]
  },
  {
   "cell_type": "markdown",
   "id": "decreased-collapse",
   "metadata": {},
   "source": [
    "### Pushing the branches to the remote\n",
    "\n",
    "When you try to push a branch to the remote for the first time, you need to specify some extra options in the command. **That's because the remote still doesn't know about the branch, it only exists in the local repository.** Conveniently, git shows the exact syntax you should use when you `git push` a branch for the first time.\n",
    "\n",
    "*Make sure that you have the correct branch checked before pushing!*\n",
    "\n",
    "![27_git_push_new_branch.png](assets/27_git_push_new_branch.png)"
   ]
  },
  {
   "cell_type": "markdown",
   "id": "economic-seven",
   "metadata": {},
   "source": [
    "The syntax for pushing a branch that does not exist in the remote is `git push --set-upstream origin <branch name>`. After the branch is created in the remote repository, a `git push` is enough to then update the remote.\n",
    "\n",
    "After pushing, we can see the branches on Github.\n",
    "\n",
    "![28_github_branches.png](assets/28_github_branches.png)"
   ]
  },
  {
   "cell_type": "markdown",
   "id": "august-professional",
   "metadata": {},
   "source": [
    "### A final note on creating branches\n",
    "\n",
    "When you create a new branch, it becomes a snapshot of the branch you created it from (where you \"branched off\"). The commits you have in the current branch will be \"copied\" to the new branch. After that, all commits done to one branch or the other, stay in that branch. You don't always need to create branches based on master/main since you can create a branch from any other branch."
   ]
  },
  {
   "cell_type": "markdown",
   "id": "suspended-favorite",
   "metadata": {},
   "source": [
    "### Merging branches"
   ]
  },
  {
   "cell_type": "markdown",
   "id": "different-going",
   "metadata": {},
   "source": [
    "![29_git_merge_battle.gif](assets/29_git_merge_battle.gif)"
   ]
  },
  {
   "cell_type": "markdown",
   "id": "demographic-soviet",
   "metadata": {},
   "source": [
    "We can't keep new features and commits in separate branches forever. We'll eventually want to integrate the changes from one branch to main (or another branch). This integration of branches is called **merging** and is done with the `git merge` command.\n",
    "\n",
    "It's very easy to perform a merge, but you must be careful to get the order of the operations correctly:\n",
    "1. **You checkout from the branch that you want to merge into.** Ex: if you want to merge into the main/master, you checkout from the main/master.\n",
    "2. You call `git merge` with the name of the branch you want to be merged with.\n",
    "\n",
    "**It's super easy to get this wrong as a beginner, so be careful!**\n"
   ]
  },
  {
   "cell_type": "markdown",
   "id": "optimum-hollywood",
   "metadata": {},
   "source": [
    "**So back to our repository...** This is how it looks like after we created the two feature branches:\n",
    "\n",
    "![31_diagram_two_branches.png](assets/31_diagram_two_branches.png)\n",
    "\n",
    "We see that the *master* is still pointing to the same commit, and *each one of the feature branches is pointing to the commit with the changes we made in that branch*."
   ]
  },
  {
   "cell_type": "markdown",
   "id": "fleet-april",
   "metadata": {},
   "source": [
    "#### Merging *feature_a_books* branch (fast-forward)\n",
    "\n",
    "Now let's merge the branch *feature_a_books* into the *master*. To do that we run the following commands:\n",
    "```\n",
    "git checkout master\n",
    "git merge feature_a_books\n",
    "```\n",
    "\n",
    "And it should output something like:\n",
    "```\n",
    "Updating 52f0f1a..b17f0f8\n",
    "Fast-forward\n",
    " books_to_read.txt | 3 +++\n",
    " 1 file changed, 3 insertions(+)\n",
    " create mode 100644 books_to_read.txt\n",
    "```\n",
    "\n",
    "Notice the text *Fast-forward* above. I will explain that in a minute.\n",
    "\n",
    "`git log --oneline` should now output:\n",
    "```\n",
    "b17f0f8 (HEAD -> master, origin/feature_a_books, feature_a_books) add books to read file\n",
    "52f0f1a (origin/master, origin/HEAD) Add canned beans to my groceries\n",
    "74b7996 add groceries.txt file\n",
    "4ab27a7 Initial commit\n",
    "```\n",
    "\n",
    "Our diagram, after merging, looks like this:\n",
    "\n",
    "\n",
    "![31_diagram_merge_feature_a.png](assets/31_diagram_merge_feature_a.png)\n",
    "\n",
    "You see the **fast-forward** above? Well... \n",
    "\n",
    "Do you notice how both the *master* and *feature_a_books* branches are both pointing to the commit **b17f0f8**? **Git did this merge simply by adding the extra commit to the *master* branch.**\n",
    "\n",
    "Since there was a linear path from the tip (latest commit) of *master* to the tip of *feature_a_books*, all git had to do was move the tip of *master* to the tip of *feature_a_books*. This is called a **fast-forward merge**. In other words, a fast-forward merge could happen because *master* did not have any extra commits compared to *feature_a_books*."
   ]
  },
  {
   "cell_type": "markdown",
   "id": "prescribed-deviation",
   "metadata": {},
   "source": [
    "#### Merging *feature_b_foods* branch (3-way merge)\n",
    "\n",
    "Our repository looks like this now (I removed *feature_a_books* branch for simplicity):\n",
    "\n",
    "![32_diagram_before_3_way_merge.png](assets/32_diagram_before_3_way_merge.png)\n",
    "\n",
    "There isn't a linear path from *master* to *feature_b_books*, so a fast-forward merge will not be possible in this situation. These branches have diverged and *master* now has an extra commit that *feature_b_foods* doesn't have.\n",
    "\n",
    "**Git will have to merge the branches using a 3-way merge.** This creates a new *merging commit* on the active branch to join the two histories.\n",
    "\n",
    "We merge the two branches with our known commands:\n",
    "```\n",
    "git checkout master\n",
    "git merge feature_b_books\n",
    "```\n",
    "Git will open the text editor for us to enter the commit message. It should look something like this:\n",
    "```\n",
    "Merge branch 'feature_b_foods'\n",
    "\n",
    "# Please enter a commit message to explain why this merge is necessary,\n",
    "# especially if it merges an updated upstream into a topic branch.\n",
    "#\n",
    "# Lines starting with '#' will be ignored, and an empty message aborts\n",
    "# the commit.\n",
    "```\n",
    "\n",
    "We will save it as it is and exit the text editor, and then the following should show up in the command line:\n",
    "```\n",
    "Merge made by the 'recursive' strategy.\n",
    " foods_to_try.txt | 2 ++\n",
    " 1 file changed, 2 insertions(+)\n",
    " create mode 100644 foods_to_try.txt\n",
    "\n",
    "```\n",
    "\n",
    "The commit and merge are complete. The resulting diagram after all the merges is:\n",
    "![33_diagram_merges_complete.png](assets/33_diagram_merges_complete.png)\n",
    "\n",
    "A new commit (**1f0f464**) was created, and our local *master* branch is pointing to it. Notice that we did all these merges in the local repo but didn't push them to the remote yet. I'll skip that part here for the sake of brevity, but you should always do it!!"
   ]
  },
  {
   "cell_type": "markdown",
   "id": "square-islam",
   "metadata": {},
   "source": [
    "### Merge conflicts"
   ]
  },
  {
   "cell_type": "markdown",
   "id": "willing-rolling",
   "metadata": {},
   "source": [
    "**Sometimes things don't go so smoothly...**\n",
    "\n",
    "![34_merge_conflict_is_comming.jpeg](assets/34_merge_conflict_is_comming.jpeg)"
   ]
  },
  {
   "cell_type": "markdown",
   "id": "historical-relative",
   "metadata": {},
   "source": [
    "Merge conflicts are common. My hope in this section is that you understand what they are, why they happen, and some simple strategies on how to solve them.\n",
    "\n",
    "Most of the time, git will be able to merge automatically, making the necessary changes to the affected files. But there are situations where it cannot make the decisions all by itself. Examples of these situations:\n",
    "- the branches you are trying to merge have changes in the same line of the same file\n",
    "- one branch deleted a file, and the other branch made modifications to that file\n",
    "\n",
    "They all go like this: **two branches edit the same content in conflicting ways.**"
   ]
  },
  {
   "cell_type": "markdown",
   "id": "broad-scenario",
   "metadata": {},
   "source": [
    "#### Making a merge conflict\n",
    "\n",
    "'ll go ahead and make changes to my repo to force a merge conflict. No new commands here, just the usual stuff. I will create two new branches, and both will edit line 6 of the file *groceries.txt*. One branch will change it to \"- Chocolate ice-cream\" and the other to \"- Strawberry ice-cream\".\n",
    "```\n",
    "# start from the master\n",
    "git checkout master\n",
    "git checkout -b chocolate\n",
    "# edit line 6 of groceries.txt to \"- Chocolate ice-cream\"\n",
    "git add groceries.txt\n",
    "git commit -m \"change Ice-cream to Chocolate ice-cream\"\n",
    "# we want both branches to be based off the master, so we'll checkout from the master again\n",
    "git checkout master\n",
    "git checkout -b strawberry\n",
    "# edit line 6 of groceries.txt to \"- Strawberry ice-cream\"\n",
    "git add groceries.txt\n",
    "git commit -m \"change Ice-cream to Chocolate ice-cream\"\n",
    "```"
   ]
  },
  {
   "cell_type": "markdown",
   "id": "least-waterproof",
   "metadata": {},
   "source": [
    "\n",
    "Now let's merge the branch *chocolate* into *master*.\n",
    "\n",
    "```\n",
    "git checkout master\n",
    "git merge chocolate\n",
    "```\n",
    "**It should be a fast-forward merge, without any conflict.**\n",
    "```\n",
    "Updating 1f0f464..0666af0\n",
    "Fast-forward\n",
    " groceries.txt | 2 +-\n",
    " 1 file changed, 1 insertion(+), 1 deletion(-)\n",
    "```\n",
    "\n",
    "Now the line 6 of the file \"groceries.txt\" in the branch *master* should have \"- Chocolate ice-cream\""
   ]
  },
  {
   "cell_type": "markdown",
   "id": "perceived-judge",
   "metadata": {},
   "source": [
    "Now let's merge *strawberry* into *master*.\n",
    "```\n",
    "# you should already be in master, so no need to checkout, but you never know :)\n",
    "git checkout master\n",
    "git merge strawberry\n",
    "```\n",
    "And BAM! **Merge conflict**!\n",
    "\n",
    "<img width=\"700\" src=\"https://memegenerator.net/img/instances/74567073.jpg\"/>\n",
    "\n",
    "```\n",
    "Auto-merging groceries.txt\n",
    "CONFLICT (content): Merge conflict in groceries.txt\n",
    "Automatic merge failed; fix conflicts and then commit the result.\n",
    "```\n",
    "A conflict happened in the file *groceries.txt*. This is because line 6 changed from \"- Ice-cream\" to \"- Chocolate ice-cream\" in the branch *master* and from \"- Ice-cream\" to \"- Strawberry ice-cream\" in the branch *strawberry*. \n",
    "\n"
   ]
  },
  {
   "cell_type": "markdown",
   "id": "composed-poland",
   "metadata": {},
   "source": [
    "### Solving a merge conflict\n",
    "\n",
    "There are several ways you can solve merge conflicts. We'll explain a few."
   ]
  },
  {
   "cell_type": "markdown",
   "id": "naked-headquarters",
   "metadata": {},
   "source": [
    "#### Abort the merge\n",
    "If you have no clue why the conflict is happening or are not sure which version you want to keep, abort the merge and inspect the branches to gain some clarity. You abort a merge with the command `git merge --abort`. The merge is aborted, and it all goes back to the state it was before."
   ]
  },
  {
   "cell_type": "markdown",
   "id": "traditional-interview",
   "metadata": {},
   "source": [
    "#### Checkout ours\n",
    "If you know that you want to keep the *master* version of the conflicted file and ignore the incoming changes, you use the command `git checkout --ours groceries.txt`.\n",
    "\n",
    "**ours** just means the branch you're in, in this example, it's the *master*.\n",
    "\n",
    "After you do this, line 6 of the file should have \"- Chocolate ice-cream\".\n",
    "\n",
    "Note: even if you maintain your file with `checkout ours`, you still have to commit the file for the merge to be completed."
   ]
  },
  {
   "cell_type": "markdown",
   "id": "smoking-relation",
   "metadata": {},
   "source": [
    "#### Checkout theirs\n",
    "If you know that you want to keep the *strawberry* version of the conflicted file and ignore the file in the *master*, then you use the command git checkout --theirs groceries.txt.\n",
    "\n",
    "**theirs** just means the incoming branch, in this example, it's *strawberry*.\n",
    "\n",
    "After you do this, line 6 of the file should have \"- Strawberry ice-cream\".\n",
    "\n",
    "Lastely, you then have to commit the file for the merge to be completed."
   ]
  },
  {
   "cell_type": "markdown",
   "id": "domestic-toronto",
   "metadata": {},
   "source": [
    "#### Edit the conflicted file\n",
    "There are situations where you cannot simply choose *ours* or *theirs*:\n",
    "- If you are not sure what version to keep\n",
    "- want to keep both changes\n",
    "- there are multiple conflicts within the file and for some of them you want to keep `ours` and others want to keep `theirs`\n",
    "- etc.\n",
    "\n",
    "In this case you edit the conflicted file with a text editor. You should see something like this:\n",
    "\n",
    "```\n",
    "Quarantine Groceries:\n",
    "- Toilet paper\n",
    "- Popcorn\n",
    "- Coffee\n",
    "- Beer\n",
    "<<<<<<< HEAD\n",
    "- Chocolate ice-cream\n",
    "=======\n",
    "- Strawberry ice-cream\n",
    ">>>>>>> strawberry\n",
    "- Canned beans\n",
    "```\n",
    "\n",
    "Git annotates the conflicted file with git conflict markers, marking the areas where it needs help deciding what to do:\n",
    "- **`<<<<<<< HEAD`** identified the start of the section of the current branch\n",
    "- **`- Chocolate ice-cream`** this is the value committed in branch *master*\n",
    "- **`=======`** marks the end of the changes on *master* and the start of the changes in the incoming branch\n",
    "- **`- Strawberry ice-cream`** this is the value committed in the incoming branch\n",
    "- **`>>>>>>> strawberry`** marks the end of the changes in the incoming branch and identifies the branch\n",
    "\n",
    "You simply (ok, not always this simple) have to edit the file so that it looks exactly how you want it to. You have to get rid of the git conflict markers. We'll choose to keep both ice-creams, so our file will look like this:\n",
    "\n",
    "```\n",
    "Quarantine Groceries:\n",
    "- Toilet paper\n",
    "- Popcorn\n",
    "- Coffee\n",
    "- Beer\n",
    "- Chocolate ice-cream\n",
    "- Strawberry ice-cream\n",
    "- Canned beans\n",
    "```\n",
    "\n",
    "You then have to commit the file for the merge to be completed."
   ]
  },
  {
   "cell_type": "markdown",
   "id": "likely-grove",
   "metadata": {},
   "source": [
    "### A note about jupyter notebooks conflicts \n",
    "\n",
    "Although editing the file provides the most flexibility while merging, you'll find it tough to do it with jupyter notebook files. They are long `json` files, not easily read by human eyes. You're better off keeping to the `checkout ours` or `checkout theirs` methods."
   ]
  },
  {
   "cell_type": "markdown",
   "id": "subsequent-stationery",
   "metadata": {},
   "source": [
    "## Collaboration"
   ]
  },
  {
   "cell_type": "markdown",
   "id": "smoking-complex",
   "metadata": {},
   "source": [
    "As stated in **SLU03**, Git was designed to solve the problem of multiple people working on the same code. For example, all of the learning materials are a collaborative effort between instructors and the quality assessment team to bring you the best possible source of knowledge. (*If you think I do a lot of typos... QA has full days with me!*)\n",
    "\n",
    "There are **two ways to collaborate**: \n",
    "- you contribute to the same repository, or \n",
    "- you work in different repositories and combine them at the end. \n",
    "\n",
    "The first we've already covered in the *branches* section of this notebook, *now on to the next..*"
   ]
  },
  {
   "cell_type": "markdown",
   "id": "close-polls",
   "metadata": {},
   "source": [
    "### Create an issue"
   ]
  },
  {
   "cell_type": "markdown",
   "id": "inner-argentina",
   "metadata": {},
   "source": [
    "One of the easiest ways to collaborate in a repository is through the creation of **Issues**. You can use issues to track ideas, enhancements, tasks, or bugs to work on GitHub. They are like an emails, *sort of*, associated with the remote repository.\n",
    "\n",
    "Check out our [Prep Course GitHub issue section](https://github.com/LDSSA/ds-prep-course-2021/issues).\n",
    "<img width=\"700\" src=\"https://i.imgur.com/VRlcz5Q.png\"/> "
   ]
  },
  {
   "cell_type": "markdown",
   "id": "pretty-subject",
   "metadata": {},
   "source": [
    "As you can see, you can create a new Issue in the top right corner. You have to define a header and the body of the issue (where you explain what's wrong). You can assign collaborators, add labels, annex files, and a lot more!\n",
    "\n",
    "**A message from our Documentation Queen, Juliana Rodrigues** \n",
    "\n",
    "    Always provide an actionable\n",
    "\n",
    "An **actionable** is a concrete request of action -- it can be a solution proposal, a feedback request, a bug fix... It does not need to be the solution, but it needs to be clear what action the assignee needs to do.\n",
    "\n",
    "Lack of clarity might get your issue closed without it being addressed! "
   ]
  },
  {
   "cell_type": "markdown",
   "id": "civilian-colon",
   "metadata": {},
   "source": [
    "*Found a typo on one of the learning materials?* Make it an issue! "
   ]
  },
  {
   "cell_type": "markdown",
   "id": "tough-rugby",
   "metadata": {},
   "source": [
    "### Fork a repository"
   ]
  },
  {
   "cell_type": "markdown",
   "id": "smaller-classic",
   "metadata": {},
   "source": [
    "If you want to contribute to an existing project to which you don’t have push access, you can **fork** the project. When you “fork” a project, GitHub will make a copy of the project that is entirely yours; it lives in your namespace, and you can push to it."
   ]
  },
  {
   "cell_type": "markdown",
   "id": "tired-processing",
   "metadata": {},
   "source": [
    "<img width=\"700\" src=\"https://cdn-anlbg.nitrocdn.com/dKKErbUyoNysjatCgltCzbTJJilTMwLi/assets/static/optimized/rev-4b21c3b/wp-content/gallery/git/Difference-between-Git-Cloning-and-Git-Forking.png\"/>"
   ]
  },
  {
   "cell_type": "markdown",
   "id": "expanded-shopping",
   "metadata": {},
   "source": [
    "To fork a project, visit the project page and click on the “Fork” button at the top-right of the page. After a few seconds, you’ll be taken to your new project page, with your own writeable copy of the code."
   ]
  },
  {
   "cell_type": "markdown",
   "id": "identical-trustee",
   "metadata": {},
   "source": [
    "<img width=\"200\" src=\"https://git-scm.com/book/en/v2/images/forkbutton.png\"/>"
   ]
  },
  {
   "cell_type": "markdown",
   "id": "through-swaziland",
   "metadata": {},
   "source": [
    "### Create a pull request"
   ]
  },
  {
   "cell_type": "markdown",
   "id": "written-place",
   "metadata": {},
   "source": [
    "*Pull requests let you tell others about changes you've pushed to a branch in a repository on GitHub.* Once a pull request is opened, you can **discuss and review** the potential changes with collaborators and add follow-up commits before your changes are merged into the base branch.\n",
    "\n",
    "A pull request can be done from a **branch in the repository** or from a **forked repository**- "
   ]
  },
  {
   "cell_type": "markdown",
   "id": "superior-phoenix",
   "metadata": {},
   "source": [
    "<img width=\"700\" src=\"https://img.mandic.com.br/blog/2017/07/bitbucket411-blog-1200x-branches2.png\"/>"
   ]
  },
  {
   "cell_type": "markdown",
   "id": "black-chuck",
   "metadata": {},
   "source": [
    "A pull request can be created in the in remote repository.\n",
    "<img width=\"700\" src=\"https://i.imgur.com/K7xsO8m.png\"/> "
   ]
  },
  {
   "cell_type": "markdown",
   "id": "indian-prison",
   "metadata": {},
   "source": [
    "### The GitHub Flow"
   ]
  },
  {
   "cell_type": "markdown",
   "id": "featured-sweet",
   "metadata": {},
   "source": [
    "**GitHub is designed around Pull Requests**. This flow works whether you’re collaborating with a tightly-knit team in a single shared repository, or a globally-distributed company or a network of strangers contributing to a project through dozens of forks.\n",
    "\n",
    "Here’s how it generally works:\n",
    "\n",
    "- Fork the project.\n",
    "\n",
    "- Create a topic branch from the main/master.\n",
    "\n",
    "- Make some commits to improve the project.\n",
    "\n",
    "- Push this branch to your GitHub project.\n",
    "\n",
    "- Open a Pull Request on GitHub.\n",
    "\n",
    "- Discuss, and optionally continue committing.\n",
    "\n",
    "- The project owner merges or closes the Pull Request.\n",
    "\n",
    "- Sync the updated main/master back to your fork."
   ]
  },
  {
   "cell_type": "markdown",
   "id": "absolute-privacy",
   "metadata": {},
   "source": [
    "## Git is love, Git is life"
   ]
  },
  {
   "cell_type": "markdown",
   "id": "superior-detector",
   "metadata": {},
   "source": [
    "So this was quite a lot... Git is a very complex system but at the root of it all, it's incredibly simplistic and that's got to be magic! Right now it looks like a lot, but remember that you've already done most of these things.\n",
    "\n",
    "The rest? It comes with practice!\n",
    "\n",
    "There are a few resources available online to help you navigate the wonderful world of version control, which will accompany you throughout the rest of the Prep Course.\n",
    "\n",
    "- https://www.atlassian.com/git/tutorials/what-is-version-control\n",
    "- https://www.git-tower.com/learn/git/ebook/en/command-line/basics/what-is-version-control#start\n",
    "\n",
    "And if you want to practice without fear of messing with local repositories, here's a good resource:\n",
    "- https://learngitbranching.js.org/?locale=en_US"
   ]
  },
  {
   "cell_type": "markdown",
   "id": "normal-council",
   "metadata": {},
   "source": [
    "I hope you enjoyed these two Learning Units! You're now ready to face the **Exercise Notebook**. \n",
    "\n",
    "And remember...."
   ]
  },
  {
   "cell_type": "markdown",
   "id": "criminal-combine",
   "metadata": {},
   "source": [
    "<img width=\"700\" src=\"https://i.redd.it/r2i822wrxtd31.jpg\"/> "
   ]
  }
 ],
 "metadata": {
  "kernelspec": {
   "display_name": "Python 3",
   "language": "python",
   "name": "python3"
  },
  "language_info": {
   "codemirror_mode": {
    "name": "ipython",
    "version": 3
   },
   "file_extension": ".py",
   "mimetype": "text/x-python",
   "name": "python",
   "nbconvert_exporter": "python",
   "pygments_lexer": "ipython3",
   "version": "3.8.2"
  }
 },
 "nbformat": 4,
 "nbformat_minor": 5
}
