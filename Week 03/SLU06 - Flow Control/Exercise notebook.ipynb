{
 "cells": [
  {
   "cell_type": "markdown",
   "id": "3dbf234b",
   "metadata": {
    "deletable": false,
    "editable": false,
    "nbgrader": {
     "grade": false,
     "grade_id": "cell-1b8bde33aa4550a2",
     "locked": true,
     "schema_version": 3,
     "solution": false,
     "task": false
    }
   },
   "source": [
    "# SLU06 - Python flow control"
   ]
  },
  {
   "cell_type": "markdown",
   "id": "silver-system",
   "metadata": {},
   "source": [
    "Welcome to the world of `Python Flow Control`! \n",
    "\n",
    "Developing a thorough grasp of the concepts and techniques in this topic will provide you with a good programming foundation. We have included many exercises here, some are challenging. Take your time and practice. We are happy to assist, and if you don't have time to complete everything within this week, you can always return to it later."
   ]
  },
  {
   "cell_type": "markdown",
   "id": "7435f7a9",
   "metadata": {
    "deletable": false,
    "editable": false,
    "nbgrader": {
     "grade": false,
     "grade_id": "cell-6149125f8a18c3dd",
     "locked": true,
     "schema_version": 3,
     "solution": false,
     "task": false
    }
   },
   "source": [
    "## Start by importing these packages"
   ]
  },
  {
   "cell_type": "code",
   "execution_count": null,
   "id": "56f6adb2",
   "metadata": {
    "deletable": false,
    "editable": false,
    "nbgrader": {
     "grade": false,
     "grade_id": "cell-53c916c043f5c2c5",
     "locked": true,
     "schema_version": 3,
     "solution": false,
     "task": false
    }
   },
   "outputs": [],
   "source": [
    "# Just for evaluating the results.\n",
    "import math\n",
    "import json\n",
    "import hashlib"
   ]
  },
  {
   "cell_type": "markdown",
   "id": "0eabec23",
   "metadata": {
    "deletable": false,
    "editable": false,
    "nbgrader": {
     "grade": false,
     "grade_id": "cell-f2797be7442942c1",
     "locked": true,
     "schema_version": 3,
     "solution": false,
     "task": false
    }
   },
   "source": [
    "## Part 1 - Conditionals & Boolean Algebra\n",
    "\n",
    "Welcome to Planet X! \n",
    "\n",
    "Every 7 years the playmakers get together to create Game-X.  Candidates from around the planet prepare to entertain the world. The candidates and their characteristics are shown below:\n",
    "\n",
    "\n",
    "| Candidates | Age | Height (cm) | Weight (kg) | Strength |\n",
    "| - |-: |-: |-: |-: |\n",
    "|Squindle|213|1810|954|6|\n",
    "|Flort|73|1225|769|8|\n",
    "|Hambula|82|999|642|4|\n",
    "|Kistapho|942|1829|842|6|\n",
    "|Vilawi|636|819|531|5|\n",
    "|Anhaular|231|1681|3762|9|\n",
    "|Qintari|60|1732|522|4|\n",
    "|Wendu|7|3|5|2|\n",
    "|Baxla|65|875|464|4|\n",
    "|Uluetto|251|1362|3647|2|\n",
    "|Reomult|740|975|539|9|\n"
   ]
  },
  {
   "cell_type": "markdown",
   "id": "6e497d24",
   "metadata": {
    "deletable": false,
    "editable": false,
    "nbgrader": {
     "grade": false,
     "grade_id": "cell-84b5910c7bc65fe4",
     "locked": true,
     "schema_version": 3,
     "solution": false,
     "task": false
    }
   },
   "source": [
    "### 1.1) Create Candidates Dictionary\n",
    "\n",
    "Create a nested dictionary of the candidates, `candidate_dict`, using the candidate´s name as the top-level key to capturing all the above characteristics. The second level keys should be `\"age\"`, `\"height\"`, `\"weight\"` and `\"strength\"`. \n",
    "\n",
    "For instance, accessing `candidate_dict[\"Squindle\"][\"age\"]` should return `213`.\n",
    "\n",
    "Please double check that the entries are correct as this dictionary will be used for the remaining exercises in this notebook.\n",
    "\n",
    "Hint: below is an example of a nested dictionary. It is a dictionary of dictionaries.\n",
    "    \n",
    "    nested_dict = { 'dict1': {'key_A': 'value_A'},\n",
    "                    'dict2': {'key_B': 'value_B'}}"
   ]
  },
  {
   "cell_type": "code",
   "execution_count": null,
   "id": "dce4aabc",
   "metadata": {
    "deletable": false,
    "nbgrader": {
     "grade": false,
     "grade_id": "cell-458be56634b57ca9",
     "locked": false,
     "schema_version": 3,
     "solution": true,
     "task": false
    }
   },
   "outputs": [],
   "source": [
    "# Create a dictionary with the candidates characteristics above\n",
    "# Assign the dictionary to variable candidate_dict.\n",
    "\n",
    "# candidate_dict = ...\n",
    "\n",
    "# YOUR CODE HERE\n",
    "raise NotImplementedError()\n"
   ]
  },
  {
   "cell_type": "code",
   "execution_count": null,
   "id": "3441d948",
   "metadata": {
    "deletable": false,
    "editable": false,
    "nbgrader": {
     "grade": true,
     "grade_id": "cell-68331a27a8208436",
     "locked": true,
     "points": 2,
     "schema_version": 3,
     "solution": false,
     "task": false
    }
   },
   "outputs": [],
   "source": [
    "Squindle_age_hash = 'd48ff4b2f68a10fd7c86f185a6ccede0dc0f2c48538d697cb33b6ada3f1e85db'\n",
    "Flort_height_hash = '6ecf763ff6e7cef7b47e6611e1bf76fe2608a2e32a97b2d88b083ae1d8d02c82'\n",
    "Wendu_weight_hash = 'ef2d127de37b942baad06145e54b0c619a1f22327b2ebbcfbec78f5564afe39d'\n",
    "Reomult_strength_hash = '19581e27de7ced00ff1ce50b2047e7a567c76b1cbaebabe5ef03f7c3017bb5b7'\n",
    "\n",
    "assert isinstance(candidate_dict, dict), \"Review the data type of candidate_dict.\"\n",
    "assert len(candidate_dict) == 11, \"The size of the dictionary is incorrect\"\n",
    "assert len(candidate_dict[\"Squindle\"]) == 4, \"The dictionary is missing some candidate characteristics\"\n",
    "assert len(candidate_dict[\"Reomult\"]) == 4, \"The dictionary is missing some candidate characteristics\"\n",
    "\n",
    "assert set(candidate_dict.keys()) == set(['Squindle', 'Flort', 'Hambula', 'Kistapho', 'Vilawi', 'Anhaular', 'Qintari', 'Wendu', 'Baxla', 'Uluetto', 'Reomult']), \"The dictionary has incorrect candidate names\"\n",
    "assert set(candidate_dict[\"Squindle\"].keys()) == set(['age', 'height', 'strength', 'weight']), \"The dictionary has mismatched candidate characteristics\"\n",
    "assert set(candidate_dict[\"Flort\"].keys()) == set(['age', 'height', 'strength', 'weight']), \"The dictionary has mismatched candidate characteristics\"\n",
    "assert set(candidate_dict[\"Hambula\"].keys()) == set(['age', 'height', 'strength', 'weight']), \"The dictionary has mismatched candidate characteristics\"\n",
    "assert set(candidate_dict[\"Kistapho\"].keys()) == set(['age', 'height', 'strength', 'weight']), \"The dictionary has mismatched candidate characteristics\"\n",
    "assert set(candidate_dict[\"Vilawi\"].keys()) == set(['age', 'height', 'strength', 'weight']), \"The dictionary has mismatched candidate characteristics\"\n",
    "assert set(candidate_dict[\"Anhaular\"].keys()) == set(['age', 'height', 'strength', 'weight']), \"The dictionary has mismatched candidate characteristics\"\n",
    "assert set(candidate_dict[\"Qintari\"].keys()) == set(['age', 'height', 'strength', 'weight']), \"The dictionary has mismatched candidate characteristics\"\n",
    "assert set(candidate_dict[\"Wendu\"].keys()) == set(['age', 'height', 'strength', 'weight']), \"The dictionary has mismatched candidate characteristics\"\n",
    "assert set(candidate_dict[\"Baxla\"].keys()) == set(['age', 'height', 'strength', 'weight']), \"The dictionary has mismatched candidate characteristics\"\n",
    "assert set(candidate_dict[\"Uluetto\"].keys()) == set(['age', 'height', 'strength', 'weight']), \"The dictionary has mismatched candidate characteristics\"\n",
    "assert set(candidate_dict[\"Reomult\"].keys()) == set(['age', 'height', 'strength', 'weight']), \"The dictionary has mismatched candidate characteristics\"\n",
    "\n",
    "\n",
    "assert isinstance(candidate_dict[\"Squindle\"][\"age\"], int), \"Review the data type of Squindle's age.\"\n",
    "assert isinstance(candidate_dict[\"Flort\"][\"height\"], int), \"Review the data type of Flort's height.\"\n",
    "assert isinstance(candidate_dict[\"Wendu\"][\"weight\"], int), \"Review the data type of Wendu's weight.\"\n",
    "assert isinstance(candidate_dict[\"Reomult\"][\"strength\"], int), \"Review the data type of Reomult's strength.\"\n",
    "\n",
    "assert Squindle_age_hash == hashlib.sha256(json.dumps(candidate_dict[\"Squindle\"][\"age\"]).encode()).hexdigest(), \"The value of Squindle's age is incorrect.\"\n",
    "assert Flort_height_hash == hashlib.sha256(json.dumps(candidate_dict[\"Flort\"][\"height\"]).encode()).hexdigest(), \"The value of Flort's height is incorrect.\"\n",
    "assert Wendu_weight_hash == hashlib.sha256(json.dumps(candidate_dict[\"Wendu\"][\"weight\"]).encode()).hexdigest(), \"The value of Wendu's weight is incorrect.\"\n",
    "assert Reomult_strength_hash == hashlib.sha256(json.dumps(candidate_dict[\"Reomult\"][\"strength\"]).encode()).hexdigest(), \"The value of Reomult's strength is incorrect.\"\n",
    "\n",
    "print(\"Your solution appears correct!\")"
   ]
  },
  {
   "cell_type": "markdown",
   "id": "317a670c",
   "metadata": {
    "deletable": false,
    "editable": false,
    "nbgrader": {
     "grade": false,
     "grade_id": "cell-96707e3e647062af",
     "locked": true,
     "schema_version": 3,
     "solution": false,
     "task": false
    }
   },
   "source": [
    "### 1.2)  Order of precedence\n",
    "\n",
    "To compete in Game X, one must be able to program in Python! \n",
    "\n",
    "In the pre-screening round, candidates are required to arrange a set of stones (A to G) in the correct sequence in order to unlock a door that holds their entrance ticket to the Game. \n",
    "\n",
    "Using the following boolean expression, candidates are asked to place the stones in the sequence of evaluation in Pythons. If in doubt, refer to the `table of precedence` to identify the order in which the operations are executed**. Each operator is identified with a letter from `A` to `G`.\n",
    "\n",
    "The solution should be a **list** where the first element is the letter of the first operation to be performed, the second element is the second operation to be performed, and so on until the last operation to be performed.\n",
    "\n",
    "The result should resemble something like `[\"A\", \"B\", \"D\", \"G\", ...]`\n",
    "\n",
    "The string is:"
   ]
  },
  {
   "cell_type": "code",
   "execution_count": null,
   "id": "bcc88e4e",
   "metadata": {
    "deletable": false,
    "editable": false,
    "nbgrader": {
     "grade": false,
     "grade_id": "cell-035d5daf2cd0e020",
     "locked": true,
     "schema_version": 3,
     "solution": false,
     "task": false
    }
   },
   "outputs": [],
   "source": [
    "#You don't need to execute this cell!\n",
    "\n",
    "variable = 3 != 1+1 and (2**3 > 1 or False)\n",
    "#        A   B   C   D    E   F   G"
   ]
  },
  {
   "cell_type": "markdown",
   "id": "65942ce1",
   "metadata": {
    "deletable": false,
    "editable": false,
    "nbgrader": {
     "grade": false,
     "grade_id": "cell-311a7e806a35fabe",
     "locked": true,
     "schema_version": 3,
     "solution": false,
     "task": false
    }
   },
   "source": [
    "The letters that identify the operations are:\n",
    "- A: `=`\n",
    "- B: `!=`\n",
    "- C: `+`\n",
    "- D: `and`\n",
    "- E: `**`\n",
    "- F: `>`\n",
    "- G: `or`"
   ]
  },
  {
   "cell_type": "code",
   "execution_count": null,
   "id": "cd5e38f2",
   "metadata": {
    "deletable": false,
    "nbgrader": {
     "grade": false,
     "grade_id": "cell-2910243951622497",
     "locked": false,
     "schema_version": 3,
     "solution": true,
     "task": false
    }
   },
   "outputs": [],
   "source": [
    "# Create a list named operators_list that contains the identifiers of the operators sorted by the execution order.\n",
    "# Make sure that you type the strings exactly.\n",
    "\n",
    "# operators_list = ...\n",
    "# YOUR CODE HERE\n",
    "raise NotImplementedError()"
   ]
  },
  {
   "cell_type": "code",
   "execution_count": null,
   "id": "adfb8a80",
   "metadata": {
    "deletable": false,
    "editable": false,
    "nbgrader": {
     "grade": true,
     "grade_id": "cell-4a271c9901ebcdd3",
     "locked": true,
     "points": 1,
     "schema_version": 3,
     "solution": false,
     "task": false
    }
   },
   "outputs": [],
   "source": [
    "operators_hash_0 = 'a9f51566bd6705f7ea6ad54bb9deb449f795582d6529a0e22207b8981233ec58'\n",
    "operators_hash_1 = 'f67ab10ad4e4c53121b6a5fe4da9c10ddee905b978d3788d2723d7bfacbe28a9'\n",
    "operators_hash_2 = '333e0a1e27815d0ceee55c473fe3dc93d56c63e3bee2b3b4aee8eed6d70191a3'\n",
    "operators_hash_3 = '6b23c0d5f35d1b11f9b683f0b0a617355deb11277d91ae091d399c655b87940d'\n",
    "operators_hash_4 = 'df7e70e5021544f4834bbee64a9e3789febc4be81470df629cad6ddb03320a5c'\n",
    "operators_hash_5 = '3f39d5c348e5b79d06e842c114e6cc571583bbf44e4b0ebfda1a01ec05745d43'\n",
    "operators_hash_6 = '559aead08264d5795d3909718cdd05abd49572e84fe55590eef31a88a08fdffd'\n",
    "\n",
    "assert isinstance(operators_list, list), \"Review the data type of operators_list.\"\n",
    "assert len(operators_list) == 7, \"The number of strings is incorrect.\"\n",
    "\n",
    "assert operators_hash_0 == hashlib.sha256(bytes(operators_list[0], encoding='utf8')).hexdigest(), \"At least one value is incorrect.\"\n",
    "assert operators_hash_1 == hashlib.sha256(bytes(operators_list[1], encoding='utf8')).hexdigest(), \"At least one value is incorrect.\"\n",
    "assert operators_hash_2 == hashlib.sha256(bytes(operators_list[2], encoding='utf8')).hexdigest(), \"At least one value is incorrect.\"\n",
    "assert operators_hash_3 == hashlib.sha256(bytes(operators_list[3], encoding='utf8')).hexdigest(), \"At least one value is incorrect.\"\n",
    "assert operators_hash_4 == hashlib.sha256(bytes(operators_list[4], encoding='utf8')).hexdigest(), \"At least one value is incorrect.\"\n",
    "assert operators_hash_5 == hashlib.sha256(bytes(operators_list[5], encoding='utf8')).hexdigest(), \"At least one value is incorrect.\"\n",
    "assert operators_hash_6 == hashlib.sha256(bytes(operators_list[6], encoding='utf8')).hexdigest(), \"At least one value is incorrect.\"\n",
    "print(\"Your solution is correct!\")"
   ]
  },
  {
   "cell_type": "markdown",
   "id": "d4098893",
   "metadata": {
    "deletable": false,
    "editable": false,
    "nbgrader": {
     "grade": false,
     "grade_id": "cell-887d95c7670d87b1",
     "locked": true,
     "schema_version": 3,
     "solution": false,
     "task": false
    }
   },
   "source": [
    "### 1.3) if statements¶\n",
    "\n",
    "The candidates' colors are assigned using the following Python code. \n",
    "\n",
    "<img src=\"./media/if_code.png\" />\n",
    "\n",
    "Please use your logic, rather than executing the code, and decide which colors are assigned to the following players:\n",
    "\n",
    "    *\tKistapho\n",
    "    *\tVilawi\n",
    "    *\tBaxla\n",
    "    *\tQintari"
   ]
  },
  {
   "cell_type": "code",
   "execution_count": null,
   "id": "795b7a97",
   "metadata": {
    "deletable": false,
    "nbgrader": {
     "grade": false,
     "grade_id": "cell-86b889f5f10ed961",
     "locked": false,
     "schema_version": 3,
     "solution": true,
     "task": false
    }
   },
   "outputs": [],
   "source": [
    "# Assign to values to the following variables to show what would be the outcomeif the code above was executed. \n",
    "\n",
    "# kistapho_color = ...\n",
    "# vilawi_color = ...\n",
    "# baxla_color = ...\n",
    "# qintari_color = ...\n",
    "\n",
    "# YOUR CODE HERE\n",
    "raise NotImplementedError()"
   ]
  },
  {
   "cell_type": "code",
   "execution_count": null,
   "id": "fd43f367",
   "metadata": {
    "deletable": false,
    "editable": false,
    "nbgrader": {
     "grade": true,
     "grade_id": "cell-a68470c659fe1a28",
     "locked": true,
     "points": 1,
     "schema_version": 3,
     "solution": false,
     "task": false
    }
   },
   "outputs": [],
   "source": [
    "kistapho_color_hash = \"16477688c0e00699c6cfa4497a3612d7e83c532062b64b250fed8908128ed548\"\n",
    "vilawi_color_hash = \"8e0a1b0ada42172886fd1297e25abf99f14396a9400acbd5f20da20289cff02f\"\n",
    "baxla_color_hash = \"c685a2c9bab235ccdd2ab0ea92281a521c8aaf37895493d080070ea00fc7f5d7\"\n",
    "qintari_color_hash = \"b1f51a511f1da0cd348b8f8598db32e61cb963e5fc69e2b41485bf99590ed75a\"\n",
    "\n",
    "assert isinstance(kistapho_color, str), \"Variable kistapho_color should be a string.\"\n",
    "assert isinstance(vilawi_color, str), \"Variable vilawi_color should be a string.\"\n",
    "assert isinstance(baxla_color, str), \"Variable baxla_color should be a string.\"\n",
    "assert isinstance(qintari_color, str), \"Variable qintari_color should be a string.\"\n",
    "\n",
    "assert kistapho_color_hash == hashlib.sha256(bytes(kistapho_color, encoding='utf8')).hexdigest(), \"The value of kistapho_color is incorrect.\"\n",
    "assert vilawi_color_hash == hashlib.sha256(bytes(vilawi_color, encoding='utf8')).hexdigest(), \"The value of vilawi_color is incorrect.\"\n",
    "assert baxla_color_hash == hashlib.sha256(bytes(baxla_color, encoding='utf8')).hexdigest(), \"The value of baxla_color is incorrect.\"\n",
    "assert qintari_color_hash == hashlib.sha256(bytes(qintari_color, encoding='utf8')).hexdigest(), \"The value of qintari_cbolor is incorrect.\"\n",
    "print(\"Your solution is correct!\")"
   ]
  },
  {
   "cell_type": "markdown",
   "id": "5d83e56a",
   "metadata": {
    "deletable": false,
    "editable": false,
    "nbgrader": {
     "grade": false,
     "grade_id": "cell-5f52e2f0c33c6ba2",
     "locked": true,
     "schema_version": 3,
     "solution": false,
     "task": false
    }
   },
   "source": [
    "## Part 2 - While & For Loops\n",
    "\n",
    "In order to qualify for Game X, the candidates must meet the following requirements:\n",
    "*\tHeight >= 800cm\n",
    "*\t5 < BMI < 20\n"
   ]
  },
  {
   "cell_type": "markdown",
   "id": "cfb924f4",
   "metadata": {
    "deletable": false,
    "editable": false,
    "nbgrader": {
     "grade": false,
     "grade_id": "cell-a8efda994dd737c1",
     "locked": true,
     "schema_version": 3,
     "solution": false,
     "task": false
    }
   },
   "source": [
    "### 2.1) Calculate BMI\n",
    "\n",
    "Read candidates characteristics from `candidate_dict`, and calculate their `BMI` using the following formula. \n",
    "\n",
    "Update the dictionary with their BMI using the key `bmi`. **Pay attention to the unit**, convert if necessary.\n",
    "    \n",
    "$$BMI = \\frac{Weight}{Height^{2}} $$\n",
    "             \n",
    "                                                                where\n",
    "                                                                    Weight is measured in kg\n",
    "                                                                    Height is measured in meters\n"
   ]
  },
  {
   "cell_type": "code",
   "execution_count": null,
   "id": "2669d370",
   "metadata": {
    "deletable": false,
    "nbgrader": {
     "grade": false,
     "grade_id": "cell-e1b6130c39f10570",
     "locked": false,
     "schema_version": 3,
     "solution": true,
     "task": false
    }
   },
   "outputs": [],
   "source": [
    "# Calculate BMI for each candidate and add the results to candidate_dict.\n",
    "\n",
    "# YOUR CODE HERE\n",
    "raise NotImplementedError()"
   ]
  },
  {
   "cell_type": "code",
   "execution_count": null,
   "id": "1fe7a4cc",
   "metadata": {
    "deletable": false,
    "editable": false,
    "nbgrader": {
     "grade": true,
     "grade_id": "cell-be5348ea4d11a7d7",
     "locked": true,
     "points": 2,
     "schema_version": 3,
     "solution": false,
     "task": false
    }
   },
   "outputs": [],
   "source": [
    "assert len(candidate_dict[\"Squindle\"]) == 5, \"The dictionary is missing some candidate characteristics\"\n",
    "assert set(candidate_dict[\"Squindle\"].keys()) == set(['age', 'height', 'strength', 'weight', 'bmi']), \"The dictionary has mismatched candidate characteristics\"\n",
    "\n",
    "assert math.isclose(candidate_dict[\"Squindle\"][\"bmi\"], 2.91, abs_tol=0.01), \"The BMI for Squindle is incorrect.\"\n",
    "assert math.isclose(candidate_dict[\"Flort\"][\"bmi\"], 5.12, abs_tol=0.01), \"The BMI for Flort is incorrect.\"\n",
    "assert math.isclose(candidate_dict[\"Hambula\"][\"bmi\"], 6.43, abs_tol=0.01), \"The BMI for Hambula is incorrect.\"\n",
    "assert math.isclose(candidate_dict[\"Kistapho\"][\"bmi\"], 2.52, abs_tol=0.01), \"The BMI for Kistapho is incorrect.\"\n",
    "assert math.isclose(candidate_dict[\"Vilawi\"][\"bmi\"], 7.92, abs_tol=0.01), \"The BMI for Vilawi is incorrect.\"\n",
    "assert math.isclose(candidate_dict[\"Anhaular\"][\"bmi\"], 13.31, abs_tol=0.01), \"The BMI for Anhaular is incorrect.\"\n",
    "assert math.isclose(candidate_dict[\"Qintari\"][\"bmi\"], 1.74, abs_tol=0.01), \"The BMI for Qintari is incorrect.\"\n",
    "assert math.isclose(candidate_dict[\"Wendu\"][\"bmi\"], 5555.56, abs_tol=0.01), \"The BMI for Wendu is incorrect.\"\n",
    "assert math.isclose(candidate_dict[\"Baxla\"][\"bmi\"], 6.06, abs_tol=0.01), \"The BMI for Baxla is incorrect.\"\n",
    "assert math.isclose(candidate_dict[\"Uluetto\"][\"bmi\"], 19.66, abs_tol=0.01), \"The BMI for Uluetto is incorrect.\"\n",
    "assert math.isclose(candidate_dict[\"Reomult\"][\"bmi\"], 5.67, abs_tol=0.01), \"The BMI for Reomult is incorrect.\"\n",
    "\n",
    "print(\"Your solution is correct!\")"
   ]
  },
  {
   "cell_type": "markdown",
   "id": "81b0e538",
   "metadata": {
    "deletable": false,
    "editable": false,
    "nbgrader": {
     "grade": false,
     "grade_id": "cell-a63d330a6a1e1129",
     "locked": true,
     "schema_version": 3,
     "solution": false,
     "task": false
    }
   },
   "source": [
    "### 2.2) Power Potion to Increase Height\n",
    "\n",
    "Baby `Wendu` really wants to compete in the game. She is very advanced for her age, but her height is doesn´t meet the minimum requirement for Game X (i.e. `height >= 800cm`). Luckily there is a power potion that she can inhale that will double her height every minute. \n",
    "\n",
    "Use a loop to calculate the `minimum time` she needs to inhale to reach the height requirement. Update the `candidates dictionary` with her new `height` and `BMI`. \n",
    "\n",
    "Note - If you want to re-execute the cell after it completes successfully the first time around, you may need to reset the dictionary by re-running the dictionary creation cell in part 1.1"
   ]
  },
  {
   "cell_type": "code",
   "execution_count": null,
   "id": "780b988d",
   "metadata": {
    "deletable": false,
    "nbgrader": {
     "grade": false,
     "grade_id": "cell-64700ac1d2373664",
     "locked": false,
     "schema_version": 3,
     "solution": true,
     "task": false
    }
   },
   "outputs": [],
   "source": [
    "# Calculate the minimum time for Wendu to reach the required height for Game X, and store in the variable time_taken\n",
    "# update candidate dictionary for Wendu\n",
    "\n",
    "# time_taken = ...\n",
    "# candidate_dict[\"Wendu\"][\"height\"] = ...\n",
    "# candidate_dict[\"Wendu\"][\"bmi\"] = ...\n",
    "\n",
    "# YOUR CODE HERE\n",
    "raise NotImplementedError()"
   ]
  },
  {
   "cell_type": "code",
   "execution_count": null,
   "id": "e93bb465",
   "metadata": {
    "deletable": false,
    "editable": false,
    "nbgrader": {
     "grade": true,
     "grade_id": "cell-96095f682edc0492",
     "locked": true,
     "points": 2,
     "schema_version": 3,
     "solution": false,
     "task": false
    }
   },
   "outputs": [],
   "source": [
    "time_hash = '19581e27de7ced00ff1ce50b2047e7a567c76b1cbaebabe5ef03f7c3017bb5b7'\n",
    "height_hash = \"b51e45a12fbae3d0ee2bf77f1a4f80cbf642e2b4d1c237d2c0f7053a54f6b388\"\n",
    "\n",
    "assert isinstance(candidate_dict[\"Wendu\"][\"height\"], int), \"Review the data type of Wendu's height.\"\n",
    "assert isinstance(candidate_dict[\"Wendu\"][\"bmi\"], float), \"Review the data type of Wendu's BMI.\"\n",
    "assert isinstance(time_taken, int), \"Review the data type of the time taken.\"\n",
    "\n",
    "assert time_hash == hashlib.sha256(json.dumps(time_taken).encode()).hexdigest(), \"The value of time taken is incorrect.\"\n",
    "assert height_hash == hashlib.sha256(json.dumps(candidate_dict[\"Wendu\"][\"height\"]).encode()).hexdigest(), \"The value of Wendu's height is incorrect.\"\n",
    "assert math.isclose(candidate_dict[\"Wendu\"][\"bmi\"], 0.021, abs_tol=0.001), \"The BMI for Wendu is incorrect.\"\n",
    "\n",
    "print(\"Your solution is correct!\")"
   ]
  },
  {
   "cell_type": "markdown",
   "id": "a1c5715c",
   "metadata": {
    "deletable": false,
    "editable": false,
    "nbgrader": {
     "grade": false,
     "grade_id": "cell-d5f1c4eb2e00f76c",
     "locked": true,
     "schema_version": 3,
     "solution": false,
     "task": false
    }
   },
   "source": [
    "### 2.3) Balls of Hopstow to Increase Weight\n",
    "\n",
    "Now baby Wendu needs to gain some weight, as her BMI falls well below the requirement (`5 < BMI < 20`). \n",
    "\n",
    "In Planet X, eating `Balls of Hopstow` increases a person’s weight by 10kg. How many balls of Hopstow does Wendu need to eat, in order to enter the game? Update the `candidates dictionary` with her new `weight` and her new `BMI`.\n",
    "\n",
    "Hint: Try using a while loop"
   ]
  },
  {
   "cell_type": "code",
   "execution_count": null,
   "id": "d5188ad2",
   "metadata": {
    "deletable": false,
    "editable": false,
    "nbgrader": {
     "grade": false,
     "grade_id": "cell-eb4e2ba8d61dc7fc",
     "locked": true,
     "schema_version": 3,
     "solution": false,
     "task": false
    }
   },
   "outputs": [],
   "source": [
    "# This cell contains the original characteristics of Wendu. Do not run it after modifying the following cell, \n",
    "# but these variables can be used to restore the values while you are making changes in the following cell\n",
    "\n",
    "wendu_weight_original =  candidate_dict[\"Wendu\"][\"weight\"]\n",
    "wendu_bmi_original =  candidate_dict[\"Wendu\"][\"bmi\"]\n"
   ]
  },
  {
   "cell_type": "code",
   "execution_count": null,
   "id": "4704fc95",
   "metadata": {
    "deletable": false,
    "nbgrader": {
     "grade": false,
     "grade_id": "cell-cb72287d39f4d7da",
     "locked": false,
     "schema_version": 3,
     "solution": true,
     "task": false
    }
   },
   "outputs": [],
   "source": [
    "# Cacluate the number of balls of hopstow Wendu needs to consume, and store it in the variable num_balls.\n",
    "# keep track of the Wendu's BMI changes by storing each value in bmi_list, starting with her original BMI\n",
    "# update candidate_dict with Wendu's new changes\n",
    "\n",
    "# candidate_dict[\"Wendu\"][\"weight\"] = wendu_weight_original\n",
    "# candidate_dict[\"Wendu\"][\"bmi\"] = wendu_bmi_original\n",
    "\n",
    "# bmi_list = [...]\n",
    "# num_balls = ...\n",
    "\n",
    "# YOUR CODE HERE\n",
    "raise NotImplementedError()"
   ]
  },
  {
   "cell_type": "code",
   "execution_count": null,
   "id": "877e0468",
   "metadata": {
    "deletable": false,
    "editable": false,
    "nbgrader": {
     "grade": true,
     "grade_id": "cell-329ed1829c380112",
     "locked": true,
     "points": 2,
     "schema_version": 3,
     "solution": false,
     "task": false
    }
   },
   "outputs": [],
   "source": [
    "num_balls_hash = '85daaf6f7055cd5736287faed9603d712920092c4f8fd0097ec3b650bf27530e'\n",
    "bmi_length_hash = \"3038bfb575bee6a0e61945eff8784835bb2c720634e42734678c083994b7f018\"\n",
    "weight_hash = \"efec9aaf21433bf806e7681de337cac7dbecfbf17b22ad3bcdfe5e46e564f32f\"\n",
    "\n",
    "assert isinstance(num_balls, int), \"Review the data type of the time taken.\"\n",
    "assert isinstance(candidate_dict[\"Wendu\"][\"weight\"], int), \"Review the data type of Wendu's weight.\"\n",
    "assert isinstance(candidate_dict[\"Wendu\"][\"bmi\"], float), \"Review the data type of Wendu's BMI.\"\n",
    "\n",
    "assert num_balls_hash == hashlib.sha256(json.dumps(num_balls).encode()).hexdigest(), \"The value of num_balls is incorrect.\"\n",
    "assert bmi_length_hash == hashlib.sha256(json.dumps(len(bmi_list)).encode()).hexdigest(), \"The number of items in bmi_list is incorrect.\"\n",
    "assert weight_hash == hashlib.sha256(json.dumps(candidate_dict[\"Wendu\"][\"weight\"]).encode()).hexdigest(), \"The weight for Wendu is incorrect.\"\n",
    "\n",
    "assert math.isclose(candidate_dict[\"Wendu\"][\"bmi\"], 5.02, abs_tol=0.01), \"The BMI for Wendu is incorrect.\"\n",
    "\n",
    "print(\"Your solution is correct!\")"
   ]
  },
  {
   "cell_type": "markdown",
   "id": "c2c1ddf6",
   "metadata": {
    "deletable": false,
    "editable": false,
    "nbgrader": {
     "grade": false,
     "grade_id": "cell-1ca5e6fc8ab676da",
     "locked": true,
     "schema_version": 3,
     "solution": false,
     "task": false
    }
   },
   "source": [
    "### 2.4) Calculate the Prize Pool\n",
    "\n",
    "The prize pool for Game-X consists of `100 coins`, where the value of each coin `increases by 3` incrementally. Ie. first coin is worth 1 point, the second worth 4 points, the third worth 7 etc. \n",
    "\n",
    "What is the total value of the prize pool? "
   ]
  },
  {
   "cell_type": "code",
   "execution_count": null,
   "id": "0eef10da",
   "metadata": {
    "deletable": false,
    "nbgrader": {
     "grade": false,
     "grade_id": "cell-3243cc018c19ef15",
     "locked": false,
     "schema_version": 3,
     "solution": true,
     "task": false
    }
   },
   "outputs": [],
   "source": [
    "# store the value in the variable prize_pool\n",
    "\n",
    "# prize_pool = ...\n",
    "\n",
    "# YOUR CODE HERE\n",
    "raise NotImplementedError()"
   ]
  },
  {
   "cell_type": "code",
   "execution_count": null,
   "id": "69e2164e",
   "metadata": {
    "deletable": false,
    "editable": false,
    "nbgrader": {
     "grade": true,
     "grade_id": "cell-40809f394cee6d36",
     "locked": true,
     "points": 2,
     "schema_version": 3,
     "solution": false,
     "task": false
    }
   },
   "outputs": [],
   "source": [
    "pool_hash = '4bd6fb30bbbaba340fb0267845a29e13ac60300746152fb9ce3fc7434586e207'\n",
    "\n",
    "assert isinstance(prize_pool, int), \"Review the data type of the prize_pool.\"\n",
    "assert pool_hash == hashlib.sha256(json.dumps(prize_pool).encode()).hexdigest(), \"The value of prize_pool is incorrect.\"\n",
    "\n",
    "print(\"Your solution is correct!\")\n"
   ]
  },
  {
   "cell_type": "markdown",
   "id": "31cb22ce",
   "metadata": {
    "deletable": false,
    "editable": false,
    "nbgrader": {
     "grade": false,
     "grade_id": "cell-0bb2d7aec4323fc5",
     "locked": true,
     "schema_version": 3,
     "solution": false,
     "task": false
    }
   },
   "source": [
    "## Part 3 - Using Conditionals and Loops together "
   ]
  },
  {
   "cell_type": "markdown",
   "id": "af12ad70",
   "metadata": {
    "deletable": false,
    "editable": false,
    "nbgrader": {
     "grade": false,
     "grade_id": "cell-159952211aa2aff6",
     "locked": true,
     "schema_version": 3,
     "solution": false,
     "task": false
    }
   },
   "source": [
    "### 3.1) Identify the Players that Qualify\n",
    "\n",
    "Using the `candidates dictionary` above, which of the candidates now satisfy the following criteria and thus qualify? \n",
    "*    Height >= 800cm\n",
    "*    5 < BMI < 20\n",
    "\n",
    "Use a loop and store their names in the `player_list`, and then sort them in `alphabetical order`."
   ]
  },
  {
   "cell_type": "code",
   "execution_count": null,
   "id": "252b4219",
   "metadata": {
    "deletable": false,
    "nbgrader": {
     "grade": false,
     "grade_id": "cell-07713da08525370c",
     "locked": false,
     "schema_version": 3,
     "solution": true,
     "task": false
    }
   },
   "outputs": [],
   "source": [
    "# Create a list named player_list to store the names of players that qualify for Game X\n",
    "\n",
    "# player_list = [...]\n",
    "\n",
    "# YOUR CODE HERE\n",
    "raise NotImplementedError()"
   ]
  },
  {
   "cell_type": "code",
   "execution_count": null,
   "id": "4a732bfd",
   "metadata": {
    "deletable": false,
    "editable": false,
    "nbgrader": {
     "grade": true,
     "grade_id": "cell-9477efc58181088a",
     "locked": true,
     "points": 2,
     "schema_version": 3,
     "solution": false,
     "task": false
    }
   },
   "outputs": [],
   "source": [
    "player1_hash = \"a15517dc509fb31c108fa7e7453ae7725b1e70956ac6479a45dd9cc556e92d44\"\n",
    "player2_hash = \"f2321c68d5b7f5aaf3017399211553131019ca3700b0576241b8ad9a7a4e0fcb\"\n",
    "player3_hash = \"02a0cd7425a15c4c5dd325bc95d1be6c9db50575107503281914e0e6adbbcf79\"\n",
    "player4_hash = \"278fd67d9c9894d3f3d541cb49740ec712c182de1690cd309749d70f1a7da69b\"\n",
    "player5_hash = \"3f01098b72c556509334cbd8fe6a10d20022bdca86e23e9d8ce44ee5c86b8ad8\"\n",
    "player6_hash = \"f9d5d62c984e539fcda4a91f02eb091064a8a8e682ca8d90aa89ed62b2d53a85\"\n",
    "player7_hash = \"8eab190b0881c802bb2118b40b5a88b159970dea8f77ee7de8c03056d47811e5\"\n",
    "player8_hash = \"318b32300a722c4e1088019997d7b3c3fbef82efeebdb4124901d29192ff7419\"\n",
    "player_len_hash = \"2c624232cdd221771294dfbb310aca000a0df6ac8b66b696d90ef06fdefb64a3\"\n",
    "\n",
    "assert isinstance(player_list, list), \"Variable player_list should be a list.\"\n",
    "assert player_len_hash == hashlib.sha256(json.dumps(len(player_list)).encode()).hexdigest(), \"The number of items in player_list is incorrect.\"\n",
    "assert player1_hash == hashlib.sha256(bytes(player_list[0], encoding='utf8')).hexdigest(), \"At least one value in player_list is incorrect.\"\n",
    "assert player2_hash == hashlib.sha256(bytes(player_list[1], encoding='utf8')).hexdigest(), \"At least one value in player_list is incorrect.\"\n",
    "assert player3_hash == hashlib.sha256(bytes(player_list[2], encoding='utf8')).hexdigest(), \"At least one value in player_list is incorrect.\"\n",
    "assert player4_hash == hashlib.sha256(bytes(player_list[3], encoding='utf8')).hexdigest(), \"At least one value in player_list is incorrect.\"\n",
    "assert player5_hash == hashlib.sha256(bytes(player_list[4], encoding='utf8')).hexdigest(), \"At least one value in player_list is incorrect.\"\n",
    "assert player6_hash == hashlib.sha256(bytes(player_list[5], encoding='utf8')).hexdigest(), \"At least one value in player_list is incorrect.\"\n",
    "assert player7_hash == hashlib.sha256(bytes(player_list[6], encoding='utf8')).hexdigest(), \"At least one value in player_list is incorrect.\"\n",
    "assert player8_hash == hashlib.sha256(bytes(player_list[7], encoding='utf8')).hexdigest(), \"At least one value in player_list is incorrect.\"\n",
    "\n",
    "print(\"Your solution is correct!\")"
   ]
  },
  {
   "cell_type": "markdown",
   "id": "5ab033cd",
   "metadata": {
    "deletable": false,
    "editable": false,
    "nbgrader": {
     "grade": false,
     "grade_id": "cell-46111752691e153d",
     "locked": true,
     "schema_version": 3,
     "solution": false,
     "task": false
    }
   },
   "source": [
    "### 3.2) Climb that Wall\n",
    "\n",
    "Now that we have a `list of the players`, the game begins! The first challenge is a climbing competition. The players will be given `5 minutes` to ascend the `Wall to Nowhere`. \n",
    "\n",
    "Unfortunately their climbing rate is proportional to their height. Players shorter than `1200 cm` can climb **$\\frac{1}{2}$ of their height** per minute while the other players climbs at the rate of **$\\frac{1}{3}$ of their height** per minute. \n",
    "\n",
    "As a show of respect for the elders, players older than `500 years old` start at `15 meters` above ground.\n",
    "\n",
    "This can be solved using a simple mathematical equation, however, you can also try to implement it as a `for loop` challenge.\n",
    "\n",
    "Store the result of each player in the dictionary `climb_dict_5min`, with the player names being the top level key. ie. `climb_dict_5min[\"Wendu\"]` shows the height achieved by Wendu in the 5 minute period. Please `round down` your answers to the nearest integer values. Hint - check `math.floor()` function"
   ]
  },
  {
   "cell_type": "code",
   "execution_count": null,
   "id": "a4777bd2",
   "metadata": {
    "deletable": false,
    "nbgrader": {
     "grade": false,
     "grade_id": "cell-795209a88bb2fb19",
     "locked": false,
     "schema_version": 3,
     "solution": true,
     "task": false
    }
   },
   "outputs": [],
   "source": [
    "# Create a dictionary named climb_dict_5min uses the player names as the keys, to store the height they reached after 5 minutes\n",
    "\n",
    "# climb_dict_5min = ...\n",
    "\n",
    "# YOUR CODE HERE\n",
    "raise NotImplementedError()"
   ]
  },
  {
   "cell_type": "code",
   "execution_count": null,
   "id": "32570376",
   "metadata": {
    "deletable": false,
    "editable": false,
    "nbgrader": {
     "grade": true,
     "grade_id": "cell-94399f58ba746112",
     "locked": true,
     "points": 2,
     "schema_version": 3,
     "solution": false,
     "task": false
    }
   },
   "outputs": [],
   "source": [
    "player1_hash = \"9e088cddb90e91e1ec3e4cae2aee41bd65d74434c60749d67e12fa74d5de9642\"\n",
    "player2_hash = \"8d0c7eec258a5cfd81e86404ef98ee05d1a1aef3bf2f5b6e82815cc951497a49\"\n",
    "player3_hash = \"2a6a41cdfcbe78c1f94c27f244b17071896f60dc16d5cb3a75708d9cac85c3ff\"\n",
    "player4_hash = \"7e3db2c53a88a81408d72790cd323f8a8a27fafe588c2fab87e4a4d3f437228c\"\n",
    "player5_hash = \"d15eff82084cddbc1b35df821f1a75d41977d9a7a0a0499f4accf528a8fb88f7\"\n",
    "player6_hash = \"2d2c33c52e3df492704c04881c254aa93f37fc0b89dfbafaa9687340e0696ea9\"\n",
    "player7_hash = \"8e3330aeb5e96211f56a9521e80ab8b0a841921b73bc64131abee2701dff81eb\"\n",
    "player8_hash = \"9c67d3b75b1e8364898454889940f9cb70b4022532d0aaaf1f1d979504b149f4\"\n",
    "\n",
    "dict_len_hash = \"2c624232cdd221771294dfbb310aca000a0df6ac8b66b696d90ef06fdefb64a3\"\n",
    "\n",
    "assert isinstance(climb_dict_5min, dict), \"Variable climb_dict_5min should be a dictionary.\"\n",
    "assert dict_len_hash == hashlib.sha256(json.dumps(len(climb_dict_5min)).encode()).hexdigest(), \"The number of items in climb_dict_5min is incorrect.\"\n",
    "\n",
    "assert player1_hash == hashlib.sha256(json.dumps(climb_dict_5min[\"Flort\"]).encode()).hexdigest(), \"At least one value in climb_dict_5min is incorrect.\"\n",
    "assert player2_hash == hashlib.sha256(json.dumps(climb_dict_5min[\"Hambula\"]).encode()).hexdigest(), \"At least one value in climb_dict_5min is incorrect.\"\n",
    "assert player3_hash == hashlib.sha256(json.dumps(climb_dict_5min[\"Vilawi\"]).encode()).hexdigest(), \"At least one value in climb_dict_5min is incorrect.\"\n",
    "assert player4_hash == hashlib.sha256(json.dumps(climb_dict_5min[\"Anhaular\"]).encode()).hexdigest(), \"At least one value in climb_dict_5min is incorrect.\"\n",
    "assert player5_hash == hashlib.sha256(json.dumps(climb_dict_5min[\"Wendu\"]).encode()).hexdigest(), \"At least one value in climb_dict_5min is incorrect.\"\n",
    "assert player6_hash == hashlib.sha256(json.dumps(climb_dict_5min[\"Baxla\"]).encode()).hexdigest(), \"At least one value in climb_dict_5min is incorrect.\"\n",
    "assert player7_hash == hashlib.sha256(json.dumps(climb_dict_5min[\"Uluetto\"]).encode()).hexdigest(), \"At least one value in climb_dict_5min is incorrect.\"\n",
    "assert player8_hash == hashlib.sha256(json.dumps(climb_dict_5min[\"Reomult\"]).encode()).hexdigest(), \"At least one value in climb_dict_5min is incorrect.\"\n",
    "\n",
    "print(\"Your solution is correct!\")\n"
   ]
  },
  {
   "cell_type": "markdown",
   "id": "6af710a7",
   "metadata": {
    "deletable": false,
    "editable": false,
    "nbgrader": {
     "grade": false,
     "grade_id": "cell-c6224960ad708aab",
     "locked": true,
     "schema_version": 3,
     "solution": false,
     "task": false
    }
   },
   "source": [
    "### 3.3) Identify Top Two Players\n",
    "\n",
    "At the end of 5 minutes, what is the sequence of players? Store this answer in the list `climb_result_5min`, with the first element in the list representing the player coming first.\n",
    "\n",
    "Finally, which two players finished on top? Store their names separately as `first_player` and `second_player`.\n",
    "\n",
    "Hint - you may want to use the function `sorted()` (https://stackoverflow.com/questions/20944483/python-3-sort-a-dict-by-its-values)"
   ]
  },
  {
   "cell_type": "code",
   "execution_count": null,
   "id": "14bb66a2",
   "metadata": {
    "deletable": false,
    "nbgrader": {
     "grade": false,
     "grade_id": "cell-1c27c3f79e813777",
     "locked": false,
     "schema_version": 3,
     "solution": true,
     "task": false
    }
   },
   "outputs": [],
   "source": [
    "# Create a list named climb_result_5min to store the results of the climbing competiton, with the first player \n",
    "# being the first item in the list\n",
    "\n",
    "\n",
    "# climb_result_5min = [...]\n",
    "\n",
    "# YOUR CODE HERE\n",
    "raise NotImplementedError()"
   ]
  },
  {
   "cell_type": "code",
   "execution_count": null,
   "id": "1bbe2fab",
   "metadata": {
    "deletable": false,
    "editable": false,
    "nbgrader": {
     "grade": true,
     "grade_id": "cell-bb53cd4163fb8b7f",
     "locked": true,
     "points": 0,
     "schema_version": 3,
     "solution": false,
     "task": false
    }
   },
   "outputs": [],
   "source": [
    "player1_hash = \"3f01098b72c556509334cbd8fe6a10d20022bdca86e23e9d8ce44ee5c86b8ad8\"\n",
    "player2_hash = \"8eab190b0881c802bb2118b40b5a88b159970dea8f77ee7de8c03056d47811e5\"\n",
    "player3_hash = \"a15517dc509fb31c108fa7e7453ae7725b1e70956ac6479a45dd9cc556e92d44\"\n",
    "player4_hash = \"318b32300a722c4e1088019997d7b3c3fbef82efeebdb4124901d29192ff7419\"\n",
    "player5_hash = \"278fd67d9c9894d3f3d541cb49740ec712c182de1690cd309749d70f1a7da69b\"\n",
    "player6_hash = \"f9d5d62c984e539fcda4a91f02eb091064a8a8e682ca8d90aa89ed62b2d53a85\"\n",
    "player7_hash = \"f2321c68d5b7f5aaf3017399211553131019ca3700b0576241b8ad9a7a4e0fcb\"\n",
    "player8_hash = \"02a0cd7425a15c4c5dd325bc95d1be6c9db50575107503281914e0e6adbbcf79\"\n",
    "num_result_hash = \"2c624232cdd221771294dfbb310aca000a0df6ac8b66b696d90ef06fdefb64a3\"\n",
    "\n",
    "assert isinstance(climb_result_5min, list), \"Review the data type of climb_result_5min.\"\n",
    "assert num_result_hash == hashlib.sha256(json.dumps(len(climb_result_5min)).encode()).hexdigest(), \"The number of items in team_1 is incorrect.\"\n",
    "\n",
    "assert player1_hash == hashlib.sha256(bytes(climb_result_5min[0], encoding='utf8')).hexdigest(), \"At least one value in climb_result_5min is incorrect.\"\n",
    "assert player2_hash == hashlib.sha256(bytes(climb_result_5min[1], encoding='utf8')).hexdigest(), \"At least one value in climb_result_5min is incorrect.\"\n",
    "assert player3_hash == hashlib.sha256(bytes(climb_result_5min[2], encoding='utf8')).hexdigest(), \"At least one value in climb_result_5min is incorrect.\"\n",
    "assert player4_hash == hashlib.sha256(bytes(climb_result_5min[3], encoding='utf8')).hexdigest(), \"At least one value in climb_result_5min is incorrect.\"\n",
    "assert player5_hash == hashlib.sha256(bytes(climb_result_5min[4], encoding='utf8')).hexdigest(), \"At least one value in climb_result_5min is incorrect.\"\n",
    "assert player6_hash == hashlib.sha256(bytes(climb_result_5min[5], encoding='utf8')).hexdigest(), \"At least one value in climb_result_5min is incorrect.\"\n",
    "assert player7_hash == hashlib.sha256(bytes(climb_result_5min[6], encoding='utf8')).hexdigest(), \"At least one value in climb_result_5min is incorrect.\"\n",
    "assert player8_hash == hashlib.sha256(bytes(climb_result_5min[7], encoding='utf8')).hexdigest(), \"At least one value in climb_result_5min is incorrect.\"\n",
    "assert player1_hash == hashlib.sha256(bytes(first_player, encoding='utf8')).hexdigest(), \"The name of first_player is incorrect.\"\n",
    "assert player2_hash == hashlib.sha256(bytes(second_player, encoding='utf8')).hexdigest(), \"The name of second_player is incorrect.\"\n",
    "\n",
    "print(\"Your solution is correct!\")"
   ]
  },
  {
   "cell_type": "markdown",
   "id": "1ae34d9e",
   "metadata": {
    "deletable": false,
    "editable": false,
    "nbgrader": {
     "grade": false,
     "grade_id": "cell-fb7b3d7ce032f8f7",
     "locked": true,
     "schema_version": 3,
     "solution": false,
     "task": false
    }
   },
   "source": [
    "### 3.4) Fill that Jar (Relay) - Optional (ungraded)\n",
    "\n",
    "Two teams have been formed, with the following composition:\n",
    "\n",
    "    team_1 : ['Reomult', 'Anhaular', 'Wendu', 'Uluetto']\n",
    "    team_2 : ['Vilawi', 'Flort', 'Hambula', 'Baxla']\n",
    "\n",
    "They enter a relay-style challenge, each team needs to fill a tank with `1000 litres of water`. \n",
    "\n",
    "Following the player sequence given above, the players have 1 minute each to carry jars of water from a starting point to their tank. It so happens that the amount each player manage to is proportional to their  `strength * weight`, i.e. \n",
    "     \n",
    "$$ water filled = player strength * player weight * \\frac{1}{50} $$\n",
    "     \n",
    "\n",
    "\n",
    "After each player has had a turn, the first player starts again. This process continues until the entire tank has been filled.\n",
    "\n",
    "Use loops and conditionals to determine `team_1` or `team_2` would win, who is the `player` and `how many fills` did it take\n"
   ]
  },
  {
   "cell_type": "code",
   "execution_count": null,
   "id": "e39dcdac",
   "metadata": {
    "deletable": false,
    "nbgrader": {
     "grade": false,
     "grade_id": "cell-6480d4fd20c9ba1f",
     "locked": false,
     "schema_version": 3,
     "solution": true,
     "task": false
    }
   },
   "outputs": [],
   "source": [
    "# Determine which would be the winning team, and the last player in the winning team for the relay, and how many fills did it take\n",
    "# To verify your program is working correctly, tt might be helpful to store the player names in each round\n",
    "# as well as using lists to capture the change of water levels for each team\n",
    "\n",
    "team_1 = ['Reomult', 'Anhaular', 'Wendu', 'Uluetto']\n",
    "team_2 = ['Vilawi', 'Flort', 'Hambula', 'Baxla']\n",
    "    \n",
    "# winning_team = ...  team_1 or team_2\n",
    "# last_player = ...\n",
    "# number_of_fillls = ...\n",
    "\n",
    "# YOUR CODE HERE\n",
    "raise NotImplementedError()"
   ]
  },
  {
   "cell_type": "code",
   "execution_count": null,
   "id": "0d568d8e",
   "metadata": {
    "deletable": false,
    "editable": false,
    "nbgrader": {
     "grade": true,
     "grade_id": "cell-83b070269298a5c0",
     "locked": true,
     "points": 0,
     "schema_version": 3,
     "solution": false,
     "task": false
    }
   },
   "outputs": [],
   "source": [
    "winning_team_hash = \"7c832b8fdf7414a64a178f34053eca97053f3f6336d5d4efdfe1bd5f7c8c5f8b\"\n",
    "last_player_hash = \"3f01098b72c556509334cbd8fe6a10d20022bdca86e23e9d8ce44ee5c86b8ad8\"\n",
    "num_fills_hash = \"ef2d127de37b942baad06145e54b0c619a1f22327b2ebbcfbec78f5564afe39d\"\n",
    "\n",
    "assert isinstance(winning_team, str), \"Review the data type of winning_team.\"\n",
    "assert isinstance(last_player, str), \"Review the data type of last_player.\"\n",
    "assert isinstance(number_of_fills, int), \"Review the data type of number_of_fills.\"\n",
    "\n",
    "\n",
    "assert winning_team_hash == hashlib.sha256(bytes(winning_team, encoding='utf8')).hexdigest(), \"winning_team is incorrect.\"\n",
    "assert last_player_hash == hashlib.sha256(bytes(last_player, encoding='utf8')).hexdigest(), \"last_player is incorrect.\"\n",
    "assert num_fills_hash == hashlib.sha256(json.dumps(number_of_fills).encode()).hexdigest(), \"The number_of_fills is incorrect.\"\n",
    "\n",
    "\n",
    "print(\"Your solution is correct!\")"
   ]
  },
  {
   "cell_type": "markdown",
   "id": "11894b5b",
   "metadata": {
    "deletable": false,
    "editable": false,
    "nbgrader": {
     "grade": false,
     "grade_id": "cell-a32538960ed3f8b8",
     "locked": true,
     "schema_version": 3,
     "solution": false,
     "task": false
    }
   },
   "source": [
    "## Part 4 - List Comprehension"
   ]
  },
  {
   "cell_type": "markdown",
   "id": "b1098db9",
   "metadata": {
    "deletable": false,
    "editable": false,
    "nbgrader": {
     "grade": false,
     "grade_id": "cell-1d738c0521b3d1a0",
     "locked": true,
     "schema_version": 3,
     "solution": false,
     "task": false
    }
   },
   "source": [
    "### 4.1) Identify Digits in Strings\n",
    "\n",
    "The prize gallery in Game X is a labyrinth with `1000 rooms` numbered from `0 to 999`. The playmaker informs the team that the prizes are stored in a `room with a 3 in the room number`.\n",
    "\n",
    "Use List Comprehension to save a list of rooms that contain potential prizes, in the list `possible_prize_rooms`\n",
    "\n",
    "Hint - use `str()` to convert a value from an integer to a string\n",
    "\n",
    "Hint 2 - if you are new to list comprehension, it may help to write out how you would implement the solution using a traditional for loop first. It could be easier to convert it to the list comprehension after you nailed down the logic.\n"
   ]
  },
  {
   "cell_type": "code",
   "execution_count": null,
   "id": "c91197bf",
   "metadata": {
    "deletable": false,
    "nbgrader": {
     "grade": false,
     "grade_id": "cell-2fbc492c5b843c6d",
     "locked": false,
     "schema_version": 3,
     "solution": true,
     "task": false
    }
   },
   "outputs": [],
   "source": [
    "# Use a list comprehension to identify potential rooms containing prizes\n",
    "\n",
    "# possible_prize_rooms = [...]\n",
    "\n",
    "# YOUR CODE HERE\n",
    "raise NotImplementedError()"
   ]
  },
  {
   "cell_type": "code",
   "execution_count": null,
   "id": "cbe58073",
   "metadata": {
    "deletable": false,
    "editable": false,
    "nbgrader": {
     "grade": true,
     "grade_id": "cell-3db9af8dbeef62e4",
     "locked": true,
     "points": 2,
     "schema_version": 3,
     "solution": false,
     "task": false
    }
   },
   "outputs": [],
   "source": [
    "num_results_hash = \"3635a91e3da857f7847f68185a116a5260d2593f3913f6b1b66cc2d75b0d6ec0\"\n",
    "result1_hash = \"4e07408562bedb8b60ce05c1decfe3ad16b72230967de01f640b7e4729b49fce\"\n",
    "result2_hash = \"7a61b53701befdae0eeeffaecc73f14e20b537bb0f8b91ad7c2936dc63562b25\"\n",
    "result3_hash = \"3bcc1340d90b3d55accb9a57998b69708fea2a63c39f7369047469f952ccad4f\"\n",
    "result4_hash = \"40fb7164e459a38813f304e3b45db2b074be149818924e46fdc49cc38a3e4955\"\n",
    "\n",
    "\n",
    "assert isinstance(possible_prize_rooms, list), \"Variable possible_prize_rooms should be a list.\"\n",
    "assert num_results_hash == hashlib.sha256(json.dumps(len(possible_prize_rooms)).encode()).hexdigest(), \"The number of items in possible_prize_rooms is incorrect.\"\n",
    "\n",
    "assert result1_hash == hashlib.sha256(json.dumps(possible_prize_rooms[0]).encode()).hexdigest(), \"At least one value in possible_prize_rooms is incorrect.\"\n",
    "assert result2_hash == hashlib.sha256(json.dumps(possible_prize_rooms[10]).encode()).hexdigest(), \"At least one value in possible_prize_rooms is incorrect.\"\n",
    "assert result3_hash == hashlib.sha256(json.dumps(possible_prize_rooms[200]).encode()).hexdigest(), \"At least one value in possible_prize_rooms is incorrect.\"\n",
    "assert result4_hash == hashlib.sha256(json.dumps(possible_prize_rooms[270]).encode()).hexdigest(), \"At least one value in possible_prize_rooms is incorrect.\"\n",
    "\n",
    "print(\"Your solution is correct!\")"
   ]
  },
  {
   "cell_type": "markdown",
   "id": "7ce60fed",
   "metadata": {
    "deletable": false,
    "editable": false,
    "nbgrader": {
     "grade": false,
     "grade_id": "cell-0049cd277956f3fa",
     "locked": true,
     "schema_version": 3,
     "solution": false,
     "task": false
    }
   },
   "source": [
    "### 4.2) Challenge Question on List Comprehension - optional (ungraded)\n",
    "\n",
    "Some rooms in the prize gallery contain some nasty bugs and explosives, and you would want to avoid them. The playmaker kindly informs the team that these rooms are divisible by any digit from 4 to 9. Use a nested list comprehension to find a list of buggy rooms and store them in `possible_buggy_rooms`"
   ]
  },
  {
   "cell_type": "code",
   "execution_count": null,
   "id": "51650e6e",
   "metadata": {
    "deletable": false,
    "nbgrader": {
     "grade": false,
     "grade_id": "cell-57383b2e4efaea1d",
     "locked": false,
     "schema_version": 3,
     "solution": true,
     "task": false
    }
   },
   "outputs": [],
   "source": [
    "# Use a list comprehension to identify potential rooms containing prizes\n",
    "\n",
    "# possible_buggy_rooms = [...]\n",
    "\n",
    "# YOUR CODE HERE\n",
    "raise NotImplementedError()"
   ]
  },
  {
   "cell_type": "code",
   "execution_count": null,
   "id": "1c8a590a",
   "metadata": {
    "deletable": false,
    "editable": false,
    "nbgrader": {
     "grade": true,
     "grade_id": "cell-0313ba2b00efff91",
     "locked": true,
     "points": 0,
     "schema_version": 3,
     "solution": false,
     "task": false
    }
   },
   "outputs": [],
   "source": [
    "num_results_hash = \"4299da7466df09516d290f7a99c8b7a2fa94766eb94a61c24e1ce8f6ca80af44\"\n",
    "result1_hash = \"5feceb66ffc86f38d952786c6d696c79c2dbc239dd4e91b46729d73a27fb57e9\"\n",
    "result2_hash = \"4b227777d4dd1fc61c6f884f48641d02b4d121d3fd328cb08b5531fcacdabf8a\"\n",
    "result3_hash = \"4771bef2c04a34b548b77ea7581cf821152d9dea9c2c85151a07856fe3639314\"\n",
    "result4_hash = \"83cf8b609de60036a8277bd0e96135751bbc07eb234256d4b65b893360651bf2\"\n",
    "\n",
    "\n",
    "assert isinstance(possible_buggy_rooms, list), \"Variable possible_prize_rooms should be a list.\"\n",
    "assert num_results_hash == hashlib.sha256(json.dumps(len(possible_buggy_rooms)).encode()).hexdigest(), \"The number of items in possible_buggy_rooms is incorrect.\"\n",
    "\n",
    "assert result1_hash == hashlib.sha256(json.dumps(possible_buggy_rooms[0]).encode()).hexdigest(), \"At least one value in possible_buggy_rooms is incorrect.\"\n",
    "assert result2_hash == hashlib.sha256(json.dumps(possible_buggy_rooms[1]).encode()).hexdigest(), \"At least one value in possible_buggy_rooms is incorrect.\"\n",
    "assert result3_hash == hashlib.sha256(json.dumps(possible_buggy_rooms[300]).encode()).hexdigest(), \"At least one value in possible_buggy_rooms is incorrect.\"\n",
    "assert result4_hash == hashlib.sha256(json.dumps(possible_buggy_rooms[580]).encode()).hexdigest(), \"At least one value in possible_buggy_rooms is incorrect.\"\n",
    "\n",
    "print(\"Your solution is correct!\")"
   ]
  },
  {
   "cell_type": "markdown",
   "id": "d64ee438",
   "metadata": {
    "deletable": false,
    "editable": false,
    "nbgrader": {
     "grade": false,
     "grade_id": "cell-ba72a9f9f3f219f9",
     "locked": true,
     "schema_version": 3,
     "solution": false,
     "task": false
    }
   },
   "source": [
    "### 4.3) Symmetric matrix\n",
    "\n",
    "As a final challenge, the playmaker ask the players to create the following list of lists (matrix) using List Comprehension. \n",
    "\n",
    "$\n",
    "\\begin{bmatrix}\n",
    "\\begin{bmatrix}0 & 1 & 2 & 3 & 4\\end{bmatrix},\\\\\n",
    "\\begin{bmatrix}1 & 2 & 3 & 4 & 5\\end{bmatrix},\\\\\n",
    "\\begin{bmatrix}2 & 3 & 4 & 5 & 6\\end{bmatrix},\\\\\n",
    "\\begin{bmatrix}3 & 4 & 5 & 6 & 7\\end{bmatrix},\\\\\n",
    "\\begin{bmatrix}4 & 5 & 6 & 7 & 8\\end{bmatrix}\\space\\\\\n",
    "\\end{bmatrix}\n",
    "$"
   ]
  },
  {
   "cell_type": "code",
   "execution_count": null,
   "id": "5eea460c",
   "metadata": {
    "deletable": false,
    "nbgrader": {
     "grade": false,
     "grade_id": "cell-36f6524e13880590",
     "locked": false,
     "schema_version": 3,
     "solution": true,
     "task": false
    }
   },
   "outputs": [],
   "source": [
    "# Create the list of lists above using list comprehension.\n",
    "# The result should be a list assigned to matrix_list. \n",
    "\n",
    "# matrix_list = ...\n",
    "\n",
    "# YOUR CODE HERE\n",
    "raise NotImplementedError()"
   ]
  },
  {
   "cell_type": "code",
   "execution_count": null,
   "id": "51cae9cb",
   "metadata": {
    "deletable": false,
    "editable": false,
    "nbgrader": {
     "grade": true,
     "grade_id": "cell-989fbfb752329e10",
     "locked": true,
     "points": 2,
     "schema_version": 3,
     "solution": false,
     "task": false
    }
   },
   "outputs": [],
   "source": [
    "matrix_hash = 'ef2d127de37b942baad06145e54b0c619a1f22327b2ebbcfbec78f5564afe39d'\n",
    "\n",
    "assert isinstance(matrix_list, list), \"Review the data type of temp_popsicle.\"\n",
    "assert matrix_hash == hashlib.sha256(json.dumps(len(matrix_list)).encode()).hexdigest(), \"The length of matrix_list is incorrect.\"\n",
    "assert matrix_hash == hashlib.sha256(json.dumps(len(matrix_list[0])).encode()).hexdigest(), \"The length of the first element of matrix_list is incorrect.\"\n",
    "assert matrix_hash == hashlib.sha256(json.dumps(matrix_list[2][3]).encode()).hexdigest(), \"Some values are incorrect.\"\n",
    "assert matrix_hash == hashlib.sha256(json.dumps(matrix_list[3][2]).encode()).hexdigest(), \"Some values are incorrect.\"\n",
    "print(\"Your solution is correct!\")"
   ]
  },
  {
   "cell_type": "markdown",
   "id": "89ca5de5",
   "metadata": {
    "deletable": false,
    "editable": false,
    "nbgrader": {
     "grade": false,
     "grade_id": "cell-0ed1e0fdd17c937f",
     "locked": true,
     "schema_version": 3,
     "solution": false,
     "task": false
    }
   },
   "source": [
    "### Extra fact:\n",
    "\n",
    "There is a [story](http://mathandmultimedia.com/2010/09/15/sum-first-n-positive-integers/) about how [Gauss](https://en.wikipedia.org/wiki/Carl_Friedrich_Gauss#Anecdotes) discovered a formula to calculate the sum of the first `n` positive integers. If there is a formula or a simple calculation that you can perform to avoid extensive code, why not using it instead? "
   ]
  },
  {
   "cell_type": "markdown",
   "id": "29e74c5e",
   "metadata": {
    "deletable": false,
    "editable": false,
    "nbgrader": {
     "grade": false,
     "grade_id": "cell-dd18335d9a83ba2e",
     "locked": true,
     "schema_version": 3,
     "solution": false,
     "task": false
    }
   },
   "source": [
    "# Submit your work!\n",
    "\n",
    "To submit your work, [get your slack id](https://moshfeu.medium.com/how-to-find-my-member-id-in-slack-workspace-d4bba942e38c) and fill it in the `slack_id` variable.\n",
    "\n",
    "Example: `slack_id = \"UTS63FC02\"`"
   ]
  },
  {
   "cell_type": "code",
   "execution_count": null,
   "id": "e15661fd",
   "metadata": {
    "deletable": false,
    "nbgrader": {
     "grade": false,
     "grade_id": "cell-57b904034e5fa418",
     "locked": false,
     "schema_version": 3,
     "solution": true,
     "task": false
    }
   },
   "outputs": [],
   "source": [
    "# YOUR CODE HERE\n",
    "raise NotImplementedError()\n",
    "# slack_id ="
   ]
  },
  {
   "cell_type": "code",
   "execution_count": null,
   "id": "7c46f64a",
   "metadata": {
    "deletable": false,
    "editable": false,
    "nbgrader": {
     "grade": true,
     "grade_id": "cell-99496b2a5c109cdc",
     "locked": true,
     "points": 0,
     "schema_version": 3,
     "solution": false,
     "task": false
    }
   },
   "outputs": [],
   "source": [
    "from submit import submit\n",
    "\n",
    "assert slack_id is not None\n",
    "submit(slack_id=slack_id, learning_unit=6)"
   ]
  },
  {
   "cell_type": "code",
   "execution_count": null,
   "id": "66344b1c",
   "metadata": {},
   "outputs": [],
   "source": []
  }
 ],
 "metadata": {
  "kernelspec": {
   "display_name": "Python 3",
   "language": "python",
   "name": "python3"
  },
  "language_info": {
   "codemirror_mode": {
    "name": "ipython",
    "version": 3
   },
   "file_extension": ".py",
   "mimetype": "text/x-python",
   "name": "python",
   "nbconvert_exporter": "python",
   "pygments_lexer": "ipython3",
   "version": "3.7.10"
  }
 },
 "nbformat": 4,
 "nbformat_minor": 5
}
