{
 "cells": [
  {
   "cell_type": "markdown",
   "metadata": {},
   "source": [
    "# SLU06 - Flow Control Extra Notebook"
   ]
  },
  {
   "cell_type": "markdown",
   "metadata": {},
   "source": [
    "### In this notebook some complementary content is explored. You won't need to read it to solve the exercises but they help."
   ]
  },
  {
   "cell_type": "markdown",
   "metadata": {},
   "source": [
    "In this notebook we will be covering the following:\n",
    "\n",
    "- Membership and identity operators\n",
    "- Fibonnaci sequence\n",
    "- Dictionary comprehension"
   ]
  },
  {
   "cell_type": "markdown",
   "metadata": {},
   "source": [
    "---"
   ]
  },
  {
   "cell_type": "markdown",
   "metadata": {},
   "source": [
    "## Membership operators"
   ]
  },
  {
   "cell_type": "markdown",
   "metadata": {},
   "source": [
    "With **membership operators** we can test if a value is present or absence in a list, tuple, dictionary or even a string! \n",
    "\n",
    "Imagine that you have a recipe and you want to test if it contains a certain ingredient. With the comparison operators it would be necessary to compare each ingredient to the one that you want. **Membership operators** simplify this process by answering the question \"Is this ingredient **in** the recipe?\"\n",
    "\n",
    "For lists and tuples, the `in` membership operator tests if the left value is a member of the right sequence. "
   ]
  },
  {
   "cell_type": "code",
   "execution_count": 1,
   "metadata": {},
   "outputs": [
    {
     "name": "stdout",
     "output_type": "stream",
     "text": [
      "True\n",
      "False\n"
     ]
    }
   ],
   "source": [
    "print(1 in [1, 2, 3])\n",
    "\n",
    "print(\"Chocolate\" in (\"Milk\", \"Flour\", \"Eggs\"))"
   ]
  },
  {
   "cell_type": "markdown",
   "metadata": {},
   "source": [
    "You can confirm a list is a member to another list. The left list must be integrally a member of the second list. Even if both lists have the same values, if the values are not exactly in the same position, the first list is not considered to be a member of the second list."
   ]
  },
  {
   "cell_type": "code",
   "execution_count": 2,
   "metadata": {},
   "outputs": [
    {
     "name": "stdout",
     "output_type": "stream",
     "text": [
      "False\n",
      "True\n"
     ]
    }
   ],
   "source": [
    "#Even though Eggs and Milk are present in right list, \n",
    "#the in operator is specifically searching for the list [\"Eggs\", \"Milk\"]\n",
    "#which is not a member of the right list.\n",
    "print([\"Eggs\", \"Milk\"] in [[\"Chocolate\", \"Flour\"], [\"Milk\", \"Eggs\"]])\n",
    "\n",
    "#Now the element [\"\"]\n",
    "print([\"Milk\", \"Eggs\"] in [[\"Chocolate\", \"Flour\"], [\"Milk\", \"Eggs\"]])"
   ]
  },
  {
   "cell_type": "markdown",
   "metadata": {},
   "source": [
    "---"
   ]
  },
  {
   "cell_type": "markdown",
   "metadata": {},
   "source": [
    "For **dictionaries**, the `in` operator tests if the left value is one of the dictionary **keys**."
   ]
  },
  {
   "cell_type": "code",
   "execution_count": 3,
   "metadata": {},
   "outputs": [
    {
     "data": {
      "text/plain": [
       "True"
      ]
     },
     "execution_count": 3,
     "metadata": {},
     "output_type": "execute_result"
    }
   ],
   "source": [
    "\"Milk\" in {\"Chocolate\":2, \"Milk\":2, \"Eggs\":6}"
   ]
  },
  {
   "cell_type": "code",
   "execution_count": 4,
   "metadata": {},
   "outputs": [
    {
     "data": {
      "text/plain": [
       "False"
      ]
     },
     "execution_count": 4,
     "metadata": {},
     "output_type": "execute_result"
    }
   ],
   "source": [
    "\"Flour\" in {\"Chocolate\":2, \"Milk\":2, \"Eggs\":6}"
   ]
  },
  {
   "cell_type": "markdown",
   "metadata": {},
   "source": [
    "---"
   ]
  },
  {
   "cell_type": "markdown",
   "metadata": {},
   "source": [
    "For strings, the `in` operator verifies if a substring exists within another string. It might exist multiple times on the same string. It only matters that it appears at least once."
   ]
  },
  {
   "cell_type": "code",
   "execution_count": 5,
   "metadata": {},
   "outputs": [
    {
     "data": {
      "text/plain": [
       "True"
      ]
     },
     "execution_count": 5,
     "metadata": {},
     "output_type": "execute_result"
    }
   ],
   "source": [
    "\"ana\" in \"Banana\""
   ]
  },
  {
   "cell_type": "markdown",
   "metadata": {},
   "source": [
    "Of course, the substring has to be found exactly as specified because the `in` operator is case-sensitive. (remember \"A\" is diferent from \"a\")"
   ]
  },
  {
   "cell_type": "code",
   "execution_count": 6,
   "metadata": {},
   "outputs": [
    {
     "data": {
      "text/plain": [
       "False"
      ]
     },
     "execution_count": 6,
     "metadata": {},
     "output_type": "execute_result"
    }
   ],
   "source": [
    "\"Ana\" in \"Banana\""
   ]
  },
  {
   "cell_type": "markdown",
   "metadata": {},
   "source": [
    "---"
   ]
  },
  {
   "cell_type": "markdown",
   "metadata": {},
   "source": [
    "## Identity operators"
   ]
  },
  {
   "cell_type": "markdown",
   "metadata": {},
   "source": [
    "The operator `is` [compares the identity of two objects](https://docs.python.org/3/reference/expressions.html#is). The identity of an object is determined with `id()`. If both IDs are the same then `is` returns `True`. If they are different `is` returns `False`. The opposite happens with `is not`.\n",
    "\n",
    "Two examples of the `is` operator below:"
   ]
  },
  {
   "cell_type": "code",
   "execution_count": 7,
   "metadata": {},
   "outputs": [
    {
     "name": "stdout",
     "output_type": "stream",
     "text": [
      "ID of a: 140037378345472\n",
      "ID of b: 140037378345472\n",
      "a is b: True\n"
     ]
    }
   ],
   "source": [
    "a = 1\n",
    "b = a\n",
    "print(\"ID of a:\", id(a))\n",
    "print(\"ID of b:\", id(b))\n",
    "\n",
    "print(\"a is b:\",a is b)"
   ]
  },
  {
   "cell_type": "code",
   "execution_count": 8,
   "metadata": {},
   "outputs": [
    {
     "name": "stdout",
     "output_type": "stream",
     "text": [
      "ID of a_list: 140037152781168\n",
      "ID of b_list: 140037152781168\n",
      "ID of c_list: 140037152781408\n",
      "a_list is b_list: True\n",
      "a_list is c_list: False\n"
     ]
    }
   ],
   "source": [
    "a_list = [1,2,3]\n",
    "b_list = a_list\n",
    "c_list = a_list.copy()\n",
    "print(\"ID of a_list:\", id(a_list))\n",
    "print(\"ID of b_list:\", id(b_list))\n",
    "print(\"ID of c_list:\", id(c_list))\n",
    "\n",
    "print(\"a_list is b_list:\",a_list is b_list)\n",
    "print(\"a_list is c_list:\",a_list is c_list)"
   ]
  },
  {
   "cell_type": "markdown",
   "metadata": {},
   "source": [
    "---"
   ]
  },
  {
   "cell_type": "markdown",
   "metadata": {},
   "source": [
    "When comparing with `None` use the `is` operator and [never equality operators](https://www.python.org/dev/peps/pep-0008/#programming-recommendations)."
   ]
  },
  {
   "cell_type": "code",
   "execution_count": 9,
   "metadata": {},
   "outputs": [
    {
     "data": {
      "text/plain": [
       "True"
      ]
     },
     "execution_count": 9,
     "metadata": {},
     "output_type": "execute_result"
    }
   ],
   "source": [
    "nothing = None\n",
    "nothing is None"
   ]
  },
  {
   "cell_type": "markdown",
   "metadata": {},
   "source": [
    "---"
   ]
  },
  {
   "cell_type": "markdown",
   "metadata": {},
   "source": [
    "## Fibonnaci sequence"
   ]
  },
  {
   "cell_type": "markdown",
   "metadata": {},
   "source": [
    "With everything that we learned in the notebook we can write code to solve most problems under the Sun. We can't explore all capabilities of every statements, otherwise we'll be here until cows bark. That is why you should explore other resources to discover further features and use cases.\n",
    "\n",
    "We'll concluded this SLU with a classical example that uses some of the techniques that we learned so far.\n",
    "\n",
    "The *Fibonacci numbers* form a sequence called [Fibonacci sequence](https://en.wikipedia.org/wiki/Fibonacci_number). The *Fibonacci sequence* is a sequence of numbers such that each number is the sum of the two previous numbers, starting with 0 and 1: $F_0 = 0, F_1 = 1$ and $F_n = F_{n-1} + F_{n-2}$ for $n>1$.\n",
    "\n",
    "We'll write a *Fibonacci sequence* with `fib_len` number of members."
   ]
  },
  {
   "cell_type": "code",
   "execution_count": 10,
   "metadata": {},
   "outputs": [
    {
     "data": {
      "text/plain": [
       "[0, 1, 1, 2, 3, 5, 8, 13, 21, 34, 55, 89, 144]"
      ]
     },
     "execution_count": 10,
     "metadata": {},
     "output_type": "execute_result"
    }
   ],
   "source": [
    "fib_len = 13\n",
    "fib_sequence = []\n",
    "for position in range(fib_len):\n",
    "    \n",
    "    if position == 0:\n",
    "        fib_sequence.append(0)\n",
    "\n",
    "    elif position == 1:\n",
    "        fib_sequence.append(1)\n",
    "    \n",
    "    else:\n",
    "        fib_sequence.append(fib_sequence[position-1] + fib_sequence[position-2])\n",
    "\n",
    "fib_sequence"
   ]
  },
  {
   "cell_type": "markdown",
   "metadata": {},
   "source": [
    "Initially, `position` has value 0. This means that the `if` statement is executed, and thus the first element is 0.\n",
    "Next, `position` has value 1. The `elif` statement is executed, and the second element is assigned as 1.\n",
    "After, `position` has value 2. Because it is greater than 1 and 0, the `else` statement is executed. The new element, which will have index 2, will have the sum of the two previous elements of index 0 and 1. This will repeat for the subsequent iterations."
   ]
  },
  {
   "cell_type": "markdown",
   "metadata": {},
   "source": [
    "You can use this method (or other similar) to calculate the next element of a sequence based on the value of previous elements. I wonder if this will come in handy during the exercises... 🤔"
   ]
  },
  {
   "cell_type": "markdown",
   "metadata": {},
   "source": [
    "---"
   ]
  },
  {
   "cell_type": "markdown",
   "metadata": {},
   "source": [
    "## Dictionary comprehension"
   ]
  },
  {
   "cell_type": "markdown",
   "metadata": {},
   "source": [
    "After the implementation of *list comprehensions* on Python, [dictionary comprehensions](https://www.python.org/dev/peps/pep-0274/) were introduced.\n",
    "\n",
    "The principle is the same as *list comprehension* but with dictionaries.\n",
    "\n",
    "A *dictionary comprehension* is enclosed in curly brackets `{}` and has the following components:\n",
    "- An expression for the `keys`;\n",
    "- A colon `:`;\n",
    "- An expresion for the `values`;\n",
    "- a `for` clause with a control variable and iterable (which includes the `in` keyword);\n",
    "- any number of `for` and `if` clauses (optional);\n",
    "\n",
    "The basic structure of a *dictionary comprehension* can be written as:\n",
    "\n",
    "```python\n",
    "{expression_key : expression_value for control_variable in iterable}\n",
    "```\n",
    "\n",
    "Below are a few examples:"
   ]
  },
  {
   "cell_type": "markdown",
   "metadata": {},
   "source": [
    "Generating a dictionary with the power of integers."
   ]
  },
  {
   "cell_type": "code",
   "execution_count": 11,
   "metadata": {},
   "outputs": [
    {
     "data": {
      "text/plain": [
       "{'0': 0,\n",
       " '1': 1,\n",
       " '2': 4,\n",
       " '3': 9,\n",
       " '4': 16,\n",
       " '5': 25,\n",
       " '6': 36,\n",
       " '7': 49,\n",
       " '8': 64,\n",
       " '9': 81}"
      ]
     },
     "execution_count": 11,
     "metadata": {},
     "output_type": "execute_result"
    }
   ],
   "source": [
    "{str(base): base ** 2 for base in range(10)}"
   ]
  },
  {
   "cell_type": "markdown",
   "metadata": {},
   "source": [
    "---"
   ]
  },
  {
   "cell_type": "markdown",
   "metadata": {},
   "source": [
    "Extracting the values of a dictionary and filtering out the ones that don't fulfill a condition."
   ]
  },
  {
   "cell_type": "code",
   "execution_count": 12,
   "metadata": {},
   "outputs": [
    {
     "data": {
      "text/plain": [
       "{'Portugal': 'Portuguese', 'Brazil': 'Portuguese'}"
      ]
     },
     "execution_count": 12,
     "metadata": {},
     "output_type": "execute_result"
    }
   ],
   "source": [
    "language_country_dict = {\"Portugal\": \"Portuguese\", \"France\": \"French\", \"England\": \"English\", \"Brazil\": \"Portuguese\"}\n",
    "{country : language for country, language in language_country_dict.items() if language == \"Portuguese\"}"
   ]
  },
  {
   "cell_type": "markdown",
   "metadata": {},
   "source": [
    "---"
   ]
  },
  {
   "cell_type": "markdown",
   "metadata": {},
   "source": [
    "You won't need *dictionary comprehension* to solve the exercises or during the entrance exam for LDSSA."
   ]
  }
 ],
 "metadata": {
  "kernelspec": {
   "display_name": "Python 3",
   "language": "python",
   "name": "python3"
  },
  "language_info": {
   "codemirror_mode": {
    "name": "ipython",
    "version": 3
   },
   "file_extension": ".py",
   "mimetype": "text/x-python",
   "name": "python",
   "nbconvert_exporter": "python",
   "pygments_lexer": "ipython3",
   "version": "3.7.10"
  }
 },
 "nbformat": 4,
 "nbformat_minor": 2
}
