{
 "cells": [
  {
   "cell_type": "markdown",
   "id": "3dbf234b",
   "metadata": {
    "nbgrader": {
     "grade": false,
     "grade_id": "cell-1b8bde33aa4550a2",
     "locked": true,
     "schema_version": 3,
     "solution": false,
     "task": false
    }
   },
   "source": [
    "# SLU06 - Python flow control"
   ]
  },
  {
   "cell_type": "markdown",
   "id": "silver-system",
   "metadata": {},
   "source": [
    "Welcome to the world of `Python Flow Control`! \n",
    "\n",
    "Developing a thorough grasp of the concepts and techniques in this topic will provide you with a good programming foundation. We have included many exercises here, some are challenging. Take your time and practice. We are happy to assist, and if you don't have time to complete everything within this week, you can always return to it later."
   ]
  },
  {
   "cell_type": "markdown",
   "id": "7435f7a9",
   "metadata": {
    "nbgrader": {
     "grade": false,
     "grade_id": "cell-6149125f8a18c3dd",
     "locked": true,
     "schema_version": 3,
     "solution": false,
     "task": false
    }
   },
   "source": [
    "## Start by importing these packages"
   ]
  },
  {
   "cell_type": "code",
   "execution_count": 1,
   "id": "56f6adb2",
   "metadata": {
    "nbgrader": {
     "grade": false,
     "grade_id": "cell-53c916c043f5c2c5",
     "locked": true,
     "schema_version": 3,
     "solution": false,
     "task": false
    }
   },
   "outputs": [],
   "source": [
    "# Just for evaluating the results.\n",
    "import math\n",
    "import json\n",
    "import hashlib"
   ]
  },
  {
   "cell_type": "markdown",
   "id": "0eabec23",
   "metadata": {
    "nbgrader": {
     "grade": false,
     "grade_id": "cell-f2797be7442942c1",
     "locked": true,
     "schema_version": 3,
     "solution": false,
     "task": false
    }
   },
   "source": [
    "## Part 1 - Conditionals & Boolean Algebra\n",
    "\n",
    "Welcome to Planet X! \n",
    "\n",
    "Every 7 years the playmakers get together to create Game-X.  Candidates from around the planet prepare to entertain the world. The candidates and their characteristics are shown below:\n",
    "\n",
    "\n",
    "| Candidates | Age | Height (cm) | Weight (kg) | Strength |\n",
    "| - |-: |-: |-: |-: |\n",
    "|Squindle|213|1810|954|6|\n",
    "|Flort|73|1225|769|8|\n",
    "|Hambula|82|999|642|4|\n",
    "|Kistapho|942|1829|842|6|\n",
    "|Vilawi|636|819|531|5|\n",
    "|Anhaular|231|1681|3762|9|\n",
    "|Qintari|60|1732|522|4|\n",
    "|Wendu|7|3|5|2|\n",
    "|Baxla|65|875|464|4|\n",
    "|Uluetto|251|1362|3647|2|\n",
    "|Reomult|740|975|539|9|\n"
   ]
  },
  {
   "cell_type": "markdown",
   "id": "6e497d24",
   "metadata": {
    "nbgrader": {
     "grade": false,
     "grade_id": "cell-84b5910c7bc65fe4",
     "locked": true,
     "schema_version": 3,
     "solution": false,
     "task": false
    }
   },
   "source": [
    "### 1.1) Create Candidates Dictionary\n",
    "\n",
    "Create a nested dictionary of the candidates, `candidate_dict`, using the candidate´s name as the top-level key to capturing all the above characteristics. The second level keys should be `\"age\"`, `\"height\"`, `\"weight\"` and `\"strength\"`. \n",
    "\n",
    "For instance, accessing `candidate_dict[\"Squindle\"][\"age\"]` should return `213`.\n",
    "\n",
    "Please double check that the entries are correct as this dictionary will be used for the remaining exercises in this notebook.\n",
    "\n",
    "Hint: below is an example of a nested dictionary. It is a dictionary of dictionaries.\n",
    "    \n",
    "    nested_dict = { 'dict1': {'key_A': 'value_A'},\n",
    "                    'dict2': {'key_B': 'value_B'}}"
   ]
  },
  {
   "cell_type": "code",
   "execution_count": 2,
   "id": "dce4aabc",
   "metadata": {
    "nbgrader": {
     "grade": false,
     "grade_id": "cell-458be56634b57ca9",
     "locked": false,
     "schema_version": 3,
     "solution": true,
     "task": false
    }
   },
   "outputs": [
    {
     "name": "stdout",
     "output_type": "stream",
     "text": [
      "The value: 19581e27de7ced00ff1ce50b2047e7a567c76b1cbaebabe5ef03f7c3017bb5b7\n"
     ]
    }
   ],
   "source": [
    "# Create a dictionary with the candidates characteristics above\n",
    "# Assign the dictionary to variable candidate_dict.\n",
    "\n",
    "# candidate_dict = ...\n",
    "\n",
    "### BEGIN SOLUTION\n",
    "\n",
    "# Here is the actual solution\n",
    "candidate_dict = {\n",
    "        'Squindle': {'age': 213, 'height': 1810, 'weight': 954, 'strength': 6},\n",
    "        'Flort': {'age': 73, 'height': 1225, 'weight': 769, 'strength': 8},\n",
    "        'Hambula': {'age': 82, 'height': 999, 'weight': 642, 'strength': 4},\n",
    "        'Kistapho': {'age': 942, 'height': 1829, 'weight': 842, 'strength': 6},\n",
    "        'Vilawi': {'age': 636, 'height': 819, 'weight': 531, 'strength': 5},\n",
    "        'Anhaular': {'age': 231, 'height': 1681, 'weight': 3762, 'strength': 9},\n",
    "        'Qintari': {'age': 60, 'height': 1732, 'weight': 522, 'strength': 4},\n",
    "        'Wendu': {'age': 7, 'height': 3, 'weight': 5, 'strength': 2},\n",
    "        'Baxla': {'age': 65, 'height': 875, 'weight': 464, 'strength': 4},\n",
    "        'Uluetto': {'age': 251, 'height': 1362, 'weight': 3647, 'strength': 2},\n",
    "        'Reomult': {'age': 740, 'height': 975, 'weight': 539, 'strength': 9},\n",
    "}\n",
    "\n",
    "print(\n",
    "    'The value:',\n",
    "    hashlib.sha256(\n",
    "        json.dumps(candidate_dict[\"Reomult\"][\"strength\"]).encode()\n",
    "    ).hexdigest()\n",
    ")\n",
    "\n",
    "### END SOLUTION\n"
   ]
  },
  {
   "cell_type": "code",
   "execution_count": 3,
   "id": "3441d948",
   "metadata": {
    "nbgrader": {
     "grade": true,
     "grade_id": "cell-68331a27a8208436",
     "locked": true,
     "points": 2,
     "schema_version": 3,
     "solution": false,
     "task": false
    }
   },
   "outputs": [
    {
     "name": "stdout",
     "output_type": "stream",
     "text": [
      "Your solution appears correct!\n"
     ]
    }
   ],
   "source": [
    "Squindle_age_hash = 'd48ff4b2f68a10fd7c86f185a6ccede0dc0f2c48538d697cb33b6ada3f1e85db'\n",
    "Flort_height_hash = '6ecf763ff6e7cef7b47e6611e1bf76fe2608a2e32a97b2d88b083ae1d8d02c82'\n",
    "Wendu_weight_hash = 'ef2d127de37b942baad06145e54b0c619a1f22327b2ebbcfbec78f5564afe39d'\n",
    "Reomult_strength_hash = '19581e27de7ced00ff1ce50b2047e7a567c76b1cbaebabe5ef03f7c3017bb5b7'\n",
    "\n",
    "assert isinstance(candidate_dict, dict), \"Review the data type of candidate_dict.\"\n",
    "assert len(candidate_dict) == 11, \"The size of the dictionary is incorrect\"\n",
    "assert len(candidate_dict[\"Squindle\"]) == 4, \"The dictionary is missing some candidate characteristics\"\n",
    "assert len(candidate_dict[\"Reomult\"]) == 4, \"The dictionary is missing some candidate characteristics\"\n",
    "\n",
    "assert set(candidate_dict.keys()) == set(['Squindle', 'Flort', 'Hambula', 'Kistapho', 'Vilawi', 'Anhaular', 'Qintari', 'Wendu', 'Baxla', 'Uluetto', 'Reomult']), \"The dictionary has incorrect candidate names\"\n",
    "assert set(candidate_dict[\"Squindle\"].keys()) == set(['age', 'height', 'strength', 'weight']), \"The dictionary has mismatched candidate characteristics\"\n",
    "assert set(candidate_dict[\"Flort\"].keys()) == set(['age', 'height', 'strength', 'weight']), \"The dictionary has mismatched candidate characteristics\"\n",
    "assert set(candidate_dict[\"Hambula\"].keys()) == set(['age', 'height', 'strength', 'weight']), \"The dictionary has mismatched candidate characteristics\"\n",
    "assert set(candidate_dict[\"Kistapho\"].keys()) == set(['age', 'height', 'strength', 'weight']), \"The dictionary has mismatched candidate characteristics\"\n",
    "assert set(candidate_dict[\"Vilawi\"].keys()) == set(['age', 'height', 'strength', 'weight']), \"The dictionary has mismatched candidate characteristics\"\n",
    "assert set(candidate_dict[\"Anhaular\"].keys()) == set(['age', 'height', 'strength', 'weight']), \"The dictionary has mismatched candidate characteristics\"\n",
    "assert set(candidate_dict[\"Qintari\"].keys()) == set(['age', 'height', 'strength', 'weight']), \"The dictionary has mismatched candidate characteristics\"\n",
    "assert set(candidate_dict[\"Wendu\"].keys()) == set(['age', 'height', 'strength', 'weight']), \"The dictionary has mismatched candidate characteristics\"\n",
    "assert set(candidate_dict[\"Baxla\"].keys()) == set(['age', 'height', 'strength', 'weight']), \"The dictionary has mismatched candidate characteristics\"\n",
    "assert set(candidate_dict[\"Uluetto\"].keys()) == set(['age', 'height', 'strength', 'weight']), \"The dictionary has mismatched candidate characteristics\"\n",
    "assert set(candidate_dict[\"Reomult\"].keys()) == set(['age', 'height', 'strength', 'weight']), \"The dictionary has mismatched candidate characteristics\"\n",
    "\n",
    "\n",
    "assert isinstance(candidate_dict[\"Squindle\"][\"age\"], int), \"Review the data type of Squindle's age.\"\n",
    "assert isinstance(candidate_dict[\"Flort\"][\"height\"], int), \"Review the data type of Flort's height.\"\n",
    "assert isinstance(candidate_dict[\"Wendu\"][\"weight\"], int), \"Review the data type of Wendu's weight.\"\n",
    "assert isinstance(candidate_dict[\"Reomult\"][\"strength\"], int), \"Review the data type of Reomult's strength.\"\n",
    "\n",
    "assert Squindle_age_hash == hashlib.sha256(json.dumps(candidate_dict[\"Squindle\"][\"age\"]).encode()).hexdigest(), \"The value of Squindle's age is incorrect.\"\n",
    "assert Flort_height_hash == hashlib.sha256(json.dumps(candidate_dict[\"Flort\"][\"height\"]).encode()).hexdigest(), \"The value of Flort's height is incorrect.\"\n",
    "assert Wendu_weight_hash == hashlib.sha256(json.dumps(candidate_dict[\"Wendu\"][\"weight\"]).encode()).hexdigest(), \"The value of Wendu's weight is incorrect.\"\n",
    "assert Reomult_strength_hash == hashlib.sha256(json.dumps(candidate_dict[\"Reomult\"][\"strength\"]).encode()).hexdigest(), \"The value of Reomult's strength is incorrect.\"\n",
    "\n",
    "print(\"Your solution appears correct!\")"
   ]
  },
  {
   "cell_type": "markdown",
   "id": "317a670c",
   "metadata": {
    "nbgrader": {
     "grade": false,
     "grade_id": "cell-96707e3e647062af",
     "locked": true,
     "schema_version": 3,
     "solution": false,
     "task": false
    }
   },
   "source": [
    "### 1.2)  Order of precedence\n",
    "\n",
    "To compete in Game X, one must be able to program in Python! \n",
    "\n",
    "In the pre-screening round, candidates are required to arrange a set of stones (A to G) in the correct sequence in order to unlock a door that holds their entrance ticket to the Game. \n",
    "\n",
    "Using the following boolean expression, candidates are asked to place the stones in the sequence of evaluation in Pythons. If in doubt, refer to the `table of precedence` to identify the order in which the operations are executed**. Each operator is identified with a letter from `A` to `G`.\n",
    "\n",
    "The solution should be a **list** where the first element is the letter of the first operation to be performed, the second element is the second operation to be performed, and so on until the last operation to be performed.\n",
    "\n",
    "The result should resemble something like `[\"A\", \"B\", \"D\", \"G\", ...]`\n",
    "\n",
    "The string is:"
   ]
  },
  {
   "cell_type": "code",
   "execution_count": 4,
   "id": "bcc88e4e",
   "metadata": {
    "nbgrader": {
     "grade": false,
     "grade_id": "cell-035d5daf2cd0e020",
     "locked": true,
     "schema_version": 3,
     "solution": false,
     "task": false
    }
   },
   "outputs": [],
   "source": [
    "#You don't need to execute this cell!\n",
    "\n",
    "variable = 3 != 1+1 and (2**3 > 1 or False)\n",
    "#        A   B   C   D    E   F   G"
   ]
  },
  {
   "cell_type": "markdown",
   "id": "65942ce1",
   "metadata": {
    "nbgrader": {
     "grade": false,
     "grade_id": "cell-311a7e806a35fabe",
     "locked": true,
     "schema_version": 3,
     "solution": false,
     "task": false
    }
   },
   "source": [
    "The letters that identify the operations are:\n",
    "- A: `=`\n",
    "- B: `!=`\n",
    "- C: `+`\n",
    "- D: `and`\n",
    "- E: `**`\n",
    "- F: `>`\n",
    "- G: `or`"
   ]
  },
  {
   "cell_type": "code",
   "execution_count": 5,
   "id": "cd5e38f2",
   "metadata": {
    "nbgrader": {
     "grade": false,
     "grade_id": "cell-2910243951622497",
     "locked": false,
     "schema_version": 3,
     "solution": true,
     "task": false
    }
   },
   "outputs": [
    {
     "name": "stdout",
     "output_type": "stream",
     "text": [
      "The string: a9f51566bd6705f7ea6ad54bb9deb449f795582d6529a0e22207b8981233ec58\n"
     ]
    }
   ],
   "source": [
    "# Create a list named operators_list that contains the identifiers of the operators sorted by the execution order.\n",
    "# Make sure that you type the strings exactly.\n",
    "\n",
    "# operators_list = ...\n",
    "### BEGIN SOLUTION\n",
    "\n",
    "# Here is the actual solution\n",
    "operators_list = [\"E\", \"F\", \"G\", \"C\", \"B\", \"D\", \"A\"]\n",
    "\n",
    "print(\n",
    "    'The string:',\n",
    "    hashlib.sha256(\n",
    "        bytes(operators_list[0], encoding='utf8')\n",
    "    ).hexdigest()\n",
    ")\n",
    "\n",
    "\n",
    "### END SOLUTION"
   ]
  },
  {
   "cell_type": "code",
   "execution_count": 6,
   "id": "adfb8a80",
   "metadata": {
    "nbgrader": {
     "grade": true,
     "grade_id": "cell-4a271c9901ebcdd3",
     "locked": true,
     "points": 1,
     "schema_version": 3,
     "solution": false,
     "task": false
    }
   },
   "outputs": [
    {
     "name": "stdout",
     "output_type": "stream",
     "text": [
      "Your solution is correct!\n"
     ]
    }
   ],
   "source": [
    "operators_hash_0 = 'a9f51566bd6705f7ea6ad54bb9deb449f795582d6529a0e22207b8981233ec58'\n",
    "operators_hash_1 = 'f67ab10ad4e4c53121b6a5fe4da9c10ddee905b978d3788d2723d7bfacbe28a9'\n",
    "operators_hash_2 = '333e0a1e27815d0ceee55c473fe3dc93d56c63e3bee2b3b4aee8eed6d70191a3'\n",
    "operators_hash_3 = '6b23c0d5f35d1b11f9b683f0b0a617355deb11277d91ae091d399c655b87940d'\n",
    "operators_hash_4 = 'df7e70e5021544f4834bbee64a9e3789febc4be81470df629cad6ddb03320a5c'\n",
    "operators_hash_5 = '3f39d5c348e5b79d06e842c114e6cc571583bbf44e4b0ebfda1a01ec05745d43'\n",
    "operators_hash_6 = '559aead08264d5795d3909718cdd05abd49572e84fe55590eef31a88a08fdffd'\n",
    "\n",
    "assert isinstance(operators_list, list), \"Review the data type of operators_list.\"\n",
    "assert len(operators_list) == 7, \"The number of strings is incorrect.\"\n",
    "\n",
    "assert operators_hash_0 == hashlib.sha256(bytes(operators_list[0], encoding='utf8')).hexdigest(), \"At least one value is incorrect.\"\n",
    "assert operators_hash_1 == hashlib.sha256(bytes(operators_list[1], encoding='utf8')).hexdigest(), \"At least one value is incorrect.\"\n",
    "assert operators_hash_2 == hashlib.sha256(bytes(operators_list[2], encoding='utf8')).hexdigest(), \"At least one value is incorrect.\"\n",
    "assert operators_hash_3 == hashlib.sha256(bytes(operators_list[3], encoding='utf8')).hexdigest(), \"At least one value is incorrect.\"\n",
    "assert operators_hash_4 == hashlib.sha256(bytes(operators_list[4], encoding='utf8')).hexdigest(), \"At least one value is incorrect.\"\n",
    "assert operators_hash_5 == hashlib.sha256(bytes(operators_list[5], encoding='utf8')).hexdigest(), \"At least one value is incorrect.\"\n",
    "assert operators_hash_6 == hashlib.sha256(bytes(operators_list[6], encoding='utf8')).hexdigest(), \"At least one value is incorrect.\"\n",
    "print(\"Your solution is correct!\")"
   ]
  },
  {
   "cell_type": "markdown",
   "id": "d4098893",
   "metadata": {
    "nbgrader": {
     "grade": false,
     "grade_id": "cell-887d95c7670d87b1",
     "locked": true,
     "schema_version": 3,
     "solution": false,
     "task": false
    }
   },
   "source": [
    "### 1.3) if statements¶\n",
    "\n",
    "The candidates' colors are assigned using the following Python code. \n",
    "\n",
    "<img src=\"./media/if_code.png\" />\n",
    "\n",
    "Please use your logic, rather than executing the code, and decide which colors are assigned to the following players:\n",
    "\n",
    "    *\tKistapho\n",
    "    *\tVilawi\n",
    "    *\tBaxla\n",
    "    *\tQintari"
   ]
  },
  {
   "cell_type": "code",
   "execution_count": 7,
   "id": "795b7a97",
   "metadata": {
    "nbgrader": {
     "grade": false,
     "grade_id": "cell-86b889f5f10ed961",
     "locked": false,
     "schema_version": 3,
     "solution": true,
     "task": false
    }
   },
   "outputs": [
    {
     "name": "stdout",
     "output_type": "stream",
     "text": [
      "The string: 16477688c0e00699c6cfa4497a3612d7e83c532062b64b250fed8908128ed548\n"
     ]
    }
   ],
   "source": [
    "# Assign to values to the following variables to show what would be the outcomeif the code above was executed. \n",
    "\n",
    "# kistapho_color = ...\n",
    "# vilawi_color = ...\n",
    "# baxla_color = ...\n",
    "# qintari_color = ...\n",
    "\n",
    "### BEGIN SOLUTION\n",
    "\n",
    "# Here is the actual solution\n",
    "kistapho_color = \"blue\"\n",
    "vilawi_color = \"purple\"\n",
    "baxla_color = \"yellow\"\n",
    "qintari_color = \"red\"\n",
    "\n",
    "print(\n",
    "    'The string:',\n",
    "    hashlib.sha256(\n",
    "        bytes(kistapho_color, encoding='utf8')\n",
    "    ).hexdigest()\n",
    ")\n",
    "\n",
    "### END SOLUTION"
   ]
  },
  {
   "cell_type": "code",
   "execution_count": 8,
   "id": "fd43f367",
   "metadata": {
    "nbgrader": {
     "grade": true,
     "grade_id": "cell-a68470c659fe1a28",
     "locked": true,
     "points": 1,
     "schema_version": 3,
     "solution": false,
     "task": false
    }
   },
   "outputs": [
    {
     "name": "stdout",
     "output_type": "stream",
     "text": [
      "Your solution is correct!\n"
     ]
    }
   ],
   "source": [
    "kistapho_color_hash = \"16477688c0e00699c6cfa4497a3612d7e83c532062b64b250fed8908128ed548\"\n",
    "vilawi_color_hash = \"8e0a1b0ada42172886fd1297e25abf99f14396a9400acbd5f20da20289cff02f\"\n",
    "baxla_color_hash = \"c685a2c9bab235ccdd2ab0ea92281a521c8aaf37895493d080070ea00fc7f5d7\"\n",
    "qintari_color_hash = \"b1f51a511f1da0cd348b8f8598db32e61cb963e5fc69e2b41485bf99590ed75a\"\n",
    "\n",
    "assert isinstance(kistapho_color, str), \"Variable kistapho_color should be a string.\"\n",
    "assert isinstance(vilawi_color, str), \"Variable vilawi_color should be a string.\"\n",
    "assert isinstance(baxla_color, str), \"Variable baxla_color should be a string.\"\n",
    "assert isinstance(qintari_color, str), \"Variable qintari_color should be a string.\"\n",
    "\n",
    "assert kistapho_color_hash == hashlib.sha256(bytes(kistapho_color, encoding='utf8')).hexdigest(), \"The value of kistapho_color is incorrect.\"\n",
    "assert vilawi_color_hash == hashlib.sha256(bytes(vilawi_color, encoding='utf8')).hexdigest(), \"The value of vilawi_color is incorrect.\"\n",
    "assert baxla_color_hash == hashlib.sha256(bytes(baxla_color, encoding='utf8')).hexdigest(), \"The value of baxla_color is incorrect.\"\n",
    "assert qintari_color_hash == hashlib.sha256(bytes(qintari_color, encoding='utf8')).hexdigest(), \"The value of qintari_cbolor is incorrect.\"\n",
    "print(\"Your solution is correct!\")"
   ]
  },
  {
   "cell_type": "markdown",
   "id": "5d83e56a",
   "metadata": {
    "nbgrader": {
     "grade": false,
     "grade_id": "cell-5f52e2f0c33c6ba2",
     "locked": true,
     "schema_version": 3,
     "solution": false,
     "task": false
    }
   },
   "source": [
    "## Part 2 - While & For Loops\n",
    "\n",
    "In order to qualify for Game X, the candidates must meet the following requirements:\n",
    "*\tHeight >= 800cm\n",
    "*\t5 < BMI < 20\n"
   ]
  },
  {
   "cell_type": "markdown",
   "id": "cfb924f4",
   "metadata": {
    "nbgrader": {
     "grade": false,
     "grade_id": "cell-a8efda994dd737c1",
     "locked": true,
     "schema_version": 3,
     "solution": false,
     "task": false
    }
   },
   "source": [
    "### 2.1) Calculate BMI\n",
    "\n",
    "Read candidates characteristics from `candidate_dict`, and calculate their `BMI` using the following formula. \n",
    "\n",
    "Update the dictionary with their BMI using the key `bmi`. **Pay attention to the unit**, convert if necessary.\n",
    "    \n",
    "$$BMI = \\frac{Weight}{Height^{2}} $$\n",
    "             \n",
    "                                                                where\n",
    "                                                                    Weight is measured in kg\n",
    "                                                                    Height is measured in meters\n"
   ]
  },
  {
   "cell_type": "code",
   "execution_count": 9,
   "id": "2669d370",
   "metadata": {
    "nbgrader": {
     "grade": false,
     "grade_id": "cell-e1b6130c39f10570",
     "locked": false,
     "schema_version": 3,
     "solution": true,
     "task": false
    }
   },
   "outputs": [
    {
     "name": "stdout",
     "output_type": "stream",
     "text": [
      "{'age': 213, 'height': 1810, 'weight': 954, 'strength': 6, 'bmi': 2.9119990232288386}\n",
      "{'age': 73, 'height': 1225, 'weight': 769, 'strength': 8, 'bmi': 5.1245314452311534}\n",
      "{'age': 82, 'height': 999, 'weight': 642, 'strength': 4, 'bmi': 6.432859285712139}\n",
      "{'age': 942, 'height': 1829, 'weight': 842, 'strength': 6, 'bmi': 2.51700849056914}\n",
      "{'age': 636, 'height': 819, 'weight': 531, 'strength': 5, 'bmi': 7.916381542755169}\n",
      "{'age': 231, 'height': 1681, 'weight': 3762, 'strength': 9, 'bmi': 13.3132278349089}\n",
      "{'age': 60, 'height': 1732, 'weight': 522, 'strength': 4, 'bmi': 1.7401020859890448}\n",
      "{'age': 7, 'height': 3, 'weight': 5, 'strength': 2, 'bmi': 5555.555555555556}\n",
      "{'age': 65, 'height': 875, 'weight': 464, 'strength': 4, 'bmi': 6.060408163265306}\n",
      "{'age': 251, 'height': 1362, 'weight': 3647, 'strength': 2, 'bmi': 19.659911031759897}\n",
      "{'age': 740, 'height': 975, 'weight': 539, 'strength': 9, 'bmi': 5.669953977646285}\n"
     ]
    }
   ],
   "source": [
    "# Calculate BMI for each candidate and add the results to candidate_dict.\n",
    "\n",
    "### BEGIN SOLUTION\n",
    "\n",
    "# Here is the actual solution\n",
    "for person in candidate_dict.values():\n",
    "    person[\"bmi\"] = person[\"weight\"] / ((person[\"height\"] / 100) **2)\n",
    "    print(person)\n",
    "    \n",
    "### END SOLUTION    "
   ]
  },
  {
   "cell_type": "code",
   "execution_count": 10,
   "id": "1fe7a4cc",
   "metadata": {
    "nbgrader": {
     "grade": true,
     "grade_id": "cell-be5348ea4d11a7d7",
     "locked": true,
     "points": 2,
     "schema_version": 3,
     "solution": false,
     "task": false
    }
   },
   "outputs": [
    {
     "name": "stdout",
     "output_type": "stream",
     "text": [
      "Your solution is correct!\n"
     ]
    }
   ],
   "source": [
    "assert len(candidate_dict[\"Squindle\"]) == 5, \"The dictionary is missing some candidate characteristics\"\n",
    "assert set(candidate_dict[\"Squindle\"].keys()) == set(['age', 'height', 'strength', 'weight', 'bmi']), \"The dictionary has mismatched candidate characteristics\"\n",
    "\n",
    "assert math.isclose(candidate_dict[\"Squindle\"][\"bmi\"], 2.91, abs_tol=0.01), \"The BMI for Squindle is incorrect.\"\n",
    "assert math.isclose(candidate_dict[\"Flort\"][\"bmi\"], 5.12, abs_tol=0.01), \"The BMI for Flort is incorrect.\"\n",
    "assert math.isclose(candidate_dict[\"Hambula\"][\"bmi\"], 6.43, abs_tol=0.01), \"The BMI for Hambula is incorrect.\"\n",
    "assert math.isclose(candidate_dict[\"Kistapho\"][\"bmi\"], 2.52, abs_tol=0.01), \"The BMI for Kistapho is incorrect.\"\n",
    "assert math.isclose(candidate_dict[\"Vilawi\"][\"bmi\"], 7.92, abs_tol=0.01), \"The BMI for Vilawi is incorrect.\"\n",
    "assert math.isclose(candidate_dict[\"Anhaular\"][\"bmi\"], 13.31, abs_tol=0.01), \"The BMI for Anhaular is incorrect.\"\n",
    "assert math.isclose(candidate_dict[\"Qintari\"][\"bmi\"], 1.74, abs_tol=0.01), \"The BMI for Qintari is incorrect.\"\n",
    "assert math.isclose(candidate_dict[\"Wendu\"][\"bmi\"], 5555.56, abs_tol=0.01), \"The BMI for Wendu is incorrect.\"\n",
    "assert math.isclose(candidate_dict[\"Baxla\"][\"bmi\"], 6.06, abs_tol=0.01), \"The BMI for Baxla is incorrect.\"\n",
    "assert math.isclose(candidate_dict[\"Uluetto\"][\"bmi\"], 19.66, abs_tol=0.01), \"The BMI for Uluetto is incorrect.\"\n",
    "assert math.isclose(candidate_dict[\"Reomult\"][\"bmi\"], 5.67, abs_tol=0.01), \"The BMI for Reomult is incorrect.\"\n",
    "\n",
    "print(\"Your solution is correct!\")"
   ]
  },
  {
   "cell_type": "markdown",
   "id": "81b0e538",
   "metadata": {
    "nbgrader": {
     "grade": false,
     "grade_id": "cell-a63d330a6a1e1129",
     "locked": true,
     "schema_version": 3,
     "solution": false,
     "task": false
    }
   },
   "source": [
    "### 2.2) Power Potion to Increase Height\n",
    "\n",
    "Baby `Wendu` really wants to compete in the game. She is very advanced for her age, but her height is doesn´t meet the minimum requirement for Game X (i.e. `height >= 800cm`). Luckily there is a power potion that she can inhale that will double her height every minute. \n",
    "\n",
    "Use a loop to calculate the `minimum time` she needs to inhale to reach the height requirement. Update the `candidates dictionary` with her new `height` and `BMI`. \n",
    "\n",
    "Note - If you want to re-execute the cell after it completes successfully the first time around, you may need to reset the dictionary by re-running the dictionary creation cell in part 1.1"
   ]
  },
  {
   "cell_type": "code",
   "execution_count": 11,
   "id": "780b988d",
   "metadata": {
    "nbgrader": {
     "grade": false,
     "grade_id": "cell-64700ac1d2373664",
     "locked": false,
     "schema_version": 3,
     "solution": true,
     "task": false
    }
   },
   "outputs": [
    {
     "name": "stdout",
     "output_type": "stream",
     "text": [
      "9\n",
      "1536\n",
      "0.021192762586805556\n",
      "time_hashed: 19581e27de7ced00ff1ce50b2047e7a567c76b1cbaebabe5ef03f7c3017bb5b7\n",
      "height_hashed: b51e45a12fbae3d0ee2bf77f1a4f80cbf642e2b4d1c237d2c0f7053a54f6b388\n"
     ]
    }
   ],
   "source": [
    "# Calculate the minimum time for Wendu to reach the required height for Game X, and store in the variable time_taken\n",
    "# update candidate dictionary for Wendu\n",
    "\n",
    "# time_taken = ...\n",
    "# candidate_dict[\"Wendu\"][\"height\"] = ...\n",
    "# candidate_dict[\"Wendu\"][\"bmi\"] = ...\n",
    "\n",
    "### BEGIN SOLUTION\n",
    "\n",
    "# Here is the actual solution\n",
    "\n",
    "wendu_height = candidate_dict[\"Wendu\"][\"height\"]\n",
    "time_taken = 0\n",
    "\n",
    "while wendu_height < 800:\n",
    "    wendu_height = wendu_height * 2\n",
    "    time_taken += 1\n",
    "\n",
    "wendu_bmi = candidate_dict[\"Wendu\"][\"weight\"] / ((wendu_height / 100) **2)\n",
    "\n",
    "candidate_dict[\"Wendu\"][\"height\"] = wendu_height\n",
    "candidate_dict[\"Wendu\"][\"bmi\"] = wendu_bmi\n",
    "\n",
    "print(time_taken)\n",
    "print(wendu_height)\n",
    "print(wendu_bmi)\n",
    "\n",
    "\n",
    "print(\n",
    "    'time_hashed:',\n",
    "    hashlib.sha256(\n",
    "        json.dumps(time_taken).encode()\n",
    "    ).hexdigest()\n",
    ")\n",
    "\n",
    "print(\n",
    "    'height_hashed:',\n",
    "    hashlib.sha256(\n",
    "        json.dumps(wendu_height).encode()\n",
    "    ).hexdigest()\n",
    ")\n",
    "\n",
    "### END SOLUTION"
   ]
  },
  {
   "cell_type": "code",
   "execution_count": 12,
   "id": "e93bb465",
   "metadata": {
    "nbgrader": {
     "grade": true,
     "grade_id": "cell-96095f682edc0492",
     "locked": true,
     "points": 2,
     "schema_version": 3,
     "solution": false,
     "task": false
    }
   },
   "outputs": [
    {
     "name": "stdout",
     "output_type": "stream",
     "text": [
      "Your solution is correct!\n"
     ]
    }
   ],
   "source": [
    "time_hash = '19581e27de7ced00ff1ce50b2047e7a567c76b1cbaebabe5ef03f7c3017bb5b7'\n",
    "height_hash = \"b51e45a12fbae3d0ee2bf77f1a4f80cbf642e2b4d1c237d2c0f7053a54f6b388\"\n",
    "\n",
    "assert isinstance(candidate_dict[\"Wendu\"][\"height\"], int), \"Review the data type of Wendu's height.\"\n",
    "assert isinstance(candidate_dict[\"Wendu\"][\"bmi\"], float), \"Review the data type of Wendu's BMI.\"\n",
    "assert isinstance(time_taken, int), \"Review the data type of the time taken.\"\n",
    "\n",
    "assert time_hash == hashlib.sha256(json.dumps(time_taken).encode()).hexdigest(), \"The value of time taken is incorrect.\"\n",
    "assert height_hash == hashlib.sha256(json.dumps(candidate_dict[\"Wendu\"][\"height\"]).encode()).hexdigest(), \"The value of Wendu's height is incorrect.\"\n",
    "assert math.isclose(candidate_dict[\"Wendu\"][\"bmi\"], 0.021, abs_tol=0.001), \"The BMI for Wendu is incorrect.\"\n",
    "\n",
    "print(\"Your solution is correct!\")"
   ]
  },
  {
   "cell_type": "markdown",
   "id": "a1c5715c",
   "metadata": {
    "nbgrader": {
     "grade": false,
     "grade_id": "cell-d5f1c4eb2e00f76c",
     "locked": true,
     "schema_version": 3,
     "solution": false,
     "task": false
    }
   },
   "source": [
    "### 2.3) Balls of Hopstow to Increase Weight\n",
    "\n",
    "Now baby Wendu needs to gain some weight, as her BMI falls well below the requirement (`5 < BMI < 20`). \n",
    "\n",
    "In Planet X, eating `Balls of Hopstow` increases a person’s weight by 10kg. How many balls of Hopstow does Wendu need to eat, in order to enter the game? Update the `candidates dictionary` with her new `weight` and her new `BMI`.\n",
    "\n",
    "Hint: Try using a while loop"
   ]
  },
  {
   "cell_type": "code",
   "execution_count": 13,
   "id": "d5188ad2",
   "metadata": {
    "nbgrader": {
     "grade": false,
     "grade_id": "cell-eb4e2ba8d61dc7fc",
     "locked": true,
     "schema_version": 3,
     "solution": false,
     "task": false
    }
   },
   "outputs": [],
   "source": [
    "# This cell contains the original characteristics of Wendu. Do not run it after modifying the following cell, \n",
    "# but these variables can be used to restore the values while you are making changes in the following cell\n",
    "\n",
    "wendu_weight_original =  candidate_dict[\"Wendu\"][\"weight\"]\n",
    "wendu_bmi_original =  candidate_dict[\"Wendu\"][\"bmi\"]\n"
   ]
  },
  {
   "cell_type": "code",
   "execution_count": 14,
   "id": "4704fc95",
   "metadata": {
    "nbgrader": {
     "grade": false,
     "grade_id": "cell-cb72287d39f4d7da",
     "locked": false,
     "schema_version": 3,
     "solution": true,
     "task": false
    }
   },
   "outputs": [
    {
     "name": "stdout",
     "output_type": "stream",
     "text": [
      "118\n",
      "5.022684733072917\n",
      "119\n",
      "[0.021192762586805556, 0.06357828776041667, 0.10596381293402778, 0.1483493381076389, 0.19073486328125, 0.2331203884548611, 0.2755059136284722, 0.3178914388020833, 0.3602769639756945, 0.4026624891493056, 0.4450480143229167, 0.4874335394965278, 0.529819064670139, 0.57220458984375, 0.6145901150173612, 0.6569756401909722, 0.6993611653645834, 0.7417466905381944, 0.7841322157118056, 0.8265177408854167, 0.8689032660590278, 0.911288791232639, 0.95367431640625, 0.9960598415798612, 1.0384453667534723, 1.0808308919270833, 1.1232164171006944, 1.1656019422743056, 1.2079874674479167, 1.250372992621528, 1.2927585177951388, 1.33514404296875, 1.3775295681423612, 1.4199150933159723, 1.4623006184895835, 1.5046861436631944, 1.5470716688368056, 1.5894571940104167, 1.631842719184028, 1.6742282443576388, 1.71661376953125, 1.7589992947048612, 1.8013848198784723, 1.8437703450520835, 1.8861558702256944, 1.9285413953993056, 1.9709269205729167, 2.0133124457465277, 2.055697970920139, 2.09808349609375, 2.140469021267361, 2.1828545464409723, 2.2252400716145835, 2.2676255967881946, 2.310011121961806, 2.3523966471354165, 2.3947821723090277, 2.437167697482639, 2.47955322265625, 2.521938747829861, 2.5643242730034723, 2.6067097981770835, 2.6490953233506946, 2.691480848524306, 2.733866373697917, 2.7762518988715277, 2.818637424045139, 2.86102294921875, 2.903408474392361, 2.9457939995659723, 2.9881795247395835, 3.0305650499131946, 3.072950575086806, 3.115336100260417, 3.1577216254340277, 3.200107150607639, 3.24249267578125, 3.284878200954861, 3.3272637261284723, 3.3696492513020835, 3.4120347764756946, 3.454420301649306, 3.496805826822917, 3.5391913519965277, 3.581576877170139, 3.62396240234375, 3.666347927517361, 3.7087334526909723, 3.7511189778645835, 3.7935045030381946, 3.835890028211806, 3.878275553385417, 3.9206610785590277, 3.963046603732639, 4.00543212890625, 4.047817654079862, 4.090203179253472, 4.132588704427083, 4.174974229600695, 4.217359754774305, 4.259745279947917, 4.302130805121528, 4.344516330295139, 4.38690185546875, 4.429287380642362, 4.471672905815972, 4.514058430989583, 4.556443956163195, 4.598829481336805, 4.641215006510417, 4.683600531684028, 4.725986056857639, 4.76837158203125, 4.810757107204862, 4.853142632378472, 4.895528157552083, 4.937913682725695, 4.980299207899305, 5.022684733072917]\n",
      "num_balls_hashed: 85daaf6f7055cd5736287faed9603d712920092c4f8fd0097ec3b650bf27530e\n",
      "bmi_len_hashed: 3038bfb575bee6a0e61945eff8784835bb2c720634e42734678c083994b7f018\n",
      "wendu_weight_hashed: efec9aaf21433bf806e7681de337cac7dbecfbf17b22ad3bcdfe5e46e564f32f\n"
     ]
    }
   ],
   "source": [
    "# Cacluate the number of balls of hopstow Wendu needs to consume, and store it in the variable num_balls.\n",
    "# keep track of the Wendu's BMI changes by storing each value in bmi_list, starting with her original BMI\n",
    "# update candidate_dict with Wendu's new changes\n",
    "\n",
    "# candidate_dict[\"Wendu\"][\"weight\"] = wendu_weight_original\n",
    "# candidate_dict[\"Wendu\"][\"bmi\"] = wendu_bmi_original\n",
    "\n",
    "# bmi_list = [...]\n",
    "# num_balls = ...\n",
    "\n",
    "### BEGIN SOLUTION\n",
    "\n",
    "# Here is the actual solution\n",
    "wendu_weight =  wendu_weight_original\n",
    "wendu_bmi =  wendu_bmi_original\n",
    "\n",
    "required_bmi = 5\n",
    "num_balls = 0\n",
    "bmi_list = [wendu_bmi]\n",
    "\n",
    "while wendu_bmi < required_bmi:\n",
    "    wendu_weight += 10\n",
    "    wendu_bmi = wendu_weight / ((wendu_height / 100)**2)\n",
    "    bmi_list.append(wendu_bmi)\n",
    "    num_balls += 1\n",
    "    \n",
    "print(num_balls)\n",
    "print(wendu_bmi)\n",
    "print(len(bmi_list))\n",
    "print(bmi_list)\n",
    "\n",
    "candidate_dict[\"Wendu\"][\"weight\"] = wendu_weight\n",
    "candidate_dict[\"Wendu\"][\"bmi\"] = wendu_bmi\n",
    "\n",
    "print(\n",
    "    'num_balls_hashed:',\n",
    "    hashlib.sha256(\n",
    "        json.dumps(num_balls).encode()\n",
    "    ).hexdigest()\n",
    ")\n",
    "\n",
    "print(\n",
    "    'bmi_len_hashed:',\n",
    "    hashlib.sha256(\n",
    "        json.dumps(len(bmi_list)).encode()\n",
    "    ).hexdigest()\n",
    ")\n",
    "\n",
    "print(\n",
    "    'wendu_weight_hashed:',\n",
    "    hashlib.sha256(\n",
    "        json.dumps(candidate_dict[\"Wendu\"][\"weight\"]).encode()\n",
    "    ).hexdigest()\n",
    ")\n",
    "\n",
    "### END SOLUTION"
   ]
  },
  {
   "cell_type": "code",
   "execution_count": 15,
   "id": "877e0468",
   "metadata": {
    "nbgrader": {
     "grade": true,
     "grade_id": "cell-329ed1829c380112",
     "locked": true,
     "points": 2,
     "schema_version": 3,
     "solution": false,
     "task": false
    }
   },
   "outputs": [
    {
     "name": "stdout",
     "output_type": "stream",
     "text": [
      "Your solution is correct!\n"
     ]
    }
   ],
   "source": [
    "num_balls_hash = '85daaf6f7055cd5736287faed9603d712920092c4f8fd0097ec3b650bf27530e'\n",
    "bmi_length_hash = \"3038bfb575bee6a0e61945eff8784835bb2c720634e42734678c083994b7f018\"\n",
    "weight_hash = \"efec9aaf21433bf806e7681de337cac7dbecfbf17b22ad3bcdfe5e46e564f32f\"\n",
    "\n",
    "assert isinstance(num_balls, int), \"Review the data type of the time taken.\"\n",
    "assert isinstance(candidate_dict[\"Wendu\"][\"weight\"], int), \"Review the data type of Wendu's weight.\"\n",
    "assert isinstance(candidate_dict[\"Wendu\"][\"bmi\"], float), \"Review the data type of Wendu's BMI.\"\n",
    "\n",
    "assert num_balls_hash == hashlib.sha256(json.dumps(num_balls).encode()).hexdigest(), \"The value of num_balls is incorrect.\"\n",
    "assert bmi_length_hash == hashlib.sha256(json.dumps(len(bmi_list)).encode()).hexdigest(), \"The number of items in bmi_list is incorrect.\"\n",
    "assert weight_hash == hashlib.sha256(json.dumps(candidate_dict[\"Wendu\"][\"weight\"]).encode()).hexdigest(), \"The weight for Wendu is incorrect.\"\n",
    "\n",
    "assert math.isclose(candidate_dict[\"Wendu\"][\"bmi\"], 5.02, abs_tol=0.01), \"The BMI for Wendu is incorrect.\"\n",
    "\n",
    "print(\"Your solution is correct!\")"
   ]
  },
  {
   "cell_type": "markdown",
   "id": "c2c1ddf6",
   "metadata": {
    "nbgrader": {
     "grade": false,
     "grade_id": "cell-1ca5e6fc8ab676da",
     "locked": true,
     "schema_version": 3,
     "solution": false,
     "task": false
    }
   },
   "source": [
    "### 2.4) Calculate the Prize Pool\n",
    "\n",
    "The prize pool for Game-X consists of `100 coins`, where the value of each coin `increases by 3` incrementally. Ie. first coin is worth 1 point, the second worth 4 points, the third worth 7 etc. \n",
    "\n",
    "What is the total value of the prize pool? "
   ]
  },
  {
   "cell_type": "code",
   "execution_count": 16,
   "id": "0eef10da",
   "metadata": {
    "nbgrader": {
     "grade": false,
     "grade_id": "cell-3243cc018c19ef15",
     "locked": false,
     "schema_version": 3,
     "solution": true,
     "task": false
    }
   },
   "outputs": [
    {
     "name": "stdout",
     "output_type": "stream",
     "text": [
      "14950\n",
      "prize_pool  hashed: 4bd6fb30bbbaba340fb0267845a29e13ac60300746152fb9ce3fc7434586e207\n"
     ]
    }
   ],
   "source": [
    "# store the value in the variable prize_pool\n",
    "\n",
    "# prize_pool = ...\n",
    "\n",
    "### BEGIN SOLUTION\n",
    "\n",
    "# Here is the actual solution\n",
    "prize_pool = 0\n",
    "next_val = 1\n",
    "\n",
    "for i in range(100):\n",
    "    prize_pool += next_val\n",
    "    next_val += 3\n",
    "    \n",
    "    \n",
    "print(prize_pool)\n",
    "\n",
    "print(\n",
    "    'prize_pool  hashed:',\n",
    "    hashlib.sha256(\n",
    "        json.dumps(prize_pool).encode()\n",
    "    ).hexdigest()\n",
    ")\n",
    "### END SOLUTION"
   ]
  },
  {
   "cell_type": "code",
   "execution_count": 17,
   "id": "69e2164e",
   "metadata": {
    "nbgrader": {
     "grade": true,
     "grade_id": "cell-40809f394cee6d36",
     "locked": true,
     "points": 2,
     "schema_version": 3,
     "solution": false,
     "task": false
    }
   },
   "outputs": [
    {
     "name": "stdout",
     "output_type": "stream",
     "text": [
      "Your solution is correct!\n"
     ]
    }
   ],
   "source": [
    "pool_hash = '4bd6fb30bbbaba340fb0267845a29e13ac60300746152fb9ce3fc7434586e207'\n",
    "\n",
    "assert isinstance(prize_pool, int), \"Review the data type of the prize_pool.\"\n",
    "assert pool_hash == hashlib.sha256(json.dumps(prize_pool).encode()).hexdigest(), \"The value of prize_pool is incorrect.\"\n",
    "\n",
    "print(\"Your solution is correct!\")\n"
   ]
  },
  {
   "cell_type": "markdown",
   "id": "31cb22ce",
   "metadata": {
    "nbgrader": {
     "grade": false,
     "grade_id": "cell-0bb2d7aec4323fc5",
     "locked": true,
     "schema_version": 3,
     "solution": false,
     "task": false
    }
   },
   "source": [
    "## Part 3 - Using Conditionals and Loops together "
   ]
  },
  {
   "cell_type": "markdown",
   "id": "af12ad70",
   "metadata": {
    "nbgrader": {
     "grade": false,
     "grade_id": "cell-159952211aa2aff6",
     "locked": true,
     "schema_version": 3,
     "solution": false,
     "task": false
    }
   },
   "source": [
    "### 3.1) Identify the Players that Qualify\n",
    "\n",
    "Using the `candidates dictionary` above, which of the candidates now satisfy the following criteria and thus qualify? \n",
    "*    Height >= 800cm\n",
    "*    5 < BMI < 20\n",
    "\n",
    "Use a loop and store their names in the `player_list`, and then sort them in `alphabetical order`."
   ]
  },
  {
   "cell_type": "code",
   "execution_count": 18,
   "id": "252b4219",
   "metadata": {
    "nbgrader": {
     "grade": false,
     "grade_id": "cell-07713da08525370c",
     "locked": false,
     "schema_version": 3,
     "solution": true,
     "task": false
    }
   },
   "outputs": [
    {
     "name": "stdout",
     "output_type": "stream",
     "text": [
      "['Anhaular', 'Baxla', 'Flort', 'Hambula', 'Reomult', 'Uluetto', 'Vilawi', 'Wendu']\n",
      "8\n",
      "The string: a15517dc509fb31c108fa7e7453ae7725b1e70956ac6479a45dd9cc556e92d44\n",
      "player_len_hashed: 2c624232cdd221771294dfbb310aca000a0df6ac8b66b696d90ef06fdefb64a3\n"
     ]
    }
   ],
   "source": [
    "# Create a list named player_list to store the names of players that qualify for Game X\n",
    "\n",
    "# player_list = [...]\n",
    "\n",
    "### BEGIN SOLUTION\n",
    "\n",
    "player_list = []\n",
    "\n",
    "for name, attribute in candidate_dict.items():\n",
    "    if (attribute[\"height\"] >= 800) and (attribute[\"bmi\"] > 5) and (attribute[\"bmi\"] < 20):\n",
    "        player_list.append(name)\n",
    "\n",
    "player_list = sorted(player_list)\n",
    "\n",
    "print(player_list)\n",
    "print(len(player_list))\n",
    "\n",
    "print(\n",
    "    'The string:',\n",
    "    hashlib.sha256(\n",
    "        bytes(player_list[0], encoding='utf8')\n",
    "    ).hexdigest()\n",
    ")\n",
    "\n",
    "print(\n",
    "    'player_len_hashed:',\n",
    "    hashlib.sha256(\n",
    "        json.dumps(len(player_list)).encode()\n",
    "    ).hexdigest()\n",
    ")\n",
    "### END SOLUTION"
   ]
  },
  {
   "cell_type": "code",
   "execution_count": 19,
   "id": "4a732bfd",
   "metadata": {
    "nbgrader": {
     "grade": true,
     "grade_id": "cell-9477efc58181088a",
     "locked": true,
     "points": 2,
     "schema_version": 3,
     "solution": false,
     "task": false
    }
   },
   "outputs": [
    {
     "name": "stdout",
     "output_type": "stream",
     "text": [
      "Your solution is correct!\n"
     ]
    }
   ],
   "source": [
    "player1_hash = \"a15517dc509fb31c108fa7e7453ae7725b1e70956ac6479a45dd9cc556e92d44\"\n",
    "player2_hash = \"f2321c68d5b7f5aaf3017399211553131019ca3700b0576241b8ad9a7a4e0fcb\"\n",
    "player3_hash = \"02a0cd7425a15c4c5dd325bc95d1be6c9db50575107503281914e0e6adbbcf79\"\n",
    "player4_hash = \"278fd67d9c9894d3f3d541cb49740ec712c182de1690cd309749d70f1a7da69b\"\n",
    "player5_hash = \"3f01098b72c556509334cbd8fe6a10d20022bdca86e23e9d8ce44ee5c86b8ad8\"\n",
    "player6_hash = \"f9d5d62c984e539fcda4a91f02eb091064a8a8e682ca8d90aa89ed62b2d53a85\"\n",
    "player7_hash = \"8eab190b0881c802bb2118b40b5a88b159970dea8f77ee7de8c03056d47811e5\"\n",
    "player8_hash = \"318b32300a722c4e1088019997d7b3c3fbef82efeebdb4124901d29192ff7419\"\n",
    "player_len_hash = \"2c624232cdd221771294dfbb310aca000a0df6ac8b66b696d90ef06fdefb64a3\"\n",
    "\n",
    "assert isinstance(player_list, list), \"Variable player_list should be a list.\"\n",
    "assert player_len_hash == hashlib.sha256(json.dumps(len(player_list)).encode()).hexdigest(), \"The number of items in player_list is incorrect.\"\n",
    "assert player1_hash == hashlib.sha256(bytes(player_list[0], encoding='utf8')).hexdigest(), \"At least one value in player_list is incorrect.\"\n",
    "assert player2_hash == hashlib.sha256(bytes(player_list[1], encoding='utf8')).hexdigest(), \"At least one value in player_list is incorrect.\"\n",
    "assert player3_hash == hashlib.sha256(bytes(player_list[2], encoding='utf8')).hexdigest(), \"At least one value in player_list is incorrect.\"\n",
    "assert player4_hash == hashlib.sha256(bytes(player_list[3], encoding='utf8')).hexdigest(), \"At least one value in player_list is incorrect.\"\n",
    "assert player5_hash == hashlib.sha256(bytes(player_list[4], encoding='utf8')).hexdigest(), \"At least one value in player_list is incorrect.\"\n",
    "assert player6_hash == hashlib.sha256(bytes(player_list[5], encoding='utf8')).hexdigest(), \"At least one value in player_list is incorrect.\"\n",
    "assert player7_hash == hashlib.sha256(bytes(player_list[6], encoding='utf8')).hexdigest(), \"At least one value in player_list is incorrect.\"\n",
    "assert player8_hash == hashlib.sha256(bytes(player_list[7], encoding='utf8')).hexdigest(), \"At least one value in player_list is incorrect.\"\n",
    "\n",
    "print(\"Your solution is correct!\")"
   ]
  },
  {
   "cell_type": "markdown",
   "id": "5ab033cd",
   "metadata": {
    "nbgrader": {
     "grade": false,
     "grade_id": "cell-46111752691e153d",
     "locked": true,
     "schema_version": 3,
     "solution": false,
     "task": false
    }
   },
   "source": [
    "### 3.2) Climb that Wall\n",
    "\n",
    "Now that we have a `list of the players`, the game begins! The first challenge is a climbing competition. The players will be given `5 minutes` to ascend the `Wall to Nowhere`. \n",
    "\n",
    "Unfortunately their climbing rate is proportional to their height. Players shorter than `1200 cm` can climb **$\\frac{1}{2}$ of their height** per minute while the other players climbs at the rate of **$\\frac{1}{3}$ of their height** per minute. \n",
    "\n",
    "As a show of respect for the elders, players older than `500 years old` start at `15 meters` above ground.\n",
    "\n",
    "This can be solved using a simple mathematical equation, however, you can also try to implement it as a `for loop` challenge.\n",
    "\n",
    "Store the result of each player in the dictionary `climb_dict_5min`, with the player names being the top level key. ie. `climb_dict_5min[\"Wendu\"]` shows the height achieved by Wendu in the 5 minute period. Please `round down` your answers to the nearest integer values. Hint - check `math.floor()` function"
   ]
  },
  {
   "cell_type": "code",
   "execution_count": 20,
   "id": "a4777bd2",
   "metadata": {
    "nbgrader": {
     "grade": false,
     "grade_id": "cell-795209a88bb2fb19",
     "locked": false,
     "schema_version": 3,
     "solution": true,
     "task": false
    }
   },
   "outputs": [
    {
     "name": "stdout",
     "output_type": "stream",
     "text": [
      "{'Flort': 2041, 'Hambula': 2497, 'Vilawi': 3547, 'Anhaular': 2801, 'Wendu': 2560, 'Baxla': 2187, 'Uluetto': 2270, 'Reomult': 3937}\n",
      "player_hashed: d15eff82084cddbc1b35df821f1a75d41977d9a7a0a0499f4accf528a8fb88f7\n",
      "player_hashed: 2d2c33c52e3df492704c04881c254aa93f37fc0b89dfbafaa9687340e0696ea9\n",
      "player_hashed: 8e3330aeb5e96211f56a9521e80ab8b0a841921b73bc64131abee2701dff81eb\n",
      "player_hashed: 9c67d3b75b1e8364898454889940f9cb70b4022532d0aaaf1f1d979504b149f4\n"
     ]
    }
   ],
   "source": [
    "# Create a dictionary named climb_dict_5min uses the player names as the keys, to store the height they reached after 5 minutes\n",
    "\n",
    "# climb_dict_5min = ...\n",
    "\n",
    "### BEGIN SOLUTION\n",
    "\n",
    "# Here is the actual solution\n",
    "climb_dict_5min = {}\n",
    "\n",
    "for name, attribute in candidate_dict.items():\n",
    "    height = 0    \n",
    "    if name not in player_list:\n",
    "        continue\n",
    "    if (attribute[\"age\"] > 500):\n",
    "        height += 1500\n",
    "    for i in range(5):\n",
    "        if (attribute[\"height\"] < 1200):\n",
    "            height += attribute[\"height\"] * 1/2\n",
    "        else:\n",
    "            height += attribute[\"height\"] * 1/3\n",
    "    climb_dict_5min[name] = math.floor(height)\n",
    "\n",
    "print(climb_dict_5min)    \n",
    "print(\n",
    "    'player_hashed:',\n",
    "    hashlib.sha256(\n",
    "        json.dumps(climb_dict_5min[\"Wendu\"]).encode()\n",
    "    ).hexdigest()\n",
    ")\n",
    "print(\n",
    "    'player_hashed:',\n",
    "    hashlib.sha256(\n",
    "        json.dumps(climb_dict_5min[\"Baxla\"]).encode()\n",
    "    ).hexdigest()\n",
    ")\n",
    "print(\n",
    "    'player_hashed:',\n",
    "    hashlib.sha256(\n",
    "        json.dumps(climb_dict_5min[\"Uluetto\"]).encode()\n",
    "    ).hexdigest()\n",
    ")\n",
    "print(\n",
    "    'player_hashed:',\n",
    "    hashlib.sha256(\n",
    "        json.dumps(climb_dict_5min[\"Reomult\"]).encode()\n",
    "    ).hexdigest()\n",
    ")\n",
    "\n",
    "### END SOLUTION    "
   ]
  },
  {
   "cell_type": "code",
   "execution_count": 21,
   "id": "32570376",
   "metadata": {
    "nbgrader": {
     "grade": true,
     "grade_id": "cell-94399f58ba746112",
     "locked": true,
     "points": 2,
     "schema_version": 3,
     "solution": false,
     "task": false
    }
   },
   "outputs": [
    {
     "name": "stdout",
     "output_type": "stream",
     "text": [
      "Your solution is correct!\n"
     ]
    }
   ],
   "source": [
    "player1_hash = \"9e088cddb90e91e1ec3e4cae2aee41bd65d74434c60749d67e12fa74d5de9642\"\n",
    "player2_hash = \"8d0c7eec258a5cfd81e86404ef98ee05d1a1aef3bf2f5b6e82815cc951497a49\"\n",
    "player3_hash = \"2a6a41cdfcbe78c1f94c27f244b17071896f60dc16d5cb3a75708d9cac85c3ff\"\n",
    "player4_hash = \"7e3db2c53a88a81408d72790cd323f8a8a27fafe588c2fab87e4a4d3f437228c\"\n",
    "player5_hash = \"d15eff82084cddbc1b35df821f1a75d41977d9a7a0a0499f4accf528a8fb88f7\"\n",
    "player6_hash = \"2d2c33c52e3df492704c04881c254aa93f37fc0b89dfbafaa9687340e0696ea9\"\n",
    "player7_hash = \"8e3330aeb5e96211f56a9521e80ab8b0a841921b73bc64131abee2701dff81eb\"\n",
    "player8_hash = \"9c67d3b75b1e8364898454889940f9cb70b4022532d0aaaf1f1d979504b149f4\"\n",
    "\n",
    "dict_len_hash = \"2c624232cdd221771294dfbb310aca000a0df6ac8b66b696d90ef06fdefb64a3\"\n",
    "\n",
    "assert isinstance(climb_dict_5min, dict), \"Variable climb_dict_5min should be a dictionary.\"\n",
    "assert dict_len_hash == hashlib.sha256(json.dumps(len(climb_dict_5min)).encode()).hexdigest(), \"The number of items in climb_dict_5min is incorrect.\"\n",
    "\n",
    "assert player1_hash == hashlib.sha256(json.dumps(climb_dict_5min[\"Flort\"]).encode()).hexdigest(), \"At least one value in climb_dict_5min is incorrect.\"\n",
    "assert player2_hash == hashlib.sha256(json.dumps(climb_dict_5min[\"Hambula\"]).encode()).hexdigest(), \"At least one value in climb_dict_5min is incorrect.\"\n",
    "assert player3_hash == hashlib.sha256(json.dumps(climb_dict_5min[\"Vilawi\"]).encode()).hexdigest(), \"At least one value in climb_dict_5min is incorrect.\"\n",
    "assert player4_hash == hashlib.sha256(json.dumps(climb_dict_5min[\"Anhaular\"]).encode()).hexdigest(), \"At least one value in climb_dict_5min is incorrect.\"\n",
    "assert player5_hash == hashlib.sha256(json.dumps(climb_dict_5min[\"Wendu\"]).encode()).hexdigest(), \"At least one value in climb_dict_5min is incorrect.\"\n",
    "assert player6_hash == hashlib.sha256(json.dumps(climb_dict_5min[\"Baxla\"]).encode()).hexdigest(), \"At least one value in climb_dict_5min is incorrect.\"\n",
    "assert player7_hash == hashlib.sha256(json.dumps(climb_dict_5min[\"Uluetto\"]).encode()).hexdigest(), \"At least one value in climb_dict_5min is incorrect.\"\n",
    "assert player8_hash == hashlib.sha256(json.dumps(climb_dict_5min[\"Reomult\"]).encode()).hexdigest(), \"At least one value in climb_dict_5min is incorrect.\"\n",
    "\n",
    "print(\"Your solution is correct!\")\n"
   ]
  },
  {
   "cell_type": "markdown",
   "id": "6af710a7",
   "metadata": {
    "nbgrader": {
     "grade": false,
     "grade_id": "cell-c6224960ad708aab",
     "locked": true,
     "schema_version": 3,
     "solution": false,
     "task": false
    }
   },
   "source": [
    "### 3.3) Identify Top Two Players\n",
    "\n",
    "At the end of 5 minutes, what is the sequence of players? Store this answer in the list `climb_result_5min`, with the first element in the list representing the player coming first.\n",
    "\n",
    "Finally, which two players finished on top? Store their names separately as `first_player` and `second_player`.\n",
    "\n",
    "Hint - you may want to use the function `sorted()` (https://stackoverflow.com/questions/20944483/python-3-sort-a-dict-by-its-values)"
   ]
  },
  {
   "cell_type": "code",
   "execution_count": 22,
   "id": "14bb66a2",
   "metadata": {
    "nbgrader": {
     "grade": false,
     "grade_id": "cell-1c27c3f79e813777",
     "locked": false,
     "schema_version": 3,
     "solution": true,
     "task": false
    }
   },
   "outputs": [
    {
     "name": "stdout",
     "output_type": "stream",
     "text": [
      "The string: 278fd67d9c9894d3f3d541cb49740ec712c182de1690cd309749d70f1a7da69b\n",
      "['Reomult', 'Vilawi', 'Anhaular', 'Wendu', 'Hambula', 'Uluetto', 'Baxla', 'Flort']\n",
      "Reomult\n",
      "Vilawi\n"
     ]
    }
   ],
   "source": [
    "# Create a list named climb_result_5min to store the results of the climbing competiton, with the first player \n",
    "# being the first item in the list\n",
    "\n",
    "\n",
    "# climb_result_5min = [...]\n",
    "\n",
    "### BEGIN SOLUTION\n",
    "\n",
    "# Here is the actual solution\n",
    "climb_result_5min = sorted(climb_dict_5min, key=climb_dict_5min.get, reverse=True)\n",
    "first_player = climb_result_5min[0]\n",
    "second_player = climb_result_5min[1]\n",
    "\n",
    "print(\n",
    "    'The string:',\n",
    "    hashlib.sha256(\n",
    "        bytes(climb_result_5min[4], encoding='utf8')\n",
    "    ).hexdigest()\n",
    ")\n",
    "\n",
    "\n",
    "print(climb_result_5min)\n",
    "print(first_player)\n",
    "print(second_player)\n",
    "\n",
    "### END SOLUTION"
   ]
  },
  {
   "cell_type": "code",
   "execution_count": 23,
   "id": "1bbe2fab",
   "metadata": {
    "nbgrader": {
     "grade": true,
     "grade_id": "cell-bb53cd4163fb8b7f",
     "locked": true,
     "points": 0,
     "schema_version": 3,
     "solution": false,
     "task": false
    }
   },
   "outputs": [
    {
     "name": "stdout",
     "output_type": "stream",
     "text": [
      "Your solution is correct!\n"
     ]
    }
   ],
   "source": [
    "player1_hash = \"3f01098b72c556509334cbd8fe6a10d20022bdca86e23e9d8ce44ee5c86b8ad8\"\n",
    "player2_hash = \"8eab190b0881c802bb2118b40b5a88b159970dea8f77ee7de8c03056d47811e5\"\n",
    "player3_hash = \"a15517dc509fb31c108fa7e7453ae7725b1e70956ac6479a45dd9cc556e92d44\"\n",
    "player4_hash = \"318b32300a722c4e1088019997d7b3c3fbef82efeebdb4124901d29192ff7419\"\n",
    "player5_hash = \"278fd67d9c9894d3f3d541cb49740ec712c182de1690cd309749d70f1a7da69b\"\n",
    "player6_hash = \"f9d5d62c984e539fcda4a91f02eb091064a8a8e682ca8d90aa89ed62b2d53a85\"\n",
    "player7_hash = \"f2321c68d5b7f5aaf3017399211553131019ca3700b0576241b8ad9a7a4e0fcb\"\n",
    "player8_hash = \"02a0cd7425a15c4c5dd325bc95d1be6c9db50575107503281914e0e6adbbcf79\"\n",
    "num_result_hash = \"2c624232cdd221771294dfbb310aca000a0df6ac8b66b696d90ef06fdefb64a3\"\n",
    "\n",
    "assert isinstance(climb_result_5min, list), \"Review the data type of climb_result_5min.\"\n",
    "assert num_result_hash == hashlib.sha256(json.dumps(len(climb_result_5min)).encode()).hexdigest(), \"The number of items in team_1 is incorrect.\"\n",
    "\n",
    "assert player1_hash == hashlib.sha256(bytes(climb_result_5min[0], encoding='utf8')).hexdigest(), \"At least one value in climb_result_5min is incorrect.\"\n",
    "assert player2_hash == hashlib.sha256(bytes(climb_result_5min[1], encoding='utf8')).hexdigest(), \"At least one value in climb_result_5min is incorrect.\"\n",
    "assert player3_hash == hashlib.sha256(bytes(climb_result_5min[2], encoding='utf8')).hexdigest(), \"At least one value in climb_result_5min is incorrect.\"\n",
    "assert player4_hash == hashlib.sha256(bytes(climb_result_5min[3], encoding='utf8')).hexdigest(), \"At least one value in climb_result_5min is incorrect.\"\n",
    "assert player5_hash == hashlib.sha256(bytes(climb_result_5min[4], encoding='utf8')).hexdigest(), \"At least one value in climb_result_5min is incorrect.\"\n",
    "assert player6_hash == hashlib.sha256(bytes(climb_result_5min[5], encoding='utf8')).hexdigest(), \"At least one value in climb_result_5min is incorrect.\"\n",
    "assert player7_hash == hashlib.sha256(bytes(climb_result_5min[6], encoding='utf8')).hexdigest(), \"At least one value in climb_result_5min is incorrect.\"\n",
    "assert player8_hash == hashlib.sha256(bytes(climb_result_5min[7], encoding='utf8')).hexdigest(), \"At least one value in climb_result_5min is incorrect.\"\n",
    "assert player1_hash == hashlib.sha256(bytes(first_player, encoding='utf8')).hexdigest(), \"The name of first_player is incorrect.\"\n",
    "assert player2_hash == hashlib.sha256(bytes(second_player, encoding='utf8')).hexdigest(), \"The name of second_player is incorrect.\"\n",
    "\n",
    "print(\"Your solution is correct!\")"
   ]
  },
  {
   "cell_type": "markdown",
   "id": "1ae34d9e",
   "metadata": {
    "nbgrader": {
     "grade": false,
     "grade_id": "cell-fb7b3d7ce032f8f7",
     "locked": true,
     "schema_version": 3,
     "solution": false,
     "task": false
    }
   },
   "source": [
    "### 3.4) Fill that Jar (Relay) - Optional (ungraded)\n",
    "\n",
    "Two teams have been formed, with the following composition:\n",
    "\n",
    "    team_1 : ['Reomult', 'Anhaular', 'Wendu', 'Uluetto']\n",
    "    team_2 : ['Vilawi', 'Flort', 'Hambula', 'Baxla']\n",
    "\n",
    "They enter a relay-style challenge, each team needs to fill a tank with `1000 litres of water`. \n",
    "\n",
    "Following the player sequence given above, the players have 1 minute each to carry jars of water from a starting point to their tank. It so happens that the amount each player manage to is proportional to their  `strength * weight`, i.e. \n",
    "     \n",
    "$$ water filled = player strength * player weight * \\frac{1}{50} $$\n",
    "     \n",
    "\n",
    "\n",
    "After each player has had a turn, the first player starts again. This process continues until the entire tank has been filled.\n",
    "\n",
    "Use loops and conditionals to determine `team_1` or `team_2` would win, who is the `player` and `how many fills` did it take\n"
   ]
  },
  {
   "cell_type": "code",
   "execution_count": 24,
   "id": "e39dcdac",
   "metadata": {
    "nbgrader": {
     "grade": false,
     "grade_id": "cell-6480d4fd20c9ba1f",
     "locked": false,
     "schema_version": 3,
     "solution": true,
     "task": false
    }
   },
   "outputs": [
    {
     "name": "stdout",
     "output_type": "stream",
     "text": [
      "winning team team_1\n",
      "last_player Reomult\n",
      "num fills 5\n",
      "tank1_levels [0, 97.02, 774.18, 821.5799999999999, 967.4599999999999, 1064.48]\n",
      "tank2_levels [0, 53.1, 176.14000000000001, 227.5, 264.62, 317.72]\n",
      "team 1 players ['Reomult', 'Anhaular', 'Wendu', 'Uluetto', 'Reomult']\n",
      "team 2 players ['Vilawi', 'Flort', 'Hambula', 'Baxla', 'Vilawi']\n",
      "number_of_fills_hashed: ef2d127de37b942baad06145e54b0c619a1f22327b2ebbcfbec78f5564afe39d\n",
      "winning team: 7c832b8fdf7414a64a178f34053eca97053f3f6336d5d4efdfe1bd5f7c8c5f8b\n",
      "last player: 3f01098b72c556509334cbd8fe6a10d20022bdca86e23e9d8ce44ee5c86b8ad8\n"
     ]
    }
   ],
   "source": [
    "# Determine which would be the winning team, and the last player in the winning team for the relay, and how many fills did it take\n",
    "# To verify your program is working correctly, tt might be helpful to store the player names in each round\n",
    "# as well as using lists to capture the change of water levels for each team\n",
    "\n",
    "team_1 = ['Reomult', 'Anhaular', 'Wendu', 'Uluetto']\n",
    "team_2 = ['Vilawi', 'Flort', 'Hambula', 'Baxla']\n",
    "    \n",
    "# winning_team = ...  team_1 or team_2\n",
    "# last_player = ...\n",
    "# number_of_fillls = ...\n",
    "\n",
    "### BEGIN SOLUTION\n",
    "\n",
    "# Here is the actual solution\n",
    "number_of_fills = 0\n",
    "tank_1 = 0\n",
    "tank_2 = 0\n",
    "\n",
    "tank1_levels = [0]\n",
    "tank2_levels = [0]\n",
    "\n",
    "player_names1 = []\n",
    "player_names2 = []\n",
    "\n",
    "while (tank_1 < 1000 and tank_2 < 1000):\n",
    "    player_num = number_of_fills % len(team_1)\n",
    "    \n",
    "    tank_1 += candidate_dict[team_1[player_num]][\"strength\"] *  candidate_dict[team_1[player_num]][\"weight\"] / 50\n",
    "    tank_2 += candidate_dict[team_2[player_num]][\"strength\"] *  candidate_dict[team_2[player_num]][\"weight\"] / 50\n",
    "    \n",
    "    tank1_levels.append(tank_1)\n",
    "    tank2_levels.append(tank_2)\n",
    "    player_names1.append(team_1[player_num])\n",
    "    player_names2.append(team_2[player_num])        \n",
    "    \n",
    "    if tank_1 >= 1000 and tank_2 >= 1000:\n",
    "        print(\"tie\")\n",
    "    elif tank_1 >= 1000:\n",
    "        last_player = team_1[player_num]\n",
    "        winning_team = \"team_1\"\n",
    "    elif tank_2 >= 1000:\n",
    "        last_player = team_2[player_num]\n",
    "        winning_team = \"team_2\"\n",
    "    \n",
    "    number_of_fills += 1\n",
    "\n",
    "print(\"winning team\", winning_team)\n",
    "print(\"last_player\", last_player)\n",
    "print(\"num fills\", number_of_fills)\n",
    "print(\"tank1_levels\", tank1_levels)\n",
    "print(\"tank2_levels\", tank2_levels)\n",
    "print(\"team 1 players\", player_names1)    \n",
    "print(\"team 2 players\", player_names2)    \n",
    "\n",
    "print(\n",
    "    'number_of_fills_hashed:',\n",
    "    hashlib.sha256(\n",
    "        json.dumps(number_of_fills).encode()\n",
    "    ).hexdigest()\n",
    ")\n",
    "\n",
    "print(\n",
    "    'winning team:',\n",
    "    hashlib.sha256(\n",
    "        bytes(winning_team, encoding='utf8')\n",
    "    ).hexdigest()\n",
    ")\n",
    "\n",
    "print(\n",
    "    'last player:',\n",
    "    hashlib.sha256(\n",
    "        bytes(last_player, encoding='utf8')\n",
    "    ).hexdigest()\n",
    ")\n",
    "\n",
    "### END SOLUTION"
   ]
  },
  {
   "cell_type": "code",
   "execution_count": 25,
   "id": "0d568d8e",
   "metadata": {
    "nbgrader": {
     "grade": true,
     "grade_id": "cell-83b070269298a5c0",
     "locked": true,
     "points": 0,
     "schema_version": 3,
     "solution": false,
     "task": false
    }
   },
   "outputs": [
    {
     "name": "stdout",
     "output_type": "stream",
     "text": [
      "Your solution is correct!\n"
     ]
    }
   ],
   "source": [
    "winning_team_hash = \"7c832b8fdf7414a64a178f34053eca97053f3f6336d5d4efdfe1bd5f7c8c5f8b\"\n",
    "last_player_hash = \"3f01098b72c556509334cbd8fe6a10d20022bdca86e23e9d8ce44ee5c86b8ad8\"\n",
    "num_fills_hash = \"ef2d127de37b942baad06145e54b0c619a1f22327b2ebbcfbec78f5564afe39d\"\n",
    "\n",
    "assert isinstance(winning_team, str), \"Review the data type of winning_team.\"\n",
    "assert isinstance(last_player, str), \"Review the data type of last_player.\"\n",
    "assert isinstance(number_of_fills, int), \"Review the data type of number_of_fills.\"\n",
    "\n",
    "\n",
    "assert winning_team_hash == hashlib.sha256(bytes(winning_team, encoding='utf8')).hexdigest(), \"winning_team is incorrect.\"\n",
    "assert last_player_hash == hashlib.sha256(bytes(last_player, encoding='utf8')).hexdigest(), \"last_player is incorrect.\"\n",
    "assert num_fills_hash == hashlib.sha256(json.dumps(number_of_fills).encode()).hexdigest(), \"The number_of_fills is incorrect.\"\n",
    "\n",
    "\n",
    "print(\"Your solution is correct!\")"
   ]
  },
  {
   "cell_type": "markdown",
   "id": "11894b5b",
   "metadata": {
    "nbgrader": {
     "grade": false,
     "grade_id": "cell-a32538960ed3f8b8",
     "locked": true,
     "schema_version": 3,
     "solution": false,
     "task": false
    }
   },
   "source": [
    "## Part 4 - List Comprehension"
   ]
  },
  {
   "cell_type": "markdown",
   "id": "b1098db9",
   "metadata": {
    "nbgrader": {
     "grade": false,
     "grade_id": "cell-1d738c0521b3d1a0",
     "locked": true,
     "schema_version": 3,
     "solution": false,
     "task": false
    }
   },
   "source": [
    "### 4.1) Identify Digits in Strings\n",
    "\n",
    "The prize gallery in Game X is a labyrinth with `1000 rooms` numbered from `0 to 999`. The playmaker informs the team that the prizes are stored in a `room with a 3 in the room number`.\n",
    "\n",
    "Use List Comprehension to save a list of rooms that contain potential prizes, in the list `possible_prize_rooms`\n",
    "\n",
    "Hint - use `str()` to convert a value from an integer to a string\n",
    "\n",
    "Hint 2 - if you are new to list comprehension, it may help to write out how you would implement the solution using a traditional for loop first. It could be easier to convert it to the list comprehension after you nailed down the logic.\n"
   ]
  },
  {
   "cell_type": "code",
   "execution_count": 26,
   "id": "c91197bf",
   "metadata": {
    "nbgrader": {
     "grade": false,
     "grade_id": "cell-2fbc492c5b843c6d",
     "locked": false,
     "schema_version": 3,
     "solution": true,
     "task": false
    }
   },
   "outputs": [
    {
     "name": "stdout",
     "output_type": "stream",
     "text": [
      "271\n",
      "3 37 632 993\n",
      "num_results_hashed: 3635a91e3da857f7847f68185a116a5260d2593f3913f6b1b66cc2d75b0d6ec0\n",
      "0th_results_hashed: 4e07408562bedb8b60ce05c1decfe3ad16b72230967de01f640b7e4729b49fce\n"
     ]
    }
   ],
   "source": [
    "# Use a list comprehension to identify potential rooms containing prizes\n",
    "\n",
    "# possible_prize_rooms = [...]\n",
    "\n",
    "### BEGIN SOLUTION\n",
    "\n",
    "# Here is the actual solution\n",
    "possible_prize_rooms = [i for i in range(1000) if \"3\" in str(i)]\n",
    "\n",
    "print(len(possible_prize_rooms))\n",
    "\n",
    "#print(possible_prize_rooms)\n",
    "\n",
    "print(possible_prize_rooms[0], possible_prize_rooms[10], possible_prize_rooms[200], possible_prize_rooms[270])\n",
    "\n",
    "print(\n",
    "    'num_results_hashed:',\n",
    "    hashlib.sha256(\n",
    "        json.dumps(len(possible_prize_rooms)).encode()\n",
    "    ).hexdigest()\n",
    ")\n",
    "\n",
    "print(\n",
    "    '0th_results_hashed:',\n",
    "    hashlib.sha256(\n",
    "        json.dumps(possible_prize_rooms[0]).encode()\n",
    "    ).hexdigest()\n",
    ")\n",
    "\n",
    "### END SOLUTION"
   ]
  },
  {
   "cell_type": "code",
   "execution_count": 27,
   "id": "cbe58073",
   "metadata": {
    "nbgrader": {
     "grade": true,
     "grade_id": "cell-3db9af8dbeef62e4",
     "locked": true,
     "points": 2,
     "schema_version": 3,
     "solution": false,
     "task": false
    }
   },
   "outputs": [
    {
     "name": "stdout",
     "output_type": "stream",
     "text": [
      "Your solution is correct!\n"
     ]
    }
   ],
   "source": [
    "num_results_hash = \"3635a91e3da857f7847f68185a116a5260d2593f3913f6b1b66cc2d75b0d6ec0\"\n",
    "result1_hash = \"4e07408562bedb8b60ce05c1decfe3ad16b72230967de01f640b7e4729b49fce\"\n",
    "result2_hash = \"7a61b53701befdae0eeeffaecc73f14e20b537bb0f8b91ad7c2936dc63562b25\"\n",
    "result3_hash = \"3bcc1340d90b3d55accb9a57998b69708fea2a63c39f7369047469f952ccad4f\"\n",
    "result4_hash = \"40fb7164e459a38813f304e3b45db2b074be149818924e46fdc49cc38a3e4955\"\n",
    "\n",
    "\n",
    "assert isinstance(possible_prize_rooms, list), \"Variable possible_prize_rooms should be a list.\"\n",
    "assert num_results_hash == hashlib.sha256(json.dumps(len(possible_prize_rooms)).encode()).hexdigest(), \"The number of items in possible_prize_rooms is incorrect.\"\n",
    "\n",
    "assert result1_hash == hashlib.sha256(json.dumps(possible_prize_rooms[0]).encode()).hexdigest(), \"At least one value in possible_prize_rooms is incorrect.\"\n",
    "assert result2_hash == hashlib.sha256(json.dumps(possible_prize_rooms[10]).encode()).hexdigest(), \"At least one value in possible_prize_rooms is incorrect.\"\n",
    "assert result3_hash == hashlib.sha256(json.dumps(possible_prize_rooms[200]).encode()).hexdigest(), \"At least one value in possible_prize_rooms is incorrect.\"\n",
    "assert result4_hash == hashlib.sha256(json.dumps(possible_prize_rooms[270]).encode()).hexdigest(), \"At least one value in possible_prize_rooms is incorrect.\"\n",
    "\n",
    "print(\"Your solution is correct!\")"
   ]
  },
  {
   "cell_type": "markdown",
   "id": "7ce60fed",
   "metadata": {
    "nbgrader": {
     "grade": false,
     "grade_id": "cell-0049cd277956f3fa",
     "locked": true,
     "schema_version": 3,
     "solution": false,
     "task": false
    }
   },
   "source": [
    "### 4.2) Challenge Question on List Comprehension - optional (ungraded)\n",
    "\n",
    "Some rooms in the prize gallery contain some nasty bugs and explosives, and you would want to avoid them. The playmaker kindly informs the team that these rooms are divisible by any digit from 4 to 9. Use a nested list comprehension to find a list of buggy rooms and store them in `possible_buggy_rooms`"
   ]
  },
  {
   "cell_type": "code",
   "execution_count": 28,
   "id": "51650e6e",
   "metadata": {
    "nbgrader": {
     "grade": false,
     "grade_id": "cell-57383b2e4efaea1d",
     "locked": false,
     "schema_version": 3,
     "solution": true,
     "task": false
    }
   },
   "outputs": [
    {
     "name": "stdout",
     "output_type": "stream",
     "text": [
      "271\n",
      "[3, 13, 23, 30, 31, 32, 33, 34, 35, 36, 37, 38, 39, 43, 53, 63, 73, 83, 93, 103, 113, 123, 130, 131, 132, 133, 134, 135, 136, 137, 138, 139, 143, 153, 163, 173, 183, 193, 203, 213, 223, 230, 231, 232, 233, 234, 235, 236, 237, 238, 239, 243, 253, 263, 273, 283, 293, 300, 301, 302, 303, 304, 305, 306, 307, 308, 309, 310, 311, 312, 313, 314, 315, 316, 317, 318, 319, 320, 321, 322, 323, 324, 325, 326, 327, 328, 329, 330, 331, 332, 333, 334, 335, 336, 337, 338, 339, 340, 341, 342, 343, 344, 345, 346, 347, 348, 349, 350, 351, 352, 353, 354, 355, 356, 357, 358, 359, 360, 361, 362, 363, 364, 365, 366, 367, 368, 369, 370, 371, 372, 373, 374, 375, 376, 377, 378, 379, 380, 381, 382, 383, 384, 385, 386, 387, 388, 389, 390, 391, 392, 393, 394, 395, 396, 397, 398, 399, 403, 413, 423, 430, 431, 432, 433, 434, 435, 436, 437, 438, 439, 443, 453, 463, 473, 483, 493, 503, 513, 523, 530, 531, 532, 533, 534, 535, 536, 537, 538, 539, 543, 553, 563, 573, 583, 593, 603, 613, 623, 630, 631, 632, 633, 634, 635, 636, 637, 638, 639, 643, 653, 663, 673, 683, 693, 703, 713, 723, 730, 731, 732, 733, 734, 735, 736, 737, 738, 739, 743, 753, 763, 773, 783, 793, 803, 813, 823, 830, 831, 832, 833, 834, 835, 836, 837, 838, 839, 843, 853, 863, 873, 883, 893, 903, 913, 923, 930, 931, 932, 933, 934, 935, 936, 937, 938, 939, 943, 953, 963, 973, 983, 993]\n",
      "3 37 632 993\n",
      "num_results_hashed: 4299da7466df09516d290f7a99c8b7a2fa94766eb94a61c24e1ce8f6ca80af44\n",
      "0th_results_hashed: 5feceb66ffc86f38d952786c6d696c79c2dbc239dd4e91b46729d73a27fb57e9\n"
     ]
    }
   ],
   "source": [
    "# Use a list comprehension to identify potential rooms containing prizes\n",
    "\n",
    "# possible_buggy_rooms = [...]\n",
    "\n",
    "### BEGIN SOLUTION\n",
    "\n",
    "# Here is the actual solution\n",
    "possible_buggy_rooms = [i for i in range(1000) if any(i % j == 0 for j in range(4,10))]\n",
    "\n",
    "# hash the length of the list\n",
    "# hash values at random indices, ie. 3rd, 90th, 270th\n",
    "print(len(possible_prize_rooms))\n",
    "\n",
    "print(possible_prize_rooms)\n",
    "\n",
    "print(possible_prize_rooms[0], possible_prize_rooms[10], possible_prize_rooms[200], possible_prize_rooms[270])\n",
    "\n",
    "print(\n",
    "    'num_results_hashed:',\n",
    "    hashlib.sha256(\n",
    "        json.dumps(len(possible_buggy_rooms)).encode()\n",
    "    ).hexdigest()\n",
    ")\n",
    "\n",
    "print(\n",
    "    '0th_results_hashed:',\n",
    "    hashlib.sha256(\n",
    "        json.dumps(possible_buggy_rooms[0]).encode()\n",
    "    ).hexdigest()\n",
    ")\n",
    "\n",
    "### END SOLUTION"
   ]
  },
  {
   "cell_type": "code",
   "execution_count": 29,
   "id": "1c8a590a",
   "metadata": {
    "nbgrader": {
     "grade": true,
     "grade_id": "cell-0313ba2b00efff91",
     "locked": true,
     "points": 0,
     "schema_version": 3,
     "solution": false,
     "task": false
    }
   },
   "outputs": [
    {
     "name": "stdout",
     "output_type": "stream",
     "text": [
      "Your solution is correct!\n"
     ]
    }
   ],
   "source": [
    "num_results_hash = \"4299da7466df09516d290f7a99c8b7a2fa94766eb94a61c24e1ce8f6ca80af44\"\n",
    "result1_hash = \"5feceb66ffc86f38d952786c6d696c79c2dbc239dd4e91b46729d73a27fb57e9\"\n",
    "result2_hash = \"4b227777d4dd1fc61c6f884f48641d02b4d121d3fd328cb08b5531fcacdabf8a\"\n",
    "result3_hash = \"4771bef2c04a34b548b77ea7581cf821152d9dea9c2c85151a07856fe3639314\"\n",
    "result4_hash = \"83cf8b609de60036a8277bd0e96135751bbc07eb234256d4b65b893360651bf2\"\n",
    "\n",
    "\n",
    "assert isinstance(possible_buggy_rooms, list), \"Variable possible_prize_rooms should be a list.\"\n",
    "assert num_results_hash == hashlib.sha256(json.dumps(len(possible_buggy_rooms)).encode()).hexdigest(), \"The number of items in possible_buggy_rooms is incorrect.\"\n",
    "\n",
    "assert result1_hash == hashlib.sha256(json.dumps(possible_buggy_rooms[0]).encode()).hexdigest(), \"At least one value in possible_buggy_rooms is incorrect.\"\n",
    "assert result2_hash == hashlib.sha256(json.dumps(possible_buggy_rooms[1]).encode()).hexdigest(), \"At least one value in possible_buggy_rooms is incorrect.\"\n",
    "assert result3_hash == hashlib.sha256(json.dumps(possible_buggy_rooms[300]).encode()).hexdigest(), \"At least one value in possible_buggy_rooms is incorrect.\"\n",
    "assert result4_hash == hashlib.sha256(json.dumps(possible_buggy_rooms[580]).encode()).hexdigest(), \"At least one value in possible_buggy_rooms is incorrect.\"\n",
    "\n",
    "print(\"Your solution is correct!\")"
   ]
  },
  {
   "cell_type": "markdown",
   "id": "d64ee438",
   "metadata": {
    "nbgrader": {
     "grade": false,
     "grade_id": "cell-ba72a9f9f3f219f9",
     "locked": true,
     "schema_version": 3,
     "solution": false,
     "task": false
    }
   },
   "source": [
    "### 4.3) Symmetric matrix\n",
    "\n",
    "As a final challenge, the playmaker ask the players to create the following list of lists (matrix) using List Comprehension. \n",
    "\n",
    "$\n",
    "\\begin{bmatrix}\n",
    "\\begin{bmatrix}0 & 1 & 2 & 3 & 4\\end{bmatrix},\\\\\n",
    "\\begin{bmatrix}1 & 2 & 3 & 4 & 5\\end{bmatrix},\\\\\n",
    "\\begin{bmatrix}2 & 3 & 4 & 5 & 6\\end{bmatrix},\\\\\n",
    "\\begin{bmatrix}3 & 4 & 5 & 6 & 7\\end{bmatrix},\\\\\n",
    "\\begin{bmatrix}4 & 5 & 6 & 7 & 8\\end{bmatrix}\\space\\\\\n",
    "\\end{bmatrix}\n",
    "$"
   ]
  },
  {
   "cell_type": "code",
   "execution_count": 30,
   "id": "5eea460c",
   "metadata": {
    "nbgrader": {
     "grade": false,
     "grade_id": "cell-36f6524e13880590",
     "locked": false,
     "schema_version": 3,
     "solution": true,
     "task": false
    }
   },
   "outputs": [
    {
     "name": "stdout",
     "output_type": "stream",
     "text": [
      "[[0, 1, 2, 3, 4], [1, 2, 3, 4, 5], [2, 3, 4, 5, 6], [3, 4, 5, 6, 7], [4, 5, 6, 7, 8]]\n",
      "matrix_hashed: ef2d127de37b942baad06145e54b0c619a1f22327b2ebbcfbec78f5564afe39d\n"
     ]
    }
   ],
   "source": [
    "# Create the list of lists above using list comprehension.\n",
    "# The result should be a list assigned to matrix_list. \n",
    "\n",
    "# matrix_list = ...\n",
    "\n",
    "### BEGIN SOLUTION\n",
    "\n",
    "# Here is the actual solution\n",
    "matrix_list = [[i + j for i in range(5)] for j in range(5)]\n",
    "\n",
    "print(matrix_list)\n",
    "\n",
    "print(\n",
    "    'matrix_hashed:',\n",
    "    hashlib.sha256(\n",
    "        json.dumps(matrix_list[3][2]).encode()\n",
    "    ).hexdigest()\n",
    ") \n",
    "\n",
    "\n",
    "### END SOLUTION"
   ]
  },
  {
   "cell_type": "code",
   "execution_count": 31,
   "id": "51cae9cb",
   "metadata": {
    "nbgrader": {
     "grade": true,
     "grade_id": "cell-989fbfb752329e10",
     "locked": true,
     "points": 2,
     "schema_version": 3,
     "solution": false,
     "task": false
    }
   },
   "outputs": [
    {
     "name": "stdout",
     "output_type": "stream",
     "text": [
      "Your solution is correct!\n"
     ]
    }
   ],
   "source": [
    "matrix_hash = 'ef2d127de37b942baad06145e54b0c619a1f22327b2ebbcfbec78f5564afe39d'\n",
    "\n",
    "assert isinstance(matrix_list, list), \"Review the data type of temp_popsicle.\"\n",
    "assert matrix_hash == hashlib.sha256(json.dumps(len(matrix_list)).encode()).hexdigest(), \"The length of matrix_list is incorrect.\"\n",
    "assert matrix_hash == hashlib.sha256(json.dumps(len(matrix_list[0])).encode()).hexdigest(), \"The length of the first element of matrix_list is incorrect.\"\n",
    "assert matrix_hash == hashlib.sha256(json.dumps(matrix_list[2][3]).encode()).hexdigest(), \"Some values are incorrect.\"\n",
    "assert matrix_hash == hashlib.sha256(json.dumps(matrix_list[3][2]).encode()).hexdigest(), \"Some values are incorrect.\"\n",
    "print(\"Your solution is correct!\")"
   ]
  },
  {
   "cell_type": "markdown",
   "id": "89ca5de5",
   "metadata": {
    "nbgrader": {
     "grade": false,
     "grade_id": "cell-0ed1e0fdd17c937f",
     "locked": true,
     "schema_version": 3,
     "solution": false,
     "task": false
    }
   },
   "source": [
    "### Extra fact:\n",
    "\n",
    "There is a [story](http://mathandmultimedia.com/2010/09/15/sum-first-n-positive-integers/) about how [Gauss](https://en.wikipedia.org/wiki/Carl_Friedrich_Gauss#Anecdotes) discovered a formula to calculate the sum of the first `n` positive integers. If there is a formula or a simple calculation that you can perform to avoid extensive code, why not using it instead? "
   ]
  },
  {
   "cell_type": "markdown",
   "id": "29e74c5e",
   "metadata": {
    "nbgrader": {
     "grade": false,
     "grade_id": "cell-dd18335d9a83ba2e",
     "locked": true,
     "schema_version": 3,
     "solution": false,
     "task": false
    }
   },
   "source": [
    "# Submit your work!\n",
    "\n",
    "To submit your work, [get your slack id](https://moshfeu.medium.com/how-to-find-my-member-id-in-slack-workspace-d4bba942e38c) and fill it in the `slack_id` variable.\n",
    "\n",
    "Example: `slack_id = \"UTS63FC02\"`"
   ]
  },
  {
   "cell_type": "code",
   "execution_count": 32,
   "id": "e15661fd",
   "metadata": {
    "nbgrader": {
     "grade": false,
     "grade_id": "cell-57b904034e5fa418",
     "locked": false,
     "schema_version": 3,
     "solution": true,
     "task": false
    }
   },
   "outputs": [],
   "source": [
    "### BEGIN SOLUTION\n",
    "slack_id = \"UTS63FC02\"\n",
    "### END SOLUTION\n",
    "# slack_id ="
   ]
  },
  {
   "cell_type": "code",
   "execution_count": 33,
   "id": "7c46f64a",
   "metadata": {
    "nbgrader": {
     "grade": true,
     "grade_id": "cell-99496b2a5c109cdc",
     "locked": true,
     "points": 0,
     "schema_version": 3,
     "solution": false,
     "task": false
    }
   },
   "outputs": [
    {
     "name": "stdout",
     "output_type": "stream",
     "text": [
      "Whoopsie Daisy\n"
     ]
    }
   ],
   "source": [
    "from submit import submit\n",
    "\n",
    "assert slack_id is not None\n",
    "submit(slack_id=slack_id, learning_unit=6)"
   ]
  },
  {
   "cell_type": "code",
   "execution_count": null,
   "id": "66344b1c",
   "metadata": {},
   "outputs": [],
   "source": []
  }
 ],
 "metadata": {
  "celltoolbar": "Create Assignment",
  "kernelspec": {
   "display_name": "Python 3",
   "language": "python",
   "name": "python3"
  },
  "language_info": {
   "codemirror_mode": {
    "name": "ipython",
    "version": 3
   },
   "file_extension": ".py",
   "mimetype": "text/x-python",
   "name": "python",
   "nbconvert_exporter": "python",
   "pygments_lexer": "ipython3",
   "version": "3.7.10"
  }
 },
 "nbformat": 4,
 "nbformat_minor": 5
}
