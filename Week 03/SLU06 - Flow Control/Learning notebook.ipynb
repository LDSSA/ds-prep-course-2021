{
 "cells": [
  {
   "cell_type": "markdown",
   "metadata": {},
   "source": [
    "# SLU06 - Flow Control"
   ]
  },
  {
   "cell_type": "markdown",
   "metadata": {},
   "source": [
    "In this notebook we will be covering the following:\n",
    "\n",
    "- Comparison operators\n",
    "- Combining multiple conditions with boolean algebra\n",
    "- Controlling code execution with `if`, `elif` and `else` statements\n",
    "- Repeating executions with `while` and `for` loops\n",
    "- Interrupting loops with the `continue` and `break` statements\n",
    "- Building lists with *list comprehension*"
   ]
  },
  {
   "cell_type": "markdown",
   "metadata": {},
   "source": [
    "## Comparison operators"
   ]
  },
  {
   "cell_type": "markdown",
   "metadata": {},
   "source": [
    "For the simple calculations that we performed until now we can write a couple of expressions and we get the results that we wanted. For other cases we'll need to have a better control over the procedures. This control can be achieved by checking the values of variables and acting depending on these results."
   ]
  },
  {
   "cell_type": "markdown",
   "metadata": {},
   "source": [
    "<img src=\"./media/traffic_light_small.jpg\" />\n",
    "\n",
    "<center> Good drivers stop or drive forward depending of the color of the traffic lights.</center>"
   ]
  },
  {
   "cell_type": "markdown",
   "metadata": {},
   "source": [
    "The first step to control how the calculations are being performed is to have a way to evaluate the values of our variables. At any time, we can ask Python if a certain condition is met. With traffic lights, the drivers only drive forward if the light is green. If the conditions change and the light is red, the drivers stop (hopefully). We can also ask for the age of the individual and compare it with ours to see if we are younger or older than him/her.\n",
    "**Comparison operators** are used to compare two values.\n",
    "\n",
    "One such operator is the `==` operator that tests if two values **are equal**. Do **not** confuse with the assignment operator `=`."
   ]
  },
  {
   "cell_type": "code",
   "execution_count": 1,
   "metadata": {},
   "outputs": [
    {
     "name": "stdout",
     "output_type": "stream",
     "text": [
      "Is 1 == 1?  True\n",
      "Is 1 == 2?  False\n"
     ]
    }
   ],
   "source": [
    "print(\"Is 1 == 1? \", 1 == 1)\n",
    "print(\"Is 1 == 2? \", 1 == 2)"
   ]
  },
  {
   "cell_type": "markdown",
   "metadata": {},
   "source": [
    "The result of the `==` operator is a boolean that indicated if the equality is true or false. \n",
    "\n",
    "**All comparison operators return a boolean as the result, are binary operators and have left-sided binding.**"
   ]
  },
  {
   "cell_type": "markdown",
   "metadata": {},
   "source": [
    "The comparison operators have **lower priority** than the arithmetic operators but **higher priority** than the assignment operator `=`."
   ]
  },
  {
   "cell_type": "code",
   "execution_count": 2,
   "metadata": {},
   "outputs": [
    {
     "name": "stdout",
     "output_type": "stream",
     "text": [
      "True\n",
      "False\n"
     ]
    }
   ],
   "source": [
    "#The arithmetic operator + has higher precedence and is performed first. \n",
    "print(3 == 1 + 2)\n",
    "\n",
    "#The comparison operator == has higher precedence and is performed first.\n",
    "var = 1 == 2\n",
    "print(var)"
   ]
  },
  {
   "cell_type": "markdown",
   "metadata": {},
   "source": [
    "Of course you can use variables on the comparisons."
   ]
  },
  {
   "cell_type": "code",
   "execution_count": 3,
   "metadata": {},
   "outputs": [
    {
     "data": {
      "text/plain": [
       "False"
      ]
     },
     "execution_count": 3,
     "metadata": {},
     "output_type": "execute_result"
    }
   ],
   "source": [
    "counter = 4\n",
    "limit = 5\n",
    "counter == limit"
   ]
  },
  {
   "cell_type": "markdown",
   "metadata": {},
   "source": [
    "The other comparison operators that you can use are:\n",
    "- `>` aka *greater than* \n",
    "- `>=` aka *greater than or equal to*\n",
    "- `<` aka *less than*\n",
    "- `<=` aka *less than or equal to*\n",
    "- `!=` aka *not equal to*"
   ]
  },
  {
   "cell_type": "markdown",
   "metadata": {},
   "source": [
    "For numeric comparisons the operators behave as expected. There are some nuances for string comparisons.\n",
    "The operator `==` tests if both strings are **exactly** the same. The operator `!=` tests if both strings are **not exactly** the same. "
   ]
  },
  {
   "cell_type": "code",
   "execution_count": 4,
   "metadata": {},
   "outputs": [
    {
     "name": "stdout",
     "output_type": "stream",
     "text": [
      "True\n",
      "False\n"
     ]
    }
   ],
   "source": [
    "print(\"The safe word is Banana!\" == \"The safe word is Banana!\")\n",
    "\n",
    "print(\"The safe word is Banana!\" != \"The safe word is Banana!\")"
   ]
  },
  {
   "cell_type": "markdown",
   "metadata": {},
   "source": [
    "---"
   ]
  },
  {
   "cell_type": "markdown",
   "metadata": {},
   "source": [
    "The relation between strings is determined by the **first different** character in both strings.\n",
    "\n",
    "If a string is **identical** to a shorter string but with additional characters in the end, the longer string is considered **greater** than the shorter."
   ]
  },
  {
   "cell_type": "code",
   "execution_count": 5,
   "metadata": {},
   "outputs": [
    {
     "name": "stdout",
     "output_type": "stream",
     "text": [
      "True\n"
     ]
    }
   ],
   "source": [
    "#Both strings start with 'pyro' but the second has additional characters.\n",
    "print('pyro' < 'pyromaniac')"
   ]
  },
  {
   "cell_type": "markdown",
   "metadata": {},
   "source": [
    "When comparing characters Python uses the **code point value** of each character. The code point value is an **integer value** attributed to each character. Computers only deal with numbers and so each character has a kind of a numeric ID (code point value) that a computer can understand. The \"ID\" of character is decimal-based integer value determined by [Unicode](https://altcodeunicode.com/unicode-character-lookup-table/). On the website you can search for the value code point at \"Code Point DECimal\" text field.\n",
    "\n",
    "Basically, each character has an associated decimal-based integer value can be used to compare characters.\n",
    "\n",
    "The code point value of a character can be determined with function `ord()`. To find the character with a specific code point value the function `chr()` can be called."
   ]
  },
  {
   "cell_type": "code",
   "execution_count": 6,
   "metadata": {},
   "outputs": [
    {
     "name": "stdout",
     "output_type": "stream",
     "text": [
      "The code point value of C is: 67\n",
      "The code point value of D is: 68\n",
      "The code point value of c is: 99\n",
      "The code point value of d is: 100\n"
     ]
    }
   ],
   "source": [
    "print(\"The code point value of C is: {}\".format(ord(\"C\")))\n",
    "print(\"The code point value of D is: {}\".format(ord(\"D\")))\n",
    "print(\"The code point value of c is: {}\".format(ord(\"c\")))\n",
    "print(\"The code point value of d is: {}\".format(ord(\"d\")))"
   ]
  },
  {
   "cell_type": "code",
   "execution_count": 7,
   "metadata": {},
   "outputs": [
    {
     "name": "stdout",
     "output_type": "stream",
     "text": [
      "The character with code point value 88 is: X\n"
     ]
    }
   ],
   "source": [
    "print(\"The character with code point value 88 is: {}\".format(chr(88)))"
   ]
  },
  {
   "cell_type": "markdown",
   "metadata": {},
   "source": [
    "Pythons uses these values to evaluate if a character, and by consequence a string, is larger or smaller than another."
   ]
  },
  {
   "cell_type": "code",
   "execution_count": 8,
   "metadata": {},
   "outputs": [
    {
     "name": "stdout",
     "output_type": "stream",
     "text": [
      "Is D > C? True\n",
      "Is D > c? False\n"
     ]
    }
   ],
   "source": [
    "print(\"Is D > C? {}\".format(\"D\" > \"C\"))\n",
    "print(\"Is D > c? {}\".format(\"D\" > \"c\"))"
   ]
  },
  {
   "cell_type": "markdown",
   "metadata": {},
   "source": [
    "---"
   ]
  },
  {
   "cell_type": "markdown",
   "metadata": {},
   "source": [
    "For the latin alphabet, the **upper-case** letters appear **before** the **lower-case** letter in the Unicode table. This means that **any upper-case letter has lower code point value than any lower-case letter**. The opposite is also true, **any lower-case letter has higher code point value than any upper-case letter**."
   ]
  },
  {
   "cell_type": "code",
   "execution_count": 9,
   "metadata": {},
   "outputs": [
    {
     "name": "stdout",
     "output_type": "stream",
     "text": [
      "Is X < a? True\n",
      "Is a > A? True\n",
      "Is apple > Apple? True\n"
     ]
    }
   ],
   "source": [
    "print(\"Is X < a? {}\".format(\"X\" < \"a\"))\n",
    "print(\"Is a > A? {}\".format(\"a\" > \"A\"))\n",
    "print(\"Is apple > Apple? {}\".format(\"apple\" > \"Apple\"))"
   ]
  },
  {
   "cell_type": "markdown",
   "metadata": {},
   "source": [
    "---"
   ]
  },
  {
   "cell_type": "markdown",
   "metadata": {},
   "source": [
    "Be careful with strings that only contain digits. The digits are still **characters** of a string. The comparison operators will check the value code point **character by character**."
   ]
  },
  {
   "cell_type": "code",
   "execution_count": 10,
   "metadata": {},
   "outputs": [
    {
     "name": "stdout",
     "output_type": "stream",
     "text": [
      "Is \"10\" == \"010\"? False\n",
      "Is \"10\" > \"010\"? True\n",
      "Is \"10\" > \"7\"? False\n",
      "Is \"20\" < \"7\"? True\n",
      "Is \"20\" < \"70\"? True\n"
     ]
    }
   ],
   "source": [
    "print(\"Is \\\"10\\\" == \\\"010\\\"? {}\".format(\"10\" == \"010\"))\n",
    "print(\"Is \\\"10\\\" > \\\"010\\\"? {}\".format(\"10\" > \"010\"))\n",
    "print(\"Is \\\"10\\\" > \\\"7\\\"? {}\".format(\"10\" > \"7\"))\n",
    "print(\"Is \\\"20\\\" < \\\"7\\\"? {}\".format(\"20\" < \"7\"))\n",
    "print(\"Is \\\"20\\\" < \\\"70\\\"? {}\".format(\"20\" < \"70\"))"
   ]
  },
  {
   "cell_type": "markdown",
   "metadata": {},
   "source": [
    "---"
   ]
  },
  {
   "cell_type": "markdown",
   "metadata": {},
   "source": [
    "**Don't compare strings with numbers**. The `==` and `!=` always return `False` and `True`, respectively. The remaining operators will raise a `TypeError`."
   ]
  },
  {
   "cell_type": "code",
   "execution_count": 11,
   "metadata": {},
   "outputs": [
    {
     "name": "stdout",
     "output_type": "stream",
     "text": [
      "Is \"10\" == 10? False\n",
      "Is \"10\" != 10? True\n"
     ]
    },
    {
     "ename": "TypeError",
     "evalue": "'>=' not supported between instances of 'str' and 'int'",
     "output_type": "error",
     "traceback": [
      "\u001b[0;31m---------------------------------------------------------------------------\u001b[0m",
      "\u001b[0;31mTypeError\u001b[0m                                 Traceback (most recent call last)",
      "\u001b[0;32m<ipython-input-11-43c3096e09ba>\u001b[0m in \u001b[0;36m<module>\u001b[0;34m\u001b[0m\n\u001b[1;32m      1\u001b[0m \u001b[0mprint\u001b[0m\u001b[0;34m(\u001b[0m\u001b[0;34m\"Is \\\"10\\\" == 10? {}\"\u001b[0m\u001b[0;34m.\u001b[0m\u001b[0mformat\u001b[0m\u001b[0;34m(\u001b[0m\u001b[0;34m\"10\"\u001b[0m \u001b[0;34m==\u001b[0m \u001b[0;36m10\u001b[0m\u001b[0;34m)\u001b[0m\u001b[0;34m)\u001b[0m\u001b[0;34m\u001b[0m\u001b[0;34m\u001b[0m\u001b[0m\n\u001b[1;32m      2\u001b[0m \u001b[0mprint\u001b[0m\u001b[0;34m(\u001b[0m\u001b[0;34m\"Is \\\"10\\\" != 10? {}\"\u001b[0m\u001b[0;34m.\u001b[0m\u001b[0mformat\u001b[0m\u001b[0;34m(\u001b[0m\u001b[0;34m\"10\"\u001b[0m \u001b[0;34m!=\u001b[0m \u001b[0;36m10\u001b[0m\u001b[0;34m)\u001b[0m\u001b[0;34m)\u001b[0m\u001b[0;34m\u001b[0m\u001b[0;34m\u001b[0m\u001b[0m\n\u001b[0;32m----> 3\u001b[0;31m \u001b[0mprint\u001b[0m\u001b[0;34m(\u001b[0m\u001b[0;34m\"Is \\\"10\\\" >= 10? {}\"\u001b[0m\u001b[0;34m.\u001b[0m\u001b[0mformat\u001b[0m\u001b[0;34m(\u001b[0m\u001b[0;34m\"10\"\u001b[0m \u001b[0;34m>=\u001b[0m \u001b[0;36m10\u001b[0m\u001b[0;34m)\u001b[0m\u001b[0;34m)\u001b[0m\u001b[0;34m\u001b[0m\u001b[0;34m\u001b[0m\u001b[0m\n\u001b[0m",
      "\u001b[0;31mTypeError\u001b[0m: '>=' not supported between instances of 'str' and 'int'"
     ]
    }
   ],
   "source": [
    "print(\"Is \\\"10\\\" == 10? {}\".format(\"10\" == 10))\n",
    "print(\"Is \\\"10\\\" != 10? {}\".format(\"10\" != 10))\n",
    "print(\"Is \\\"10\\\" >= 10? {}\".format(\"10\" >= 10))"
   ]
  },
  {
   "cell_type": "markdown",
   "metadata": {},
   "source": [
    "---"
   ]
  },
  {
   "cell_type": "markdown",
   "metadata": {},
   "source": [
    "## Combining multiple conditions with boolean algebra"
   ]
  },
  {
   "cell_type": "markdown",
   "metadata": {},
   "source": [
    "There are situations where testing one condition is not enough. For instance, to get a drivers license it is required to be over 18 (generally) **and** know how to read **and** pass the written exam **and** pass the driving exam. Only if all conditions are met is the license given.\n",
    "\n",
    "In Python, we are not limited to using a single comparison operator on an expression. We can use as many as you need. To do so, we use **boolean algebra**."
   ]
  },
  {
   "cell_type": "markdown",
   "metadata": {},
   "source": [
    "<img src=\"./media/not_the_bees_small.png\" />"
   ]
  },
  {
   "cell_type": "markdown",
   "metadata": {},
   "source": [
    "Boolean Algebra is a field of algebra that deals with variables with the truth values *True* and *False*. While elementary algebra has operations such as $+$, $-$, $\\times$ and $\\div$, boolean algebra has the basic operators:\n",
    "\n",
    "- **and**, called conjunction, denoted as x∧y and is binary.\n",
    "- **or**, called disjunction, denoted as x∨y and is binary.\n",
    "- **not**, called negation, denoted ¬x and is unary.\n",
    "\n",
    "The boolean operators have **lower** precendence than the comparison operators. All comparisons are performed **before** the boolean operators are executed."
   ]
  },
  {
   "cell_type": "markdown",
   "metadata": {},
   "source": [
    "---"
   ]
  },
  {
   "cell_type": "markdown",
   "metadata": {},
   "source": [
    "The `and` operator checks if the left and right conditions are **simultaneously** `True`. If this is the case the result is `True`. Otherwise it returns `False`."
   ]
  },
  {
   "cell_type": "code",
   "execution_count": 51,
   "metadata": {},
   "outputs": [
    {
     "name": "stdout",
     "output_type": "stream",
     "text": [
      "True\n",
      "False\n"
     ]
    }
   ],
   "source": [
    "#Both the left and right conditions are True. The and operator returns True.\n",
    "print(1 == 1 and 3.5 > 2.2)\n",
    "\n",
    "#The left condition is True but the right condition is False. The and operator returns False.\n",
    "print(3 >= 3 and \"Banana\" == \"banana\")"
   ]
  },
  {
   "cell_type": "markdown",
   "metadata": {},
   "source": [
    "---"
   ]
  },
  {
   "cell_type": "markdown",
   "metadata": {},
   "source": [
    "The `or` operator checks if **any** of the two conditions are **`True`**. If this is the case the result is `True`. If both conditions are false then it returns `False`."
   ]
  },
  {
   "cell_type": "code",
   "execution_count": 52,
   "metadata": {},
   "outputs": [
    {
     "name": "stdout",
     "output_type": "stream",
     "text": [
      "False\n",
      "True\n"
     ]
    }
   ],
   "source": [
    "#Both the left and right conditions are False. The or operator returns False.\n",
    "print(1 != 1 or 3.5 < 2.2)\n",
    "\n",
    "#The left condition is True but the right condition is False. The or operator returns True.\n",
    "print(3 >= 3 or \"Banana\" == \"banana\")"
   ]
  },
  {
   "cell_type": "markdown",
   "metadata": {},
   "source": [
    "---"
   ]
  },
  {
   "cell_type": "markdown",
   "metadata": {},
   "source": [
    "The `not` operator **negates** the value of a condition on the **right**. This means that if the condition is `True` it becomes `False` and if the condition is `False` it becomes `True`."
   ]
  },
  {
   "cell_type": "code",
   "execution_count": 53,
   "metadata": {},
   "outputs": [
    {
     "name": "stdout",
     "output_type": "stream",
     "text": [
      "False\n",
      "True\n"
     ]
    }
   ],
   "source": [
    "print(not True)\n",
    "\n",
    "#The comparison operator != is executed first and returns False. The not operator then turns False into True.\n",
    "print(not 1 != 1)"
   ]
  },
  {
   "cell_type": "markdown",
   "metadata": {},
   "source": [
    "---"
   ]
  },
  {
   "cell_type": "markdown",
   "metadata": {},
   "source": [
    "The outcome of the boolean operators is summarized in the next table. Computers operate only with 0's and 1's. They don't know what `True` annd `False` are. What computers see as 0, we interpret as `False` and what computers see as 1, it means `True` to us. You can read the table as having `False` in place of the 0's and `True` in place of the 1's."
   ]
  },
  {
   "cell_type": "markdown",
   "metadata": {},
   "source": [
    "<img src=\"./media/boolean_algebra_small.jpg\" />"
   ]
  },
  {
   "cell_type": "markdown",
   "metadata": {},
   "source": [
    "This table can be found on the [wikipedia page on boolean algebra](https://en.wikipedia.org/wiki/Boolean_algebra). On the left are the input boolean values expressed as integers. Below the operations are the resulting boolean expressed as integers."
   ]
  },
  {
   "cell_type": "markdown",
   "metadata": {},
   "source": [
    "---"
   ]
  },
  {
   "cell_type": "markdown",
   "metadata": {},
   "source": [
    "Between the boolean operators, the `not` operator has the **highest** precedence, followed by `and` and then `or` with the **lowest** precendence.\n",
    "\n",
    "Next are two examples that highlight the importance of the *operator precendence* on the outcome of boolean expressions. I recommend that you review these examples as many times as you need. Writing a wrong boolean expression can produce erroneous results leading to prolonged periods of debugging and anguish. Spend some time on planning the boolean expression before write it."
   ]
  },
  {
   "cell_type": "markdown",
   "metadata": {},
   "source": [
    "<img src=\"./media/tired.gif\" />\n",
    "\n",
    "<center> This is you after debugging a boolean expression. </center>"
   ]
  },
  {
   "cell_type": "markdown",
   "metadata": {},
   "source": [
    "Consider the first example:"
   ]
  },
  {
   "cell_type": "code",
   "execution_count": 54,
   "metadata": {},
   "outputs": [
    {
     "data": {
      "text/plain": [
       "True"
      ]
     },
     "execution_count": 54,
     "metadata": {},
     "output_type": "execute_result"
    }
   ],
   "source": [
    "True or True and False or False"
   ]
  },
  {
   "cell_type": "markdown",
   "metadata": {},
   "source": [
    "The `and` operator has higher precendence than `or`, therefore it is executed first.\n",
    "\n",
    "The expression is equivalent to:"
   ]
  },
  {
   "cell_type": "code",
   "execution_count": 55,
   "metadata": {},
   "outputs": [
    {
     "data": {
      "text/plain": [
       "True"
      ]
     },
     "execution_count": 55,
     "metadata": {},
     "output_type": "execute_result"
    }
   ],
   "source": [
    "True or (True and False) or False"
   ]
  },
  {
   "cell_type": "markdown",
   "metadata": {},
   "source": [
    "I would argue that this format is easier to read than the previous.\n",
    "\n",
    "Now if you **mistook the order of precedence** and considered `or` to have higher precedence than `and` you would be expecting a result equivalent to:"
   ]
  },
  {
   "cell_type": "code",
   "execution_count": 56,
   "metadata": {},
   "outputs": [
    {
     "data": {
      "text/plain": [
       "False"
      ]
     },
     "execution_count": 56,
     "metadata": {},
     "output_type": "execute_result"
    }
   ],
   "source": [
    "(True or True) and (False or False)"
   ]
  },
  {
   "cell_type": "markdown",
   "metadata": {},
   "source": [
    "which is **not** the same as before. "
   ]
  },
  {
   "cell_type": "markdown",
   "metadata": {},
   "source": [
    "---"
   ]
  },
  {
   "cell_type": "markdown",
   "metadata": {},
   "source": [
    "The second example is:"
   ]
  },
  {
   "cell_type": "code",
   "execution_count": 57,
   "metadata": {},
   "outputs": [
    {
     "data": {
      "text/plain": [
       "True"
      ]
     },
     "execution_count": 57,
     "metadata": {},
     "output_type": "execute_result"
    }
   ],
   "source": [
    "not False or not False and True"
   ]
  },
  {
   "cell_type": "markdown",
   "metadata": {},
   "source": [
    "The first operators to be executed are `not`. Then `and` and finally `or`.\n",
    "\n",
    "Taking the precendence order into account, the example is equivalent to:"
   ]
  },
  {
   "cell_type": "code",
   "execution_count": 58,
   "metadata": {},
   "outputs": [
    {
     "data": {
      "text/plain": [
       "True"
      ]
     },
     "execution_count": 58,
     "metadata": {},
     "output_type": "execute_result"
    }
   ],
   "source": [
    "(not False) or ((not False) and True)"
   ]
  },
  {
   "cell_type": "markdown",
   "metadata": {},
   "source": [
    "Again if the precedence order is not well understood and you expected a result like:"
   ]
  },
  {
   "cell_type": "code",
   "execution_count": 59,
   "metadata": {},
   "outputs": [
    {
     "data": {
      "text/plain": [
       "False"
      ]
     },
     "execution_count": 59,
     "metadata": {},
     "output_type": "execute_result"
    }
   ],
   "source": [
    "not (False or not (False and True))"
   ]
  },
  {
   "cell_type": "markdown",
   "metadata": {},
   "source": [
    "you are going to have a bad day."
   ]
  },
  {
   "cell_type": "markdown",
   "metadata": {},
   "source": [
    "---"
   ]
  },
  {
   "cell_type": "markdown",
   "metadata": {},
   "source": [
    "When chaining multiple comparisons together, you can use parenthesis `()` to modify the order of execution of the operators. The parenthesis segment the statement into sub-expressions that are evaluated first.\n",
    "\n",
    "It is good practice to **use parenthesis to improve the readability** of the operations even if the precedence of the operations doesn't change with their inclusion. This way, even if the programmer or someone that is reading the code does not remember the complete *table of precedence* he knows that parenthesis take precendence over everything else. For complex comparison statements, this can reduce considerably the time and mental effort that takes to understand it. \n",
    "\n",
    "A [supplementary recommendation](https://www.python.org/dev/peps/pep-0008/#other-recommendations) is to remove the white spaces around the binary operators that have **higher** precedence. This produces a visual sign that these operators are executed first.\n",
    "\n"
   ]
  },
  {
   "cell_type": "markdown",
   "metadata": {},
   "source": [
    "Take a look at the code below. It is not easy to understand. We have to remember the order of each operation and decompose it into smaller pieces until we have the final result."
   ]
  },
  {
   "cell_type": "code",
   "execution_count": 60,
   "metadata": {},
   "outputs": [
    {
     "data": {
      "text/plain": [
       "False"
      ]
     },
     "execution_count": 60,
     "metadata": {},
     "output_type": "execute_result"
    }
   ],
   "source": [
    "a = 1\n",
    "b = 2\n",
    "c = 3\n",
    "not 4 * c + 2 * a != 3 + 1 and b + c * a > a * a or a * c > 3 * b"
   ]
  },
  {
   "cell_type": "markdown",
   "metadata": {},
   "source": [
    "The same expression rewritten with parenthesis and reduced spaces is visually appealing. The order of execution is much clearer and easier to follow."
   ]
  },
  {
   "cell_type": "code",
   "execution_count": 61,
   "metadata": {},
   "outputs": [
    {
     "data": {
      "text/plain": [
       "False"
      ]
     },
     "execution_count": 61,
     "metadata": {},
     "output_type": "execute_result"
    }
   ],
   "source": [
    "a = 1\n",
    "b = 2\n",
    "c = 3\n",
    "not (4*c + 2*a != 3+1) and (b + c*a > a*a) or (a*c > 3*b)"
   ]
  },
  {
   "cell_type": "markdown",
   "metadata": {},
   "source": [
    "**So remember:**"
   ]
  },
  {
   "cell_type": "markdown",
   "metadata": {},
   "source": [
    "<img src=\"./media/drake_meme_small.png\" />"
   ]
  },
  {
   "cell_type": "markdown",
   "metadata": {},
   "source": [
    "To wrap this section is the updated *table of precendence* with the comparison and boolean operators. You can see the complete table of precedence [here](https://docs.python.org/3/reference/expressions.html#operator-precedence)."
   ]
  },
  {
   "cell_type": "markdown",
   "metadata": {},
   "source": [
    "<img src=\"./media/new_order_complete_small.jpg\" />"
   ]
  },
  {
   "cell_type": "markdown",
   "metadata": {},
   "source": [
    "---"
   ]
  },
  {
   "cell_type": "markdown",
   "metadata": {},
   "source": [
    "Extra: Since the boolean values in Python are a sub-class of integers, you can perform the elementary algebra operations on booleans. You should be careful when mixing **elementary operators** with **boolean values**. In some cases this is a very useful technique but can lead to confusion and wrong results if misused."
   ]
  },
  {
   "cell_type": "markdown",
   "metadata": {},
   "source": [
    "---"
   ]
  },
  {
   "cell_type": "markdown",
   "metadata": {},
   "source": [
    "## Controlling code execution with `if`, `elif` and `else` statements"
   ]
  },
  {
   "cell_type": "markdown",
   "metadata": {},
   "source": [
    "We make a lot of decision every day. What to dress for work. What to make for dinner. The list goes on. Some of these decisions depend on certain **conditions**. If it's sunny you wear sunglasses. If it's raining you bring an umbrella."
   ]
  },
  {
   "cell_type": "markdown",
   "metadata": {},
   "source": [
    "<img src=\"./media/men_walking.jpg\" />\n",
    "\n",
    "<center> Don't be like this silly man. Check your conditions and wear appropriate attire. </center>"
   ]
  },
  {
   "cell_type": "markdown",
   "metadata": {},
   "source": [
    "Likewise, you may want your code to perform different action depending on conditions. To control what your code does we can think of this like following a *flowchart*. \n",
    "\n",
    "Take the flowchart below as an example.\n",
    "You start with an initial status (blue box). Then you check what is the weather forecast for the day (yellow box). Depending on the forecast you can either: \n",
    "\n",
    "A) perform an action (green box) or;\n",
    "\n",
    "B) check the next condition (yellow box).\n",
    "\n",
    "You follow the flowchart until you reach an action to perform (green box).\n",
    "\n",
    "We'll see examples on how this approach can be reflected in our code and, thus, making it more adaptable."
   ]
  },
  {
   "cell_type": "markdown",
   "metadata": {},
   "source": [
    "<img src=\"./media/sample_diagram.jpg\" />"
   ]
  },
  {
   "cell_type": "markdown",
   "metadata": {},
   "source": [
    "---"
   ]
  },
  {
   "cell_type": "markdown",
   "metadata": {},
   "source": [
    "### `if` statement"
   ]
  },
  {
   "cell_type": "markdown",
   "metadata": {},
   "source": [
    "We have seen previously that we can use variables and operators to perform calculations. We might want to perform different operations depending on certain conditions. **Conditional statements** are used to decide which operations to perform. A basic conditional statement is composed of the following elements in this order:\n",
    "1. `if` keyword;\n",
    "2. one or more white spaces;\n",
    "3. a condition whose boolean result (`True` or `False`) determines if the next instruction(s) should be executed;\n",
    "4. a colon `:` and a newline;\n",
    "5. the **indented** instruction(s) to execute. At least **one** instruction is necessary.\n",
    "\n",
    "The indendation can be created in one of two ways:\n",
    "- inserting 4 spaces;\n",
    "- using the *tab* character.\n",
    "\n",
    "It is [recommended](https://www.python.org/dev/peps/pep-0008/#tabs-or-spaces) to use 4 spaces. It is important to **not mix** both methods together; it might prevent the code from executing correctly. Note: on the Jupyter notebooks when using *tab* character it may write 4 spaces instead. It is a useful feature as long you don't forget that there effectively 4 spaces. Check for your specific configuration if this is the case."
   ]
  },
  {
   "cell_type": "markdown",
   "metadata": {},
   "source": [
    "If the `condition` returns `True` then the `code_to_execute` is **executed**. Otherwise, `code_to_execute` is **ignored**. The `code_to_execute` can be composed of any number of instructions. \n",
    "Other expressions can be added before and after the `if` statement."
   ]
  },
  {
   "cell_type": "markdown",
   "metadata": {},
   "source": [
    "```python\n",
    "initial_code\n",
    "\n",
    "if condition:\n",
    "    code_to_execute\n",
    "    \n",
    "final_code\n",
    "```"
   ]
  },
  {
   "cell_type": "markdown",
   "metadata": {},
   "source": [
    "In this case Python starts by executing `initial_code`. It then tests if `condition` is `True`. If so, `code_to_execute` is executed. Otherwise, `code_to_execute` is ignored. Then, regardless of `code_to_execute` being executed or ignored, `final_code` is executed.\n",
    "\n",
    "Let's consider a practical example."
   ]
  },
  {
   "cell_type": "code",
   "execution_count": 62,
   "metadata": {},
   "outputs": [
    {
     "name": "stdout",
     "output_type": "stream",
     "text": [
      "What should I do today?\n",
      "I'm going for a walk.\n",
      "It is decided then!\n"
     ]
    }
   ],
   "source": [
    "weather = \"Sunny\"\n",
    "print(\"What should I do today?\")\n",
    "\n",
    "if weather == \"Sunny\":\n",
    "    print(\"I'm going for a walk.\")\n",
    "    \n",
    "print(\"It is decided then!\")"
   ]
  },
  {
   "cell_type": "markdown",
   "metadata": {},
   "source": [
    "The first `print()` function is always called. Then, because the variable `weather` has value `\"Sunny\"`, the condition in the `if` statement is `True`, the second `print()` function is called. After that, the third `print()` is called.\n",
    "\n",
    "If weather has a different value than `\"Sunny\"` the second print is not called:"
   ]
  },
  {
   "cell_type": "code",
   "execution_count": 63,
   "metadata": {},
   "outputs": [
    {
     "name": "stdout",
     "output_type": "stream",
     "text": [
      "What should I do today?\n",
      "It is decided then!\n"
     ]
    }
   ],
   "source": [
    "weather = \"Rainy\"\n",
    "print(\"What should I do today?\")\n",
    "\n",
    "if weather == \"Sunny\":\n",
    "    print(\"I'm going for a walk.\")\n",
    "    \n",
    "print(\"It is decided then!\")"
   ]
  },
  {
   "cell_type": "markdown",
   "metadata": {},
   "source": [
    "If you want to verify both types of weather you could do something like this:"
   ]
  },
  {
   "cell_type": "code",
   "execution_count": 64,
   "metadata": {},
   "outputs": [
    {
     "name": "stdout",
     "output_type": "stream",
     "text": [
      "What should I do today?\n",
      "I'm going to stay home.\n",
      "It is decided then!\n"
     ]
    }
   ],
   "source": [
    "weather = \"Rainy\"\n",
    "print(\"What should I do today?\")\n",
    "\n",
    "if weather == \"Sunny\":\n",
    "    print(\"I'm going for a walk.\") #Execute if Sunny.\n",
    "    \n",
    "if weather == \"Rainy\":\n",
    "    print(\"I'm going to stay home.\") #Execute if Rainy.  \n",
    "    \n",
    "print(\"It is decided then!\")"
   ]
  },
  {
   "cell_type": "markdown",
   "metadata": {},
   "source": [
    "### `else` statement"
   ]
  },
  {
   "cell_type": "markdown",
   "metadata": {},
   "source": [
    "But... there is a better way.\n",
    "We can use the `else` keyword and colon `:` to define the code that we want to execute if the condition is **false**. Note that the code to be executed has to be **indented** as well."
   ]
  },
  {
   "cell_type": "markdown",
   "metadata": {},
   "source": [
    "```python\n",
    "initial_code\n",
    "\n",
    "if condition:\n",
    "    code_to_execute1\n",
    "else:\n",
    "    code_to_execute2\n",
    "    \n",
    "final_code\n",
    "```"
   ]
  },
  {
   "cell_type": "markdown",
   "metadata": {},
   "source": [
    "Here `code_to_execute1` is executed if condition is `True` and `code_to_execute2` is executed if condition is `False`. Independently of the conditions, **only one of the code blocks is executed.**"
   ]
  },
  {
   "cell_type": "markdown",
   "metadata": {},
   "source": [
    "Returning to the example:"
   ]
  },
  {
   "cell_type": "code",
   "execution_count": 65,
   "metadata": {},
   "outputs": [
    {
     "name": "stdout",
     "output_type": "stream",
     "text": [
      "What should I do today?\n",
      "I'm going to stay home.\n",
      "It is decided then!\n"
     ]
    }
   ],
   "source": [
    "weather = \"Rainy\"\n",
    "print(\"What should I do today?\")\n",
    "\n",
    "if weather == \"Sunny\":\n",
    "    print(\"I'm going for a walk.\") #Execute if Sunny.\n",
    "else:\n",
    "    print(\"I'm going to stay home.\") #Execute if NOT Sunny.\n",
    "print(\"It is decided then!\")"
   ]
  },
  {
   "cell_type": "markdown",
   "metadata": {},
   "source": [
    "In this case the condition is false and so the code `print(\"I'm going for a walk.\")` is **not** executed. Alternatively, the code after `else:` (`print(\"I'm going to stay home.\")`) is executed. The code after the `else:` statement is executed for **any value of `weather` different than `\"Sunny\"`**; being it `\"Rainy\"` or any other weather status. "
   ]
  },
  {
   "cell_type": "markdown",
   "metadata": {},
   "source": [
    "### `elif` statement"
   ]
  },
  {
   "cell_type": "markdown",
   "metadata": {},
   "source": [
    "The code after the `else` statement is executed for **any** value of `weather` that is different from \"Sunny\", not only \"Rainy\".\n",
    "You might be wondering: what if I want to use more conditions like \"Foggy\" or \"Cloudy\"? Do I have to make pairs of code for each condition?\n",
    "There is another statement can help us in this case. The statement `elif` allows to use multiple pairs of condition-code in the same `if` statement."
   ]
  },
  {
   "cell_type": "markdown",
   "metadata": {},
   "source": [
    "```python\n",
    "initial_code\n",
    "\n",
    "if condition1:\n",
    "    code_to_execute1\n",
    "elif condition2:\n",
    "    code_to_execute2\n",
    "else:\n",
    "    code_to_execute3\n",
    "    \n",
    "final_code\n",
    "```"
   ]
  },
  {
   "cell_type": "markdown",
   "metadata": {},
   "source": [
    "The `elif` statements can be interpreted as \"if all the above conditions are false and this condition is true then the next code is to be executed\". The `else` statement can be interpreted as \"if all the above conditions are false then the next code is to be executed\". \n",
    "\n",
    "The `elif` statement has to be placed **after** the `if` statement and **before** the `else` statement. You can add as many `elif` statements as needed but you **cannot have more than one** `else` statement for the **each `if` statement**."
   ]
  },
  {
   "cell_type": "code",
   "execution_count": 66,
   "metadata": {
    "scrolled": true
   },
   "outputs": [
    {
     "name": "stdout",
     "output_type": "stream",
     "text": [
      "What should I do today?\n",
      "I'm going to stay home.\n",
      "It is decided then!\n"
     ]
    }
   ],
   "source": [
    "weather = \"Rainy\"\n",
    "print(\"What should I do today?\")\n",
    "\n",
    "if weather == \"Sunny\":\n",
    "    print(\"I'm going for a walk.\") #Execute if Sunny.\n",
    "elif weather == \"Rainy\":\n",
    "    print(\"I'm going to stay home.\") #Execute if Rainy.\n",
    "else:\n",
    "    print(\"I'm going shopping.\")\n",
    "print(\"It is decided then!\")"
   ]
  },
  {
   "cell_type": "markdown",
   "metadata": {},
   "source": [
    "As before, only **one of the code blocks is executed**. In fact, only the **first true condition** is considered and the corresponding code is executed. The next conditions are **ignored** even if they are true.\n",
    "\n",
    "In the next example we use a numeric value that fulfills more than one condition. "
   ]
  },
  {
   "cell_type": "code",
   "execution_count": 67,
   "metadata": {},
   "outputs": [
    {
     "name": "stdout",
     "output_type": "stream",
     "text": [
      "Larger than 50\n"
     ]
    }
   ],
   "source": [
    "number = 999\n",
    "how_large = \"Large Number\"\n",
    "\n",
    "if number > 50:\n",
    "    how_large = \"Larger than 50\"\n",
    "elif number > 100:\n",
    "    how_large = \"Larger than 100\"\n",
    "else:\n",
    "    how_large = \"Smaller than or equal to 50\"\n",
    "    \n",
    "print(how_large)"
   ]
  },
  {
   "cell_type": "markdown",
   "metadata": {},
   "source": [
    "The variable `number` has value `999` and so both conditions `number > 50` and `number > 100` are `True`. But because only the **first true condition** is evaluated the new value of `how_large` is `\"Larger than 50\"`.\n",
    "\n",
    "**The order of the conditions within `if-elif-else` statements is fundamental** if the conditions are **not mutually exclusive**.[Mutually exclusivity](https://en.wikipedia.org/wiki/Mutual_exclusivity) means that both conditions cannot be true at the same time.. This is **extremely important** and should always be kept in mind. Changing the order will most probably change the outcome. If we change the order of the conditions of example above:"
   ]
  },
  {
   "cell_type": "code",
   "execution_count": 68,
   "metadata": {},
   "outputs": [
    {
     "name": "stdout",
     "output_type": "stream",
     "text": [
      "Larger than 100\n"
     ]
    }
   ],
   "source": [
    "number = 999\n",
    "how_large = \"Large Number\"\n",
    "\n",
    "if number > 100:\n",
    "    how_large = \"Larger than 100\"\n",
    "elif number > 50:\n",
    "    how_large = \"Larger than 50\"\n",
    "else:\n",
    "    how_large = \"Smaller than or equal to 50\"\n",
    "    \n",
    "print(how_large)"
   ]
  },
  {
   "cell_type": "markdown",
   "metadata": {},
   "source": [
    "The value of `how_large` is now `\"Larger than 100\"` because the first `True` condition is `number > 100`. If the conditions are mutually exclusive, the order doesn't impact the results."
   ]
  },
  {
   "cell_type": "markdown",
   "metadata": {},
   "source": [
    "You can add as many `elif` statements as needed but you cannot have more than **one** `else` statement for the **each `if` statement**."
   ]
  },
  {
   "cell_type": "markdown",
   "metadata": {},
   "source": [
    "```python\n",
    "initial_code\n",
    "\n",
    "if condition1:\n",
    "    code_to_execute1\n",
    "elif condition2:\n",
    "    code_to_execute2\n",
    "elif condition3:\n",
    "    code_to_execute3\n",
    "elif condition4:\n",
    "    code_to_execute4\n",
    "else:\n",
    "    code_to_execute5\n",
    "    \n",
    "final_code\n",
    "```"
   ]
  },
  {
   "cell_type": "markdown",
   "metadata": {},
   "source": [
    "### Nested `if` statements"
   ]
  },
  {
   "cell_type": "markdown",
   "metadata": {},
   "source": [
    "The activity that you'll do on a given day does not depend exclusively on the weather. There are a ton of factors to consider like the hour of the day. You can use the comparison operators and create more complex conditions that take into account these factors.\n",
    "\n",
    "Take these `if`-`elif` statements as an example:"
   ]
  },
  {
   "cell_type": "code",
   "execution_count": 69,
   "metadata": {},
   "outputs": [
    {
     "name": "stdout",
     "output_type": "stream",
     "text": [
      "What should I do today?\n",
      "I'm going to the movies.\n",
      "It is decided then!\n"
     ]
    }
   ],
   "source": [
    "weather = \"Sunny\"\n",
    "hour_day = 21\n",
    "print(\"What should I do today?\")\n",
    "\n",
    "if weather == \"Sunny\" and hour_day < 19:\n",
    "    print(\"I'm going for a walk.\") \n",
    "elif weather == \"Sunny\" and hour_day >= 19:\n",
    "    print(\"I'm going to the movies.\")    \n",
    "elif weather == \"Rainy\" and hour_day > 14:\n",
    "    print(\"I'm going to stay home.\")\n",
    "elif weather == \"Rainy\" and hour_day <= 14:\n",
    "    print(\"I'm going shopping.\")\n",
    "\n",
    "print(\"It is decided then!\")"
   ]
  },
  {
   "cell_type": "markdown",
   "metadata": {},
   "source": [
    "This *cascade* of `elif` conditions can be a bit hard to read and more so to modify. One of the aphorisms of [The Zen of Python](https://www.python.org/dev/peps/pep-0020/#id2) is that *Readability counts.*\n",
    "\n",
    "The code above can be represented by the *flowchart*:"
   ]
  },
  {
   "cell_type": "markdown",
   "metadata": {},
   "source": [
    "<img src=\"./media/elif_diagram_v2_small.jpg\" />"
   ]
  },
  {
   "cell_type": "markdown",
   "metadata": {},
   "source": [
    "The `if-elif` statements (within the red box) use the input data to test the first condition. If the condition is `True` then the respective code is executed; if the condition is `False` then the second condition is tested. This is repeated until the last `elif` statement. Note that all conditions test both the weather status and the hour **simultaneous**."
   ]
  },
  {
   "cell_type": "markdown",
   "metadata": {},
   "source": [
    "---"
   ]
  },
  {
   "cell_type": "markdown",
   "metadata": {},
   "source": [
    "As we have seen before, you can write any expression inside an `if` statement. This includes other `if` statements.\n",
    "To make the `if`-`elif` statement above more palatable we can introduce `if` statements inside other `if` statements. This process is known as **nesting**. "
   ]
  },
  {
   "cell_type": "code",
   "execution_count": 70,
   "metadata": {},
   "outputs": [
    {
     "name": "stdout",
     "output_type": "stream",
     "text": [
      "What should I do today?\n",
      "I'm going to stay home.\n",
      "It is decided then!\n"
     ]
    }
   ],
   "source": [
    "weather = \"Rainy\"\n",
    "hour_day = 15\n",
    "print(\"What should I do today?\")\n",
    "\n",
    "if weather == \"Sunny\":\n",
    "#A\n",
    "    if hour_day < 19:\n",
    "        print(\"I'm going for a walk.\")    \n",
    "    else:\n",
    "        print(\"I'm going to the movies.\")\n",
    "#B\n",
    "\n",
    "elif weather == \"Rainy\":\n",
    "#C    \n",
    "    if hour_day > 14:\n",
    "        print(\"I'm going to stay home.\")\n",
    "    else:\n",
    "        print(\"I'm going shopping.\")\n",
    "#D\n",
    "print(\"It is decided then!\")"
   ]
  },
  {
   "cell_type": "markdown",
   "metadata": {},
   "source": [
    "The first `if` statement tests if the weather is `\"Sunny\"`. If it is `True` than the code between point `A` and `B` is executed. If it is `False`, the code between `A` and `B` is ignored and the `elif` statement is evaluated. Then if the `elif` condition is `True` the code between `C` and `D` is executed. If the condition is `False` then the code between `C` and `D` is ignored."
   ]
  },
  {
   "cell_type": "markdown",
   "metadata": {},
   "source": [
    "See that now the code to be executed is **indented once** in relation to the `if` immediately above and **twice** in relation to the first `if` statement. It has to be absolutely clear that the **identation is vital** to contruct well defined `if` statements. \n",
    "\n",
    "Not respecting the indentation will lead to **wrong results** or **IndentationErrors**."
   ]
  },
  {
   "cell_type": "markdown",
   "metadata": {},
   "source": [
    "The code becomes a lot more readable and you don't have to copy and modify the conditions over and over again to write the whole expression. Also notice that every `else` statement is paired with the `if` **above** at the **same level of indentation**. "
   ]
  },
  {
   "cell_type": "markdown",
   "metadata": {},
   "source": [
    "---"
   ]
  },
  {
   "cell_type": "markdown",
   "metadata": {},
   "source": [
    "The code above can be represented by the *flowchart*:"
   ]
  },
  {
   "cell_type": "markdown",
   "metadata": {},
   "source": [
    "<img src=\"./media/nested_diagram_v2_small.jpg\" />"
   ]
  },
  {
   "cell_type": "markdown",
   "metadata": {},
   "source": [
    "In this flowchart, the red box represents the `if` and `elif` statements that have no indentation. The orange box represents the `if`-`else` statements with one level of indentation. The statements are organized such that each indentation test only variable at a time. The red box only tests the weather status and the orange box only tests the hour."
   ]
  },
  {
   "cell_type": "markdown",
   "metadata": {},
   "source": [
    "Nesting is particular useful if certain values are not known when the first condition is evaluated. This allows the code to process data and later test additional conditions."
   ]
  },
  {
   "cell_type": "markdown",
   "metadata": {},
   "source": [
    "---"
   ]
  },
  {
   "cell_type": "markdown",
   "metadata": {},
   "source": [
    "An additional feature of the `if`-`elif`-`else` statements is that, if the code to execute has a **single instruction**, the instruction can be written right after the colon `:`. But, as you can see in the example below, it does not look good and can be misinterpreted, so I recommend that you **avoid** this style. It might appear on someone else's code that you I'll encounter, but now you won't be caught off-guard. "
   ]
  },
  {
   "cell_type": "code",
   "execution_count": 71,
   "metadata": {},
   "outputs": [
    {
     "name": "stdout",
     "output_type": "stream",
     "text": [
      "What should I do today?\n",
      "I'm going to stay home.\n",
      "It is decided then!\n"
     ]
    }
   ],
   "source": [
    "weather = \"Rainy\"\n",
    "hour_day = 15\n",
    "print(\"What should I do today?\")\n",
    "\n",
    "if weather == \"Sunny\":    \n",
    "    if hour_day < 19: print(\"I'm going for a walk.\")    \n",
    "    else: print(\"I'm going to the movies.\")\n",
    "elif weather == \"Rainy\":\n",
    "    if hour_day > 14: print(\"I'm going to stay home.\")\n",
    "    else: print(\"I'm going shopping.\")\n",
    "\n",
    "print(\"It is decided then!\")"
   ]
  },
  {
   "cell_type": "markdown",
   "metadata": {},
   "source": [
    "---"
   ]
  },
  {
   "cell_type": "markdown",
   "metadata": {},
   "source": [
    "### Comparing with `True` and `False`"
   ]
  },
  {
   "cell_type": "markdown",
   "metadata": {},
   "source": [
    "You shouldn't compare booleans values to `True` or `False` ([One of the PEP8 recommendation](https://www.python.org/dev/peps/pep-0008/#id51)). It is redundant and may lead to unwanted results if misused.\n",
    "\n",
    "A statement like:\n",
    "\n",
    "```python\n",
    "if condition == True:\n",
    "```\n",
    "\n",
    "should be written as:\n",
    "\n",
    "```python\n",
    "if condition:\n",
    "```\n",
    "\n",
    "The same way:\n",
    "\n",
    "```python\n",
    "if condition == False:\n",
    "```\n",
    "\n",
    "can be written as:\n",
    "\n",
    "```python\n",
    "if not condition:\n",
    "```\n"
   ]
  },
  {
   "cell_type": "markdown",
   "metadata": {},
   "source": [
    "---"
   ]
  },
  {
   "cell_type": "markdown",
   "metadata": {},
   "source": [
    "### Further reading"
   ]
  },
  {
   "cell_type": "markdown",
   "metadata": {},
   "source": [
    "[W3School on conditionals](https://www.w3schools.com/python/python_conditions.asp)\n",
    "\n",
    "[DataCamp on conditionals](https://www.datacamp.com/community/tutorials/python-if-elif-else)\n",
    "\n",
    "[Programiz on flow control](https://www.programiz.com/python-programming/if-elif-else)\n",
    "\n",
    "[GeeksforGeeks on conditionals](https://www.geeksforgeeks.org/decision-making-python-else-nested-elif/?ref=lbp)\n",
    "\n",
    "[Tutorialpoints on conditionals](https://www.tutorialspoint.com/python/python_decision_making.htm)\n",
    "\n",
    "[Real Python on conditionals](https://realpython.com/courses/python-conditional-statements/)"
   ]
  },
  {
   "cell_type": "markdown",
   "metadata": {},
   "source": [
    "---"
   ]
  },
  {
   "cell_type": "markdown",
   "metadata": {},
   "source": [
    "## Repeating executions with loops"
   ]
  },
  {
   "cell_type": "markdown",
   "metadata": {},
   "source": [
    "Do you know those repetitive tasks that we have to do over and over again? Picking up the trash, washing dishes, filling the gas tank... the list goes on. Doesn't it annoy you? Well, no one is more annoyed than programmers. Programmers are notorious for their cunning and laziness. They want to repeat the same task as few times as possible. And this is a good thing."
   ]
  },
  {
   "cell_type": "markdown",
   "metadata": {},
   "source": [
    "<img src=\"./media/lazy_meme.png\" />"
   ]
  },
  {
   "cell_type": "markdown",
   "metadata": {},
   "source": [
    "Imagine a task as simple as printing 10 times the same sentence. With what you know now, you can write a `print()` statement and copy-paste 9 times. "
   ]
  },
  {
   "cell_type": "code",
   "execution_count": 72,
   "metadata": {},
   "outputs": [
    {
     "name": "stdout",
     "output_type": "stream",
     "text": [
      "Programmers are lazy people. I shold be lazu as well.\n",
      "Programmers are lazy people. I shold be lazu as well.\n",
      "Programmers are lazy people. I shold be lazu as well.\n",
      "Programmers are lazy people. I shold be lazu as well.\n",
      "Programmers are lazy people. I shold be lazu as well.\n",
      "Programmers are lazy people. I shold be lazu as well.\n",
      "Programmers are lazy people. I shold be lazu as well.\n",
      "Programmers are lazy people. I shold be lazu as well.\n",
      "Programmers are lazy people. I shold be lazu as well.\n",
      "Programmers are lazy people. I shold be lazu as well.\n"
     ]
    }
   ],
   "source": [
    "print(\"Programmers are lazy people. I shold be lazu as well.\")\n",
    "print(\"Programmers are lazy people. I shold be lazu as well.\")\n",
    "print(\"Programmers are lazy people. I shold be lazu as well.\")\n",
    "print(\"Programmers are lazy people. I shold be lazu as well.\")\n",
    "print(\"Programmers are lazy people. I shold be lazu as well.\")\n",
    "print(\"Programmers are lazy people. I shold be lazu as well.\")\n",
    "print(\"Programmers are lazy people. I shold be lazu as well.\")\n",
    "print(\"Programmers are lazy people. I shold be lazu as well.\")\n",
    "print(\"Programmers are lazy people. I shold be lazu as well.\")\n",
    "print(\"Programmers are lazy people. I shold be lazu as well.\")"
   ]
  },
  {
   "cell_type": "markdown",
   "metadata": {},
   "source": [
    "It looks fine and dandy until you notice that there are errors in the text. To fix them you'll have to fix every single string, which is annoying, time-consuming and prone to errors."
   ]
  },
  {
   "cell_type": "markdown",
   "metadata": {},
   "source": [
    "<img src=\"./media/bart-simpson.gif\" />"
   ]
  },
  {
   "cell_type": "markdown",
   "metadata": {},
   "source": [
    "What if there was a way to say to Python: \"Hey Python, execute this code X times, will ya?\". \n",
    "\n",
    "The best part is that there is such a way.\n",
    "What we are discussing next are different ways to repeat the execution of code without having to write the instructions multiple times over. "
   ]
  },
  {
   "cell_type": "markdown",
   "metadata": {},
   "source": [
    "## `while` loop"
   ]
  },
  {
   "cell_type": "markdown",
   "metadata": {},
   "source": [
    "The first statement that we'll be using to repeat code is the `while` loop. It composed of the elements:\n",
    "\n",
    "1. `while` keyword;\n",
    "2. one or more white spaces;\n",
    "3. a condition;\n",
    "4. a colon `:` and a newline;\n",
    "5. indented instruction(s) (aka loop's body) to execute. At least one instruction is necessary.\n"
   ]
  },
  {
   "cell_type": "markdown",
   "metadata": {},
   "source": [
    "```python\n",
    "while condition:\n",
    "    code\n",
    "```"
   ]
  },
  {
   "cell_type": "markdown",
   "metadata": {},
   "source": [
    "We have seen before that the `if` statement tests a condition and executes the code **once** if the condition is `True`. The `while` statement **repeats** the execution of code for as long as the condition is `True`. \n",
    "\n",
    "After the code inside the *loop's body* is executed, Python starts to execute the *loop's* body again. This repeats until the condition is `False`. We call each repetition of the execution a **loop iteration**. We'll see the term *iteration* and *iterates* a lot. Basically, each time the *loop's body* is executed is a different *iteration* of that loop. *Iterating* means repeating the *loop´s body*."
   ]
  },
  {
   "cell_type": "markdown",
   "metadata": {},
   "source": [
    "---"
   ]
  },
  {
   "cell_type": "markdown",
   "metadata": {},
   "source": [
    "```python\n",
    "while True:\n",
    "    print(\"This will never stop.\")\n",
    "```"
   ]
  },
  {
   "cell_type": "markdown",
   "metadata": {},
   "source": [
    "Here is a `while` loop that **never stops** because the condition is always `True`. The **loop's body should change the condition's value** at some point, otherwise if the condition is `True` in the beginning, it will always be `True`."
   ]
  },
  {
   "cell_type": "markdown",
   "metadata": {},
   "source": [
    "<img src=\"./media/rotating_earth.gif\" />\n",
    "\n",
    "`while` statements that are always `True` never stop, just as [Earth](https://en.wikipedia.org/wiki/GIF#/media/File:Rotating_earth_(large).gif) never stops spinning."
   ]
  },
  {
   "cell_type": "markdown",
   "metadata": {},
   "source": [
    "---"
   ]
  },
  {
   "cell_type": "markdown",
   "metadata": {},
   "source": [
    "Consider the example where we want to find out how many times a number can be divided by 3 until it is smaller than 3. We don't know how many times we need to divide, so we keep dividing the number by three as long as the result is larger than or equal to 3. When this happens we signal the `while` statement that it should stop repeating the code."
   ]
  },
  {
   "cell_type": "code",
   "execution_count": 73,
   "metadata": {},
   "outputs": [
    {
     "name": "stdout",
     "output_type": "stream",
     "text": [
      "It can be divided 4 times.\n"
     ]
    }
   ],
   "source": [
    "#Number to be divided. You can change it to see the result.\n",
    "dividend = 134\n",
    "#Counter used to store the number of divisions performed.\n",
    "counter = 0\n",
    "\n",
    "while dividend > 3:\n",
    "    \n",
    "    #If you forgot what /= and += mean read back SLU01.\n",
    "    dividend /= 3 \n",
    "    \n",
    "    #A division was perfomed. The counter of number goes up by one.\n",
    "    counter += 1\n",
    "    \n",
    "    #Uncomment the following print to see the value dividend as it is divided.\n",
    "    #print(dividend)\n",
    "    \n",
    "print(\"It can be divided {} time{}.\".format(counter, \"s\" * int(counter > 1)))"
   ]
  },
  {
   "cell_type": "markdown",
   "metadata": {},
   "source": [
    "The `while` statement will execute the body until the `dividend` is smaller than 3. At that moment the final number of divisions can be determined by the `counter` variable."
   ]
  },
  {
   "cell_type": "markdown",
   "metadata": {},
   "source": [
    "---"
   ]
  },
  {
   "cell_type": "markdown",
   "metadata": {},
   "source": [
    "Of course the `while` condition can be `False` from the beginning. In this case the loop's body is **not execute even once.**"
   ]
  },
  {
   "cell_type": "code",
   "execution_count": 74,
   "metadata": {},
   "outputs": [],
   "source": [
    "condition = False\n",
    "while condition:\n",
    "    print(\"This string is not printed!\")"
   ]
  },
  {
   "cell_type": "markdown",
   "metadata": {},
   "source": [
    "---"
   ]
  },
  {
   "cell_type": "markdown",
   "metadata": {},
   "source": [
    "With the knowledge of `while` loops we can rewrite the `print()` statements above into a condensed form."
   ]
  },
  {
   "cell_type": "code",
   "execution_count": 75,
   "metadata": {},
   "outputs": [
    {
     "name": "stdout",
     "output_type": "stream",
     "text": [
      "Programmers are lazy people. I shold be lazu as well.\n",
      "Programmers are lazy people. I shold be lazu as well.\n",
      "Programmers are lazy people. I shold be lazu as well.\n",
      "Programmers are lazy people. I shold be lazu as well.\n",
      "Programmers are lazy people. I shold be lazu as well.\n",
      "Programmers are lazy people. I shold be lazu as well.\n",
      "Programmers are lazy people. I shold be lazu as well.\n",
      "Programmers are lazy people. I shold be lazu as well.\n",
      "Programmers are lazy people. I shold be lazu as well.\n",
      "Programmers are lazy people. I shold be lazu as well.\n"
     ]
    }
   ],
   "source": [
    "counter = 10\n",
    "while counter != 0:\n",
    "    print(\"Programmers are lazy people. I shold be lazu as well.\")\n",
    "    counter -= 1"
   ]
  },
  {
   "cell_type": "markdown",
   "metadata": {},
   "source": [
    "Fixing the errors in the string now only requires to change a single string. Super sweet!"
   ]
  },
  {
   "cell_type": "markdown",
   "metadata": {},
   "source": [
    "<img src=\"./media/shorter.png\" width=\"400\"/>"
   ]
  },
  {
   "cell_type": "markdown",
   "metadata": {},
   "source": [
    "---"
   ]
  },
  {
   "cell_type": "markdown",
   "metadata": {},
   "source": [
    "## `for` loop"
   ]
  },
  {
   "cell_type": "markdown",
   "metadata": {},
   "source": [
    "When you know how many times you want to repeat the execution of the code, as in the last example, you can use a `for` loop. A `for` loop is composed of the elements:\n",
    "\n",
    "1. `for` keyword\n",
    "2. a space\n",
    "3. a control variable\n",
    "4. the `in` keyword\n",
    "5. a space\n",
    "6. an iterable (I'll explain briefly)\n",
    "7. a colon `:`\n",
    "8. indented code (aka loop's body) starting in the next line\n",
    "\n",
    "```python\n",
    "for index in iterable:\n",
    "    code\n",
    "\n",
    "```\n",
    "\n",
    "The control variable (`index` in this case) controls how many times the loop is executed. After every cycle the value of the control variable is **updated automatically**. You can name it as you like.\n",
    "\n",
    "The iterable can be any container with multiple elements that the **`for` loop can access one by one**. Each time a new element is accessed, its **value is assigned to the control variable automatically and the code is executed again**."
   ]
  },
  {
   "cell_type": "markdown",
   "metadata": {},
   "source": [
    "---"
   ]
  },
  {
   "cell_type": "markdown",
   "metadata": {},
   "source": [
    "A frequently used iterable is the `range` sequence. It creates a specific sequence that can be iterated by `for` loop. Let's see an example:"
   ]
  },
  {
   "cell_type": "code",
   "execution_count": 76,
   "metadata": {},
   "outputs": [
    {
     "name": "stdout",
     "output_type": "stream",
     "text": [
      "0\n",
      "1\n",
      "2\n",
      "3\n",
      "4\n",
      "5\n"
     ]
    }
   ],
   "source": [
    "for number in range(6):\n",
    "    print(number)"
   ]
  },
  {
   "cell_type": "markdown",
   "metadata": {},
   "source": [
    "The `range()` statement above creates a sequence of integers from 0 to 5. The `range()` statement has three parameters:\n",
    "\n",
    "- `start` \n",
    "- `end`\n",
    "- `step`\n",
    "\n",
    "These parameters are consistent to the `start:end:step` on the list and tuple indexing. Instead of using colons `:` you separate the arguments with commas `,`. This means that the start integer is included in the sequence but the **end integer is excluded from the sequence, just like with indexing.**\n",
    "\n",
    "You can write the `range()` statement in three ways:\n",
    "\n",
    "1. Use only the `end` parameter: `range(end)`. The `start` is defaulted to 0 and the `step` is defaulted to 1.\n",
    "\n",
    "2. Use the `start` and `end` parameters: `range(start,end)`. The `step` is defaulted to 1.\n",
    "\n",
    "3. Use all three parameters: `range(start,end,step)`.\n",
    "\n",
    "Below are a couple of examples using `range` with the different values of `start`, `end` and `step`.\n",
    "\n",
    "Note: Technically speaking `range` is not actually a function but a [class](https://docs.python.org/3.7/library/stdtypes.html#range) that is instantiated when you call `range()`. You don't need to know this to understand the examples. What matters is that `range()` creates a sequence that the `for` loop iterates over."
   ]
  },
  {
   "cell_type": "code",
   "execution_count": 77,
   "metadata": {},
   "outputs": [
    {
     "name": "stdout",
     "output_type": "stream",
     "text": [
      "2\n",
      "4\n",
      "6\n",
      "8\n"
     ]
    }
   ],
   "source": [
    "for i in range(2,10,2):\n",
    "    print(i)"
   ]
  },
  {
   "cell_type": "markdown",
   "metadata": {},
   "source": [
    "---"
   ]
  },
  {
   "cell_type": "markdown",
   "metadata": {},
   "source": [
    "The argument can have negative values."
   ]
  },
  {
   "cell_type": "code",
   "execution_count": 78,
   "metadata": {},
   "outputs": [
    {
     "name": "stdout",
     "output_type": "stream",
     "text": [
      "-2\n",
      "-3\n",
      "-4\n",
      "-5\n",
      "-6\n"
     ]
    }
   ],
   "source": [
    "for i in range(-2,-7,-1):\n",
    "    print(i)"
   ]
  },
  {
   "cell_type": "markdown",
   "metadata": {},
   "source": [
    "If the `end > start` then `step` must be **positive**. Otherwise nothing is executed.\n",
    "\n",
    "If the `end < start` then `step` must be **negative**. Otherwise nothing is executed."
   ]
  },
  {
   "cell_type": "code",
   "execution_count": 79,
   "metadata": {},
   "outputs": [],
   "source": [
    "for i in range(10,2,1):\n",
    "    print(i)\n",
    "\n",
    "for j in range(2,10,-1):\n",
    "    print(j)"
   ]
  },
  {
   "cell_type": "markdown",
   "metadata": {},
   "source": [
    "---"
   ]
  },
  {
   "cell_type": "markdown",
   "metadata": {},
   "source": [
    "You can even use the control variable to index a list or tuple. Will see below another way of achieving the same result."
   ]
  },
  {
   "cell_type": "code",
   "execution_count": 80,
   "metadata": {},
   "outputs": [
    {
     "data": {
      "text/plain": [
       "['Milk', 'Flour', 'Carrots']"
      ]
     },
     "execution_count": 80,
     "metadata": {},
     "output_type": "execute_result"
    }
   ],
   "source": [
    "groceries = [\"Eggs\", \"Milk\", \"Flour\", \"Carrots\", \"Napkins\", \"Olive Oil\"]\n",
    "storage = []\n",
    "\n",
    "for list_index in range(1,4):\n",
    "    storage.append(groceries[list_index])\n",
    "storage"
   ]
  },
  {
   "cell_type": "markdown",
   "metadata": {},
   "source": [
    "---"
   ]
  },
  {
   "cell_type": "markdown",
   "metadata": {},
   "source": [
    "With the `for` loop we can rewrite the last `while` statement as:"
   ]
  },
  {
   "cell_type": "code",
   "execution_count": 81,
   "metadata": {},
   "outputs": [
    {
     "name": "stdout",
     "output_type": "stream",
     "text": [
      "Programmers are lazy people. I should be lazy as well.\n",
      "Programmers are lazy people. I should be lazy as well.\n",
      "Programmers are lazy people. I should be lazy as well.\n",
      "Programmers are lazy people. I should be lazy as well.\n",
      "Programmers are lazy people. I should be lazy as well.\n",
      "Programmers are lazy people. I should be lazy as well.\n",
      "Programmers are lazy people. I should be lazy as well.\n",
      "Programmers are lazy people. I should be lazy as well.\n",
      "Programmers are lazy people. I should be lazy as well.\n",
      "Programmers are lazy people. I should be lazy as well.\n"
     ]
    }
   ],
   "source": [
    "for number in range(10):\n",
    "    print(\"Programmers are lazy people. I should be lazy as well.\")"
   ]
  },
  {
   "cell_type": "markdown",
   "metadata": {},
   "source": [
    "We have printed the sentence 10 times with 2 lines of code! It's amazingly lazy!"
   ]
  },
  {
   "cell_type": "markdown",
   "metadata": {},
   "source": [
    "---"
   ]
  },
  {
   "cell_type": "markdown",
   "metadata": {},
   "source": [
    "One important note regarding the control variables. They are just like the variables that we have been using. The major consequence is that they **retain their value after being used in the `for` loop**."
   ]
  },
  {
   "cell_type": "code",
   "execution_count": 82,
   "metadata": {},
   "outputs": [
    {
     "name": "stdout",
     "output_type": "stream",
     "text": [
      "9\n"
     ]
    }
   ],
   "source": [
    "#This variable was created as the control variable of the examples above.\n",
    "print(number)"
   ]
  },
  {
   "cell_type": "markdown",
   "metadata": {},
   "source": [
    "You should take this into account when assigning control variables. I would recommend to use the control variable **only** inside the `for` loop but this is up to debate. \n",
    "\n",
    "Additionally, a control variable name should be short and descriptive. It is going to be used a lot inside the `for` loop so it's a good idea to be able to track the variable in the middle of the loop's body.\n",
    "\n",
    "Avoid using control variable names such as `i`, `j`, `k`, `x`, `y`, `z` or `extremely_long_name_but_very_descriptive`. I have used `i` and `j` in the examples because I didn't want you to focus on the name of the control variables on those toy examples."
   ]
  },
  {
   "cell_type": "markdown",
   "metadata": {},
   "source": [
    "---"
   ]
  },
  {
   "cell_type": "markdown",
   "metadata": {},
   "source": [
    "In all the examples the `for` loop accessed the values of the `range` **sequence** and executed the code below for each element of the `range` **sequence**. \n",
    "\n",
    "If I told you that lists and tuples are also [sequences](https://docs.python.org/3/library/stdtypes.html#sequence-types-list-tuple-range), can you guess what will be doing next?"
   ]
  },
  {
   "cell_type": "markdown",
   "metadata": {},
   "source": [
    "---"
   ]
  },
  {
   "cell_type": "markdown",
   "metadata": {},
   "source": [
    "## `for` loops with lists and tuples"
   ]
  },
  {
   "cell_type": "markdown",
   "metadata": {},
   "source": [
    "You can use lists and tuple as the iterable of the `for` loop. You use the same syntax but instead of the `range()` call you use the the list directly:"
   ]
  },
  {
   "cell_type": "code",
   "execution_count": 83,
   "metadata": {},
   "outputs": [
    {
     "name": "stdout",
     "output_type": "stream",
     "text": [
      "Gillet\n",
      "Troller\n",
      "SIN Cars\n",
      "Dadi\n",
      "Pininfarina\n",
      "Lada\n",
      "Puma\n",
      "Ginetta\n"
     ]
    }
   ],
   "source": [
    "car_brands = [\"Gillet\", \"Troller\", \"SIN Cars\", \"Dadi\", \"Pininfarina\", \"Lada\", \"Puma\", \"Ginetta\"]\n",
    "for brand in car_brands:\n",
    "    print(brand)"
   ]
  },
  {
   "cell_type": "markdown",
   "metadata": {},
   "source": [
    "The control variable `brand` is assigned the first element of `car_brands` (`\"Gillet\"`). The loop's body is executed  and `\"Gillet\"` is printed. After reaching the end of the indented code the loop starts the new iteration and assigns the second element of `car_brands` to `brand`. The loop's body is executed again and the cycle continues until the loop has iterated over all elements of `car_brands`. After that, the code below the loop is executed, just like with the `if` statement.\n",
    "\n",
    "We can iterate over a list and append the elements of this list into another list:"
   ]
  },
  {
   "cell_type": "code",
   "execution_count": 84,
   "metadata": {},
   "outputs": [
    {
     "data": {
      "text/plain": [
       "['Eggs', 'Milk', 'Flour', 'Carrots', 'Napkins', 'Olive Oil']"
      ]
     },
     "execution_count": 84,
     "metadata": {},
     "output_type": "execute_result"
    }
   ],
   "source": [
    "groceries = [\"Eggs\", \"Milk\", \"Flour\", \"Carrots\", \"Napkins\", \"Olive Oil\"]\n",
    "storage = []\n",
    "\n",
    "for grocery_item in groceries:\n",
    "    storage.append(grocery_item)\n",
    "storage"
   ]
  },
  {
   "cell_type": "markdown",
   "metadata": {},
   "source": [
    "Now if we want a subset of the list, we can index it on the `for` statement."
   ]
  },
  {
   "cell_type": "code",
   "execution_count": 85,
   "metadata": {},
   "outputs": [
    {
     "data": {
      "text/plain": [
       "['Milk', 'Flour', 'Carrots']"
      ]
     },
     "execution_count": 85,
     "metadata": {},
     "output_type": "execute_result"
    }
   ],
   "source": [
    "groceries = [\"Eggs\", \"Milk\", \"Flour\", \"Carrots\", \"Napkins\", \"Olive Oil\"]\n",
    "storage = []\n",
    "\n",
    "for grocery_item in groceries[1:4]:\n",
    "    storage.append(grocery_item)\n",
    "storage"
   ]
  },
  {
   "cell_type": "markdown",
   "metadata": {},
   "source": [
    "Which gets the same result as before (with the `range` statement) but instead of iterating over a sequence of integers and then index the list with these integers, now we first index the list and then the `for` loop iterates over these elements of the list."
   ]
  },
  {
   "cell_type": "markdown",
   "metadata": {},
   "source": [
    "---"
   ]
  },
  {
   "cell_type": "markdown",
   "metadata": {},
   "source": [
    "We can follow the same approach with tuples, except we cannot append into it (remember immutability)."
   ]
  },
  {
   "cell_type": "code",
   "execution_count": 86,
   "metadata": {},
   "outputs": [
    {
     "name": "stdout",
     "output_type": "stream",
     "text": [
      "Gillet\n",
      "Troller\n",
      "SIN Cars\n",
      "Dadi\n",
      "Pininfarina\n",
      "Lada\n",
      "Puma\n",
      "Ginetta\n"
     ]
    }
   ],
   "source": [
    "car_brands_tuple = (\"Gillet\", \"Troller\", \"SIN Cars\", \"Dadi\", \"Pininfarina\", \"Lada\", \"Puma\", \"Ginetta\")\n",
    "for brand in car_brands_tuple:\n",
    "    print(brand)"
   ]
  },
  {
   "cell_type": "markdown",
   "metadata": {},
   "source": [
    "---"
   ]
  },
  {
   "cell_type": "markdown",
   "metadata": {},
   "source": [
    "## `for` loops  with dictionaries"
   ]
  },
  {
   "cell_type": "markdown",
   "metadata": {},
   "source": [
    "Dictionaries are **not** [sequences](https://docs.python.org/3.7/library/stdtypes.html#mapping-types-dict). For this reason we cannot iterate them with a `for` loop.\n",
    "\n",
    "We can, however, iterate over the [Dictionary View Objects](https://docs.python.org/3.7/library/stdtypes.html#dictionary-view-objects). To access these views we are using methods `.keys()`, `.values()` and `items()`\n",
    "\n",
    "Note: both links point to advanced topics. The bottom line is that we cannot iterate over a dictionary directly with a `for` loop but we can \"extract\" the values and/or keys and iterate over them instead."
   ]
  },
  {
   "cell_type": "markdown",
   "metadata": {},
   "source": [
    "### `.keys()` method"
   ]
  },
  {
   "cell_type": "markdown",
   "metadata": {},
   "source": [
    "The `.keys()` method returns a **\"list-like\"** object with **all the keys of the dictionary**. I say \"list-like\" because it is not technically a list but you can iterate it like if it was a list."
   ]
  },
  {
   "cell_type": "code",
   "execution_count": 87,
   "metadata": {},
   "outputs": [
    {
     "name": "stdout",
     "output_type": "stream",
     "text": [
      "Pac-Man\n",
      "Tetris\n",
      "The Legend of Zelda\n",
      "Street Fighter\n",
      "Sonic the Hedgehog\n"
     ]
    }
   ],
   "source": [
    "game_release_year = {\"Pac-Man\":1980,\n",
    "                     \"Tetris\":1984,\n",
    "                     \"The Legend of Zelda\":1986,\n",
    "                     \"Street Fighter\": 1987,\n",
    "                    \"Sonic the Hedgehog\":1991\n",
    "                    }\n",
    "\n",
    "for games in game_release_year.keys():\n",
    "    print(games)"
   ]
  },
  {
   "cell_type": "markdown",
   "metadata": {},
   "source": [
    "---"
   ]
  },
  {
   "cell_type": "markdown",
   "metadata": {},
   "source": [
    "### `.values()` method"
   ]
  },
  {
   "cell_type": "markdown",
   "metadata": {},
   "source": [
    "The `.values()` method returns a **\"list-like\"** object with **all the values of the dictionary**."
   ]
  },
  {
   "cell_type": "code",
   "execution_count": 88,
   "metadata": {},
   "outputs": [
    {
     "name": "stdout",
     "output_type": "stream",
     "text": [
      "1980\n",
      "1984\n",
      "1986\n",
      "1987\n",
      "1991\n"
     ]
    }
   ],
   "source": [
    "for games in game_release_year.values():\n",
    "    print(games)"
   ]
  },
  {
   "cell_type": "markdown",
   "metadata": {},
   "source": [
    "---"
   ]
  },
  {
   "cell_type": "markdown",
   "metadata": {},
   "source": [
    "### `.items()` method"
   ]
  },
  {
   "cell_type": "markdown",
   "metadata": {},
   "source": [
    "The `.items()` method returns a **\"tuple-like\"** object with the **all the key-value pairs of the dictionary**."
   ]
  },
  {
   "cell_type": "code",
   "execution_count": 89,
   "metadata": {},
   "outputs": [
    {
     "name": "stdout",
     "output_type": "stream",
     "text": [
      "('Pac-Man', 1980)\n",
      "('Tetris', 1984)\n",
      "('The Legend of Zelda', 1986)\n",
      "('Street Fighter', 1987)\n",
      "('Sonic the Hedgehog', 1991)\n"
     ]
    }
   ],
   "source": [
    "for games in game_release_year.items():\n",
    "    print(games)"
   ]
  },
  {
   "cell_type": "markdown",
   "metadata": {},
   "source": [
    "The control variable is assigned a tuple with one `key-value` pair at a time. Another possibility is to split each `key-value` pair and stored them in two control variables instead of one. To do this, we define a two element tuple where the first element receives the `keys` and the second element receives the `values`."
   ]
  },
  {
   "cell_type": "code",
   "execution_count": 90,
   "metadata": {},
   "outputs": [
    {
     "name": "stdout",
     "output_type": "stream",
     "text": [
      "The initial release year for Pac-Man was 1980.\n",
      "The initial release year for Tetris was 1984.\n",
      "The initial release year for The Legend of Zelda was 1986.\n",
      "The initial release year for Street Fighter was 1987.\n",
      "The initial release year for Sonic the Hedgehog was 1991.\n"
     ]
    }
   ],
   "source": [
    "for (title, year) in game_release_year.items():\n",
    "    print(f\"The initial release year for {title} was {year}.\")"
   ]
  },
  {
   "cell_type": "markdown",
   "metadata": {},
   "source": [
    "You'll generally see the tuples definition without parenthesis `()`:"
   ]
  },
  {
   "cell_type": "code",
   "execution_count": 91,
   "metadata": {},
   "outputs": [
    {
     "name": "stdout",
     "output_type": "stream",
     "text": [
      "The initial release year for Pac-Man was 1980.\n",
      "The initial release year for Tetris was 1984.\n",
      "The initial release year for The Legend of Zelda was 1986.\n",
      "The initial release year for Street Fighter was 1987.\n",
      "The initial release year for Sonic the Hedgehog was 1991.\n"
     ]
    }
   ],
   "source": [
    "for title, year in game_release_year.items():\n",
    "    print(f\"The initial release year for {title} was {year}.\")"
   ]
  },
  {
   "cell_type": "markdown",
   "metadata": {},
   "source": [
    "---"
   ]
  },
  {
   "cell_type": "markdown",
   "metadata": {},
   "source": [
    "## Nested `while` and `for` loops"
   ]
  },
  {
   "cell_type": "markdown",
   "metadata": {},
   "source": [
    "Do you have flashbacks of your teacher making you write the [multiplication tables](https://en.wikipedia.org/wiki/Multiplication_table) over and over again? What if we write them in this section?"
   ]
  },
  {
   "cell_type": "markdown",
   "metadata": {},
   "source": [
    "<img src=\"./media/please_no.gif\" />\n",
    "\n",
    "<center>\"First Algebra now Arithmetic. Good thing this is an online course or I would get strangled by now.\" </center>"
   ]
  },
  {
   "cell_type": "markdown",
   "metadata": {},
   "source": [
    "Don't worry, we'll let Python do the heavy work. Remember: we are lazy!\n",
    "\n",
    "It would be difficult to create these tables with a single loop because the multiplication tables give the result of multiplying the combination of pairs of integers.\n",
    "\n",
    "It is much easier to iterate over the integers of the left side of the multiplication and for each of these values then iterate over the integers of the right side of the muliplications.\n",
    "\n",
    "This is achieved by **nesting** a loop inside another loop: \n",
    "\n",
    "```python\n",
    "for outter_variable in outer_iterable:\n",
    "    #Outer loop's body beginning\n",
    "    for inner_variable in inner_iterable:\n",
    "        #Inner loop's body\n",
    "    #Outer loop's body end\n",
    "        \n",
    "```\n",
    "\n",
    "The first loop is called an *outer loop* and the second (indented) loop is called *inner loop*. In the first iteration of the *outer loop*, the outer loop's body is executed, **including the *inner loop***. The *inner loop* **iterates over all its values** and then resumes the *outer loop*. **Only after reaching the end of the *outer loop's* body does the second iteration of *outer loop* starts**. This repeats until all values of the *outer loop* had be iterated on.\n",
    "\n",
    "You can think of this similarly to the relation between hours and minutes. For every hour, the minutes go from 0 to 59. After the 59th minute, the hour is increase by one and the minute is reset to 0. You can compare the hours to the iterations of the *outer loop* and the minutes to the iterations of the *inner loop*."
   ]
  },
  {
   "cell_type": "markdown",
   "metadata": {},
   "source": [
    "<img src=\"./media/timer.gif\" />"
   ]
  },
  {
   "cell_type": "markdown",
   "metadata": {},
   "source": [
    "Let's make this clearer by writing the code that will print the multiplication tables."
   ]
  },
  {
   "cell_type": "code",
   "execution_count": 92,
   "metadata": {
    "scrolled": true
   },
   "outputs": [
    {
     "name": "stdout",
     "output_type": "stream",
     "text": [
      "The multiplication table for 0 is:\n",
      "0 * 0 = 0\n",
      "0 * 1 = 0\n",
      "0 * 2 = 0\n",
      "0 * 3 = 0\n",
      "0 * 4 = 0\n",
      "0 * 5 = 0\n",
      "0 * 6 = 0\n",
      "0 * 7 = 0\n",
      "0 * 8 = 0\n",
      "0 * 9 = 0\n",
      "0 * 10 = 0\n",
      "\n",
      "\n",
      "The multiplication table for 1 is:\n",
      "1 * 0 = 0\n",
      "1 * 1 = 1\n",
      "1 * 2 = 2\n",
      "1 * 3 = 3\n",
      "1 * 4 = 4\n",
      "1 * 5 = 5\n",
      "1 * 6 = 6\n",
      "1 * 7 = 7\n",
      "1 * 8 = 8\n",
      "1 * 9 = 9\n",
      "1 * 10 = 10\n",
      "\n",
      "\n",
      "The multiplication table for 2 is:\n",
      "2 * 0 = 0\n",
      "2 * 1 = 2\n",
      "2 * 2 = 4\n",
      "2 * 3 = 6\n",
      "2 * 4 = 8\n",
      "2 * 5 = 10\n",
      "2 * 6 = 12\n",
      "2 * 7 = 14\n",
      "2 * 8 = 16\n",
      "2 * 9 = 18\n",
      "2 * 10 = 20\n",
      "\n",
      "\n",
      "The multiplication table for 3 is:\n",
      "3 * 0 = 0\n",
      "3 * 1 = 3\n",
      "3 * 2 = 6\n",
      "3 * 3 = 9\n",
      "3 * 4 = 12\n",
      "3 * 5 = 15\n",
      "3 * 6 = 18\n",
      "3 * 7 = 21\n",
      "3 * 8 = 24\n",
      "3 * 9 = 27\n",
      "3 * 10 = 30\n",
      "\n",
      "\n",
      "The multiplication table for 4 is:\n",
      "4 * 0 = 0\n",
      "4 * 1 = 4\n",
      "4 * 2 = 8\n",
      "4 * 3 = 12\n",
      "4 * 4 = 16\n",
      "4 * 5 = 20\n",
      "4 * 6 = 24\n",
      "4 * 7 = 28\n",
      "4 * 8 = 32\n",
      "4 * 9 = 36\n",
      "4 * 10 = 40\n",
      "\n",
      "\n",
      "The multiplication table for 5 is:\n",
      "5 * 0 = 0\n",
      "5 * 1 = 5\n",
      "5 * 2 = 10\n",
      "5 * 3 = 15\n",
      "5 * 4 = 20\n",
      "5 * 5 = 25\n",
      "5 * 6 = 30\n",
      "5 * 7 = 35\n",
      "5 * 8 = 40\n",
      "5 * 9 = 45\n",
      "5 * 10 = 50\n",
      "\n",
      "\n",
      "The multiplication table for 6 is:\n",
      "6 * 0 = 0\n",
      "6 * 1 = 6\n",
      "6 * 2 = 12\n",
      "6 * 3 = 18\n",
      "6 * 4 = 24\n",
      "6 * 5 = 30\n",
      "6 * 6 = 36\n",
      "6 * 7 = 42\n",
      "6 * 8 = 48\n",
      "6 * 9 = 54\n",
      "6 * 10 = 60\n",
      "\n",
      "\n",
      "The multiplication table for 7 is:\n",
      "7 * 0 = 0\n",
      "7 * 1 = 7\n",
      "7 * 2 = 14\n",
      "7 * 3 = 21\n",
      "7 * 4 = 28\n",
      "7 * 5 = 35\n",
      "7 * 6 = 42\n",
      "7 * 7 = 49\n",
      "7 * 8 = 56\n",
      "7 * 9 = 63\n",
      "7 * 10 = 70\n",
      "\n",
      "\n",
      "The multiplication table for 8 is:\n",
      "8 * 0 = 0\n",
      "8 * 1 = 8\n",
      "8 * 2 = 16\n",
      "8 * 3 = 24\n",
      "8 * 4 = 32\n",
      "8 * 5 = 40\n",
      "8 * 6 = 48\n",
      "8 * 7 = 56\n",
      "8 * 8 = 64\n",
      "8 * 9 = 72\n",
      "8 * 10 = 80\n",
      "\n",
      "\n",
      "The multiplication table for 9 is:\n",
      "9 * 0 = 0\n",
      "9 * 1 = 9\n",
      "9 * 2 = 18\n",
      "9 * 3 = 27\n",
      "9 * 4 = 36\n",
      "9 * 5 = 45\n",
      "9 * 6 = 54\n",
      "9 * 7 = 63\n",
      "9 * 8 = 72\n",
      "9 * 9 = 81\n",
      "9 * 10 = 90\n",
      "\n",
      "\n",
      "The multiplication table for 10 is:\n",
      "10 * 0 = 0\n",
      "10 * 1 = 10\n",
      "10 * 2 = 20\n",
      "10 * 3 = 30\n",
      "10 * 4 = 40\n",
      "10 * 5 = 50\n",
      "10 * 6 = 60\n",
      "10 * 7 = 70\n",
      "10 * 8 = 80\n",
      "10 * 9 = 90\n",
      "10 * 10 = 100\n",
      "\n",
      "\n"
     ]
    }
   ],
   "source": [
    "for multiplier in range(11):\n",
    "    print(f\"The multiplication table for {multiplier} is:\")\n",
    "    for multiplied in range(11):\n",
    "        print(f\"{multiplier} * {multiplied} = {multiplier * multiplied}\")\n",
    "    #White line between tables\n",
    "    print(\"\\n\")"
   ]
  },
  {
   "cell_type": "markdown",
   "metadata": {},
   "source": [
    "For each value of `multiplier` in the *outer loop* all values of `multiplied` are iterated over.\n",
    "\n",
    "This means that the *outer loop* is iterated **once** but the inner loop is iterated **as many times as the number of elements of the *outer loop***."
   ]
  },
  {
   "cell_type": "markdown",
   "metadata": {},
   "source": [
    "---"
   ]
  },
  {
   "cell_type": "markdown",
   "metadata": {},
   "source": [
    "We can use *loop nesting* with the other iterables like lists, tuples or dictionaries. We can also use the values of one *control variable* in another `for` loop as long it's an iterable.\n",
    "\n",
    "Let's take the [steel production by country over the years](https://en.wikipedia.org/wiki/List_of_countries_by_steel_production) between 2015 and 2018: "
   ]
  },
  {
   "cell_type": "code",
   "execution_count": 93,
   "metadata": {},
   "outputs": [],
   "source": [
    "steel_production = {\"Japan\": [105.2, 104.8, 104.7, 104.3],\n",
    "                    \"Germany\":[42.7, 42.1, 43.6, 42.4],\n",
    "                    \"Italy\":[24.5, 24.0, 23.3, 22.0]}"
   ]
  },
  {
   "cell_type": "markdown",
   "metadata": {},
   "source": [
    "If we want to calculate the total product of each country between 2015 and 2018 we can do something like this:"
   ]
  },
  {
   "cell_type": "code",
   "execution_count": 94,
   "metadata": {},
   "outputs": [
    {
     "data": {
      "text/plain": [
       "{'Japan': 419.0, 'Germany': 170.8, 'Italy': 93.8}"
      ]
     },
     "execution_count": 94,
     "metadata": {},
     "output_type": "execute_result"
    }
   ],
   "source": [
    "total_production = {}\n",
    "for country, production_list in steel_production.items():\n",
    "    production_counter = 0\n",
    "    for year_production in production_list:\n",
    "        production_counter += year_production\n",
    "        \n",
    "    total_production[country] = production_counter\n",
    "    \n",
    "total_production"
   ]
  },
  {
   "cell_type": "markdown",
   "metadata": {},
   "source": [
    "Let's break the code into pieces:\n",
    "\n",
    "1. We create an empty dictionary `total_production` where we are going to store the results.\n",
    "\n",
    "2. We iterate over all the the `key-value` pairs of `steel_production` with the `.items()` method. The variable `country` gets the `keys` and `production_list` gets the 3 lists of yearly production (`values`).\n",
    "\n",
    "    1. For each iteration we set the `production_counter` to 0.\n",
    "    \n",
    "    2. The *inner loop* iterates over the 4 elements of the list `production_list` and each time sums the value into the `production_counter`.\n",
    "    3. The value of `production_counter` is assigned to the `total_production` dictionary with the key `country`.\n",
    "   \n",
    "And we get the total production of steel by country. "
   ]
  },
  {
   "cell_type": "markdown",
   "metadata": {},
   "source": [
    "---"
   ]
  },
  {
   "cell_type": "markdown",
   "metadata": {},
   "source": [
    "We can also nest `while` loops and mix `for`and `while` loops depending on what you need.\n",
    "\n",
    "We can create as many \"nesting levels\" as you need.\n",
    "\n",
    "When using *nesting* it gets pretty easy to lose track of which *control variable* belongs to each `for` loop. For this reason it is advisable to use descriptive names for the *control variables*."
   ]
  },
  {
   "cell_type": "markdown",
   "metadata": {},
   "source": [
    "---"
   ]
  },
  {
   "cell_type": "markdown",
   "metadata": {},
   "source": [
    "## Interrupting loops with the `continue` and `break` statements"
   ]
  },
  {
   "cell_type": "markdown",
   "metadata": {},
   "source": [
    "We have seen that `while` and `for` loops execute the whole loop's body for every iteration. But sometimes it's unnecessary to execute the whole loop. Other times you need to exit the loop prematurely without executing all iterations. In these cases we need a way to tell Python to stop."
   ]
  },
  {
   "cell_type": "markdown",
   "metadata": {},
   "source": [
    "<img src=\"./media/time_stop.gif\" />"
   ]
  },
  {
   "cell_type": "markdown",
   "metadata": {},
   "source": [
    "---"
   ]
  },
  {
   "cell_type": "markdown",
   "metadata": {},
   "source": [
    "### `continue` statement"
   ]
  },
  {
   "cell_type": "markdown",
   "metadata": {},
   "source": [
    "The `continue` statement **ignores the remaining *loop's body* and *continues* to next iteration of that loop**. Is as if the rest of the *loop's body* didn't exist for that specific iteration.\n",
    "\n",
    "In the example below, we are iterating over a series of integers. We want to print all integers that are not divisable by 2. If the *control variable* is divisible by 2 the `continue` statement is executed and the `print()` function is ignored. Thus that value does not appear on the output."
   ]
  },
  {
   "cell_type": "code",
   "execution_count": 95,
   "metadata": {},
   "outputs": [
    {
     "name": "stdout",
     "output_type": "stream",
     "text": [
      "1\n",
      "3\n",
      "5\n",
      "7\n",
      "9\n"
     ]
    }
   ],
   "source": [
    "for i in range(10):\n",
    "    if i % 2 == 0:\n",
    "        continue\n",
    "    print(i)"
   ]
  },
  {
   "cell_type": "markdown",
   "metadata": {},
   "source": [
    "---"
   ]
  },
  {
   "cell_type": "markdown",
   "metadata": {},
   "source": [
    "If you have `nested` loops, the `continue` statement affects the **inner most** loop that contains the `continue` statement.\n",
    "\n",
    "Let's say we want to know which two D6 dice throws result in a given `outcome`. We can iterate over the values of one dice and then for each of these values iterate over all the values of the second dice. If the sum of the value of the dices is different than `outcome` then we ignore the remaining *inner loop's body* and jump to the next iteration of the second dice."
   ]
  },
  {
   "cell_type": "markdown",
   "metadata": {},
   "source": [
    "<img src=\"./media/dice_tiny.jpg\" />"
   ]
  },
  {
   "cell_type": "code",
   "execution_count": 96,
   "metadata": {},
   "outputs": [
    {
     "name": "stdout",
     "output_type": "stream",
     "text": [
      "Throws 1 and 5 resulting in 6.\n",
      "Throws 2 and 4 resulting in 6.\n",
      "Throws 3 and 3 resulting in 6.\n",
      "Throws 4 and 2 resulting in 6.\n",
      "Throws 5 and 1 resulting in 6.\n",
      "\n",
      "There are 5 combinations that result in 6.\n"
     ]
    }
   ],
   "source": [
    "outcome = 6 #Change me and see what happens.\n",
    "combinations = 0\n",
    "\n",
    "for first_dice in range(1,7):\n",
    "    for second_dice in range(1,7):\n",
    "        if first_dice + second_dice != outcome:\n",
    "            continue\n",
    "        combinations += 1\n",
    "        print(f\"Throws {first_dice} and {second_dice} resulting in {outcome}.\")\n",
    "        \n",
    "#Boolean value to indicate if there is more than one possible combination. Used below when writing the last sentence\n",
    "plural = combinations > 1\n",
    "\n",
    "print(f\"\\nThere {'are' * plural + 'is' * (not plural)} {combinations} combination{'s' * plural} that result{'s' * (not plural)} in {outcome}.\")"
   ]
  },
  {
   "cell_type": "markdown",
   "metadata": {},
   "source": [
    "---"
   ]
  },
  {
   "cell_type": "markdown",
   "metadata": {},
   "source": [
    "### `break` statement"
   ]
  },
  {
   "cell_type": "markdown",
   "metadata": {},
   "source": [
    "The `break` statement **ends the loop immediately** as if all iterations had already been performed. "
   ]
  },
  {
   "cell_type": "code",
   "execution_count": 97,
   "metadata": {},
   "outputs": [
    {
     "name": "stdout",
     "output_type": "stream",
     "text": [
      "0\n",
      "1\n",
      "2\n",
      "3\n",
      "4\n",
      "5\n"
     ]
    }
   ],
   "source": [
    "for i in range(10):\n",
    "    if i >= 6:\n",
    "        break\n",
    "    print(i)"
   ]
  },
  {
   "cell_type": "markdown",
   "metadata": {},
   "source": [
    "If you have `nested` loops, the `break` statement affects the **inner most** loop that contains the `break` statement."
   ]
  },
  {
   "cell_type": "code",
   "execution_count": 98,
   "metadata": {},
   "outputs": [
    {
     "name": "stdout",
     "output_type": "stream",
     "text": [
      "0 A\n",
      "0 B\n",
      "0 C\n",
      "1 A\n",
      "1 B\n",
      "1 C\n",
      "2 A\n",
      "2 B\n",
      "2 C\n",
      "3 A\n",
      "3 B\n",
      "3 C\n",
      "4 A\n",
      "4 B\n",
      "4 C\n"
     ]
    }
   ],
   "source": [
    "for i in range(5):\n",
    "    for j in [\"A\", \"B\", \"C\", \"D\", \"E\", \"F\"]:\n",
    "        if j == \"D\":\n",
    "            break\n",
    "        print(i,j)"
   ]
  },
  {
   "cell_type": "markdown",
   "metadata": {},
   "source": [
    "As soon as the `break` statement is executed the **inner loop ends** and the new iteration of the **outer loop** is executed. That's why no letter after `\"C\"` is printed."
   ]
  },
  {
   "cell_type": "markdown",
   "metadata": {},
   "source": [
    "---"
   ]
  },
  {
   "cell_type": "markdown",
   "metadata": {},
   "source": [
    "## `else` clause on loops"
   ]
  },
  {
   "cell_type": "markdown",
   "metadata": {},
   "source": [
    "An obscure statement that can be used with loops is the `else` statement. The `else` statement behaves **differently** when in an `if` statement compared with a loop.\n",
    "The code indented after the `else` statement is executed after the loop **even if the loop's body was executed.**"
   ]
  },
  {
   "cell_type": "code",
   "execution_count": 99,
   "metadata": {},
   "outputs": [
    {
     "name": "stdout",
     "output_type": "stream",
     "text": [
      "1\n",
      "2\n",
      "3\n",
      "4\n",
      "5\n",
      "After else: 6\n"
     ]
    }
   ],
   "source": [
    "i = 1\n",
    "while i < 6:\n",
    "    print(i)\n",
    "    i += 1\n",
    "else:\n",
    "    print(\"After else:\",i)"
   ]
  },
  {
   "cell_type": "markdown",
   "metadata": {},
   "source": [
    "The `while` loop iterates until the condition is no longer `True`. After that, the `else` statement is executed. Notice that the value of `print(\"After else:\",i)` was incremented by one compared with the last iteration of the `print()` inside the loop.\n",
    "\n",
    "If the condition is initially `False`, the `else` statement is still executed."
   ]
  },
  {
   "cell_type": "code",
   "execution_count": 100,
   "metadata": {},
   "outputs": [
    {
     "name": "stdout",
     "output_type": "stream",
     "text": [
      "Last Iteration: 1\n"
     ]
    }
   ],
   "source": [
    "i = 1\n",
    "while i > 6:\n",
    "    print(i)\n",
    "    i += 1\n",
    "else:\n",
    "    print(\"Last Iteration:\",i)"
   ]
  },
  {
   "cell_type": "markdown",
   "metadata": {},
   "source": [
    "---"
   ]
  },
  {
   "cell_type": "markdown",
   "metadata": {},
   "source": [
    "If you use the `break` statement the `else` statement **is not executed**."
   ]
  },
  {
   "cell_type": "code",
   "execution_count": 101,
   "metadata": {},
   "outputs": [
    {
     "name": "stdout",
     "output_type": "stream",
     "text": [
      "1\n",
      "2\n",
      "3\n",
      "4\n",
      "5\n"
     ]
    }
   ],
   "source": [
    "i = 1\n",
    "while True:\n",
    "    print(i)\n",
    "    i += 1\n",
    "    if i == 6:\n",
    "        break\n",
    "    \n",
    "else:\n",
    "    print(\"Last Iteration:\",i)"
   ]
  },
  {
   "cell_type": "markdown",
   "metadata": {},
   "source": [
    "---"
   ]
  },
  {
   "cell_type": "markdown",
   "metadata": {},
   "source": [
    "We can also use the `else` statement with `for` loops."
   ]
  },
  {
   "cell_type": "code",
   "execution_count": 102,
   "metadata": {},
   "outputs": [
    {
     "name": "stdout",
     "output_type": "stream",
     "text": [
      "1\n",
      "2\n",
      "3\n",
      "4\n",
      "5\n",
      "Last Iteration: 5\n"
     ]
    }
   ],
   "source": [
    "for i in range(1,6):\n",
    "    print(i)\n",
    "else:\n",
    "    print(\"Last Iteration:\",i)"
   ]
  },
  {
   "cell_type": "markdown",
   "metadata": {},
   "source": [
    "Notice that the value of `print(\"After else:\",i)` is equal to the last iteration of the `print()` inside the loop."
   ]
  },
  {
   "cell_type": "markdown",
   "metadata": {},
   "source": [
    "---"
   ]
  },
  {
   "cell_type": "markdown",
   "metadata": {},
   "source": [
    "### Takeaway"
   ]
  },
  {
   "cell_type": "markdown",
   "metadata": {},
   "source": [
    "**If you are writing the same code multiple times you are probably doing something wrong or at least unadvisable.**\n",
    "\n",
    "<img src=\"./media/sad_puppy_tiny.jpg\" />\n",
    "\n",
    "<center>A puppy gets sad every time you repeat code unnecessarily.</center>\n",
    "\n",
    "**Use the techniques that we learned to avoid code repetitions.**"
   ]
  },
  {
   "cell_type": "markdown",
   "metadata": {},
   "source": [
    "---"
   ]
  },
  {
   "cell_type": "markdown",
   "metadata": {},
   "source": [
    "### Further Reading"
   ]
  },
  {
   "cell_type": "markdown",
   "metadata": {},
   "source": [
    "[W3School on while loops](https://www.w3schools.com/python/python_while_loops.asp)\n",
    "\n",
    "[W3School on for loops](https://www.w3schools.com/python/python_for_loops.asp)\n",
    "\n",
    "[DataCamp on loops](https://www.datacamp.com/community/tutorials/loops-python-tutorial)\n",
    "\n",
    "[Programiz on flow control](https://www.programiz.com/python-programming/if-elif-else)\n",
    "\n",
    "[GeeksforGeeks on loops](https://www.geeksforgeeks.org/loops-in-python/?ref=lbp)\n",
    "\n",
    "[Tutorialpoints on loops](https://www.tutorialspoint.com/python/python_loops.htm)\n",
    "\n",
    "[Real Python on while loops](https://realpython.com/courses/mastering-while-loops/)\n",
    "\n",
    "[Real Python on for loops](https://realpython.com/courses/python-for-loop/)\n",
    "\n",
    "[Python documentation on the continue and break statements and else in loops](https://docs.python.org/3.7/tutorial/controlflow.html#break-and-continue-statements-and-else-clauses-on-loops)"
   ]
  },
  {
   "cell_type": "markdown",
   "metadata": {},
   "source": [
    "---"
   ]
  },
  {
   "cell_type": "markdown",
   "metadata": {},
   "source": [
    "# Building lists with List comprehension"
   ]
  },
  {
   "cell_type": "markdown",
   "metadata": {},
   "source": [
    "In one of the example above we created a new list by assigning an empty list and, as the `for` loop iterated, new values were appended. "
   ]
  },
  {
   "cell_type": "code",
   "execution_count": 103,
   "metadata": {},
   "outputs": [
    {
     "data": {
      "text/plain": [
       "[0, 1, 4, 9, 16, 25, 36, 49, 64, 81]"
      ]
     },
     "execution_count": 103,
     "metadata": {},
     "output_type": "execute_result"
    }
   ],
   "source": [
    "new_list = []\n",
    "for i in range(10):\n",
    "    new_list.append(i ** 2)\n",
    "new_list"
   ]
  },
  {
   "cell_type": "markdown",
   "metadata": {},
   "source": [
    "We know programmers are lazy so they created a simpler way to create lists called [List Comprehension](https://docs.python.org/3.7/tutorial/datastructures.html#list-comprehensions). *List comprehension* allows using the values of a sequence or iterable, process them and store the results as elements of the new list.\n",
    "\n",
    "A *list comprehension* is enclosed in squared brackets `[]` and has the following components:\n",
    "- An expression;\n",
    "- a `for` clause with a control variable and iterable (which includes the `in` keyword);\n",
    "- any number of `for` and `if` clauses (optional)\n",
    "\n",
    "The basic structure of struture can be written as:\n",
    "\n",
    "```python\n",
    "[expression for control_variable in iterable]\n",
    "```\n",
    "\n",
    "Using this notation, the example above can be converted into:"
   ]
  },
  {
   "cell_type": "code",
   "execution_count": 104,
   "metadata": {},
   "outputs": [
    {
     "data": {
      "text/plain": [
       "[0, 1, 4, 9, 16, 25, 36, 49, 64, 81]"
      ]
     },
     "execution_count": 104,
     "metadata": {},
     "output_type": "execute_result"
    }
   ],
   "source": [
    "comprehension_list = [i ** 2 for i in range(10)]\n",
    "comprehension_list"
   ]
  },
  {
   "cell_type": "markdown",
   "metadata": {},
   "source": [
    "Look how many characters we saved by using *list comprehension*! This is not always the case. Some tasks are too complex to fit inside a *list comprehension* and still be understandable by an human being. When creating a list use the method that **is more readable**."
   ]
  },
  {
   "cell_type": "markdown",
   "metadata": {},
   "source": [
    "---"
   ]
  },
  {
   "cell_type": "markdown",
   "metadata": {},
   "source": [
    "### Multiple `for` loops"
   ]
  },
  {
   "cell_type": "markdown",
   "metadata": {},
   "source": [
    "Optionally we can use more than one `for` statement with *list comprehension*.\n",
    "\n",
    "If we want to know the area of a series of rectangles we can do something like:"
   ]
  },
  {
   "cell_type": "code",
   "execution_count": 105,
   "metadata": {},
   "outputs": [
    {
     "data": {
      "text/plain": [
       "[1, 2, 3, 4, 2, 4, 6, 8, 3, 6, 9, 12]"
      ]
     },
     "execution_count": 105,
     "metadata": {},
     "output_type": "execute_result"
    }
   ],
   "source": [
    "#Squares are also rectangles.\n",
    "[height * width for height in range(1,4) for width in range(1,5)]"
   ]
  },
  {
   "cell_type": "markdown",
   "metadata": {},
   "source": [
    "You can consider the first loop to be the *outer loop* and the second loop to be the *inner loop*."
   ]
  },
  {
   "cell_type": "markdown",
   "metadata": {},
   "source": [
    "---"
   ]
  },
  {
   "cell_type": "markdown",
   "metadata": {},
   "source": [
    "### `if` statement"
   ]
  },
  {
   "cell_type": "markdown",
   "metadata": {},
   "source": [
    "The `if` statement in *list comprehension* filters the elements that are used in the list. If the condition is `True` then the iteration is processed as usual. But if the condition is `False` that iteration is ignored, similarly to `continue`."
   ]
  },
  {
   "cell_type": "code",
   "execution_count": 106,
   "metadata": {},
   "outputs": [
    {
     "data": {
      "text/plain": [
       "[0, 2, 4, 6, 8, 10, 12, 14]"
      ]
     },
     "execution_count": 106,
     "metadata": {},
     "output_type": "execute_result"
    }
   ],
   "source": [
    "[i for i in range(15) if i % 2 == 0]"
   ]
  },
  {
   "cell_type": "markdown",
   "metadata": {},
   "source": [
    "In the example before only the elements that are divisible by 2 are iterated and subsequently introduced in the list."
   ]
  },
  {
   "cell_type": "markdown",
   "metadata": {},
   "source": [
    "---"
   ]
  },
  {
   "cell_type": "markdown",
   "metadata": {},
   "source": [
    "If more than one `if` statement is used, **all conditions must be satisfied** for the iteration to be used. This is equivalent to use `and` to combine the conditions together."
   ]
  },
  {
   "cell_type": "code",
   "execution_count": 107,
   "metadata": {},
   "outputs": [
    {
     "data": {
      "text/plain": [
       "[0, 6, 12]"
      ]
     },
     "execution_count": 107,
     "metadata": {},
     "output_type": "execute_result"
    }
   ],
   "source": [
    "[i for i in range(15) if i%2 == 0 if i%3 == 0]"
   ]
  },
  {
   "cell_type": "code",
   "execution_count": 108,
   "metadata": {},
   "outputs": [
    {
     "data": {
      "text/plain": [
       "[0, 6, 12]"
      ]
     },
     "execution_count": 108,
     "metadata": {},
     "output_type": "execute_result"
    }
   ],
   "source": [
    "[i for i in range(15) if i%2 == 0 and i%3 == 0]"
   ]
  },
  {
   "cell_type": "markdown",
   "metadata": {},
   "source": [
    "---"
   ]
  },
  {
   "cell_type": "markdown",
   "metadata": {},
   "source": [
    "Knowing this notation, the dice throws example can be rewritten as:"
   ]
  },
  {
   "cell_type": "code",
   "execution_count": 109,
   "metadata": {},
   "outputs": [
    {
     "name": "stdout",
     "output_type": "stream",
     "text": [
      "valid_throws = [(1, 5), (2, 4), (3, 3), (4, 2), (5, 1)]\n",
      "\n",
      "Throws 1 and 5 resulting in 6.\n",
      "Throws 2 and 4 resulting in 6.\n",
      "Throws 3 and 3 resulting in 6.\n",
      "Throws 4 and 2 resulting in 6.\n",
      "Throws 5 and 1 resulting in 6.\n",
      "\n",
      "There are 5 combinations that result in 6.\n"
     ]
    }
   ],
   "source": [
    "outcome = 6 #Change me and see what happens.\n",
    "\n",
    "#Here are stored all the throws that resulted in the outcome.\n",
    "valid_throws = [(first_dice, second_dice) \n",
    "                for first_dice in range(1,7) \n",
    "                for second_dice in range(1,7) \n",
    "                if first_dice + second_dice == outcome]\n",
    "\n",
    "print(\"valid_throws =\",valid_throws,end=\"\\n\\n\")\n",
    "[print(f\"Throws {throws[0]} and {throws[1]} resulting in {outcome}.\") for throws in valid_throws]\n",
    "combinations = len(valid_throws)\n",
    "\n",
    "#Boolean value to indicate if there is more than one possible combination. Used below when writing the last sentence.\n",
    "plural = combinations > 1\n",
    "\n",
    "print(f\"\\nThere {'are' * plural + 'is' * (not plural)} {combinations} combination{'s' * plural} that result{'s' * (not plural)} in {outcome}.\")"
   ]
  },
  {
   "cell_type": "markdown",
   "metadata": {},
   "source": [
    "Two *list comprehensions* were used in case:\n",
    "1. One to create the list of tuples `valid_throws` with only pairs of dice values that add to `outcome`.\n",
    "2. Iterated over the `valid_throws` to `print()` the dice values on the strings."
   ]
  },
  {
   "cell_type": "markdown",
   "metadata": {},
   "source": [
    "## Nested List Comprehensions"
   ]
  },
  {
   "cell_type": "markdown",
   "metadata": {},
   "source": [
    "We can also [nest](https://docs.python.org/3.7/tutorial/datastructures.html#nested-list-comprehensions) several *list comprehensions*  statements together. They work in a way that might be different than you would expect.\n",
    "\n",
    "Let's start with a simple *list comprehension*"
   ]
  },
  {
   "cell_type": "code",
   "execution_count": 110,
   "metadata": {},
   "outputs": [
    {
     "data": {
      "text/plain": [
       "['0', '1', '2', '3', '4']"
      ]
     },
     "execution_count": 110,
     "metadata": {},
     "output_type": "execute_result"
    }
   ],
   "source": [
    "[str(number) for number in range(5)]"
   ]
  },
  {
   "cell_type": "markdown",
   "metadata": {},
   "source": [
    "We created a list of strings with integer values. If we write an outer *list comprehension*:"
   ]
  },
  {
   "cell_type": "code",
   "execution_count": 111,
   "metadata": {},
   "outputs": [
    {
     "data": {
      "text/plain": [
       "[['0', '1', '2', '3', '4'],\n",
       " ['0', '1', '2', '3', '4'],\n",
       " ['0', '1', '2', '3', '4']]"
      ]
     },
     "execution_count": 111,
     "metadata": {},
     "output_type": "execute_result"
    }
   ],
   "source": [
    "[[str(number) for number in range(5)] for letter in [\"A\", \"B\", \"C\"]]"
   ]
  },
  {
   "cell_type": "markdown",
   "metadata": {},
   "source": [
    "The original list is repeated 3 times because the **outer loop** is executed 3 times.\n",
    "To make it more evident we are including the letters in the string:"
   ]
  },
  {
   "cell_type": "code",
   "execution_count": 112,
   "metadata": {},
   "outputs": [
    {
     "data": {
      "text/plain": [
       "[['A0', 'A1', 'A2', 'A3', 'A4'],\n",
       " ['B0', 'B1', 'B2', 'B3', 'B4'],\n",
       " ['C0', 'C1', 'C2', 'C3', 'C4']]"
      ]
     },
     "execution_count": 112,
     "metadata": {},
     "output_type": "execute_result"
    }
   ],
   "source": [
    "[[letter + str(number) for number in range(5)] for letter in [\"A\", \"B\", \"C\"]]"
   ]
  },
  {
   "cell_type": "markdown",
   "metadata": {},
   "source": [
    "After the inner loop has been completely iterated, the next value of outer loop is then iterated. This repeats until the outer loop has no more elements to iterate.\n",
    "The result is that for each value of `letter`, a list of length 5 is created. The elements of these lists are calculated depending on the condition of the inner loop.\n",
    "\n",
    "This is a way to build [matrices](https://en.wikipedia.org/wiki/Matrix_(mathematics))."
   ]
  },
  {
   "cell_type": "markdown",
   "metadata": {},
   "source": [
    "---"
   ]
  },
  {
   "cell_type": "markdown",
   "metadata": {},
   "source": [
    "### Further reading"
   ]
  },
  {
   "cell_type": "markdown",
   "metadata": {},
   "source": [
    "\n",
    "[DataCamp on list comprehension](https://www.datacamp.com/community/tutorials/python-list-comprehension)\n",
    "\n",
    "[Programiz on list comprehension](https://www.programiz.com/python-programming/list-comprehension)\n",
    "\n",
    "[GeeksforGeeks list comprehension](https://www.geeksforgeeks.org/comprehensions-in-python/)\n",
    "\n",
    "[Tutorialpoints list comprehension](https://www.geeksforgeeks.org/comprehensions-in-python/)\n",
    "\n",
    "[Real Python list comprehension](https://realpython.com/list-comprehension-python/)\n",
    "\n",
    "[Python documentation on list comprehension](https://docs.python.org/3.7/tutorial/datastructures.html#list-comprehensions)"
   ]
  },
  {
   "cell_type": "markdown",
   "metadata": {},
   "source": [
    "---"
   ]
  },
  {
   "cell_type": "markdown",
   "metadata": {},
   "source": [
    "## Recap"
   ]
  },
  {
   "cell_type": "markdown",
   "metadata": {},
   "source": [
    "We learned how to use comparison, membership and identity operator to test conditions and how to aggregate these conditions together with boolean operators. We can use these conditions to control the execution of code thanks to `if-elif-else` statements.\n",
    "\n",
    "When we want to repeat the same code several times we can use the `while` and `for` loops to avoid writing repetitive code.\n",
    "For more complex tasks you can use nesting and mix and match all these statements together. The code is your oyster.\n",
    "\n",
    "If we want to create a list and/or iterate over one, we can also use *list comprehensions*."
   ]
  },
  {
   "cell_type": "markdown",
   "metadata": {},
   "source": [
    "---"
   ]
  }
 ],
 "metadata": {
  "kernelspec": {
   "display_name": "Python 3",
   "language": "python",
   "name": "python3"
  },
  "language_info": {
   "codemirror_mode": {
    "name": "ipython",
    "version": 3
   },
   "file_extension": ".py",
   "mimetype": "text/x-python",
   "name": "python",
   "nbconvert_exporter": "python",
   "pygments_lexer": "ipython3",
   "version": "3.7.10"
  }
 },
 "nbformat": 4,
 "nbformat_minor": 2
}
