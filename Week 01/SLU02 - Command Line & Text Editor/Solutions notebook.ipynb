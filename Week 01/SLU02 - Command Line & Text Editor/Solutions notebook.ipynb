{
 "cells": [
  {
   "cell_type": "markdown",
   "metadata": {
    "nbgrader": {
     "grade": false,
     "grade_id": "cell-de96e4a5468707dc",
     "locked": true,
     "schema_version": 3,
     "solution": false,
     "task": false
    }
   },
   "source": [
    "# SLU02 Command Line & Text Editor - Exercise Notebook\n",
    "***"
   ]
  },
  {
   "cell_type": "code",
   "execution_count": null,
   "metadata": {
    "nbgrader": {
     "grade": false,
     "grade_id": "cell-b3b9d1ca4eb808a2",
     "locked": true,
     "schema_version": 3,
     "solution": false,
     "task": false
    }
   },
   "outputs": [],
   "source": [
    "# For evaluation purposes, please import this package:\n",
    "import hashlib"
   ]
  },
  {
   "cell_type": "markdown",
   "metadata": {
    "nbgrader": {
     "grade": false,
     "grade_id": "cell-7010ce97e4828abc",
     "locked": true,
     "schema_version": 3,
     "solution": false,
     "task": false
    }
   },
   "source": [
    "### Exercise 1: Where is home?\n",
    "\n",
    "<img src=\"./assets/tortoise_home.png\" width=\"400\"/>\n",
    "\n",
    "Imagine that you have a Linux user called `tortoise`, what is the correct path for this user's *home directory*?\n",
    "\n",
    "* Option A: */root*\n",
    "* Option B: */tortoise*\n",
    "* Option C: */root/tortoise*\n",
    "* Option D: */home/tortoise*"
   ]
  },
  {
   "cell_type": "code",
   "execution_count": null,
   "metadata": {
    "nbgrader": {
     "grade": false,
     "grade_id": "cell-a894a58ceb39eaa2",
     "locked": false,
     "schema_version": 3,
     "solution": true,
     "task": false
    }
   },
   "outputs": [],
   "source": [
    "# exercise_1 =\n",
    "### BEGIN SOLUTION\n",
    "exercise_1 = \"D\"\n",
    "### END SOLUTION"
   ]
  },
  {
   "cell_type": "code",
   "execution_count": null,
   "metadata": {
    "nbgrader": {
     "grade": true,
     "grade_id": "cell-5a2440598289b1e3",
     "locked": true,
     "points": 1,
     "schema_version": 3,
     "solution": false,
     "task": false
    }
   },
   "outputs": [],
   "source": [
    "ex_1 = '50c9e8d5fc98727b4bbc93cf5d64a68db647f04f'\n",
    "assert isinstance(ex_1, str), \"The variable should be a string.\"\n",
    "assert ex_1 == hashlib.sha1(bytes(exercise_1, encoding='utf8')).hexdigest(), \"The value of the option is incorrect.\""
   ]
  },
  {
   "cell_type": "markdown",
   "metadata": {
    "nbgrader": {
     "grade": false,
     "grade_id": "cell-231ba53cba89a279",
     "locked": true,
     "schema_version": 3,
     "solution": false,
     "task": false
    }
   },
   "source": [
    "### Exercise 2.1: Changing directory\n",
    "Now, for our same `tortoise` user, if our current working directory is `/var/lib/systemd/`, how do we go this user's *home directory* ?\n",
    "\n",
    "* Option A: pwd\n",
    "* Option B: cd /home\n",
    "* Option C: cd ~\n",
    "* Option D: cd tortoise"
   ]
  },
  {
   "cell_type": "code",
   "execution_count": null,
   "metadata": {
    "nbgrader": {
     "grade": false,
     "grade_id": "cell-29db176b41ae1c07",
     "locked": false,
     "schema_version": 3,
     "solution": true,
     "task": false
    }
   },
   "outputs": [],
   "source": [
    "# exercise_2_1 =\n",
    "### BEGIN SOLUTION\n",
    "exercise_2_1 = \"C\"\n",
    "### END SOLUTION"
   ]
  },
  {
   "cell_type": "code",
   "execution_count": null,
   "metadata": {
    "nbgrader": {
     "grade": true,
     "grade_id": "cell-e4ea53657d321c19",
     "locked": true,
     "points": 1,
     "schema_version": 3,
     "solution": false,
     "task": false
    }
   },
   "outputs": [],
   "source": [
    "ex_2_1 = '484d52691fcadbfabec5a318d1cf9692c7f293cbc8c1d5f22b2d839b'\n",
    "assert isinstance(ex_2_1,str), \"The variable should be a string.\"\n",
    "assert ex_2_1 == hashlib.sha224(bytes(exercise_2_1, encoding='utf8')).hexdigest(), \"The value of the option is incorrect.\""
   ]
  },
  {
   "cell_type": "markdown",
   "metadata": {},
   "source": [
    "### Exercise 2.2: Changing directory\n",
    "Now, for our same `tortoise` user, \n",
    "if our current working directory is `/var/lib/systemd/` and we run \n",
    "`cd ~/../..`,\n",
    "what will our current working directory be? \n",
    "* Option A: /home/tortoise\n",
    "* Option B: /home/tortoise/home/tortoise\n",
    "* Option C: ~\n",
    "* Option D: /"
   ]
  },
  {
   "cell_type": "code",
   "execution_count": null,
   "metadata": {
    "nbgrader": {
     "grade": false,
     "grade_id": "cell-29db176b41ae1c00",
     "locked": false,
     "schema_version": 3,
     "solution": true,
     "task": false
    }
   },
   "outputs": [],
   "source": [
    "# exercise_2_2 =\n",
    "### BEGIN SOLUTION\n",
    "exercise_2_2 = \"D\"\n",
    "### END SOLUTION"
   ]
  },
  {
   "cell_type": "code",
   "execution_count": null,
   "metadata": {
    "nbgrader": {
     "grade": true,
     "grade_id": "cell-e4ea55657d321c19",
     "locked": true,
     "points": 1,
     "schema_version": 3,
     "solution": false,
     "task": false
    }
   },
   "outputs": [],
   "source": [
    "ex_2_2 = '7497e88b8c64062edfb2f30b9c5f845552b841d1fbae97ab3f224f74'\n",
    "assert isinstance(ex_2_2, str), \"The variable should be a string.\"\n",
    "assert ex_2_2 == hashlib.sha224(bytes(exercise_2_2, encoding='utf8')).hexdigest(), \"The value of the option is incorrect.\""
   ]
  },
  {
   "cell_type": "markdown",
   "metadata": {
    "nbgrader": {
     "grade": false,
     "grade_id": "cell-758853e9e0f120d8",
     "locked": true,
     "schema_version": 3,
     "solution": false,
     "task": false
    }
   },
   "source": [
    "### Exercise 3: Rename\n",
    "\n",
    "How do we rename a non empty folder from `tortoise` to `tortoise-new`?\n",
    "\n",
    "- Option A: *rename tortoise tortoise-new*\n",
    "- Option B: *rn tortoise tortoise-new*\n",
    "- Option C: *mv tortoise tortoise-new*\n",
    "- Option D: *mv -r tortoise tortoise-new*"
   ]
  },
  {
   "cell_type": "code",
   "execution_count": null,
   "metadata": {
    "nbgrader": {
     "grade": false,
     "grade_id": "cell-befccac89f6c99df",
     "locked": false,
     "schema_version": 3,
     "solution": true,
     "task": false
    }
   },
   "outputs": [],
   "source": [
    "# exercise_3 =\n",
    "### BEGIN SOLUTION\n",
    "exercise_3 = \"C\"\n",
    "### END SOLUTION"
   ]
  },
  {
   "cell_type": "code",
   "execution_count": null,
   "metadata": {
    "nbgrader": {
     "grade": true,
     "grade_id": "cell-8e25f4730f887ad4",
     "locked": true,
     "points": 1,
     "schema_version": 3,
     "solution": false,
     "task": false
    }
   },
   "outputs": [],
   "source": [
    "ex_3 = '484d52691fcadbfabec5a318d1cf9692c7f293cbc8c1d5f22b2d839b'\n",
    "assert isinstance(ex_3, str), \"The variable should be a string.\"\n",
    "assert ex_3 == hashlib.sha224(bytes(exercise_3, encoding='utf8')).hexdigest(), \"The value of the option is incorrect.\""
   ]
  },
  {
   "cell_type": "markdown",
   "metadata": {
    "nbgrader": {
     "grade": false,
     "grade_id": "cell-bba6849cceca2ad3",
     "locked": true,
     "schema_version": 3,
     "solution": false,
     "task": false
    }
   },
   "source": [
    "### Exercise 4: Copy\n",
    "`tortoise` is not happy. This user needs to copy the `baby-tortoise` folder inside the `tortoise-family` folder. \n",
    "\n",
    "What command should we use?\n",
    "\n",
    "- Option A: *mv baby-tortoise tortoise-family*\n",
    "- Option B: *cp baby-tortoise tortoise-family*\n",
    "- Option C: *cp -a baby-tortoise tortoise-family*\n",
    "- Option D: *cp -r baby-tortoise tortoise-family*"
   ]
  },
  {
   "cell_type": "code",
   "execution_count": null,
   "metadata": {
    "nbgrader": {
     "grade": false,
     "grade_id": "cell-d629c9437fa027f7",
     "locked": false,
     "schema_version": 3,
     "solution": true,
     "task": false
    }
   },
   "outputs": [],
   "source": [
    "# exercise_4 =\n",
    "### BEGIN SOLUTION\n",
    "exercise_4 = \"D\"\n",
    "### END SOLUTION"
   ]
  },
  {
   "cell_type": "code",
   "execution_count": null,
   "metadata": {
    "nbgrader": {
     "grade": true,
     "grade_id": "cell-9b757ee86b6b31a4",
     "locked": true,
     "points": 2,
     "schema_version": 3,
     "solution": false,
     "task": false
    }
   },
   "outputs": [],
   "source": [
    "ex_4 = '7497e88b8c64062edfb2f30b9c5f845552b841d1fbae97ab3f224f74'\n",
    "assert isinstance(ex_4, str), \"The variable should be a string.\"\n",
    "assert ex_4 == hashlib.sha224(bytes(exercise_4, encoding='utf8')).hexdigest(), \"The value of the option is incorrect.\""
   ]
  },
  {
   "cell_type": "markdown",
   "metadata": {},
   "source": [
    "### Exercise 5: Create Directories and files\n",
    "\n",
    "<img src=\"./assets/directories.png\" width=\"400\"/>\n",
    "\n",
    "Create the Directory structure in the image above, including the files.\n",
    "\n",
    "were you able to do it?\n",
    "\n",
    "* Option A: YES\n",
    "* Option B: NO, and I'll ask some question on Slack to help me figure this out!"
   ]
  },
  {
   "cell_type": "code",
   "execution_count": null,
   "metadata": {
    "nbgrader": {
     "grade": false,
     "grade_id": "cell-d629c9437fa026f7",
     "locked": false,
     "schema_version": 3,
     "solution": true,
     "task": false
    }
   },
   "outputs": [],
   "source": [
    "# exercise_5 =\n",
    "### BEGIN SOLUTION\n",
    "exercise_5 = \"A\"\n",
    "### END SOLUTION"
   ]
  },
  {
   "cell_type": "code",
   "execution_count": null,
   "metadata": {
    "nbgrader": {
     "grade": true,
     "grade_id": "cell-9b757ef86b6b31a4",
     "locked": true,
     "points": 2,
     "schema_version": 3,
     "solution": false,
     "task": false
    }
   },
   "outputs": [],
   "source": [
    "ex_5 = '5cfe2cddbb9940fb4d8505e25ea77e763a0077693dbb01b1a6aa94f2'\n",
    "assert isinstance(ex_5, str), \"The variable should be a string.\"\n",
    "assert ex_5 == hashlib.sha224(bytes(exercise_5, encoding='utf8')).hexdigest(), \"The value of the option is incorrect.\""
   ]
  },
  {
   "cell_type": "markdown",
   "metadata": {},
   "source": [
    "### Exercise 6: Remove\n",
    "\n",
    "<img src=\"./assets/tortoise.jpg\" width=\"400\"/>\n",
    "\n",
    "Before you start questioning whether you have a weird fixation over tortoises, you might want to remove some directories and files.\n",
    "\n",
    "What is the correct command to remove the `tortoisephilia` folder (which has some tortoise pictures)?\n",
    "\n",
    "* Option A: `drop tortoisephilia`\n",
    "* Option B: `rm tortoisephilia/*`\n",
    "* Option C: `remove tortoisephilia`\n",
    "* Option D: `rm -r tortoisephilia`"
   ]
  },
  {
   "cell_type": "code",
   "execution_count": null,
   "metadata": {
    "nbgrader": {
     "grade": false,
     "grade_id": "cell-d629c9437fa126f7",
     "locked": false,
     "schema_version": 3,
     "solution": true,
     "task": false
    }
   },
   "outputs": [],
   "source": [
    "# exercise_6 =\n",
    "### BEGIN SOLUTION\n",
    "exercise_6 = \"D\"\n",
    "### END SOLUTION"
   ]
  },
  {
   "cell_type": "code",
   "execution_count": null,
   "metadata": {
    "nbgrader": {
     "grade": true,
     "grade_id": "cell-9b757ef81b6b31a4",
     "locked": true,
     "points": 2,
     "schema_version": 3,
     "solution": false,
     "task": false
    }
   },
   "outputs": [],
   "source": [
    "ex_6 = '7497e88b8c64062edfb2f30b9c5f845552b841d1fbae97ab3f224f74'\n",
    "assert isinstance(ex_6, str), \"The variable should be a string.\"\n",
    "assert ex_6 == hashlib.sha224(bytes(exercise_6, encoding='utf8')).hexdigest(), \"The value of the option is incorrect.\""
   ]
  },
  {
   "cell_type": "markdown",
   "metadata": {
    "nbgrader": {
     "grade": false,
     "grade_id": "cell-027850c3035dbca8",
     "locked": true,
     "schema_version": 3,
     "solution": false,
     "task": false
    }
   },
   "source": [
    "### Exercise 7:\n",
    "Our `tortoise` created a `tortoise_codes.py` file with some Python code (as all good tortoises do), now he needs to check what is stored in the file in a simple and easy way.\n",
    "\n",
    "What is the correct command for that procedure?\n",
    "\n",
    "- Option A: *cat tortoise_codes.py*\n",
    "- Option B: *read tortoise_codes.py*\n",
    "- Option C: *ls tortoise_codes.py*\n",
    "- Option D: *touch tortoise_codes.py*"
   ]
  },
  {
   "cell_type": "code",
   "execution_count": null,
   "metadata": {
    "nbgrader": {
     "grade": false,
     "grade_id": "cell-1792bbe6ebc8564d",
     "locked": false,
     "schema_version": 3,
     "solution": true,
     "task": false
    }
   },
   "outputs": [],
   "source": [
    "# exercise_7 =\n",
    "### BEGIN SOLUTION\n",
    "exercise_7 = \"A\"\n",
    "### END SOLUTION"
   ]
  },
  {
   "cell_type": "code",
   "execution_count": null,
   "metadata": {
    "nbgrader": {
     "grade": true,
     "grade_id": "cell-d57ae086b71ffed4",
     "locked": true,
     "points": 2,
     "schema_version": 3,
     "solution": false,
     "task": false
    }
   },
   "outputs": [],
   "source": [
    "ex_7 = 'ad14aaf25020bef2fd4e3eb5ec0c50272cdfd66074b0ed037c9a11254321aac0729985374beeaa5b80a504d048be1864'\n",
    "assert isinstance(ex_7,str), \"The variable should be a string.\"\n",
    "assert ex_7 == hashlib.sha384(bytes(exercise_7, encoding='utf8')).hexdigest(), \"The value of the option is incorrect.\""
   ]
  },
  {
   "cell_type": "markdown",
   "metadata": {
    "nbgrader": {
     "grade": false,
     "grade_id": "cell-d5ca2231e52e2a23",
     "locked": true,
     "schema_version": 3,
     "solution": false,
     "task": false
    }
   },
   "source": [
    "### Exercise 8: Visual Studio Code (VS Code)\n",
    "\n",
    "Managing to install and set VS Code up is part of this SLU, so if you have any problems please do contact an instructor! \n",
    "\n",
    "It is very important that you get it running properly.\n",
    "\n",
    "- Option A: Rock On! Everything is working fine :)\n",
    "- Option B: NO, I am still struggling with it. It's this week's SLU instructor's fault!!!"
   ]
  },
  {
   "cell_type": "code",
   "execution_count": null,
   "metadata": {
    "nbgrader": {
     "grade": false,
     "grade_id": "cell-82043c053fb1c39d",
     "locked": false,
     "schema_version": 3,
     "solution": true,
     "task": false
    }
   },
   "outputs": [],
   "source": [
    "### BEGIN SOLUTION\n",
    "exercise_8 = \"A\"\n",
    "### END SOLUTION\n",
    "# exercise_8 ="
   ]
  },
  {
   "cell_type": "code",
   "execution_count": null,
   "metadata": {
    "nbgrader": {
     "grade": true,
     "grade_id": "cell-fa61be6aa4097dad",
     "locked": true,
     "points": 4,
     "schema_version": 3,
     "solution": false,
     "task": false
    }
   },
   "outputs": [],
   "source": [
    "ex_8 = '559aead08264d5795d3909718cdd05abd49572e84fe55590eef31a88a08fdffd'\n",
    "assert isinstance(ex_8,str), \"The variable should be a string.\"\n",
    "assert ex_8 == hashlib.sha256(bytes(exercise_8, encoding='utf8')).hexdigest(), \"The value of the option is incorrect.\""
   ]
  },
  {
   "cell_type": "markdown",
   "metadata": {
    "nbgrader": {
     "grade": false,
     "grade_id": "cell-d952554f5227dfed",
     "locked": true,
     "schema_version": 3,
     "solution": false,
     "task": false
    }
   },
   "source": [
    "### Exercise 9: Running basic Python programs\n",
    "\n",
    "To finish this SLU in style:\n",
    "1. create a folder in the location of your choice\n",
    "1. open that folder in VS Code\n",
    "1. in VS Code, create a Python file that prints your name, and 2 other files that print 2 other names\n",
    "1. activate your virtual environment\n",
    "1. run those Python files and check that the names are printed!\n",
    "\n",
    "Were you able to do this?\n",
    "\n",
    "- Option A: No, I've been stuck on this for more than 15 min! I need to ask for help on Slack!\n",
    "- Option B: Yes, I did it!"
   ]
  },
  {
   "cell_type": "code",
   "execution_count": null,
   "metadata": {
    "nbgrader": {
     "grade": false,
     "grade_id": "cell-8204dc053fb1c39d",
     "locked": false,
     "schema_version": 3,
     "solution": true,
     "task": false
    }
   },
   "outputs": [],
   "source": [
    "### BEGIN SOLUTION\n",
    "exercise_9 = \"B\"\n",
    "### END SOLUTION\n",
    "# exercise_9 ="
   ]
  },
  {
   "cell_type": "code",
   "execution_count": null,
   "metadata": {
    "nbgrader": {
     "grade": true,
     "grade_id": "cell-fa61be6aa4d97dad",
     "locked": true,
     "points": 4,
     "schema_version": 3,
     "solution": false,
     "task": false
    }
   },
   "outputs": [],
   "source": [
    "ex_9 = 'df7e70e5021544f4834bbee64a9e3789febc4be81470df629cad6ddb03320a5c'\n",
    "assert isinstance(ex_9,str), \"The variable should be a string.\"\n",
    "assert ex_9 == hashlib.sha256(bytes(exercise_9, encoding='utf8')).hexdigest(), \"The value of the option is incorrect.\""
   ]
  },
  {
   "cell_type": "markdown",
   "metadata": {
    "nbgrader": {
     "grade": false,
     "grade_id": "cell-2f368820023de0ec",
     "locked": true,
     "schema_version": 3,
     "solution": false,
     "task": false
    }
   },
   "source": [
    "# Submit your work!\n",
    "\n",
    "To submit your work, [get your slack id](https://moshfeu.medium.com/how-to-find-my-member-id-in-slack-workspace-d4bba942e38c) and fill it in the `slack_id` variable.\n",
    "\n",
    "Example: `slack_id = \"UTS63FC02\"`"
   ]
  },
  {
   "cell_type": "code",
   "execution_count": null,
   "metadata": {
    "nbgrader": {
     "grade": false,
     "grade_id": "cell-2d96ea28de941280",
     "locked": false,
     "schema_version": 3,
     "solution": true,
     "task": false
    }
   },
   "outputs": [],
   "source": [
    "### BEGIN SOLUTION\n",
    "slack_id = \"UTS63FC02\"\n",
    "### END SOLUTION\n",
    "# slack_id ="
   ]
  },
  {
   "cell_type": "code",
   "execution_count": null,
   "metadata": {
    "nbgrader": {
     "grade": true,
     "grade_id": "cell-cbb863bacf2a8bca",
     "locked": true,
     "points": 0,
     "schema_version": 3,
     "solution": false,
     "task": false
    },
    "scrolled": true
   },
   "outputs": [],
   "source": [
    "from submit import submit\n",
    "\n",
    "assert slack_id is not None\n",
    "submit(slack_id=slack_id, learning_unit=2)"
   ]
  }
 ],
 "metadata": {
  "celltoolbar": "Create Assignment",
  "kernelspec": {
   "display_name": "Python 3",
   "language": "python",
   "name": "python3"
  },
  "language_info": {
   "codemirror_mode": {
    "name": "ipython",
    "version": 3
   },
   "file_extension": ".py",
   "mimetype": "text/x-python",
   "name": "python",
   "nbconvert_exporter": "python",
   "pygments_lexer": "ipython3",
   "version": "3.7.10"
  }
 },
 "nbformat": 4,
 "nbformat_minor": 4
}
