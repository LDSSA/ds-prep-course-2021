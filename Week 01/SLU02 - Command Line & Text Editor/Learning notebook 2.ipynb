{
 "cells": [
  {
   "cell_type": "markdown",
   "metadata": {},
   "source": [
    "# SLU02 Command Line & Text Editor - Learning Notebook 2\n",
    "***"
   ]
  },
  {
   "cell_type": "markdown",
   "metadata": {},
   "source": [
    "In this SLU, we are introducing a powerful yet easy to use text editor. **Microsoft Visual Studio Code (VS Code)**."
   ]
  },
  {
   "cell_type": "markdown",
   "metadata": {},
   "source": [
    "### 1 | Download and Install\n",
    "\n",
    "Install on Windows:\n",
    "1. download and install VS Code\n",
    "    * https://code.visualstudio.com/\n",
    "1. install the Windows Subsystem for Linux (WSL) extention\n",
    "    * https://marketplace.visualstudio.com/items?itemName=ms-vscode-remote.vscode-remote-extensionpack\n",
    "1. setup VS Code and WSL\n",
    "    * https://code.visualstudio.com/docs/remote/wsl#_open-a-remote-folder-or-workspace\n",
    "1. install the Python extension\n",
    "    * https://marketplace.visualstudio.com/items?itemName=ms-python.python\n",
    "\n",
    "Install on Mac OS:\n",
    "1. download and install  VS Code\n",
    "    * https://code.visualstudio.com/docs/setup/mac#_installation\n",
    "1. setup  VS Code so that you can start it from the command line\n",
    "    * https://code.visualstudio.com/docs/setup/mac#_launching-from-the-command-line\n",
    "1. install the Python extension\n",
    "    * https://marketplace.visualstudio.com/items?itemName=ms-python.python\n",
    "\n",
    "Install on Ubuntu **(do not use this methond if you are on Windows 10 and WSL):**\n",
    "1. download and install the `.deb` package containing VS Code\n",
    "    * https://code.visualstudio.com/download\n",
    "1. install the Python extension\n",
    "    * https://marketplace.visualstudio.com/items?itemName=ms-python.python\n"
   ]
  },
  {
   "cell_type": "markdown",
   "metadata": {},
   "source": [
    "### 2 | Hello World\n",
    "\n",
    "After installing VS Code, lets write our first program and run it!\n",
    "\n",
    "1. activate your virtual environment\n",
    "\n",
    "2. go to the folder of this SLU\n",
    "\n",
    "3. run the command `code .` which will open VS Code\n",
    "\n",
    "```bash\n",
    "(mig-venv) mig@laptop:~/ws/ldsa/ds-prep-course-instructors-2021/Week 01/SLU02 - Command Line & Text Editor$ code .\n",
    "```\n",
    "\n",
    "<img src=\"./assets/vscode.png\" width=\"800\"/>\n",
    "\n",
    "4. create a new file called `hello.py` with the following code (and save the file)\n",
    "\n",
    "```python\n",
    "print('Hello world!!')\n",
    "print('Yey I can write text here!')\n",
    "```\n",
    "5. run your Python program!\n",
    "\n",
    "```bash\n",
    "(mig-venv) mig@laptop:~/ws/ldsa/ds-prep-course-instructors-2021/Week 01/SLU02 - Command Line & Text Editor/SLU11 - Command Lines & Text Editor$ ls\n",
    "'Exercise notebook.ipynb'    'Learning notebook 2.ipynb'   assets     requirements.txt\n",
    "'Learning notebook 1.ipynb'   README.md                    hello.py   \n",
    "\n",
    "(mig-venv) mig@laptop:~/ws/ldsa/ds-prep-course-instructors-2021/Week 01/SLU02 - Command Line & Text Editor/SLU11 - Command Lines & Text Editor$ python hello.py\n",
    "Hello world!!\n",
    "```"
   ]
  }
 ],
 "metadata": {
  "kernelspec": {
   "display_name": "Python 3",
   "language": "python",
   "name": "python3"
  },
  "language_info": {
   "codemirror_mode": {
    "name": "ipython",
    "version": 3
   },
   "file_extension": ".py",
   "mimetype": "text/x-python",
   "name": "python",
   "nbconvert_exporter": "python",
   "pygments_lexer": "ipython3",
   "version": "3.7.10"
  }
 },
 "nbformat": 4,
 "nbformat_minor": 4
}
