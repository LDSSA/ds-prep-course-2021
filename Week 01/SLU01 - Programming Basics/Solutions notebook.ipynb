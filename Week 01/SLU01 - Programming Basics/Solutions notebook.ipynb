{
 "cells": [
  {
   "cell_type": "markdown",
   "metadata": {
    "nbgrader": {
     "grade": false,
     "grade_id": "cell-5b6b029f0ce1dd2e",
     "locked": true,
     "schema_version": 3,
     "solution": false
    }
   },
   "source": [
    "# SLU01 - Exercise notebook"
   ]
  },
  {
   "cell_type": "markdown",
   "metadata": {
    "nbgrader": {
     "grade": false,
     "grade_id": "cell-49f2f0f2fc298a46",
     "locked": true,
     "schema_version": 3,
     "solution": false
    }
   },
   "source": [
    "## Start by importing this package"
   ]
  },
  {
   "cell_type": "code",
   "execution_count": 4,
   "metadata": {
    "nbgrader": {
     "grade": false,
     "grade_id": "cell-7dd7bfe836b5d985",
     "locked": true,
     "schema_version": 3,
     "solution": false
    }
   },
   "outputs": [],
   "source": [
    "# Just for evaluating the results.\n",
    "import math\n",
    "import hashlib\n",
    "from submit import submit"
   ]
  },
  {
   "cell_type": "markdown",
   "metadata": {
    "nbgrader": {
     "grade": false,
     "grade_id": "cell-a4a50cc9f1fe100d",
     "locked": true,
     "schema_version": 3,
     "solution": false
    }
   },
   "source": [
    "# Exercise 0: Getting help"
   ]
  },
  {
   "cell_type": "markdown",
   "metadata": {
    "nbgrader": {
     "grade": false,
     "grade_id": "cell-c0ba3c3ff855a17d",
     "locked": true,
     "schema_version": 3,
     "solution": false
    }
   },
   "source": [
    "In this exercise, you'll be introduced on how to use the Exercise notebook. Each exercise follows the same structure:\n",
    "- A cell with an introduction to the problem: Here it is explained what is the task to be performed and the expected result. Some information is displayed on the code cell as well.\n",
    "- A code cell: in this cell you are asked to write the solution for the exercise.\n",
    "- A cell with multiple `assert` statements (test cell): this cell is used to test your solution.\n",
    "\n",
    "You can consider this cell to be the introduction cell of exercise 0.\n",
    "\n",
    "For each exercise you are expected to read the introduction, plan your solution, write the solution on the code cell, execute the code cell and then execute the cell with the `assert` statements. **By this order!** Then:\n",
    "\n",
    "- If everything is correct, the solution executes without issue, it is accepted by the test cell and no error message appears. ✔️\n",
    "\n",
    "- If you are shown an error message when **executing your code (on the code cell)**, it means that you made some **programming mistake(s)** that you should fix. ❌\n",
    "\n",
    "- If you are shown an error message when **executing the test cell**, it means that, even if the **code is correctly executed** by Python, it **does not produce the results that were expected**. ❌\n",
    "\n",
    "Each `assert` tests a specific component of the solution. If a tests fails an **AssertionError** message appears that may provide some clues on what the issue might be as seen in the example below. \n",
    "\n",
    "Below is an example where the second test failed and the `assert` provides the hint \"Check your speed!\". To solve this issue you should read the hint and find why your code is not producing the expected results. **After** making changes to the code, you execute the code and **then** execute the test cell. You repeat this until you get the right solution."
   ]
  },
  {
   "cell_type": "markdown",
   "metadata": {
    "nbgrader": {
     "grade": false,
     "grade_id": "cell-0a9e08cd66071b14",
     "locked": true,
     "schema_version": 3,
     "solution": false
    }
   },
   "source": [
    "<img src=\"./media/assert_example.JPG\" >"
   ]
  },
  {
   "cell_type": "markdown",
   "metadata": {
    "nbgrader": {
     "grade": false,
     "grade_id": "cell-b0dd5a99d95c8d64",
     "locked": true,
     "schema_version": 3,
     "solution": false
    }
   },
   "source": [
    "In the code cell the instructors might provide some guidance or create variables or functions to be used in the exercise. You **should not change or delete** this. If you do so by mistake, you might need to copy the original text from the repository.\n",
    "\n",
    "There are specific places for you to write your solutions. These places start with the comment \" YOUR CODE HERE\" and are followed by a `raise` statement as shown here:\n",
    "\n",
    "```python\n",
    "# YOUR CODE HERE\n",
    "raise NotImplementedError()\n",
    "```\n",
    "\n",
    "You have to **delete the `raise` statement** and write your solution after the comment. The solution may take as many lines as needed.\n",
    "\n",
    "```python\n",
    "# YOUR CODE HERE\n",
    "a = 20\n",
    "b = 22\n",
    "solution = a + b\n",
    "```\n",
    "\n",
    "Be careful when writing your solution to not overwrite the instructor's text."
   ]
  },
  {
   "cell_type": "markdown",
   "metadata": {
    "nbgrader": {
     "grade": false,
     "grade_id": "cell-92c847008ac4aa7d",
     "locked": true,
     "schema_version": 3,
     "solution": false
    }
   },
   "source": [
    "For this exercise only, the answers are provided. These answers are, however, **wrong**. They might produce programming errors that you learned before or programming that you have never seen. Or maybe the tests will fail.\n",
    "\n",
    "The objective is for you to read the message error, review the code and fix the error(s).\n",
    "\n",
    "If you can't fix the issue or don't understand the message error you should:\n",
    "- Read the error message and see if it's an obvious mistake.\n",
    "- Review the code line by line to see if you can identify the error.\n",
    "- Follow the *How to get help* section of SLU01, specially regarding specific issues.\n",
    "- Use a search engine to search for the error.\n",
    "- Then, if you put significant effort but are still stuck, you can ask the instructor for help.\n",
    "\n",
    "This will help you prepare for the future errors the you will find while solving the exercises."
   ]
  },
  {
   "cell_type": "markdown",
   "metadata": {
    "nbgrader": {
     "grade": false,
     "grade_id": "cell-9fc9cf024fe7096d",
     "locked": true,
     "schema_version": 3,
     "solution": false
    }
   },
   "source": [
    "## 0.1) Fix this solution"
   ]
  },
  {
   "cell_type": "code",
   "execution_count": 2,
   "metadata": {
    "nbgrader": {
     "grade": false,
     "grade_id": "cell-acff7f3268607187",
     "locked": false,
     "schema_version": 3,
     "solution": true
    }
   },
   "outputs": [
    {
     "data": {
      "text/plain": [
       "False"
      ]
     },
     "execution_count": 2,
     "metadata": {},
     "output_type": "execute_result"
    }
   ],
   "source": [
    "# The task is:\n",
    "# Assign the integer value of 1731 to variable radius.\n",
    "\n",
    "\n",
    "### BEGIN SOLUTION\n",
    "radius = 1731\n",
    "### END SOLUTION\n",
    "#This is where you put your solution. It is empty for the other exercises.\n",
    "#I have attempted to solve the exercise but I made some mistakes. Silly me.\n",
    "#Can you fix the following statement and perform the requested task?\n",
    "\n",
    "radius==1131\n"
   ]
  },
  {
   "cell_type": "code",
   "execution_count": 3,
   "metadata": {
    "nbgrader": {
     "grade": true,
     "grade_id": "cell-77ebecd3e323246b",
     "locked": true,
     "points": 0,
     "schema_version": 3,
     "solution": false
    }
   },
   "outputs": [],
   "source": [
    "radius_hash = '05758cd3875ad2171484c0026ccbb8adc210cd2d852407e3c7af1b751f35fdd6'\n",
    "assert isinstance(radius,int), \"The variable radius is not an integer. Re-read the task carefully.\"\n",
    "assert radius_hash == hashlib.sha256(bytes(str(radius), encoding='utf8')).hexdigest(), \"The value of radius is incorrect. Re-read the task carefully.\""
   ]
  },
  {
   "cell_type": "markdown",
   "metadata": {
    "nbgrader": {
     "grade": false,
     "grade_id": "cell-b830a64f4f494ced",
     "locked": true,
     "schema_version": 3,
     "solution": false
    }
   },
   "source": [
    "## 0.2) Now fix this solution"
   ]
  },
  {
   "cell_type": "code",
   "execution_count": null,
   "metadata": {
    "nbgrader": {
     "grade": false,
     "grade_id": "cell-b978089b500a09af",
     "locked": false,
     "schema_version": 3,
     "solution": true
    }
   },
   "outputs": [],
   "source": [
    "# Assign the string \"Beetlejuice!Beetlejuice!Beetlejuice!\" to variable ghost.\n",
    "\n",
    "### BEGIN SOLUTION\n",
    "ghost = 3 * \"Beetlejuice!\"\n",
    "\n",
    "#Just for the passing the CircleCI test. The student won't have variable beetlejuice assigned.\n",
    "beetlejuice = 1337 \n",
    "### END SOLUTION\n",
    "# Again, try to fix my solution.\n",
    "\n",
    "ghosts = 3 + beetlejuice\n",
    "\n",
    "\n",
    "#Additional text that the instructor might include. DO NOT DELETE ME!\n"
   ]
  },
  {
   "cell_type": "code",
   "execution_count": null,
   "metadata": {
    "nbgrader": {
     "grade": true,
     "grade_id": "cell-fd90e77a7f605df1",
     "locked": true,
     "points": 0,
     "schema_version": 3,
     "solution": false
    }
   },
   "outputs": [],
   "source": [
    "ghost_hash = '5c2da3f9fb9ef74b5fe884c41977af0b1f29a5a0209d77cb2f313869ab8ab8fa'\n",
    "assert 'ghost' in globals(), \"There is no variable ghost. Review the code.\"\n",
    "assert isinstance(ghost, str), \"ghost is not a string. Review the code.\"\n",
    "assert ghost_hash == hashlib.sha256(bytes(ghost, encoding='utf8')).hexdigest(), \"ghost is a string but has the wrong value. Which function can you use to show values on the screen?\""
   ]
  },
  {
   "cell_type": "markdown",
   "metadata": {
    "nbgrader": {
     "grade": false,
     "grade_id": "cell-25a5f67d60c2dfed",
     "locked": true,
     "schema_version": 3,
     "solution": false
    }
   },
   "source": [
    "## Exercise 1: Data Types\n",
    "\n",
    "#### From now on the exercises don't have solutions to fix. You have to write your own solutions."
   ]
  },
  {
   "cell_type": "markdown",
   "metadata": {
    "nbgrader": {
     "grade": false,
     "grade_id": "cell-34bb7be0434b5ade",
     "locked": true,
     "schema_version": 3,
     "solution": false
    }
   },
   "source": [
    "## 1.1) Scientific notation"
   ]
  },
  {
   "cell_type": "code",
   "execution_count": 2,
   "metadata": {
    "nbgrader": {
     "grade": false,
     "grade_id": "cell-a5bd49d98abf2410",
     "locked": false,
     "schema_version": 3,
     "solution": true
    }
   },
   "outputs": [],
   "source": [
    "# Calculate the distance (in meters) a light particle travels for 12 seconds.\n",
    "\n",
    "# Assign the speed of light (2.99*10^8 m/s) to the variable speed_light.\n",
    "# Use the scientific notation and 2 decimal places.\n",
    "\n",
    "# speed_light = ...\n",
    "### BEGIN SOLUTION\n",
    "\n",
    "# Here is the actual solution\n",
    "speed_light = 2.99E8\n",
    "\n",
    "### END SOLUTION\n",
    "\n",
    "\n",
    "# Assign the distance travelled by the particle (in meters) to variable distance_travelled.\n",
    "\n",
    "# distance_travelled = \n",
    "### BEGIN SOLUTION\n",
    "\n",
    "# Here is the actual solution\n",
    "distance_travelled = speed_light * 12\n",
    "\n",
    "### END SOLUTION"
   ]
  },
  {
   "cell_type": "code",
   "execution_count": null,
   "metadata": {
    "nbgrader": {
     "grade": true,
     "grade_id": "cell-6b465d1d500666a0",
     "locked": true,
     "points": 2,
     "schema_version": 3,
     "solution": false
    }
   },
   "outputs": [],
   "source": [
    "assert isinstance(speed_light, float), \"Review the data type of speed_light.\"\n",
    "assert math.isclose(speed_light,2.99E8,abs_tol=1E5), \"Check your speed!\"\n",
    "assert isinstance(distance_travelled, float), \"Review the data type of distance_travelled.\"\n",
    "assert math.isclose(distance_travelled,3.588E9,abs_tol=1E5), \"Did you use the right time?\""
   ]
  },
  {
   "cell_type": "markdown",
   "metadata": {
    "nbgrader": {
     "grade": false,
     "grade_id": "cell-835bf362a6f3296d",
     "locked": true,
     "schema_version": 3,
     "solution": false
    }
   },
   "source": [
    "## 1.2) Data type conversion\n",
    "\n",
    "The data types of several variables got mixed up. Convert them to the target type.\n",
    "\n",
    "**Do not change** the values of the original variables."
   ]
  },
  {
   "cell_type": "markdown",
   "metadata": {
    "nbgrader": {
     "grade": false,
     "grade_id": "cell-2a04cb85a0ca2893",
     "locked": true,
     "schema_version": 3,
     "solution": false
    }
   },
   "source": [
    "### 1.2.1) To string"
   ]
  },
  {
   "cell_type": "code",
   "execution_count": null,
   "metadata": {
    "nbgrader": {
     "grade": false,
     "grade_id": "cell-cf0b9cd761180962",
     "locked": false,
     "schema_version": 3,
     "solution": true
    }
   },
   "outputs": [],
   "source": [
    "\n",
    "# Assign to variable size_string the value of variable size converted into a string.\n",
    "size = 1.78\n",
    "\n",
    "# size_string = ...\n",
    "### BEGIN SOLUTION\n",
    "\n",
    "# Here is the actual solution\n",
    "size_string = str(size)\n",
    "\n",
    "# Hash something that checks some subset of the answer.\n",
    "# In this example, it is checking the first element.\n",
    "# This can help check subsets of the student answer in order\n",
    "# to give more granular feedback.\n",
    "print(\n",
    "    'The size string:',\n",
    "    hashlib.sha256(\n",
    "        bytes(size_string, encoding='utf8')\n",
    "    ).hexdigest()\n",
    ")\n",
    "\n",
    "### END SOLUTION"
   ]
  },
  {
   "cell_type": "code",
   "execution_count": null,
   "metadata": {
    "nbgrader": {
     "grade": true,
     "grade_id": "cell-ac16bba863ed00af",
     "locked": true,
     "points": 2,
     "schema_version": 3,
     "solution": false
    }
   },
   "outputs": [],
   "source": [
    "size_string_hash = '5d48c7c6dce082d397fecf99b8f1ac7fa7adf02bd38fcbb1f7f9f13fba7a2d45'\n",
    "\n",
    "assert isinstance(size_string, str), \"Review the data type of size_string.\"\n",
    "assert size_string_hash == hashlib.sha256(bytes(size_string, encoding='utf8')).hexdigest(), \"The value of size_string is incorrect.\""
   ]
  },
  {
   "cell_type": "markdown",
   "metadata": {
    "nbgrader": {
     "grade": false,
     "grade_id": "cell-f053bd824f139d2f",
     "locked": true,
     "schema_version": 3,
     "solution": false
    }
   },
   "source": [
    "### 1.2.2)  To integer"
   ]
  },
  {
   "cell_type": "code",
   "execution_count": null,
   "metadata": {
    "nbgrader": {
     "grade": false,
     "grade_id": "cell-ca00a15a43742c1c",
     "locked": false,
     "schema_version": 3,
     "solution": true
    }
   },
   "outputs": [],
   "source": [
    "# Assign to variable age_int the value of variable age converted into a integer. \n",
    "age = \"34\"\n",
    "\n",
    "# size_string = ...\n",
    "### BEGIN SOLUTION\n",
    "\n",
    "# Here is the actual solution\n",
    "age_int = int(age)\n",
    "\n",
    "### END SOLUTION"
   ]
  },
  {
   "cell_type": "code",
   "execution_count": null,
   "metadata": {
    "nbgrader": {
     "grade": true,
     "grade_id": "cell-43f5849625865cc0",
     "locked": true,
     "points": 2,
     "schema_version": 3,
     "solution": false
    }
   },
   "outputs": [],
   "source": [
    "assert isinstance(age_int, int), \"Review the data type of age_int.\"\n",
    "assert math.isclose(age_int, 34, abs_tol=0.1), \"The value of age_int is incorrect.\""
   ]
  },
  {
   "cell_type": "markdown",
   "metadata": {
    "nbgrader": {
     "grade": false,
     "grade_id": "cell-7ffe99898d22f7c4",
     "locked": true,
     "schema_version": 3,
     "solution": false
    }
   },
   "source": [
    "### 1.2.3)  To float"
   ]
  },
  {
   "cell_type": "code",
   "execution_count": null,
   "metadata": {
    "nbgrader": {
     "grade": false,
     "grade_id": "cell-cce49b7314add616",
     "locked": false,
     "schema_version": 3,
     "solution": true
    }
   },
   "outputs": [],
   "source": [
    "# Assign to variable weight_float the value of variable weight converted into a float. \n",
    "weight = \"78.4\"\n",
    "\n",
    "# weight_float = ...\n",
    "### BEGIN SOLUTION\n",
    "\n",
    "# Here is the actual solution\n",
    "weight_float = float(weight)\n",
    "\n",
    "### END SOLUTION"
   ]
  },
  {
   "cell_type": "code",
   "execution_count": null,
   "metadata": {
    "nbgrader": {
     "grade": true,
     "grade_id": "cell-97305f11f776d1a5",
     "locked": true,
     "points": 2,
     "schema_version": 3,
     "solution": false
    }
   },
   "outputs": [],
   "source": [
    "assert isinstance(weight_float, float), \"Review the data type of weight_float.\"\n",
    "assert math.isclose(weight_float, 78.4, abs_tol=0.01), \"The value of weight_float is incorrect.\""
   ]
  },
  {
   "cell_type": "markdown",
   "metadata": {
    "nbgrader": {
     "grade": false,
     "grade_id": "cell-d5767ea19f9b5d23",
     "locked": true,
     "schema_version": 3,
     "solution": false
    }
   },
   "source": [
    "# Exercise 2: Operations"
   ]
  },
  {
   "cell_type": "markdown",
   "metadata": {
    "nbgrader": {
     "grade": false,
     "grade_id": "cell-05f72c7dbabe8d3d",
     "locked": true,
     "schema_version": 3,
     "solution": false
    }
   },
   "source": [
    "## 2.1) Arithmetic operations\n",
    "\n",
    "Solve the math problems and assign the results to the variables.\n",
    "\n",
    "Use arithmetic operations to solve the questions.\n",
    "\n",
    "If the answer has no decimal part, assign it as an **integer** if necessary. Otherwise leave it as a **float**."
   ]
  },
  {
   "cell_type": "markdown",
   "metadata": {
    "nbgrader": {
     "grade": false,
     "grade_id": "cell-bab6bbe7353769e1",
     "locked": true,
     "schema_version": 3,
     "solution": false
    }
   },
   "source": [
    "### 2.1.1)  Basic arithmetic"
   ]
  },
  {
   "cell_type": "code",
   "execution_count": null,
   "metadata": {
    "nbgrader": {
     "grade": false,
     "grade_id": "cell-68e58a91a765c6cb",
     "locked": false,
     "schema_version": 3,
     "solution": true
    }
   },
   "outputs": [],
   "source": [
    "# To study Data Science, John read 2 books. \n",
    "# He read the first one in one week with 25 pages everyday. \n",
    "# He read the second book in 12 days with 23 pages everyday. \n",
    "# What is the total number of pages that John read? \n",
    "\n",
    "# pages_read = ...\n",
    "### BEGIN SOLUTION\n",
    "\n",
    "# Here is the actual solution\n",
    "pages_read = 7 * 25 + 12 * 23\n",
    "\n",
    "### END SOLUTION"
   ]
  },
  {
   "cell_type": "code",
   "execution_count": null,
   "metadata": {
    "nbgrader": {
     "grade": true,
     "grade_id": "cell-b09b6a3df43346e0",
     "locked": true,
     "points": 2,
     "schema_version": 3,
     "solution": false
    }
   },
   "outputs": [],
   "source": [
    "assert isinstance(pages_read, int), \"Review the data type of pages_read.\"\n",
    "assert math.isclose(pages_read, 451, abs_tol=0.001), \"The value of pages_read is incorrect.\""
   ]
  },
  {
   "cell_type": "markdown",
   "metadata": {
    "nbgrader": {
     "grade": false,
     "grade_id": "cell-6e4ded96b9d50af0",
     "locked": true,
     "schema_version": 3,
     "solution": false
    }
   },
   "source": [
    "### 2.1.2) More basic arithmetic"
   ]
  },
  {
   "cell_type": "code",
   "execution_count": null,
   "metadata": {
    "nbgrader": {
     "grade": false,
     "grade_id": "cell-0f95f2283fa7b5ed",
     "locked": false,
     "schema_version": 3,
     "solution": true
    }
   },
   "outputs": [],
   "source": [
    "# Steve used his savings of 2300 euros for some purchases.\n",
    "# He spent 3/4 of his savings on furniture. \n",
    "# He then spent 1/2 of his remaining savings on a fridge. \n",
    "# How much money had Steve left on his savings after the purchases?\n",
    "\n",
    "#savings_left =\n",
    "### BEGIN SOLUTION\n",
    "\n",
    "# Here is the actual solution\n",
    "savings_left = (2300 * 1 / 4) / 2\n",
    "\n",
    "### END SOLUTION"
   ]
  },
  {
   "cell_type": "code",
   "execution_count": null,
   "metadata": {
    "nbgrader": {
     "grade": true,
     "grade_id": "cell-b15473e30437404d",
     "locked": true,
     "points": 2,
     "schema_version": 3,
     "solution": false
    }
   },
   "outputs": [],
   "source": [
    "assert isinstance(savings_left, float), \"Review the data type of savings_left.\"\n",
    "assert math.isclose(savings_left, 287.5, abs_tol=0.2), \"The value of savings_left is incorrect.\""
   ]
  },
  {
   "cell_type": "markdown",
   "metadata": {
    "nbgrader": {
     "grade": false,
     "grade_id": "cell-fe75c04bf71cac61",
     "locked": true,
     "schema_version": 3,
     "solution": false
    }
   },
   "source": [
    "### 2.1.3) Even more arithmetic"
   ]
  },
  {
   "cell_type": "code",
   "execution_count": null,
   "metadata": {
    "nbgrader": {
     "grade": false,
     "grade_id": "cell-4a8b61ca7fd9597b",
     "locked": false,
     "schema_version": 3,
     "solution": true
    }
   },
   "outputs": [],
   "source": [
    "# John, Mary, Louis and Steve have 175 cards to use in a game. \n",
    "# They want to share them equally. \n",
    "# How many cards should each one take and how many cards are left on the deck?\n",
    "\n",
    "# cards_per_player = ...\n",
    "# cards_left = \n",
    "### BEGIN SOLUTION\n",
    "\n",
    "# Here is the actual solution\n",
    "cards_per_player = 175 // 4\n",
    "cards_left = 175 % 4\n",
    "\n",
    "### END SOLUTION"
   ]
  },
  {
   "cell_type": "code",
   "execution_count": null,
   "metadata": {
    "nbgrader": {
     "grade": true,
     "grade_id": "cell-80de177e3edd27bc",
     "locked": true,
     "points": 2,
     "schema_version": 3,
     "solution": false
    }
   },
   "outputs": [],
   "source": [
    "assert isinstance(cards_per_player, int), \"Review the data type of cards_per_player.\"\n",
    "assert math.isclose(cards_per_player, 43, abs_tol=0.001), \"The value of cards_per_player is incorrect.\"\n",
    "assert isinstance(cards_left, int), \"Review the data type of cards_left.\"\n",
    "assert math.isclose(cards_left, 3, abs_tol=0.001), \"The value of cards_left is incorrect.\""
   ]
  },
  {
   "cell_type": "markdown",
   "metadata": {
    "nbgrader": {
     "grade": false,
     "grade_id": "cell-3364086ed1b77398",
     "locked": true,
     "schema_version": 3,
     "solution": false
    }
   },
   "source": [
    "### 2.1.4) Shortcut operators"
   ]
  },
  {
   "cell_type": "code",
   "execution_count": null,
   "metadata": {
    "nbgrader": {
     "grade": false,
     "grade_id": "cell-ca40d76b6b0fd084",
     "locked": false,
     "schema_version": 3,
     "solution": true
    }
   },
   "outputs": [],
   "source": [
    "# Louis has invested 2500 euros in a savings account. \n",
    "# The investment gives returns of 5% of the value invested every year.\n",
    "# Louis reinvests all the returns in the same savings account.\n",
    "# How much money is there in the savings account at the end of the 3rd year?\n",
    "\n",
    "\n",
    "# TIP: you can assign as many auxiliary variables as you need. \n",
    "# Or change the value of a variable after the initial assignment.\n",
    "\n",
    "# final_savings =\n",
    "### BEGIN SOLUTION\n",
    "\n",
    "# Here is the actual solution\n",
    "final_savings = 2500\n",
    "final_savings *= 1.05\n",
    "final_savings *= 1.05\n",
    "final_savings *= 1.05\n",
    "\n",
    "### END SOLUTION"
   ]
  },
  {
   "cell_type": "code",
   "execution_count": null,
   "metadata": {
    "nbgrader": {
     "grade": true,
     "grade_id": "cell-822b5ec7dfe02776",
     "locked": true,
     "points": 2,
     "schema_version": 3,
     "solution": false
    }
   },
   "outputs": [],
   "source": [
    "assert isinstance(final_savings, float), \"Review the data type of final_savings.\"\n",
    "assert math.isclose(final_savings, 2894.0625, abs_tol=0.1), \"The value of final_savings is incorrect.\""
   ]
  },
  {
   "cell_type": "markdown",
   "metadata": {
    "nbgrader": {
     "grade": false,
     "grade_id": "cell-234d2320f3bc45d9",
     "locked": true,
     "schema_version": 3,
     "solution": false
    }
   },
   "source": [
    "## 2.2) String operations"
   ]
  },
  {
   "cell_type": "markdown",
   "metadata": {
    "nbgrader": {
     "grade": false,
     "grade_id": "cell-07fb5a6bd4774e7b",
     "locked": true,
     "schema_version": 3,
     "solution": false
    }
   },
   "source": [
    "### 2.2.1) Concatenation"
   ]
  },
  {
   "cell_type": "code",
   "execution_count": null,
   "metadata": {
    "nbgrader": {
     "grade": false,
     "grade_id": "cell-0a458560de5f3c4e",
     "locked": false,
     "schema_version": 3,
     "solution": true
    }
   },
   "outputs": [],
   "source": [
    "# Concatenate the joke with 3 times the response leaving a space between each string.\n",
    "# The result should be: \"How does Darth Vader like his toast? On the dark side. Ha Ha Ha\"\n",
    "joke = \"How does Darth Vader like his toast? On the dark side.\"\n",
    "response = \"Ha\"\n",
    "# joke_reception = ...\n",
    "\n",
    "### BEGIN SOLUTION\n",
    "\n",
    "# Here is the actual solution\n",
    "joke_reception = joke + 3 * (\" \" + response)\n",
    "\n",
    "# Hash something that checks some subset of the answer.\n",
    "# In this example, it is checking the first element.\n",
    "# This can help check subsets of the student answer in order\n",
    "# to give more granular feedback.\n",
    "print(\n",
    "    'The size string:',\n",
    "    hashlib.sha256(\n",
    "        bytes(joke_reception, encoding='utf8')\n",
    "    ).hexdigest()\n",
    ")\n",
    "\n",
    "### END SOLUTION"
   ]
  },
  {
   "cell_type": "code",
   "execution_count": null,
   "metadata": {
    "nbgrader": {
     "grade": true,
     "grade_id": "cell-65f0dc204b4b0812",
     "locked": true,
     "points": 2,
     "schema_version": 3,
     "solution": false
    }
   },
   "outputs": [],
   "source": [
    "joke_reception_hash = '3b544b8a3e3c38076931e145008372476700160b6c106dea0aede521192a5a88'\n",
    "\n",
    "assert isinstance(joke_reception, str), \"Review the data type of joke_reception.\"\n",
    "assert joke_reception_hash == hashlib.sha256(bytes(joke_reception, encoding='utf8')).hexdigest(), \"The value of joke_reception is incorrect.\""
   ]
  },
  {
   "cell_type": "markdown",
   "metadata": {
    "nbgrader": {
     "grade": false,
     "grade_id": "cell-c1645d4608319a91",
     "locked": true,
     "schema_version": 3,
     "solution": false
    }
   },
   "source": [
    "### 2.2.2) String formatting"
   ]
  },
  {
   "cell_type": "code",
   "execution_count": null,
   "metadata": {
    "nbgrader": {
     "grade": false,
     "grade_id": "cell-d2b9abfbcaf35a41",
     "locked": false,
     "schema_version": 3,
     "solution": true
    }
   },
   "outputs": [],
   "source": [
    "# Use one of the string formatting methods to insert the values of the variables into a string.\n",
    "# Write the string in a single statement but DO NOT write the quantities \"by hand\" and DO NOT use concatenations.\n",
    "# The result should be: \"In the fridge there are 12 yogurts, 0.5 liters of milk and 8 eggs.\"\n",
    "yogurt = 12\n",
    "milk = 0.5\n",
    "eggs = 8\n",
    "\n",
    "# inventory = \"In the fridge (...)\"\n",
    "\n",
    "### BEGIN SOLUTION\n",
    "\n",
    "# Here is the actual solution\n",
    "inventory = f\"In the fridge there are {yogurt} yogurts, {milk} liters of milk and {eggs} eggs.\"\n",
    "\n",
    "# Hash something that checks some subset of the answer.\n",
    "# In this example, it is checking the first element.\n",
    "# This can help check subsets of the student answer in order\n",
    "# to give more granular feedback.\n",
    "print(\n",
    "    'The size string:',\n",
    "    hashlib.sha256(\n",
    "        bytes(inventory, encoding='utf8')\n",
    "    ).hexdigest()\n",
    ")\n",
    "\n",
    "### END SOLUTION"
   ]
  },
  {
   "cell_type": "code",
   "execution_count": null,
   "metadata": {
    "nbgrader": {
     "grade": true,
     "grade_id": "cell-9f9722689d8a954e",
     "locked": true,
     "points": 2,
     "schema_version": 3,
     "solution": false
    }
   },
   "outputs": [],
   "source": [
    "inventory_hash = 'd48f0e70729026e365046f03606e62d2dfab6b3b1102300e38efbeae63ce156d'\n",
    "\n",
    "assert isinstance(inventory, str), \"Review the data type of inventory.\"\n",
    "assert inventory_hash == hashlib.sha256(bytes(inventory, encoding='utf8')).hexdigest(), \"The value of inventory is incorrect.\""
   ]
  },
  {
   "cell_type": "markdown",
   "metadata": {
    "nbgrader": {
     "grade": false,
     "grade_id": "cell-7d806c0c27b21e0d",
     "locked": true,
     "schema_version": 3,
     "solution": false,
     "task": false
    }
   },
   "source": [
    "## Submit your work!\n",
    "To submit your work, [get your slack id](https://moshfeu.medium.com/how-to-find-my-member-id-in-slack-workspace-d4bba942e38c) and fill it in the slack_id variable.\n",
    "\n",
    "Example: slack_id = \"UTS63FC02\""
   ]
  },
  {
   "cell_type": "code",
   "execution_count": 2,
   "metadata": {
    "nbgrader": {
     "grade": false,
     "grade_id": "cell-09266738d89b72ac",
     "locked": false,
     "schema_version": 3,
     "solution": true,
     "task": false
    }
   },
   "outputs": [],
   "source": [
    "#slack_id = ...  \n",
    "### BEGIN SOLUTION\n",
    "slack_id = \"U01RTPQGEH0\"\n",
    "### END SOLUTION"
   ]
  },
  {
   "cell_type": "code",
   "execution_count": 5,
   "metadata": {
    "nbgrader": {
     "grade": true,
     "grade_id": "cell-c5a0caab28be2ac1",
     "locked": true,
     "points": 0,
     "schema_version": 3,
     "solution": false,
     "task": false
    }
   },
   "outputs": [
    {
     "name": "stdout",
     "output_type": "stream",
     "text": [
      "Success\n"
     ]
    }
   ],
   "source": [
    "assert isinstance(slack_id,str)\n",
    "submit(slack_id, 1)"
   ]
  },
  {
   "cell_type": "code",
   "execution_count": null,
   "metadata": {},
   "outputs": [],
   "source": []
  }
 ],
 "metadata": {
  "celltoolbar": "Create Assignment",
  "kernelspec": {
   "display_name": "Python 3",
   "language": "python",
   "name": "python3"
  },
  "language_info": {
   "codemirror_mode": {
    "name": "ipython",
    "version": 3
   },
   "file_extension": ".py",
   "mimetype": "text/x-python",
   "name": "python",
   "nbconvert_exporter": "python",
   "pygments_lexer": "ipython3",
   "version": "3.8.2"
  }
 },
 "nbformat": 4,
 "nbformat_minor": 2
}
