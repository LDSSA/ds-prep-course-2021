{
 "cells": [
  {
   "cell_type": "markdown",
   "metadata": {
    "deletable": false,
    "editable": false,
    "nbgrader": {
     "grade": false,
     "grade_id": "cell-e9618f92d187d071",
     "locked": true,
     "schema_version": 3,
     "solution": false,
     "task": false
    }
   },
   "source": [
    "# SLU12 - Linear Algebra & NumPy, Part 1: Exercise notebook"
   ]
  },
  {
   "cell_type": "markdown",
   "metadata": {
    "deletable": false,
    "editable": false,
    "nbgrader": {
     "grade": false,
     "grade_id": "cell-61571ad932502850",
     "locked": true,
     "schema_version": 3,
     "solution": false,
     "task": false
    }
   },
   "source": [
    "Welcome! Let's check you Linear Algebra and NumPy knowledge on:\n",
    "\n",
    "- Vectors and basic operations;\n",
    "- Matrices and basic operations;\n",
    "- NumPy arrays."
   ]
  },
  {
   "cell_type": "code",
   "execution_count": null,
   "metadata": {
    "deletable": false,
    "editable": false,
    "nbgrader": {
     "grade": false,
     "grade_id": "cell-483102a02d381dd4",
     "locked": true,
     "schema_version": 3,
     "solution": false,
     "task": false
    }
   },
   "outputs": [],
   "source": [
    "# run this cell before anything else\n",
    "\n",
    "# numpy\n",
    "import numpy as np\n",
    "\n",
    "# auxiliary stuff (don't worry about it)\n",
    "from utils import *\n",
    "\n",
    "# for evaluation purposes\n",
    "import hashlib\n",
    "from math import isclose\n",
    "def _hash(s):\n",
    "    return hashlib.blake2b(\n",
    "        bytes(str(s), encoding='utf8'),\n",
    "        digest_size=5\n",
    "    ).hexdigest()"
   ]
  },
  {
   "cell_type": "markdown",
   "metadata": {
    "deletable": false,
    "editable": false,
    "nbgrader": {
     "grade": false,
     "grade_id": "cell-21d5e2f818263b4a",
     "locked": true,
     "schema_version": 3,
     "solution": false,
     "task": false
    }
   },
   "source": [
    "<img src=\"./media/what_if.png\" width=\"500\">"
   ]
  },
  {
   "cell_type": "markdown",
   "metadata": {
    "deletable": false,
    "editable": false,
    "nbgrader": {
     "grade": false,
     "grade_id": "cell-1db03a5ab4527507",
     "locked": true,
     "schema_version": 3,
     "solution": false,
     "task": false
    }
   },
   "source": [
    "## 1 - Vectors"
   ]
  },
  {
   "cell_type": "markdown",
   "metadata": {
    "deletable": false,
    "editable": false,
    "nbgrader": {
     "grade": false,
     "grade_id": "cell-ee8b6f934b40a7d3",
     "locked": true,
     "schema_version": 3,
     "solution": false,
     "task": false
    }
   },
   "source": [
    "In this section of exercises, you'll apply what you learned about vectors definition, basic properties and operations."
   ]
  },
  {
   "cell_type": "markdown",
   "metadata": {
    "deletable": false,
    "editable": false,
    "nbgrader": {
     "grade": false,
     "grade_id": "cell-f1e481e7117f1f35",
     "locked": true,
     "schema_version": 3,
     "solution": false,
     "task": false
    }
   },
   "source": [
    "### Exercise 1.1\n",
    "\n",
    "Which **two** of the following objects **do NOT** represent vectors in Python?\n",
    "\n",
    "a) The integer `1`;\n",
    "\n",
    "b) The list `[1, 2, 3, 4]`;\n",
    "\n",
    "c) The NumPy array `np.array([[2,0], [1,0]])`;\n",
    "\n",
    "d) The NumPy array `np.array([[0], [1]])`;\n",
    "\n",
    "e) The NumPy array `np.array([[2]])`."
   ]
  },
  {
   "cell_type": "code",
   "execution_count": null,
   "metadata": {
    "deletable": false,
    "nbgrader": {
     "grade": false,
     "grade_id": "cell-4d00af57c3b45c43",
     "locked": false,
     "schema_version": 3,
     "solution": true,
     "task": false
    }
   },
   "outputs": [],
   "source": [
    "# Uncomment the correct answer\n",
    "#answer = \"a and b\"\n",
    "#answer = \"a and e\"\n",
    "#answer = \"a and c\"\n",
    "#answer = \"c and d\"\n",
    "#answer = \"a and d\"\n",
    "\n",
    "# YOUR CODE HERE\n",
    "raise NotImplementedError()"
   ]
  },
  {
   "cell_type": "code",
   "execution_count": null,
   "metadata": {
    "deletable": false,
    "editable": false,
    "nbgrader": {
     "grade": true,
     "grade_id": "cell-73590ab43900dec8",
     "locked": true,
     "points": 0,
     "schema_version": 3,
     "solution": false,
     "task": false
    }
   },
   "outputs": [],
   "source": [
    "assert _hash(answer) == 'a2b790bda1', \"Something's not right! Check if all the quantities are vectors and if the shape of the arrays makes sense. Remember all the ways in which you can represent a vector.\""
   ]
  },
  {
   "cell_type": "markdown",
   "metadata": {
    "deletable": false,
    "editable": false,
    "nbgrader": {
     "grade": false,
     "grade_id": "cell-694f6040bb764682",
     "locked": true,
     "schema_version": 3,
     "solution": false,
     "task": false
    }
   },
   "source": [
    "### Exercise 1.2\n",
    "\n",
    "Which **one** of the following sentences is **correct**?\n",
    "\n",
    "a) The vectors $[0, 1]$ and $[2, 0]$ are not orthogonal.\n",
    "\n",
    "b) The vectors $[0, 1]$ and $[2, 0]$ are collinear (linearly dependent).\n",
    "\n",
    "c) The vectors $[1, 1]$ and $[2, 2]$ are non-collinear (linearly independent).\n",
    "\n",
    "d) We can describe any 2D vector we want with some linear combination of the vectors $[0, 1]$ and $[2, 0]$.\n",
    "\n",
    "e) We can describe any 2D vector we want with some linear combination of the vectors $[1, 1]$ and $[2, 2]$."
   ]
  },
  {
   "cell_type": "code",
   "execution_count": null,
   "metadata": {
    "deletable": false,
    "nbgrader": {
     "grade": false,
     "grade_id": "cell-c14b14ba5e4db4b5",
     "locked": false,
     "schema_version": 3,
     "solution": true,
     "task": false
    }
   },
   "outputs": [],
   "source": [
    "# Uncomment the correct answer\n",
    "#my_answer = \"a\"\n",
    "#my_answer = \"b\"\n",
    "#my_answer = \"c\"\n",
    "#my_answer = \"d\"\n",
    "#my_answer = \"e\"\n",
    "\n",
    "# YOUR CODE HERE\n",
    "raise NotImplementedError()"
   ]
  },
  {
   "cell_type": "code",
   "execution_count": null,
   "metadata": {
    "deletable": false,
    "editable": false,
    "nbgrader": {
     "grade": true,
     "grade_id": "cell-4834ff213fc38e55",
     "locked": true,
     "points": 0,
     "schema_version": 3,
     "solution": false,
     "task": false
    }
   },
   "outputs": [],
   "source": [
    "if _hash(my_answer) == \"f4e169f8ee\":\n",
    "    print(\"Review section 1.7 of Learning Notebook 1! What's the angle between these vectors?\")\n",
    "elif _hash(my_answer) == \"9350f68d6b\" or _hash(my_answer) == \"2add4c06d4\":\n",
    "    print(\"Boris Johnson says no... Check sections 1.4-1.5 of Learning Notebook 1!!\")\n",
    "elif _hash(my_answer) == \"94ca9f1720\":\n",
    "    print(\"Go check sections 1.4-1.5 of Learning Notebook 1. Being 'independent' matters.\")\n",
    "else:\n",
    "    assert _hash(my_answer) == '838cd7f570', \\\n",
    "    \"Did you just make up an answer?\\n You're only supposed to uncomment the correct answer.\""
   ]
  },
  {
   "cell_type": "markdown",
   "metadata": {
    "deletable": false,
    "editable": false,
    "nbgrader": {
     "grade": false,
     "grade_id": "cell-af97eea28df55c72",
     "locked": true,
     "schema_version": 3,
     "solution": false,
     "task": false
    }
   },
   "source": [
    "Oh and by the way... zero velocity kitten is still waiting for a refill.\n",
    "<img src=\"./media/kitten_stopped.png\" width=\"600\"/>"
   ]
  },
  {
   "cell_type": "markdown",
   "metadata": {
    "deletable": false,
    "editable": false,
    "nbgrader": {
     "grade": false,
     "grade_id": "cell-22f7beee19d86f2b",
     "locked": true,
     "schema_version": 3,
     "solution": false,
     "task": false
    }
   },
   "source": [
    "## 2 - Vectors in NumPy"
   ]
  },
  {
   "cell_type": "markdown",
   "metadata": {
    "deletable": false,
    "editable": false,
    "nbgrader": {
     "grade": false,
     "grade_id": "cell-28da22b2895c7358",
     "locked": true,
     "schema_version": 3,
     "solution": false,
     "task": false
    }
   },
   "source": [
    "### Exercise 2.1\n",
    "\n",
    "Look at the NumPy array below:\n",
    "\n",
    "```Python\n",
    "    np.array([[1, 0, 0, 0]])\n",
    "```\n",
    "\n",
    "Assign the shape and number of array dimensions, respectively, to variables `array_shape` and `array_ndim`.\n",
    "\n",
    "The ideia is that you should be able to assign the correct tuple to `array_shape` and the correct integer to `array_ndim`, without using any auxiliary functions."
   ]
  },
  {
   "cell_type": "code",
   "execution_count": null,
   "metadata": {
    "deletable": false,
    "nbgrader": {
     "grade": false,
     "grade_id": "cell-f841135867b9665f",
     "locked": false,
     "schema_version": 3,
     "solution": true,
     "task": false
    }
   },
   "outputs": [],
   "source": [
    "# Assign the shape of array to array_shape (remember that the shape is represented by a tuple!!)\n",
    "# array_shape = ...\n",
    "\n",
    "# Assign the number of array dimensions to array_ndim\n",
    "# array_ndim = ...\n",
    "\n",
    "# YOUR CODE HERE\n",
    "raise NotImplementedError()"
   ]
  },
  {
   "cell_type": "code",
   "execution_count": null,
   "metadata": {
    "deletable": false,
    "editable": false,
    "nbgrader": {
     "grade": true,
     "grade_id": "cell-b9142cfed551dcd6",
     "locked": true,
     "points": 0,
     "schema_version": 3,
     "solution": false,
     "task": false
    }
   },
   "outputs": [],
   "source": [
    "assert isinstance(array_shape, tuple), \"The shape of an array should by a tuple!\"\n",
    "assert isinstance(array_ndim, int), \"The number of array dimensions should be an integer!\"\n",
    "assert _hash(array_shape) != '61dcee3c2e', (\n",
    "    \"The shape is almost right! You  just got the order of the axes wrong!\") \n",
    "assert array_ndim != 4, \"Wrong dimensions! You can say that vector is 4D, but the number of array dimensions is not 4!...\\n\\\n",
    "    Check section 2.2.2 of Learning Notebook 1 if you get stuck.\"\n",
    "assert _hash(array_shape) == '56c0c2870d', (\n",
    "    \"The shape is wrong. Check section 2.2.2 of Learning Notebook 1 if you get stuck.\")\n",
    "assert _hash(array_ndim) == 'cf2d85ea1d', (\n",
    "    \"The number of array dimensions is wrong. Check section 2.2.2 of Learning Notebook 1 if you get stuck.\")"
   ]
  },
  {
   "cell_type": "markdown",
   "metadata": {
    "deletable": false,
    "editable": false,
    "nbgrader": {
     "grade": false,
     "grade_id": "cell-11539cea02838d8d",
     "locked": true,
     "schema_version": 3,
     "solution": false,
     "task": false
    }
   },
   "source": [
    "### Exercise 2.2\n",
    "\n",
    "**(i)** Use the method [`ndarray.reshape()`](https://numpy.org/doc/1.20/reference/generated/numpy.ndarray.reshape.html) to convert `u` to a **column vector** `u_column`, represented by a 2D array;\n",
    "\n",
    "**(ii)** Use the transpose attribute (or use `reshape` again) to get the transpose of `u_column` and assign it to `u_row`."
   ]
  },
  {
   "cell_type": "code",
   "execution_count": null,
   "metadata": {
    "deletable": false,
    "editable": false,
    "nbgrader": {
     "grade": false,
     "grade_id": "cell-06654e0a1aef263b",
     "locked": true,
     "schema_version": 3,
     "solution": false,
     "task": false
    }
   },
   "outputs": [],
   "source": [
    "# run this cell first\n",
    "u = np.array([0, 1, .5, .25])"
   ]
  },
  {
   "cell_type": "code",
   "execution_count": null,
   "metadata": {
    "deletable": false,
    "nbgrader": {
     "grade": false,
     "grade_id": "cell-2b9e8b2a78adb3a1",
     "locked": false,
     "schema_version": 3,
     "solution": true,
     "task": false
    }
   },
   "outputs": [],
   "source": [
    "# Convert u to a column vector represented by a 2D array \n",
    "# u_column = ...\n",
    "\n",
    "# Convert u_column to a row vector represented by a 2D array\n",
    "# u_row = ...\n",
    "\n",
    "# YOUR CODE HERE\n",
    "raise NotImplementedError()"
   ]
  },
  {
   "cell_type": "code",
   "execution_count": null,
   "metadata": {
    "deletable": false,
    "editable": false,
    "nbgrader": {
     "grade": true,
     "grade_id": "cell-ca99e0d84a924381",
     "locked": true,
     "points": 0,
     "schema_version": 3,
     "solution": false,
     "task": false
    }
   },
   "outputs": [],
   "source": [
    "assert _hash(u_column) != '047849a4d8', \"u_column should be a column vector and not a row vector!\"\n",
    "assert _hash(u_row) != '56cc2df426', \"u_row should be a row vector and not a column vector!\"\n",
    "assert u_column.ndim == 2 and u_row.ndim == 2, \"Your arrays need to be 2D!\"\n",
    "assert (_hash(u_row) == '047849a4d8') and (_hash(u_column) == '56cc2df426'), \"Did you change the content of the arrays?\""
   ]
  },
  {
   "cell_type": "markdown",
   "metadata": {
    "deletable": false,
    "editable": false,
    "nbgrader": {
     "grade": false,
     "grade_id": "cell-e3a95a7ed5d473e7",
     "locked": true,
     "schema_version": 3,
     "solution": false,
     "task": false
    }
   },
   "source": [
    "### Exercise 2.3\n",
    "\n",
    "#### 2.3.1)\n",
    "\n",
    "Find the dot product between vectors `s` and `t` and assign the result to `scalar`:"
   ]
  },
  {
   "cell_type": "code",
   "execution_count": null,
   "metadata": {
    "deletable": false,
    "editable": false,
    "nbgrader": {
     "grade": false,
     "grade_id": "cell-5aa9b48ae17c3d2b",
     "locked": true,
     "schema_version": 3,
     "solution": false,
     "task": false
    }
   },
   "outputs": [],
   "source": [
    "# run this cell first\n",
    "s = np.array([1, -2, -2, 2])\n",
    "t = np.array([-6, -3, 1, 1])"
   ]
  },
  {
   "cell_type": "code",
   "execution_count": null,
   "metadata": {
    "deletable": false,
    "nbgrader": {
     "grade": false,
     "grade_id": "cell-a0d116e8a480c5f8",
     "locked": false,
     "schema_version": 3,
     "solution": true,
     "task": false
    }
   },
   "outputs": [],
   "source": [
    "# use numpy to determine the dot product between s and t\n",
    "# scalar = ...\n",
    "\n",
    "# YOUR CODE HERE\n",
    "raise NotImplementedError()"
   ]
  },
  {
   "cell_type": "code",
   "execution_count": null,
   "metadata": {
    "deletable": false,
    "editable": false,
    "nbgrader": {
     "grade": true,
     "grade_id": "cell-f20096f22bb65085",
     "locked": true,
     "points": 0,
     "schema_version": 3,
     "solution": false,
     "task": false
    }
   },
   "outputs": [],
   "source": [
    "assert not isinstance(scalar, np.ndarray), \"The result should be a scalar, not a numpy array!\"\n",
    "assert _hash(scalar) == '5b4838043f', \"Wrong! :(\""
   ]
  },
  {
   "cell_type": "markdown",
   "metadata": {
    "deletable": false,
    "editable": false,
    "nbgrader": {
     "grade": false,
     "grade_id": "cell-b22a5917838d15a7",
     "locked": true,
     "schema_version": 3,
     "solution": false,
     "task": false
    }
   },
   "source": [
    "#### 2.3.2)\n",
    "\n",
    "Based on the result, what can you conclude about the vectors `s` and `t`? (uncomment the correct answer)\n",
    "\n",
    "a) `s` is the transpose of `t`;\n",
    "\n",
    "b) `s` and `t` are orthogonal;\n",
    "\n",
    "c) `s` and `t` can describe the space of all 4D vectors;\n",
    "\n",
    "d) `s` and `t` are collinear."
   ]
  },
  {
   "cell_type": "code",
   "execution_count": null,
   "metadata": {
    "deletable": false,
    "nbgrader": {
     "grade": false,
     "grade_id": "cell-19349b4d58067f1c",
     "locked": false,
     "schema_version": 3,
     "solution": true,
     "task": false
    }
   },
   "outputs": [],
   "source": [
    "# Uncommment the correct answer\n",
    "#correct_answer = \"a\"\n",
    "#correct_answer = \"b\"\n",
    "#correct_answer = \"c\"\n",
    "#correct_answer = \"d\"\n",
    "\n",
    "# YOUR CODE HERE\n",
    "raise NotImplementedError()"
   ]
  },
  {
   "cell_type": "code",
   "execution_count": null,
   "metadata": {
    "deletable": false,
    "editable": false,
    "nbgrader": {
     "grade": true,
     "grade_id": "cell-6c738dac851f1902",
     "locked": true,
     "points": 0,
     "schema_version": 3,
     "solution": false,
     "task": false
    }
   },
   "outputs": [],
   "source": [
    "assert _hash(correct_answer) != 'f4e169f8ee', \"That's not correct! What is the transpose of a vector?\"\n",
    "assert _hash(correct_answer) != '2add4c06d4', \"Are you sure? Read section 1.5 of Learning Notebook 1...\"\n",
    "assert _hash(correct_answer) != '838cd7f570', \"Not really. Can you find a scalar that transforms s into t, or vice-versa?\"\n",
    "assert _hash(correct_answer) == '9350f68d6b', \"Don't write anything, you just need to uncomment the correct answer!'\""
   ]
  },
  {
   "cell_type": "markdown",
   "metadata": {
    "deletable": false,
    "editable": false,
    "nbgrader": {
     "grade": false,
     "grade_id": "cell-f067955f2a8a45a5",
     "locked": true,
     "schema_version": 3,
     "solution": false,
     "task": false
    }
   },
   "source": [
    "## 3 - Matrices"
   ]
  },
  {
   "cell_type": "markdown",
   "metadata": {
    "deletable": false,
    "editable": false,
    "nbgrader": {
     "grade": false,
     "grade_id": "cell-b58e10bfde505424",
     "locked": true,
     "schema_version": 3,
     "solution": false,
     "task": false
    }
   },
   "source": [
    "### Exercise 3.1\n",
    "\n",
    "Which **two** of the following sentences are **not correct**?\n",
    "\n",
    "a) A symmetric matrix is always equal to its transpose;\n",
    "\n",
    "b) An identity matrix of size $n\\times n$ is a square matrix where all entries are zero;\n",
    "\n",
    "c) A square matrix is a matrix whose elements are square roots;\n",
    "\n",
    "d) Given any number of matrices of the same size, we can add them in any order we want."
   ]
  },
  {
   "cell_type": "code",
   "execution_count": null,
   "metadata": {
    "deletable": false,
    "nbgrader": {
     "grade": false,
     "grade_id": "cell-d47d31cfa2b6e1e1",
     "locked": false,
     "schema_version": 3,
     "solution": true,
     "task": false
    }
   },
   "outputs": [],
   "source": [
    "# Uncommment the correct answer\n",
    "#me_answers = \"a and b\"\n",
    "#me_answers = \"b and c\"\n",
    "#me_answers = \"a and d\"\n",
    "#me_answers = \"c and d\"\n",
    "\n",
    "# YOUR CODE HERE\n",
    "raise NotImplementedError()"
   ]
  },
  {
   "cell_type": "code",
   "execution_count": null,
   "metadata": {
    "deletable": false,
    "editable": false,
    "nbgrader": {
     "grade": true,
     "grade_id": "cell-da76ed413334f76f",
     "locked": true,
     "points": 0,
     "schema_version": 3,
     "solution": false,
     "task": false
    }
   },
   "outputs": [],
   "source": [
    "assert _hash(me_answers) != 'f9f1efd901', \"That's not right. One of the chosen sentences is actually correct.\\nYou need to choose 2 incorrect sentences.\"\n",
    "assert _hash(me_answers) != '153d3d6799', \"That's not right. Both sentences are actually correct. Check section 3 of Learning Notebook 2 if you don't understand why!\"\n",
    "assert _hash(me_answers) != 'd5ea9fb2d7', \"That's not right. Remember that you can add matrices in any order you want,\\n as long as they have the same size, so the last sentence is true.\"\n",
    "assert _hash(me_answers) == '3f46356968', \"Don't write any code! Just uncomment the correct answer!\""
   ]
  },
  {
   "cell_type": "markdown",
   "metadata": {
    "deletable": false,
    "editable": false,
    "nbgrader": {
     "grade": false,
     "grade_id": "cell-598cdf42c5e7208d",
     "locked": true,
     "schema_version": 3,
     "solution": false,
     "task": false
    }
   },
   "source": [
    "### Exercise 3.2\n",
    "\n",
    "What's the result of the following operation? (don't write any code!!)\n",
    "\n",
    "$$2 \\cdot \\begin{bmatrix}0 & 1\\\\ 1 & 0\\end{bmatrix}\n",
    "- 1 \\cdot \\begin{bmatrix}1 & 0\\\\ 0 & 1\\end{bmatrix}$$\n",
    "\n",
    "a) $\\begin{bmatrix}1 & 0\\\\ 0 & 1\\end{bmatrix}$\n",
    "\n",
    "b) $\\begin{bmatrix}2 & 0\\\\ 0 & 2\\end{bmatrix}$\n",
    "\n",
    "c) $\\begin{bmatrix}-1 & 2\\\\ 2 & -1\\end{bmatrix}$\n",
    "\n",
    "d) $\\begin{bmatrix}1 & 1\\\\ 1 & 1\\end{bmatrix}$"
   ]
  },
  {
   "cell_type": "code",
   "execution_count": null,
   "metadata": {
    "deletable": false,
    "nbgrader": {
     "grade": false,
     "grade_id": "cell-7f5c602a732f3401",
     "locked": false,
     "schema_version": 3,
     "solution": true,
     "task": false
    }
   },
   "outputs": [],
   "source": [
    "# Uncommment the correct answer\n",
    "#correct_matrix = \"a\"\n",
    "#correct_matrix = \"b\"\n",
    "#correct_matrix = \"c\"\n",
    "#correct_matrix = \"d\"\n",
    "\n",
    "# YOUR CODE HERE\n",
    "raise NotImplementedError()"
   ]
  },
  {
   "cell_type": "code",
   "execution_count": null,
   "metadata": {
    "deletable": false,
    "editable": false,
    "nbgrader": {
     "grade": true,
     "grade_id": "cell-96bcd1509b60dfb9",
     "locked": true,
     "points": 0,
     "schema_version": 3,
     "solution": false,
     "task": false
    }
   },
   "outputs": [],
   "source": [
    "assert _hash(correct_matrix) != 'f4e169f8ee', \"Wrong! Check section 3.3 of Learning Notebook 2 if you don't understand why.\"\n",
    "assert _hash(correct_matrix) != '9350f68d6b', \"Wrong! Check section 3.3 of Learning Notebook 2 if you don't understand why.\"\n",
    "assert _hash(correct_matrix) != '838cd7f570', \"Wrong! Check section 3.3 of Learning Notebook 2 if you don't understand why.\"\n",
    "assert _hash(correct_matrix) == '2add4c06d4', \"Don't write any code, you just need to uncomment the correct answer!'\""
   ]
  },
  {
   "cell_type": "markdown",
   "metadata": {
    "deletable": false,
    "editable": false,
    "nbgrader": {
     "grade": false,
     "grade_id": "cell-5a9bb090e25fba68",
     "locked": true,
     "schema_version": 3,
     "solution": false,
     "task": false
    }
   },
   "source": [
    "## 4 - NumPy arrays and matrices"
   ]
  },
  {
   "cell_type": "markdown",
   "metadata": {
    "deletable": false,
    "editable": false,
    "nbgrader": {
     "grade": false,
     "grade_id": "cell-f629e0a918e63d7f",
     "locked": true,
     "schema_version": 3,
     "solution": false,
     "task": false
    }
   },
   "source": [
    "*Everything* is about matrices! Images are nothing but matrices.\n",
    "\n",
    "On the cell below we'll open a greyscale image of a cute panda, reading it into a matrix of pixels.\n",
    "\n",
    "Because we're dealing with a greyscale image, we can represent it by a 2D ndarray of shape `(height, width)`, where each entry is a value in the range `0` to `255`, corresponding to a pixel in the image."
   ]
  },
  {
   "cell_type": "code",
   "execution_count": null,
   "metadata": {
    "deletable": false,
    "editable": false,
    "nbgrader": {
     "grade": false,
     "grade_id": "cell-563bd8c0d9b33bc1",
     "locked": true,
     "schema_version": 3,
     "solution": false,
     "task": false
    }
   },
   "outputs": [],
   "source": [
    "# read cute panda image into 2D numpy array\n",
    "panda = load_panda().astype(int)\n",
    "\n",
    "# show image\n",
    "plot_img(panda);\n",
    "\n",
    "# print array shape (image size in pixels)\n",
    "print(\"panda greyscale image array:\", panda.shape)\n",
    "\n",
    "# preview some rows\n",
    "print(\"\\nFirst 5 rows and 5 columns:\", panda[:5, :5])"
   ]
  },
  {
   "cell_type": "markdown",
   "metadata": {
    "deletable": false,
    "editable": false,
    "nbgrader": {
     "grade": false,
     "grade_id": "cell-4b197f4cc7dcb7ce",
     "locked": true,
     "schema_version": 3,
     "solution": false,
     "task": false
    }
   },
   "source": [
    "### Exercise 4.1\n",
    "\n",
    "Let's invert the panda colours!! 🐼\n",
    "\n",
    "Invert the image colours by performing the operation `255 - value` for each element `value` in the array `panda`.\n",
    "\n",
    "**Hint**: NumPy will perform the addition (or subtraction) between scalars and arrays in an element-wise fashion. In Linear Algebra terms, this is the equivalent of subtracting the matrix `panda` from a matrix of the same size, where all entries are equal to `255`."
   ]
  },
  {
   "cell_type": "code",
   "execution_count": null,
   "metadata": {
    "deletable": false,
    "nbgrader": {
     "grade": false,
     "grade_id": "cell-412fbe3220933365",
     "locked": false,
     "schema_version": 3,
     "solution": true,
     "task": false
    }
   },
   "outputs": [],
   "source": [
    "# invert the panda!\n",
    "# opposite_panda = ...\n",
    "\n",
    "# YOUR CODE HERE\n",
    "raise NotImplementedError()"
   ]
  },
  {
   "cell_type": "code",
   "execution_count": null,
   "metadata": {
    "deletable": false,
    "editable": false,
    "nbgrader": {
     "grade": true,
     "grade_id": "cell-bdeb943297e36545",
     "locked": true,
     "points": 0,
     "schema_version": 3,
     "solution": false,
     "task": false
    }
   },
   "outputs": [],
   "source": [
    "assert isinstance(panda, np.ndarray) and panda.shape == (460, 460) and panda.min() == 0 \\\n",
    "    and panda.max() == 255 and  _hash(panda[0, 10]) == '751b860653', \\\n",
    "    \"OMG you changed the panda variable!! Reload by running: panda = load_panda()\"\n",
    "assert opposite_panda.shape == (460, 460), \"The panda_inverted array should have the same shape as the panda array!\"\n",
    "assert _hash(int(opposite_panda[320, 400])) == '0d1d9d8d66', \"Something's not right.\"\n",
    "assert _hash(int(opposite_panda[10, 100])) == 'f7e25634c3', \"Something's not right.\"\n",
    "print(\"\\n- You've just turned the panda into its negative!\\n\")\n",
    "print(\"- But don't worry, pandas are always positive, even on the negative side!\\n\\n\")\n",
    "print(\"(words by a wise LDSA devops)\")\n",
    "plot_pandas(opposite_panda)"
   ]
  },
  {
   "cell_type": "markdown",
   "metadata": {
    "deletable": false,
    "editable": false,
    "nbgrader": {
     "grade": false,
     "grade_id": "cell-b404e0d2ba978d08",
     "locked": true,
     "schema_version": 3,
     "solution": false,
     "task": false
    }
   },
   "source": [
    "### Exercise 4.2\n",
    "\n",
    "Let's transpose the panda!\n",
    "\n",
    "Find the transpose of `panda` and assign it to `transposed_panda`."
   ]
  },
  {
   "cell_type": "code",
   "execution_count": null,
   "metadata": {
    "deletable": false,
    "nbgrader": {
     "grade": false,
     "grade_id": "cell-e69cabcf5fd3a3d0",
     "locked": false,
     "schema_version": 3,
     "solution": true,
     "task": false
    }
   },
   "outputs": [],
   "source": [
    "# find the transpose of panda\n",
    "# transposed_panda = ...\n",
    "\n",
    "# YOUR CODE HERE\n",
    "raise NotImplementedError()"
   ]
  },
  {
   "cell_type": "code",
   "execution_count": null,
   "metadata": {
    "deletable": false,
    "editable": false,
    "nbgrader": {
     "grade": true,
     "grade_id": "cell-eb2d7aea1d5af18a",
     "locked": true,
     "points": 0,
     "schema_version": 3,
     "solution": false,
     "task": false
    }
   },
   "outputs": [],
   "source": [
    "assert isinstance(panda, np.ndarray) and panda.shape == (460, 460) and panda.min() == 0 \\\n",
    "    and panda.max() == 255 and  _hash(panda[0, 10]) == '751b860653', \\\n",
    "    \"OMG you changed the panda variable!! Reload it with the code: panda = load_panda()\"\n",
    "assert _hash(panda[0, 10]) == '751b860653', \"Please don't change the panda variable!! Create a copy instead!\"\n",
    "assert _hash(transposed_panda) == '06f31209c9', \"Wrong! What did you do to the panda?\"\n",
    "print(\"\\nCORRECT! Oh no look, the panda is falling!!...\")\n",
    "plot_pandas(transposed_panda)"
   ]
  },
  {
   "cell_type": "markdown",
   "metadata": {
    "deletable": false,
    "editable": false,
    "nbgrader": {
     "grade": false,
     "grade_id": "cell-2626c0483020684b",
     "locked": true,
     "schema_version": 3,
     "solution": false,
     "task": false
    }
   },
   "source": [
    "### Exercise 4.3\n",
    "\n",
    "Create a *binary* panda called `binary_panda` where:\n",
    "- You set the value of all entries that are **greater than** `100` to `255`;\n",
    "- You set the value of the remaining entries to `0`."
   ]
  },
  {
   "cell_type": "code",
   "execution_count": null,
   "metadata": {
    "deletable": false,
    "nbgrader": {
     "grade": false,
     "grade_id": "cell-90690c356008f10a",
     "locked": false,
     "schema_version": 3,
     "solution": true,
     "task": false
    }
   },
   "outputs": [],
   "source": [
    "# create a boolean mask to filter all entries > 100\n",
    "# mask = ...\n",
    "\n",
    "# create a COPY of panda using the method .copy() - DO NOT USE \"binary_panda = panda\"!!\n",
    "# binary_panda = ...\n",
    "\n",
    "# use the mask to set all entries above 100 in binary_panda to 255\n",
    "# ...\n",
    "\n",
    "# set all the other values to 0 (tip: use ~mask)\n",
    "# ...\n",
    "\n",
    "# YOUR CODE HERE\n",
    "raise NotImplementedError()"
   ]
  },
  {
   "cell_type": "code",
   "execution_count": null,
   "metadata": {
    "deletable": false,
    "editable": false,
    "nbgrader": {
     "grade": true,
     "grade_id": "cell-66809eeaf15f2563",
     "locked": true,
     "points": 0,
     "schema_version": 3,
     "solution": false,
     "task": false
    }
   },
   "outputs": [],
   "source": [
    "assert isinstance(panda, np.ndarray) and panda.shape == (460, 460) and panda.min() == 0 \\\n",
    "    and panda.max() == 255 and  _hash(panda[0, 10]) == '751b860653', \\\n",
    "    \"OMG you changed the panda variable!! Reload it with the code: panda = load_panda()\"\n",
    "assert _hash(int(binary_panda[0, 10])) == '6bafb3698f', \"Wrong! What are you doing to the panda?\"\n",
    "assert _hash(int(binary_panda[0, 100])) == '5b4838043f', \"Wrong! What are you doing to the panda?\"\n",
    "print(\"\\nCORRECT! Panda is now literally only black and white...\")\n",
    "plot_pandas(binary_panda)"
   ]
  },
  {
   "cell_type": "markdown",
   "metadata": {
    "deletable": false,
    "editable": false,
    "nbgrader": {
     "grade": false,
     "grade_id": "cell-9eef234941bd5fbf",
     "locked": true,
     "schema_version": 3,
     "solution": false,
     "task": false
    }
   },
   "source": [
    "### Exercise 4.4\n",
    "\n",
    "4 pandas is better than 1!! 🐼🐼🐼🐼\n",
    "\n",
    "Because we like tile effect, let's create an image with 2x2 pandas, concatenating our `panda` array into an image with 4 pandas, which should look like this:\n",
    "\n",
    "<img src=\"./media/tile_pandas.png\">"
   ]
  },
  {
   "cell_type": "code",
   "execution_count": null,
   "metadata": {
    "deletable": false,
    "nbgrader": {
     "grade": false,
     "grade_id": "cell-dc5b19629feb3e59",
     "locked": false,
     "schema_version": 3,
     "solution": true,
     "task": false
    }
   },
   "outputs": [],
   "source": [
    "## create a 2D array with 4 concatenated pandas\n",
    "\n",
    "# it should have 2 pandas on the first column (first concatenation step)\n",
    "# column_pandas = ...\n",
    "\n",
    "# and now concatenate 2 columns of pandas side by side (second concatenation step)\n",
    "# tile_pandas = ...\n",
    "\n",
    "# YOUR CODE HERE\n",
    "raise NotImplementedError()"
   ]
  },
  {
   "cell_type": "code",
   "execution_count": null,
   "metadata": {
    "deletable": false,
    "editable": false,
    "nbgrader": {
     "grade": true,
     "grade_id": "cell-f3ec3088aac4e295",
     "locked": true,
     "points": 0,
     "schema_version": 3,
     "solution": false,
     "task": false
    }
   },
   "outputs": [],
   "source": [
    "assert isinstance(panda, np.ndarray) and panda.shape == (460, 460) and panda.min() == 0 \\\n",
    "    and panda.max() == 255 and  _hash(panda[0, 10]) == '751b860653', \\\n",
    "    \"OMG you changed the panda variable!! Reload it with the code: panda = load_panda()\"\n",
    "assert _hash(column_pandas[720,400]) == \"9963b5511e\", \"Wrong. Check the concatenation step for column_pandas!\"\n",
    "assert tile_pandas.shape == (920, 920), \"The image size is not right!\"\n",
    "assert tile_pandas.shape != (1840, 460), \"Did you concatenate  along the correct axis?\"\n",
    "assert _hash(tile_pandas[300,400]) == '6c5db95765', \"Wrong! What did you do to the panda?\"\n",
    "assert _hash(tile_pandas[260,720]) == 'f4bbfd7be2', \"Wrong! What did you do to the panda?\"\n",
    "assert _hash(tile_pandas[600,420]) == '0d1d9d8d66', \"Wrong! What did you do to the panda?\"\n",
    "assert _hash(tile_pandas[600,800]) == 'ede52244b6', \"Wrong! What did you do to the panda?\"\n",
    "print(\"\\nCORRECT! Tiled pandas!\")\n",
    "plot_pandas(tile_pandas)"
   ]
  },
  {
   "cell_type": "markdown",
   "metadata": {
    "deletable": false,
    "editable": false,
    "nbgrader": {
     "grade": false,
     "grade_id": "cell-02d7cd9f71e6e3c3",
     "locked": true,
     "schema_version": 3,
     "solution": false,
     "task": false
    }
   },
   "source": [
    "---"
   ]
  },
  {
   "cell_type": "markdown",
   "metadata": {
    "deletable": false,
    "editable": false,
    "nbgrader": {
     "grade": false,
     "grade_id": "cell-eba2b96c446d0ce4",
     "locked": true,
     "schema_version": 3,
     "solution": false,
     "task": false
    }
   },
   "source": [
    "### Dizzy panda?\n",
    "\n",
    "It's a linear combination of 3 pandas..."
   ]
  },
  {
   "cell_type": "code",
   "execution_count": null,
   "metadata": {
    "deletable": false,
    "editable": false,
    "nbgrader": {
     "grade": false,
     "grade_id": "cell-a61c3b16def38d32",
     "locked": true,
     "schema_version": 3,
     "solution": false,
     "task": false
    }
   },
   "outputs": [],
   "source": [
    "# plot panda matrix and a linear combination of panda matrices!!\n",
    "panda_combination = 0.5*panda + 0.5*panda.T + 0.5*panda[::-1]\n",
    "plot_pandas(panda_combination)"
   ]
  },
  {
   "cell_type": "markdown",
   "metadata": {
    "deletable": false,
    "editable": false,
    "nbgrader": {
     "grade": false,
     "grade_id": "cell-0e7feeb99174b781",
     "locked": true,
     "schema_version": 3,
     "solution": false,
     "task": false
    }
   },
   "source": [
    "---"
   ]
  },
  {
   "cell_type": "markdown",
   "metadata": {
    "deletable": false,
    "editable": false,
    "nbgrader": {
     "grade": false,
     "grade_id": "cell-7e15f499796d8926",
     "locked": true,
     "schema_version": 3,
     "solution": false,
     "task": false
    }
   },
   "source": [
    "### Exercise 4.5 (boss level!!)\n",
    "\n",
    "Do you like puzzles? \n",
    "\n",
    "Let's create a 100-piece puzzle together with our panda image! We'll split the tasks:\n",
    "\n",
    "- Your task will be to slice the image into 100 pieces!\n",
    "\n",
    "- My task will be to randomly mix the pieces you've built and display the final result.\n",
    "\n",
    "What I need from you is:\n",
    "\n",
    "- `pieces` - a **list** with all the 100 pieces inside it, represented as 2D array slices of our `panda` array, each of shape `(side, side)` (I don't care about the order of the pieces inside the list...).\n",
    "\n",
    "- `side` - the length of each side of the 100 square pieces.\n",
    "\n",
    "\n",
    "I know I know, your part is harder! 😁😝\n",
    "\n",
    "Note the following:\n",
    "\n",
    "- The end size of your array should be the same as the original `panda`;\n",
    "\n",
    "- Each pixel is simply an element of the array.\n",
    "\n",
    "Let's do this!"
   ]
  },
  {
   "cell_type": "code",
   "execution_count": null,
   "metadata": {
    "deletable": false,
    "nbgrader": {
     "grade": false,
     "grade_id": "cell-b0f72f2efb1e9e6c",
     "locked": false,
     "schema_version": 3,
     "solution": true,
     "task": false
    }
   },
   "outputs": [],
   "source": [
    "# Your turn\n",
    "\n",
    "#### what's the side length per square piece?\n",
    "# convert the result to an INTEGER!!\n",
    "# side = ...\n",
    "\n",
    "\n",
    "#### now slice the image into 100 square pieces!\n",
    "# initialize a list to store the 100 numpy array pieces\n",
    "pieces = []\n",
    "# this is where you get creative!\n",
    "# try to find a way to iterate through the panda array\n",
    "# and save all the different 100 array pieces in pieces_array\n",
    "#   - you could use a for loop, range, list comprehension, append,... whatever you want!\n",
    "#   - if you can, avoid using any NumPy methods\n",
    "# make sure you save all the 100 different pieces (numpy arrays) inside the list pieces\n",
    "# ...\n",
    "# pieces = ...\n",
    "\n",
    "\n",
    "# YOUR CODE HERE\n",
    "raise NotImplementedError()"
   ]
  },
  {
   "cell_type": "code",
   "execution_count": null,
   "metadata": {
    "deletable": false,
    "editable": false,
    "nbgrader": {
     "grade": true,
     "grade_id": "cell-9b30ec79470704e7",
     "locked": true,
     "points": 0,
     "schema_version": 3,
     "solution": false,
     "task": false
    }
   },
   "outputs": [],
   "source": [
    "import math\n",
    "\n",
    "assert isinstance(panda, np.ndarray) and panda.shape == (460, 460) and panda.min() == 0 \\\n",
    "    and panda.max() == 255 and  _hash(panda[0, 10]) == '751b860653', \\\n",
    "    \"OMG did you change the panda variable? How dare you make that to a panda! Reload it with the code: panda = load_panda()\"\n",
    "assert isinstance(pieces, list), \"Wrong! The variable pieces should be a list of numpy arrays!\"\n",
    "assert len(pieces) == 100, \"Wrong! You should have 100 pieces, no less no more!\"\n",
    "\n",
    "# check if all pieces are in the list\n",
    "piece_hashes = set([_hash(piece) for piece in pieces])\n",
    "assert piece_hashes == {\n",
    " '02be9d6ce2', '07848c537e', '0a2e28f440', '0af647d93c', '11d3b39a80', '13cfdfa2e9', '1a8344eb52', '1bd4a336b6',\n",
    " '1c601bdd89', '22bd495b3c', '26c7dc1d4c', '289180411b', '28a6e32b35', '2a6c71b8df', '2a729e70c9', '2b02c76a03',\n",
    " '2bfa86fc88', '2e95608216', '2f248cb1c8', '35fb7da6db', '3697193023', '376315dbbd', '3eb8f59cd2', '40128ced6e',\n",
    " '40d7edd99f', '41badc88cd', '430813f00e', '4397304874', '44c70a7d78', '470fb34b6d', '4979a9b607', '4e5bd0b84b',\n",
    " '4fe0fd7b10', '503419682b', '5048f5fd22', '51857ecdd5', '51a28f3aca', '57da59b8f8', '5835ab0b91', '58600ed82f',\n",
    " '5ac9427587', '5c84000093', '5d45dcf52a', '5d62bde0ab', '6756b0fc03', '68eb166d6a', '6ac4fb00e9', '6ddbc03b88',\n",
    " '706b4ae8ab', '747944d48d', '7675185716', '79af3029d6', '7caa71e4f3', '7da3a9d8c2', '847027c964', '84cea37281',\n",
    " '86457b6483', '89a69e1c4c', '8a052d1712', '8b8d7648ac', '97862ad710', '983979c8d2', '9989f29398', '9b82e1e2ee',\n",
    " '9c867619b4', 'a026d50550', 'a7f7329ad3', 'a94443d646', 'acf93bc106', 'b0e0eb6ba7', 'b572037421', 'b6be9e18e8',\n",
    " 'b922487e57', 'bb418e046e', 'bedf071ed4', 'bf00c8999b', 'bfe2706cfc', 'c48ec85d2f', 'c4ae780575', 'c5b00870fb',\n",
    " 'c7901354c2', 'cfc67efe75', 'd7251c83d4', 'd88fc392a9', 'da29f647d5', 'db3609fbb9', 'dcb1466706', 'de172beccc',\n",
    " 'de79a642a2', 'deeee80582', 'df8e136de6', 'e15c1c9bc9', 'e5642145ee', 'e806e500ee', 'e975f82de7', 'ed3651f66f',\n",
    " 'f0236ab443', 'f12bd5363a', 'f2e8138d40', 'fe3fbd881d'}, \"No! :( Something's not right... The panda is crying.\"\n",
    "\n",
    "print(\"You did it, you're awesome! Let me shuffle the pieces now. :)\")"
   ]
  },
  {
   "cell_type": "code",
   "execution_count": null,
   "metadata": {
    "deletable": false,
    "editable": false,
    "nbgrader": {
     "grade": false,
     "grade_id": "cell-f7050e51d027677e",
     "locked": true,
     "schema_version": 3,
     "solution": false,
     "task": false
    }
   },
   "outputs": [],
   "source": [
    "# My turn - run this cell!!\n",
    "\n",
    "# shuffle the pieces\n",
    "import random\n",
    "pieces_shuffled = pieces.copy()\n",
    "random.shuffle(pieces_shuffled)"
   ]
  },
  {
   "cell_type": "markdown",
   "metadata": {
    "deletable": false,
    "editable": false,
    "nbgrader": {
     "grade": false,
     "grade_id": "cell-24580a01c758d0e6",
     "locked": true,
     "schema_version": 3,
     "solution": false,
     "task": false
    }
   },
   "source": [
    "The moment of truth..."
   ]
  },
  {
   "cell_type": "code",
   "execution_count": null,
   "metadata": {
    "deletable": false,
    "editable": false,
    "nbgrader": {
     "grade": true,
     "grade_id": "cell-650545c11bb3b476",
     "locked": true,
     "points": 0,
     "schema_version": 3,
     "solution": false,
     "task": false
    }
   },
   "outputs": [],
   "source": [
    "# SHOW THE PUZZLE!!\n",
    "try:\n",
    "    plot_img(np.concatenate([np.concatenate(pieces_shuffled[n:n+10], axis=1) for n in range(0, 100, 10)]))\n",
    "    print(\"\\nYey!! There it is. Our 100-piece puzzle!\")\n",
    "except:\n",
    "    print(\"Did you pass all the asserts? Either you didn't or I didn't catch your errors.\")\n",
    "    print(\"Now our panda is sad...\")\n",
    "    plot_sad_panda()"
   ]
  },
  {
   "cell_type": "markdown",
   "metadata": {
    "deletable": false,
    "editable": false,
    "nbgrader": {
     "grade": false,
     "grade_id": "cell-81a453bd50aef88a",
     "locked": true,
     "schema_version": 3,
     "solution": false,
     "task": false
    }
   },
   "source": [
    "### Last but not least, submit your work!"
   ]
  },
  {
   "cell_type": "markdown",
   "metadata": {
    "deletable": false,
    "editable": false,
    "nbgrader": {
     "grade": false,
     "grade_id": "cell-7e1be0597920ce4c",
     "locked": true,
     "schema_version": 3,
     "solution": false,
     "task": false
    }
   },
   "source": [
    "To submit your work, fill your slack ID in the `slack_id` variable (as a string).\n",
    "\n",
    "Example: `slack_id = \"x-men\"`\n",
    "\n",
    "Help: if you forgot your slack ID, [read this](https://moshfeu.medium.com/how-to-find-my-member-id-in-slack-workspace-d4bba942e38c)."
   ]
  },
  {
   "cell_type": "code",
   "execution_count": null,
   "metadata": {
    "deletable": false,
    "nbgrader": {
     "grade": false,
     "grade_id": "cell-1138f06eb745452a",
     "locked": false,
     "schema_version": 3,
     "solution": true,
     "task": false
    }
   },
   "outputs": [],
   "source": [
    "# Submit your work!\n",
    "\n",
    "#slack_id = \n",
    "\n",
    "# YOUR CODE HERE\n",
    "raise NotImplementedError()"
   ]
  },
  {
   "cell_type": "code",
   "execution_count": null,
   "metadata": {
    "deletable": false,
    "editable": false,
    "nbgrader": {
     "grade": true,
     "grade_id": "cell-c9a56f8e4aaafdb4",
     "locked": true,
     "points": 0,
     "schema_version": 3,
     "solution": false,
     "task": false
    }
   },
   "outputs": [],
   "source": [
    "from submit import submit\n",
    "assert isinstance(slack_id, str)\n",
    "\n",
    "slu = 12\n",
    "submit(slack_id, slu)"
   ]
  },
  {
   "cell_type": "markdown",
   "metadata": {
    "deletable": false,
    "editable": false,
    "nbgrader": {
     "grade": false,
     "grade_id": "cell-71d96405bddc559e",
     "locked": true,
     "schema_version": 3,
     "solution": false,
     "task": false
    }
   },
   "source": [
    "---"
   ]
  }
 ],
 "metadata": {
  "kernelspec": {
   "display_name": "Python 3",
   "language": "python",
   "name": "python3"
  },
  "language_info": {
   "codemirror_mode": {
    "name": "ipython",
    "version": 3
   },
   "file_extension": ".py",
   "mimetype": "text/x-python",
   "name": "python",
   "nbconvert_exporter": "python",
   "pygments_lexer": "ipython3",
   "version": "3.7.5"
  }
 },
 "nbformat": 4,
 "nbformat_minor": 2
}
