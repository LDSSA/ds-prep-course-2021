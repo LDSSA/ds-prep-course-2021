{
 "cells": [
  {
   "cell_type": "markdown",
   "id": "tutorial-switzerland",
   "metadata": {},
   "source": [
    "# SLU12 - Linear Algebra & NumPy, Part 1"
   ]
  },
  {
   "cell_type": "markdown",
   "id": "great-isaac",
   "metadata": {},
   "source": [
    "## Solutions to Pen and Paper Exercises"
   ]
  },
  {
   "cell_type": "markdown",
   "id": "hazardous-interest",
   "metadata": {},
   "source": [
    "This notebook contains suggested solutions for the pen and paper exercises proposed in Learning Notebooks 1 and 2."
   ]
  },
  {
   "cell_type": "markdown",
   "id": "center-astrology",
   "metadata": {},
   "source": [
    "---"
   ]
  },
  {
   "cell_type": "markdown",
   "id": "technological-renaissance",
   "metadata": {},
   "source": [
    "![page1](media/slu12_file_1of5.png)\n",
    "\n",
    "In Exercise 3 above, the direction of the vector remains the same, but the magnitude changes (it's twice the length it was before)."
   ]
  },
  {
   "cell_type": "markdown",
   "id": "packed-indianapolis",
   "metadata": {},
   "source": [
    "![page2](media/slu12_file_2of5.png)"
   ]
  },
  {
   "cell_type": "markdown",
   "id": "congressional-richmond",
   "metadata": {},
   "source": [
    "![page3](media/slu12_file_3of5.png)"
   ]
  },
  {
   "cell_type": "markdown",
   "id": "related-mercy",
   "metadata": {},
   "source": [
    "![page4](media/slu12_file_4of5.png)"
   ]
  },
  {
   "cell_type": "markdown",
   "id": "funded-recorder",
   "metadata": {},
   "source": [
    "![page5](media/slu12_file_5of5.png)"
   ]
  },
  {
   "cell_type": "markdown",
   "id": "mighty-cream",
   "metadata": {},
   "source": [
    "---"
   ]
  },
  {
   "cell_type": "markdown",
   "id": "grand-devil",
   "metadata": {},
   "source": [
    "🙋If you think you spotted an error let us know!"
   ]
  },
  {
   "cell_type": "markdown",
   "id": "normal-equity",
   "metadata": {},
   "source": [
    "---"
   ]
  }
 ],
 "metadata": {
  "kernelspec": {
   "display_name": "Python 3",
   "language": "python",
   "name": "python3"
  },
  "language_info": {
   "codemirror_mode": {
    "name": "ipython",
    "version": 3
   },
   "file_extension": ".py",
   "mimetype": "text/x-python",
   "name": "python",
   "nbconvert_exporter": "python",
   "pygments_lexer": "ipython3",
   "version": "3.8.2"
  }
 },
 "nbformat": 4,
 "nbformat_minor": 5
}
