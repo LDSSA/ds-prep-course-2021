{
 "cells": [
  {
   "cell_type": "markdown",
   "metadata": {},
   "source": [
    "# SLU12 - Linear Algebra & NumPy, Part 2"
   ]
  },
  {
   "cell_type": "markdown",
   "metadata": {},
   "source": [
    "### Learning Notebook 2/2"
   ]
  },
  {
   "cell_type": "markdown",
   "metadata": {},
   "source": [
    "*In this notebook we extend what we've learned about vectors to **Matrices**. We'll learn about special matrices, transpose, multiplication by a scalar and addition. We will then use NumPy arrays to represent matrices, perform matrix operations accessing rows and columns, learn about subsetting, boolean indexing and concatenation.*"
   ]
  },
  {
   "cell_type": "markdown",
   "metadata": {},
   "source": [
    "---"
   ]
  },
  {
   "cell_type": "markdown",
   "metadata": {},
   "source": [
    "**What's in this notebook**\n",
    "\n",
    "3. [Matrices](#3.-Matrices)\n",
    "\n",
    "  3.1 [Matrix definition](#3.1-Matrix-definition)  \n",
    "  3.2 [Special matrices](#3.2-Special-matrices): square, diagonal, zero, identity, symmetric  \n",
    "  3.3 [Matrix operations: multiplication by scalar and addition](#3.3-Matrix-operations:-multiplication-by-scalar-and-addition)  \n",
    "  3.4 [Matrix transpose](#3.4-Matrix-transpose)\n",
    "\n",
    "\n",
    "4. [NumPy arrays and matrices](#4.-NumPy-arrays-and-matrices)\n",
    "\n",
    "  4.1 [Representing matrices with 2D arrays](#4.1-Representing-matrices-with-2D-arrays)  \n",
    "  4.2 [Matrices and linear algebra using NumPy](#4.2-Matrices-and-linear-algebra-using-NumPy)  \n",
    "  4.3 [Accessing rows and columns in 2D arrays](#4.3-Accessing-rows-and-columns-in-2D-arrays)  \n",
    "  4.4 [Boolean indexing](#4.4-Boolean-indexing)  \n",
    "  4.5 [Copying numpy arrays](#4.5-Copying-numpy-arrays)"
   ]
  },
  {
   "cell_type": "markdown",
   "metadata": {},
   "source": [
    "---"
   ]
  },
  {
   "cell_type": "markdown",
   "metadata": {},
   "source": [
    "### Imports"
   ]
  },
  {
   "cell_type": "code",
   "execution_count": 1,
   "metadata": {},
   "outputs": [],
   "source": [
    "# numpy is the package we're going to learn about\n",
    "# it is a widespread convention to import numpy using the alias np\n",
    "# this convention makes your code more readable, so do use it\n",
    "import numpy as np\n",
    "\n",
    "# auxiliary stuff\n",
    "import utils"
   ]
  },
  {
   "cell_type": "markdown",
   "metadata": {},
   "source": [
    "On the first notebook, we learned about vectors, their main properties, basic operations and how we can apply all that using ndarrays and NumPy functionalities. Let's now dive into matrices, the most common way to store and represent data."
   ]
  },
  {
   "cell_type": "markdown",
   "metadata": {},
   "source": [
    "## 3. Matrices"
   ]
  },
  {
   "cell_type": "markdown",
   "metadata": {},
   "source": [
    "If you read Learning Notebook 1 carefully, this section is going to be short and sweet, since it builds up on the algebraic operations we learned for vectors."
   ]
  },
  {
   "cell_type": "markdown",
   "metadata": {},
   "source": [
    "As a data scientist, you'll usually work with tables of data (a.k.a. datasets), where each column of data represents the observed values for a given variable (feature), and each row corresponds to a different observation (a combination of values of the different variables). Generally speaking, you can think of these tables as matrices, which could actually have different types of data (strings, numbers, etc.). In linear algebra, we're interested in dealing with numerical data, so let's focus on matrices of numbers."
   ]
  },
  {
   "cell_type": "markdown",
   "metadata": {},
   "source": [
    "### 3.1 Matrix definition"
   ]
  },
  {
   "cell_type": "markdown",
   "metadata": {},
   "source": [
    "A matrix is *nothing more* than a table of numbers. Actually, we can also call a matrix a collection of **one or more** column vectors. For example, this is a matrix:\n",
    "\n",
    "$$\\mathbf{B} = \n",
    "    \\begin{bmatrix} \n",
    "        1 & 2 & 0 & 1\\\\\n",
    "        4 & 6 &-1 & 0\\\\\n",
    "        -2& \\sqrt{2} & 0 & -0.5\\\\\n",
    "     \\end{bmatrix}\n",
    "$$\n",
    "\n",
    "Each of the columns in $\\mathbf{B}$ is a column vector. The first column vector in $\\mathbf{B}$ is $\\begin{bmatrix} 1 & 4 & -2\\\\\\end{bmatrix}^T$ (remember the transpose?). Since we have 3 rows and 4 columns, we say that the **dimension** of the matrix is $3\\times 4$ (\"three by four\"), or simply that \"$\\mathbf{B}$ is a $3\\times 4$ matrix\". Each number in the matrix is called an **entry**.\n",
    "\n",
    "Now that you know this, the fact that there are \"row vectors\" and \"column vectors\" starts to make much more sense.\n",
    "\n",
    "Also, notice that a row vector is nothing more than a $1\\times n$ matrix, and a column vector is simply an $m\\times 1$ matrix."
   ]
  },
  {
   "cell_type": "markdown",
   "metadata": {},
   "source": [
    "<div class=\"alert alert-block alert-info\">\n",
    "    A <b>matrix $\\mathbf{A}$</b> of dimension $m\\times n$ has $m$ rows and $n$ columns and is represented as:\n",
    "    $$\n",
    "    \\mathbf{A} = \n",
    "    \\begin{bmatrix}\n",
    "        a_{1,1} & a_{1,2} & \\cdots & a_{1,n}\\\\\n",
    "        a_{2,1} & a_{2,2} & \\cdots & a_{2,n}\\\\\n",
    "        \\vdots &\\vdots & \\ddots & \\vdots\\\\\n",
    "        a_{m,1} & a_{m,2} & \\cdots & a_{m,n}\\\\\n",
    "    \\end{bmatrix}\n",
    "    $$\n",
    "</div>"
   ]
  },
  {
   "cell_type": "markdown",
   "metadata": {},
   "source": [
    "Some observations:\n",
    "\n",
    "- Each entry $a_{i,j}$ of the matrix $A$ has two indexes, the first corresponding to the row where it is located and the second to its column.\n",
    "\n",
    "- In our first example above, $b_{2,3} = -1$. Do not confuse indexing in mathematical notation (starts at $1$) with indexing in Python (starts at $0$)."
   ]
  },
  {
   "cell_type": "markdown",
   "metadata": {},
   "source": [
    "**Equality of matrices**: two matrices $\\mathbf{A}$ and $\\mathbf{B}$ are equal **if and only if** they have the **same size ($m\\times n$) and $a_{i,j} = b_{i,j}$, for every $i, j$**."
   ]
  },
  {
   "cell_type": "markdown",
   "metadata": {},
   "source": [
    "### 3.2 Special matrices"
   ]
  },
  {
   "cell_type": "markdown",
   "metadata": {},
   "source": [
    "*All matrices are special... but some are \"squarer\".* 🔲"
   ]
  },
  {
   "cell_type": "markdown",
   "metadata": {},
   "source": [
    "#### 3.2.1 Square matrix"
   ]
  },
  {
   "cell_type": "markdown",
   "metadata": {},
   "source": [
    "When we have a matrix with the **same number of rows and columns ($m=n$)**, we call it a **square matrix**."
   ]
  },
  {
   "cell_type": "markdown",
   "metadata": {},
   "source": [
    "#### 3.2.2 Diagonal matrix"
   ]
  },
  {
   "cell_type": "markdown",
   "metadata": {},
   "source": [
    "The **diagonal matrix** is a **square** matrix where all the elements **outside** its **main diagonal** are zero:\n",
    "\n",
    "$$\n",
    "A = \n",
    "\\begin{bmatrix}\n",
    "    a_{1,1} & 0 & \\cdots & 0\\\\\n",
    "    0 & a_{2,2} & \\cdots & 0\\\\\n",
    "    \\vdots &\\vdots & \\ddots & \\vdots\\\\\n",
    "    0 & 0 & \\cdots & a_{n,n}\\\\\n",
    "\\end{bmatrix}\n",
    "$$"
   ]
  },
  {
   "cell_type": "markdown",
   "metadata": {},
   "source": [
    "<div class=\"alert alert-block alert-info\">\n",
    "    A square matrix $\\mathbf{A}$ is said to be <b>diagonal</b> if $a_{ij} = 0,\\;\\; i\\neq j$.\n",
    "</div>"
   ]
  },
  {
   "cell_type": "markdown",
   "metadata": {},
   "source": [
    "**Note that** this does not mean that the elements of the diagonal cannot be zero"
   ]
  },
  {
   "cell_type": "markdown",
   "metadata": {},
   "source": [
    "#### 3.2.3 Zero matrix"
   ]
  },
  {
   "cell_type": "markdown",
   "metadata": {},
   "source": [
    "The **zero matrix** is a matrix where all entries are equal to zero:"
   ]
  },
  {
   "cell_type": "markdown",
   "metadata": {},
   "source": [
    "$$\n",
    "\\mathbf{O} = \n",
    "\\begin{bmatrix}\n",
    "    0 & 0 & \\cdots & 0\\\\\n",
    "    0 & 0 & \\cdots & 0\\\\\n",
    "    \\vdots &\\vdots & \\ddots & \\vdots\\\\\n",
    "    0 & 0 & \\cdots & 0\\\\\n",
    "\\end{bmatrix}\n",
    "$$"
   ]
  },
  {
   "cell_type": "markdown",
   "metadata": {},
   "source": [
    "<div class=\"alert alert-block alert-info\">\n",
    "    The <b>zero matrix</b> $\\mathbf{O}$ is a matrix where all entries are zeros, $o_{i,j} = 0$.\n",
    "</div>"
   ]
  },
  {
   "cell_type": "markdown",
   "metadata": {},
   "source": [
    "#### 3.2.4 Identity matrix"
   ]
  },
  {
   "cell_type": "markdown",
   "metadata": {},
   "source": [
    "The **identity matrix** is a **diagonal** matrix (and therefore also a **square** matrix) where all the elements in the main diagonal are ones:"
   ]
  },
  {
   "cell_type": "markdown",
   "metadata": {},
   "source": [
    "$$\n",
    "I_n = \n",
    "\\begin{bmatrix}\n",
    "    1 & 0 & \\cdots & 0\\\\\n",
    "    0 & 1 & \\cdots & 0\\\\\n",
    "    \\vdots &\\vdots & \\ddots & \\vdots\\\\\n",
    "    0 & 0 & \\cdots & 1\\\\\n",
    "\\end{bmatrix}\n",
    "$$"
   ]
  },
  {
   "cell_type": "markdown",
   "metadata": {},
   "source": [
    "The **identity matrix** is a different kind of special. Multiplying any matrix by the identity results in the matrix itself (we'll study matrix multiplication in SLU13)."
   ]
  },
  {
   "cell_type": "markdown",
   "metadata": {},
   "source": [
    "<div class=\"alert alert-block alert-info\">\n",
    "    The <b>identity matrix</b> is a diagonal matrix of size $n\\times n$ where the entries in the main diagonal are all ones and all the elements out of the main diagonal are zeros: $a_{i,j} = 1$, for $i = j$ and $a_{i,j} = 0$, for $i\\neq j$. It is usually denoted as $\\mathbf{I_n}$.\n",
    "</div>"
   ]
  },
  {
   "cell_type": "markdown",
   "metadata": {},
   "source": [
    "#### 3.2.5 Symmetric matrix"
   ]
  },
  {
   "cell_type": "markdown",
   "metadata": {},
   "source": [
    "A square matrix $\\mathbf{A}$  is symmetric when all its entries are symmetric relative to its main diagonal. For example:\n",
    "\n",
    "$$\n",
    "\\begin{bmatrix}\n",
    "    1 & 2 & 3\\\\\n",
    "    2 & 0 & \\sqrt{2}\\\\\n",
    "    3 & \\sqrt{2} & -1\n",
    "\\end{bmatrix}\n",
    "$$\n",
    "\n",
    "If you look at the elements outside the diagonal, you'll notice a symmetry in relation to the diagonal of the matrix. The element $a_{2,1}$ is equal to the element $a_{1,2}$, the element $a_{3,1}$ is equal to entry $a_{1,3}$ and the element $a_{3,2}$ is equal to element $a_{2,3}$."
   ]
  },
  {
   "cell_type": "markdown",
   "metadata": {},
   "source": [
    "<div class=\"alert alert-block alert-info\">\n",
    "    A <b>symmetric matrix</b> $\\mathbf{A}$ is a square matrix where the equality $a_{i,j} = a_{j,i}$ holds true for any entry in the matrix.\n",
    "</div>\n",
    "\n",
    "Notice that row and column indexes are always equal for **each entry** in the diagonal ($a_{1,1}$, $a_{2,2}$,... $a_{m,m}$), in a square matrix."
   ]
  },
  {
   "cell_type": "markdown",
   "metadata": {},
   "source": [
    "---"
   ]
  },
  {
   "cell_type": "markdown",
   "metadata": {},
   "source": [
    "There are a few other special matrices. For example, the **lower triangular** is a square matrix where all the entries **above** the main diagonal are **zero**, and the **upper triangular** is a square matrix where all the entries **below** the main diagonal are **zero**. [check here](https://www.youtube.com/watch?v=H5ZE3I3rLSY)"
   ]
  },
  {
   "cell_type": "markdown",
   "metadata": {},
   "source": [
    "---"
   ]
  },
  {
   "cell_type": "markdown",
   "metadata": {},
   "source": [
    "<img src=\"./media/nothing_identity.png\"/>"
   ]
  },
  {
   "cell_type": "markdown",
   "metadata": {},
   "source": [
    "---"
   ]
  },
  {
   "cell_type": "markdown",
   "metadata": {},
   "source": [
    "### 3.3 Matrix operations: multiplication by scalar and addition"
   ]
  },
  {
   "cell_type": "markdown",
   "metadata": {},
   "source": [
    "#### 3.3.1 Multiplying a matrix by a scalar"
   ]
  },
  {
   "cell_type": "markdown",
   "metadata": {},
   "source": [
    "This is pretty much the same thing as we did with vectors.\n",
    "\n",
    "Let's check one example:\n",
    "\n",
    "$$\n",
    "2\\cdot\n",
    "\\begin{bmatrix}\n",
    "    0 & 1 & 0\\\\\n",
    "    -1 & 0.5 & 2\n",
    "\\end{bmatrix}\n",
    "=\n",
    "\\begin{bmatrix}\n",
    "    2\\times 0 & 2\\times 1 & 2\\times 0\\\\\n",
    "    2\\times (-1) & 2\\times 0.5 & 2\\times 2\n",
    "\\end{bmatrix}\n",
    "=\n",
    "\\begin{bmatrix}\n",
    "    0 & 2 & 0\\\\\n",
    "    -2 & 1 & 4\n",
    "\\end{bmatrix}\n",
    "$$"
   ]
  },
  {
   "cell_type": "markdown",
   "metadata": {},
   "source": [
    "#### 3.3.2 Addition and subtraction"
   ]
  },
  {
   "cell_type": "markdown",
   "metadata": {},
   "source": [
    "Remember that you can only add or subtract two vectors with the same dimension? In the case of matrices, they need to have the same number of rows **and** the same number of columns, this is, they need to be the **same size**:\n",
    "\n",
    "Let's add matrices $\\mathbf{A} = \\begin{bmatrix}1&-1\\\\0&2\\\\-0.5&1\\end{bmatrix}$ and $\\mathbf{B} = \\begin{bmatrix}0.2&-2\\\\-3&1\\\\5&2\\end{bmatrix}$.\n",
    "\n",
    "\n",
    "$\n",
    "\\mathbf{A}\n",
    "+\n",
    "\\mathbf{B} =\n",
    "\\begin{bmatrix}\n",
    "    1 + 0.2 & -1 + (-2)\\\\\n",
    "    0 + (-3) & 2 + 1\\\\\n",
    "    -0.5 + 5 & 1 + 2\n",
    "\\end{bmatrix} =\n",
    "\\begin{bmatrix}\n",
    "    1.2 & -3\\\\\n",
    "    -3 & 3\\\\\n",
    "    4.5 & 3\n",
    "\\end{bmatrix}\n",
    "$\n",
    "\n",
    "\n",
    "**Notice that** you can also think of the operation above has having added:\n",
    "- the first column vector in $\\mathbf{A}$ with the first column vector in $\\mathbf{B}$\n",
    "- the second column vector in $\\mathbf{A}$ with the second column vector in $\\mathbf{B}$\n",
    "\n",
    "So, we basically performed two separate additions between vectors at once, inside a matrix. Interesting, right?"
   ]
  },
  {
   "cell_type": "markdown",
   "metadata": {},
   "source": [
    "#### 3.3.3 Properties of matrix addition and multiplication by scalars"
   ]
  },
  {
   "cell_type": "markdown",
   "metadata": {},
   "source": [
    "Similarly to vectors, we have the following properties:\n",
    "\n",
    "$\\;\\;\\text{1. }\\;\\; \\mathbf{A} + \\mathbf{B} = \\mathbf{B} + \\mathbf{A}\\;\\;$ (**commutativity**)\n",
    "\n",
    "$\\;\\;\\text{2. }\\;\\; \\mathbf{A} + \\mathbf{O} = \\mathbf{A}$\n",
    "\n",
    "$\\;\\;\\text{3. }\\;\\; c\\left(\\mathbf{A} + \\mathbf{B}\\right) = c\\mathbf{A} + c\\mathbf{B},\\hspace{.2cm} c\\in \\mathbb{R}$ (**distributivity of a scalar**)\n",
    "\n",
    "$\\;\\;\\text{4. }\\;\\; \\left(cd\\right)\\mathbf{A} = c\\left(d\\mathbf{A}\\right)$\n",
    "\n",
    "$\\;\\;\\text{5. }\\;\\; \\mathbf{A} + (\\mathbf{B} + \\mathbf{C}) = (\\mathbf{A} + \\mathbf{B}) + \\mathbf{C}\\;\\;$ (**associativity**)\n",
    "\n",
    "$\\;\\;\\text{6. }\\;\\; \\mathbf{A} + (-\\mathbf{A}) = \\mathbf{O}$\n",
    "\n",
    "$\\;\\;\\text{7. }\\;\\; (c + d) \\mathbf{A} = c \\mathbf{A} + d \\mathbf{A}$\n",
    "\n",
    "where $\\mathbf{O}$ is the zero matrix, and $c$ and $d$ are scalars."
   ]
  },
  {
   "cell_type": "markdown",
   "metadata": {},
   "source": [
    "Once more, do not worry about knowing all of these properties by heart. As you start practicing operations with matrices, this will become second nature."
   ]
  },
  {
   "cell_type": "markdown",
   "metadata": {},
   "source": [
    "> 📝 **Pen and paper exercise 8**: Which special matrix or matrices results from the following operation?\n",
    "> \n",
    "> $$\\begin{bmatrix}\n",
    "    -1 & 2\\\\\n",
    "    4 & 0.5\n",
    "    \\end{bmatrix}\n",
    "    - 0.5\n",
    "    \\begin{bmatrix}\n",
    "    -2 & 4\\\\\n",
    "    8 & 1\n",
    "    \\end{bmatrix}\n",
    "    $$"
   ]
  },
  {
   "cell_type": "markdown",
   "metadata": {},
   "source": [
    "### 3.4 Matrix transpose"
   ]
  },
  {
   "cell_type": "markdown",
   "metadata": {},
   "source": [
    "Remember the transpose of a row vector is a column vector, and vice-versa?... The logic is the same here. Rows become columns, columns become rows.\n",
    "\n",
    "$$\n",
    "\\mathbf{A}^T\n",
    "=\n",
    "\\begin{bmatrix}\n",
    "    0 & 1 & 0\\\\\n",
    "    -1 & 0.5 & 2\n",
    "\\end{bmatrix}^T\n",
    "=\n",
    "\\begin{bmatrix}\n",
    "    0 & -1\\\\\n",
    "    1 & 0.5\\\\\n",
    "    0 & 2\n",
    "\\end{bmatrix}\n",
    "$$"
   ]
  },
  {
   "cell_type": "markdown",
   "metadata": {},
   "source": [
    "Matrix $A$ is of size $2\\times 3$, and its transpose, $\\mathbf{A}^T$, is of size $3\\times 2$. The 3 vector columns were transposed to 3 row vectors, by order."
   ]
  },
  {
   "cell_type": "markdown",
   "metadata": {},
   "source": [
    "#### 3.4.1 Matrix transpose laws"
   ]
  },
  {
   "cell_type": "markdown",
   "metadata": {
    "deletable": false,
    "editable": false
   },
   "source": [
    "Let's check some of the properties of the matrix transpose:\n",
    "\n",
    "$\\;\\;\\text{1. }\\;\\; (\\mathbf{A}+\\mathbf{B})^T = \\mathbf{A}^T+\\mathbf{B}^T$\n",
    "\n",
    "$\\;\\;\\text{2. }\\;\\ (c\\mathbf{A})^T = c\\mathbf{A}^T$\n",
    "\n",
    "$\\;\\;\\text{3. }\\;\\; \\mathbf{A}$ is symmetric if and only if $\\mathbf{\\mathbf{A}} = \\mathbf{A}^T$."
   ]
  },
  {
   "cell_type": "markdown",
   "metadata": {},
   "source": [
    "> 📝 **Pen and paper exercise 9**: Check that the matrix below satisfies property 3:\n",
    "> \n",
    "> $$\\begin{bmatrix}\n",
    "     1 & 0 & 2\\\\\n",
    "     0 & 1 & 3\\\\\n",
    "     2 & 3 & 2\n",
    "    \\end{bmatrix}\n",
    "    $$"
   ]
  },
  {
   "cell_type": "markdown",
   "metadata": {},
   "source": [
    "> 📝 **Pen and paper exercise 10**: Calculate $(\\mathbf{A}+\\mathbf{B})^T$ and $\\mathbf{A}^T+\\mathbf{B}^T$ and check that they result in the same output matrix (property 1), using the matrices\n",
    "> $\n",
    "A = \n",
    "\\begin{bmatrix}\n",
    "    1 & 2\\\\\n",
    "    -3& 5\n",
    "\\end{bmatrix}\n",
    "  $\n",
    "> and $\n",
    "B = \n",
    "\\begin{bmatrix}\n",
    "    0 & 1\\\\\n",
    "    4 & -6\n",
    "\\end{bmatrix}\n",
    "  $."
   ]
  },
  {
   "cell_type": "markdown",
   "metadata": {},
   "source": [
    "---"
   ]
  },
  {
   "cell_type": "markdown",
   "metadata": {},
   "source": [
    "That's enough linear algebra for now. Next week, on SLU13, we'll learn more about useful things we can do with matrices and vectors.\n",
    "\n",
    "Let's proceed to the last section of this notebook, where we perform matrix operations with NumPy, and learn more about indexing and subsetting ndarrays.\n",
    "\n",
    "<img src=\"./media/almost.gif\"/>"
   ]
  },
  {
   "cell_type": "markdown",
   "metadata": {},
   "source": [
    "---"
   ]
  },
  {
   "cell_type": "markdown",
   "metadata": {},
   "source": [
    "## 4. NumPy arrays and matrices"
   ]
  },
  {
   "cell_type": "markdown",
   "metadata": {},
   "source": [
    "### 4.1 Representing matrices with 2D arrays"
   ]
  },
  {
   "cell_type": "markdown",
   "metadata": {},
   "source": [
    "Let's bring back the arrays!! 💻🐍"
   ]
  },
  {
   "cell_type": "code",
   "execution_count": 2,
   "metadata": {},
   "outputs": [
    {
     "name": "stdout",
     "output_type": "stream",
     "text": [
      "A\n",
      ": [[ 2.          0.1        -1.        ]\n",
      " [ 3.          0.2         1.41421356]] \n",
      "\n",
      "B\n",
      ": [[-2 -2  1]\n",
      " [ 0  1  1]]\n"
     ]
    }
   ],
   "source": [
    "# a 2x3 matrix\n",
    "A = np.array([\n",
    "    [2, 0.1, -1],\n",
    "    [3, 1/5, np.sqrt(2)]  # np.sqrt(2) is the square root of 2; np.sqrt() can also be used for arrays\n",
    "])\n",
    "\n",
    "# a 2x3 matrix\n",
    "B = np.array([[-2, -2, 1],\n",
    "              [0, 1, 1]])\n",
    "\n",
    "# show our matrices\n",
    "print(\"A\\n:\", A, \"\\n\")\n",
    "print(\"B\\n:\", B)"
   ]
  },
  {
   "cell_type": "code",
   "execution_count": 3,
   "metadata": {
    "scrolled": true
   },
   "outputs": [
    {
     "name": "stdout",
     "output_type": "stream",
     "text": [
      "A.shape: (2, 3)\n",
      "A.ndim: 2\n",
      "B.shape: (2, 3)\n",
      "B.ndim: 2\n"
     ]
    }
   ],
   "source": [
    "# print shape and number of dimensions of array A\n",
    "print(\"A.shape:\", A.shape)\n",
    "print(\"A.ndim:\", A.ndim)\n",
    "\n",
    "# print shape and number of dimensions of array B\n",
    "print(\"B.shape:\", B.shape)\n",
    "print(\"B.ndim:\", B.ndim)"
   ]
  },
  {
   "cell_type": "markdown",
   "metadata": {},
   "source": [
    "**Arrays shape and dimension**:\n",
    "\n",
    "- The **shape** of array `A` is `(2, 3)`... hmmm, that's the dimension of the matrix $A$, $2\\times 3$!\n",
    "- The **number of array dimensions** of `A` is `2` (we have 1 axis for the rows and another for the columns)."
   ]
  },
  {
   "cell_type": "markdown",
   "metadata": {},
   "source": [
    "### 4.2 Matrices and linear algebra using NumPy"
   ]
  },
  {
   "cell_type": "markdown",
   "metadata": {},
   "source": [
    "Let's apply what we learned about matrices in section 3, using NumPy."
   ]
  },
  {
   "cell_type": "markdown",
   "metadata": {},
   "source": [
    "#### 4.2.1 Special matrices"
   ]
  },
  {
   "cell_type": "markdown",
   "metadata": {},
   "source": [
    "**Zero matrix**"
   ]
  },
  {
   "cell_type": "code",
   "execution_count": 4,
   "metadata": {},
   "outputs": [
    {
     "data": {
      "text/plain": [
       "array([[0., 0.],\n",
       "       [0., 0.],\n",
       "       [0., 0.],\n",
       "       [0., 0.]])"
      ]
     },
     "execution_count": 4,
     "metadata": {},
     "output_type": "execute_result"
    }
   ],
   "source": [
    "# a zero matrix of size 4x2\n",
    "np.zeros((4,2))"
   ]
  },
  {
   "cell_type": "markdown",
   "metadata": {},
   "source": [
    "**Identity matrix**"
   ]
  },
  {
   "cell_type": "code",
   "execution_count": 5,
   "metadata": {},
   "outputs": [
    {
     "data": {
      "text/plain": [
       "array([[1., 0., 0., 0., 0.],\n",
       "       [0., 1., 0., 0., 0.],\n",
       "       [0., 0., 1., 0., 0.],\n",
       "       [0., 0., 0., 1., 0.],\n",
       "       [0., 0., 0., 0., 1.]])"
      ]
     },
     "execution_count": 5,
     "metadata": {},
     "output_type": "execute_result"
    }
   ],
   "source": [
    "# identity matrix of size 5x5 (also is square & diagonal),\n",
    "# represented by an array (shape = (5, 5))\n",
    "I = np.identity(5)  # the input is the number of rows (or columns)\n",
    "I"
   ]
  },
  {
   "cell_type": "markdown",
   "metadata": {},
   "source": [
    "#### 4.2.2 Matrix operations"
   ]
  },
  {
   "cell_type": "markdown",
   "metadata": {},
   "source": [
    "**Multiplication by a scalar**"
   ]
  },
  {
   "cell_type": "markdown",
   "metadata": {},
   "source": [
    "Let's bring back our matrix `B`:"
   ]
  },
  {
   "cell_type": "code",
   "execution_count": 6,
   "metadata": {},
   "outputs": [
    {
     "name": "stdout",
     "output_type": "stream",
     "text": [
      "Matrix B:\n",
      "[[-2 -2  1]\n",
      " [ 0  1  1]]\n"
     ]
    }
   ],
   "source": [
    "print(\"Matrix B:\")\n",
    "print(B)"
   ]
  },
  {
   "cell_type": "markdown",
   "metadata": {},
   "source": [
    "To multiply a matrix (2D array) by a scalar, we simply use the Python multiplication operator `*`:"
   ]
  },
  {
   "cell_type": "code",
   "execution_count": 7,
   "metadata": {},
   "outputs": [
    {
     "data": {
      "text/plain": [
       "array([[-1. , -1. ,  0.5],\n",
       "       [ 0. ,  0.5,  0.5]])"
      ]
     },
     "execution_count": 7,
     "metadata": {},
     "output_type": "execute_result"
    }
   ],
   "source": [
    "0.5 * B  # simply use the Python multiplication operator *"
   ]
  },
  {
   "cell_type": "markdown",
   "metadata": {},
   "source": [
    "**Addition (and subtraction) of matrices**"
   ]
  },
  {
   "cell_type": "markdown",
   "metadata": {},
   "source": [
    "Let's bring back our matrices `A` and `B`:"
   ]
  },
  {
   "cell_type": "code",
   "execution_count": 8,
   "metadata": {},
   "outputs": [
    {
     "name": "stdout",
     "output_type": "stream",
     "text": [
      "Matrix A:\n",
      " [[ 2.          0.1        -1.        ]\n",
      " [ 3.          0.2         1.41421356]] \n",
      "\n",
      "Matrix B:\n",
      " [[-2 -2  1]\n",
      " [ 0  1  1]]\n"
     ]
    }
   ],
   "source": [
    "print(\"Matrix A:\\n\", A, \"\\n\")\n",
    "print(\"Matrix B:\\n\", B)"
   ]
  },
  {
   "cell_type": "markdown",
   "metadata": {},
   "source": [
    "To add two matrices (2D arrays) together, we can use Python addition operator `+`, which adds the matrices element-wise:"
   ]
  },
  {
   "cell_type": "code",
   "execution_count": 9,
   "metadata": {
    "scrolled": true
   },
   "outputs": [
    {
     "data": {
      "text/plain": [
       "array([[ 0.        , -1.9       ,  0.        ],\n",
       "       [ 3.        ,  1.2       ,  2.41421356]])"
      ]
     },
     "execution_count": 9,
     "metadata": {},
     "output_type": "execute_result"
    }
   ],
   "source": [
    "A + B  # simply use the Python addition operator +"
   ]
  },
  {
   "cell_type": "markdown",
   "metadata": {},
   "source": [
    "We can do the same for subtraction, using `-`:"
   ]
  },
  {
   "cell_type": "code",
   "execution_count": 10,
   "metadata": {},
   "outputs": [
    {
     "data": {
      "text/plain": [
       "array([[ 4.        ,  2.1       , -2.        ],\n",
       "       [ 3.        , -0.8       ,  0.41421356]])"
      ]
     },
     "execution_count": 10,
     "metadata": {},
     "output_type": "execute_result"
    }
   ],
   "source": [
    "A - B  # simply use the Python subtraction operator -"
   ]
  },
  {
   "cell_type": "markdown",
   "metadata": {},
   "source": [
    "**Properties of matrix addition and multiplication by scalars**"
   ]
  },
  {
   "cell_type": "markdown",
   "metadata": {},
   "source": [
    "Let's now check some properties we've learned using NumPy. For this we will use the function [`numpy.array_equal()`](https://numpy.org/doc/1.20/reference/generated/numpy.array_equal.html), which allows to compare two arrays for both shape and elements equality, instead of only element-wise."
   ]
  },
  {
   "cell_type": "code",
   "execution_count": 11,
   "metadata": {},
   "outputs": [],
   "source": [
    "# create one more matrix to play with\n",
    "C = np.array([[-2, 1, -1],\n",
    "              [-2, 1, 1]])"
   ]
  },
  {
   "cell_type": "code",
   "execution_count": 12,
   "metadata": {
    "scrolled": false
   },
   "outputs": [
    {
     "name": "stdout",
     "output_type": "stream",
     "text": [
      "Matrix A:\n",
      " [[ 2.          0.1        -1.        ]\n",
      " [ 3.          0.2         1.41421356]]\n",
      "Matrix B:\n",
      " [[-2 -2  1]\n",
      " [ 0  1  1]]\n",
      "Matrix C:\n",
      " [[-2  1 -1]\n",
      " [-2  1  1]]\n"
     ]
    }
   ],
   "source": [
    "# print our matrices\n",
    "print(\"Matrix A:\\n\", A)\n",
    "print(\"Matrix B:\\n\", B)\n",
    "print(\"Matrix C:\\n\", C)"
   ]
  },
  {
   "cell_type": "markdown",
   "metadata": {},
   "source": [
    "**Distributivity of a scalar when adding two matrices:** $c (\\mathbf{A} + \\mathbf{B}) = c \\mathbf{A} + c\\mathbf{B}$"
   ]
  },
  {
   "cell_type": "code",
   "execution_count": 13,
   "metadata": {},
   "outputs": [
    {
     "data": {
      "text/plain": [
       "True"
      ]
     },
     "execution_count": 13,
     "metadata": {},
     "output_type": "execute_result"
    }
   ],
   "source": [
    "c = 2  # a scalar\n",
    "np.array_equal(c * (A + B), (c * A) + (c * B))"
   ]
  },
  {
   "cell_type": "markdown",
   "metadata": {},
   "source": [
    "Notice that using the `==` operator will compare the entries element-wise, and not the entire arrays at once:"
   ]
  },
  {
   "cell_type": "code",
   "execution_count": 14,
   "metadata": {},
   "outputs": [
    {
     "data": {
      "text/plain": [
       "array([[ True,  True,  True],\n",
       "       [ True,  True,  True]])"
      ]
     },
     "execution_count": 14,
     "metadata": {},
     "output_type": "execute_result"
    }
   ],
   "source": [
    "c * (A + B) == (c * A) + (c * B)"
   ]
  },
  {
   "cell_type": "markdown",
   "metadata": {},
   "source": [
    "**Associativity of matrix addition:** $\\mathbf{A} + (\\mathbf{B} + \\mathbf{C}) = (\\mathbf{A} + \\mathbf{B}) + \\mathbf{C}$"
   ]
  },
  {
   "cell_type": "code",
   "execution_count": 15,
   "metadata": {},
   "outputs": [
    {
     "data": {
      "text/plain": [
       "False"
      ]
     },
     "execution_count": 15,
     "metadata": {},
     "output_type": "execute_result"
    }
   ],
   "source": [
    "np.array_equal(A + (B + C), (A + B) + C)"
   ]
  },
  {
   "cell_type": "markdown",
   "metadata": {},
   "source": [
    "Wait, what?? Is linear algebra wrong??...\n",
    "\n",
    "Never! ;)"
   ]
  },
  {
   "cell_type": "code",
   "execution_count": 16,
   "metadata": {},
   "outputs": [
    {
     "data": {
      "text/plain": [
       "array([[-2.        , -0.9       , -1.        ],\n",
       "       [ 1.        ,  2.2       ,  3.41421356]])"
      ]
     },
     "execution_count": 16,
     "metadata": {},
     "output_type": "execute_result"
    }
   ],
   "source": [
    "A + (B + C)"
   ]
  },
  {
   "cell_type": "code",
   "execution_count": 17,
   "metadata": {
    "scrolled": true
   },
   "outputs": [
    {
     "data": {
      "text/plain": [
       "array([[-2.        , -0.9       , -1.        ],\n",
       "       [ 1.        ,  2.2       ,  3.41421356]])"
      ]
     },
     "execution_count": 17,
     "metadata": {},
     "output_type": "execute_result"
    }
   ],
   "source": [
    "(A + B) + C"
   ]
  },
  {
   "cell_type": "markdown",
   "metadata": {},
   "source": [
    "Both sides of the equality look the same, right?\n",
    "\n",
    "The problem is that, under the hood, NumPy is making some approximations on the value of the last element (computers don't have infinite memory to save all the decimal cases we need!). Let's first round all the elements to a lower number of decimal cases, using [`.round()`](https://numpy.org/doc/1.20/reference/generated/numpy.ndarray.round.html), prior to the comparison made by `numpy.array_equal`. This way we ensure we are comparing only up to a certain number of decimal cases.\n",
    "\n",
    "Let's check if this works:"
   ]
  },
  {
   "cell_type": "code",
   "execution_count": 18,
   "metadata": {},
   "outputs": [
    {
     "data": {
      "text/plain": [
       "True"
      ]
     },
     "execution_count": 18,
     "metadata": {},
     "output_type": "execute_result"
    }
   ],
   "source": [
    "np.array_equal((A + (B + C)).round(2), \n",
    "               ((A + B) + C).round(2))"
   ]
  },
  {
   "cell_type": "markdown",
   "metadata": {},
   "source": [
    "Ahh... normality restored."
   ]
  },
  {
   "cell_type": "markdown",
   "metadata": {},
   "source": [
    "#### 4.2.3 Transpose"
   ]
  },
  {
   "cell_type": "markdown",
   "metadata": {},
   "source": [
    "Because we represent matrices by 2D arrays (and not 1D arrays), we can use the attribute `.T` directly:"
   ]
  },
  {
   "cell_type": "code",
   "execution_count": 19,
   "metadata": {},
   "outputs": [
    {
     "name": "stdout",
     "output_type": "stream",
     "text": [
      "Matrix A:\n",
      " [[ 2.          0.1        -1.        ]\n",
      " [ 3.          0.2         1.41421356]]\n"
     ]
    }
   ],
   "source": [
    "print(\"Matrix A:\\n\", A)"
   ]
  },
  {
   "cell_type": "code",
   "execution_count": 20,
   "metadata": {
    "scrolled": true
   },
   "outputs": [
    {
     "data": {
      "text/plain": [
       "array([[ 2.        ,  3.        ],\n",
       "       [ 0.1       ,  0.2       ],\n",
       "       [-1.        ,  1.41421356]])"
      ]
     },
     "execution_count": 20,
     "metadata": {},
     "output_type": "execute_result"
    }
   ],
   "source": [
    "A_T = np.transpose(A)  # same as A.T\n",
    "A_T"
   ]
  },
  {
   "cell_type": "markdown",
   "metadata": {},
   "source": [
    "### 4.3 Accessing rows and columns in 2D arrays"
   ]
  },
  {
   "cell_type": "markdown",
   "metadata": {},
   "source": [
    "Remember learning how to index lists and lists of lists, slice pieces of lists and concatenate them together? Let's see how we can do this with 2D arrays."
   ]
  },
  {
   "cell_type": "markdown",
   "metadata": {},
   "source": [
    "#### 4.3.1 Indexing"
   ]
  },
  {
   "cell_type": "code",
   "execution_count": 21,
   "metadata": {},
   "outputs": [],
   "source": [
    "# 3x2 matrix represented as a list\n",
    "a_list = [[1, 2], [3, 4], [5, 6]]\n",
    "\n",
    "# the same 3x2 matrix represented by an array\n",
    "a_array = np.array([[1, 2], [3, 4], [5, 6]])"
   ]
  },
  {
   "cell_type": "code",
   "execution_count": 22,
   "metadata": {
    "scrolled": true
   },
   "outputs": [
    {
     "data": {
      "text/plain": [
       "[[1, 2], [3, 4], [5, 6]]"
      ]
     },
     "execution_count": 22,
     "metadata": {},
     "output_type": "execute_result"
    }
   ],
   "source": [
    "a_list"
   ]
  },
  {
   "cell_type": "code",
   "execution_count": 23,
   "metadata": {},
   "outputs": [
    {
     "data": {
      "text/plain": [
       "array([[1, 2],\n",
       "       [3, 4],\n",
       "       [5, 6]])"
      ]
     },
     "execution_count": 23,
     "metadata": {},
     "output_type": "execute_result"
    }
   ],
   "source": [
    "a_array"
   ]
  },
  {
   "cell_type": "code",
   "execution_count": 24,
   "metadata": {},
   "outputs": [
    {
     "data": {
      "text/plain": [
       "(3, 2)"
      ]
     },
     "execution_count": 24,
     "metadata": {},
     "output_type": "execute_result"
    }
   ],
   "source": [
    "a_array.shape"
   ]
  },
  {
   "cell_type": "markdown",
   "metadata": {},
   "source": [
    "**Select a single row**"
   ]
  },
  {
   "cell_type": "code",
   "execution_count": 25,
   "metadata": {},
   "outputs": [
    {
     "data": {
      "text/plain": [
       "[1, 2]"
      ]
     },
     "execution_count": 25,
     "metadata": {},
     "output_type": "execute_result"
    }
   ],
   "source": [
    "a_list[0]  # access first list (first row)"
   ]
  },
  {
   "cell_type": "code",
   "execution_count": 26,
   "metadata": {},
   "outputs": [
    {
     "data": {
      "text/plain": [
       "array([1, 2])"
      ]
     },
     "execution_count": 26,
     "metadata": {},
     "output_type": "execute_result"
    }
   ],
   "source": [
    "a_array[0]  # access first axis (first row)"
   ]
  },
  {
   "cell_type": "markdown",
   "metadata": {},
   "source": [
    "**Select a single element**"
   ]
  },
  {
   "cell_type": "markdown",
   "metadata": {},
   "source": [
    "a) using `[][]`"
   ]
  },
  {
   "cell_type": "markdown",
   "metadata": {},
   "source": [
    "Let's select the entry $a_{2,1}$ in our matrix (remember that in mathematical notation indexing starts at 1)."
   ]
  },
  {
   "cell_type": "code",
   "execution_count": 27,
   "metadata": {},
   "outputs": [
    {
     "data": {
      "text/plain": [
       "3"
      ]
     },
     "execution_count": 27,
     "metadata": {},
     "output_type": "execute_result"
    }
   ],
   "source": [
    "a_list[1][0]  # access first element of the second row (list)"
   ]
  },
  {
   "cell_type": "code",
   "execution_count": 28,
   "metadata": {},
   "outputs": [
    {
     "data": {
      "text/plain": [
       "3"
      ]
     },
     "execution_count": 28,
     "metadata": {},
     "output_type": "execute_result"
    }
   ],
   "source": [
    "a_array[1][0]  # access first element of the second row (numpy array) -- access rows on 1st axis, columns on 2nd axis"
   ]
  },
  {
   "cell_type": "markdown",
   "metadata": {},
   "source": [
    "b) using `[,]`"
   ]
  },
  {
   "cell_type": "markdown",
   "metadata": {},
   "source": [
    "The `ndarray` also supports another type of indexing, where we have one index per axis separated by commas (tuple):"
   ]
  },
  {
   "cell_type": "code",
   "execution_count": 29,
   "metadata": {},
   "outputs": [
    {
     "data": {
      "text/plain": [
       "3"
      ]
     },
     "execution_count": 29,
     "metadata": {},
     "output_type": "execute_result"
    }
   ],
   "source": [
    "a_array[1, 0]"
   ]
  },
  {
   "cell_type": "markdown",
   "metadata": {},
   "source": [
    "Notice that the same is not possible for Python lists:"
   ]
  },
  {
   "cell_type": "code",
   "execution_count": 30,
   "metadata": {},
   "outputs": [
    {
     "name": "stdout",
     "output_type": "stream",
     "text": [
      "TypeError: list indices must be integers or slices, not tuple\n"
     ]
    }
   ],
   "source": [
    "try:  \n",
    "    a_list[1, 0]\n",
    "except Exception as e: \n",
    "    print(\"TypeError:\", e)"
   ]
  },
  {
   "cell_type": "markdown",
   "metadata": {},
   "source": [
    "#### 4.3.2 Subsetting rows and columns"
   ]
  },
  {
   "cell_type": "markdown",
   "metadata": {},
   "source": [
    "Let's create a matrix called `b_array` below. We'll use [`numpy.arange()`](https://numpy.org/doc/1.20/reference/generated/numpy.arange.html), which allows us to create an array of evenly spaced values (just like we did before in the course, using `range()` and lists)."
   ]
  },
  {
   "cell_type": "code",
   "execution_count": 31,
   "metadata": {
    "scrolled": true
   },
   "outputs": [
    {
     "data": {
      "text/plain": [
       "array([[ 0,  1,  2,  3,  4],\n",
       "       [ 5,  6,  7,  8,  9],\n",
       "       [10, 11, 12, 13, 14],\n",
       "       [15, 16, 17, 18, 19],\n",
       "       [20, 21, 22, 23, 24]])"
      ]
     },
     "execution_count": 31,
     "metadata": {},
     "output_type": "execute_result"
    }
   ],
   "source": [
    "b_array = np.arange(0, 5*5).reshape(5, 5)  # (5x5) matrix with integer values from 0 to 24\n",
    "b_array"
   ]
  },
  {
   "cell_type": "markdown",
   "metadata": {},
   "source": [
    "Let's check the examples below of how we can subset rows and columns in 2D arrays:"
   ]
  },
  {
   "cell_type": "code",
   "execution_count": 32,
   "metadata": {
    "scrolled": true
   },
   "outputs": [
    {
     "data": {
      "text/plain": [
       "array([[15, 16, 17, 18, 19],\n",
       "       [20, 21, 22, 23, 24]])"
      ]
     },
     "execution_count": 32,
     "metadata": {},
     "output_type": "execute_result"
    }
   ],
   "source": [
    "b_array[3:]  # access rows starting at the fourth row"
   ]
  },
  {
   "cell_type": "code",
   "execution_count": 33,
   "metadata": {},
   "outputs": [
    {
     "data": {
      "text/plain": [
       "array([ 6, 11, 16, 21])"
      ]
     },
     "execution_count": 33,
     "metadata": {},
     "output_type": "execute_result"
    }
   ],
   "source": [
    "b_array[1:, 1]  # access second row and beyond, access second column"
   ]
  },
  {
   "cell_type": "markdown",
   "metadata": {},
   "source": [
    "Notice that the array now looks like a row, although in the initial matrix this piece of data belongs to the same column. Be careful how you interpret output dimensions when subsetting arrays."
   ]
  },
  {
   "cell_type": "markdown",
   "metadata": {},
   "source": [
    "Remember learning how to slice lists? It went something like:\n",
    "\n",
    "```Python\n",
    "a_list[start:stop:step]\n",
    "```"
   ]
  },
  {
   "cell_type": "markdown",
   "metadata": {},
   "source": [
    "We can apply the same principle to arrays, in each of the axis:"
   ]
  },
  {
   "cell_type": "code",
   "execution_count": 34,
   "metadata": {},
   "outputs": [
    {
     "data": {
      "text/plain": [
       "array([[ 0,  1,  2,  3,  4],\n",
       "       [ 5,  6,  7,  8,  9],\n",
       "       [10, 11, 12, 13, 14],\n",
       "       [15, 16, 17, 18, 19],\n",
       "       [20, 21, 22, 23, 24]])"
      ]
     },
     "execution_count": 34,
     "metadata": {},
     "output_type": "execute_result"
    }
   ],
   "source": [
    "b_array"
   ]
  },
  {
   "cell_type": "code",
   "execution_count": 35,
   "metadata": {},
   "outputs": [
    {
     "data": {
      "text/plain": [
       "array([[ 5,  6,  7,  8],\n",
       "       [10, 11, 12, 13],\n",
       "       [15, 16, 17, 18]])"
      ]
     },
     "execution_count": 35,
     "metadata": {},
     "output_type": "execute_result"
    }
   ],
   "source": [
    "b_array[\n",
    "    1:4,  # 1st axis: access rows from the second (index 1) until the fourth (index 3)\n",
    "    :-1  # 2nd axis: access all columns until last one (excluded)\n",
    "]  "
   ]
  },
  {
   "cell_type": "markdown",
   "metadata": {},
   "source": [
    "One more:"
   ]
  },
  {
   "cell_type": "code",
   "execution_count": 36,
   "metadata": {},
   "outputs": [
    {
     "data": {
      "text/plain": [
       "array([[13, 14],\n",
       "       [23, 24]])"
      ]
     },
     "execution_count": 36,
     "metadata": {},
     "output_type": "execute_result"
    }
   ],
   "source": [
    "b_array[\n",
    "    2:8:2, # 1st axis: access rows starting at 3rd row (index 2), and each 2nd row after that\n",
    "    3: # 2nd axis: access from the 4th column until the last\n",
    "]  "
   ]
  },
  {
   "cell_type": "markdown",
   "metadata": {},
   "source": [
    "#### 4.3.3 Concatenation"
   ]
  },
  {
   "cell_type": "markdown",
   "metadata": {},
   "source": [
    "We can concatenate numpy arrays along rows or columns, if their dimensions are compatible:"
   ]
  },
  {
   "cell_type": "code",
   "execution_count": 37,
   "metadata": {
    "scrolled": true
   },
   "outputs": [
    {
     "name": "stdout",
     "output_type": "stream",
     "text": [
      "Matrix A:\n",
      " [[1 2 3]\n",
      " [4 5 6]]\n",
      "Matrix B:\n",
      " [[ 7  8  9]\n",
      " [10 11 12]]\n"
     ]
    }
   ],
   "source": [
    "# create arrays of shape (2, 3)\n",
    "A = np.array([[1, 2, 3], [4, 5, 6]])\n",
    "B = np.array([[7, 8, 9], [10, 11, 12]])\n",
    "\n",
    "print(\"Matrix A:\\n\", A)\n",
    "print(\"Matrix B:\\n\", B)"
   ]
  },
  {
   "cell_type": "code",
   "execution_count": 38,
   "metadata": {},
   "outputs": [
    {
     "data": {
      "text/plain": [
       "array([[ 1,  2,  3],\n",
       "       [ 4,  5,  6],\n",
       "       [ 7,  8,  9],\n",
       "       [10, 11, 12]])"
      ]
     },
     "execution_count": 38,
     "metadata": {},
     "output_type": "execute_result"
    }
   ],
   "source": [
    "np.concatenate((A, B), axis = 0)  # concatenate along axis 0 (rows)"
   ]
  },
  {
   "cell_type": "code",
   "execution_count": 39,
   "metadata": {},
   "outputs": [
    {
     "data": {
      "text/plain": [
       "array([[ 1,  2,  3,  7,  8,  9],\n",
       "       [ 4,  5,  6, 10, 11, 12]])"
      ]
     },
     "execution_count": 39,
     "metadata": {},
     "output_type": "execute_result"
    }
   ],
   "source": [
    "np.concatenate((A, B), axis = 1)  # concatenate along axis 1 (columns)"
   ]
  },
  {
   "cell_type": "markdown",
   "metadata": {},
   "source": [
    "#### 4.3.4 Iterating through arrays"
   ]
  },
  {
   "cell_type": "markdown",
   "metadata": {},
   "source": [
    "You can iterate through the rows of a matrix (2D array):"
   ]
  },
  {
   "cell_type": "code",
   "execution_count": 40,
   "metadata": {
    "scrolled": false
   },
   "outputs": [
    {
     "name": "stdout",
     "output_type": "stream",
     "text": [
      "row 1: [0.  0.2 0.4]\n",
      "row 2: [0.6 0.8 1. ]\n"
     ]
    }
   ],
   "source": [
    "a = np.array([[.0, .2, .4], [.6, .8, 1.]])\n",
    "i = 1\n",
    "for row in a:\n",
    "    print(f\"row {i}: {row}\")\n",
    "    i+=1"
   ]
  },
  {
   "cell_type": "markdown",
   "metadata": {},
   "source": [
    "### 4.4 Boolean indexing"
   ]
  },
  {
   "cell_type": "markdown",
   "metadata": {},
   "source": [
    "This is the last topic on this notebook, but don't rush it, it's a very useful one.\n",
    "\n",
    "Instead of explicitly telling NumPy which indexes you want to access in an array, you might wish to select parts of an array based on a condition. For that you can use a boolean expression.\n",
    "\n",
    "For example, consider the following 2D array representing a matrix of size $2\\times 3$:"
   ]
  },
  {
   "cell_type": "code",
   "execution_count": 41,
   "metadata": {},
   "outputs": [
    {
     "data": {
      "text/plain": [
       "(2, 3)"
      ]
     },
     "execution_count": 41,
     "metadata": {},
     "output_type": "execute_result"
    }
   ],
   "source": [
    "a = np.array([[-1, -.5, 0.2],\n",
    "              [.5, 1, 1.5]])\n",
    "a.shape"
   ]
  },
  {
   "cell_type": "markdown",
   "metadata": {},
   "source": [
    "Let's say I want to **filter** (keep only) the entries **where the condition $a_{i,j} > 0$ is met**. You can do it in the following manner:"
   ]
  },
  {
   "cell_type": "code",
   "execution_count": 42,
   "metadata": {},
   "outputs": [
    {
     "data": {
      "text/plain": [
       "array([0.2, 0.5, 1. , 1.5])"
      ]
     },
     "execution_count": 42,
     "metadata": {},
     "output_type": "execute_result"
    }
   ],
   "source": [
    "a_positives = a[a > 0]\n",
    "a_positives"
   ]
  },
  {
   "cell_type": "code",
   "execution_count": 43,
   "metadata": {},
   "outputs": [
    {
     "data": {
      "text/plain": [
       "array([[False, False,  True],\n",
       "       [ True,  True,  True]])"
      ]
     },
     "execution_count": 43,
     "metadata": {},
     "output_type": "execute_result"
    }
   ],
   "source": [
    "a > 0 # this is the boolean mask we used above"
   ]
  },
  {
   "cell_type": "code",
   "execution_count": 44,
   "metadata": {},
   "outputs": [
    {
     "data": {
      "text/plain": [
       "(4,)"
      ]
     },
     "execution_count": 44,
     "metadata": {},
     "output_type": "execute_result"
    }
   ],
   "source": [
    "a_positives.shape"
   ]
  },
  {
   "cell_type": "markdown",
   "metadata": {},
   "source": [
    "❗ Notice the output is a 1D array with the elements that meet the condition `> 0`, it no longer has the shape and dimension of `a`."
   ]
  },
  {
   "cell_type": "markdown",
   "metadata": {},
   "source": [
    "Also, the expression ``a>0`` is itself an array, more specifically, a **boolean array** or **boolean mask**, where the elements are `True` where the condition holds and `False` otherwise:"
   ]
  },
  {
   "cell_type": "code",
   "execution_count": 45,
   "metadata": {},
   "outputs": [
    {
     "data": {
      "text/plain": [
       "array([[False, False,  True],\n",
       "       [ True,  True,  True]])"
      ]
     },
     "execution_count": 45,
     "metadata": {},
     "output_type": "execute_result"
    }
   ],
   "source": [
    "a_bool = a > 0\n",
    "a_bool"
   ]
  },
  {
   "cell_type": "markdown",
   "metadata": {},
   "source": [
    "Using `.dtype` we can confirm the type of this array:"
   ]
  },
  {
   "cell_type": "code",
   "execution_count": 46,
   "metadata": {},
   "outputs": [
    {
     "data": {
      "text/plain": [
       "dtype('bool')"
      ]
     },
     "execution_count": 46,
     "metadata": {},
     "output_type": "execute_result"
    }
   ],
   "source": [
    "a_bool.dtype"
   ]
  },
  {
   "cell_type": "markdown",
   "metadata": {},
   "source": [
    "Can you use the mask above on another array?... Yes!"
   ]
  },
  {
   "cell_type": "code",
   "execution_count": 47,
   "metadata": {},
   "outputs": [
    {
     "data": {
      "text/plain": [
       "array([2, 3, 4, 5])"
      ]
     },
     "execution_count": 47,
     "metadata": {},
     "output_type": "execute_result"
    }
   ],
   "source": [
    "b = np.array([[0, 1, 2],\n",
    "              [3, 4, 5]])\n",
    "b[a_bool]"
   ]
  },
  {
   "cell_type": "markdown",
   "metadata": {},
   "source": [
    "Note that this **won't** filter by the positive values in `b` (which would be all the elements above zero), but instead by the corresponding positions where values in `a` were positive.\n",
    "\n",
    "What happens if we use `a_bool` with an array of different shape?"
   ]
  },
  {
   "cell_type": "code",
   "execution_count": 48,
   "metadata": {},
   "outputs": [
    {
     "name": "stdout",
     "output_type": "stream",
     "text": [
      "IndexError: boolean index did not match indexed array along dimension 1; dimension is 4 but corresponding boolean dimension is 3\n"
     ]
    }
   ],
   "source": [
    "# 2D array representing a 2x4 matrix\n",
    "c = np.array([[0, 1, 2, 6],\n",
    "              [3, 4, 5, 7]])\n",
    "\n",
    "# you learned about exceptions in SLU11!! ;)\n",
    "try:\n",
    "    c[a_bool]\n",
    "except Exception as e: \n",
    "    print(\"IndexError:\", e)"
   ]
  },
  {
   "cell_type": "markdown",
   "metadata": {},
   "source": [
    "**The `~` operator**"
   ]
  },
  {
   "cell_type": "markdown",
   "metadata": {},
   "source": [
    "Consider the following array:"
   ]
  },
  {
   "cell_type": "code",
   "execution_count": 49,
   "metadata": {},
   "outputs": [
    {
     "data": {
      "text/plain": [
       "array([[-1, -2, -3, -4],\n",
       "       [ 1,  2,  3,  4]])"
      ]
     },
     "execution_count": 49,
     "metadata": {},
     "output_type": "execute_result"
    }
   ],
   "source": [
    "d = np.array([[-1, -2, -3, -4], \n",
    "              [1, 2, 3, 4]])\n",
    "d"
   ]
  },
  {
   "cell_type": "markdown",
   "metadata": {},
   "source": [
    "We could create a mask to filter all elements that are bigger than zero:"
   ]
  },
  {
   "cell_type": "code",
   "execution_count": 50,
   "metadata": {},
   "outputs": [
    {
     "data": {
      "text/plain": [
       "array([[False, False, False, False],\n",
       "       [ True,  True,  True,  True]])"
      ]
     },
     "execution_count": 50,
     "metadata": {},
     "output_type": "execute_result"
    }
   ],
   "source": [
    "d > 0"
   ]
  },
  {
   "cell_type": "markdown",
   "metadata": {},
   "source": [
    "To create the reverse mask, this is, a mask where the condition `d > 0` is **not** true, we can use the negation operator, `~`:"
   ]
  },
  {
   "cell_type": "code",
   "execution_count": 51,
   "metadata": {},
   "outputs": [
    {
     "data": {
      "text/plain": [
       "array([[ True,  True,  True,  True],\n",
       "       [False, False, False, False]])"
      ]
     },
     "execution_count": 51,
     "metadata": {},
     "output_type": "execute_result"
    }
   ],
   "source": [
    "~(d > 0)"
   ]
  },
  {
   "cell_type": "markdown",
   "metadata": {},
   "source": [
    "Note that `~(d > 0)` is the same as `d <= 0`:"
   ]
  },
  {
   "cell_type": "code",
   "execution_count": 52,
   "metadata": {},
   "outputs": [
    {
     "data": {
      "text/plain": [
       "array([[ True,  True,  True,  True],\n",
       "       [False, False, False, False]])"
      ]
     },
     "execution_count": 52,
     "metadata": {},
     "output_type": "execute_result"
    }
   ],
   "source": [
    "d <= 0"
   ]
  },
  {
   "cell_type": "code",
   "execution_count": 53,
   "metadata": {},
   "outputs": [
    {
     "name": "stdout",
     "output_type": "stream",
     "text": [
      "d[d>0] =  [1 2 3 4]\n"
     ]
    }
   ],
   "source": [
    "print(\"d[d>0] = \", d[d>0])"
   ]
  },
  {
   "cell_type": "code",
   "execution_count": 54,
   "metadata": {},
   "outputs": [
    {
     "name": "stdout",
     "output_type": "stream",
     "text": [
      "d[~(d>0)] =  [-1 -2 -3 -4]\n"
     ]
    }
   ],
   "source": [
    "print(\"d[~(d>0)] = \", d[~(d>0)])"
   ]
  },
  {
   "cell_type": "code",
   "execution_count": 55,
   "metadata": {},
   "outputs": [
    {
     "name": "stdout",
     "output_type": "stream",
     "text": [
      "d[d<=0] =  [-1 -2 -3 -4]\n"
     ]
    }
   ],
   "source": [
    "print(\"d[d<=0] = \", d[d<=0])"
   ]
  },
  {
   "cell_type": "markdown",
   "metadata": {},
   "source": [
    "### 4.5 Copying numpy arrays"
   ]
  },
  {
   "cell_type": "markdown",
   "metadata": {},
   "source": [
    "Just like you learned in past SLUs for other data structures, you should use the `.copy()` method when you want to copy arrays:\n",
    "\n",
    "**Correct way:**\n",
    "\n",
    "```Python\n",
    "a = np.array([[1], [2]])\n",
    "b = a.copy()  # GOOD PRACTICE\n",
    "```\n",
    "\n",
    "**Wrong way:**\n",
    "\n",
    "```Python\n",
    "a = np.array([[1], [2]])\n",
    "b = a  # BAD PRACTICE\n",
    "```"
   ]
  },
  {
   "cell_type": "markdown",
   "metadata": {},
   "source": [
    "---"
   ]
  },
  {
   "cell_type": "markdown",
   "metadata": {},
   "source": [
    "## Wrapping up"
   ]
  },
  {
   "cell_type": "markdown",
   "metadata": {},
   "source": [
    "What we've learned so far:\n",
    "- what are vectors, their properties, linear combinations and linear independence;\n",
    "- what are matrices, special matrices, transpose, adding matrices and multiplying by scalars;\n",
    "- how to use NumPy to create and manipulate 1D and 2D arrays, and perform basic linear algebra operations on vectors and matrices;\n",
    "- indexing NumPy arrays."
   ]
  },
  {
   "cell_type": "markdown",
   "metadata": {},
   "source": [
    "---"
   ]
  },
  {
   "cell_type": "markdown",
   "metadata": {},
   "source": [
    "\n",
    "\n",
    "At this moment, you might still be asking yourself how all these vector and matrix operations will actually translate into real problems in data science. Worry not. It's all going to become clear pretty soon, as we dive into matrix multiplication and systems of linear equations.\n",
    "\n",
    "The good thing is that, if you took your time with Learning Notebooks 1 and 2, you know all you need to know to understand the concepts in SLU13.\n",
    "\n",
    "Maths is just like neurons... *Use it or lose it.* So **go go go to the Exercise Notebook**!!"
   ]
  },
  {
   "cell_type": "markdown",
   "metadata": {},
   "source": [
    "---"
   ]
  },
  {
   "cell_type": "markdown",
   "metadata": {},
   "source": [
    "### Resources on Linear Algebra:\n",
    "\n",
    "- [**3Blue1Brown**](https://www.youtube.com/watch?v=fNk_zzaMoSs&list=PLZHQObOWTQDPD3MizzM2xVFitgF8hE_ab);\n",
    "\n",
    "- [**YouTube Playlist for MIT 18.06SC Linear Algebra, Fall 2011**](https://www.youtube.com/watch?v=7UJ4CFRGd-U&list=PL221E2BBF13BECF6C).\n",
    "\n",
    "\n",
    "### Resources on NumPy:\n",
    "\n",
    "* [**NumPy v1.20.0 Quickstart tutorial**](https://numpy.org/doc/1.20/user/quickstart.html);\n",
    "\n",
    "* [**Python Numpy @ GeeksforGeeks**](https://www.geeksforgeeks.org/python-numpy/);\n",
    "\n",
    "* [**Slicing and Advanced Indexing @ GeeksforGeeks**](https://www.geeksforgeeks.org/indexing-in-numpy/);\n",
    "\n",
    "* [**Integer and Boolean Indexing @ TutorialsPoint**](https://www.tutorialspoint.com/numpy/numpy_advanced_indexing.htm)."
   ]
  },
  {
   "cell_type": "markdown",
   "metadata": {},
   "source": [
    "---"
   ]
  },
  {
   "cell_type": "markdown",
   "metadata": {},
   "source": [
    "<img src=\"./media/enough_is_enough.gif\"/>"
   ]
  },
  {
   "cell_type": "markdown",
   "metadata": {},
   "source": [
    "---"
   ]
  }
 ],
 "metadata": {
  "kernelspec": {
   "display_name": "Python 3",
   "language": "python",
   "name": "python3"
  },
  "language_info": {
   "codemirror_mode": {
    "name": "ipython",
    "version": 3
   },
   "file_extension": ".py",
   "mimetype": "text/x-python",
   "name": "python",
   "nbconvert_exporter": "python",
   "pygments_lexer": "ipython3",
   "version": "3.7.5"
  }
 },
 "nbformat": 4,
 "nbformat_minor": 4
}
