{
 "cells": [
  {
   "cell_type": "markdown",
   "id": "11748863",
   "metadata": {},
   "source": [
    "# SLU 17 - Exam Prep I\n",
    "\n",
    "The main goal of this SLU is for you to do these exercises like if they were the entry exam.\n",
    "\n",
    "You can solve the exam just like the exercise notebooks from the previous SLUs, with the exception that you **shouldn't** submit it to the Portal. These exercises are optional yet recommended.\n",
    "\n",
    "So set a timer, place your pets at a safe distance and get started! \n",
    "\n",
    "Some tips:\n",
    "\n",
    "- Most exercises are independent from each other (exception for exercise 7.2 from batch 1 - wave 1 that depends on 7.1) so you can do them in any order that you want. If you are stuck, continue with the other exercises and then resume.\n",
    "- Read the instructions carefully. Understand what the expected input and output are.\n",
    "- Use the debugging techniques that you learned;\n",
    "- If necessary, break your code into small chunks;\n",
    "- No exercise will need you to know anything that we didn't talk during the prep course. As long as you've done the exercises and studied the materials, you should be able to pass the exam;\n",
    "- That said, you may have forgotten something from the prep course. It's ok. You can use a search engine to find a particular topic that you forgotten instead of searching on the SLUs. You won't have much time for browsing though. \n",
    "- Stay calm. Sometimes nerves hit hard. Focus on each exercise and remember what you learned on the prep course;\n",
    "- After completing each exercise notebook, review any topic that you might have struggled a bit. \n",
    "\n",
    "As always, you can ask questions on Slack.\n",
    "\n",
    "Happy testing!"
   ]
  }
 ],
 "metadata": {
  "kernelspec": {
   "display_name": "Python 3",
   "language": "python",
   "name": "python3"
  },
  "language_info": {
   "codemirror_mode": {
    "name": "ipython",
    "version": 3
   },
   "file_extension": ".py",
   "mimetype": "text/x-python",
   "name": "python",
   "nbconvert_exporter": "python",
   "pygments_lexer": "ipython3",
   "version": "3.7.5"
  }
 },
 "nbformat": 4,
 "nbformat_minor": 5
}
