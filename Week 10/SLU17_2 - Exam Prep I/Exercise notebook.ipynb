{
 "cells": [
  {
   "cell_type": "markdown",
   "id": "52dca09a",
   "metadata": {
    "deletable": false,
    "editable": false,
    "nbgrader": {
     "grade": false,
     "grade_id": "cell-df74a5add3f53d1b",
     "locked": true,
     "schema_version": 3,
     "solution": false,
     "task": false
    }
   },
   "source": [
    "# SLU 17 - Exam Prep I\n",
    "\n",
    "## Batch 2 - Wave 1 Python Exam \n",
    "This is the Python exam from batch 2 - wave 1. Exam Duration: 2h"
   ]
  },
  {
   "cell_type": "code",
   "execution_count": null,
   "id": "3c9418c4",
   "metadata": {
    "deletable": false,
    "editable": false,
    "nbgrader": {
     "grade": false,
     "grade_id": "cell-52e4242812257e1e",
     "locked": true,
     "schema_version": 3,
     "solution": false,
     "task": false
    }
   },
   "outputs": [],
   "source": [
    "from operator import itemgetter\n",
    "#used for evaluation\n",
    "import utils"
   ]
  },
  {
   "cell_type": "markdown",
   "id": "0e90af67",
   "metadata": {
    "deletable": false,
    "editable": false,
    "nbgrader": {
     "grade": false,
     "grade_id": "cell-66ee0c43b637f40a",
     "locked": true,
     "schema_version": 3,
     "solution": false,
     "task": false
    }
   },
   "source": [
    "## Question 1\n",
    "\n",
    "If you took a look at the dataset, you may have noticed that some of the numeric values are \"polluted\" with characters.\n",
    "\n",
    "In this task you'll have to write a function, `clean_percentage`, that should do the following:\n",
    "\n",
    "- Receive as argument a list of dictionaries;\n",
    " - Each of the dictionaries keeps the % of female students in higher education per area, for a specific year;\n",
    "- Remove all the characters and spaces from the numeric values;\n",
    "- Return the cleaned data;\n",
    "\n",
    "Hint: mind the naughty (R)'s :)"
   ]
  },
  {
   "cell_type": "code",
   "execution_count": null,
   "id": "e817d8b8",
   "metadata": {
    "deletable": false,
    "nbgrader": {
     "grade": false,
     "grade_id": "cell-c7177b04bd669cff",
     "locked": false,
     "schema_version": 3,
     "solution": true,
     "task": false
    }
   },
   "outputs": [],
   "source": [
    "def clean_percentage(data):\n",
    "    # YOUR CODE HERE\n",
    "    raise NotImplementedError()"
   ]
  },
  {
   "cell_type": "code",
   "execution_count": null,
   "id": "42c32b01",
   "metadata": {
    "deletable": false,
    "editable": false,
    "nbgrader": {
     "grade": true,
     "grade_id": "cell-18bc7007043d3ec2",
     "locked": true,
     "points": 3,
     "schema_version": 3,
     "solution": false,
     "task": false
    }
   },
   "outputs": [],
   "source": [
    "utils.b2w1_exerc_1_grading(clean_percentage)\n",
    "print(\"Answer is correct. Good Job.\")"
   ]
  },
  {
   "cell_type": "markdown",
   "id": "eebfc7c0",
   "metadata": {
    "deletable": false,
    "editable": false,
    "nbgrader": {
     "grade": false,
     "grade_id": "cell-b34786a73a2f945a",
     "locked": true,
     "schema_version": 3,
     "solution": false,
     "task": false
    }
   },
   "source": [
    "## Question 2\n",
    "\n",
    "In this task, we want to clean the names of the education areas, so they are all lower case and without white spaces.\n",
    "\n",
    "For instance, Social Sciences, Management and Law should become social_sciences_management_and_law.\n",
    "\n",
    "So you'll have to write two functions.\n",
    "\n",
    "The first function, `clean_header_string`, should do the following:\n",
    "\n",
    "- Receive a string as input;\n",
    "- Remove all the commas from the string;\n",
    "- Replace the white spaces in the string with underscores;\n",
    "- Convert the string to lower case;\n",
    "- Return the transformed string;\n",
    "\n",
    "The second function, `clean_header`, should do the following:\n",
    "\n",
    "- Receive as input, a list of dictionaries, similar to the one in the last question;\n",
    "- Use the first function to transform the education area names;\n",
    "- Return the transformed data;\n"
   ]
  },
  {
   "cell_type": "code",
   "execution_count": null,
   "id": "e626ff00",
   "metadata": {
    "deletable": false,
    "nbgrader": {
     "grade": false,
     "grade_id": "cell-a11732fd19b01c68",
     "locked": false,
     "schema_version": 3,
     "solution": true,
     "task": false
    }
   },
   "outputs": [],
   "source": [
    "def clean_header_string(string):\n",
    "    # YOUR CODE HERE\n",
    "    raise NotImplementedError()\n",
    "\n",
    "def clean_header(d):\n",
    "    # YOUR CODE HERE\n",
    "    raise NotImplementedError()"
   ]
  },
  {
   "cell_type": "code",
   "execution_count": null,
   "id": "18ff789d",
   "metadata": {
    "deletable": false,
    "editable": false,
    "nbgrader": {
     "grade": true,
     "grade_id": "cell-d7215a1617be8293",
     "locked": true,
     "points": 3,
     "schema_version": 3,
     "solution": false,
     "task": false
    }
   },
   "outputs": [],
   "source": [
    "utils.b2w1_exerc_2_grading(clean_header_string, clean_header)\n",
    "print(\"Answer is correct. Good Job.\")"
   ]
  },
  {
   "cell_type": "markdown",
   "id": "0959ba5e",
   "metadata": {
    "deletable": false,
    "editable": false,
    "nbgrader": {
     "grade": false,
     "grade_id": "cell-a30d898709fe64cb",
     "locked": true,
     "schema_version": 3,
     "solution": false,
     "task": false
    }
   },
   "source": [
    "## Question 3\n",
    "\n",
    "In this task, we want to convert our data to the right data types.\n",
    "\n",
    "For this you'll have to write two functions.\n",
    "\n",
    "\n",
    "The first function, `commas`, should do the following:\n",
    "\n",
    "- Receive as input a list of dictionaries, similar to the previous questions;\n",
    "- Replace the commas with dots in the numeric values;\n",
    "- Return the transformed data;\n",
    "\n",
    "\n",
    "The second function `data_types` should do the following:\n",
    "\n",
    "- Receive as input a list of dictionaries (specifically the one returned by the first function);\n",
    "- Convert the year values to integer;\n",
    "- Convert the % of female students values to float;\n",
    "- Return the transformed data;"
   ]
  },
  {
   "cell_type": "code",
   "execution_count": null,
   "id": "3cd9b0d0",
   "metadata": {
    "deletable": false,
    "nbgrader": {
     "grade": false,
     "grade_id": "cell-76ca0448c5209f19",
     "locked": false,
     "schema_version": 3,
     "solution": true,
     "task": false
    }
   },
   "outputs": [],
   "source": [
    "def commas(d):\n",
    "    # YOUR CODE HERE\n",
    "    raise NotImplementedError()\n",
    "\n",
    "\n",
    "def data_types(d):\n",
    "    # YOUR CODE HERE\n",
    "    raise NotImplementedError()"
   ]
  },
  {
   "cell_type": "code",
   "execution_count": null,
   "id": "3a35a831",
   "metadata": {
    "deletable": false,
    "editable": false,
    "nbgrader": {
     "grade": true,
     "grade_id": "cell-c0f514108d4869b2",
     "locked": true,
     "points": 3,
     "schema_version": 3,
     "solution": false,
     "task": false
    }
   },
   "outputs": [],
   "source": [
    "utils.b2w1_exerc_3_grading(commas, data_types)\n",
    "print(\"Answer is correct. Good Job.\")"
   ]
  },
  {
   "cell_type": "markdown",
   "id": "4f27c7e4",
   "metadata": {
    "deletable": false,
    "editable": false,
    "nbgrader": {
     "grade": false,
     "grade_id": "cell-0fe3da9f60ca4159",
     "locked": true,
     "schema_version": 3,
     "solution": false,
     "task": false
    }
   },
   "source": [
    "## Question 4\n",
    "\n",
    "In this task, we want to focus on data about a specific education area.\n",
    "\n",
    "So you'll have to write a function, `education_years`  that should do the following:\n",
    "\n",
    "- Receive as input a list of dictionaries (similar to the ones of the previous questions), and an education area (string);\n",
    "- Return a list of tuples where the first value of the tuple is the year and the second value is the % of females in the given education area;\n",
    "\n",
    "In this task you're required to use the following:\n",
    "\n",
    "- `map` function;\n",
    "- `lambda` function;"
   ]
  },
  {
   "cell_type": "code",
   "execution_count": null,
   "id": "bb5e38db",
   "metadata": {
    "deletable": false,
    "nbgrader": {
     "grade": false,
     "grade_id": "cell-0546a2b6445fd75b",
     "locked": false,
     "schema_version": 3,
     "solution": true,
     "task": false
    }
   },
   "outputs": [],
   "source": [
    "def education_years(data, education_area):\n",
    "    # YOUR CODE HERE\n",
    "    raise NotImplementedError()"
   ]
  },
  {
   "cell_type": "code",
   "execution_count": null,
   "id": "78f77253",
   "metadata": {
    "deletable": false,
    "editable": false,
    "nbgrader": {
     "grade": true,
     "grade_id": "cell-0bf157ce02b1b085",
     "locked": true,
     "points": 3,
     "schema_version": 3,
     "solution": false,
     "task": false
    }
   },
   "outputs": [],
   "source": [
    "utils.b2w1_exerc_4_grading(education_years)\n",
    "print(\"Answer is correct. Good Job.\")"
   ]
  },
  {
   "cell_type": "markdown",
   "id": "044353ab",
   "metadata": {
    "deletable": false,
    "editable": false,
    "nbgrader": {
     "grade": false,
     "grade_id": "cell-f4688b863f0cefa1",
     "locked": true,
     "schema_version": 3,
     "solution": false,
     "task": false
    }
   },
   "source": [
    "## Question 5\n",
    "\n",
    "In this task, for a certain education area, we want to understand what were the years where more females were enrolled in higher education.\n",
    "\n",
    "So you'll have to write a function named `female_enrolled` that should do the following:\n",
    "\n",
    "- Receive as input a list of tuples with year and % of females (like the output of last task) and a threshold;\n",
    "- Filter **out** all the tuples that correspond to a % of females strictly below the threshold;\n",
    "- Sort the remaining tuples from higher to lower % of females;\n",
    "- Return the resulting list of tuples;\n",
    "\n",
    "In this task you're required to use the following:\n",
    "\n",
    "- `sorted` function\n",
    "\n",
    "Hint: `itemgetter` may be handy"
   ]
  },
  {
   "cell_type": "code",
   "execution_count": null,
   "id": "e296df28",
   "metadata": {
    "deletable": false,
    "nbgrader": {
     "grade": false,
     "grade_id": "cell-3c339e619872e065",
     "locked": false,
     "schema_version": 3,
     "solution": true,
     "task": false
    }
   },
   "outputs": [],
   "source": [
    "def female_enrolled(data, threshold):\n",
    "    # YOUR CODE HERE\n",
    "    raise NotImplementedError()"
   ]
  },
  {
   "cell_type": "code",
   "execution_count": null,
   "id": "a1f4c12e",
   "metadata": {
    "deletable": false,
    "editable": false,
    "nbgrader": {
     "grade": true,
     "grade_id": "cell-30f67a7608d49607",
     "locked": true,
     "points": 3,
     "schema_version": 3,
     "solution": false,
     "task": false
    }
   },
   "outputs": [],
   "source": [
    "utils.b2w1_exerc_5_grading(female_enrolled, 58.1)\n",
    "print(\"Answer is correct. Good Job.\")"
   ]
  },
  {
   "cell_type": "markdown",
   "id": "a907de75",
   "metadata": {
    "deletable": false,
    "editable": false,
    "nbgrader": {
     "grade": false,
     "grade_id": "cell-4e2ed886a93db595",
     "locked": true,
     "schema_version": 3,
     "solution": false,
     "task": false
    }
   },
   "source": [
    "## Question 6\n",
    "\n",
    "In this task we'll create a class to play the lottery!\n",
    "\n",
    "First, get to know the `raffle_key`. The `raffle_key` is a dictionary, associating ticket numbers with prizes. All the numbers that are not in the raffle_key won't get any prize."
   ]
  },
  {
   "cell_type": "code",
   "execution_count": null,
   "id": "4df674a2",
   "metadata": {
    "deletable": false,
    "editable": false,
    "nbgrader": {
     "grade": false,
     "grade_id": "cell-d0b08a13b58b5344",
     "locked": true,
     "schema_version": 3,
     "solution": false,
     "task": false
    }
   },
   "outputs": [],
   "source": [
    "raffle_key = {1:\"10 euros\", 5:\"100 euros\", 9:\"40 euros\"}"
   ]
  },
  {
   "cell_type": "markdown",
   "id": "00e89421",
   "metadata": {
    "deletable": false,
    "editable": false,
    "nbgrader": {
     "grade": false,
     "grade_id": "cell-4c99e5f250875271",
     "locked": true,
     "schema_version": 3,
     "solution": false,
     "task": false
    }
   },
   "source": [
    "### Step 1:\n",
    "\n",
    "- Create a `Lottery` class that takes one constructor parameter called `raffle_key`;\n",
    "- In the `Lottery` class create a method named _get_lucky_ that receives the lucky_number as parameter;\n",
    "    and returns the strings \"{X} euros\" or \"Better luck next time!\", depending on the presence of the lucky number in the raffle key;\n",
    "- In our example above, our lucky number 9 corresponds to the response string \"40 euros\"\n",
    "    if in some case we get a lucky number that doesn't exist in the raffle key, we should print out \"Better luck next time!\";\n",
    "\n",
    "\n",
    "### Step 2:\n",
    "\n",
    "- Instantiate the `Lottery` class with name `simple_lottery` and with the given raffle key;\n",
    "- Call the method `get_lucky` with the given lucky number and print out the result;\n",
    "\n",
    "\n",
    "In this task you're required to use the following:\n",
    "\n",
    "- `try/except` statements;\n"
   ]
  },
  {
   "cell_type": "code",
   "execution_count": null,
   "id": "638f596d",
   "metadata": {
    "deletable": false,
    "nbgrader": {
     "grade": false,
     "grade_id": "cell-dc8077515454abe0",
     "locked": false,
     "schema_version": 3,
     "solution": true,
     "task": false
    }
   },
   "outputs": [],
   "source": [
    "class Lottery():\n",
    "# YOUR CODE HERE\n",
    "raise NotImplementedError()"
   ]
  },
  {
   "cell_type": "code",
   "execution_count": null,
   "id": "3b7211fd",
   "metadata": {
    "deletable": false,
    "editable": false,
    "nbgrader": {
     "grade": true,
     "grade_id": "cell-96c7d9be71562f8a",
     "locked": true,
     "points": 5,
     "schema_version": 3,
     "solution": false,
     "task": false
    }
   },
   "outputs": [],
   "source": [
    "utils.b2w1_exerc_6_grading(Lottery, simple_lottery, raffle_key)\n",
    "print(\"Answer is correct. Good Job.\")"
   ]
  },
  {
   "cell_type": "markdown",
   "id": "fe21f88a",
   "metadata": {
    "deletable": false,
    "editable": false,
    "nbgrader": {
     "grade": false,
     "grade_id": "cell-548e6a602825ecb1",
     "locked": true,
     "schema_version": 3,
     "solution": false,
     "task": false
    }
   },
   "source": [
    "### Last but not least, submit your work!"
   ]
  },
  {
   "cell_type": "markdown",
   "id": "ced1f474",
   "metadata": {
    "deletable": false,
    "editable": false,
    "nbgrader": {
     "grade": false,
     "grade_id": "cell-29e55a07086c6d0f",
     "locked": true,
     "schema_version": 3,
     "solution": false,
     "task": false
    }
   },
   "source": [
    "To submit your work, fill your slack ID in the `slack_id` variable (as a string).\n",
    "\n",
    "Example: `slack_id = \"x-men\"`\n",
    "\n",
    "Help: if you forgot your slack ID, [read this](https://moshfeu.medium.com/how-to-find-my-member-id-in-slack-workspace-d4bba942e38c)."
   ]
  },
  {
   "cell_type": "code",
   "execution_count": null,
   "id": "cadf72c0",
   "metadata": {
    "deletable": false,
    "nbgrader": {
     "grade": false,
     "grade_id": "cell-140bf2d2262ef46e",
     "locked": false,
     "schema_version": 3,
     "solution": true,
     "task": false
    }
   },
   "outputs": [],
   "source": [
    "# Submit your work!\n",
    "\n",
    "#slack_id = \n",
    "\n",
    "# YOUR CODE HERE\n",
    "raise NotImplementedError()"
   ]
  },
  {
   "cell_type": "code",
   "execution_count": null,
   "id": "e21dbe15",
   "metadata": {
    "deletable": false,
    "editable": false,
    "nbgrader": {
     "grade": true,
     "grade_id": "cell-570d9013454a9e37",
     "locked": true,
     "points": 0,
     "schema_version": 3,
     "solution": false,
     "task": false
    }
   },
   "outputs": [],
   "source": [
    "from submit import submit\n",
    "assert isinstance(slack_id, str)\n",
    "\n",
    "slu = 17_2\n",
    "submit(slack_id, slu)"
   ]
  }
 ],
 "metadata": {
  "kernelspec": {
   "display_name": "Python 3",
   "language": "python",
   "name": "python3"
  },
  "language_info": {
   "codemirror_mode": {
    "name": "ipython",
    "version": 3
   },
   "file_extension": ".py",
   "mimetype": "text/x-python",
   "name": "python",
   "nbconvert_exporter": "python",
   "pygments_lexer": "ipython3",
   "version": "3.7.5"
  }
 },
 "nbformat": 4,
 "nbformat_minor": 5
}
