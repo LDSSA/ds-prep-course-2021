{
 "cells": [
  {
   "cell_type": "markdown",
   "id": "6acba9ea",
   "metadata": {
    "deletable": false,
    "editable": false,
    "nbgrader": {
     "grade": false,
     "grade_id": "cell-e0aac38c435b1848",
     "locked": true,
     "schema_version": 3,
     "solution": false,
     "task": false
    }
   },
   "source": [
    "# SLU 17 - Exam Prep I\n",
    "\n",
    "## Batch 1 Python Exam \n",
    "This is the Python exam from batch 1. Exam Duration: 2h"
   ]
  },
  {
   "cell_type": "code",
   "execution_count": null,
   "id": "8dbc4c7a",
   "metadata": {
    "deletable": false,
    "editable": false,
    "nbgrader": {
     "grade": false,
     "grade_id": "cell-166e313b0a87ae52",
     "locked": true,
     "schema_version": 3,
     "solution": false,
     "task": false
    }
   },
   "outputs": [],
   "source": [
    "import json\n",
    "#used for evaluation\n",
    "import utils"
   ]
  },
  {
   "cell_type": "markdown",
   "id": "4beeae5d",
   "metadata": {
    "deletable": false,
    "editable": false,
    "nbgrader": {
     "grade": false,
     "grade_id": "cell-a975e4b911fae698",
     "locked": true,
     "schema_version": 3,
     "solution": false,
     "task": false
    }
   },
   "source": [
    "## Question 1\n",
    "\n",
    "Complete the function `import_data`. This function should:\n",
    "- Open the data/countries.json file;\n",
    "- Use Python’s module json to load the data from the file into a dictionary;\n",
    "- Return the dictionary;"
   ]
  },
  {
   "cell_type": "code",
   "execution_count": null,
   "id": "66812900",
   "metadata": {
    "deletable": false,
    "nbgrader": {
     "grade": false,
     "grade_id": "cell-ce9179c0612fd6b0",
     "locked": false,
     "schema_version": 3,
     "solution": true,
     "task": false
    }
   },
   "outputs": [],
   "source": [
    "def import_data():\n",
    "    # YOUR CODE HERE\n",
    "    raise NotImplementedError()"
   ]
  },
  {
   "cell_type": "code",
   "execution_count": null,
   "id": "9cf97694",
   "metadata": {
    "deletable": false,
    "editable": false,
    "nbgrader": {
     "grade": true,
     "grade_id": "cell-78d54c806fb28266",
     "locked": true,
     "points": 2,
     "schema_version": 3,
     "solution": false,
     "task": false
    }
   },
   "outputs": [],
   "source": [
    "utils.b1_exerc_1_grading(import_data)\n",
    "print(\"Answer is correct. Good Job.\")"
   ]
  },
  {
   "cell_type": "markdown",
   "id": "e49de49b",
   "metadata": {
    "deletable": false,
    "editable": false,
    "nbgrader": {
     "grade": false,
     "grade_id": "cell-4f68e55c7281fbaf",
     "locked": true,
     "schema_version": 3,
     "solution": false,
     "task": false
    }
   },
   "source": [
    "## Question 2\n",
    "\n",
    "The dictionary that you built contains information about a series of countries. So from now on, we’ll call it the `countries` dictionary.\n",
    "In the `countries` dictionary, each country has a field called `Population` that gives the number of people living in that country. Since this is a count, the data should have integer type. However, we have float…\n",
    "\n",
    "Complete the function `convert_population_to_int`. This function should:\n",
    "- Receive the `countries` dictionary as argument;\n",
    "- Convert the `Population` field from float to int type for all the countries, using a for loop;\n",
    "- Return the updated `countries` dictionary;"
   ]
  },
  {
   "cell_type": "code",
   "execution_count": null,
   "id": "97f3f6a3",
   "metadata": {
    "deletable": false,
    "nbgrader": {
     "grade": false,
     "grade_id": "cell-28d89deeef261406",
     "locked": false,
     "schema_version": 3,
     "solution": true,
     "task": false
    }
   },
   "outputs": [],
   "source": [
    "def convert_population_to_int(countries):\n",
    "    # YOUR CODE HERE\n",
    "    raise NotImplementedError()"
   ]
  },
  {
   "cell_type": "code",
   "execution_count": null,
   "id": "a59d3692",
   "metadata": {
    "deletable": false,
    "editable": false,
    "nbgrader": {
     "grade": true,
     "grade_id": "cell-27243f1f1f55589c",
     "locked": true,
     "points": 2,
     "schema_version": 3,
     "solution": false,
     "task": false
    }
   },
   "outputs": [],
   "source": [
    "utils.b1_exerc_2_grading(convert_population_to_int)\n",
    "print(\"Answer is correct. Good Job.\")"
   ]
  },
  {
   "cell_type": "markdown",
   "id": "02682b30",
   "metadata": {
    "deletable": false,
    "editable": false,
    "nbgrader": {
     "grade": false,
     "grade_id": "cell-5dcf6b443246a302",
     "locked": true,
     "schema_version": 3,
     "solution": false,
     "task": false
    }
   },
   "source": [
    "## Question 3\n",
    "\n",
    "In the countries dictionary, each country has a field called `Area`. This is the area of the country given in square miles.\n",
    "\n",
    "Complete the function `convert_area_to_sq_km`. This function should:\n",
    "- Receive the `countries` dictionary as argument;\n",
    "- Convert the `Area` field from square miles to square kilometres;\n",
    " - Use the following conversion: 1 sq mi = 2.58999 sq km;\n",
    " - Round the result to 1 decimal digit;\n",
    "- Return the updated `countries` dictionary;"
   ]
  },
  {
   "cell_type": "code",
   "execution_count": null,
   "id": "b75b141a",
   "metadata": {
    "deletable": false,
    "nbgrader": {
     "grade": false,
     "grade_id": "cell-3fd27539b41bed5c",
     "locked": false,
     "schema_version": 3,
     "solution": true,
     "task": false
    }
   },
   "outputs": [],
   "source": [
    "def convert_area_to_sq_km(countries):\n",
    "    # YOUR CODE HERE\n",
    "    raise NotImplementedError()"
   ]
  },
  {
   "cell_type": "code",
   "execution_count": null,
   "id": "73167fbb",
   "metadata": {
    "deletable": false,
    "editable": false,
    "nbgrader": {
     "grade": true,
     "grade_id": "cell-b77708fde98d925a",
     "locked": true,
     "points": 2,
     "schema_version": 3,
     "solution": false,
     "task": false
    }
   },
   "outputs": [],
   "source": [
    "utils.b1_exerc_3_grading(convert_area_to_sq_km)\n",
    "print(\"Answer is correct. Good Job.\")"
   ]
  },
  {
   "cell_type": "markdown",
   "id": "920fedee",
   "metadata": {
    "deletable": false,
    "editable": false,
    "nbgrader": {
     "grade": false,
     "grade_id": "cell-54c0c880656a2e9d",
     "locked": true,
     "schema_version": 3,
     "solution": false,
     "task": false
    }
   },
   "source": [
    "## Question 4\n",
    "\n",
    "Complete the function `get_europe_countries`. This function should:\n",
    "- Receive the `countries` dictionary as argument;\n",
    "- Build a list with the names of the countries in Europe sorted by alphabetical order (from A to Z);\n",
    " - Use the field called `Continent`;\n",
    " - Use list comprehension;\n",
    " - Use the sort method from the list data type;\n",
    "- Return the list;"
   ]
  },
  {
   "cell_type": "code",
   "execution_count": null,
   "id": "48e0c617",
   "metadata": {
    "deletable": false,
    "nbgrader": {
     "grade": false,
     "grade_id": "cell-ee1f38ef730c2004",
     "locked": false,
     "schema_version": 3,
     "solution": true,
     "task": false
    }
   },
   "outputs": [],
   "source": [
    "def get_europe_countries(countries):\n",
    "    # YOUR CODE HERE\n",
    "    raise NotImplementedError()"
   ]
  },
  {
   "cell_type": "code",
   "execution_count": null,
   "id": "02179dff",
   "metadata": {
    "deletable": false,
    "editable": false,
    "nbgrader": {
     "grade": true,
     "grade_id": "cell-48bf94a05b056aa0",
     "locked": true,
     "points": 2,
     "schema_version": 3,
     "solution": false,
     "task": false
    }
   },
   "outputs": [],
   "source": [
    "utils.b1_exerc_4_grading(get_europe_countries)\n",
    "print(\"Answer is correct. Good Job.\")"
   ]
  },
  {
   "cell_type": "markdown",
   "id": "968171a2",
   "metadata": {
    "deletable": false,
    "editable": false,
    "nbgrader": {
     "grade": false,
     "grade_id": "cell-e3c15d108b39d452",
     "locked": true,
     "schema_version": 3,
     "solution": false,
     "task": false
    }
   },
   "source": [
    "## Question 5\n",
    "\n",
    "Complete the function `get_literacy_levels_by_continent`. This function should:\n",
    "- Receive the `countries` dictionary as argument;\n",
    "- Receive a continent name as argument;\n",
    "- For the countries in the continent (received as argument), compute the literacy level as:\n",
    " - literacy in [0, 25[ % - VERY_LOW;\n",
    " - literacy in [25, 50[ % - LOW;\n",
    " - literacy in [50, 70[ % - MEDIUM;\n",
    " - literacy in [70, 90[ % - HIGH;\n",
    " - literacy in [90, 100] % - VERY_HIGH;\n",
    "- Return a list of tuples like: [(country_1, literacy_1, literacy_level_1), ..., (country_n, literacy_n, literacy_level_n), ...];"
   ]
  },
  {
   "cell_type": "code",
   "execution_count": null,
   "id": "dfd0ca42",
   "metadata": {
    "deletable": false,
    "nbgrader": {
     "grade": false,
     "grade_id": "cell-3911f29ed53cd968",
     "locked": false,
     "schema_version": 3,
     "solution": true,
     "task": false
    }
   },
   "outputs": [],
   "source": [
    "def get_literacy_levels_by_continent(countries, continent):\n",
    "    # YOUR CODE HERE\n",
    "    raise NotImplementedError()"
   ]
  },
  {
   "cell_type": "code",
   "execution_count": null,
   "id": "f14423e3",
   "metadata": {
    "deletable": false,
    "editable": false,
    "nbgrader": {
     "grade": true,
     "grade_id": "cell-fa41a51f9ff00d7c",
     "locked": true,
     "points": 2,
     "schema_version": 3,
     "solution": false,
     "task": false
    }
   },
   "outputs": [],
   "source": [
    "utils.b1_exerc_5_grading(get_literacy_levels_by_continent, \"Africa\")\n",
    "utils.b1_exerc_5_grading(get_literacy_levels_by_continent, \"Europe\")\n",
    "print(\"Answer is correct. Good Job.\")"
   ]
  },
  {
   "cell_type": "markdown",
   "id": "6bc64f9e",
   "metadata": {
    "deletable": false,
    "editable": false,
    "nbgrader": {
     "grade": false,
     "grade_id": "cell-5753eb5d0e5b85bc",
     "locked": true,
     "schema_version": 3,
     "solution": false,
     "task": false
    }
   },
   "source": [
    "## Question 6\n",
    "\n",
    "Complete the function `get_country_codes`. This function should:\n",
    "- Receive the `countries` dictionary as argument;\n",
    "- Build a list with all the countries names;\n",
    "- Using `map` and a `lambda` function, convert the country names in country codes by selecting the 3 first letters of the country;\n",
    "- Returns this list;\n",
    "\n",
    "Note: Don't worry about duplicates on the result."
   ]
  },
  {
   "cell_type": "code",
   "execution_count": null,
   "id": "7d5ca5d6",
   "metadata": {
    "deletable": false,
    "nbgrader": {
     "grade": false,
     "grade_id": "cell-bd068242631b4909",
     "locked": false,
     "schema_version": 3,
     "solution": true,
     "task": false
    }
   },
   "outputs": [],
   "source": [
    "def get_country_codes(countries):\n",
    "    # YOUR CODE HERE\n",
    "    raise NotImplementedError()"
   ]
  },
  {
   "cell_type": "code",
   "execution_count": null,
   "id": "f0b79770",
   "metadata": {
    "deletable": false,
    "editable": false,
    "nbgrader": {
     "grade": true,
     "grade_id": "cell-5f1eaf642616c8a1",
     "locked": true,
     "points": 2,
     "schema_version": 3,
     "solution": false,
     "task": false
    }
   },
   "outputs": [],
   "source": [
    "utils.b1_exerc_6_grading(get_country_codes)\n",
    "print(\"Answer is correct. Good Job.\")"
   ]
  },
  {
   "cell_type": "markdown",
   "id": "d51a4b6a",
   "metadata": {
    "deletable": false,
    "editable": false,
    "nbgrader": {
     "grade": false,
     "grade_id": "cell-7844a33349cae384",
     "locked": true,
     "schema_version": 3,
     "solution": false,
     "task": false
    }
   },
   "source": [
    "## Question 7\n",
    "\n",
    "The `Country` class is going to be used to represent countries and to return information about them."
   ]
  },
  {
   "cell_type": "markdown",
   "id": "37828b1f",
   "metadata": {
    "deletable": false,
    "editable": false,
    "nbgrader": {
     "grade": false,
     "grade_id": "cell-21673f3c85e20039",
     "locked": true,
     "schema_version": 3,
     "solution": false,
     "task": false
    }
   },
   "source": [
    "### Question 7.1\n",
    "\n",
    "Complete the `get_population_in_millions` method. This method should:\n",
    "- Return the population of the country that the class represents;\n",
    "- The population should be returned in millions with 2 decimal digits;"
   ]
  },
  {
   "cell_type": "code",
   "execution_count": null,
   "id": "b51870af",
   "metadata": {
    "deletable": false,
    "nbgrader": {
     "grade": false,
     "grade_id": "cell-9b9ae4ba8e61e508",
     "locked": false,
     "schema_version": 3,
     "solution": true,
     "task": false
    }
   },
   "outputs": [],
   "source": [
    "class Country:\n",
    "    def __init__(self, country_name, population, continent):\n",
    "        self.country_name = country_name\n",
    "        self.population = population\n",
    "        self.continent = continent\n",
    "\n",
    "    def get_population_in_millions(self):\n",
    "        # YOUR CODE HERE\n",
    "        raise NotImplementedError()"
   ]
  },
  {
   "cell_type": "code",
   "execution_count": null,
   "id": "052a0262",
   "metadata": {
    "deletable": false,
    "editable": false,
    "nbgrader": {
     "grade": true,
     "grade_id": "cell-9e28e403f317f23d",
     "locked": true,
     "points": 2,
     "schema_version": 3,
     "solution": false,
     "task": false
    }
   },
   "outputs": [],
   "source": [
    "utils.b1_exerc_7_1_grading(Country(\"Penguinea\", 12345678, \"Antarctica\"), Country)\n",
    "utils.b1_exerc_7_1_grading(Country(\"Walrussia\", 8344567, \"Antarctica\"), Country)\n",
    "print(\"Answer is correct. Good Job.\")"
   ]
  },
  {
   "cell_type": "markdown",
   "id": "62ac0d1f",
   "metadata": {
    "deletable": false,
    "editable": false,
    "nbgrader": {
     "grade": false,
     "grade_id": "cell-1a701df531f382b7",
     "locked": true,
     "schema_version": 3,
     "solution": false,
     "task": false
    }
   },
   "source": [
    "## Question 7.2\n",
    "\n",
    "Complete the `get_country_population`. This function should:\n",
    "- Receive the `countries` dictionary as argument;\n",
    "- Receive a country name as argument;\n",
    "- Try to find the country (received as argument) in the countries dictionary;\n",
    "- If the country doesn’t exist in the countries dictionary, catch the KeyError, print a statement with the information that there is no information for that country and return `None`;\n",
    "- If the country exists, create an object of the `Country` class;\n",
    "- Call the `get_population_in_millions` method for the country;\n",
    "- Return the population in millions value;"
   ]
  },
  {
   "cell_type": "code",
   "execution_count": null,
   "id": "345e492f",
   "metadata": {
    "deletable": false,
    "nbgrader": {
     "grade": false,
     "grade_id": "cell-803b263dbee2e300",
     "locked": false,
     "schema_version": 3,
     "solution": true,
     "task": false
    }
   },
   "outputs": [],
   "source": [
    "def get_country_population(countries, country_name):\n",
    "    # YOUR CODE HERE\n",
    "    raise NotImplementedError()"
   ]
  },
  {
   "cell_type": "code",
   "execution_count": null,
   "id": "4387a1e2",
   "metadata": {
    "deletable": false,
    "editable": false,
    "nbgrader": {
     "grade": true,
     "grade_id": "cell-0d0db73f5256c8e5",
     "locked": true,
     "points": 6,
     "schema_version": 3,
     "solution": false,
     "task": false
    }
   },
   "outputs": [],
   "source": [
    "utils.b1_exerc_7_2_grading(\"Turkey\", get_country_population)\n",
    "utils.b1_exerc_7_2_grading(\"Narnia\", get_country_population)\n",
    "print(\"Answer is correct. Good Job.\")"
   ]
  },
  {
   "cell_type": "markdown",
   "id": "e116fcb6",
   "metadata": {
    "deletable": false,
    "editable": false,
    "nbgrader": {
     "grade": false,
     "grade_id": "cell-28fb2a76152308d9",
     "locked": true,
     "schema_version": 3,
     "solution": false,
     "task": false
    }
   },
   "source": [
    "### Last but not least, submit your work!"
   ]
  },
  {
   "cell_type": "markdown",
   "id": "9fd353eb",
   "metadata": {
    "deletable": false,
    "editable": false,
    "nbgrader": {
     "grade": false,
     "grade_id": "cell-f870fa6819245970",
     "locked": true,
     "schema_version": 3,
     "solution": false,
     "task": false
    }
   },
   "source": [
    "To submit your work, fill your slack ID in the `slack_id` variable (as a string).\n",
    "\n",
    "Example: `slack_id = \"x-men\"`\n",
    "\n",
    "Help: if you forgot your slack ID, [read this](https://moshfeu.medium.com/how-to-find-my-member-id-in-slack-workspace-d4bba942e38c)."
   ]
  },
  {
   "cell_type": "code",
   "execution_count": null,
   "id": "0fa6d10d",
   "metadata": {
    "deletable": false,
    "nbgrader": {
     "grade": false,
     "grade_id": "cell-6d2bcecf8ecbc46d",
     "locked": false,
     "schema_version": 3,
     "solution": true,
     "task": false
    }
   },
   "outputs": [],
   "source": [
    "# Submit your work!\n",
    "\n",
    "#slack_id = \n",
    "\n",
    "# YOUR CODE HERE\n",
    "raise NotImplementedError()"
   ]
  },
  {
   "cell_type": "code",
   "execution_count": null,
   "id": "df0900c0",
   "metadata": {
    "deletable": false,
    "editable": false,
    "nbgrader": {
     "grade": true,
     "grade_id": "cell-f66c1a17d9cccc05",
     "locked": true,
     "points": 0,
     "schema_version": 3,
     "solution": false,
     "task": false
    }
   },
   "outputs": [],
   "source": [
    "from submit import submit\n",
    "assert isinstance(slack_id, str)\n",
    "\n",
    "slu = 17_1\n",
    "submit(slack_id, slu)"
   ]
  }
 ],
 "metadata": {
  "kernelspec": {
   "display_name": "Python 3",
   "language": "python",
   "name": "python3"
  },
  "language_info": {
   "codemirror_mode": {
    "name": "ipython",
    "version": 3
   },
   "file_extension": ".py",
   "mimetype": "text/x-python",
   "name": "python",
   "nbconvert_exporter": "python",
   "pygments_lexer": "ipython3",
   "version": "3.7.5"
  }
 },
 "nbformat": 4,
 "nbformat_minor": 5
}
