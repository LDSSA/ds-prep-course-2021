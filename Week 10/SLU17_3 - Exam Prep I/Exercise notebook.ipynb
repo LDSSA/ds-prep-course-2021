{
 "cells": [
  {
   "cell_type": "markdown",
   "id": "686c8067",
   "metadata": {
    "deletable": false,
    "editable": false,
    "nbgrader": {
     "grade": false,
     "grade_id": "cell-89969ffa36503ffb",
     "locked": true,
     "schema_version": 3,
     "solution": false,
     "task": false
    }
   },
   "source": [
    "# SLU 17 - Exam Prep I\n",
    "\n",
    "## Batch 2 - Wave 2 Python Exam\n",
    "This is the Python exam from batch 2 - wave 2. Exam Duration: 2h"
   ]
  },
  {
   "cell_type": "code",
   "execution_count": null,
   "id": "7d7a5e36",
   "metadata": {
    "deletable": false,
    "editable": false,
    "nbgrader": {
     "grade": false,
     "grade_id": "cell-6b65decf9204e5b9",
     "locked": true,
     "schema_version": 3,
     "solution": false,
     "task": false
    }
   },
   "outputs": [],
   "source": [
    "import json\n",
    "from operator import itemgetter\n",
    "import random\n",
    "#used for evaluation\n",
    "import utils"
   ]
  },
  {
   "cell_type": "markdown",
   "id": "d378681d",
   "metadata": {
    "deletable": false,
    "editable": false,
    "nbgrader": {
     "grade": false,
     "grade_id": "cell-fd89bd0afbd4e368",
     "locked": true,
     "schema_version": 3,
     "solution": false,
     "task": false
    }
   },
   "source": [
    "## Question 1\n",
    "\n",
    "The variable `data` is a list of dictionaries.\n",
    "\n",
    "Create a function `replace_unknown` that:\n",
    "- Receives as argument a list of dictionaries;\n",
    "- In each dictionary, it replaces all the '?' you find with the string value '1';\n",
    "- Returns the modified list of dictionaires;\n",
    "\n",
    "Note: values should retain the original datatypes."
   ]
  },
  {
   "cell_type": "code",
   "execution_count": null,
   "id": "bbf38525",
   "metadata": {
    "deletable": false,
    "nbgrader": {
     "grade": false,
     "grade_id": "cell-7d5d16f632d819c3",
     "locked": false,
     "schema_version": 3,
     "solution": true,
     "task": false
    }
   },
   "outputs": [],
   "source": [
    "def replace_unknown(data):\n",
    "    # YOUR CODE HERE\n",
    "    raise NotImplementedError()"
   ]
  },
  {
   "cell_type": "code",
   "execution_count": null,
   "id": "69071a6d",
   "metadata": {
    "deletable": false,
    "editable": false,
    "nbgrader": {
     "grade": true,
     "grade_id": "cell-2ec0be01019aa1ce",
     "locked": true,
     "points": 3,
     "schema_version": 3,
     "solution": false,
     "task": false
    }
   },
   "outputs": [],
   "source": [
    "utils.b2w2_exerc_1_grading(replace_unknown)\n",
    "print(\"Answer is correct. Good Job.\")"
   ]
  },
  {
   "cell_type": "markdown",
   "id": "71e404b7",
   "metadata": {
    "deletable": false,
    "editable": false,
    "nbgrader": {
     "grade": false,
     "grade_id": "cell-3621c2a2ef02f627",
     "locked": true,
     "schema_version": 3,
     "solution": false,
     "task": false
    }
   },
   "source": [
    "## Question 2\n",
    "\n",
    "The variable `data` is a list of dictionaries.\n",
    "\n",
    "Create a function `convert_int` that:\n",
    "- Receives as argument a list of dictionaries;\n",
    "- In each dictionary, find all the numeric values and make sure their data type is `int`;\n",
    "- Returns the modified list of dictionaires;\n",
    "\n",
    "Hint: `isdigit()`"
   ]
  },
  {
   "cell_type": "code",
   "execution_count": null,
   "id": "54a01c88",
   "metadata": {
    "deletable": false,
    "nbgrader": {
     "grade": false,
     "grade_id": "cell-5b768d0072b87818",
     "locked": false,
     "schema_version": 3,
     "solution": true,
     "task": false
    }
   },
   "outputs": [],
   "source": [
    "def convert_int(data):\n",
    "    # YOUR CODE HERE\n",
    "    raise NotImplementedError()"
   ]
  },
  {
   "cell_type": "code",
   "execution_count": null,
   "id": "7f388139",
   "metadata": {
    "deletable": false,
    "editable": false,
    "nbgrader": {
     "grade": true,
     "grade_id": "cell-9138a4e7a89f3adc",
     "locked": true,
     "points": 3,
     "schema_version": 3,
     "solution": false,
     "task": false
    }
   },
   "outputs": [],
   "source": [
    "utils.b2w2_exerc_2_grading(convert_int)\n",
    "print(\"Answer is correct. Good Job.\")"
   ]
  },
  {
   "cell_type": "markdown",
   "id": "e715d86a",
   "metadata": {
    "deletable": false,
    "editable": false,
    "nbgrader": {
     "grade": false,
     "grade_id": "cell-279e83540d9c180f",
     "locked": true,
     "schema_version": 3,
     "solution": false,
     "task": false
    }
   },
   "source": [
    "## Question 3\n",
    "\n",
    "The variable `data` is a list of dictionaries.\n",
    "\n",
    "Create a function `lower_class` that:\n",
    "\n",
    "- Receives as argument a list of dictionaries;\n",
    "- For each element of the list, find the key 'class_type' and convert the correspondent value to lower case;\n",
    "- Returns the modified list of dictionaires;"
   ]
  },
  {
   "cell_type": "code",
   "execution_count": null,
   "id": "6139711d",
   "metadata": {
    "deletable": false,
    "nbgrader": {
     "grade": false,
     "grade_id": "cell-0f7774d47c55eb30",
     "locked": false,
     "schema_version": 3,
     "solution": true,
     "task": false
    }
   },
   "outputs": [],
   "source": [
    "def lower_class(data):\n",
    "    # YOUR CODE HERE\n",
    "    raise NotImplementedError()"
   ]
  },
  {
   "cell_type": "code",
   "execution_count": null,
   "id": "2a3eb0fa",
   "metadata": {
    "deletable": false,
    "editable": false,
    "nbgrader": {
     "grade": true,
     "grade_id": "cell-3a68fa6f6e905977",
     "locked": true,
     "points": 3,
     "schema_version": 3,
     "solution": false,
     "task": false
    }
   },
   "outputs": [],
   "source": [
    "utils.b2w2_exerc_3_grading(lower_class)\n",
    "print(\"Answer is correct. Good Job.\")"
   ]
  },
  {
   "cell_type": "markdown",
   "id": "36ac1f3b",
   "metadata": {
    "deletable": false,
    "editable": false,
    "nbgrader": {
     "grade": false,
     "grade_id": "cell-2d6d311be1937561",
     "locked": true,
     "schema_version": 3,
     "solution": false,
     "task": false
    }
   },
   "source": [
    "## Question 4\n",
    "\n",
    "The variable `data` is a list of dictionaries.\n",
    "\n",
    "Create a function `order_animals` that:\n",
    "\n",
    "- Receives as argument a list of dictionaries;\n",
    "- Order the animals by number of legs;\n",
    "- Return them as a list of (animal_name, class_type, legs) tuples;"
   ]
  },
  {
   "cell_type": "code",
   "execution_count": null,
   "id": "ee4dd783",
   "metadata": {
    "deletable": false,
    "nbgrader": {
     "grade": false,
     "grade_id": "cell-122a9ec5cefa138a",
     "locked": false,
     "schema_version": 3,
     "solution": true,
     "task": false
    }
   },
   "outputs": [],
   "source": [
    "def order_animals(data):\n",
    "    # YOUR CODE HERE\n",
    "    raise NotImplementedError()"
   ]
  },
  {
   "cell_type": "code",
   "execution_count": null,
   "id": "d56cc29d",
   "metadata": {
    "deletable": false,
    "editable": false,
    "nbgrader": {
     "grade": true,
     "grade_id": "cell-4c4b419744a6ebf6",
     "locked": true,
     "points": 3,
     "schema_version": 3,
     "solution": false,
     "task": false
    }
   },
   "outputs": [],
   "source": [
    "utils.b2w2_exerc_4_grading(order_animals)\n",
    "print(\"Answer is correct. Good Job.\")"
   ]
  },
  {
   "cell_type": "markdown",
   "id": "464102ff",
   "metadata": {
    "deletable": false,
    "editable": false,
    "nbgrader": {
     "grade": false,
     "grade_id": "cell-2ebd165a0a21a102",
     "locked": true,
     "schema_version": 3,
     "solution": false,
     "task": false
    }
   },
   "source": [
    "## Question 5\n",
    "\n",
    "The variable `data` is a list of dictionaries.\n",
    "\n",
    "Create a function `mammal_letters` that:\n",
    "\n",
    "- Receives as argument a list of dictionaries;\n",
    "- Filter all the mammals;\n",
    "- Return the average number of letters in the mammals' names. The return type must be a float;"
   ]
  },
  {
   "cell_type": "code",
   "execution_count": null,
   "id": "a21c061a",
   "metadata": {
    "deletable": false,
    "nbgrader": {
     "grade": false,
     "grade_id": "cell-81f72032281eb943",
     "locked": false,
     "schema_version": 3,
     "solution": true,
     "task": false
    }
   },
   "outputs": [],
   "source": [
    "def mammals_letters(data):\n",
    "    # YOUR CODE HERE\n",
    "    raise NotImplementedError()"
   ]
  },
  {
   "cell_type": "code",
   "execution_count": null,
   "id": "6f2961b3",
   "metadata": {
    "deletable": false,
    "editable": false,
    "nbgrader": {
     "grade": true,
     "grade_id": "cell-03842b58f0727f29",
     "locked": true,
     "points": 3,
     "schema_version": 3,
     "solution": false,
     "task": false
    }
   },
   "outputs": [],
   "source": [
    "utils.b2w2_exerc_5_grading(mammals_letters)\n",
    "print(\"Answer is correct. Good Job.\")"
   ]
  },
  {
   "cell_type": "markdown",
   "id": "6bdc1941",
   "metadata": {
    "deletable": false,
    "editable": false,
    "nbgrader": {
     "grade": false,
     "grade_id": "cell-bf63f15448b685e4",
     "locked": true,
     "schema_version": 3,
     "solution": false,
     "task": false
    }
   },
   "source": [
    "## Question 6\n",
    "\n",
    "Create an `Animal` class.\n",
    "\n",
    "The class has three class parameters: `animal_name` (str), `animal_type` (str) and `eggs` (bool).\n",
    "Implement a method called `lay_eggs` that:\n",
    "- Returns random number between 0 and 10 if the animal can lay eggs (eggs parameter = True)\n",
    "- Returns the sentence \"I can't lay eggs...\" if the animal doesn't lay eggs"
   ]
  },
  {
   "cell_type": "code",
   "execution_count": null,
   "id": "506c8f22",
   "metadata": {
    "deletable": false,
    "nbgrader": {
     "grade": false,
     "grade_id": "cell-786ac51bf37eef4c",
     "locked": false,
     "schema_version": 3,
     "solution": true,
     "task": false
    }
   },
   "outputs": [],
   "source": [
    "# YOUR CODE HERE\n",
    "raise NotImplementedError()"
   ]
  },
  {
   "cell_type": "code",
   "execution_count": null,
   "id": "ac2e1db9",
   "metadata": {
    "deletable": false,
    "editable": false,
    "nbgrader": {
     "grade": true,
     "grade_id": "cell-f50a68ec0e515188",
     "locked": true,
     "points": 5,
     "schema_version": 3,
     "solution": false,
     "task": false
    }
   },
   "outputs": [],
   "source": [
    "utils.b2w2_exerc_6_grading(Animal)\n",
    "print(\"Answer is correct. Good Job.\")"
   ]
  },
  {
   "cell_type": "markdown",
   "id": "93e0e6a6",
   "metadata": {
    "deletable": false,
    "editable": false,
    "nbgrader": {
     "grade": false,
     "grade_id": "cell-11ad011ecd15fd1b",
     "locked": true,
     "schema_version": 3,
     "solution": false,
     "task": false
    }
   },
   "source": [
    "### Last but not least, submit your work!"
   ]
  },
  {
   "cell_type": "markdown",
   "id": "81710125",
   "metadata": {
    "deletable": false,
    "editable": false,
    "nbgrader": {
     "grade": false,
     "grade_id": "cell-ad3fdd9b35f15a0f",
     "locked": true,
     "schema_version": 3,
     "solution": false,
     "task": false
    }
   },
   "source": [
    "To submit your work, fill your slack ID in the `slack_id` variable (as a string).\n",
    "\n",
    "Example: `slack_id = \"x-men\"`\n",
    "\n",
    "Help: if you forgot your slack ID, [read this](https://moshfeu.medium.com/how-to-find-my-member-id-in-slack-workspace-d4bba942e38c)."
   ]
  },
  {
   "cell_type": "code",
   "execution_count": null,
   "id": "f0c31668",
   "metadata": {
    "deletable": false,
    "nbgrader": {
     "grade": false,
     "grade_id": "cell-1a02f44222e2455e",
     "locked": false,
     "schema_version": 3,
     "solution": true,
     "task": false
    }
   },
   "outputs": [],
   "source": [
    "# Submit your work!\n",
    "\n",
    "#slack_id = \n",
    "\n",
    "# YOUR CODE HERE\n",
    "raise NotImplementedError()"
   ]
  },
  {
   "cell_type": "code",
   "execution_count": null,
   "id": "da84a44c",
   "metadata": {
    "deletable": false,
    "editable": false,
    "nbgrader": {
     "grade": true,
     "grade_id": "cell-c461aefc9884225e",
     "locked": true,
     "points": 0,
     "schema_version": 3,
     "solution": false,
     "task": false
    }
   },
   "outputs": [],
   "source": [
    "from submit import submit\n",
    "assert isinstance(slack_id, str)\n",
    "\n",
    "slu = 17_3\n",
    "submit(slack_id, slu)"
   ]
  }
 ],
 "metadata": {
  "kernelspec": {
   "display_name": "Python 3",
   "language": "python",
   "name": "python3"
  },
  "language_info": {
   "codemirror_mode": {
    "name": "ipython",
    "version": 3
   },
   "file_extension": ".py",
   "mimetype": "text/x-python",
   "name": "python",
   "nbconvert_exporter": "python",
   "pygments_lexer": "ipython3",
   "version": "3.7.5"
  }
 },
 "nbformat": 4,
 "nbformat_minor": 5
}
