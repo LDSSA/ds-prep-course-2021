{
 "cells": [
  {
   "cell_type": "markdown",
   "metadata": {
    "nbgrader": {
     "grade": false,
     "grade_id": "cell-46d843154dcd7d0f",
     "locked": true,
     "schema_version": 3,
     "solution": false
    }
   },
   "source": [
    "# SLU15 | Debugging. Exercise notebook\n",
    "\n",
    "***\n",
    "\n",
    "Now we're going to solve a couple of bugs ourselves.\n",
    "\n",
    "Use the suggestions from the learning notebook, your own logic and Google (if required).\n",
    "\n",
    "**WARNING**: \n",
    "\n",
    "We commented some cells out here. The reason is that they produce exceptions (and this behavior is expected), but our internal system doesn't allow exercise notebooks to contain cells that produce exceptions.\n",
    "\n",
    "Uncomment these cells when you want to execute them, and comment them back out when you submit your solution.\n",
    "\n",
    "## Start by importing these packages"
   ]
  },
  {
   "cell_type": "code",
   "execution_count": 1,
   "metadata": {},
   "outputs": [],
   "source": [
    "import hashlib\n",
    "\n",
    "def _hash(s):\n",
    "    return hashlib.blake2b(\n",
    "        bytes(str(s), encoding='utf8'),\n",
    "        digest_size=5\n",
    "    ).hexdigest()"
   ]
  },
  {
   "cell_type": "markdown",
   "metadata": {
    "nbgrader": {
     "grade": false,
     "grade_id": "cell-db51d425e62c407c",
     "locked": true,
     "schema_version": 3,
     "solution": false,
     "task": false
    }
   },
   "source": [
    "Our task is to write a program that reads a text file that contains a batch of numbers, calculate its moving average and write to another text file called `result.txt`.\n",
    "\n",
    "The final `result.txt` file should contain all the moving averages placed at new lines.\n",
    "\n",
    "Moving averages of a list `nums` is a list of numbers, where element `i` is equal to the average of all numbers from `nums` until index `i`(including).\n",
    "\n",
    "For example, if we calculate moving averages for a list of numbers `[1, 2, 6, 3]` , the result will be `[1, 1.5, 3, 3]`, because in the first step we calculate the average of `[1]`, which equals `1`, in the second step we calculate the average of `[1, 2]`, which equals `1.5`, in the third step we calculate the average of `[1, 2, 6]`, which equals `3`, and in the fourth step we calculate the average of `[1, 2, 6, 3]`, which equals `3`.\n",
    "\n",
    "For this particular exercise, it's important to implement the moving average calculations ourselves, so we shouldn't use functions like len(), sum(), mean() for the average calculation. It's okay to use these functions in any other situation."
   ]
  },
  {
   "cell_type": "markdown",
   "metadata": {
    "nbgrader": {
     "grade": false,
     "grade_id": "cell-a519c44a094e167a",
     "locked": true,
     "schema_version": 3,
     "solution": false,
     "task": false
    }
   },
   "source": [
    "If you uncomment and try to execute the program below, you'll get an error:\n",
    "\n",
    "`TypeError: unsupported operand type(s) for +=: 'int' and 'str'`.\n"
   ]
  },
  {
   "cell_type": "code",
   "execution_count": 2,
   "metadata": {},
   "outputs": [],
   "source": [
    "# with open('document.txt', 'r') as f:\n",
    "#     numbers = f.readlines()\n",
    "# n_items = 0\n",
    "# current_sum = 0\n",
    "# means = []\n",
    "# for i in numbers:\n",
    "#     n_items += 1\n",
    "#     current_sum += i\n",
    "#     means.append(current_sum / n_items)\n",
    "# with open('result.txt', 'w') as f:\n",
    "#     for num in means:\n",
    "#         f.write(num)"
   ]
  },
  {
   "cell_type": "markdown",
   "metadata": {
    "nbgrader": {
     "grade": false,
     "grade_id": "cell-be4a3bde4cfd640d",
     "locked": true,
     "schema_version": 3,
     "solution": false,
     "task": false
    }
   },
   "source": [
    "This error already suggests where to look for issues, but let's start from something different.\n",
    "\n",
    "Let's divide our code into functions, so that it's easier to find bugs. It will also allow us to easily modify the program on the next steps."
   ]
  },
  {
   "cell_type": "markdown",
   "metadata": {
    "nbgrader": {
     "grade": false,
     "grade_id": "cell-a8ee41674eaf0462",
     "locked": true,
     "schema_version": 3,
     "solution": false,
     "task": false
    }
   },
   "source": [
    "### Task 1:\n",
    "Create functions `read_nums`, `calculate_moving_avg`, `write_nums` from the code above.\n",
    "\n",
    "Function `read_nums` needs to take a string `file_name` as a parameter and return the result of reading this file as a list of values.\n",
    "\n",
    "Function `calculate_moving_avg` needs to take a list of integers `nums` as parameter and return a list of moving averages as a result.\n",
    "\n",
    "Function `write_nums` needs to take a string `file_name` and a list of floats `nums` as parameters and write each number to the file. This function shouldn't return anything.\n",
    "\n",
    "You don't need to change anything in the code yet. Just divide the code into functions."
   ]
  },
  {
   "cell_type": "code",
   "execution_count": 3,
   "metadata": {
    "nbgrader": {
     "grade": false,
     "grade_id": "cell-c806f18640ab4195",
     "locked": false,
     "schema_version": 3,
     "solution": true,
     "task": false
    }
   },
   "outputs": [],
   "source": [
    "# def read_nums(file_name):\n",
    "    # ...\n",
    "\n",
    "# def calculate_moving_avg(nums):\n",
    "    # ...\n",
    "\n",
    "# def write_nums(file_name, nums):\n",
    "#     ...\n",
    "\n",
    "\n",
    "### BEGIN SOLUTION\n",
    "\n",
    "\n",
    "\n",
    "\n",
    "def read_nums(file_name):\n",
    "    with open(file_name, 'r') as f:\n",
    "        numbers = f.readlines()\n",
    "    return numbers\n",
    "\n",
    "def calculate_moving_avg(nums):\n",
    "    n_items = 0\n",
    "    current_sum = 0\n",
    "    means = []\n",
    "    for i in nums:\n",
    "        n_items += 1\n",
    "        current_sum += i\n",
    "        means.append(current_sum / n_items)\n",
    "    return means\n",
    "\n",
    "def write_nums(file_name, nums):\n",
    "    with open(file_name, 'w') as f:\n",
    "        for num in nums:\n",
    "            f.write(num)\n",
    "\n",
    "            \n",
    "            \n",
    "### END SOLUTION"
   ]
  },
  {
   "cell_type": "code",
   "execution_count": 4,
   "metadata": {
    "nbgrader": {
     "grade": true,
     "grade_id": "cell-c69436878e0ec76e",
     "locked": true,
     "points": 2,
     "schema_version": 3,
     "solution": false,
     "task": false
    }
   },
   "outputs": [],
   "source": [
    "nums = read_nums('document.txt')\n",
    "assert isinstance(nums, list), \"Are you sure your read_nums function returns a list?\"\n",
    "assert len(nums) == 19, \"Wrong number of items in the list returned by read_nums function\"\n",
    "assert _hash(str(nums)) == \"0de4458d18\", \"The result of reading the file doesn't match the expected output\""
   ]
  },
  {
   "cell_type": "markdown",
   "metadata": {
    "nbgrader": {
     "grade": false,
     "grade_id": "cell-7e116603b75bd8dd",
     "locked": true,
     "schema_version": 3,
     "solution": false,
     "task": false
    }
   },
   "source": [
    "\n",
    "\n",
    "Now as we divided our code into functions, it's much easier to understand what's wrong with our code.\n",
    "\n",
    "If you execute the code below, you should see the following error:\n",
    "\n",
    "```\n",
    "---------------------------------------------------------------------------\n",
    "TypeError                                 Traceback (most recent call last)\n",
    "<ipython-input-26-2c8baf7cfac4> in <module>\n",
    "      1 nums = read_nums('document.txt')\n",
    "----> 2 means = calculate_moving_avg(nums)\n",
    "      3 write_nums('result.txt', means)\n",
    "\n",
    "<ipython-input-25-bb04f4b79a0c> in calculate_moving_avg(nums)\n",
    "     10     for i in numbers:\n",
    "     11         n_items += 1\n",
    "---> 12         current_sum += i\n",
    "     13         means.append(current_sum / n_items)\n",
    "     14     return means\n",
    "\n",
    "TypeError: unsupported operand type(s) for +=: 'int' and 'str'\n",
    "```"
   ]
  },
  {
   "cell_type": "code",
   "execution_count": 5,
   "metadata": {},
   "outputs": [],
   "source": [
    "# nums = read_nums('document.txt')\n",
    "# means = calculate_moving_avg(nums)\n",
    "# write_nums('result.txt', means)"
   ]
  },
  {
   "cell_type": "markdown",
   "metadata": {
    "nbgrader": {
     "grade": false,
     "grade_id": "cell-8b44faebbf9adaa1",
     "locked": true,
     "schema_version": 3,
     "solution": false,
     "task": false
    }
   },
   "source": [
    "\n",
    "\n",
    "### Task 2:\n",
    "\n",
    "It's important to read the errors, so read the error above and answer the questions below.\n",
    "\n",
    "Answer the questions by assigning the letter of the correct option to the `answer_i` variable, where i is the question number.\n",
    "\n",
    "For example, `answer_1=\"A\"`\n",
    "\n",
    "Some questions may have more than one correct answer, so in that case type all the letters that match without spaces: \n",
    "\n",
    "`answer_i = \"ABC\"`\n",
    "\n",
    "1. What's the type of the Exception?\n",
    "\n",
    "```\n",
    "A. IndexError\n",
    "B. TypeError\n",
    "C. NameError\n",
    "D. SyntaxError\n",
    "```\n",
    "\n",
    "2. What's the error message.\n",
    "\n",
    "```\n",
    "A. calculate_moving_avg(nums)\n",
    "B. Traceback (most recent call last)\n",
    "C. unsupported operand type(s) for +=: 'int' and 'str'\n",
    "D. TypeError\n",
    "```\n",
    "\n",
    "3. What is/are the line(s) of code that cause the errors?\n",
    "\n",
    "```\n",
    "A. current_sum += i \n",
    "B. means.append(current_sum / n_items)\n",
    "C. write_nums('result.txt', means)\n",
    "D. means = calculate_moving_avg(nums)\n",
    "```"
   ]
  },
  {
   "cell_type": "code",
   "execution_count": 6,
   "metadata": {
    "nbgrader": {
     "grade": false,
     "grade_id": "cell-568fd9fe92bd054b",
     "locked": false,
     "schema_version": 3,
     "solution": true,
     "task": false
    }
   },
   "outputs": [],
   "source": [
    "# answer_1 = \"\"\n",
    "# answer_2 = \"\"\n",
    "# answer_3 = \"\"\n",
    "\n",
    "### BEGIN SOLUTION\n",
    "\n",
    "\n",
    "\n",
    "answer_1 = \"B\"\n",
    "answer_2 = \"C\"\n",
    "answer_3 = \"AD\"\n",
    "\n",
    "\n",
    "\n",
    "### END SOLUTION"
   ]
  },
  {
   "cell_type": "code",
   "execution_count": 7,
   "metadata": {
    "nbgrader": {
     "grade": true,
     "grade_id": "cell-2038524ce338dfa9",
     "locked": true,
     "points": 2,
     "schema_version": 3,
     "solution": false,
     "task": false
    }
   },
   "outputs": [],
   "source": [
    "assert _hash(''.join(sorted(answer_1.upper()))) == '90a8cbb480', \"Wrong exception type\"\n",
    "assert _hash(''.join(sorted(answer_2.upper()))) == 'f72385315c', \"Wrong error message\"\n",
    "assert _hash(''.join(sorted(answer_3.upper()))) == 'd685f0ed6b', \"Wrong error code lines\""
   ]
  },
  {
   "cell_type": "markdown",
   "metadata": {
    "nbgrader": {
     "grade": false,
     "grade_id": "cell-8091920221b20bed",
     "locked": true,
     "schema_version": 3,
     "solution": false,
     "task": false
    }
   },
   "source": [
    "As you should have noticed, the last error is `TypeError: unsupported operand type(s) for +=: 'int' and 'str'`, and it's the result of calling `current_sum += i` in `calculate_moving_avg`.\n",
    "\n",
    "What does and what doesn't it mean?\n",
    "\n",
    "It doesn't mean that the `calculate_moving_avg` function contains bugs. \n",
    "\n",
    "However, there was something wrong while executing `current_sum += i` inside `calculate_moving_avg`. Being more precise, we add some integer to some string in that line, and Python doesn't allow such operations.\n",
    "\n",
    "Let's figure out why we have a string there, because our plan was to add an integer to an integer, right?\n",
    "\n"
   ]
  },
  {
   "cell_type": "markdown",
   "metadata": {
    "nbgrader": {
     "grade": false,
     "grade_id": "cell-114700aced10198e",
     "locked": true,
     "schema_version": 3,
     "solution": false,
     "task": false
    }
   },
   "source": [
    "### Task 3:\n",
    "\n",
    "\n",
    "\n",
    "\n",
    "Your task is to go through the code line by line, analyzing what happens with `current_sum`, what happens with `i`, and why we have a string there.\n",
    "\n",
    "Modify the created functions in such a way, so that both `current_sum` and `i` would be integers and so that this error would disappear.\n",
    "\n",
    "**NOTE:**\n",
    "\n",
    "There are still some other bugs in our code, but we'll only solve them in the next tasks.\n",
    "\n",
    "Don't edit anything that's not related to this particular exception."
   ]
  },
  {
   "cell_type": "code",
   "execution_count": 8,
   "metadata": {
    "nbgrader": {
     "grade": false,
     "grade_id": "cell-949aca96afb49149",
     "locked": false,
     "schema_version": 3,
     "solution": true,
     "task": false
    }
   },
   "outputs": [],
   "source": [
    "### BEGIN SOLUTION\n",
    "\n",
    "\n",
    "\n",
    "\n",
    "def read_nums(file_name):\n",
    "    with open(file_name, 'r') as f:\n",
    "        numbers = f.readlines()\n",
    "        numbers = [int(num.strip()) for num in numbers]\n",
    "    return numbers\n",
    "\n",
    "\n",
    "            \n",
    "\n",
    "### END SOLUTION"
   ]
  },
  {
   "cell_type": "code",
   "execution_count": 9,
   "metadata": {
    "nbgrader": {
     "grade": true,
     "grade_id": "cell-69d3c58b504eb6f1",
     "locked": true,
     "points": 3,
     "schema_version": 3,
     "solution": false,
     "task": false
    }
   },
   "outputs": [],
   "source": [
    "nums = read_nums('document.txt')\n",
    "means = calculate_moving_avg(nums)\n",
    "assert isinstance(means, list), \"calculate_moving_avg function is supposed to return a list\"\n",
    "assert len(means) == 19, \"wrong number of items in the list returned by calculate_moving_avg function\"\n",
    "for num in means:\n",
    "    assert isinstance(num, float), \"Wrong value type. calculate_moving_avg function is supposed to return a list of floats\""
   ]
  },
  {
   "cell_type": "markdown",
   "metadata": {
    "nbgrader": {
     "grade": false,
     "grade_id": "cell-f69c47f763231f30",
     "locked": true,
     "schema_version": 3,
     "solution": false,
     "task": false
    }
   },
   "source": [
    "If you solved the previous exercise correctly, the previos exception should have dissappeared, but there should still be another exception if you execute the code below:\n",
    "\n",
    "```\n",
    "---------------------------------------------------------------------------\n",
    "TypeError                                 Traceback (most recent call last)\n",
    "<ipython-input-27-2c8baf7cfac4> in <module>\n",
    "      1 nums = read_nums('document.txt')\n",
    "      2 means = calculate_moving_avg(nums)\n",
    "----> 3 write_nums('result.txt', means)\n",
    "\n",
    "<ipython-input-25-8ffcbd828a96> in write_nums(file_name, nums)\n",
    "     23     with open(file_name, 'w') as f:\n",
    "     24         for num in nums:\n",
    "---> 25             f.write(num)\n",
    "     26 \n",
    "     27 \n",
    "\n",
    "TypeError: write() argument must be str, not float\n",
    "```\n"
   ]
  },
  {
   "cell_type": "code",
   "execution_count": 10,
   "metadata": {},
   "outputs": [],
   "source": [
    "# nums = read_nums('document.txt')\n",
    "# means = calculate_moving_avg(nums)\n",
    "# write_nums('result.txt', means)"
   ]
  },
  {
   "cell_type": "markdown",
   "metadata": {
    "nbgrader": {
     "grade": false,
     "grade_id": "cell-63477f91f0cc9551",
     "locked": true,
     "schema_version": 3,
     "solution": false,
     "task": false
    }
   },
   "source": [
    "\n",
    "\n",
    "# Task 4:\n",
    "\n",
    "\n",
    "Answer the following questions by assigning the letter of the correct option to the `answer_i` variable, where i is the question number.\n",
    "\n",
    "For example, `answer_1=\"A\"`\n",
    "\n",
    "Some questions may have more than one correct answer, so in that case type all the letters that match without spaces: \n",
    "\n",
    "`answer_i = \"ABC\"`\n",
    "\n",
    "\n",
    "\n",
    "1. What's the type of the Exception?\n",
    "\n",
    "```\n",
    "A. IndexError\n",
    "B. TypeError\n",
    "C. NameError\n",
    "D. SyntaxError\n",
    "```\n",
    "\n",
    "2. What's the error message.\n",
    "\n",
    "```\n",
    "A. write() argument must be str, not float\n",
    "B. Traceback (most recent call last)\n",
    "C. f.write(num)\n",
    "D. write_nums('result.txt', means)\n",
    "```\n",
    "\n",
    "3. What is/are the line(s) of code that cause the errors?\n",
    "\n",
    "```\n",
    "A. current_sum += i \n",
    "B. means.append(current_sum / n_items)\n",
    "C. write_nums('result.txt', means)\n",
    "D. f.write(num)\n",
    "```"
   ]
  },
  {
   "cell_type": "code",
   "execution_count": 11,
   "metadata": {
    "nbgrader": {
     "grade": false,
     "grade_id": "cell-9e13dd102b96d202",
     "locked": false,
     "schema_version": 3,
     "solution": true,
     "task": false
    }
   },
   "outputs": [],
   "source": [
    "# answer_1 = \"\"\n",
    "# answer_2 = \"\"\n",
    "# answer_3 = \"\"\n",
    "\n",
    "### BEGIN SOLUTION\n",
    "\n",
    "\n",
    "\n",
    "answer_1 = \"B\"\n",
    "answer_2 = \"A\"\n",
    "answer_3 = \"CD\"\n",
    "\n",
    "\n",
    "### END SOLUTION\n"
   ]
  },
  {
   "cell_type": "code",
   "execution_count": 12,
   "metadata": {
    "nbgrader": {
     "grade": true,
     "grade_id": "cell-a2a266bf76e087e1",
     "locked": true,
     "points": 2,
     "schema_version": 3,
     "solution": false,
     "task": false
    }
   },
   "outputs": [],
   "source": [
    "assert _hash(''.join(sorted(answer_1.upper()))) == '90a8cbb480', \"Wrong exception type\"\n",
    "assert _hash(''.join(sorted(answer_2.upper()))) == 'b685b2f862', \"Wrong error message\"\n",
    "assert _hash(''.join(sorted(answer_3.upper()))) == '94c05104ae', \"Wrong error code lines\""
   ]
  },
  {
   "cell_type": "markdown",
   "metadata": {
    "nbgrader": {
     "grade": false,
     "grade_id": "cell-aa5aad50b98bbde6",
     "locked": true,
     "schema_version": 3,
     "solution": false,
     "task": false
    }
   },
   "source": [
    "## Task 5:\n",
    "\n",
    "As you might have noticed, the last error is `TypeError: write() argument must be str, not float`, and it's the result of calling `f.write(num)` in `write_nums` function.\n",
    "\n",
    "What does and what doesn't it mean?\n",
    "\n",
    "It doesn't mean that the `write_nums` function contains bugs. \n",
    "\n",
    "However, there was something wrong while executing `f.write(num)` inside `calculate_moving_avg`. Being more precise, we're trying to write a float, but it's expected to be a string.\n",
    "\n",
    "In fact, if we check the `write` method documentation [here](https://www.w3schools.com/python/ref_file_write.asp), we can find the following:\n",
    "\n",
    "`parameter: byte --- The text or byte object that will be inserted.`\n",
    "\n",
    "It means that write method doesn't allow to write anything besides strings and byte objects.\n",
    "\n",
    "Seems like `num` is a float number.\n",
    "\n",
    "\n",
    "Your task is to modify the code in such a way, so that `write` method works.\n",
    "\n",
    "**NOTE:** \n",
    "\n",
    "There might still be some other bugs in our code, but we'll only solve them in the next tasks. Don't edit anything that's not related to this particular exception."
   ]
  },
  {
   "cell_type": "code",
   "execution_count": 13,
   "metadata": {
    "nbgrader": {
     "grade": false,
     "grade_id": "cell-082945ee7566cb3c",
     "locked": false,
     "schema_version": 3,
     "solution": true,
     "task": false
    }
   },
   "outputs": [],
   "source": [
    "### BEGIN SOLUTION\n",
    "\n",
    "\n",
    "\n",
    "def write_nums(file_name, nums):\n",
    "    with open(file_name, 'w') as f:\n",
    "        for num in nums:\n",
    "            f.write(str(num))\n",
    "\n",
    "            \n",
    "            \n",
    "### END SOLUTION\n"
   ]
  },
  {
   "cell_type": "code",
   "execution_count": 14,
   "metadata": {},
   "outputs": [],
   "source": [
    "nums = read_nums('document.txt')\n",
    "means = calculate_moving_avg(nums)\n",
    "write_nums('result.txt', means)"
   ]
  },
  {
   "cell_type": "markdown",
   "metadata": {
    "nbgrader": {
     "grade": false,
     "grade_id": "cell-34845f53a325f927",
     "locked": true,
     "schema_version": 3,
     "solution": false,
     "task": false
    }
   },
   "source": [
    "## Task 5\n",
    "\n",
    "If you did everything correctly in the previous exercise, there should be no more exceptions.\n",
    "\n",
    "But it doesn't mean that our program works 100% correctly, right?\n",
    "\n",
    "We need to validate that the results are correct.\n",
    "\n",
    "Let's read the task once again.\n",
    "\n",
    "```\n",
    "Our task is to write a program that read a text file that contains a batch of numbers, calculate its moving average and write to another text file called `result.txt`.\n",
    "\n",
    "The final `result.txt` file should contain all the moving averages placed on new lines.\n",
    "```\n",
    "\n",
    "Did we meet the requirements? If you opened the `result.txt` file, you'd find out that it looks like this:\n",
    "\n",
    "<img src=\"./assets/result.png\" width=\"900\">\n",
    "\n",
    "And the task description says that the results file should contain numbers placed on new lines.\n",
    "\n",
    "Your task is to modify the code in such a way, so that each number is on a new line.\n",
    "The last line should be a number, not an empty string.\n",
    "\n",
    "e.g., correct:\n",
    "\n",
    "`10.5`\n",
    "\n",
    "`3.5`\n",
    "\n",
    "`1.2`\n",
    "\n",
    "\n",
    "wrong:\n",
    "\n",
    "`10.5`\n",
    "\n",
    "`3.5`\n",
    "\n",
    "`1.2`\n",
    "\n",
    "` `"
   ]
  },
  {
   "cell_type": "code",
   "execution_count": 15,
   "metadata": {
    "nbgrader": {
     "grade": false,
     "grade_id": "cell-ed7689c30aba19db",
     "locked": false,
     "schema_version": 3,
     "solution": true,
     "task": false
    }
   },
   "outputs": [],
   "source": [
    "### BEGIN SOLUTION\n",
    "\n",
    "\n",
    "def write_nums(file_name, nums):\n",
    "    with open(file_name, 'w') as f:\n",
    "        for i in range(len(nums)):\n",
    "            f.write(str(nums[i]))\n",
    "            if i != len(nums) - 1:\n",
    "                f.write('\\n')\n",
    "                \n",
    "                \n",
    "### END SOLUTION\n"
   ]
  },
  {
   "cell_type": "code",
   "execution_count": 16,
   "metadata": {
    "nbgrader": {
     "grade": true,
     "grade_id": "cell-c9e2a417b3135004",
     "locked": true,
     "points": 3,
     "schema_version": 3,
     "solution": false,
     "task": false
    }
   },
   "outputs": [],
   "source": [
    "nums = read_nums('document.txt')\n",
    "means = calculate_moving_avg(nums)\n",
    "write_nums('result.txt', means)\n",
    "with open('result.txt', 'r') as f:\n",
    "    content = f.readlines()\n",
    "assert len(content) == 19, \"Are you sure there is the same number of lines in the text file, as in the moving averages list?\"\n",
    "for i in range(len(content)):\n",
    "    line = content[i]\n",
    "    if i != len(content) - 1:\n",
    "        assert line[-1:] == \"\\n\", \"Are you sure there is a newline symbol after each number (besides the last one)?\"\n",
    "    else:\n",
    "        assert line[-1:] != \"\\n\", \"There should be no newline symbol at the end of the file\"\n",
    "    num = float(line.strip()) # if line.strip() can be converted to float, everything is alright"
   ]
  },
  {
   "cell_type": "markdown",
   "metadata": {
    "nbgrader": {
     "grade": false,
     "grade_id": "cell-5850b6ab3bdf73fe",
     "locked": true,
     "schema_version": 3,
     "solution": false,
     "task": false
    }
   },
   "source": [
    "### And now... Mission Accomplished!!! 🎉🎉🎉\n",
    "Now you can rest for this week, because your work was amaaaaaaazing (Again)!\n",
    "\n",
    "**But don't forget...**\n",
    "\n",
    "***\n",
    "\n",
    "# Submit your work!\n",
    "\n",
    "To submit your work, [get your slack id](https://moshfeu.medium.com/how-to-find-my-member-id-in-slack-workspace-d4bba942e38c) and fill it in the `slack_id` variable.\n",
    "\n",
    "Example: `slack_id = \"UTS63FC02\"`"
   ]
  },
  {
   "cell_type": "code",
   "execution_count": 17,
   "metadata": {
    "nbgrader": {
     "grade": false,
     "grade_id": "cell-7281d78bfd08794b",
     "locked": false,
     "schema_version": 3,
     "solution": true,
     "task": false
    }
   },
   "outputs": [],
   "source": [
    "### BEGIN SOLUTION\n",
    "slack_id = \"U021LT8KJ8P\"\n",
    "### END SOLUTION\n",
    "# slack_id ="
   ]
  },
  {
   "cell_type": "code",
   "execution_count": null,
   "metadata": {
    "nbgrader": {
     "grade": true,
     "grade_id": "cell-383debe5cc5ea67b",
     "locked": true,
     "points": 0,
     "schema_version": 3,
     "solution": false,
     "task": false
    }
   },
   "outputs": [],
   "source": [
    "from submit import submit\n",
    "\n",
    "assert slack_id is not None\n",
    "submit(slack_id=slack_id, learning_unit=15)"
   ]
  },
  {
   "cell_type": "markdown",
   "metadata": {
    "nbgrader": {
     "grade": false,
     "grade_id": "cell-8363212ffb283091",
     "locked": true,
     "schema_version": 3,
     "solution": false,
     "task": false
    }
   },
   "source": [
    "## Help us improve this course!\n",
    "\n",
    "Please help us provide even better experience for the next year students by filling up this form:\n",
    "https://forms.gle/kp36emHkxPJXGqKh8"
   ]
  },
  {
   "cell_type": "code",
   "execution_count": null,
   "metadata": {},
   "outputs": [],
   "source": []
  }
 ],
 "metadata": {
  "celltoolbar": "Create Assignment",
  "kernelspec": {
   "display_name": "Python 3",
   "language": "python",
   "name": "python3"
  },
  "language_info": {
   "codemirror_mode": {
    "name": "ipython",
    "version": 3
   },
   "file_extension": ".py",
   "mimetype": "text/x-python",
   "name": "python",
   "nbconvert_exporter": "python",
   "pygments_lexer": "ipython3",
   "version": "3.7.10"
  }
 },
 "nbformat": 4,
 "nbformat_minor": 2
}
