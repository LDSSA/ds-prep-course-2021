{
 "cells": [
  {
   "cell_type": "markdown",
   "metadata": {},
   "source": [
    "# Final Project - Snake"
   ]
  },
  {
   "cell_type": "markdown",
   "metadata": {},
   "source": [
    "## Exercise 1\n",
    "Open the file `snake.py`. Look for the methods `move_right`, `move_left`, `move_up`, `move_down`. On this exercise you will need to implement these methods. The expected behavior is described on the methods docstring. If you have some doubts, please refer to the Learning Notebook\n",
    "\n",
    "Once you are done, please run the cell below and make sure that the tests pass. If you prefer you can run the tests by navigating to the root folder of your project and then run the command `pytest tests.py -k 'test_movement'`."
   ]
  },
  {
   "cell_type": "code",
   "execution_count": null,
   "metadata": {},
   "outputs": [],
   "source": [
    "!pytest tests.py -k 'test_movement'"
   ]
  },
  {
   "cell_type": "markdown",
   "metadata": {},
   "source": [
    "## Exercise 2\n",
    "Open the file `snake.py`. Look for the method `hit_apple`. On this exercise you will need to implement this method. The expected behavior is described on the method docstring.\n",
    "\n",
    "Once you are done, please run the cell below and make sure that the tests pass. If you prefer you can run the tests by navigating to the root folder of your project and then run the command `pytest tests.py -k 'test_hit_apple'`."
   ]
  },
  {
   "cell_type": "code",
   "execution_count": null,
   "metadata": {},
   "outputs": [],
   "source": [
    "!pytest tests.py -k 'test_hit_apple'"
   ]
  },
  {
   "cell_type": "markdown",
   "metadata": {},
   "source": [
    "## Exercise 3\n",
    "Open the file `snake.py`. Look for the method `_hit_itself`. On this exercise you will need to implement this method. The expected behavior is described on the method docstring.\n",
    "\n",
    "Once you are done, please run the cell below and make sure that the tests pass. If you prefer you can run the tests by navigating to the root folder of your project and then run the command `pytest tests.py -k 'test_hit_itself'`."
   ]
  },
  {
   "cell_type": "code",
   "execution_count": null,
   "metadata": {},
   "outputs": [],
   "source": [
    "!pytest tests.py -k 'test_hit_itself'"
   ]
  },
  {
   "cell_type": "code",
   "execution_count": null,
   "metadata": {},
   "outputs": [],
   "source": [
    "!pytest tests.py"
   ]
  },
  {
   "cell_type": "markdown",
   "metadata": {},
   "source": [
    "## Submit your work!\n",
    "To submit your work, get your slack id and fill it in the slack_id variable.\n",
    "Example: slack_id = \"UTS63FC02\""
   ]
  },
  {
   "cell_type": "code",
   "execution_count": null,
   "metadata": {
    "deletable": false,
    "nbgrader": {
     "grade": true,
     "grade_id": "cell-059403a09f237ff0",
     "locked": false,
     "points": 0,
     "schema_version": 3,
     "solution": true,
     "task": false
    }
   },
   "outputs": [],
   "source": [
    "# YOUR CODE HERE\n",
    "raise NotImplementedError()\n",
    "# slack_id ="
   ]
  },
  {
   "cell_type": "code",
   "execution_count": null,
   "metadata": {},
   "outputs": [],
   "source": [
    "from submit import submit\n",
    "\n",
    "assert slack_id is not None\n",
    "submit(slack_id=slack_id, learning_unit=16)"
   ]
  },
  {
   "cell_type": "markdown",
   "metadata": {},
   "source": [
    "# Help us to improve the course!\n",
    "Please help us to provide a even better experience for next year students by filling up this form\n",
    "https://forms.gle/GZPZvN9fR5fJ2z2a7"
   ]
  },
  {
   "cell_type": "markdown",
   "metadata": {},
   "source": [
    "If you have reached this cell without seeing any error, congratulations, your game is now fully functional. Run your game and give it a play.\n",
    "\n",
    "Go to your terminal, navigate to the root folder of the project `~/projects/ds-prep-workspace/Week 09/SUL16 - Final Project` and then type `python main.py`. \n",
    "\n",
    "If you are on WSL, **please start xlaunch** (refer to the WSL requirements of the learning notebook), and run `export DISPLAY=localhost:0.0 && python main.py`"
   ]
  },
  {
   "cell_type": "markdown",
   "metadata": {},
   "source": [
    "## Next Steps\n",
    "If you think that it was too easy, we have some suggestion of improvements to do on the project.\n",
    "\n",
    "- Add some adtional key shortcuts. Q will exit the Game, P will pause the game.\n",
    "- Implement a new version of the game. In this new version, you lose if you hit the wall. You can do that by doing a sub class of the SnakeGame and change the behaviour of one of the methods.\n",
    "- Change the design of the game, create your own design"
   ]
  }
 ],
 "metadata": {
  "kernelspec": {
   "display_name": "Python 3",
   "language": "python",
   "name": "python3"
  },
  "language_info": {
   "codemirror_mode": {
    "name": "ipython",
    "version": 3
   },
   "file_extension": ".py",
   "mimetype": "text/x-python",
   "name": "python",
   "nbconvert_exporter": "python",
   "pygments_lexer": "ipython3",
   "version": "3.8.6"
  }
 },
 "nbformat": 4,
 "nbformat_minor": 4
}
