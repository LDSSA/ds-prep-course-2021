{
 "cells": [
  {
   "cell_type": "markdown",
   "metadata": {},
   "source": [
    "# SLU00 - Jupyter Notebook: Learning notebook\n",
    "\n",
    "## How to use use jupyter notebooks\n",
    "\n",
    "Let's begin by defining 3 sections of the Jupyter interface: in the following image, you can see the Menu bar in blue, the Toolbar in orange and the Code cell in yellow:\n",
    "\n",
    "<img width=\"1000\" src=\"https://imgur.com/kuydWWc.png\"/>\n",
    "\n",
    "You can see a code cell just below this cell as well:"
   ]
  },
  {
   "cell_type": "code",
   "execution_count": null,
   "metadata": {},
   "outputs": [],
   "source": []
  },
  {
   "cell_type": "markdown",
   "metadata": {},
   "source": [
    "In case you are wondering why the cells are different, the cells were I'm teaching you the concepts are called markdown cells. We will understand what they are in a latter stage in this SLU. For now, focus on reading them and applying the concepts in the code cells.\n",
    "\n",
    "Go ahead and type `print(\"hello world\")` in the code cell below this one and click on \"Run\" in the Toolbar. \n"
   ]
  },
  {
   "cell_type": "code",
   "execution_count": 1,
   "metadata": {},
   "outputs": [],
   "source": [
    "#Tip: Just copy and past the print statement"
   ]
  },
  {
   "cell_type": "code",
   "execution_count": null,
   "metadata": {},
   "outputs": [],
   "source": []
  },
  {
   "cell_type": "markdown",
   "metadata": {},
   "source": [
    "The output should look like this:\n",
    "\n",
    "<img width=\"500\" src=\"https://imgur.com/Ac322Vm.png\"/>\n",
    "\n",
    "Congratulations! You've just ran your first jupyter notebook cell. Let's hope this is the first of many to come!\n",
    "\n",
    "If you're wondering what's the [4] in the image, it's a sequential execution number. It means that this was the fourth cell that was run in my notebook. You should have a [1] in your current notebook. Notice that running the same cell twice will also update this sequential number. Reselect the cell (by clicking on it) and click on \"Run\" in the Toolbar to see it being updated to [2].\n",
    "\n",
    "Also, you do not have to run each cell one by one. Go ahead and type `print(\"I'm a professional programmer now\")` in the second code cell above and instead of clicking on \"Run\" in the Toolbar, click on \"Cell\" in the Menu bar and then click  on \"Run All\". This will run all the cells in the notebook, it doesn't matter how many cells you have.\n",
    "\n",
    "You can also swap cells positions by clicking in the up or down arrows in the Tool bar. Give it a try to swap the two cells above.\n",
    "\n",
    "But to be honest, I have never even used that command while I was in the academy. I would always restart the notebook and then ran all cells.\n",
    "To understand why, let me introduce you to a new concept: the notebook kernel."
   ]
  },
  {
   "cell_type": "markdown",
   "metadata": {},
   "source": [
    "## Notebook Kernel\n",
    "\n",
    "The notebook kernel is a “computational engine” that executes the code contained in the jupyter notebook document. \n",
    "Since you choose to create the notebook with Python 3, the kernel executes Python code. There are kernels for other languages but in the prep course and in the academy, we will only be using Python 3.\n",
    "When you open a jupyter notebook document, the associated kernel is automatically launched. When the notebook is executed, the kernel performs the computation and produces the results. Depending on the type of computations, the kernel may consume significant CPU and RAM. However, for the prep course and the academy, you should be more than fine with 8GB of RAM.\n",
    "\n",
    "Now, what does this have to do with restarting the notebook before running all cells? We'll almost there! Look at this example:\n",
    "\n",
    "<img width=\"1000\" src=\"https://imgur.com/BE6TnC3.png\"/>\n",
    "\n",
    "For the purpose of the example, just imagine that I'm storing the value 1 in a variable named a, the value 2 in a variable named b and the value 3 in a variable named c. And in the end, I'm printing them. It's straightforward, right?\n",
    "\n",
    "Now, imagine that for some reason I later decide that I don't want to store the value 2 in variable b, in fact, I don't want to create a variable b after all. So, I delete that cell (you can do the same by clicking Edit in the Menu bar and then \"Delete Cells\". Next to it is an option \"Undo Delete Cells\" incase you delete the wrong cell). I then decide to run all cells again. This is what I would get: \n",
    "\n",
    "<img width=\"1000\" src=\"https://imgur.com/SYtvudV.png\"/>\n",
    "\n",
    "This looks strange right? There is no b being defined in my notebook, but it seems that the notebook somehow \"remembers\" that b used to store the value 2. Let's go ahead and print only b:\n",
    "\n",
    "<img width=\"1000\" src=\"https://imgur.com/kmQ4OCQ.png\"/>\n",
    "\n",
    "So, our suspicions are true! The lesson here is that the jupyter kernel stored the information \"b = 2\" in memory and deleting the cell that previously had this instruction **does not** erase this information from memory. So, if we really don't want this information to be stored in memory, what could we do?\n",
    "\n",
    "As I've told you before, this is why I restart the notebook before running all cells. Restarting the notebook will erase everything from the kernel memory and when you run all cells again **only** the current code cells will be considered. \n",
    "Let's try this! On the Menu bar click in \"Kernel\" and then in \"Restart & Run All\". You should see something like this:\n",
    "\n",
    "<img width=\"1000\" src=\"https://imgur.com/a9i44nG.png\"/>\n",
    "\n",
    "So now we have an error saying that \"b\" is not defined, which sounds about right since \"b\" is not defined anywhere in our notebook! This may seem like a simple detail and I'm sure some of you are thinking \"this is stupid and I would never do this\" but trust me: along the prep course or the academy this is a very common mistake to do and you can end up spending a lot of time in bugs that will trace back to this issue. Apply these concepts in the cells below (remember that to delete a cell you need to click Edit in the Menu bar and then \"Delete Cells\"):"
   ]
  },
  {
   "cell_type": "code",
   "execution_count": 2,
   "metadata": {},
   "outputs": [],
   "source": [
    "a = 1"
   ]
  },
  {
   "cell_type": "code",
   "execution_count": 3,
   "metadata": {},
   "outputs": [],
   "source": [
    "b = 2"
   ]
  },
  {
   "cell_type": "code",
   "execution_count": 4,
   "metadata": {},
   "outputs": [],
   "source": [
    "c = 3"
   ]
  },
  {
   "cell_type": "code",
   "execution_count": 5,
   "metadata": {},
   "outputs": [
    {
     "name": "stdout",
     "output_type": "stream",
     "text": [
      "1 2 3\n"
     ]
    }
   ],
   "source": [
    "print(a, b, c)"
   ]
  },
  {
   "cell_type": "markdown",
   "metadata": {},
   "source": [
    "## Shortcuts\n",
    "\n",
    "Last but not least, I'll teach you about some shortcuts that will greatly improve your productivity in jupyter notebook. Up until now we've been using the edit mode of jupyter notebooks. You can check that a cell is in edit mode by looking at a little green bar in the left of the cell:\n",
    "\n",
    "<img width=\"1000\" src=\"https://imgur.com/bDkOAQH.png\"/>\n",
    "\n",
    "When you click on a cell, edit mode is selected. However, if you click \"esc\" or if you click outside of the cell gray area, you will see that the green bar will turn blue:\n",
    "\n",
    "\n",
    "<img width=\"1000\" src=\"https://imgur.com/u32PrOW.png\"/>\n",
    "\n",
    "Try it by yourself in the cell below:"
   ]
  },
  {
   "cell_type": "code",
   "execution_count": 6,
   "metadata": {},
   "outputs": [],
   "source": [
    "a = 1"
   ]
  },
  {
   "cell_type": "markdown",
   "metadata": {},
   "source": [
    "When this happens, you're now in command mode! When you are in command mode you can't edit the contents of the cells, but you can use a lot of shortcuts that will make your life easier! \n",
    "\n",
    "Using the keyboard arrows \"up\" and \"down\" you can select different cells in your notebook. In editing mode, typing \"a\" will insert a cell above the cell that you're selecting and typing \"b\" will insert a cell below the cell that you're selecting. Typing \"d\" two times in fast succession will delete the cell that you're selecting.\n",
    "Using \"shift\" and then the keyboard arrows \"up\" and \"down\" will select various code cells. You can then type \"shift\"+\"M\" to merge the cells.\n",
    "\n",
    "\n",
    "## Markdown cells\n",
    "If you type \"M\" the cell will change to markdown and typing \"Y\" will change the cell back to code. Markdown cells are cells that accept text using a specific syntax. They can be used to teach concepts (as I've been doing in this notebook) but during the academy I mostly used them to store information that was too important to go into a comment. Try it for yourself: change the cell below to markdown and copy paste the following text:\n",
    "\n",
    "\\#\\# This is how you can create a header in markdown\n",
    "\n",
    "And to create a list:\n",
    "\n",
    "\\- Banana\n",
    "\n",
    "\\- Papaya\n",
    "\n",
    "\\- Orange"
   ]
  },
  {
   "cell_type": "code",
   "execution_count": null,
   "metadata": {},
   "outputs": [],
   "source": []
  },
  {
   "cell_type": "markdown",
   "metadata": {},
   "source": [
    "Now you've learn how to to create an header and a list using markdown cells!\n",
    "\n",
    "When you're done in command mode, you can just click \"enter\" to go back to edit mode, in the cell that you're selecting. In edit mode, there are two shortcuts that also come in handy, the first one is \"shift\"+\"enter\", it will run the current cell and also create a new cell under it, so that you can easily continue coding. The other one is \"ctrl\"+\"enter\" which will just run the current cell. Both will save you a lot of clicks in Toolbar! \n",
    "\n",
    "Sadly, my most used command \"Restart & Run All\" doesn't have a shortcut. What I've done, since I was using it so many times, was defining it myself. You can do that as well (and remember that this is just a personal tip) by clicking \"Help\" in the Menu bar, selecting \"Edit Keyboard Shortcuts\", search for the \"restart kernel and run all cells\" command and type \"Ctrl-R\" in the \"add shortcut\" field and then clicking \"OK\" in the bottom right corner of the window. This way you can just click in \"ctrl\"+\"R\" instead of doing it the manual way.\n",
    "\n"
   ]
  },
  {
   "cell_type": "markdown",
   "metadata": {},
   "source": [
    "## How to save your work"
   ]
  },
  {
   "cell_type": "markdown",
   "metadata": {},
   "source": [
    "Edits made to Jupyter Notebook files are saved as you go. That being said, before stop working, we'd recommend you to save the work to make sure nothing is lost.\n",
    "\n",
    "Imagine that you are working late at night, and have finished half of the exercises. You'd like to save your existing work, and continue it tomorrow morning. Let's see how we can do it:\n",
    "\n",
    "1. Save your work by using the Command Control-S (or click on the Save button icon)\n",
    "2. Close your browser tab and exit the terminal\n",
    "3. Follow the same steps outlined [here](https://github.com/LDSSA/ds-prep-course-2021#22---working-on-the-learning-units) to assume your work \n"
   ]
  },
  {
   "cell_type": "markdown",
   "metadata": {},
   "source": [
    "## Cell states"
   ]
  },
  {
   "attachments": {},
   "cell_type": "markdown",
   "metadata": {},
   "source": [
    "A cell can have 3 states in Jupyter notebook:\n",
    "#### 1. Did not run\n",
    "If a cell did not run, the bracket on the left handside will be empty \n",
    "<img width=\"1000\" src=\"https://i.imgur.com/vKci5FS.png\"/>\n",
    "\n",
    "#### 2. Running\n",
    "This means that your kernel is busy and the cell is being executed. If you your cells are running with the [*] for a long time, you might want to interrupt/stop the execution. You can do this by going to the menu Kernel and clicking Interrupt. If it doesn't work, click Restart.\n",
    "\n",
    "<img width=\"1000\" src=\"https://i.imgur.com/T3J8FfB.png\"/>\n",
    "\n",
    "#### 3. Ran\n",
    "Yay! The cell ran without any problem!\n",
    "<img width=\"1000\" src=\"https://i.imgur.com/IrclC4U.png\"/>"
   ]
  },
  {
   "cell_type": "markdown",
   "metadata": {},
   "source": [
    "We've reached the end! Try to practice the shortcuts in this notebook and in the exercise notebook. If you have any doubt, ask on slack! Goodluck"
   ]
  }
 ],
 "metadata": {
  "kernelspec": {
   "display_name": "Python 3",
   "language": "python",
   "name": "python3"
  },
  "language_info": {
   "codemirror_mode": {
    "name": "ipython",
    "version": 3
   },
   "file_extension": ".py",
   "mimetype": "text/x-python",
   "name": "python",
   "nbconvert_exporter": "python",
   "pygments_lexer": "ipython3",
   "version": "3.6.0"
  }
 },
 "nbformat": 4,
 "nbformat_minor": 2
}
