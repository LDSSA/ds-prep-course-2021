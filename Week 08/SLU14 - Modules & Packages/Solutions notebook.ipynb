{
 "cells": [
  {
   "cell_type": "markdown",
   "metadata": {
    "deletable": false,
    "editable": false,
    "nbgrader": {
     "grade": false,
     "grade_id": "cell-247a89c62ef447e8",
     "locked": true,
     "schema_version": 3,
     "solution": false,
     "task": false
    }
   },
   "source": [
    "# SLU14 - Modules and Packages "
   ]
  },
  {
   "cell_type": "markdown",
   "metadata": {
    "deletable": false,
    "editable": false,
    "nbgrader": {
     "grade": false,
     "grade_id": "cell-1edd6d8c353adac9",
     "locked": true,
     "schema_version": 3,
     "solution": false,
     "task": false
    }
   },
   "source": [
    "#### Start by importing the following module"
   ]
  },
  {
   "cell_type": "code",
   "execution_count": 1,
   "metadata": {
    "deletable": false,
    "editable": false,
    "nbgrader": {
     "grade": false,
     "grade_id": "cell-a854be34a91820a2",
     "locked": true,
     "schema_version": 3,
     "solution": false,
     "task": false
    }
   },
   "outputs": [],
   "source": [
    "#used for evaluation\n",
    "import utils"
   ]
  },
  {
   "cell_type": "markdown",
   "metadata": {
    "deletable": false,
    "editable": false,
    "nbgrader": {
     "grade": false,
     "grade_id": "cell-3de184c84d03868a",
     "locked": true,
     "schema_version": 3,
     "solution": false,
     "task": false
    }
   },
   "source": [
    "### Q1 What is a module in python?"
   ]
  },
  {
   "cell_type": "markdown",
   "metadata": {
    "deletable": false,
    "editable": false,
    "nbgrader": {
     "grade": false,
     "grade_id": "cell-f7898dc12e84fd8d",
     "locked": true,
     "schema_version": 3,
     "solution": false,
     "task": false
    }
   },
   "source": [
    "a) A set of attributes;   \n",
    "b) A set of files with the `.py` extension;   \n",
    "c) A file with the `.py` extension;   \n",
    "d) A file with the `.ipynb` extension;"
   ]
  },
  {
   "cell_type": "code",
   "execution_count": null,
   "metadata": {
    "deletable": false,
    "nbgrader": {
     "grade": false,
     "grade_id": "cell-ec299e14ecce1f27",
     "locked": false,
     "schema_version": 3,
     "solution": true,
     "task": false
    }
   },
   "outputs": [],
   "source": [
    "# uncomment the right answer\n",
    "# answer = \"a\"\n",
    "# answer = \"b\"\n",
    "# answer = \"c\"\n",
    "# answer = \"d\"\n",
    "### BEGIN SOLUTION\n",
    "answer = 'c'\n",
    "### END SOLUTION"
   ]
  },
  {
   "cell_type": "code",
   "execution_count": 3,
   "metadata": {
    "deletable": false,
    "editable": false,
    "nbgrader": {
     "grade": true,
     "grade_id": "cell-60bb3a2487965c64",
     "locked": true,
     "points": 0,
     "schema_version": 3,
     "solution": false,
     "task": false
    }
   },
   "outputs": [],
   "source": [
    "assert utils.encode_answer(answer) == utils.q1, \"Wrong answer.\""
   ]
  },
  {
   "cell_type": "markdown",
   "metadata": {
    "deletable": false,
    "editable": false,
    "nbgrader": {
     "grade": false,
     "grade_id": "cell-4790904cb20e20e2",
     "locked": true,
     "schema_version": 3,
     "solution": false,
     "task": false
    }
   },
   "source": [
    "### Q2 How should we organize code in a module?"
   ]
  },
  {
   "cell_type": "markdown",
   "metadata": {
    "deletable": false,
    "editable": false
   },
   "source": [
    "a) In attributes: classes, functions and variables;      \n",
    "\n",
    "b) With no special organization, but with all code inside `if __name__==\"__main__\"`;   \n",
    "\n",
    "c) With no special organization at all;   \n",
    "\n",
    "d) In attributes: classes, functions and variables. If we also want to run it as a script, the entry point should be inside  `if __name__==\"__main__\"`;"
   ]
  },
  {
   "cell_type": "code",
   "execution_count": null,
   "metadata": {
    "deletable": false,
    "nbgrader": {
     "grade": false,
     "grade_id": "cell-2f1a5dfccc2eee9b",
     "locked": false,
     "schema_version": 3,
     "solution": true,
     "task": false
    }
   },
   "outputs": [],
   "source": [
    "# uncomment the right answer\n",
    "# answer = \"a\"\n",
    "# answer = \"b\"\n",
    "# answer = \"c\"\n",
    "# answer = \"d\"\n",
    "### BEGIN SOLUTION\n",
    "answer = 'd'\n",
    "### END SOLUTION"
   ]
  },
  {
   "cell_type": "code",
   "execution_count": 7,
   "metadata": {
    "deletable": false,
    "editable": false,
    "nbgrader": {
     "grade": true,
     "grade_id": "cell-18368bb83c4a41b4",
     "locked": true,
     "points": 0,
     "schema_version": 3,
     "solution": false,
     "task": false
    }
   },
   "outputs": [],
   "source": [
    "assert utils.encode_answer(answer) == utils.q2, \"Wrong answer.\""
   ]
  },
  {
   "cell_type": "markdown",
   "metadata": {
    "deletable": false,
    "editable": false,
    "nbgrader": {
     "grade": false,
     "grade_id": "cell-e1b62152b48bd757",
     "locked": true,
     "schema_version": 3,
     "solution": false,
     "task": false
    }
   },
   "source": [
    "### Q3 Why should modules be organized that way? "
   ]
  },
  {
   "cell_type": "markdown",
   "metadata": {
    "deletable": false,
    "editable": false,
    "nbgrader": {
     "grade": false,
     "grade_id": "cell-88ec3c6dcf76abc5",
     "locked": true,
     "schema_version": 3,
     "solution": false,
     "task": false
    }
   },
   "source": [
    "a) Just because it is better organized and easier to debug;   \n",
    "b) In that way we can use the attributes outside of the file and still run it as a script."
   ]
  },
  {
   "cell_type": "code",
   "execution_count": null,
   "metadata": {
    "deletable": false,
    "nbgrader": {
     "grade": false,
     "grade_id": "cell-7a2c49000d940397",
     "locked": false,
     "schema_version": 3,
     "solution": true,
     "task": false
    }
   },
   "outputs": [],
   "source": [
    "# uncomment the right answer\n",
    "# answer = \"a\"\n",
    "# answer = \"b\"\n",
    "### BEGIN SOLUTION\n",
    "answer = 'b'\n",
    "### END SOLUTION"
   ]
  },
  {
   "cell_type": "code",
   "execution_count": 9,
   "metadata": {
    "deletable": false,
    "editable": false,
    "nbgrader": {
     "grade": true,
     "grade_id": "cell-cd2427e89b7707cb",
     "locked": true,
     "points": 0,
     "schema_version": 3,
     "solution": false,
     "task": false
    }
   },
   "outputs": [],
   "source": [
    "assert utils.encode_answer(answer) == utils.q3, \"Wrong answer.\""
   ]
  },
  {
   "cell_type": "markdown",
   "metadata": {
    "deletable": false,
    "editable": false,
    "nbgrader": {
     "grade": false,
     "grade_id": "cell-858bdde756a66e73",
     "locked": true,
     "schema_version": 3,
     "solution": false,
     "task": false
    }
   },
   "source": [
    "### Q4 What is NOT an advantage of organizing our projects by modules? "
   ]
  },
  {
   "cell_type": "markdown",
   "metadata": {
    "deletable": false,
    "editable": false,
    "nbgrader": {
     "grade": false,
     "grade_id": "cell-f9e45e8f6e62913c",
     "locked": true,
     "schema_version": 3,
     "solution": false,
     "task": false
    }
   },
   "source": [
    "a) It enables us to separate code by features and avoid duplicated code;   \n",
    "b) It makes the code easier to debug, maintain and scale;   \n",
    "c) It allows us to run Python scripts;   \n",
    "d) It allows us to package our modules together and use them in other projects;  "
   ]
  },
  {
   "cell_type": "code",
   "execution_count": null,
   "metadata": {
    "deletable": false,
    "nbgrader": {
     "grade": false,
     "grade_id": "cell-a4658c8feaa4f078",
     "locked": false,
     "schema_version": 3,
     "solution": true,
     "task": false
    }
   },
   "outputs": [],
   "source": [
    "# uncomment the right answer\n",
    "# answer = \"a\"\n",
    "# answer = \"b\"\n",
    "# answer = \"c\"\n",
    "# answer = \"d\"\n",
    "### BEGIN SOLUTION\n",
    "answer = 'c'\n",
    "### END SOLUTION"
   ]
  },
  {
   "cell_type": "code",
   "execution_count": 11,
   "metadata": {
    "deletable": false,
    "editable": false,
    "nbgrader": {
     "grade": true,
     "grade_id": "cell-9a98124ab22debe2",
     "locked": true,
     "points": 0,
     "schema_version": 3,
     "solution": false,
     "task": false
    }
   },
   "outputs": [],
   "source": [
    "assert utils.encode_answer(answer) == utils.q4, \"Wrong answer.\""
   ]
  },
  {
   "cell_type": "markdown",
   "metadata": {},
   "source": [
    "### Q5 What should we write inside our module, so that a part of the code only gets executed if the module is run as a script?"
   ]
  },
  {
   "cell_type": "markdown",
   "metadata": {
    "deletable": false,
    "editable": false,
    "nbgrader": {
     "grade": false,
     "grade_id": "cell-3faf4bb3a373953e",
     "locked": true,
     "schema_version": 3,
     "solution": false,
     "task": false
    }
   },
   "source": [
    "a) Nothing;   \n",
    "b) `if __name__==\"__main__\"`  \n",
    "c) `if __main__==\"__name__\"`  \n",
    "d) `if main:`   "
   ]
  },
  {
   "cell_type": "code",
   "execution_count": null,
   "metadata": {
    "deletable": false,
    "nbgrader": {
     "grade": false,
     "grade_id": "cell-aea5631b25c21caa",
     "locked": false,
     "schema_version": 3,
     "solution": true,
     "task": false
    }
   },
   "outputs": [],
   "source": [
    "# uncomment the right answer\n",
    "# answer = \"a\"\n",
    "# answer = \"b\"\n",
    "# answer = \"c\"\n",
    "# answer = \"d\"\n",
    "\n",
    "### BEGIN SOLUTION\n",
    "answer = 'b'\n",
    "### END SOLUTION"
   ]
  },
  {
   "cell_type": "code",
   "execution_count": 13,
   "metadata": {
    "deletable": false,
    "editable": false,
    "nbgrader": {
     "grade": true,
     "grade_id": "cell-99cbfb671d0969b3",
     "locked": true,
     "points": 0,
     "schema_version": 3,
     "solution": false,
     "task": false
    }
   },
   "outputs": [],
   "source": [
    "assert utils.encode_answer(answer) == utils.q5, \"Wrong answer.\""
   ]
  },
  {
   "cell_type": "markdown",
   "metadata": {
    "deletable": false,
    "editable": false,
    "nbgrader": {
     "grade": false,
     "grade_id": "cell-1232bef76e6fdd19",
     "locked": true,
     "schema_version": 3,
     "solution": false,
     "task": false
    }
   },
   "source": [
    "### Q6 Inside directory `shapes`, create a module named `triangle`  with the following attributes:"
   ]
  },
  {
   "cell_type": "markdown",
   "metadata": {
    "deletable": false,
    "editable": false,
    "nbgrader": {
     "grade": false,
     "grade_id": "cell-18618886a864a9c8",
     "locked": true,
     "schema_version": 3,
     "solution": false,
     "task": false
    }
   },
   "source": [
    "- A `class` named `Triangle` with two input variables, `base` and `height`, that are attributes of the class. This class should have also a method named `get_area` that calculates and returns the area in the following way: `(base * height) / 2`.    \n",
    "- A function named `is_equilateral` that accepts three variables as an input. If they have all the same value, return True, otherwise return False.   \n",
    "- A variable named `description` with the following string value `this is a module named triangle`. "
   ]
  },
  {
   "cell_type": "markdown",
   "metadata": {
    "deletable": false,
    "editable": false,
    "nbgrader": {
     "grade": false,
     "grade_id": "cell-cc83f9eb87e4850d",
     "locked": true,
     "schema_version": 3,
     "solution": false,
     "task": false
    }
   },
   "source": [
    "To evaluate your module, create a variable named done with the value True."
   ]
  },
  {
   "cell_type": "code",
   "execution_count": 14,
   "metadata": {
    "deletable": false,
    "nbgrader": {
     "grade": false,
     "grade_id": "cell-8d65782fc8519012",
     "locked": false,
     "schema_version": 3,
     "solution": true,
     "task": false
    }
   },
   "outputs": [],
   "source": [
    "### BEGIN SOLUTION\n",
    "done = False\n",
    "### END SOLUTION"
   ]
  },
  {
   "cell_type": "code",
   "execution_count": null,
   "metadata": {
    "deletable": false,
    "editable": false,
    "nbgrader": {
     "grade": true,
     "grade_id": "cell-ce448ffff172a0f2",
     "locked": true,
     "points": 0,
     "schema_version": 3,
     "solution": false,
     "task": false
    }
   },
   "outputs": [],
   "source": [
    "if done:\n",
    "    from shapes import triangle\n",
    "    assert triangle, \"Did you store a module named triangle inside shapes folder?\"\n",
    "    this_triangle = triangle.Triangle(10, 30)\n",
    "    assert this_triangle.base == 10, \"Did you set base as an attribute of class Triangle?\"\n",
    "    assert this_triangle.height == 30, \"Did you set height as an attribute of class Triangle?\"\n",
    "    assert int(this_triangle.get_area())==150, \"Did you set get_area correctly as a method of class triangle?\"\n",
    "    assert triangle.is_equilateral, \"Did you create a function named is_equilateral?\"\n",
    "    assert triangle.is_equilateral(1, 1, 1), \"is_equilateral is not returning True when all the inputs are equal\"\n",
    "    assert triangle.is_equilateral(0, 1, 1)==False, \"is_equilateral is not returning False when all the inputs are not equal\"\n",
    "    assert triangle.description == \"this is a module named triangle\", \"Did you set description well?\""
   ]
  },
  {
   "cell_type": "markdown",
   "metadata": {},
   "source": [
    "### Q7 Import the class Book, from module book, and create a new object from that.\n",
    "\n",
    "The `library` folder is in the current directory. Explore its contents.\n",
    "Import the class Book , that belongs to module book. Do this import in a way that the Book class name has no prefix. This doesn't mean that we cannot have dots in our import statement.\n",
    "Afterwards, create a new book, named this_book, with name=prep-course, author=ldssa and year=2020. Hint: Use from ___ import ___ statement."
   ]
  },
  {
   "cell_type": "code",
   "execution_count": 15,
   "metadata": {
    "deletable": false,
    "nbgrader": {
     "grade": false,
     "grade_id": "cell-8dafeb32a322444f",
     "locked": false,
     "schema_version": 3,
     "solution": true,
     "task": false
    }
   },
   "outputs": [],
   "source": [
    "# from _ import _\n",
    "### BEGIN SOLUTION\n",
    "from library.shelf.book import Book \n",
    "### END SOLUTION\n",
    "#this_book = ...\n",
    "### BEGIN SOLUTION\n",
    "this_book = Book(name=\"prep-course\", author=\"ldssa\", year=2020)\n",
    "### END SOLUTION"
   ]
  },
  {
   "cell_type": "code",
   "execution_count": null,
   "metadata": {
    "deletable": false,
    "editable": false,
    "nbgrader": {
     "grade": true,
     "grade_id": "cell-9ac799d1b55a4cba",
     "locked": true,
     "points": 0,
     "schema_version": 3,
     "solution": false,
     "task": false
    }
   },
   "outputs": [],
   "source": [
    "assert Book, \"Book class was not imported with success\"\n",
    "assert isinstance(this_book, Book), \"this_book is not of type Book\"\n",
    "assert this_book.name == \"prep-course\", \"this_book has the wrong name\"\n",
    "assert this_book.author == \"ldssa\", \"this_book has the wrong author\"\n",
    "assert this_book.year == 2020, \"this_book has the wrong year\""
   ]
  },
  {
   "cell_type": "markdown",
   "metadata": {
    "deletable": false,
    "editable": false,
    "nbgrader": {
     "grade": false,
     "grade_id": "cell-cd820603a8eef280",
     "locked": true,
     "schema_version": 3,
     "solution": false,
     "task": false
    }
   },
   "source": [
    "### Q8 What is a package?"
   ]
  },
  {
   "cell_type": "markdown",
   "metadata": {
    "deletable": false,
    "editable": false,
    "nbgrader": {
     "grade": false,
     "grade_id": "cell-c734b87ad3f8c321",
     "locked": true,
     "schema_version": 3,
     "solution": false,
     "task": false
    }
   },
   "source": [
    "a) A folder;   \n",
    "b) A set of modules that share the same directory;"
   ]
  },
  {
   "cell_type": "code",
   "execution_count": 16,
   "metadata": {
    "deletable": false,
    "nbgrader": {
     "grade": false,
     "grade_id": "cell-17731565ade4c8d8",
     "locked": false,
     "schema_version": 3,
     "solution": true,
     "task": false
    }
   },
   "outputs": [
    {
     "name": "stdout",
     "output_type": "stream",
     "text": [
      "b\n",
      "answer hashed: c100f95c1913f9c72fc1f4ef0847e1e723ffe0bde0b36e5f36c13f81fe8c26ed\n"
     ]
    }
   ],
   "source": [
    "#uncomment the right answer\n",
    "#answer = \"a\"\n",
    "#answer = \"b\"\n",
    "### BEGIN SOLUTION\n",
    "answer = \"b\"\n",
    "print(answer)\n",
    "print(\n",
    "    'answer hashed:',\n",
    "    utils.hashlib.sha256(\n",
    "    utils.json.dumps(answer).encode()\n",
    "    ).hexdigest()\n",
    ")\n",
    "### END SOLUTION"
   ]
  },
  {
   "cell_type": "code",
   "execution_count": null,
   "metadata": {
    "deletable": false,
    "editable": false,
    "nbgrader": {
     "grade": true,
     "grade_id": "cell-ed761f5a351a7094",
     "locked": true,
     "points": 0,
     "schema_version": 3,
     "solution": false,
     "task": false
    }
   },
   "outputs": [],
   "source": [
    "assert utils.encode_answer(answer) == utils.q8, \"Wrong answer.\""
   ]
  },
  {
   "cell_type": "markdown",
   "metadata": {},
   "source": [
    "### Q9 Exercise\n",
    "\n",
    "Build a python package called `program` with the following directory structure:\n",
    "\n",
    "```\n",
    "program\n",
    "|____main.py\n",
    "|____A\n",
    "| |____module_a.py\n",
    "|____B\n",
    "| |____module_b.py\n",
    "```\n",
    "\n",
    "`module_a.py` should define the following function:\n",
    "\n",
    "```python\n",
    "def get_one():\n",
    "    return 1\n",
    "```\n",
    "\n",
    "`module_b.py` should define the following function:\n",
    "\n",
    "```python\n",
    "def get_two():\n",
    "    return get_one() + get_one()\n",
    "```\n",
    "\n",
    "`main.py` should define the following statement:\n",
    "\n",
    "```python\n",
    "print(get_two())\n",
    "```\n",
    "\n",
    "You should then be able to run the program in a terminal and get the output:\n",
    "\n",
    "```\n",
    "> python program/main.py\n",
    "2\n",
    "```\n",
    "\n",
    "Beware:\n",
    "* the directory diagram above may be missing something... (check the learning notebook)\n",
    "* the code for each of the files may be missing something... (check the learning notebook)\n",
    "\n",
    "Were you able to complete this exercise? (if not, ask for help!)"
   ]
  },
  {
   "cell_type": "markdown",
   "metadata": {
    "deletable": false,
    "editable": false,
    "nbgrader": {
     "grade": false,
     "grade_id": "cell-266521df44b84ebf",
     "locked": true,
     "schema_version": 3,
     "solution": false,
     "task": false
    }
   },
   "source": [
    "a) Yes   \n",
    "b) No"
   ]
  },
  {
   "cell_type": "code",
   "execution_count": 17,
   "metadata": {
    "deletable": false,
    "nbgrader": {
     "grade": false,
     "grade_id": "cell-8df2491f6b0042a0",
     "locked": false,
     "schema_version": 3,
     "solution": true,
     "task": false
    }
   },
   "outputs": [
    {
     "name": "stdout",
     "output_type": "stream",
     "text": [
      "a\n",
      "answer hashed: ac8d8342bbb2362d13f0a559a3621bb407011368895164b628a54f7fc33fc43c\n"
     ]
    }
   ],
   "source": [
    "# uncomment the right answer\n",
    "# answer = \"a\"\n",
    "# answer = \"b\"\n",
    "### BEGIN SOLUTION\n",
    "answer = \"a\"\n",
    "print(answer)\n",
    "print(\n",
    "    'answer hashed:',\n",
    "    utils.hashlib.sha256(\n",
    "    utils.json.dumps(answer).encode()\n",
    "    ).hexdigest()\n",
    ")\n",
    "### END SOLUTION"
   ]
  },
  {
   "cell_type": "code",
   "execution_count": 5,
   "metadata": {
    "deletable": false,
    "editable": false,
    "nbgrader": {
     "grade": true,
     "grade_id": "cell-839cdbbdbfebce43",
     "locked": true,
     "points": 0,
     "schema_version": 3,
     "solution": false,
     "task": false
    }
   },
   "outputs": [],
   "source": [
    "assert utils.encode_answer(answer) == utils.q9, \"Wrong answer.\""
   ]
  },
  {
   "cell_type": "markdown",
   "metadata": {
    "deletable": false,
    "editable": false,
    "nbgrader": {
     "grade": false,
     "grade_id": "cell-d2ef50ef7bee6919",
     "locked": true,
     "schema_version": 3,
     "solution": false,
     "task": false
    }
   },
   "source": [
    "### Q10 What is the mandatory file in a directory with modules for it to be considered a package?"
   ]
  },
  {
   "cell_type": "markdown",
   "metadata": {
    "deletable": false,
    "editable": false,
    "nbgrader": {
     "grade": false,
     "grade_id": "cell-94f5da113e8f89f1",
     "locked": true,
     "schema_version": 3,
     "solution": false,
     "task": false
    }
   },
   "source": [
    "a) `setup.py`   \n",
    "b) `README.md`   \n",
    "c) `LICENSE`   \n",
    "d) `__init__.py`"
   ]
  },
  {
   "cell_type": "code",
   "execution_count": 18,
   "metadata": {
    "deletable": false,
    "nbgrader": {
     "grade": false,
     "grade_id": "cell-471e5327dcc8e7b7",
     "locked": false,
     "schema_version": 3,
     "solution": true,
     "task": false
    }
   },
   "outputs": [
    {
     "name": "stdout",
     "output_type": "stream",
     "text": [
      "d\n",
      "answer hashed: 3fa5834dc920d385ca9b099c9fe55dcca163a6b256a261f8f147291b0e7cf633\n"
     ]
    }
   ],
   "source": [
    "# uncomment the right answer\n",
    "# answer = \"a\"\n",
    "# answer = \"b\"\n",
    "# answer = \"c\"\n",
    "# answer = \"d\"\n",
    "### BEGIN SOLUTION\n",
    "answer = \"d\"\n",
    "print(answer)\n",
    "print(\n",
    "    'answer hashed:',\n",
    "    utils.hashlib.sha256(\n",
    "    utils.json.dumps(answer).encode()\n",
    "    ).hexdigest()\n",
    ")\n",
    "### END SOLUTION"
   ]
  },
  {
   "cell_type": "code",
   "execution_count": null,
   "metadata": {
    "deletable": false,
    "editable": false,
    "nbgrader": {
     "grade": true,
     "grade_id": "cell-9d78f1dc248bb974",
     "locked": true,
     "points": 0,
     "schema_version": 3,
     "solution": false,
     "task": false
    }
   },
   "outputs": [],
   "source": [
    "assert utils.encode_answer(answer) == utils.q10, \"Wrong answer.\""
   ]
  },
  {
   "cell_type": "markdown",
   "metadata": {
    "deletable": false,
    "editable": false,
    "nbgrader": {
     "grade": false,
     "grade_id": "cell-a4a138712cfb78e3",
     "locked": true,
     "schema_version": 3,
     "solution": false,
     "task": false
    }
   },
   "source": [
    "### Q11 What is the unix command used to manage packages in a python environment?"
   ]
  },
  {
   "cell_type": "markdown",
   "metadata": {
    "deletable": false,
    "editable": false,
    "nbgrader": {
     "grade": false,
     "grade_id": "cell-45e50b50f874979e",
     "locked": true,
     "schema_version": 3,
     "solution": false,
     "task": false
    }
   },
   "source": [
    "a) cat   \n",
    "b) pip   \n",
    "c) python   \n",
    "d) tree   "
   ]
  },
  {
   "cell_type": "code",
   "execution_count": null,
   "metadata": {
    "deletable": false,
    "nbgrader": {
     "grade": false,
     "grade_id": "cell-6d4d775081c8be95",
     "locked": false,
     "schema_version": 3,
     "solution": true,
     "task": false
    }
   },
   "outputs": [],
   "source": [
    "# uncomment the right answer\n",
    "# answer = \"a\"\n",
    "# answer = \"b\"\n",
    "# answer = \"c\"\n",
    "# answer = \"d\"\n",
    "### BEGIN SOLUTION\n",
    "answer = \"b\"\n",
    "print(answer)\n",
    "print(\n",
    "    'answer hashed:',\n",
    "    utils.hashlib.sha256(\n",
    "    utils.json.dumps(answer).encode()\n",
    "    ).hexdigest()\n",
    ")\n",
    "### END SOLUTION"
   ]
  },
  {
   "cell_type": "code",
   "execution_count": null,
   "metadata": {
    "deletable": false,
    "editable": false,
    "nbgrader": {
     "grade": true,
     "grade_id": "cell-342a8848d6c5e6fe",
     "locked": true,
     "points": 0,
     "schema_version": 3,
     "solution": false,
     "task": false
    }
   },
   "outputs": [],
   "source": [
    "assert utils.encode_answer(answer) == utils.q11, \"Wrong answer.\""
   ]
  },
  {
   "cell_type": "markdown",
   "metadata": {
    "nbgrader": {
     "grade": false,
     "grade_id": "cell-8e4e13a0d08cb906",
     "locked": true,
     "schema_version": 3,
     "solution": false,
     "task": false
    }
   },
   "source": [
    "# Submit your work!\n",
    "\n",
    "To submit your work, [get your slack id](https://moshfeu.medium.com/how-to-find-my-member-id-in-slack-workspace-d4bba942e38c) and fill it in the `slack_id` variable.\n",
    "\n",
    "Example: `slack_id = \"UTS63FC02\"`"
   ]
  },
  {
   "cell_type": "code",
   "execution_count": null,
   "metadata": {
    "nbgrader": {
     "grade": false,
     "grade_id": "cell-ac5c752ffe206fec",
     "locked": false,
     "schema_version": 3,
     "solution": true,
     "task": false
    }
   },
   "outputs": [],
   "source": [
    "### BEGIN SOLUTION\n",
    "slack_id = \"UTS63FC02\"\n",
    "### END SOLUTION\n",
    "# slack_id ="
   ]
  },
  {
   "cell_type": "code",
   "execution_count": null,
   "metadata": {
    "nbgrader": {
     "grade": true,
     "grade_id": "cell-d0d1b1294247a44e",
     "locked": true,
     "points": 0,
     "schema_version": 3,
     "solution": false,
     "task": false
    }
   },
   "outputs": [],
   "source": [
    "from submit import submit\n",
    "\n",
    "assert slack_id is not None\n",
    "submit(slack_id=slack_id, learning_unit=14)"
   ]
  }
 ],
 "metadata": {
  "celltoolbar": "Create Assignment",
  "kernelspec": {
   "display_name": "Python 3",
   "language": "python",
   "name": "python3"
  },
  "language_info": {
   "codemirror_mode": {
    "name": "ipython",
    "version": 3
   },
   "file_extension": ".py",
   "mimetype": "text/x-python",
   "name": "python",
   "nbconvert_exporter": "python",
   "pygments_lexer": "ipython3",
   "version": "3.7.10"
  }
 },
 "nbformat": 4,
 "nbformat_minor": 2
}
