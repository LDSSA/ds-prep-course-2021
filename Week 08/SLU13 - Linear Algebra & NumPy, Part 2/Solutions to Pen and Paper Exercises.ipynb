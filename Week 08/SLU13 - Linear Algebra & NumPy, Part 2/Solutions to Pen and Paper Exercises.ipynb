{
 "cells": [
  {
   "cell_type": "markdown",
   "id": "representative-lodging",
   "metadata": {},
   "source": [
    "# SLU13 - Linear Algebra & NumPy, Part 2\n",
    "\n",
    "## Solutions to Pen and Paper Exercises"
   ]
  },
  {
   "cell_type": "markdown",
   "id": "steady-hazard",
   "metadata": {},
   "source": [
    "This notebook contains suggested solutions for the pen and paper exercises proposed in the Learning Notebook."
   ]
  },
  {
   "cell_type": "markdown",
   "id": "anticipated-stream",
   "metadata": {},
   "source": [
    "---"
   ]
  },
  {
   "cell_type": "markdown",
   "id": "timely-latino",
   "metadata": {},
   "source": [
    "![](./media/slu13_solutions_01.png)"
   ]
  },
  {
   "cell_type": "markdown",
   "id": "forward-village",
   "metadata": {},
   "source": [
    "\n",
    "![](./media/slu13_solutions_02.png)"
   ]
  },
  {
   "cell_type": "markdown",
   "id": "informative-router",
   "metadata": {},
   "source": [
    "![](./media/slu13_solutions_03.png)"
   ]
  },
  {
   "cell_type": "markdown",
   "id": "subject-channels",
   "metadata": {},
   "source": [
    "![](./media/slu13_solutions_04.png)"
   ]
  },
  {
   "cell_type": "markdown",
   "id": "partial-reflection",
   "metadata": {},
   "source": [
    "---"
   ]
  },
  {
   "cell_type": "markdown",
   "id": "timely-batman",
   "metadata": {},
   "source": [
    "🙋If you think you spotted an error let us know!"
   ]
  },
  {
   "cell_type": "markdown",
   "id": "informal-holiday",
   "metadata": {},
   "source": [
    "---"
   ]
  }
 ],
 "metadata": {
  "kernelspec": {
   "display_name": "Python 3",
   "language": "python",
   "name": "python3"
  },
  "language_info": {
   "codemirror_mode": {
    "name": "ipython",
    "version": 3
   },
   "file_extension": ".py",
   "mimetype": "text/x-python",
   "name": "python",
   "nbconvert_exporter": "python",
   "pygments_lexer": "ipython3",
   "version": "3.7.5"
  }
 },
 "nbformat": 4,
 "nbformat_minor": 5
}
