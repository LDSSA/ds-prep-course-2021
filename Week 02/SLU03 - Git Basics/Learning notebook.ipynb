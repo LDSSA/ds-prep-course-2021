{
 "cells": [
  {
   "cell_type": "markdown",
   "metadata": {},
   "source": [
    "# SLU03 - Git Basics\n",
    "\n",
    "In this notebook we will be covering the following:\n",
    "\n",
    "* (Painless) Introduction to Version Control\n",
    "    - So what is a Version Control System?\n",
    "    - Collaboration\n",
    "    - Storing version properly\n",
    "    - Auditability\n",
    "* Repositories: where it all begins\n",
    "    - Creating a repository\n",
    "    - README\n",
    "    - .gitignore\n",
    "    - Creating a repository not hosted on GitHub servers\n",
    "* Working with Git: the basics\n",
    "    - Main git commands\n",
    "        - git status\n",
    "        - git add\n",
    "        - git commit\n",
    "        - git push\n",
    "        - git pull\n",
    "        - git log\n",
    "* Summary workflow\n",
    "* GitHub and other Version Control Systems\n"
   ]
  },
  {
   "cell_type": "markdown",
   "metadata": {},
   "source": [
    "## (Painless) Introduction to Version Control\n",
    "\n",
    "**Imagine this scenario with me...**\n",
    "\n",
    "It's two AM and you've just finished your first programming project. Everything works, your \"*hello worlds*\" are all very hello'y, your *1*s and *0*s are all very *True* and *False*, and there's not a *ZeroDivisionError* to be seen in the land. Everything is wonderful and you go to sleep as a happy programmer, albeit a tired one... \n",
    "\n",
    "You wake up the next morning, relaxed and happy with no undereye bags to be seen on your lovely face. Your amazing programming project is due that afternoon and you go check if everything is running smoothly... but something terrible happened! All your beautiful code has been replaced by cat emojis! You look suspiciously to *Whiskers* who you once thought as your four-legged furry best friend. You haven't paied him as much attention as you should, with all the late-night coding... And he just did you good. **Never trust a cat.**\n",
    "\n",
    "If only there was a way to \"*go back in time*\" and save all your precious work... **With version control there is!** \n",
    "\n",
    "*And all is good in the coding land!*"
   ]
  },
  {
   "cell_type": "markdown",
   "metadata": {},
   "source": [
    "### So what is a Version Control System?\n",
    "\n",
    "In short, [Version Control System (VCS)](https://en.wikipedia.org/wiki/Version_control) records changes to a file or set of files over time so that you can recall specific versions later.\n",
    "\n",
    "It allows you to *revert selected files to a previous state*, *revert the entire project to a previous state*, *compare changes over time*, *see who last modified something that might be causing a problem*, *who introduced an issue and when*, and more.\n",
    "\n",
    "There are a lot of decentralized services for VCS such as [GitHub](https://github.com/), [GitLab](https://about.gitlab.com/) and [Bitbucket](https://bitbucket.org/), and all of them rely on [Git](https://git-scm.com/), the VCS that is fueling all of these services and recording all the changes. *FYI: Git is free and open-source meaning that there are no barriers to take advantage of it. :)*\n",
    "\n",
    "You noticed that all of our [Prep Course Material](https://github.com/LDSSA/ds-prep-course-2021) is hosted on GitHub. This makes **our** lives easier as all changes to the learning materials are being tracked, and also who made them, and it also makes **your** life easier when accessing the materials."
   ]
  },
  {
   "cell_type": "markdown",
   "metadata": {},
   "source": [
    "Saving your work from evil cats is not the only reason VCS is useful. There are three main reasons why VCS are used: \n",
    "* collaboration, \n",
    "* storing versions properly,\n",
    "* auditability. \n",
    "\n",
    "Let's try to understand all of them."
   ]
  },
  {
   "cell_type": "markdown",
   "metadata": {},
   "source": [
    "### Collaboration"
   ]
  },
  {
   "cell_type": "markdown",
   "metadata": {},
   "source": [
    "<img width=\"400\" src=\"https://www.groovecommerce.com/hs-fs/hub/188845/file-4063238065-png/blog-files/version-control-comic.png\"/>"
   ]
  },
  {
   "cell_type": "markdown",
   "metadata": {},
   "source": [
    "**Is this a familiar scenario to you?** Imagine this but with many *many* files in a software program... Words are not enough to explain the utter horror of such an event... Worse... Imagine collaborating on a software project *over email*.  (>_<) \n",
    "\n",
    "Git (or any other VCS for that matter) was designed to solve the problem of **multiple people working on the same code**. While that won't happen during the prep course, it is still important for you to know how Git eases the development process when there are multiple people involved, since in the industry almost no developer works alone (*thankfully!*)."
   ]
  },
  {
   "cell_type": "markdown",
   "metadata": {},
   "source": [
    "### Storing versions properly"
   ]
  },
  {
   "cell_type": "markdown",
   "metadata": {},
   "source": [
    "Saving a version of your project after making changes is an **essential habit**. In VCS, we call this a **commit**. Just like in an *old-school* videogame, when you feel you have made some progress and a boss around the corner might take you down, you save your game. The same logic applies to a **commit**. \n",
    "\n",
    "(*Note for your future self who will thank me later: don't commit broken or unfinished work. Your future self will have zero clues about what the heck was going on back when you commmitted your code...*)\n",
    "\n",
    "Another important feature of the **commit**, which we will revisit later on, is that it asks you for a message. This is to help your future self, and others collaborating with you, know what is going on. A succint but clear message of what changes have happened is a very good practice (and a mandatory one!). \n",
    "\n",
    "In the end, when using a VCS, because everything is being stored in a server (such as GitHub), you **only** have one version on your disk of the project that you're currently working on. Everything else - all the past versions and variants - is neatly packed up inside the VCS. When/if you need them, you can request any version at any time, and you'll have a snapshot of the complete project right at hand, including the history of all the changes done thus far. :) \n"
   ]
  },
  {
   "cell_type": "markdown",
   "metadata": {},
   "source": [
    "### Auditability\n",
    "\n",
    "When you're working with a team on a single project, sometimes it gets hard to know \"who did what\". VCS offers you an easy way to track \"who made what change and when\". It unlocks the ability to:\n",
    "- Debug more effectively by finding when a breaking change was introduced\n",
    "- Track the reason that certain changes were made\n",
    "- Find the person who made a change and ask them why they did it (not with violence, but with love!)"
   ]
  },
  {
   "cell_type": "markdown",
   "metadata": {},
   "source": [
    "<img width=\"600\" src=\"https://miro.medium.com/max/1400/1*wQ2mtIZHzVkJ0Y2suuVGpQ.jpeg\">"
   ]
  },
  {
   "cell_type": "markdown",
   "metadata": {},
   "source": [
    "## Repositories: where it all begins\n",
    "\n",
    "A repository is simply a **place that stores and tracks changes to the files contained within it**. It associates identities with changes to those files. \n",
    "\n",
    "Take a look at [a familiar repository](https://github.com/LDSSA/ds-prep-course-2021):\n",
    "<img width=\"600\" src=\"https://imgur.com/2uKqRbF.png\"/>"
   ]
  },
  {
   "cell_type": "markdown",
   "metadata": {},
   "source": [
    "This is the Prep Course public repository, from where all of you pull the SLUs every week. Under the hood, our lovely instructors (shown in **contributors**) work really hard to make the SLUs available to you every week. You can see that at the time of the creation of this Learning Notebook, **32 commits** had already been **pushed** (meaning saved) to the Prep Course repository, but more on this later."
   ]
  },
  {
   "cell_type": "markdown",
   "metadata": {},
   "source": [
    "### Creating a repository\n",
    "\n",
    "Congrats! You may have not realized it at the time, but you've already created a repository by following these instructions: https://github.com/LDSSA/ds-prep-course-2021#12-setup-git-and-github. \n",
    "\n",
    "When you followed these steps, you've:\n",
    "- Installed Git, a VCS\n",
    "- Created an account on GitHub, a development platform that implements Git\n",
    "- Set up your own (private) repository to save your progress throughout the Prep Course\n",
    "- Cloned the Prep Course repository to access the materials\n",
    "\n",
    "You're basically a master at this already!\n",
    "\n",
    "Now, you'll learn a little bit more about the README file and the .gitignore file."
   ]
  },
  {
   "cell_type": "markdown",
   "metadata": {},
   "source": [
    "### README\n",
    "\n",
    "The **README** is probably **the single most important document in a repository**. It is the starting point by which when someone arrives at the repo, they know what the repository is all about and what they should do next. It is the documentation of the repo. It uses [Markdown](https://pt.wikipedia.org/wiki/Markdown) (which you have learned in the Jupyter Notebook SLU). The .md extension identifies markdown files.\n",
    "\n",
    "(*Fun fact: this notebook is also written in markdown!*)\n"
   ]
  },
  {
   "cell_type": "markdown",
   "metadata": {},
   "source": [
    "### .gitignore\n",
    "<img width=\"600\" src=\"https://imgur.com/VmhvbAt.jpeg\">"
   ]
  },
  {
   "cell_type": "markdown",
   "metadata": {},
   "source": [
    "The **.gitignore** is a special file that contains information about the files, file types, and/or directories in your git repo that you never want to see committed (*just like that poor dude is being ignored, so will these files/directories*). \n",
    "\n",
    "It's very easy to accidentally **commit a file** that you never intended to make available in the repository (especially if you use `git add .` to stage all files in the current directory). That's where a .gitignore file comes in handy! It lets Git know that it should ignore certain files and not track them.\n",
    "\n",
    "So, what files would you normally not want to commit?\n",
    "- Any file with more than 2 MB, so always include the dataset that you're using\n",
    "- Log files\n",
    "- Files with API keys/secrets, credentials, or sensitive information\n",
    "- Useless system files such as the **annoying** mac .DS_store\n",
    "- Binaries - version control is all about tracking changes to text files and so tracking changes to large amounts of 1s and 0s will be unhelpful and crash the system\n",
    "- Dependencies which can be downloaded from a package manager. They already have their own VC systems and you only need a particular version of it. No need to do their job for them and track their changes!\n",
    "\n",
    "There's a nice website which tells you what to ignore depending on your operating system, text editor or IDE, languages, and frameworks: https://www.gitignore.io/\n",
    "\n",
    "Additionally, when setting up a repository, GitHub allows you to add a pre-set .gitignore file depending on the language you're using (Python, R, C...). Very handy!\n",
    "\n",
    "To include files in the .gitignore, just type the name of the file. The same thing for directories, except that directories should end with a slash (/). \n",
    "\n",
    "**Ignoring any file with a given extension:**\n",
    "Some slightly more advanced ways of excluding files make use of the wildcard (`*`). The wildcard matches 0 or more characters. So, for example, if you want to exclude every .log file you would include *.log in your .gitignore. \n",
    "\n",
    "However, when using this rule, you may end up ignoring a specific file that you want to commit, e.g. you may want to commit a specific log named important.log and exclude all the others. If that happens, you can use a `!` to specifically negate a file that would be ignored. Our .gitignore would be like:\n",
    "\n",
    "    *.log\n",
    "    !important.log\n",
    "\n",
    "(*Note: The negation must be placed after the rule from which you're excluding the file*)  "
   ]
  },
  {
   "cell_type": "markdown",
   "metadata": {},
   "source": [
    "### Creating a repository not hosted on GitHub servers\n",
    "\n",
    "This is what you know until now:\n",
    "- How to create a repo in GitHub\n",
    "- How to create a README and understand why it is important\n",
    "- How to create a .gitignore and add files that you don't want to see committed\n",
    "\n",
    "But what if you wanted to benefit from the advantages of a version control system, but you don't want the content of your work to be hosted on GitHub servers?\n",
    "Imagine this: you're a writer and you're working on your new book. For obvious reasons you don't want the draft version of your book to be public, but actually you're not even interested in sharing it with anyone at this stage, so not even a private repo makes sense.\n",
    "Imagine that you delete some text as you're writing because you don't like it. But in the future, you often find yourself wanting to bring that text back. You know you can do that with a version control system, but you don't want neither a private or a public repository. What do you do?\n",
    "Luckily for you, there's a way to create a repo on your machine without hosting it on GitHub. Let's see how:\n",
    "- Open the terminal and go the folder that contains the files you would like to track\n",
    "- Run `git init --bare`. The bare option is crucial as by default git will create a repository with a remote server. So, you have to use it if you want to keep everything locally\n",
    "- Run `git remote add origin <path to the folder>`. You can get the path to the folder by running the `pwd` command while you're inside the folder. This command will create a local repository, which is something that you'll learn about in the next section of this SLU :)\n",
    "- Run `git checkout -b main`. You'll only learn about branches in the next SLU so for now don't think too much about this command :)\n",
    "\n",
    "And done! Whenever you feel like using the advantages of a Version Control System but you don't want to host anything on GitHub, you now know how to! "
   ]
  },
  {
   "cell_type": "markdown",
   "metadata": {},
   "source": [
    "## Working with Git: the basics\n",
    "\n",
    "So... This is how Git works! Looks pretty confusing, right?\n",
    "\n",
    "<img width=\"700\" src=\"https://imgur.com/JefNy7n.png\"/>"
   ]
  },
  {
   "cell_type": "markdown",
   "metadata": {},
   "source": [
    "Let's break this diagram into parts, using the concepts that we've already acquired in this SLU. And remember, you've already done most of this stuff!"
   ]
  },
  {
   "cell_type": "markdown",
   "metadata": {},
   "source": [
    "The **remote repository** is the GitHub repository that is hosted on the GitHub servers. The first question you may ask is: **why do we need a workspace and a local repository? And why is there a staging area in between them?**\n",
    "\n",
    "Let me try to explain: \n",
    "- The **local repository** is the “container” that tracks the changes to your project files. It holds all the **commits** — a snapshot of all your files at a point in time — that have been made. \n",
    "- The **workspace** consists of files that you are currently working on. You can think of the workspace as a file system where you can view and modify files. \n",
    "- The **staging area** is where commits are prepared. The index compares the files in the workspace to the files in the local repository. When you make a change in the workspace, the index marks the file as \"modified\" before it is committed."
   ]
  },
  {
   "cell_type": "markdown",
   "metadata": {},
   "source": [
    "Now, why is this important? Mainly for the purpose of **separating your commits**. Instead of committing all the changes you've made since the last commit, the stage lets you group related changes before actually committing it to the project history. This means you can make all sorts of edits to unrelated files, then go back and split them up into logical commits by adding related changes to the stage and commit them piece-by-piece. It's better to create small and frequent commits so that it’s easy to track down bugs and revert changes with minimal impact on the rest of the project."
   ]
  },
  {
   "cell_type": "markdown",
   "metadata": {},
   "source": [
    "### Main Git commands"
   ]
  },
  {
   "cell_type": "markdown",
   "metadata": {},
   "source": [
    "#### git status\n",
    "\n",
    "The `git status` command is very straightforward. It lets you see the status of your workspace and staging area files. The files in these two areas have 4 possible states:\n",
    "\n",
    "- **Staged**: files that you've recently used `git add` on \n",
    "- **Modified**: files that you've **not** recently used `git add` on, but that were committed in the past and were modified\n",
    "- **Unmodified**: files that you've **not** recently used `git add` on, that were committed in the past and were **not** modified\n",
    "- **Untracked**: files that were neither committed nor staged before\n",
    "\n",
    "In a graphical way:\n",
    "<img width=\"500\" src=\"https://imgur.com/nBgRBls.png\"/>\n"
   ]
  },
  {
   "cell_type": "markdown",
   "metadata": {},
   "source": [
    "**When you add a file it will show up as untracked. If you've never staged a file, it won't be tracked by git.** \n",
    "\n",
    "**When you stage a file (with the `git add` command), it becomes staged until the next commit (`git commit -m \"\"`).**\n",
    "\n",
    "**After the commit, it goes into the unmodified status, until the next change. After that, it will show up as modified.**  And the cycle continues.. That's Git's *circle of life* for files!\n",
    "\n",
    "\n",
    "The image bellow shows an example of running a `git status` command where: \n",
    "- the Learning Notebook is staged; \n",
    "- the Exercise Notebook is modified; \n",
    "- a txt called *NotTracked* is untracked. \n",
    "<img width=\"600\" src=\"https://imgur.com/MyB0RSS.png\"/>\n",
    "\n",
    "For copy-pasting purposes:\n",
    "- `git status`"
   ]
  },
  {
   "cell_type": "markdown",
   "metadata": {},
   "source": [
    "#### git add\n",
    "\n",
    "<img width=\"500\" src=\"https://imgur.com/Qit7nJ2.png\"/>\n",
    "\n",
    "The `git add` command adds a change in the working directory to the staging area. It tells Git that you want to include updates to a particular file in the next commit. However, `git add` doesn't really affect the repository in any significant way — **changes are not actually recorded until you run `git commit`**.\n",
    "\n",
    "Example of running a `git add` command:\n",
    "<img width=\"600\" src=\"https://imgur.com/8E810IF.png\"/>\n",
    "\n",
    "In **Step 5** of the [guide to work on the learning materials](https://github.com/LDSSA/ds-prep-course-2021#22---working-on-the-learning-units), we ask you to stage all changes with the `git add .` command. \n",
    "\n",
    "**Useful command options:**\n",
    "- If you type `git add <file>` you'll stage all changes in file for the next commit\n",
    "- If you type `git add <file1> <file2>` you'll stage all changes in these two files for the next commit. You can extend this option to a higher number of files\n",
    "- If you type `git add <directory>` you'll stage all changes in the directory for the next commit\n",
    "- If you type `git add .` you'll stage **all changes** in your current directory for the next commit.\n",
    "\n",
    "For copy-pasting purposes:\n",
    "- `git add .`"
   ]
  },
  {
   "cell_type": "markdown",
   "metadata": {},
   "source": [
    "#### git commit \n",
    "\n",
    "<img width=\"500\" src=\"https://imgur.com/Dh1vMsm.png\"/>\n",
    "\n",
    "By now you already know what this command does, it simply commits the files with changes that you have in the staging area to the local repository. After using the command this window will appear:\n",
    "<img width=\"600\" src=\"https://imgur.com/Q4BKk6N.png\"/>\n",
    "\n",
    "You'll need to write a commit message, click in *ctrl + X* to exit, click on *Y* when asked to save the changes and then click on *Enter* to confirm the commit file name. If you want to **avoid this process**, you can write your commit message directly on the `git commit` command, like this: `git commit -m \"commit message\"`.\n",
    "\n",
    "In **Step 5** of the [guide to work on the learning materials](https://github.com/LDSSA/ds-prep-course-2021#22---working-on-the-learning-units), we ask you to commit your resolved notebook with the command `git commit -m \"Exercises for Week <week number>\"`, where you substitute the `<week number>` by the corresponding value. Adding an explicit message to the commit will make your life easier down the road to trace back to where you were at the time. \n",
    "\n",
    "**Other useful command options:**\n",
    "- If you type `git commit -a` you'll, for every file that’s currently in the index, check to see if the workspace copy is different, and if so, add that file to the index. Then, all files from the index are committed.\n",
    "- If you type `git commit --amend` you'll modify the last commit and staged changes (added with `git add`) will be added to it."
   ]
  },
  {
   "cell_type": "markdown",
   "metadata": {},
   "source": [
    "#### git push\n",
    "\n",
    "The `git push` command is used to upload local repository content to a remote repository. Pushing is how you transfer commits from your local repository to a remote repo. After a local repository has been modified, a push is executed to share the modifications with remote team members.\n",
    "\n",
    "In **Step 5** of the [guide to work on the learning materials](https://github.com/LDSSA/ds-prep-course-2021#22---working-on-the-learning-units), you finish with the `git push` command to send all your changes to your working repository."
   ]
  },
  {
   "cell_type": "markdown",
   "metadata": {},
   "source": [
    "#### git pull\n",
    "\n",
    "The `git pull` command is used to fetch and download content from a remote repository and immediately update the local repository to match that content. It’s an easy way to synchronize your local repository with upstream changes. In a way, the opposite of the `git push` command.\n",
    "\n",
    "We asked in [the guide of week 00](https://github.com/LDSSA/ds-prep-course-2021#21-weekly-setup---get-the-learning-materials) to start the set-up of the learning materials with a `git pull` of the [ds-prep-course-2021](https://github.com/LDSSA/ds-prep-course-2021). You already had to do it again for **Week 01 and Week 02** when you followed the [basic workflow to update the learning units](https://github.com/LDSSA/ds-prep-course-2021#3-updates-to-learning-units), so you're already very familiar with this command.\n",
    "\n",
    "Sometimes conflicts can arise when you have a conflicting file(s) with the remote repository, but don't worry about it now. We'll learn how to solve those in the next Git SLU!"
   ]
  },
  {
   "cell_type": "markdown",
   "metadata": {},
   "source": [
    "#### git log\n",
    "\n",
    "The `git log` command is a command to access the commit history of the local repo. It's a very important command which allows reverting to a previous commit, something that you'll also learn to do in the next Git SLU! For now, you can see what the output of a `git log` command looks like:\n",
    "\n",
    "<img width=\"500\" src=\"https://imgur.com/Ys9IF79.png\"/>\n",
    "\n",
    "**Other useful command options:**\n",
    "- If you type `git log -n <limit>` you'll limit the number of commits shown. For example, `git log -n 3` will display only the 3 last commits.\n",
    "- If you type `git log -- stat`, the command output will include the information of which files were altered and the relative number of lines that were added or deleted from each of them, along with the normal information displayed by `git log`.\n",
    "- If you type `git log --author=\"<pattern>\"` you can filter the commits, only viewing the commits of a particular author. For those of you that are familiar with regular expressions, you can also use a regular expression instead of a string.\n",
    "- If you type `git log --grep=\"<pattern>\"` you can again filter the commits, this time by searching for a specific pattern in the commit. One example would be to filter commits that mention a specific detail you're interested in. Again, you can search for a string or use a regular expression.\n",
    "- If you type `git log <file>` you'll only see commits that include the specific file."
   ]
  },
  {
   "cell_type": "markdown",
   "metadata": {},
   "source": [
    "## Summary workflow\n",
    "\n",
    "Now you know what each command individually does. The **git status, add and commit** can be chained in a workflow that makes sense.\n",
    "\n",
    "A typical use-case would be:\n",
    "- use `git status` to check for any **Modified files**, \n",
    "- use `git add` to stage the Modified files, then `git status` again to check that those files are now Staged \n",
    "- use `git commit` to commit them.\n",
    "- finally, use `git push` to send all our changes to the remote repository\n",
    "\n",
    "So now you know how to chain these commands in a way that makes sense! With experience, you may end up dropping one or both the git status command as you'll intuitively know in which states your files are, but it's always ok to do a check once in a while. \n",
    "\n",
    "<img width=\"500\" src=\"https://imgs.xkcd.com/comics/git_2x.png\"/>\n"
   ]
  },
  {
   "cell_type": "markdown",
   "metadata": {},
   "source": [
    "So that's it! Hope you've enjoyed this Learning Notebook and please take your time to assimilate all the concepts. The Exercise Notebook consists on multiple choice questiosn, so it's really important that you have a good grasp of everything before starting it. **Good luck!**"
   ]
  }
 ],
 "metadata": {
  "kernelspec": {
   "display_name": "Python 3",
   "language": "python",
   "name": "python3"
  },
  "language_info": {
   "codemirror_mode": {
    "name": "ipython",
    "version": 3
   },
   "file_extension": ".py",
   "mimetype": "text/x-python",
   "name": "python",
   "nbconvert_exporter": "python",
   "pygments_lexer": "ipython3",
   "version": "3.8.2"
  }
 },
 "nbformat": 4,
 "nbformat_minor": 4
}
