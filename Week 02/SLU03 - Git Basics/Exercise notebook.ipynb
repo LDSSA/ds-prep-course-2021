{
 "cells": [
  {
   "cell_type": "markdown",
   "metadata": {
    "deletable": false,
    "editable": false,
    "nbgrader": {
     "grade": false,
     "grade_id": "cell-1db03f0cbe5a90d3",
     "locked": true,
     "schema_version": 3,
     "solution": false,
     "task": false
    }
   },
   "source": [
    "# SLU03 - Git Basics - Exercise notebook"
   ]
  },
  {
   "cell_type": "code",
   "execution_count": null,
   "metadata": {
    "deletable": false,
    "editable": false,
    "nbgrader": {
     "grade": false,
     "grade_id": "cell-dc5157610f08c40c",
     "locked": true,
     "schema_version": 3,
     "solution": false,
     "task": false
    }
   },
   "outputs": [],
   "source": [
    "# Import for evaluating the results.\n",
    "import hashlib\n",
    "from submit import submit"
   ]
  },
  {
   "cell_type": "markdown",
   "metadata": {
    "deletable": false,
    "editable": false,
    "nbgrader": {
     "grade": false,
     "grade_id": "cell-be50a1595f048b17",
     "locked": true,
     "schema_version": 3,
     "solution": false,
     "task": false
    }
   },
   "source": [
    "I hope you enjoyed the **Learning Notebook**! The Exercise Notebook is multiple choice so it's really important that you have a good grasp of everything before starting it. **Good luck!**"
   ]
  },
  {
   "cell_type": "markdown",
   "metadata": {
    "deletable": false,
    "editable": false,
    "nbgrader": {
     "grade": false,
     "grade_id": "cell-18adf46dc292aa49",
     "locked": true,
     "schema_version": 3,
     "solution": false,
     "task": false
    }
   },
   "source": [
    "## Exercise 1: Version Control\n",
    "What is the main principle behind a VCS:\n",
    "\n",
    "- Option **A**: Changes are tracked in a given location, allowing you to track, revert and compare all changes to the files and folders within it\n",
    "\n",
    "- Option **B**: All files and tracked changes are shared publicly in a remote repository\n",
    "\n",
    "- Option **C**: Changes are tracked in all files of a repository\n",
    "\n",
    "- Option **D**: You cannot start a repository without a README\n"
   ]
  },
  {
   "cell_type": "code",
   "execution_count": null,
   "metadata": {
    "deletable": false,
    "nbgrader": {
     "grade": false,
     "grade_id": "cell-0ad663f9cf9def82",
     "locked": false,
     "schema_version": 3,
     "solution": true,
     "task": false
    }
   },
   "outputs": [],
   "source": [
    "# Assign to the variable exercise_1 the option letter that you think is correct.\n",
    "\n",
    "# YOUR CODE HERE\n",
    "raise NotImplementedError()\n",
    "# exercise_1 ="
   ]
  },
  {
   "cell_type": "code",
   "execution_count": null,
   "metadata": {
    "deletable": false,
    "editable": false,
    "nbgrader": {
     "grade": true,
     "grade_id": "cell-28da65d304eb76f9",
     "locked": true,
     "points": 2,
     "schema_version": 3,
     "solution": false,
     "task": false
    }
   },
   "outputs": [],
   "source": [
    "exercise_1_hash = \"559aead08264d5795d3909718cdd05abd49572e84fe55590eef31a88a08fdffd\"\n",
    "options = [\"A\", \"B\", \"C\", \"D\"]\n",
    "assert isinstance(exercise_1,str), \"The variable should be a string.\"\n",
    "assert exercise_1.isupper(), \"Please use uppercase for your answer.\"\n",
    "assert exercise_1.upper() in options, \"Please choose one of the options: %s\" % ', '.join(str(opt) for opt in options)\n",
    "assert exercise_1_hash == hashlib.sha256(bytes(exercise_1, encoding='utf8')).hexdigest(), \"Wrong answer\""
   ]
  },
  {
   "cell_type": "markdown",
   "metadata": {
    "deletable": false,
    "editable": false,
    "nbgrader": {
     "grade": false,
     "grade_id": "cell-8d31b2ef5260c1ed",
     "locked": true,
     "schema_version": 3,
     "solution": false,
     "task": false
    }
   },
   "source": [
    "## Exercise 2: Git\n",
    "\n",
    "Which one of the following statements is false: \n",
    "\n",
    "- Option **A**: Git is a decentralized version control tool\n",
    "\n",
    "- Option **B**: Users can clone entire repositories to their local systems\n",
    "\n",
    "- Option **C**: Commits are possible even if offline\n",
    "\n",
    "- Option **D**: Works are shared to the remote repository automatically by commit\n"
   ]
  },
  {
   "cell_type": "code",
   "execution_count": null,
   "metadata": {
    "deletable": false,
    "nbgrader": {
     "grade": false,
     "grade_id": "cell-71db91f1c18eebb3",
     "locked": false,
     "schema_version": 3,
     "solution": true,
     "task": false
    }
   },
   "outputs": [],
   "source": [
    "# Assign the option letter of the option that you think is correct to the variable exercise_2.\n",
    "\n",
    "# YOUR CODE HERE\n",
    "raise NotImplementedError()\n",
    "# exercise_2 ="
   ]
  },
  {
   "cell_type": "code",
   "execution_count": null,
   "metadata": {
    "deletable": false,
    "editable": false,
    "nbgrader": {
     "grade": true,
     "grade_id": "cell-ad5700b91f015868",
     "locked": true,
     "points": 2,
     "schema_version": 3,
     "solution": false,
     "task": false
    }
   },
   "outputs": [],
   "source": [
    "exercise_2_hash = \"3f39d5c348e5b79d06e842c114e6cc571583bbf44e4b0ebfda1a01ec05745d43\"\n",
    "options = [\"A\", \"B\", \"C\", \"D\"]\n",
    "assert isinstance(exercise_2,str), \"The variable should be a string.\"\n",
    "assert exercise_2.isupper(), \"Please use uppercase for your answer.\"\n",
    "assert exercise_2.upper() in options, \"Please choose one of the options: %s\" % ', '.join(str(opt) for opt in options)\n",
    "assert exercise_2_hash == hashlib.sha256(bytes(exercise_2, encoding='utf8')).hexdigest(), \"Wrong answer\""
   ]
  },
  {
   "cell_type": "markdown",
   "metadata": {
    "deletable": false,
    "editable": false,
    "nbgrader": {
     "grade": false,
     "grade_id": "cell-b9394719a711a961",
     "locked": true,
     "schema_version": 3,
     "solution": false,
     "task": false
    }
   },
   "source": [
    "## Exercise 3: Staging\n",
    "Which of the following statements is true:\n",
    "- Option **A**: You can only have one file staged at a time\n",
    "- Option **B**: You can only stage files after a commit\n",
    "- Option **C**: The staging area is an intermediate storage for changes that will be part of the next commit\n",
    "- Option **D**: All files are added to the staging area automatically"
   ]
  },
  {
   "cell_type": "code",
   "execution_count": null,
   "metadata": {
    "deletable": false,
    "nbgrader": {
     "grade": false,
     "grade_id": "cell-e9c408d24e570684",
     "locked": false,
     "schema_version": 3,
     "solution": true,
     "task": false
    }
   },
   "outputs": [],
   "source": [
    "# Assign the option letter of the option that you think is correct to the variable exercise_3.\n",
    "\n",
    "# YOUR CODE HERE\n",
    "raise NotImplementedError()\n",
    "# exercise_3 ="
   ]
  },
  {
   "cell_type": "code",
   "execution_count": null,
   "metadata": {
    "deletable": false,
    "editable": false,
    "nbgrader": {
     "grade": true,
     "grade_id": "cell-6a4c40061538306a",
     "locked": true,
     "points": 3,
     "schema_version": 3,
     "solution": false,
     "task": false
    }
   },
   "outputs": [],
   "source": [
    "exercise_3_hash = \"6b23c0d5f35d1b11f9b683f0b0a617355deb11277d91ae091d399c655b87940d\"\n",
    "options = [\"A\", \"B\", \"C\", \"D\"]\n",
    "assert isinstance(exercise_3,str), \"The variable should be a string.\"\n",
    "assert exercise_3.isupper(), \"Please use uppercase for your answer.\"\n",
    "assert exercise_3.upper() in options, \"Please choose one of the options: %s\" % ', '.join(str(opt) for opt in options)\n",
    "assert exercise_3_hash == hashlib.sha256(bytes(exercise_3, encoding='utf8')).hexdigest(), \"Wrong answer\""
   ]
  },
  {
   "cell_type": "markdown",
   "metadata": {
    "deletable": false,
    "editable": false,
    "nbgrader": {
     "grade": false,
     "grade_id": "cell-351c5ca4035ca15a",
     "locked": true,
     "schema_version": 3,
     "solution": false,
     "task": false
    }
   },
   "source": [
    "## Exercise 4: Git add\n",
    "\n",
    "What command should you use when you want to stage all text files changes in the workspace?\n",
    "\n",
    "- Option **A**: `git add --all`\n",
    "- Option **B**: `git add .`\n",
    "- Option **C**: `git add *.txt`"
   ]
  },
  {
   "cell_type": "code",
   "execution_count": null,
   "metadata": {
    "deletable": false,
    "nbgrader": {
     "grade": false,
     "grade_id": "cell-ebcecd4226f1dce6",
     "locked": false,
     "schema_version": 3,
     "solution": true,
     "task": false
    }
   },
   "outputs": [],
   "source": [
    "# Assign the option letter of the option that you think is correct to the variable exercise_4.\n",
    "\n",
    "# YOUR CODE HERE\n",
    "raise NotImplementedError()\n",
    "# exercise_4 ="
   ]
  },
  {
   "cell_type": "code",
   "execution_count": null,
   "metadata": {
    "deletable": false,
    "editable": false,
    "nbgrader": {
     "grade": true,
     "grade_id": "cell-df39aeb2d728fcd8",
     "locked": true,
     "points": 2,
     "schema_version": 3,
     "solution": false,
     "task": false
    }
   },
   "outputs": [],
   "source": [
    "exercise_4_hash = \"6b23c0d5f35d1b11f9b683f0b0a617355deb11277d91ae091d399c655b87940d\"\n",
    "options = [\"A\", \"B\", \"C\"]\n",
    "assert isinstance(exercise_4,str), \"The variable should be a string.\"\n",
    "assert exercise_4.isupper(), \"Please use uppercase for your answer.\"\n",
    "assert exercise_4.upper() in options, \"Please choose one of the options: %s\" % ', '.join(str(opt) for opt in options)\n",
    "assert exercise_4_hash == hashlib.sha256(bytes(exercise_4, encoding='utf8')).hexdigest(), \"Wrong answer\""
   ]
  },
  {
   "cell_type": "markdown",
   "metadata": {
    "deletable": false,
    "editable": false,
    "nbgrader": {
     "grade": false,
     "grade_id": "cell-48903a752de39be7",
     "locked": true,
     "schema_version": 3,
     "solution": false,
     "task": false
    }
   },
   "source": [
    "## Exercise 5: Git add and Git commit\n",
    "\n",
    "What is the difference between `git add .`; `git commit` and `git commit -a -m`?\n",
    "\n",
    "- Option **A**: The first tracks and stages all files in the repo, the second commits all staged files in the repo, and the last stages and commits all changed files, followed by a message\n",
    "- Option **B**: The first stages all files that start with '.', the second commits all staged files in the repo, and the last stages and commits all changed files, followed by a message\n",
    "- Option **C**: The first stages all files in the repo, the second commits all modified files in the repo, and the last stages and commits all changed files, followed by a message"
   ]
  },
  {
   "cell_type": "code",
   "execution_count": null,
   "metadata": {
    "deletable": false,
    "nbgrader": {
     "grade": false,
     "grade_id": "cell-c696448a0429c1f8",
     "locked": false,
     "schema_version": 3,
     "solution": true,
     "task": false
    }
   },
   "outputs": [],
   "source": [
    "# Assign the option letter of the option that you think is correct to the variable exercise_5.\n",
    "\n",
    "# YOUR CODE HERE\n",
    "raise NotImplementedError()\n",
    "# exercise_5 ="
   ]
  },
  {
   "cell_type": "code",
   "execution_count": null,
   "metadata": {
    "deletable": false,
    "editable": false,
    "nbgrader": {
     "grade": true,
     "grade_id": "cell-aff7a12614986551",
     "locked": true,
     "points": 3,
     "schema_version": 3,
     "solution": false,
     "task": false
    }
   },
   "outputs": [],
   "source": [
    "exercise_5_hash = \"559aead08264d5795d3909718cdd05abd49572e84fe55590eef31a88a08fdffd\"\n",
    "options = [\"A\", \"B\", \"C\"]\n",
    "assert isinstance(exercise_5,str), \"The variable should be a string.\"\n",
    "assert exercise_5.isupper(), \"Please use uppercase for your answer.\"\n",
    "assert exercise_5.upper() in options, \"Please choose one of the options: %s\" % ', '.join(str(opt) for opt in options)\n",
    "assert exercise_5_hash == hashlib.sha256(bytes(exercise_5, encoding='utf8')).hexdigest(), \"Wrong answer\""
   ]
  },
  {
   "cell_type": "markdown",
   "metadata": {
    "deletable": false,
    "editable": false,
    "nbgrader": {
     "grade": false,
     "grade_id": "cell-e1bf329c0f0e5eb4",
     "locked": true,
     "schema_version": 3,
     "solution": false,
     "task": false
    }
   },
   "source": [
    "## Exercise 6: Git status\n",
    "\n",
    "The `git status` command shows you the difference between the working directory and the index, where changes on tracked files are kept. \n",
    "\n",
    "In a repository where 5 files are being tracked, a new file is added. Additionally, the first line of one of the files is changed. What would the `git status` command show?\n",
    "\n",
    "- Option **A**: Staged: 1, Modified: 1, Untracked: 0\n",
    "- Option **B**: Staged: 0, Modified: 1, Untracked: 1\n",
    "- Option **C**: Staged: 5, Modified: 1, Untracked: 1\n",
    "- Option **D**: Staged: 5, Modified: 0, Untracked: 1"
   ]
  },
  {
   "cell_type": "code",
   "execution_count": null,
   "metadata": {
    "deletable": false,
    "nbgrader": {
     "grade": false,
     "grade_id": "cell-ad3eb1b9f7256b3d",
     "locked": false,
     "schema_version": 3,
     "solution": true,
     "task": false
    }
   },
   "outputs": [],
   "source": [
    "# Assign the option letter of the option that you think is correct to the variable exercise_6.\n",
    "\n",
    "# YOUR CODE HERE\n",
    "raise NotImplementedError()\n",
    "# exercise_6 ="
   ]
  },
  {
   "cell_type": "code",
   "execution_count": null,
   "metadata": {
    "deletable": false,
    "editable": false,
    "nbgrader": {
     "grade": true,
     "grade_id": "cell-c266b16ef62872b4",
     "locked": true,
     "points": 3,
     "schema_version": 3,
     "solution": false,
     "task": false
    }
   },
   "outputs": [],
   "source": [
    "exercise_6_hash = \"df7e70e5021544f4834bbee64a9e3789febc4be81470df629cad6ddb03320a5c\"\n",
    "options = [\"A\", \"B\", \"C\", \"D\"]\n",
    "assert isinstance(exercise_6,str), \"The variable should be a string.\"\n",
    "assert exercise_6.isupper(), \"Please use uppercase for your answer.\"\n",
    "assert exercise_6.upper() in options, \"Please choose one of the options: %s\" % ', '.join(str(opt) for opt in options)\n",
    "assert exercise_6_hash == hashlib.sha256(bytes(exercise_6, encoding='utf8')).hexdigest(), \"Wrong answer\""
   ]
  },
  {
   "cell_type": "markdown",
   "metadata": {
    "deletable": false,
    "editable": false,
    "nbgrader": {
     "grade": false,
     "grade_id": "cell-853b67aad78be720",
     "locked": true,
     "schema_version": 3,
     "solution": false,
     "task": false
    }
   },
   "source": [
    "## Exercise 7: .gitignore\n",
    "\n",
    "Which one of the following statements is false: \n",
    "\n",
    "- Option **A**: You can stage a file that is on the .gitignore if you add it explicitly to the `git add` command\n",
    "- Option **B**: You can't ignore the .gitignore file itself\n",
    "- Option **C**: You can use patterns, such as wildcards, in the .gitignore\n",
    "\n"
   ]
  },
  {
   "cell_type": "code",
   "execution_count": null,
   "metadata": {
    "deletable": false,
    "nbgrader": {
     "grade": false,
     "grade_id": "cell-ce41a1f975fae767",
     "locked": false,
     "schema_version": 3,
     "solution": true,
     "task": false
    }
   },
   "outputs": [],
   "source": [
    "# Assign the option letter of the option that you think is correct to the variable exercise_7.\n",
    "\n",
    "# YOUR CODE HERE\n",
    "raise NotImplementedError()\n",
    "# exercise_7 ="
   ]
  },
  {
   "cell_type": "code",
   "execution_count": null,
   "metadata": {
    "deletable": false,
    "editable": false,
    "nbgrader": {
     "grade": true,
     "grade_id": "cell-3dc6db0d118d1a92",
     "locked": true,
     "points": 2,
     "schema_version": 3,
     "solution": false,
     "task": false
    }
   },
   "outputs": [],
   "source": [
    "exercise_7_hash = \"df7e70e5021544f4834bbee64a9e3789febc4be81470df629cad6ddb03320a5c\"\n",
    "options = [\"A\", \"B\", \"C\"]\n",
    "assert isinstance(exercise_7,str), \"The variable should be a string.\"\n",
    "assert exercise_7.isupper(), \"Please use uppercase for your answer.\"\n",
    "assert exercise_7.upper() in options, \"Please choose one of the options: %s\" % ', '.join(str(opt) for opt in options)\n",
    "assert exercise_7_hash == hashlib.sha256(bytes(exercise_7, encoding='utf8')).hexdigest(), \"Wrong answer\""
   ]
  },
  {
   "cell_type": "markdown",
   "metadata": {
    "deletable": false,
    "editable": false,
    "nbgrader": {
     "grade": false,
     "grade_id": "cell-baa375374f69aece",
     "locked": true,
     "schema_version": 3,
     "solution": false,
     "task": false
    }
   },
   "source": [
    "## Exercise 8: git push\n",
    "\n",
    "What would happen if you tried to `git push` changes to a remote repository that is ahead on commits compared to your local repository?\n",
    "\n",
    "- Option **A**: The remote repository will handle everything like magic\n",
    "- Option **B**: The remote repository will throw an error because versions don't match\n",
    "- Option **C**: The remote repository will throw an error because the remote repository is ahead on commits "
   ]
  },
  {
   "cell_type": "code",
   "execution_count": null,
   "metadata": {
    "deletable": false,
    "nbgrader": {
     "grade": false,
     "grade_id": "cell-d8e48506ae23cd8e",
     "locked": false,
     "schema_version": 3,
     "solution": true,
     "task": false
    }
   },
   "outputs": [],
   "source": [
    "# Assign the option letter of the option that you think is correct to the variable exercise_8.\n",
    "\n",
    "# YOUR CODE HERE\n",
    "raise NotImplementedError()\n",
    "# exercise_8 ="
   ]
  },
  {
   "cell_type": "code",
   "execution_count": null,
   "metadata": {
    "deletable": false,
    "editable": false,
    "nbgrader": {
     "grade": true,
     "grade_id": "cell-808483824d7e116a",
     "locked": true,
     "points": 3,
     "schema_version": 3,
     "solution": false,
     "task": false
    }
   },
   "outputs": [],
   "source": [
    "exercise_8_hash = \"6b23c0d5f35d1b11f9b683f0b0a617355deb11277d91ae091d399c655b87940d\"\n",
    "options = [\"A\", \"B\", \"C\"]\n",
    "assert isinstance(exercise_8,str), \"The variable should be a string.\"\n",
    "assert exercise_8.isupper(), \"Please use uppercase for your answer.\"\n",
    "assert exercise_8.upper() in options, \"Please choose one of the options: %s\" % ', '.join(str(opt) for opt in options)\n",
    "assert exercise_8_hash == hashlib.sha256(bytes(exercise_8, encoding='utf8')).hexdigest(), \"Wrong answer\""
   ]
  },
  {
   "cell_type": "markdown",
   "metadata": {
    "deletable": false,
    "editable": false,
    "nbgrader": {
     "grade": false,
     "grade_id": "cell-7fce4c70c45ee629",
     "locked": true,
     "schema_version": 3,
     "solution": false,
     "task": false
    }
   },
   "source": [
    "## Exercise 9: Git Workflow\n",
    "This exercise is ungraded. It's a set of instructions for you to follow and see for yourself how some git commands work and have some fun with it!\n",
    "\n",
    "- Save this file\n",
    "- On the root of your Prep Course repository, run the `git status` command\n",
    "- Check the output, you should see that the **Exercise Notebook** file is modified\n",
    "- Run the `git add` command to add **just** the Exercise Notebook file\n",
    "- Run the `git commit` command with the option that allows you to write the commit message in the command. Write the following message: \"I've conquered the power of git!\"\n"
   ]
  },
  {
   "cell_type": "markdown",
   "metadata": {
    "deletable": false,
    "editable": false,
    "nbgrader": {
     "grade": false,
     "grade_id": "cell-5c3a47c5e39032eb",
     "locked": true,
     "schema_version": 3,
     "solution": false,
     "task": false
    }
   },
   "source": [
    "Congratulations! You've just finished the first steps of your journey into the *wonderful world of version control*! These skills will accompany you for the rest of the Prep Course, so make good use of them! \n",
    "\n",
    "**See you in the Git Intermediate SLU for some more VCS fun!**"
   ]
  },
  {
   "cell_type": "markdown",
   "metadata": {
    "deletable": false,
    "editable": false,
    "nbgrader": {
     "grade": false,
     "grade_id": "cell-037868f54a4878e0",
     "locked": true,
     "schema_version": 3,
     "solution": false,
     "task": false
    }
   },
   "source": [
    "## Submit your work!\n",
    "\n",
    "To submit your work, [get your slack id](https://moshfeu.medium.com/how-to-find-my-member-id-in-slack-workspace-d4bba942e38c) and fill it in the `slack_id` variable.\n",
    "\n",
    "Example: `slack_id = \"UTS63FC02\"`"
   ]
  },
  {
   "cell_type": "code",
   "execution_count": null,
   "metadata": {
    "deletable": false,
    "nbgrader": {
     "grade": false,
     "grade_id": "cell-2c781dcf91e7533f",
     "locked": false,
     "schema_version": 3,
     "solution": true,
     "task": false
    }
   },
   "outputs": [],
   "source": [
    "#slack_id = ...  \n",
    "# YOUR CODE HERE\n",
    "raise NotImplementedError()"
   ]
  },
  {
   "cell_type": "code",
   "execution_count": null,
   "metadata": {
    "deletable": false,
    "editable": false,
    "nbgrader": {
     "grade": true,
     "grade_id": "cell-4db9424844fb4cce",
     "locked": true,
     "points": 0,
     "schema_version": 3,
     "solution": false,
     "task": false
    }
   },
   "outputs": [],
   "source": [
    "assert isinstance(slack_id,str)\n",
    "submit(slack_id, 3)"
   ]
  }
 ],
 "metadata": {
  "kernelspec": {
   "display_name": "Python 3",
   "language": "python",
   "name": "python3"
  },
  "language_info": {
   "codemirror_mode": {
    "name": "ipython",
    "version": 3
   },
   "file_extension": ".py",
   "mimetype": "text/x-python",
   "name": "python",
   "nbconvert_exporter": "python",
   "pygments_lexer": "ipython3",
   "version": "3.8.2"
  }
 },
 "nbformat": 4,
 "nbformat_minor": 4
}
