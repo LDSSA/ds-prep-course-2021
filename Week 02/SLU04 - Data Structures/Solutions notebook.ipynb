{
 "cells": [
  {
   "cell_type": "markdown",
   "metadata": {
    "nbgrader": {
     "grade": false,
     "grade_id": "cell-1394850f892c0188",
     "locked": true,
     "schema_version": 3,
     "solution": false,
     "task": false
    }
   },
   "source": [
    "# SLU04 - Data Structures"
   ]
  },
  {
   "cell_type": "markdown",
   "metadata": {
    "nbgrader": {
     "grade": false,
     "grade_id": "cell-5a86818cb223223a",
     "locked": true,
     "schema_version": 3,
     "solution": false
    }
   },
   "source": [
    "### Start by importing the following packages"
   ]
  },
  {
   "cell_type": "code",
   "execution_count": 1,
   "metadata": {
    "nbgrader": {
     "grade": false,
     "grade_id": "cell-23ad005b1393abe1",
     "locked": true,
     "schema_version": 3,
     "solution": false,
     "task": false
    }
   },
   "outputs": [],
   "source": [
    "#used for evaluation\n",
    "import hashlib\n",
    "import json\n",
    "import random"
   ]
  },
  {
   "cell_type": "markdown",
   "metadata": {
    "nbgrader": {
     "grade": false,
     "grade_id": "cell-a39755a5c47d569e",
     "locked": true,
     "schema_version": 3,
     "solution": false,
     "task": false
    }
   },
   "source": [
    "In this notebook the following is tested:\n",
    "- Tuples   \n",
    "- Lists   \n",
    "- Dictionaries\n",
    "- Sets\n",
    "\n",
    "**IMPORTANT:** Some exercises require you to use a variable that was defined in a previous cell, so don't forget to run it before!\n",
    "\n",
    "For example, in Exercise 1.2 you need to run the cell with `color = (\"red\", \"blue\", \"green\", \"yellow\", \"black\", \"white\")` before running the following cell with your solution."
   ]
  },
  {
   "cell_type": "markdown",
   "metadata": {
    "nbgrader": {
     "grade": false,
     "grade_id": "cell-a77c1aeea1e0bae8",
     "locked": true,
     "schema_version": 3,
     "solution": false,
     "task": false
    }
   },
   "source": [
    "## Exercise 1: Tuples  <a name=\"1\"></a>"
   ]
  },
  {
   "cell_type": "markdown",
   "metadata": {
    "nbgrader": {
     "grade": false,
     "grade_id": "cell-1ae98f9e0e6d921f",
     "locked": true,
     "schema_version": 3,
     "solution": false,
     "task": false
    }
   },
   "source": [
    "This exercise covers topics learned regarding tuples."
   ]
  },
  {
   "cell_type": "markdown",
   "metadata": {
    "nbgrader": {
     "grade": false,
     "grade_id": "cell-553f559dced32ebd",
     "locked": true,
     "schema_version": 3,
     "solution": false,
     "task": false
    }
   },
   "source": [
    "### 1.1) Create a tuple "
   ]
  },
  {
   "cell_type": "markdown",
   "metadata": {
    "nbgrader": {
     "grade": false,
     "grade_id": "cell-328945c1835ecba5",
     "locked": true,
     "schema_version": 3,
     "solution": false,
     "task": false
    }
   },
   "source": [
    "Create a tuple of __floats__ named `this_tuple` with size 5."
   ]
  },
  {
   "cell_type": "code",
   "execution_count": 2,
   "metadata": {
    "nbgrader": {
     "grade": false,
     "grade_id": "cell-3a4c0b59df7bcf57",
     "locked": false,
     "schema_version": 3,
     "solution": true,
     "task": false
    }
   },
   "outputs": [
    {
     "name": "stdout",
     "output_type": "stream",
     "text": [
      "<class 'tuple'>\n",
      "5\n",
      "<class 'float'>\n"
     ]
    }
   ],
   "source": [
    "#this_tuple = ...\n",
    "### BEGIN SOLUTION\n",
    "this_tuple = (1., 2., 3., 4., 5.)\n",
    "print(type(this_tuple))\n",
    "print(len(this_tuple))\n",
    "print(type(this_tuple[3]))\n",
    "### END SOLUTION"
   ]
  },
  {
   "cell_type": "code",
   "execution_count": 3,
   "metadata": {
    "nbgrader": {
     "grade": true,
     "grade_id": "cell-b63230a58719fa25",
     "locked": true,
     "points": 1,
     "schema_version": 3,
     "solution": false,
     "task": false
    }
   },
   "outputs": [],
   "source": [
    "assert isinstance(this_tuple, tuple), \"Are you sure this_tuple is a tuple?\"\n",
    "assert len(this_tuple) == 5, \"The length is not quite right.\"\n",
    "for i in this_tuple:\n",
    "    assert isinstance(i, float), \"Did you write floats?\"\n"
   ]
  },
  {
   "cell_type": "markdown",
   "metadata": {
    "nbgrader": {
     "grade": false,
     "grade_id": "cell-caade60192e9ee98",
     "locked": true,
     "schema_version": 3,
     "solution": false
    }
   },
   "source": [
    "### 1.2) Index a tuple"
   ]
  },
  {
   "cell_type": "markdown",
   "metadata": {
    "nbgrader": {
     "grade": false,
     "grade_id": "cell-b9e18f365178dad9",
     "locked": true,
     "schema_version": 3,
     "solution": false
    }
   },
   "source": [
    "Consider the following tuple:    "
   ]
  },
  {
   "cell_type": "code",
   "execution_count": 4,
   "metadata": {
    "nbgrader": {
     "grade": false,
     "grade_id": "cell-db62d36d8237c211",
     "locked": true,
     "schema_version": 3,
     "solution": false
    }
   },
   "outputs": [],
   "source": [
    "color = (\"red\", \"blue\", \"green\", \"yellow\", \"black\", \"white\")"
   ]
  },
  {
   "cell_type": "markdown",
   "metadata": {
    "nbgrader": {
     "grade": false,
     "grade_id": "cell-3c9441a336c01871",
     "locked": true,
     "schema_version": 3,
     "solution": false
    }
   },
   "source": [
    "Using __negative__ indexing, what is the index of the element `\"green\"`? Assign this value to the variable `green_index`."
   ]
  },
  {
   "cell_type": "code",
   "execution_count": 5,
   "metadata": {
    "nbgrader": {
     "grade": false,
     "grade_id": "cell-268b39f922ddc862",
     "locked": false,
     "schema_version": 3,
     "solution": true,
     "task": false
    }
   },
   "outputs": [
    {
     "name": "stdout",
     "output_type": "stream",
     "text": [
      "green\n",
      "green_index hashed: e5e0093f285a4fb94c3fcc2ad7fd04edd10d429ccda87a9aa5e4718efadf182e\n"
     ]
    }
   ],
   "source": [
    "# Hint: the solution should be a number\n",
    "# green_index = ...\n",
    "### BEGIN SOLUTION\n",
    "green_index = -4\n",
    "print(color[green_index])\n",
    "print(\n",
    "    'green_index hashed:',\n",
    "    hashlib.sha256(\n",
    "        json.dumps(green_index).encode()\n",
    "    ).hexdigest()\n",
    ")\n",
    "### END SOLUTION"
   ]
  },
  {
   "cell_type": "code",
   "execution_count": 6,
   "metadata": {
    "nbgrader": {
     "grade": true,
     "grade_id": "cell-d3eb2f19b4f68632",
     "locked": true,
     "points": 0.5,
     "schema_version": 3,
     "solution": false,
     "task": false
    }
   },
   "outputs": [],
   "source": [
    "assert hashlib.sha256(json.dumps(green_index).encode()).hexdigest() == 'e5e0093f285a4fb94c3fcc2ad7fd04edd10d429ccda87a9aa5e4718efadf182e', \"The index is not correct. Are you using negative indexing?\""
   ]
  },
  {
   "cell_type": "markdown",
   "metadata": {
    "nbgrader": {
     "grade": false,
     "grade_id": "cell-5abddeaeeb3b55f7",
     "locked": true,
     "schema_version": 3,
     "solution": false
    }
   },
   "source": [
    "### 1.3) Slice a tuple"
   ]
  },
  {
   "cell_type": "markdown",
   "metadata": {
    "nbgrader": {
     "grade": false,
     "grade_id": "cell-3f647fb2f1a39be1",
     "locked": true,
     "schema_version": 3,
     "solution": false
    }
   },
   "source": [
    "Extract `(\"green\", \"blue\", \"red\")` (in this same order) from the tuple `color`.\n",
    "Assign the results to a variable called `rgb`."
   ]
  },
  {
   "cell_type": "code",
   "execution_count": 7,
   "metadata": {
    "nbgrader": {
     "grade": false,
     "grade_id": "cell-8a98581ad0586a03",
     "locked": true,
     "schema_version": 3,
     "solution": false,
     "task": false
    }
   },
   "outputs": [],
   "source": [
    "color = (\"red\", \"blue\", \"green\", \"yellow\", \"black\", \"white\")"
   ]
  },
  {
   "cell_type": "code",
   "execution_count": 8,
   "metadata": {
    "nbgrader": {
     "grade": false,
     "grade_id": "cell-205bd03d74d9e9f5",
     "locked": false,
     "schema_version": 3,
     "solution": true,
     "task": false
    }
   },
   "outputs": [
    {
     "name": "stdout",
     "output_type": "stream",
     "text": [
      "('green', 'blue', 'red')\n",
      "rgb hashed: 43da8949efc00c51f7d96130a25a6b902f6cfd6157817015ca6ee524e3085374\n"
     ]
    }
   ],
   "source": [
    "# Hint: use backwards slicing\n",
    "# rgb = ...\n",
    "\n",
    "### BEGIN SOLUTION\n",
    "rgb = color[-4:-7:-1]\n",
    "print(rgb)\n",
    "print(\n",
    "    'rgb hashed:',\n",
    "    hashlib.sha256(\n",
    "        json.dumps(rgb).encode()\n",
    "    ).hexdigest()\n",
    ")\n",
    "### END SOLUTION"
   ]
  },
  {
   "cell_type": "code",
   "execution_count": 9,
   "metadata": {
    "nbgrader": {
     "grade": true,
     "grade_id": "cell-f17f899e57df23ad",
     "locked": true,
     "points": 1,
     "schema_version": 3,
     "solution": false,
     "task": false
    }
   },
   "outputs": [],
   "source": [
    "assert isinstance(rgb, tuple), \"Is your result a tuple?\"\n",
    "assert len(rgb) == 3, \"You aren't selecting the correct number of elements.\"\n",
    "assert rgb[0] == \"green\", \"Check which elements you are selecting and their order.\"\n",
    "assert hashlib.sha256(json.dumps(rgb).encode()).hexdigest() == '43da8949efc00c51f7d96130a25a6b902f6cfd6157817015ca6ee524e3085374'"
   ]
  },
  {
   "cell_type": "markdown",
   "metadata": {
    "nbgrader": {
     "grade": false,
     "grade_id": "cell-5e645b1e02334bba",
     "locked": true,
     "schema_version": 3,
     "solution": false
    }
   },
   "source": [
    "###  1.4) Index a tuple of tuples"
   ]
  },
  {
   "cell_type": "markdown",
   "metadata": {
    "nbgrader": {
     "grade": false,
     "grade_id": "cell-014146bcca814cea",
     "locked": true,
     "schema_version": 3,
     "solution": false
    }
   },
   "source": [
    "Considering the following tuple of tuples:"
   ]
  },
  {
   "cell_type": "code",
   "execution_count": 10,
   "metadata": {
    "nbgrader": {
     "grade": false,
     "grade_id": "cell-de8a17d24bdd1974",
     "locked": true,
     "schema_version": 3,
     "solution": false
    }
   },
   "outputs": [],
   "source": [
    "random_numbers = ((1, 2, 3),(4, 5, 6),(7, 8, 9),(10, 11, 12))"
   ]
  },
  {
   "cell_type": "markdown",
   "metadata": {
    "nbgrader": {
     "grade": false,
     "grade_id": "cell-648f815248e68152",
     "locked": true,
     "schema_version": 3,
     "solution": false
    }
   },
   "source": [
    "What is the right way to extract the number 8 from `random_numbers`?"
   ]
  },
  {
   "cell_type": "markdown",
   "metadata": {
    "nbgrader": {
     "grade": false,
     "grade_id": "cell-74a3ef6157c4d1da",
     "locked": true,
     "schema_version": 3,
     "solution": false
    }
   },
   "source": [
    "a) `random_numbers[3][2]`   \n",
    "b) `random_numbers[-1][-1]`   \n",
    "c) `random_numbers[-2][1]`  \n",
    "d) `random_numbers[-1][1]`   "
   ]
  },
  {
   "cell_type": "code",
   "execution_count": 11,
   "metadata": {
    "nbgrader": {
     "grade": false,
     "grade_id": "cell-7e6632972efca3db",
     "locked": false,
     "schema_version": 3,
     "solution": true,
     "task": false
    }
   },
   "outputs": [
    {
     "name": "stdout",
     "output_type": "stream",
     "text": [
      "c\n",
      "8\n",
      "answer hashed: 879923da020d1533f4d8e921ea7bac61e8ba41d3c89d17a4d14e3a89c6780d5d\n"
     ]
    }
   ],
   "source": [
    "# Uncomment the right answer\n",
    "#answer = \"a\"\n",
    "#answer = \"b\"\n",
    "#answer = \"c\"\n",
    "#answer = \"d\"\n",
    "### BEGIN SOLUTION\n",
    "random_numbers = ( (1, 2, 3), (4, 5, 6), (7, 8, 9), (10, 11, 12) )\n",
    "answer = \"c\"\n",
    "print(answer)\n",
    "print(random_numbers[-2][1])\n",
    "print(\n",
    "    'answer hashed:',\n",
    "    hashlib.sha256(\n",
    "        json.dumps(answer).encode()\n",
    "    ).hexdigest()\n",
    ")\n",
    "### END SOLUTION"
   ]
  },
  {
   "cell_type": "code",
   "execution_count": 12,
   "metadata": {
    "nbgrader": {
     "grade": true,
     "grade_id": "cell-a17e088c506ff934",
     "locked": true,
     "points": 0.5,
     "schema_version": 3,
     "solution": false,
     "task": false
    }
   },
   "outputs": [],
   "source": [
    "assert hashlib.sha256(json.dumps(answer).encode()).hexdigest() == '879923da020d1533f4d8e921ea7bac61e8ba41d3c89d17a4d14e3a89c6780d5d', \"Wrong answer.\""
   ]
  },
  {
   "cell_type": "markdown",
   "metadata": {
    "nbgrader": {
     "grade": false,
     "grade_id": "cell-a04f60836c526476",
     "locked": true,
     "schema_version": 3,
     "solution": false
    }
   },
   "source": [
    "### 1.5) Tuple of size one"
   ]
  },
  {
   "cell_type": "markdown",
   "metadata": {
    "nbgrader": {
     "grade": false,
     "grade_id": "cell-a9ff06d993ef64d8",
     "locked": true,
     "schema_version": 3,
     "solution": false
    }
   },
   "source": [
    "How can we create the tuple `example` of size 1 __without__ using the function __tuple__?"
   ]
  },
  {
   "cell_type": "markdown",
   "metadata": {
    "nbgrader": {
     "grade": false,
     "grade_id": "cell-74acf2e1421786c0",
     "locked": true,
     "schema_version": 3,
     "solution": false
    }
   },
   "source": [
    "a) example = (5)   \n",
    "b) example = 5   \n",
    "c) example = [5]   \n",
    "d) example = 5,   "
   ]
  },
  {
   "cell_type": "code",
   "execution_count": 13,
   "metadata": {
    "nbgrader": {
     "grade": false,
     "grade_id": "cell-d239485262f1edcd",
     "locked": false,
     "schema_version": 3,
     "solution": true,
     "task": false
    }
   },
   "outputs": [
    {
     "name": "stdout",
     "output_type": "stream",
     "text": [
      "d\n",
      "<class 'tuple'>\n",
      "answer hashed: 3fa5834dc920d385ca9b099c9fe55dcca163a6b256a261f8f147291b0e7cf633\n"
     ]
    }
   ],
   "source": [
    "# Uncomment the right answer\n",
    "#answer = \"a\"\n",
    "#answer = \"b\"\n",
    "#answer = \"c\"\n",
    "#answer = \"d\"\n",
    "### BEGIN SOLUTION\n",
    "answer = \"d\"\n",
    "print(answer)\n",
    "this_tuple = 5,\n",
    "print(type(this_tuple))\n",
    "print(\n",
    "    'answer hashed:',\n",
    "    hashlib.sha256(\n",
    "        json.dumps(answer).encode()\n",
    "    ).hexdigest()\n",
    ")\n",
    "### END SOLUTION"
   ]
  },
  {
   "cell_type": "code",
   "execution_count": 14,
   "metadata": {
    "nbgrader": {
     "grade": true,
     "grade_id": "cell-3e575a27a20113ad",
     "locked": true,
     "points": 0.5,
     "schema_version": 3,
     "solution": false,
     "task": false
    }
   },
   "outputs": [],
   "source": [
    "assert hashlib.sha256(json.dumps(answer).encode()).hexdigest() == '3fa5834dc920d385ca9b099c9fe55dcca163a6b256a261f8f147291b0e7cf633', \"Wrong answer.\""
   ]
  },
  {
   "cell_type": "markdown",
   "metadata": {
    "nbgrader": {
     "grade": false,
     "grade_id": "cell-6da7420f7fbc3fd5",
     "locked": true,
     "schema_version": 3,
     "solution": false,
     "task": false
    }
   },
   "source": [
    "###  1.6) Replace values in a tuple"
   ]
  },
  {
   "cell_type": "markdown",
   "metadata": {
    "nbgrader": {
     "grade": false,
     "grade_id": "cell-a1bd5ea31721b6e5",
     "locked": true,
     "schema_version": 3,
     "solution": false,
     "task": false
    }
   },
   "source": [
    "Can a tuple be modified after its creation?"
   ]
  },
  {
   "cell_type": "code",
   "execution_count": 15,
   "metadata": {
    "nbgrader": {
     "grade": false,
     "grade_id": "cell-1d7ed0f610a63b1a",
     "locked": false,
     "schema_version": 3,
     "solution": true,
     "task": false
    }
   },
   "outputs": [
    {
     "name": "stdout",
     "output_type": "stream",
     "text": [
      "no\n",
      "answer hashed: 04a06452677210a3cdaec376fd5ebbca1714cb7af9e62bf5cce1644310a9086a\n"
     ]
    }
   ],
   "source": [
    "# Uncomment the right answer\n",
    "#answer = \"yes\"\n",
    "#answer = \"no\"\n",
    "### BEGIN SOLUTION\n",
    "answer = \"no\"\n",
    "print(answer)\n",
    "print(\n",
    "    'answer hashed:',\n",
    "    hashlib.sha256(\n",
    "        json.dumps(answer).encode()\n",
    "    ).hexdigest()\n",
    ")\n",
    "### END SOLUTION"
   ]
  },
  {
   "cell_type": "code",
   "execution_count": 16,
   "metadata": {
    "nbgrader": {
     "grade": true,
     "grade_id": "cell-c7188110ce71150e",
     "locked": true,
     "points": 0.5,
     "schema_version": 3,
     "solution": false,
     "task": false
    }
   },
   "outputs": [],
   "source": [
    "assert hashlib.sha256(json.dumps(answer).encode()).hexdigest() == '04a06452677210a3cdaec376fd5ebbca1714cb7af9e62bf5cce1644310a9086a', \"Wrong answer.\""
   ]
  },
  {
   "cell_type": "markdown",
   "metadata": {
    "nbgrader": {
     "grade": false,
     "grade_id": "cell-973512063e02c5a4",
     "locked": true,
     "schema_version": 3,
     "solution": false,
     "task": false
    }
   },
   "source": [
    "### 1.7) Merge two tuples"
   ]
  },
  {
   "cell_type": "markdown",
   "metadata": {
    "nbgrader": {
     "grade": false,
     "grade_id": "cell-117c66c870648a4f",
     "locked": true,
     "schema_version": 3,
     "solution": false,
     "task": false
    }
   },
   "source": [
    "Considering the following tuples:"
   ]
  },
  {
   "cell_type": "code",
   "execution_count": 17,
   "metadata": {
    "nbgrader": {
     "grade": false,
     "grade_id": "cell-b8ec0c5b5fee7b4e",
     "locked": true,
     "schema_version": 3,
     "solution": false,
     "task": false
    }
   },
   "outputs": [],
   "source": [
    "left = (1,11,22215,7,14,1,11,9,1,6,2,5)\n",
    "right = (1,24,50,45,2,45,1,1,2,1,2,1,88,9,9,9,44,5,2)"
   ]
  },
  {
   "cell_type": "markdown",
   "metadata": {
    "nbgrader": {
     "grade": false,
     "grade_id": "cell-22370b87851a9a6e",
     "locked": true,
     "schema_version": 3,
     "solution": false,
     "task": false
    }
   },
   "source": [
    "Create a new tuple  `this_tuple` by merging the tuples above. The elements in the tuple `left` should precede the ones on the tuple `right`."
   ]
  },
  {
   "cell_type": "code",
   "execution_count": 18,
   "metadata": {
    "nbgrader": {
     "grade": false,
     "grade_id": "cell-05376cff3e8e7950",
     "locked": false,
     "schema_version": 3,
     "solution": true,
     "task": false
    }
   },
   "outputs": [
    {
     "name": "stdout",
     "output_type": "stream",
     "text": [
      "(1, 11, 22215, 7, 14, 1, 11, 9, 1, 6, 2, 5, 1, 24, 50, 45, 2, 45, 1, 1, 2, 1, 2, 1, 88, 9, 9, 9, 44, 5, 2)\n",
      "<class 'tuple'>\n",
      "31\n",
      "44\n",
      "this_tuple hashed: 0c1afd35431992aba438b9382b08332f4d4fed7d4380e538c047e42a223a9dd5\n"
     ]
    }
   ],
   "source": [
    "# Hint: Using operations between tuples.\n",
    "#this_tuple = ...\n",
    "\n",
    "### BEGIN SOLUTION\n",
    "this_tuple = left + right\n",
    "print(this_tuple)\n",
    "print(type(this_tuple))\n",
    "print(len(this_tuple))\n",
    "print(this_tuple[-3])\n",
    "print(\n",
    "    'this_tuple hashed:',\n",
    "    hashlib.sha256(\n",
    "        json.dumps(this_tuple).encode()\n",
    "    ).hexdigest()\n",
    ")\n",
    "### END SOLUTION"
   ]
  },
  {
   "cell_type": "code",
   "execution_count": 19,
   "metadata": {
    "nbgrader": {
     "grade": true,
     "grade_id": "cell-74db790f2e9e6836",
     "locked": true,
     "points": 1,
     "schema_version": 3,
     "solution": false,
     "task": false
    }
   },
   "outputs": [],
   "source": [
    "assert isinstance(this_tuple, tuple), \"The result should be a tuple.\"\n",
    "assert len(this_tuple) == 31, \"The merging is not right.\"\n",
    "assert this_tuple[-3] == 44, \"Re-check the order of the tuples.\"\n",
    "assert hashlib.sha256(json.dumps(this_tuple).encode()).hexdigest() == '0c1afd35431992aba438b9382b08332f4d4fed7d4380e538c047e42a223a9dd5'"
   ]
  },
  {
   "cell_type": "markdown",
   "metadata": {
    "nbgrader": {
     "grade": false,
     "grade_id": "cell-bd55f1b4fa5c38d0",
     "locked": true,
     "schema_version": 3,
     "solution": false,
     "task": false
    }
   },
   "source": [
    "## Exercise 2: Lists  <a name=\"2\"></a> "
   ]
  },
  {
   "cell_type": "markdown",
   "metadata": {
    "nbgrader": {
     "grade": false,
     "grade_id": "cell-2101d19e1e91bb2d",
     "locked": true,
     "schema_version": 3,
     "solution": false,
     "task": false
    }
   },
   "source": [
    "This exercise covers topics learned regarding lists."
   ]
  },
  {
   "cell_type": "markdown",
   "metadata": {
    "nbgrader": {
     "grade": false,
     "grade_id": "cell-1550468cd836e0f0",
     "locked": true,
     "schema_version": 3,
     "solution": false,
     "task": false
    }
   },
   "source": [
    "###  2.1) List Creation"
   ]
  },
  {
   "cell_type": "markdown",
   "metadata": {
    "nbgrader": {
     "grade": false,
     "grade_id": "cell-b61e2028d8892d9b",
     "locked": true,
     "schema_version": 3,
     "solution": false,
     "task": false
    }
   },
   "source": [
    "Write a list named `this_list` with length five and with the string `\"bananas\"` on negative index -4."
   ]
  },
  {
   "cell_type": "code",
   "execution_count": 20,
   "metadata": {
    "nbgrader": {
     "grade": false,
     "grade_id": "cell-f8854927f9656f23",
     "locked": false,
     "schema_version": 3,
     "solution": true,
     "task": false
    }
   },
   "outputs": [
    {
     "name": "stdout",
     "output_type": "stream",
     "text": [
      "['kiwi', 'bananas', 'melon', 'lemon', 'kiwi']\n",
      "<class 'list'>\n",
      "5\n",
      "bananas\n"
     ]
    }
   ],
   "source": [
    "#bananas = ...\n",
    "#this_list = ...\n",
    "\n",
    "### BEGIN SOLUTION\n",
    "bananas = \"bananas\"\n",
    "this_list = [\"kiwi\", bananas, \"melon\", \"lemon\", \"kiwi\"]\n",
    "print(this_list)\n",
    "print(type(this_list))\n",
    "print(len(this_list))\n",
    "print(this_list[-4])\n",
    "### END SOLUTION"
   ]
  },
  {
   "cell_type": "code",
   "execution_count": 21,
   "metadata": {
    "nbgrader": {
     "grade": true,
     "grade_id": "cell-5de18c0078e98c2e",
     "locked": true,
     "points": 1,
     "schema_version": 3,
     "solution": false,
     "task": false
    }
   },
   "outputs": [],
   "source": [
    "assert isinstance(this_list, list), \"The result should be a list.\"\n",
    "assert len(this_list) == 5, \"The length is not quite right.\"\n",
    "assert this_list[-4] == \"bananas\", \"There is no \\\"bananas\\\" on position -4.\""
   ]
  },
  {
   "cell_type": "markdown",
   "metadata": {
    "nbgrader": {
     "grade": false,
     "grade_id": "cell-fd541dc946c20f47",
     "locked": true,
     "schema_version": 3,
     "solution": false,
     "task": false
    }
   },
   "source": [
    "###  2.2) Delete and append values in a list"
   ]
  },
  {
   "cell_type": "markdown",
   "metadata": {
    "nbgrader": {
     "grade": false,
     "grade_id": "cell-1fdfc306ff602ffb",
     "locked": true,
     "schema_version": 3,
     "solution": false,
     "task": false
    }
   },
   "source": [
    "Given the list `ice_cream`, delete `\"chocolate\"` and append `\"dulce de leche\"`."
   ]
  },
  {
   "cell_type": "code",
   "execution_count": 22,
   "metadata": {
    "nbgrader": {
     "grade": false,
     "grade_id": "cell-924c2b63a7da319a",
     "locked": true,
     "schema_version": 3,
     "solution": false,
     "task": false
    }
   },
   "outputs": [],
   "source": [
    "ice_cream = [\"lemon\", \"stracciatella\", \"pistacchio\", \"chocolate\", \"vanilla\"]"
   ]
  },
  {
   "cell_type": "code",
   "execution_count": 23,
   "metadata": {
    "nbgrader": {
     "grade": false,
     "grade_id": "cell-c22be3e4356c6e22",
     "locked": false,
     "schema_version": 3,
     "solution": true,
     "task": false
    }
   },
   "outputs": [
    {
     "name": "stdout",
     "output_type": "stream",
     "text": [
      "False\n",
      "dulce de leche\n",
      "ice_cream hashed: 083936d7994a5de336fe655aa14bb4b14ad95e30605fa4252937ddc8776cfa09\n"
     ]
    }
   ],
   "source": [
    "### BEGIN SOLUTION\n",
    "del ice_cream[-2]\n",
    "ice_cream.append(\"dulce de leche\")\n",
    "print(\"chocolate\" in ice_cream)\n",
    "print(ice_cream[-1])\n",
    "\n",
    "print(\n",
    "    'ice_cream hashed:',\n",
    "    hashlib.sha256(\n",
    "        json.dumps(ice_cream).encode()\n",
    "    ).hexdigest()\n",
    ")\n",
    "\n",
    "### END SOLUTION"
   ]
  },
  {
   "cell_type": "code",
   "execution_count": 24,
   "metadata": {
    "nbgrader": {
     "grade": true,
     "grade_id": "cell-298523708d65510d",
     "locked": true,
     "points": 1,
     "schema_version": 3,
     "solution": false,
     "task": false
    }
   },
   "outputs": [],
   "source": [
    "assert \"chocolate\" not in ice_cream, \"There is still \\\"chocolate\\\" in the ice_cream.\"\n",
    "assert ice_cream[-1] == \"dulce de leche\", \"Did you append the right ingredient?\"\n",
    "assert hashlib.sha256(json.dumps(ice_cream).encode()).hexdigest() == '083936d7994a5de336fe655aa14bb4b14ad95e30605fa4252937ddc8776cfa09'"
   ]
  },
  {
   "cell_type": "markdown",
   "metadata": {
    "nbgrader": {
     "grade": false,
     "grade_id": "cell-0b6ee6c4b495135b",
     "locked": true,
     "schema_version": 3,
     "solution": false,
     "task": false
    }
   },
   "source": [
    "###  2.3) Delete the last value in a list"
   ]
  },
  {
   "cell_type": "markdown",
   "metadata": {
    "nbgrader": {
     "grade": false,
     "grade_id": "cell-712757f07a9f4350",
     "locked": true,
     "schema_version": 3,
     "solution": false,
     "task": false
    }
   },
   "source": [
    "Considering the following list, `ice_cream = [\"lemon\", \"vanilla\", \"stracciatella\", \"pistacchio\", \"chocolate\", \"vanilla\"]`, what is the right answer if we want to delete `\"vanilla\"` in the last position?"
   ]
  },
  {
   "cell_type": "markdown",
   "metadata": {
    "nbgrader": {
     "grade": false,
     "grade_id": "cell-8e584b9581fa898c",
     "locked": true,
     "schema_version": 3,
     "solution": false,
     "task": false
    }
   },
   "source": [
    "a) `del ice_cream[1]`   \n",
    "b) `del ice_cream[-1]`    \n",
    "c) `ice_cream.remove(\"vanilla\")`   \n",
    "d) `ice_cream[-1] = None`   "
   ]
  },
  {
   "cell_type": "code",
   "execution_count": 25,
   "metadata": {
    "nbgrader": {
     "grade": false,
     "grade_id": "cell-fafe1f47881998b6",
     "locked": false,
     "schema_version": 3,
     "solution": true,
     "task": false
    }
   },
   "outputs": [
    {
     "name": "stdout",
     "output_type": "stream",
     "text": [
      "['lemon', 'stracciatella', 'pistacchio', 'chocolate', 'vanilla']\n",
      "['lemon', 'vanilla', 'stracciatella', 'pistacchio', 'chocolate']\n",
      "['lemon', 'stracciatella', 'pistacchio', 'chocolate', 'vanilla']\n",
      "['lemon', 'vanilla', 'stracciatella', 'pistacchio', 'chocolate', None]\n",
      "answer hashed: c100f95c1913f9c72fc1f4ef0847e1e723ffe0bde0b36e5f36c13f81fe8c26ed\n"
     ]
    }
   ],
   "source": [
    "# Uncomment the right answer\n",
    "#answer = \"a\"\n",
    "#answer = \"b\"\n",
    "#answer = \"c\"\n",
    "#answer = \"d\"\n",
    "\n",
    "### BEGIN SOLUTION\n",
    "answer = \"b\"\n",
    "\n",
    "ice_cream = [\"lemon\", \"vanilla\", \"stracciatella\", \"pistacchio\", \"chocolate\", \"vanilla\"]\n",
    "del ice_cream[1]\n",
    "print(ice_cream)\n",
    "\n",
    "ice_cream = [\"lemon\", \"vanilla\", \"stracciatella\", \"pistacchio\", \"chocolate\", \"vanilla\"]\n",
    "del ice_cream[-1] \n",
    "print(ice_cream)\n",
    "\n",
    "ice_cream = [\"lemon\", \"vanilla\", \"stracciatella\", \"pistacchio\", \"chocolate\", \"vanilla\"]\n",
    "ice_cream.remove(\"vanilla\")\n",
    "print(ice_cream)\n",
    "\n",
    "ice_cream = [\"lemon\", \"vanilla\", \"stracciatella\", \"pistacchio\", \"chocolate\", \"vanilla\"]\n",
    "ice_cream[-1] = None\n",
    "print(ice_cream)\n",
    "\n",
    "\n",
    "print(\n",
    "    'answer hashed:',\n",
    "    hashlib.sha256(\n",
    "        json.dumps(answer).encode()\n",
    "    ).hexdigest()\n",
    ")\n",
    "### END SOLUTION"
   ]
  },
  {
   "cell_type": "code",
   "execution_count": 26,
   "metadata": {
    "nbgrader": {
     "grade": true,
     "grade_id": "cell-6589184220a059bc",
     "locked": true,
     "points": 0.5,
     "schema_version": 3,
     "solution": false,
     "task": false
    }
   },
   "outputs": [],
   "source": [
    "assert hashlib.sha256(json.dumps(answer).encode()).hexdigest() == 'c100f95c1913f9c72fc1f4ef0847e1e723ffe0bde0b36e5f36c13f81fe8c26ed', \"Wrong answer.\""
   ]
  },
  {
   "cell_type": "markdown",
   "metadata": {
    "nbgrader": {
     "grade": false,
     "grade_id": "cell-8ffa96b3a1115a12",
     "locked": true,
     "schema_version": 3,
     "solution": false,
     "task": false
    }
   },
   "source": [
    "###  2.4) List Operations"
   ]
  },
  {
   "cell_type": "markdown",
   "metadata": {
    "nbgrader": {
     "grade": false,
     "grade_id": "cell-d3823726beb8ca39",
     "locked": true,
     "schema_version": 3,
     "solution": false,
     "task": false
    }
   },
   "source": [
    "Using list operations, create a list called `hello_world` of size 10000. It should have just two unique values, `\"hello\"` and `\"world\"`. Starting with `\"hello\"` then `\"world\"`, then `\"hello\"` and so on."
   ]
  },
  {
   "cell_type": "code",
   "execution_count": 27,
   "metadata": {
    "nbgrader": {
     "grade": false,
     "grade_id": "cell-0989f9a6a1c1f63e",
     "locked": false,
     "schema_version": 3,
     "solution": true,
     "task": false
    }
   },
   "outputs": [
    {
     "name": "stdout",
     "output_type": "stream",
     "text": [
      "10000\n",
      "hello\n",
      "world\n",
      "hello\n",
      "hello_world hashed: ba01ef9ff3158651119ad5f13ef61b559dd73eff752f4a2cc05e3912c2c85d32\n"
     ]
    }
   ],
   "source": [
    "# Hint: multiply a list by a int \n",
    "#hello_world = ...\n",
    "\n",
    "### BEGIN SOLUTION\n",
    "hello_world = [\"hello\", \"world\"] * 5000\n",
    "\n",
    "print(len(hello_world))\n",
    "print(hello_world[0])\n",
    "print(hello_world[3])\n",
    "print(hello_world[4532])\n",
    "print(\n",
    "    'hello_world hashed:',\n",
    "    hashlib.sha256(\n",
    "        json.dumps(hello_world).encode()\n",
    "    ).hexdigest()\n",
    ")\n",
    "### END SOLUTION"
   ]
  },
  {
   "cell_type": "code",
   "execution_count": 28,
   "metadata": {
    "nbgrader": {
     "grade": true,
     "grade_id": "cell-4ac5d3b434c8a490",
     "locked": true,
     "points": 1,
     "schema_version": 3,
     "solution": false,
     "task": false
    }
   },
   "outputs": [],
   "source": [
    "assert len(hello_world) == 10000, \"The size is not right.\"\n",
    "assert hello_world[0] == \"hello\", \"I guess you started on the wrong foot.\"\n",
    "\n",
    "for idx,word in enumerate(hello_world):\n",
    "    if (idx % 2) == 0:\n",
    "        assert word == \"hello\", \"Are the words alternating?\"\n",
    "    else:\n",
    "        assert word == \"world\", \"Are the words alternating?\"\n",
    "        \n",
    "assert hashlib.sha256(json.dumps(hello_world).encode()).hexdigest() == 'ba01ef9ff3158651119ad5f13ef61b559dd73eff752f4a2cc05e3912c2c85d32', \"Wrong answer.\""
   ]
  },
  {
   "cell_type": "markdown",
   "metadata": {
    "nbgrader": {
     "grade": false,
     "grade_id": "cell-723e0ece87a053c0",
     "locked": true,
     "schema_version": 3,
     "solution": false,
     "task": false
    }
   },
   "source": [
    "###  2.5) Replace values and sort a list"
   ]
  },
  {
   "cell_type": "markdown",
   "metadata": {
    "nbgrader": {
     "grade": false,
     "grade_id": "cell-c799b67d2a4e420d",
     "locked": true,
     "schema_version": 3,
     "solution": false,
     "task": false
    }
   },
   "source": [
    "Replace `\"pistacchio\"` in the list `ice_cream` by `\"cream\"`.\n",
    "\n",
    "Add the sublist `others` to the end of the list `ice_cream`.   \n",
    "\n",
    "After these operations, sort the elements in the list and convert it to a __tuple__."
   ]
  },
  {
   "cell_type": "code",
   "execution_count": 29,
   "metadata": {
    "nbgrader": {
     "grade": false,
     "grade_id": "cell-a75c90f15f4bc3f1",
     "locked": true,
     "schema_version": 3,
     "solution": false,
     "task": false
    }
   },
   "outputs": [],
   "source": [
    "ice_cream = [\"lemon\", \"stracciatella\", \"pistacchio\", \"chocolate\", \"vanilla\"]\n",
    "\n",
    "others = [\"dulce de leche\", \"caramel\", \"cookies\", \"peanut butter\"] * 100"
   ]
  },
  {
   "cell_type": "code",
   "execution_count": 30,
   "metadata": {
    "nbgrader": {
     "grade": false,
     "grade_id": "cell-7327a77943c8fe67",
     "locked": false,
     "schema_version": 3,
     "solution": true,
     "task": false
    }
   },
   "outputs": [
    {
     "name": "stdout",
     "output_type": "stream",
     "text": [
      "405\n",
      "ice_cream hashed: bbe23485294172ad0fab1f37eee62d4f518a296aad06ea944d6d7a31e6ef58a6\n"
     ]
    }
   ],
   "source": [
    "### BEGIN SOLUTION\n",
    "ice_cream[2] = \"cream\"\n",
    "ice_cream = ice_cream + others\n",
    "ice_cream.sort()\n",
    "ice_cream = tuple(ice_cream)\n",
    "\n",
    "print(len(ice_cream))\n",
    "\n",
    "print(\n",
    "    'ice_cream hashed:',\n",
    "    hashlib.sha256(\n",
    "        json.dumps(ice_cream).encode()\n",
    "    ).hexdigest()\n",
    ")\n",
    "### END SOLUTION"
   ]
  },
  {
   "cell_type": "code",
   "execution_count": 31,
   "metadata": {
    "nbgrader": {
     "grade": true,
     "grade_id": "cell-955f097b2db82b73",
     "locked": true,
     "points": 1,
     "schema_version": 3,
     "solution": false,
     "task": false
    }
   },
   "outputs": [],
   "source": [
    "assert len(ice_cream) == 405, \"The size of the tuple is not right.\"\n",
    "assert ice_cream.index(\"cream\") == 201, \"Did you replace \\\"pistacchio\\\"?\"\n",
    "assert isinstance(ice_cream, tuple), \"The result is not a tuple.\"\n",
    "assert hashlib.sha256(json.dumps(ice_cream).encode()).hexdigest() == 'bbe23485294172ad0fab1f37eee62d4f518a296aad06ea944d6d7a31e6ef58a6'"
   ]
  },
  {
   "cell_type": "markdown",
   "metadata": {
    "nbgrader": {
     "grade": false,
     "grade_id": "cell-3d05def00c8085bb",
     "locked": true,
     "schema_version": 3,
     "solution": false,
     "task": false
    }
   },
   "source": [
    "## Exercise 3: Dictionaries  <a name=\"3\"></a>"
   ]
  },
  {
   "cell_type": "markdown",
   "metadata": {
    "nbgrader": {
     "grade": false,
     "grade_id": "cell-5a58ad1650ffcb65",
     "locked": true,
     "schema_version": 3,
     "solution": false,
     "task": false
    }
   },
   "source": [
    "This exercise covers topics learned regarding dictionaries."
   ]
  },
  {
   "cell_type": "markdown",
   "metadata": {
    "nbgrader": {
     "grade": false,
     "grade_id": "cell-ef80e72e7619c2a5",
     "locked": true,
     "schema_version": 3,
     "solution": false,
     "task": false
    }
   },
   "source": [
    "###  3.1) Create a dictionary"
   ]
  },
  {
   "cell_type": "markdown",
   "metadata": {
    "nbgrader": {
     "grade": false,
     "grade_id": "cell-40652f0b472e8069",
     "locked": true,
     "schema_version": 3,
     "solution": false,
     "task": false
    }
   },
   "source": [
    "Create a dictionary called `this_dict` with 5 key-value pairs where the keys are strings and the values are lists."
   ]
  },
  {
   "cell_type": "code",
   "execution_count": 32,
   "metadata": {
    "nbgrader": {
     "grade": false,
     "grade_id": "cell-bb5b978acdaaae16",
     "locked": false,
     "schema_version": 3,
     "solution": true,
     "task": false
    }
   },
   "outputs": [
    {
     "name": "stdout",
     "output_type": "stream",
     "text": [
      "5\n",
      "True\n",
      "True\n",
      "True\n"
     ]
    }
   ],
   "source": [
    "#this_dict = ...\n",
    "### BEGIN SOLUTION\n",
    "this_dict = {\"a\":[],\"b\":[],\"c\":[],\"d\":[],\"e\":[]}\n",
    "print(len(this_dict))\n",
    "print(isinstance(list(this_dict.keys())[0], str))\n",
    "print(isinstance(list(this_dict.values())[0], list))\n",
    "print(isinstance(list(this_dict.keys())[2], str))\n",
    "### END SOLUTION"
   ]
  },
  {
   "cell_type": "code",
   "execution_count": 33,
   "metadata": {
    "nbgrader": {
     "grade": true,
     "grade_id": "cell-0f3a2761c0922b5f",
     "locked": true,
     "points": 1,
     "schema_version": 3,
     "solution": false,
     "task": false
    }
   },
   "outputs": [],
   "source": [
    "assert isinstance(this_dict, dict), \"The result is not a dictionary.\"\n",
    "assert len(this_dict) == 5, \"The dictionary doesn't have 5 key-value pairs.\"\n",
    "for key, value in this_dict.items():\n",
    "    assert isinstance(key, str), \"The dictionary keys are not strings: %s\" % key\n",
    "    assert isinstance(value, list), \"The dictionary values are not lists: %s\" % value"
   ]
  },
  {
   "cell_type": "markdown",
   "metadata": {
    "nbgrader": {
     "grade": false,
     "grade_id": "cell-4eb22784ec1faef7",
     "locked": true,
     "schema_version": 3,
     "solution": false,
     "task": false
    }
   },
   "source": [
    "### 3.2) Extract a value from a dictionary"
   ]
  },
  {
   "cell_type": "markdown",
   "metadata": {
    "nbgrader": {
     "grade": false,
     "grade_id": "cell-0ddf38a04c12d753",
     "locked": true,
     "schema_version": 3,
     "solution": false,
     "task": false
    }
   },
   "source": [
    "Considering the following dictionary named `groceries`:"
   ]
  },
  {
   "cell_type": "code",
   "execution_count": 34,
   "metadata": {
    "nbgrader": {
     "grade": false,
     "grade_id": "cell-25012b410acd6346",
     "locked": true,
     "schema_version": 3,
     "solution": false,
     "task": false
    }
   },
   "outputs": [],
   "source": [
    "groceries = {             \n",
    "             \"bread\": {\"type\": \"grains\", \"price_per_unit\": 2, \"quantity_purchased\": 1},   \n",
    "             \"onions\": {\"type\": \"vegetables\", \"price_per_unit\": 0.5, \"quantity_purchased\": 2},   \n",
    "             \"spinaches\": {\"type\": \"vegetables\" , \"price_per_unit\": 1.5, \"quantity_purchased\": 1}   \n",
    "            }"
   ]
  },
  {
   "cell_type": "markdown",
   "metadata": {
    "nbgrader": {
     "grade": false,
     "grade_id": "cell-9383a3256ed6cf8e",
     "locked": true,
     "schema_version": 3,
     "solution": false,
     "task": false
    }
   },
   "source": [
    "What is the notation that we should use in order to extract \"grains\"?"
   ]
  },
  {
   "cell_type": "markdown",
   "metadata": {
    "nbgrader": {
     "grade": false,
     "grade_id": "cell-806e772ad4255a5a",
     "locked": true,
     "schema_version": 3,
     "solution": false,
     "task": false
    }
   },
   "source": [
    "a) `groceries[\"type\"]`   \n",
    "b) `groceries[\"bread\"]`   \n",
    "c) `groceries[0][0]`   \n",
    "d) `groceries[\"bread\"][\"type\"]`"
   ]
  },
  {
   "cell_type": "code",
   "execution_count": 35,
   "metadata": {
    "nbgrader": {
     "grade": false,
     "grade_id": "cell-fd6a36d5f663708b",
     "locked": false,
     "schema_version": 3,
     "solution": true,
     "task": false
    }
   },
   "outputs": [
    {
     "name": "stdout",
     "output_type": "stream",
     "text": [
      "d\n",
      "grains\n",
      "answer hashed: 3fa5834dc920d385ca9b099c9fe55dcca163a6b256a261f8f147291b0e7cf633\n"
     ]
    }
   ],
   "source": [
    "# Uncomment the right answer\n",
    "#answer = \"a\"\n",
    "#answer = \"b\"\n",
    "#answer = \"c\"\n",
    "#answer = \"d\"\n",
    "### BEGIN SOLUTION\n",
    "answer = \"d\"\n",
    "print(answer)\n",
    "print(groceries[\"bread\"][\"type\"])\n",
    "\n",
    "print(\n",
    "    'answer hashed:',\n",
    "    hashlib.sha256(\n",
    "        json.dumps(answer).encode()\n",
    "    ).hexdigest()\n",
    ")\n",
    "### END SOLUTION"
   ]
  },
  {
   "cell_type": "code",
   "execution_count": 36,
   "metadata": {
    "nbgrader": {
     "grade": true,
     "grade_id": "cell-978adad567f2a3cb",
     "locked": true,
     "points": 1,
     "schema_version": 3,
     "solution": false,
     "task": false
    }
   },
   "outputs": [],
   "source": [
    "assert hashlib.sha256(json.dumps(answer).encode()).hexdigest() == '3fa5834dc920d385ca9b099c9fe55dcca163a6b256a261f8f147291b0e7cf633', \"Wrong answer.\""
   ]
  },
  {
   "cell_type": "markdown",
   "metadata": {
    "nbgrader": {
     "grade": false,
     "grade_id": "cell-8f98dc2d01c8e2ea",
     "locked": true,
     "schema_version": 3,
     "solution": false,
     "task": false
    }
   },
   "source": [
    "###  3.3) Replace, Append and Delete operations on dictionaries"
   ]
  },
  {
   "cell_type": "markdown",
   "metadata": {
    "nbgrader": {
     "grade": false,
     "grade_id": "cell-4fb3bae7a757d100",
     "locked": true,
     "schema_version": 3,
     "solution": false,
     "task": false
    }
   },
   "source": [
    "Considering the following dictionary named groceries:"
   ]
  },
  {
   "cell_type": "code",
   "execution_count": 37,
   "metadata": {
    "nbgrader": {
     "grade": false,
     "grade_id": "cell-5bd6dd4a4dd7f77b",
     "locked": true,
     "schema_version": 3,
     "solution": false,
     "task": false
    }
   },
   "outputs": [],
   "source": [
    "groceries = {   \n",
    "             \"bread\": {\"type\": \"grains\", \"price_per_unit\": 2, \"quantity_purchased\": 1},   \n",
    "             \"onions\": {\"type\": \"vegetables\", \"price_per_unit\": 0.5, \"quantity_purchased\": 2},   \n",
    "             \"spinages\": {\"type\": \"vegetables\" , \"price_per_unit\": 1.5, \"quantity_purchased\": 1}   \n",
    "            }"
   ]
  },
  {
   "cell_type": "markdown",
   "metadata": {
    "nbgrader": {
     "grade": false,
     "grade_id": "cell-87ba0d0c0af07caf",
     "locked": true,
     "schema_version": 3,
     "solution": false,
     "task": false
    }
   },
   "source": [
    "Complete the following questions regarding Replacing, Appending and Deleting key-value pairs to/from a dictionary."
   ]
  },
  {
   "cell_type": "markdown",
   "metadata": {
    "nbgrader": {
     "grade": false,
     "grade_id": "cell-841136c405a567d5",
     "locked": true,
     "schema_version": 3,
     "solution": false,
     "task": false
    }
   },
   "source": [
    "####  3.3.1) Replace a value on a key-value pair"
   ]
  },
  {
   "cell_type": "markdown",
   "metadata": {
    "nbgrader": {
     "grade": false,
     "grade_id": "cell-277c158b687d0838",
     "locked": true,
     "schema_version": 3,
     "solution": false,
     "task": false
    }
   },
   "source": [
    "Considering the dictionary `groceries`, update the `price_per_unit` for bread from 2 to 3.   "
   ]
  },
  {
   "cell_type": "code",
   "execution_count": 38,
   "metadata": {
    "nbgrader": {
     "grade": false,
     "grade_id": "cell-095cb4bce1528b15",
     "locked": false,
     "schema_version": 3,
     "solution": true,
     "task": false
    }
   },
   "outputs": [
    {
     "name": "stdout",
     "output_type": "stream",
     "text": [
      "3\n",
      "groceries hashed: be21838b4e9ebe7f267a1a172ec093414999f321b6c027fa0a8a02f9f4f5174d\n"
     ]
    }
   ],
   "source": [
    "### BEGIN SOLUTION\n",
    "groceries[\"bread\"][\"price_per_unit\"] = 3\n",
    "\n",
    "print(groceries[\"bread\"][\"price_per_unit\"])\n",
    "\n",
    "print(\n",
    "    'groceries hashed:',\n",
    "    hashlib.sha256(\n",
    "        json.dumps(groceries).encode()\n",
    "    ).hexdigest()\n",
    ")\n",
    "### END SOLUTION"
   ]
  },
  {
   "cell_type": "code",
   "execution_count": 39,
   "metadata": {
    "nbgrader": {
     "grade": true,
     "grade_id": "cell-c5c653d824ffcda9",
     "locked": true,
     "points": 1,
     "schema_version": 3,
     "solution": false,
     "task": false
    }
   },
   "outputs": [],
   "source": [
    "assert hashlib.sha256(json.dumps(groceries).encode()).hexdigest() == 'be21838b4e9ebe7f267a1a172ec093414999f321b6c027fa0a8a02f9f4f5174d', \"Wrong answer.\""
   ]
  },
  {
   "cell_type": "markdown",
   "metadata": {
    "nbgrader": {
     "grade": false,
     "grade_id": "cell-05bcf92ae245295a",
     "locked": true,
     "schema_version": 3,
     "solution": false,
     "task": false
    }
   },
   "source": [
    "####  3.3.2) Add a key-value pair"
   ]
  },
  {
   "cell_type": "markdown",
   "metadata": {
    "nbgrader": {
     "grade": false,
     "grade_id": "cell-8dc1761328f299cb",
     "locked": true,
     "schema_version": 3,
     "solution": false,
     "task": false
    }
   },
   "source": [
    "Let's add `\"rice\"` to our `groceries` dictionary.\n",
    "\n",
    "The `\"type\"` should be `\"grains\"`, its `\"price_per_unit\"` is 1 and the `\"quantity_purchased\"` is 2."
   ]
  },
  {
   "cell_type": "code",
   "execution_count": 40,
   "metadata": {
    "nbgrader": {
     "grade": false,
     "grade_id": "cell-bacb5fca35772b35",
     "locked": false,
     "schema_version": 3,
     "solution": true,
     "task": false
    }
   },
   "outputs": [
    {
     "name": "stdout",
     "output_type": "stream",
     "text": [
      "{'type': 'grains', 'price_per_unit': 1, 'quantity_purchased': 2}\n",
      "groceries_rice hashed: 8cfb3220f7b8b23cc8c9e578d6a7a5680dfa301c90c90d287764517e42850a82\n"
     ]
    }
   ],
   "source": [
    "### BEGIN SOLUTION\n",
    "groceries[\"rice\"] = {\"type\": \"grains\", \"price_per_unit\": 1, \"quantity_purchased\": 2}\n",
    "print(groceries[\"rice\"])\n",
    "\n",
    "print(\n",
    "    'groceries_rice hashed:',\n",
    "    hashlib.sha256(\n",
    "        json.dumps(groceries[\"rice\"]).encode()\n",
    "    ).hexdigest()\n",
    ")\n",
    "### END SOLUTION"
   ]
  },
  {
   "cell_type": "code",
   "execution_count": 41,
   "metadata": {
    "nbgrader": {
     "grade": true,
     "grade_id": "cell-59704708ceb3f98c",
     "locked": true,
     "points": 1,
     "schema_version": 3,
     "solution": false,
     "task": false
    }
   },
   "outputs": [],
   "source": [
    "assert \"rice\" in groceries.keys(), \"Are you sure you've added rice to the dictionary?\"\n",
    "assert hashlib.sha256(json.dumps(groceries[\"rice\"]).encode()).hexdigest() == '8cfb3220f7b8b23cc8c9e578d6a7a5680dfa301c90c90d287764517e42850a82', \"Wrong answer.\""
   ]
  },
  {
   "cell_type": "markdown",
   "metadata": {
    "nbgrader": {
     "grade": false,
     "grade_id": "cell-3e19bd3419133aa8",
     "locked": true,
     "schema_version": 3,
     "solution": false,
     "task": false
    }
   },
   "source": [
    "####  3.3.3) Delete a key-value pair"
   ]
  },
  {
   "cell_type": "markdown",
   "metadata": {
    "nbgrader": {
     "grade": false,
     "grade_id": "cell-05cc4696c8447e19",
     "locked": true,
     "schema_version": 3,
     "solution": false,
     "task": false
    }
   },
   "source": [
    "Delete onions from our `groceries` dictionary."
   ]
  },
  {
   "cell_type": "code",
   "execution_count": 42,
   "metadata": {
    "nbgrader": {
     "grade": false,
     "grade_id": "cell-c8c6802714175503",
     "locked": false,
     "schema_version": 3,
     "solution": true,
     "task": false
    }
   },
   "outputs": [
    {
     "data": {
      "text/plain": [
       "True"
      ]
     },
     "execution_count": 42,
     "metadata": {},
     "output_type": "execute_result"
    }
   ],
   "source": [
    "### BEGIN SOLUTION\n",
    "del groceries[\"onions\"]\n",
    "\"onions\" not in groceries.keys()\n",
    "### END SOLUTION"
   ]
  },
  {
   "cell_type": "code",
   "execution_count": 43,
   "metadata": {
    "nbgrader": {
     "grade": true,
     "grade_id": "cell-9b202febf2268e6d",
     "locked": true,
     "points": 0.5,
     "schema_version": 3,
     "solution": false,
     "task": false
    }
   },
   "outputs": [],
   "source": [
    "assert \"onions\" not in groceries.keys(), \"There's still \\\"onions\\\" on the groceries.\""
   ]
  },
  {
   "cell_type": "markdown",
   "metadata": {
    "nbgrader": {
     "grade": false,
     "grade_id": "cell-6eeb3376a7765ecb",
     "locked": true,
     "schema_version": 3,
     "solution": false,
     "task": false
    }
   },
   "source": [
    "###  3.4) Extract keys and values using methods"
   ]
  },
  {
   "cell_type": "markdown",
   "metadata": {
    "nbgrader": {
     "grade": false,
     "grade_id": "cell-75ca056c4b91f3d6",
     "locked": true,
     "schema_version": 3,
     "solution": false,
     "task": false
    }
   },
   "source": [
    "Considering the dictionary `seniority`, extract the keys and values of the dictionary to the variables `names` and `ages`, respectively.\n",
    "\n",
    "Convert the variable `ages` to a list called `list_ages` and sort this list.\n",
    "\n",
    "In the end, calculate how many people are senior and assign the value to `n_seniors`."
   ]
  },
  {
   "cell_type": "code",
   "execution_count": 44,
   "metadata": {
    "nbgrader": {
     "grade": false,
     "grade_id": "cell-4ee5afb5ef3e3f67",
     "locked": true,
     "schema_version": 3,
     "solution": false,
     "task": false
    }
   },
   "outputs": [],
   "source": [
    "seniority = {\"joao\":\"senior\", \"bernardo\":\"adult\", \"gabriel\":\"child\", \"antonio\":\"senior\", \"maria\":\"senior\", \"joel\":\"adult\", \"ines\":\"adult\", \"alberto\":\"adult\", \"amilcar\":\"senior\", \"emilia\":\"adult\", \"ana\":\"adult\", \"margarida\":\"adult\" }"
   ]
  },
  {
   "cell_type": "code",
   "execution_count": 45,
   "metadata": {
    "nbgrader": {
     "grade": false,
     "grade_id": "cell-1f5f20a99e9e053b",
     "locked": false,
     "schema_version": 3,
     "solution": true,
     "task": false
    }
   },
   "outputs": [
    {
     "name": "stdout",
     "output_type": "stream",
     "text": [
      "dict_keys(['joao', 'bernardo', 'gabriel', 'antonio', 'maria', 'joel', 'ines', 'alberto', 'amilcar', 'emilia', 'ana', 'margarida'])\n",
      "12\n",
      "dict_values(['senior', 'adult', 'child', 'senior', 'senior', 'adult', 'adult', 'adult', 'senior', 'adult', 'adult', 'adult'])\n",
      "12\n",
      "list(names) hashed: 9a2a381eef2e8212d8c8b48ab6531a62c064e9fbc39091015c8131138174eaf1\n",
      "list_ages hashed: 1fe2f77f82fc12b06e339263d31d6d6d261994a598e6c870152429dfc00a1ca5\n",
      "n_seniors hashed: 4b227777d4dd1fc61c6f884f48641d02b4d121d3fd328cb08b5531fcacdabf8a\n"
     ]
    }
   ],
   "source": [
    "#names = ...\n",
    "#ages = ...\n",
    "#list_ages = ..\n",
    "#n_seniors = ...\n",
    "\n",
    "### BEGIN SOLUTION\n",
    "names = seniority.keys()\n",
    "print(names)\n",
    "print(len(names))\n",
    "\n",
    "ages = seniority.values()\n",
    "print(ages)\n",
    "print(len(ages))\n",
    "\n",
    "list_ages = list(ages)\n",
    "list_ages.sort()\n",
    "n_seniors = list_ages.count(\"senior\")\n",
    "\n",
    "print(\n",
    "    'list(names) hashed:',\n",
    "    hashlib.sha256(\n",
    "        json.dumps(list(names)).encode()\n",
    "    ).hexdigest()\n",
    ")\n",
    "print(\n",
    "    'list_ages hashed:',\n",
    "    hashlib.sha256(\n",
    "        json.dumps(list_ages).encode()\n",
    "    ).hexdigest()\n",
    ")\n",
    "print(\n",
    "    'n_seniors hashed:',\n",
    "    hashlib.sha256(\n",
    "        json.dumps(n_seniors).encode()\n",
    "    ).hexdigest()\n",
    ")\n",
    "### END SOLUTION"
   ]
  },
  {
   "cell_type": "code",
   "execution_count": 46,
   "metadata": {
    "nbgrader": {
     "grade": true,
     "grade_id": "cell-2977c2eb6bba3963",
     "locked": true,
     "points": 1,
     "schema_version": 3,
     "solution": false,
     "task": false
    }
   },
   "outputs": [],
   "source": [
    "assert len(names) == 12, \"The number of names is not correct.\"\n",
    "assert hashlib.sha256(json.dumps(list(names)).encode()).hexdigest() == '9a2a381eef2e8212d8c8b48ab6531a62c064e9fbc39091015c8131138174eaf1', \"The variable names is incorrect.\"\n",
    "assert len(ages) == 12, \"The number of ages is incorrect.\"\n",
    "assert hashlib.sha256(json.dumps(list_ages).encode()).hexdigest() == '1fe2f77f82fc12b06e339263d31d6d6d261994a598e6c870152429dfc00a1ca5', \"The variable list_ages is not correct. Did you sort it?\"\n",
    "assert isinstance(list_ages, list), \"list_ages should be a list.\"\n",
    "assert hashlib.sha256(json.dumps(n_seniors).encode()).hexdigest() == '4b227777d4dd1fc61c6f884f48641d02b4d121d3fd328cb08b5531fcacdabf8a', \"The number of seniors is incorrect.\""
   ]
  },
  {
   "cell_type": "markdown",
   "metadata": {
    "nbgrader": {
     "grade": false,
     "grade_id": "cell-835571b102be26a7",
     "locked": true,
     "schema_version": 3,
     "solution": false,
     "task": false
    }
   },
   "source": [
    "## Exercise 4: Sets  <a name=\"4\"></a>"
   ]
  },
  {
   "cell_type": "markdown",
   "metadata": {
    "nbgrader": {
     "grade": false,
     "grade_id": "cell-f5ff91bb8b5d4474",
     "locked": true,
     "schema_version": 3,
     "solution": false,
     "task": false
    }
   },
   "source": [
    "This exercise covers topics learned regarding sets."
   ]
  },
  {
   "cell_type": "markdown",
   "metadata": {
    "nbgrader": {
     "grade": false,
     "grade_id": "cell-b2e742c1e8ee2eac",
     "locked": true,
     "schema_version": 3,
     "solution": false,
     "task": false
    }
   },
   "source": [
    "### 4.1) Create a set "
   ]
  },
  {
   "cell_type": "markdown",
   "metadata": {
    "nbgrader": {
     "grade": false,
     "grade_id": "cell-a300b171be249437",
     "locked": true,
     "schema_version": 3,
     "solution": false,
     "task": false
    }
   },
   "source": [
    "Create an empty set called `mary_collection`."
   ]
  },
  {
   "cell_type": "code",
   "execution_count": 47,
   "metadata": {
    "nbgrader": {
     "grade": false,
     "grade_id": "cell-939dc6aefe259e77",
     "locked": false,
     "schema_version": 3,
     "solution": true,
     "task": false
    }
   },
   "outputs": [
    {
     "name": "stdout",
     "output_type": "stream",
     "text": [
      "<class 'set'>\n",
      "0\n"
     ]
    }
   ],
   "source": [
    "#mary_collection = ...\n",
    "### BEGIN SOLUTION\n",
    "mary_collection = set()\n",
    "print(type(mary_collection))\n",
    "print(len(mary_collection))\n",
    "### END SOLUTION"
   ]
  },
  {
   "cell_type": "code",
   "execution_count": 48,
   "metadata": {
    "nbgrader": {
     "grade": true,
     "grade_id": "cell-66f3420a0f38d7f9",
     "locked": true,
     "points": 0.5,
     "schema_version": 3,
     "solution": false,
     "task": false
    }
   },
   "outputs": [],
   "source": [
    "assert isinstance(mary_collection, set), \"Are you sure mary_collection is a set?\"\n",
    "assert len(mary_collection) == 0, \"The length is not quite right.\""
   ]
  },
  {
   "cell_type": "markdown",
   "metadata": {
    "nbgrader": {
     "grade": false,
     "grade_id": "cell-cf4fecc77c253e28",
     "locked": true,
     "schema_version": 3,
     "solution": false,
     "task": false
    }
   },
   "source": [
    "### 4.2) Add values to a set "
   ]
  },
  {
   "cell_type": "markdown",
   "metadata": {
    "nbgrader": {
     "grade": false,
     "grade_id": "cell-1e8914dde5654d70",
     "locked": true,
     "schema_version": 3,
     "solution": false,
     "task": false
    }
   },
   "source": [
    "####  4.2.1) Add values from a list to a set"
   ]
  },
  {
   "cell_type": "markdown",
   "metadata": {
    "nbgrader": {
     "grade": false,
     "grade_id": "cell-e2c35d3c5309ded3",
     "locked": true,
     "schema_version": 3,
     "solution": false,
     "task": false
    }
   },
   "source": [
    "Add the values in the list `mary_albums` to the set `mary_collection` created in the previous step."
   ]
  },
  {
   "cell_type": "code",
   "execution_count": 49,
   "metadata": {
    "nbgrader": {
     "grade": false,
     "grade_id": "cell-2c3218919b3d5463",
     "locked": true,
     "schema_version": 3,
     "solution": false,
     "task": false
    }
   },
   "outputs": [],
   "source": [
    "mary_albums = [\"Repeater\", \"The Queen Is Dead\", \"Atom Heart Mother\", \"Loveless\", \"Milo Goes To College\", \"Revolver\"]"
   ]
  },
  {
   "cell_type": "code",
   "execution_count": 50,
   "metadata": {
    "nbgrader": {
     "grade": false,
     "grade_id": "cell-56dd2081f31559cc",
     "locked": false,
     "schema_version": 3,
     "solution": true,
     "task": false
    }
   },
   "outputs": [
    {
     "name": "stdout",
     "output_type": "stream",
     "text": [
      "len(mary_collection) hashed: e7f6c011776e8db7cd330b54174fd76f7d0216b612387a5ffcfb81e6f0919683\n",
      "list(mary_collection) hashed: 3e697cd768486645a889b03f2041357b2cdaf517d2c2ea222410506a0286cedc\n"
     ]
    }
   ],
   "source": [
    "### BEGIN SOLUTION\n",
    "mary_collection.update(mary_albums)\n",
    "\n",
    "print(\n",
    "    'len(mary_collection) hashed:',\n",
    "    hashlib.sha256(\n",
    "        json.dumps(len(mary_collection)).encode()\n",
    "    ).hexdigest()\n",
    ")\n",
    "\n",
    "print(\n",
    "    'list(mary_collection) hashed:',\n",
    "    hashlib.sha256(\n",
    "        json.dumps(sorted(list(mary_collection))).encode()\n",
    "    ).hexdigest()\n",
    ")\n",
    "### END SOLUTION"
   ]
  },
  {
   "cell_type": "code",
   "execution_count": 51,
   "metadata": {
    "nbgrader": {
     "grade": true,
     "grade_id": "cell-9d163b623ea9cb27",
     "locked": true,
     "points": 1,
     "schema_version": 3,
     "solution": false,
     "task": false
    }
   },
   "outputs": [],
   "source": [
    "assert hashlib.sha256(json.dumps(len(mary_collection)).encode()).hexdigest() == 'e7f6c011776e8db7cd330b54174fd76f7d0216b612387a5ffcfb81e6f0919683', \"The number of elements in the set is not correct.\"\n",
    "assert hashlib.sha256(json.dumps(sorted(list(mary_collection))).encode()).hexdigest() == '3e697cd768486645a889b03f2041357b2cdaf517d2c2ea222410506a0286cedc', \"The result is not correct...\""
   ]
  },
  {
   "cell_type": "markdown",
   "metadata": {
    "nbgrader": {
     "grade": false,
     "grade_id": "cell-f86f8760f127501c",
     "locked": true,
     "schema_version": 3,
     "solution": false,
     "task": false
    }
   },
   "source": [
    "####  4.2.2) Add a single value to a set"
   ]
  },
  {
   "cell_type": "markdown",
   "metadata": {
    "nbgrader": {
     "grade": false,
     "grade_id": "cell-38b9957d6ac2f572",
     "locked": true,
     "schema_version": 3,
     "solution": false,
     "task": false
    }
   },
   "source": [
    "Add the album `\"Antics\"` to the set `mary_collection`."
   ]
  },
  {
   "cell_type": "code",
   "execution_count": 52,
   "metadata": {
    "nbgrader": {
     "grade": false,
     "grade_id": "cell-2f1785dbc24b6d2c",
     "locked": false,
     "schema_version": 3,
     "solution": true,
     "task": false
    }
   },
   "outputs": [
    {
     "name": "stdout",
     "output_type": "stream",
     "text": [
      "len(mary_collection) hashed: 7902699be42c8a8e46fbbb4501726517e86b22c56a189f7625a6da49081b2451\n"
     ]
    }
   ],
   "source": [
    "### BEGIN SOLUTION\n",
    "mary_collection.add(\"Antics\")\n",
    "print(\n",
    "    'len(mary_collection) hashed:',\n",
    "    hashlib.sha256(\n",
    "        json.dumps(len(mary_collection)).encode()\n",
    "    ).hexdigest()\n",
    ")\n",
    "### END SOLUTION"
   ]
  },
  {
   "cell_type": "code",
   "execution_count": 53,
   "metadata": {
    "nbgrader": {
     "grade": true,
     "grade_id": "cell-af70c7273fff9dca",
     "locked": true,
     "points": 1,
     "schema_version": 3,
     "solution": false,
     "task": false
    }
   },
   "outputs": [],
   "source": [
    "assert hashlib.sha256(json.dumps(len(mary_collection)).encode()).hexdigest() == '7902699be42c8a8e46fbbb4501726517e86b22c56a189f7625a6da49081b2451', \"The number of elements in the set is not correct. Did you add the new album?\"\n",
    "assert \"Antics\" in mary_collection, \"The album is not there... Did you make a typo?\""
   ]
  },
  {
   "cell_type": "markdown",
   "metadata": {
    "nbgrader": {
     "grade": false,
     "grade_id": "cell-43382e14559ee126",
     "locked": true,
     "schema_version": 3,
     "solution": false,
     "task": false
    }
   },
   "source": [
    "### 4.3) Operations with sets"
   ]
  },
  {
   "cell_type": "markdown",
   "metadata": {
    "nbgrader": {
     "grade": false,
     "grade_id": "cell-7d91a37c601a26ea",
     "locked": true,
     "schema_version": 3,
     "solution": false,
     "task": false
    }
   },
   "source": [
    "####  4.3.1) Find common values"
   ]
  },
  {
   "cell_type": "markdown",
   "metadata": {
    "nbgrader": {
     "grade": false,
     "grade_id": "cell-b58f6ee9b8ecc5bd",
     "locked": true,
     "schema_version": 3,
     "solution": false,
     "task": false
    }
   },
   "source": [
    "Now, please find out which albums Mary and Fred have in common, using the sets `mary_collection` and `fred_collection`.\n",
    "\n",
    "Assign the result to the variable `same_albums`."
   ]
  },
  {
   "cell_type": "code",
   "execution_count": 54,
   "metadata": {
    "nbgrader": {
     "grade": false,
     "grade_id": "cell-d4fa87bda11ec211",
     "locked": true,
     "schema_version": 3,
     "solution": false,
     "task": false
    }
   },
   "outputs": [],
   "source": [
    "fred_collection = {\"Still Life\", \"Atom Heart Mother\", \"Blackwater Park\", \"Lateralus\", \"Revolver\", \"Foxtrot\"}"
   ]
  },
  {
   "cell_type": "code",
   "execution_count": 55,
   "metadata": {
    "nbgrader": {
     "grade": false,
     "grade_id": "cell-0865490a991ecbcb",
     "locked": false,
     "schema_version": 3,
     "solution": true,
     "task": false
    }
   },
   "outputs": [
    {
     "name": "stdout",
     "output_type": "stream",
     "text": [
      "{'Revolver', 'Atom Heart Mother'}\n",
      "same_albums hashed: 244aa15017be9070eafbf75ded26c1cdb11c103a886c0a77f398554a7849c4ed\n"
     ]
    }
   ],
   "source": [
    "#same_albums = \n",
    "### BEGIN SOLUTION\n",
    "same_albums = mary_collection.intersection(fred_collection)\n",
    "\n",
    "print(same_albums)\n",
    "\n",
    "print(\n",
    "    'same_albums hashed:',\n",
    "    hashlib.sha256(\n",
    "        json.dumps(sorted(list(same_albums))).encode()\n",
    "    ).hexdigest()\n",
    ")\n",
    "\n",
    "### END SOLUTION"
   ]
  },
  {
   "cell_type": "code",
   "execution_count": 56,
   "metadata": {
    "nbgrader": {
     "grade": true,
     "grade_id": "cell-caaff753f2640a4f",
     "locked": true,
     "points": 1,
     "schema_version": 3,
     "solution": false,
     "task": false
    }
   },
   "outputs": [],
   "source": [
    "assert hashlib.sha256(json.dumps(sorted(list(same_albums))).encode()).hexdigest() == '244aa15017be9070eafbf75ded26c1cdb11c103a886c0a77f398554a7849c4ed', \"The final set is not correct...\""
   ]
  },
  {
   "cell_type": "markdown",
   "metadata": {
    "nbgrader": {
     "grade": false,
     "grade_id": "cell-72f4f5431f1e3546",
     "locked": true,
     "schema_version": 3,
     "solution": false,
     "task": false
    }
   },
   "source": [
    "####  4.3.2) Get all values from 2 sets"
   ]
  },
  {
   "cell_type": "markdown",
   "metadata": {
    "nbgrader": {
     "grade": false,
     "grade_id": "cell-b529c8191a0216af",
     "locked": true,
     "schema_version": 3,
     "solution": false,
     "task": false
    }
   },
   "source": [
    "Now, let's create the set `full_collection` that contains all albums from `mary_collection` and `fred_collection`.\n",
    "What operation should we use?\n",
    "\n",
    "a) `mary_collection & fred_collection`  \n",
    "b) `fred_collection - mary_collection`    \n",
    "c) `mary_collection.union(fred_collection)`   \n",
    "d) `mary_collection.difference(fred_collection)`"
   ]
  },
  {
   "cell_type": "code",
   "execution_count": 57,
   "metadata": {
    "nbgrader": {
     "grade": false,
     "grade_id": "cell-cd331dcd713eaf11",
     "locked": false,
     "schema_version": 3,
     "solution": true,
     "task": false
    }
   },
   "outputs": [
    {
     "name": "stdout",
     "output_type": "stream",
     "text": [
      "{'Revolver', 'Antics', 'Repeater', 'Still Life', 'Blackwater Park', 'The Queen Is Dead', 'Atom Heart Mother', 'Foxtrot', 'Loveless', 'Milo Goes To College', 'Lateralus'}\n",
      "answer hashed: 879923da020d1533f4d8e921ea7bac61e8ba41d3c89d17a4d14e3a89c6780d5d\n"
     ]
    }
   ],
   "source": [
    "# Uncomment the right answer\n",
    "#answer = \"a\"\n",
    "#answer = \"b\"\n",
    "#answer = \"c\"\n",
    "#answer = \"d\"\n",
    "### BEGIN SOLUTION\n",
    "answer = \"c\"\n",
    "full_collection = mary_collection.union(fred_collection)\n",
    "\n",
    "print(full_collection)\n",
    "\n",
    "print(\n",
    "    'answer hashed:',\n",
    "    hashlib.sha256(\n",
    "        json.dumps(answer).encode()\n",
    "    ).hexdigest()\n",
    ")\n",
    "### END SOLUTION"
   ]
  },
  {
   "cell_type": "code",
   "execution_count": 58,
   "metadata": {
    "nbgrader": {
     "grade": true,
     "grade_id": "cell-4f884d0d1a257efd",
     "locked": true,
     "points": 0.5,
     "schema_version": 3,
     "solution": false,
     "task": false
    }
   },
   "outputs": [],
   "source": [
    "assert hashlib.sha256(json.dumps(answer).encode()).hexdigest() == '879923da020d1533f4d8e921ea7bac61e8ba41d3c89d17a4d14e3a89c6780d5d', \"Oops...that's not the right answer\""
   ]
  },
  {
   "cell_type": "markdown",
   "metadata": {
    "nbgrader": {
     "grade": false,
     "grade_id": "cell-1e6d4e16cf4b5c84",
     "locked": true,
     "schema_version": 3,
     "solution": false,
     "task": false
    }
   },
   "source": [
    "### 4.4) Use set to check duplicates in a list"
   ]
  },
  {
   "cell_type": "markdown",
   "metadata": {
    "nbgrader": {
     "grade": false,
     "grade_id": "cell-570ac2a434f1798b",
     "locked": true,
     "schema_version": 3,
     "solution": false,
     "task": false
    }
   },
   "source": [
    "Given the list `lucky_numbers`, create the variable `total_size` corresponding to the total number of values in the list and create the variable `unique_size` that corresponds to the number of **unique** values there are in the list (i.e. excluding duplicates). "
   ]
  },
  {
   "cell_type": "code",
   "execution_count": 59,
   "metadata": {
    "nbgrader": {
     "grade": false,
     "grade_id": "cell-4bd871964473b515",
     "locked": true,
     "schema_version": 3,
     "solution": false,
     "task": false
    }
   },
   "outputs": [],
   "source": [
    "lucky_numbers = [1,6,3,8,4237,243,2,73,3,753,531,8,2,982,12,5,6,73,531,0,642,568,0,132]"
   ]
  },
  {
   "cell_type": "code",
   "execution_count": 60,
   "metadata": {
    "nbgrader": {
     "grade": false,
     "grade_id": "cell-fa5c1cbe99743894",
     "locked": false,
     "schema_version": 3,
     "solution": true,
     "task": false
    }
   },
   "outputs": [
    {
     "name": "stdout",
     "output_type": "stream",
     "text": [
      "24\n",
      "17\n",
      "total_size hashed: c2356069e9d1e79ca924378153cfbbfb4d4416b1f99d41a2940bfdb66c5319db\n",
      "unique_size hashed: 4523540f1504cd17100c4835e85b7eefd49911580f8efff0599a8f283be6b9e3\n"
     ]
    }
   ],
   "source": [
    "#total_size = ...\n",
    "#unique_size = ...\n",
    "### BEGIN SOLUTION\n",
    "total_size = len(lucky_numbers)\n",
    "unique_size = len(set(lucky_numbers))\n",
    "\n",
    "print(total_size)\n",
    "print(unique_size)\n",
    "\n",
    "print(\n",
    "    'total_size hashed:',\n",
    "    hashlib.sha256(\n",
    "        json.dumps(total_size).encode()\n",
    "    ).hexdigest()\n",
    ")\n",
    "\n",
    "print(\n",
    "    'unique_size hashed:',\n",
    "    hashlib.sha256(\n",
    "        json.dumps(unique_size).encode()\n",
    "    ).hexdigest()\n",
    ")\n",
    "### END SOLUTION"
   ]
  },
  {
   "cell_type": "code",
   "execution_count": 61,
   "metadata": {
    "nbgrader": {
     "grade": true,
     "grade_id": "cell-ca3480f44778254d",
     "locked": true,
     "points": 1,
     "schema_version": 3,
     "solution": false,
     "task": false
    }
   },
   "outputs": [],
   "source": [
    "assert hashlib.sha256(json.dumps(total_size).encode()).hexdigest() == 'c2356069e9d1e79ca924378153cfbbfb4d4416b1f99d41a2940bfdb66c5319db', 'The total size of the list is not correct'\n",
    "assert hashlib.sha256(json.dumps(unique_size).encode()).hexdigest() == '4523540f1504cd17100c4835e85b7eefd49911580f8efff0599a8f283be6b9e3', 'The number of unique values in the list in not correct...'"
   ]
  },
  {
   "cell_type": "markdown",
   "metadata": {
    "nbgrader": {
     "grade": false,
     "grade_id": "cell-df69809a45a1e893",
     "locked": true,
     "schema_version": 3,
     "solution": false,
     "task": false
    }
   },
   "source": [
    "# Submit your work!\n",
    "\n",
    "To submit your work, [get your slack id](https://moshfeu.medium.com/how-to-find-my-member-id-in-slack-workspace-d4bba942e38c) and fill it in the `slack_id` variable.\n",
    "\n",
    "Example: `slack_id = \"UTS63FC02\"`"
   ]
  },
  {
   "cell_type": "code",
   "execution_count": null,
   "metadata": {
    "nbgrader": {
     "grade": false,
     "grade_id": "cell-fba4a36826306298",
     "locked": false,
     "schema_version": 3,
     "solution": true,
     "task": false
    }
   },
   "outputs": [],
   "source": [
    "#slack_id = ...\n",
    "### BEGIN SOLUTION\n",
    "slack_id = None\n",
    "### END SOLUTION"
   ]
  },
  {
   "cell_type": "code",
   "execution_count": null,
   "metadata": {
    "nbgrader": {
     "grade": true,
     "grade_id": "cell-9c18d9bc564b7e70",
     "locked": true,
     "points": 0,
     "schema_version": 3,
     "solution": false,
     "task": false
    },
    "scrolled": false
   },
   "outputs": [],
   "source": [
    "from submit import submit\n",
    "submit(slack_id, 4)"
   ]
  }
 ],
 "metadata": {
  "celltoolbar": "Create Assignment",
  "kernelspec": {
   "display_name": "Python 3",
   "language": "python",
   "name": "python3"
  },
  "language_info": {
   "codemirror_mode": {
    "name": "ipython",
    "version": 3
   },
   "file_extension": ".py",
   "mimetype": "text/x-python",
   "name": "python",
   "nbconvert_exporter": "python",
   "pygments_lexer": "ipython3",
   "version": "3.7.10"
  }
 },
 "nbformat": 4,
 "nbformat_minor": 2
}
