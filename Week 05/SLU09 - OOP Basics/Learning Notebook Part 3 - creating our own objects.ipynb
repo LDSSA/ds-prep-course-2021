{
 "cells": [
  {
   "cell_type": "markdown",
   "metadata": {},
   "source": [
    "# Part 3: creating our own objects"
   ]
  },
  {
   "cell_type": "code",
   "execution_count": 1,
   "metadata": {},
   "outputs": [],
   "source": [
    "from utils import get_fruits\n",
    "apples, bananas, oranges = get_fruits()"
   ]
  },
  {
   "cell_type": "markdown",
   "metadata": {},
   "source": [
    "Up to here we've been treating these Fruits and Baskets as black boxes. And, quite often, that is how you'll use them. You will take some object that someone else has made, read the instructions and use it. \n",
    "\n",
    "But soon we're going to want to make our own. So, let's start by looking inside the objects, and seeing how they are made. "
   ]
  },
  {
   "cell_type": "markdown",
   "metadata": {},
   "source": [
    "-----"
   ]
  },
  {
   "cell_type": "markdown",
   "metadata": {},
   "source": [
    "### Taking a look under the hood \n",
    "Remember that we used a `Fruit` class to create the apples? This is how the `Fruit` class was actually created (slightly simplified, we'll add stuff later): "
   ]
  },
  {
   "cell_type": "code",
   "execution_count": 2,
   "metadata": {},
   "outputs": [],
   "source": [
    "class Fruit:\n",
    "    def __init__(self, name, price_per_unit, days_until_expired, nr_units):\n",
    "        self.name = name\n",
    "        self.nr_units = nr_units\n",
    "        self.price_per_unit = price_per_unit\n",
    "        self.days_until_expired = days_until_expired\n",
    "        \n",
    "    # there will be more stuff here (methods), I'm hiding them for now for simplicity "
   ]
  },
  {
   "cell_type": "code",
   "execution_count": 3,
   "metadata": {},
   "outputs": [],
   "source": [
    "# we can then use this Fruit to create fruits, as we've seen before \n",
    "apple = Fruit(name='royal gala', price_per_unit=2, days_until_expired=20, nr_units=4)"
   ]
  },
  {
   "cell_type": "markdown",
   "metadata": {},
   "source": [
    "We immediately notice a few things. \n",
    "1. The arguments are in some weird `__init__` thing\n",
    "2. There is a lot of the word `self` going around\n",
    "\n",
    "We'll get to these, one at the time. "
   ]
  },
  {
   "cell_type": "markdown",
   "metadata": {},
   "source": [
    "----"
   ]
  },
  {
   "cell_type": "markdown",
   "metadata": {},
   "source": [
    "### Understanding \\_\\_init__"
   ]
  },
  {
   "cell_type": "markdown",
   "metadata": {},
   "source": [
    "The information we wanted to store (price, nr_units...) is all going into this `__init__` thing. \n",
    "\n",
    "You probably remember that in functions we pass arguments with `def(something, something_else)`, and that was the local scope inside the function, right? \n",
    "\n",
    "Well, in classes you define the attributes (remember them?) of the class using this `__init__`.  There is nothing clever about it, it's one of those things you just have to memorize. \n",
    "\n",
    "In classes, you define the attributes in the `__init__`. Repeat 20 times until it sinks in. "
   ]
  },
  {
   "cell_type": "code",
   "execution_count": 4,
   "metadata": {},
   "outputs": [],
   "source": [
    "# let's do a few examples \n",
    "class Person: \n",
    "    def __init__(self, name, age):\n",
    "        self.name = name\n",
    "        self.age = age\n",
    "\n",
    "class Virus:\n",
    "    def __init__(self, name, ro0, discovery_date):\n",
    "        self.name = name\n",
    "        self.ro0 = ro0\n",
    "        self.discovery_date = discovery_date"
   ]
  },
  {
   "cell_type": "markdown",
   "metadata": {},
   "source": [
    "Ok, so the \\_\\_init\\_\\_ is where we pass \"information we need the class to know\", right? \n",
    "\n",
    "Yes, but not just that. Consider the following Dog: "
   ]
  },
  {
   "cell_type": "code",
   "execution_count": 5,
   "metadata": {},
   "outputs": [],
   "source": [
    "class Dog:\n",
    "    def __init__(self, name, weight):  # <-- we never said anything about mammals... \n",
    "        self.name = name\n",
    "        self.weight=weight\n",
    "        self.family = \"mammal\"          # <-- and yet there it is! "
   ]
  },
  {
   "cell_type": "markdown",
   "metadata": {},
   "source": [
    "You may be thinking \"hang on, why didn't we pass the family, and yet it gets defined as mammal?\" \n",
    "\n",
    "That is because all dogs are mammals. It would not make sense to ask the user to pass the family every time they want to create a new dog, and yet it may be useful (for instance if a Zoo object wants to figure out how many mammals it has).\n",
    "\n",
    "Here is another thing you'll see quite often:"
   ]
  },
  {
   "cell_type": "code",
   "execution_count": 6,
   "metadata": {},
   "outputs": [],
   "source": [
    "class Human:\n",
    "    def __init__(self, name, date_of_birth): \n",
    "        self.name = name \n",
    "        self.date_of_birth = date_of_birth\n",
    "        self.date_of_death = None             # <--- wait what?"
   ]
  },
  {
   "cell_type": "markdown",
   "metadata": {},
   "source": [
    "In this case, we don't know the date of death at the time when we are creating Humans. We may be logging these humans in some system and, by the time they die, we'll update this value. \n",
    "\n",
    "But when we instantiate (fancy word to say \"use the class to create instances\"), we create the class arguments that we expect we'll need. So, we need the `date_of_death`, even if we don't have a value for it yet, so we set it to None. "
   ]
  },
  {
   "cell_type": "markdown",
   "metadata": {},
   "source": [
    "Now let's instantiate a human, called \"frank\"."
   ]
  },
  {
   "cell_type": "code",
   "execution_count": 7,
   "metadata": {},
   "outputs": [],
   "source": [
    "frank = Human('Frank Smith', date_of_birth='1974-04-12')"
   ]
  },
  {
   "cell_type": "markdown",
   "metadata": {},
   "source": [
    "What is Frank Smith's date of death?"
   ]
  },
  {
   "cell_type": "code",
   "execution_count": 8,
   "metadata": {},
   "outputs": [
    {
     "name": "stdout",
     "output_type": "stream",
     "text": [
      "None\n"
     ]
    }
   ],
   "source": [
    "print(frank.date_of_death)"
   ]
  },
  {
   "cell_type": "markdown",
   "metadata": {},
   "source": [
    "Great! And now... let's kill him! "
   ]
  },
  {
   "cell_type": "code",
   "execution_count": 9,
   "metadata": {},
   "outputs": [],
   "source": [
    "frank.date_of_death = '2020-05-27'   # bye frank! "
   ]
  },
  {
   "cell_type": "markdown",
   "metadata": {},
   "source": [
    "Great, what's his date of death now? "
   ]
  },
  {
   "cell_type": "code",
   "execution_count": 10,
   "metadata": {},
   "outputs": [
    {
     "name": "stdout",
     "output_type": "stream",
     "text": [
      "2020-05-27\n"
     ]
    }
   ],
   "source": [
    "print(frank.date_of_death)"
   ]
  },
  {
   "cell_type": "markdown",
   "metadata": {},
   "source": [
    "Great. So, we can update a method after the instance has been created. Which is very useful. \n",
    "\n",
    "You may be wondering: _\"is this just because it was set to None?\"_\n",
    "The answer is no, we can also update attributes. \n",
    "\n",
    "Let's be even more evil, and change Frank's name to _\"Frankenstein Smith\"_"
   ]
  },
  {
   "cell_type": "markdown",
   "metadata": {},
   "source": [
    "Remember, this is name before we change it: "
   ]
  },
  {
   "cell_type": "code",
   "execution_count": 11,
   "metadata": {},
   "outputs": [
    {
     "data": {
      "text/plain": [
       "'Frank Smith'"
      ]
     },
     "execution_count": 11,
     "metadata": {},
     "output_type": "execute_result"
    }
   ],
   "source": [
    "frank.name "
   ]
  },
  {
   "cell_type": "markdown",
   "metadata": {},
   "source": [
    "And after we update his name: "
   ]
  },
  {
   "cell_type": "code",
   "execution_count": 12,
   "metadata": {},
   "outputs": [
    {
     "name": "stdout",
     "output_type": "stream",
     "text": [
      "Frankenstein Smith\n"
     ]
    }
   ],
   "source": [
    "frank.name = \"Frankenstein Smith\"\n",
    "print(frank.name)"
   ]
  },
  {
   "cell_type": "markdown",
   "metadata": {},
   "source": [
    "Here is a related example from our good old friend, the `Basket`: "
   ]
  },
  {
   "cell_type": "code",
   "execution_count": 13,
   "metadata": {},
   "outputs": [],
   "source": [
    "class Basket:\n",
    "    def __init__(self):\n",
    "        self.products = []   # <-- empty list! \n",
    "        \n",
    "    # there will be more stuff here (methods), I'm hiding them for now for simplicity "
   ]
  },
  {
   "cell_type": "markdown",
   "metadata": {},
   "source": [
    "In the case of a basket, we instantiate new baskets without any products, so we create them with an empty list. The methods will then take care of updating this list, but given that we will need it, we start it as empty with the \\_\\_init\\_\\_. "
   ]
  },
  {
   "cell_type": "markdown",
   "metadata": {},
   "source": [
    "----"
   ]
  },
  {
   "cell_type": "markdown",
   "metadata": {},
   "source": [
    "### Understanding self"
   ]
  },
  {
   "cell_type": "markdown",
   "metadata": {},
   "source": [
    "Ok, let's deal with `self`, the elephant in the room. It would be `self`ish not to (I'm so sorry.)\n",
    "\n",
    "Before we jump into it, consider the following example:"
   ]
  },
  {
   "cell_type": "code",
   "execution_count": 14,
   "metadata": {},
   "outputs": [
    {
     "name": "stdout",
     "output_type": "stream",
     "text": [
      "24\n"
     ]
    }
   ],
   "source": [
    "# Create a class for Person \n",
    "class Person:\n",
    "    def __init__(self, name, age):\n",
    "        self.name = name \n",
    "        self.age = age\n",
    "        \n",
    "amy = Person(name='Amy Malkovich', age=24)\n",
    "\n",
    "print(amy.age)"
   ]
  },
  {
   "cell_type": "markdown",
   "metadata": {},
   "source": [
    "How does it know that amy has an age? Simple: the Person class had an age. When `amy` got instantiated, everywhere the word `self` used to be became `amy`. \n",
    "\n",
    "Capiche? `amy.age` exists because the Person class had a `self.age`. \n",
    "\n",
    "![](https://i.imgflip.com/3wdi4x.jpg)\n",
    "\n",
    "In the `__init__`, we said \"we're going to pass two things when we create a new Person: a `name`, and an `age`\". \n",
    "\n",
    "When we create `amy` we passed her a `name` and an `age`. When we created an instance of a Person `self` for that person got replaced with the instance variable name. "
   ]
  },
  {
   "cell_type": "code",
   "execution_count": 15,
   "metadata": {},
   "outputs": [
    {
     "name": "stdout",
     "output_type": "stream",
     "text": [
      "This failed! Here is the error: 'Person' object has no attribute 'height'\n"
     ]
    }
   ],
   "source": [
    "# Create a class for Person \n",
    "class Person:\n",
    "    def __init__(self, name, age):\n",
    "        self.name = name   # <-- we don't know whether will be amy or john, self is a placeholder\n",
    "        self.age = age\n",
    "        \n",
    "amy = Person(name='Amy Malkovich', age=24)\n",
    "john = Person(name='John Malkovich', age=57)\n",
    "\n",
    "# What happens if we use attributes that weren't in the class that generated amy? \n",
    "# amy does not have a height, because the class Person does not have a self.height\n",
    "try: \n",
    "    amy.height\n",
    "except AttributeError as e: \n",
    "    print('This failed! Here is the error: {0}'.format(e))"
   ]
  },
  {
   "cell_type": "markdown",
   "metadata": {},
   "source": [
    "### Understanding instance methods "
   ]
  },
  {
   "cell_type": "markdown",
   "metadata": {},
   "source": [
    "We know from our good old friend the `Basket` that classes can be used for more than just storing information. The basket had this cool ability to sum the price of all items in it, remember? \n",
    "\n",
    "This was done with a function that we put in the method. But before we do any of that, let's illustrate why that is useful, and pretend methods don't exist. \n",
    "\n",
    "Here is what the world looks like before we introduce methods: "
   ]
  },
  {
   "cell_type": "code",
   "execution_count": 16,
   "metadata": {},
   "outputs": [
    {
     "name": "stdout",
     "output_type": "stream",
     "text": [
      "Mark Smith is 22 years old\n",
      "Mark Smith is 23 years old (after going through the function)\n"
     ]
    }
   ],
   "source": [
    "# Create a class for Person \n",
    "class Person:\n",
    "    def __init__(self, name, age):\n",
    "        self.name = name \n",
    "        self.age = age\n",
    "\n",
    "# now let's create a function that takes an instance of a person, and ages them by one \n",
    "def celebrate_birthday_simple(some_person):\n",
    "    some_person.age += 1  # increase the person's age by 1 \n",
    "    return some_person \n",
    "\n",
    "# now let's create a person: \n",
    "mark = Person(name='Mark Smith', age=22)\n",
    "# print their name and age: \n",
    "print('{0} is {1} years old'.format(mark.name, mark.age))\n",
    "\n",
    "# now let's use the function to make mark one year older \n",
    "mark = celebrate_birthday_simple(mark)  # <--- pay special attention to this! \n",
    "\n",
    "# print their name and age after going through the function: \n",
    "print('{0} is {1} years old (after going through the function)'.format(mark.name, mark.age))"
   ]
  },
  {
   "cell_type": "markdown",
   "metadata": {},
   "source": [
    "So you will have noticed this slightly weird thing: \n",
    "\n",
    "```\n",
    "# \"mark equals celebrate birthday of mark\"\n",
    "mark = celebrate_birthday_simple(mark)\n",
    "```\n",
    "\n",
    "This is kind of dirty and requires us to go around overwriting variables. Also, this `celebrate_birthday_simple` function is clearly very specific to Person, as it even knows that they have an `age` property. \n",
    "\n",
    "```\n",
    "def celebrate_birthday_simple(some_person):\n",
    "    some_person.age += 1  # <--- this function is really specific to Person! \n",
    "    return some_person \n",
    "```\n",
    "\n",
    "What we want is to say that this \"celebrate birthday\" thing is a method of the Person Class (it belongs to the Person Class). So we'll put it in the Person class: "
   ]
  },
  {
   "cell_type": "code",
   "execution_count": 17,
   "metadata": {},
   "outputs": [],
   "source": [
    "class Person:\n",
    "    def __init__(self, name, age):\n",
    "        self.name = name \n",
    "        self.age = age\n",
    "    \n",
    "    def celebrate_birthday(self):\n",
    "        self.age += 1  # increase the person's age by 1 "
   ]
  },
  {
   "cell_type": "markdown",
   "metadata": {},
   "source": [
    "Remember what we said about the \"self\" stuff. It just refers to the \"thing\" (in this case the person) that is getting its attribute updated. When we are creating the Person we don't know if it will be mark, john or mary, but we do know that it will be... the self. \n",
    "\n",
    "It's a bit non-intuitive at first, but just take the word `self` very literally: \n",
    "- `self.name = name` means `update the name on myself to the name that gets passed to me`\n",
    "- `self.age += 1` means `update the age by one on myself`\n",
    "\n",
    "Look at the two versions next to each other:"
   ]
  },
  {
   "cell_type": "code",
   "execution_count": 18,
   "metadata": {},
   "outputs": [],
   "source": [
    "class Person:\n",
    "    def __init__(self, name, age):\n",
    "        self.name = name \n",
    "        self.age = age    \n",
    "    def celebrate_birthday(self):   # <-- here defined as an instance method on your class\n",
    "        self.age += 1  \n",
    "        # no need to return self, because we've already altered it!\n",
    "\n",
    "def celebrate_birthday_simple(some_person):  # <-- here defined outside the class \n",
    "    some_person.age += 1   # <-- notice that \"some_person\" takes the place of \"self\"!\n",
    "    return some_person "
   ]
  },
  {
   "cell_type": "markdown",
   "metadata": {},
   "source": [
    "Key thing to notice: wherever it says \"some_person\" on the outside function, we say \"self\" in the instance method. \n",
    "\n",
    "So, when you are creating a `Fruit` class, at some point you will create some `apple` with it. Whenever it would make sense to have `apple`, you write `self`. "
   ]
  },
  {
   "cell_type": "markdown",
   "metadata": {},
   "source": [
    "It is a very common mistake for even experienced python users to forget the pass self as an argument in an instance method. This is an example of that mistake: "
   ]
  },
  {
   "cell_type": "code",
   "execution_count": 19,
   "metadata": {},
   "outputs": [],
   "source": [
    "class Basket:\n",
    "    def __init__(self):\n",
    "        self.products = []   \n",
    "        \n",
    "    def add_item_to_basket(item):  # <-- oh no! I forgot self! \n",
    "        self.products.append(item)  # <-- wait, what do you mean \"self\"? \n",
    "        return self "
   ]
  },
  {
   "cell_type": "markdown",
   "metadata": {},
   "source": [
    "You will notice that it allowed me to get this far. Let's see what happens when I create a basket and try to use it: "
   ]
  },
  {
   "cell_type": "code",
   "execution_count": 20,
   "metadata": {},
   "outputs": [
    {
     "name": "stdout",
     "output_type": "stream",
     "text": [
      "Oh no! This failed! Here is the error: \n",
      "   add_item_to_basket() takes 1 positional argument but 2 were given\n"
     ]
    }
   ],
   "source": [
    "my_basket = Basket()\n",
    "# note: don't worry about the try/except, it's just that we're doing something that will fail\n",
    "try:    # \n",
    "    my_basket.add_item_to_basket(apple)\n",
    "except TypeError as e: \n",
    "    print('Oh no! This failed! Here is the error: \\n   {0}'.format(e))"
   ]
  },
  {
   "cell_type": "markdown",
   "metadata": {},
   "source": [
    "Well... that's not a very helpful error! The real issue is that it expects 1 argument, but what got passed implicitly was `(self, item)`. Given that it had only been told to expect `item`, this error will show up. \n",
    "\n",
    "You'll see this error again in your life. Oh yes, you'll see it again. "
   ]
  },
  {
   "cell_type": "markdown",
   "metadata": {},
   "source": [
    "Correct implementation of our basket: "
   ]
  },
  {
   "cell_type": "code",
   "execution_count": 21,
   "metadata": {},
   "outputs": [],
   "source": [
    "class Basket:\n",
    "    def __init__(self):\n",
    "        self.products = []   \n",
    "        \n",
    "    def add_item_to_basket(self, item):  # <-- this time with self \n",
    "        self.products.append(item)\n",
    "        \n",
    "my_basket = Basket()\n",
    "my_basket.add_item_to_basket(apple)"
   ]
  },
  {
   "cell_type": "markdown",
   "metadata": {},
   "source": [
    "Ok, you got this far, bravo! \n",
    "\n",
    "Let's recapitulate. I want to go back to the Person example and show you the two implementations of how to celebrate their birthday (using a function or using an instance method) side by side. \n",
    "\n",
    "Remember, these are two different ways to do the same thing:"
   ]
  },
  {
   "cell_type": "code",
   "execution_count": 1,
   "metadata": {},
   "outputs": [],
   "source": [
    "def celebrate_birthday_simple(some_person):  # <-- normal function \n",
    "    some_person.age += 1   \n",
    "    return some_person                  \n",
    "\n",
    "class Person:\n",
    "    def __init__(self, name, age):\n",
    "        self.name = name \n",
    "        self.age = age    \n",
    "    def celebrate_birthday(self):   # <-- using an instance method\n",
    "        self.age += 1  \n",
    "        # no need to return, because we've already altered self! "
   ]
  },
  {
   "cell_type": "markdown",
   "metadata": {},
   "source": [
    "So, whenever you see this: \n",
    "- `jonh.celebrate_birthday()`\n",
    "\n",
    "Remember that it is the same as `celebrate_birthday(jonh)`, but the `john` is already passed as `self`. "
   ]
  },
  {
   "cell_type": "markdown",
   "metadata": {},
   "source": [
    "-----"
   ]
  },
  {
   "cell_type": "markdown",
   "metadata": {},
   "source": [
    "#### Calling instance methods from within the class"
   ]
  },
  {
   "cell_type": "markdown",
   "metadata": {},
   "source": [
    "Sometimes, you will want to call a method using another method. As an example, consider the following implementation of the basket:"
   ]
  },
  {
   "cell_type": "code",
   "execution_count": 23,
   "metadata": {},
   "outputs": [],
   "source": [
    "class Basket:\n",
    "    def __init__(self):\n",
    "        self.content = []\n",
    "\n",
    "    def add_item(self, item):\n",
    "        self.content.append(item)\n",
    "\n",
    "    def check_total_price(self):\n",
    "        total_price = 0\n",
    "        for item in self.content:\n",
    "            total_price += item.calculate_price()\n",
    "        print('The total price is {0}'.format(total_price))\n",
    "        \n",
    "    def describe_every_item(self):\n",
    "        for item in self.content:\n",
    "            # print some info about the item \n",
    "            print('- {0} {1} (total price {2})'.format(\n",
    "                item.nr_units, item.name, item.calculate_price()))\n",
    "\n",
    "    def examine_basket(self):\n",
    "        self.check_total_price()\n",
    "        self.describe_every_item()"
   ]
  },
  {
   "cell_type": "markdown",
   "metadata": {},
   "source": [
    "The `examine_basket` method does two things: \n",
    "1. checks the total price \n",
    "2. describes every item \n",
    "\n",
    "So, it wants to call the two other metods. \n",
    "\n",
    "The `examine_basket` method does the equivalent of this: \n",
    "```\n",
    "my_basket.check_total_price()\n",
    "my_basket.describe_every_item()\n",
    "```\n",
    "\n",
    "Because it is in the class, we use `self.check_total_price()` instead of `check_total_price(<something>)`"
   ]
  },
  {
   "cell_type": "code",
   "execution_count": 24,
   "metadata": {},
   "outputs": [
    {
     "name": "stdout",
     "output_type": "stream",
     "text": [
      "The total price is 28\n",
      "- 10 apples (total price 10)\n",
      "- 6 bananas (total price 12)\n",
      "- 2 oranges (total price 6)\n"
     ]
    }
   ],
   "source": [
    "# create a basket \n",
    "my_basket = Basket()\n",
    "\n",
    "# this is also a common pattern, adding things from a list, or spreadsheet, etc\n",
    "for item in [apples, bananas, oranges]: \n",
    "    my_basket.add_item(item)\n",
    "    \n",
    "my_basket.examine_basket()"
   ]
  },
  {
   "cell_type": "markdown",
   "metadata": {},
   "source": [
    "-----"
   ]
  },
  {
   "cell_type": "markdown",
   "metadata": {},
   "source": [
    "Ok, quick summary of the learnings so far: \n",
    "\n",
    "- Classes (e.g. Fruit) are used to make instances of the class (e.g. `apples`) \n",
    "- Attributes are pieces of information that belong to the class (e.g. `apples.price`) \n",
    "- Instance methods are functions that belong to the class (e.g. `appples.add_item_to_basket`)\n",
    "- The `__init__` is where the class attributes are initially defined. \n",
    "- The `self` is used when defining the class. It is a \"placeholder\" that you would replace with the instance name if you were doing it as an external function. "
   ]
  },
  {
   "cell_type": "markdown",
   "metadata": {},
   "source": [
    "Ok, now go on and do the rest of the exercises! Good luck! "
   ]
  },
  {
   "cell_type": "markdown",
   "metadata": {},
   "source": [
    "----"
   ]
  }
 ],
 "metadata": {
  "kernelspec": {
   "display_name": "Python 3",
   "language": "python",
   "name": "python3"
  },
  "language_info": {
   "codemirror_mode": {
    "name": "ipython",
    "version": 3
   },
   "file_extension": ".py",
   "mimetype": "text/x-python",
   "name": "python",
   "nbconvert_exporter": "python",
   "pygments_lexer": "ipython3",
   "version": "3.6.7"
  }
 },
 "nbformat": 4,
 "nbformat_minor": 2
}
