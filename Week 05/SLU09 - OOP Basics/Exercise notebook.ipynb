{
 "cells": [
  {
   "cell_type": "markdown",
   "metadata": {
    "deletable": false,
    "editable": false,
    "nbgrader": {
     "grade": false,
     "grade_id": "cell-2509f0264af9d046",
     "locked": true,
     "schema_version": 3,
     "solution": false
    }
   },
   "source": [
    "# SLU 09 - Exercise notebook \n",
    "\n",
    "Before you start:\n",
    ">- This notebook is divided into 8 questions: \n",
    "    - Question 1 to 6 are easy, practice questions, expect that part to take about 2 hours. \n",
    "    - Questions 7 and 8 are hard question, expect to spend at least another 3 hours on them. They are close to the level of difficulty to pass the Academy test. \n",
    "    \n",
    "> - If you are unsure about your answer, run the asserts (the tests). Even if it is a bit incomplete, run the asserts, and see if they give you clues. \n",
    "    - In the last 2 questions the asserts will be a bit less helpful, so that you can get some practice of dealing with genuine python errors. \n",
    "    - Read the instructions carefully. Everything that is there is critical\n",
    "    - Don't worry if these concepts feel weird at first. Classes are not easy, you are now getting into advanced stuff! \n",
    "    \n",
    "> - If you are stuck, remember to:\n",
    "    - Play around! Open a new cell, and mess around with the objects. Instantiate them and see if they complain. See what they print, what they return, etc. Remember, in real life there are no asserts to guide you!  \n",
    "    - Always read the error messages carefully. They should be good clues about what is wrong. \n",
    "    - As always, don't be afraid to ask questions! \n"
   ]
  },
  {
   "cell_type": "markdown",
   "metadata": {},
   "source": [
    "----"
   ]
  },
  {
   "cell_type": "markdown",
   "metadata": {
    "deletable": false,
    "editable": false,
    "nbgrader": {
     "grade": false,
     "grade_id": "cell-f257450893ad32fa",
     "locked": true,
     "schema_version": 3,
     "solution": false
    }
   },
   "source": [
    "### Exercise 1 - Playing around with objects \n",
    "\n",
    "This exercise is very simple. We are just going to make a couple new fruits, like we did in the first Learning Notebook. \n",
    "\n",
    "Make the following two fruits: \n",
    "- pears, which is called \"pears\", has 4 units, costs 3 euros per unit, and expires in 14 days\n",
    "- tangerines, which is called \"tangerines\", has 2 units, costs 6 euros per unit, and expires in 2 days\n",
    "\n",
    "This exercise is very easy, just look up how it was done in the Learning notebook and do a couple of them here. \n",
    "\n",
    "Reminder: the Fruit class has the following attributes: \n",
    "- `price_per_unit`\n",
    "- `name`\n",
    "- `nr_units`\n",
    "- `days_until_expired`\n",
    "\n",
    "> Protip: Note that you can use the tab auto-complete to help you.  \n",
    "> Try writing `Fruit(pr` and hitting tab. It should auto-complete to price! \n"
   ]
  },
  {
   "cell_type": "code",
   "execution_count": null,
   "metadata": {
    "deletable": false,
    "nbgrader": {
     "grade": false,
     "grade_id": "cell-4640dc55a4c658cd",
     "locked": false,
     "schema_version": 3,
     "solution": true
    }
   },
   "outputs": [],
   "source": [
    "from utils import Fruit\n",
    "\n",
    "# pears = ...\n",
    "# tangerines = ...\n",
    "# YOUR CODE HERE\n",
    "raise NotImplementedError()"
   ]
  },
  {
   "cell_type": "code",
   "execution_count": null,
   "metadata": {
    "deletable": false,
    "editable": false,
    "nbgrader": {
     "grade": true,
     "grade_id": "cell-f4f479ecb4b7c3ef",
     "locked": true,
     "points": 1,
     "schema_version": 3,
     "solution": false
    }
   },
   "outputs": [],
   "source": [
    "from utils import exercise_1_grading\n",
    "assert (pears and tangerines), 'Did you forget to make one of the fruits?'\n",
    "exercise_1_grading(pears, tangerines)\n",
    "print('Great success! Exercise passed!')"
   ]
  },
  {
   "cell_type": "markdown",
   "metadata": {
    "deletable": false,
    "editable": false,
    "nbgrader": {
     "grade": false,
     "grade_id": "cell-7ff3b1abc7b63c8a",
     "locked": true,
     "schema_version": 3,
     "solution": false
    }
   },
   "source": [
    "----\n",
    "### Exercise 2 - add up the price of fruits \n",
    "\n",
    "Great! For your second exercise you will add the price of all the fruits: \n",
    "- apples\n",
    "- bananas \n",
    "- oranges \n",
    "- pears\n",
    "- tangerines \n",
    "\n",
    "The price is the product of the price per unit and number of units. But remember, the Fruit object already comes with a `calculate_price` method! \n",
    "\n",
    "Create a function called `calculate_price_of_all_fruits`, which takes a list called `all_fruits` that contains fruit objects and returns the total price. We've already filled in some things for you. \n",
    "\n",
    "Remember: the function should take any list of fruits, don't hard code any particular list! "
   ]
  },
  {
   "cell_type": "code",
   "execution_count": null,
   "metadata": {
    "deletable": false,
    "nbgrader": {
     "grade": false,
     "grade_id": "cell-d5a600cefd3c41c7",
     "locked": false,
     "schema_version": 3,
     "solution": true
    }
   },
   "outputs": [],
   "source": [
    "def calculate_price_of_all_fruits(all_fruits): \n",
    "    \"\"\"\n",
    "    Calculates the price for every fruit in the all_fruits list, \n",
    "        and returns the total price of fruits in the list\n",
    "    Args: \n",
    "        all_fruits (list): a list with fruit objects \n",
    "        \n",
    "    Returns: \n",
    "        total_price (int): the total price of the fruits in the list\n",
    "    \"\"\"\n",
    "    \n",
    "    # hint: this may require a for loop, and a variable to keep track of the total price \n",
    "\n",
    "    # YOUR CODE HERE\n",
    "    raise NotImplementedError()\n",
    "    \n",
    "# this should return 24 \n",
    "print(calculate_price_of_all_fruits([pears, tangerines]))"
   ]
  },
  {
   "cell_type": "code",
   "execution_count": null,
   "metadata": {
    "deletable": false,
    "editable": false,
    "nbgrader": {
     "grade": true,
     "grade_id": "cell-ee1a997f801ac0bb",
     "locked": true,
     "points": 1,
     "schema_version": 3,
     "solution": false
    }
   },
   "outputs": [],
   "source": [
    "from utils import exercise_2_grading\n",
    "exercise_2_grading(calculate_price_of_all_fruits)\n",
    "print('Great success! Exercise passed!')"
   ]
  },
  {
   "cell_type": "markdown",
   "metadata": {
    "deletable": false,
    "editable": false,
    "nbgrader": {
     "grade": false,
     "grade_id": "cell-9310208dc9da1132",
     "locked": true,
     "schema_version": 3,
     "solution": false
    }
   },
   "source": [
    "---\n",
    "### Exercise 3 - Using objects with other objects \n",
    "\n",
    "In this exercise you will do something very similar to the learning notebook. You will simply instantiate a basket, create some toilet paper, and then will add and remove stuff until you have the following: \n",
    "\n",
    "- Total value of the basket should be between 30 and 35 \n",
    "- the basket must have at least 3 types of fruit\n",
    "- the basket must not contain any items that will expire in the next 8 days \n",
    "- the basket must have at least some toilet paper. It should be ... \n",
    "    - named \"Soft but cheap\" \n",
    "    - cost 4 euros\n",
    "    - have \"Double leaf\". \n",
    "    - The expiration date and number of units are up to you, they won't be tested\n",
    "\n",
    "Reminders: \n",
    "```\n",
    "- You already have some instance variables to work with: \n",
    "    - apples \n",
    "    - oranges\n",
    "    - bananas \n",
    "    - pears \n",
    "    - tangerines \n",
    "- You only have the Class variable Toiletpaper to work with. \n",
    "- You'll need to create some toilet paper before you can use it. \n",
    "    - Call the variable toilet_paper.\n",
    "    - Give it nr_units = 1 \n",
    "```\n",
    "\n",
    "_Note: obviously you can figure out exactly what you need to add ahead of time without trial and error. However, it's good practice to just use the objects. Try adding, checking the price, removing, etc until you have an answer that meets all the conditions._"
   ]
  },
  {
   "cell_type": "code",
   "execution_count": null,
   "metadata": {
    "deletable": false,
    "nbgrader": {
     "grade": false,
     "grade_id": "cell-cffd2f4f2528de89",
     "locked": false,
     "schema_version": 3,
     "solution": true
    }
   },
   "outputs": [],
   "source": [
    "from utils import Toiletpaper, Basket, get_fruits\n",
    "apples, bananas, oranges = get_fruits()  # you already have some fruits\n",
    "\n",
    "# my_basket = ... \n",
    "# toilet_paper = ...\n",
    "# my_basket.<do something> \n",
    "\n",
    "# YOUR CODE HERE\n",
    "raise NotImplementedError()"
   ]
  },
  {
   "cell_type": "code",
   "execution_count": null,
   "metadata": {
    "deletable": false,
    "editable": false,
    "nbgrader": {
     "grade": true,
     "grade_id": "cell-277ef4e6f1a47d0d",
     "locked": true,
     "points": 2,
     "schema_version": 3,
     "solution": false
    }
   },
   "outputs": [],
   "source": [
    "from utils import exercise_3_grading \n",
    "exercise_3_grading(my_basket, toilet_paper)\n",
    "print('Great success! Exercise passed!')"
   ]
  },
  {
   "cell_type": "markdown",
   "metadata": {
    "deletable": false,
    "editable": false,
    "nbgrader": {
     "grade": false,
     "grade_id": "cell-d72d7a817b368a0b",
     "locked": true,
     "schema_version": 3,
     "solution": false
    }
   },
   "source": [
    "----\n",
    "### Exercise 4: Making a basic object \n",
    "\n",
    "Ok, here is what is going ot happen. We're gonna move house. And we're going to have to pack all our stuff. \n",
    "\n",
    "We will take a bunch of `Item`s in our house, and put them into `Boxes`. \n",
    "\n",
    "Let's start with creating some `Item`s. Here is what you need to do: \n",
    "\n",
    "Create an `Item` class, which will have 3 attributes: \n",
    "- name \n",
    "- weight \n",
    "- fragile (this will be boolean)\n",
    "- broken (this will be boolean, always starts out as False) \n",
    "\n",
    "Create the following items: \n",
    "- `chair` which will weigh 15, be called \"kitchen chair\", and not be fragile \n",
    "- `vase` which will weigh 3, be called \"ming vase\", and be fragile \n",
    "- `pillow` which will weigh 1, be called \"bed pillow\", and not be fragile  "
   ]
  },
  {
   "cell_type": "code",
   "execution_count": null,
   "metadata": {
    "deletable": false,
    "nbgrader": {
     "grade": false,
     "grade_id": "cell-2e5ef92f86968bc5",
     "locked": false,
     "schema_version": 3,
     "solution": true
    }
   },
   "outputs": [],
   "source": [
    "# YOUR CODE HERE\n",
    "raise NotImplementedError()"
   ]
  },
  {
   "cell_type": "code",
   "execution_count": null,
   "metadata": {
    "deletable": false,
    "editable": false,
    "nbgrader": {
     "grade": true,
     "grade_id": "cell-61f3abe376b0ed6d",
     "locked": true,
     "points": 2,
     "schema_version": 3,
     "solution": false
    }
   },
   "outputs": [],
   "source": [
    "from utils import exercise_4_grading \n",
    "assert Item, \"please create the Item class!\"\n",
    "assert all([vase, chair, pillow])\n",
    "exercise_4_grading(Item, chair, vase, pillow)\n",
    "print('Great success! Section passed!')"
   ]
  },
  {
   "cell_type": "markdown",
   "metadata": {
    "deletable": false,
    "editable": false,
    "nbgrader": {
     "grade": false,
     "grade_id": "cell-8adda44bfdb36940",
     "locked": true,
     "schema_version": 3,
     "solution": false
    }
   },
   "source": [
    "---\n",
    "### Exercise 5: working with methods \n",
    "\n",
    "For this exercise we will create a `BasicBox` class (note: we'll create a `Box` class in the next exercise). This box will allow you to add and remove `Item`s, and will have a weight limit.\n",
    "\n",
    "First step, let's create the `BasicBox` object. It will have the following attributes: \n",
    "- `contents`: a list that will start empty. Will will use it to keep track of items. \n",
    "- `weight_limit`: a number specific to each new box we create (different `Box`es will have different weight limits)\n",
    "- `name`: a string name \n",
    "- `broken`: boolean, whether the box has been broken by having too much weight. Starts as False. \n",
    "- `weight`: defaults to zero (the weight of the box is negligible) \n",
    "\n",
    "The `BasicBox` should also have a method called `add_item` that takes an `item` and adds it to the `contents`. "
   ]
  },
  {
   "cell_type": "code",
   "execution_count": null,
   "metadata": {
    "deletable": false,
    "nbgrader": {
     "grade": false,
     "grade_id": "cell-a9722b9debaeb161",
     "locked": false,
     "schema_version": 3,
     "solution": true
    }
   },
   "outputs": [],
   "source": [
    "# YOUR CODE HERE\n",
    "raise NotImplementedError()"
   ]
  },
  {
   "cell_type": "code",
   "execution_count": null,
   "metadata": {
    "deletable": false,
    "editable": false,
    "nbgrader": {
     "grade": true,
     "grade_id": "cell-a9853f7b4e57fe87",
     "locked": true,
     "points": 2,
     "schema_version": 3,
     "solution": false
    }
   },
   "outputs": [],
   "source": [
    "from utils import exercise_5_grading \n",
    "assert BasicBox\n",
    "exercise_5_grading(BasicBox)"
   ]
  },
  {
   "cell_type": "markdown",
   "metadata": {
    "deletable": false,
    "editable": false,
    "nbgrader": {
     "grade": false,
     "grade_id": "cell-9a6f76784b433690",
     "locked": true,
     "schema_version": 3,
     "solution": false
    }
   },
   "source": [
    "---\n",
    "### Exercise 6: calling methods with other methods \n",
    "Ok, our box is a bit too basic. Let's make a proper box (feel free to copy your code from the previous exercise as this one is an extension of it) \n",
    "\n",
    "This time we'll create a `Box` object, that allows us to add items, but has a few more methods: \n",
    "\n",
    "- `calculate_total_weight`: calcualtes the weight of all `items` in the `contents`, and updates the `weight` attribute. \n",
    "\n",
    "- `check_if_weight_limit_exceeded`: this method will call `calculate_total_weight`, then check if the total weight is over the box's `weight_limit`. If it has been exceeded, the box should change its `broken` attribute to `True`, and `break_all_fragile_items`\n",
    "\n",
    "- `break_all_fragile_items`: change the `broken` attribute of all `fragile` items in the `contents` to `True` (don't break the non-fragile items!) \n",
    "\n",
    "_Note 1: don't return the total_weight, update the `self.weight` attribute of the box itself._  \n",
    "_Note 2: you will probably want to use some of your Items from exercise 4 to test whether your Box does what is expected._"
   ]
  },
  {
   "cell_type": "code",
   "execution_count": null,
   "metadata": {
    "deletable": false,
    "nbgrader": {
     "grade": false,
     "grade_id": "cell-ef56f4c9a022e15a",
     "locked": false,
     "schema_version": 3,
     "solution": true
    }
   },
   "outputs": [],
   "source": [
    "# YOUR CODE HERE\n",
    "raise NotImplementedError()"
   ]
  },
  {
   "cell_type": "code",
   "execution_count": null,
   "metadata": {
    "deletable": false,
    "editable": false,
    "nbgrader": {
     "grade": true,
     "grade_id": "cell-9eae48817b9d3b7f",
     "locked": true,
     "points": 4,
     "schema_version": 3,
     "solution": false
    }
   },
   "outputs": [],
   "source": [
    "from utils import exercise_6_grading\n",
    "assert Box, \"Implement Box!\"\n",
    "exercise_6_grading(Box)\n",
    "print('Great success! Section passed!')"
   ]
  },
  {
   "cell_type": "markdown",
   "metadata": {
    "deletable": false,
    "editable": false,
    "nbgrader": {
     "grade": false,
     "grade_id": "cell-6902583bd7d88bc4",
     "locked": true,
     "schema_version": 3,
     "solution": false,
     "task": false
    }
   },
   "source": [
    "----\n",
    "> Before you continue:\n",
    "- _The exercises up to here were good for practice. The last two are hard ones._ \n",
    "- The last 2 exercises have no new material. They will just have less hand-holding and be more demanding. If you get in trouble, see your own solutions above for clues!\n",
    "- To give you a more realistic idea of debugging in the real the world we won't tell you where your mistakes are, but simply whether you are passing the tests (whether it does what is expected). You will have to use the errors that python provides, as will be the case in the real world. \n",
    "- You can of course ask for help at any time, but try suffering through these two on your own if you can, it's very good practice for the real world :)  \n",
    "- _Expect to take quite a while (probably over 2 hours) to get exercise 7 and 8 right._\n",
    "- _It's often useful to draft the \"skeleton\" of your code before jumping in. What are the steps? What are the methods of each class you will need? Sometimes writing on a piece of paper is a good support._ \n",
    "- _This section will test you on what you learned, but also includes functions, and other things you have learned before. You may need to check a few past SLUs for this one_\n",
    "\n",
    "- _After you create a class, make an instance, see if it behaves the way you expect. It's crucial to gain the habit of testing your stuff as you go, to see if it is working._\n",
    "    - it's your responsibility to create instances, find the actual error, and try to fix it!_ \n",
    "- _This is the last block in this SLU! If you got this, you are getting pretty good at objects, and are probably ready to deal with the Academy entry exercise that has this SLU's material._"
   ]
  },
  {
   "cell_type": "markdown",
   "metadata": {
    "deletable": false,
    "editable": false,
    "nbgrader": {
     "grade": false,
     "grade_id": "cell-eae99c07eb4281fa",
     "locked": true,
     "schema_version": 3,
     "solution": false
    }
   },
   "source": [
    "---\n",
    "### Exercise 7: let's make a SportsBall league! \n",
    "\n",
    "You know those games where there are professional sportsball leagues, with players, teams and competitions? Yeah, neither do I, and it will show in this exercise. \n",
    "\n",
    "Our objective is to create two `Competition`s, each of which with 5 `Team`s, each of which have 10 `Player`s. "
   ]
  },
  {
   "cell_type": "code",
   "execution_count": null,
   "metadata": {},
   "outputs": [],
   "source": [
    "# remember to tell them that the attempt to score actually needs to return stuff.\n",
    "# test for their correct choice of defaults (everywhere)"
   ]
  },
  {
   "cell_type": "code",
   "execution_count": null,
   "metadata": {
    "deletable": false,
    "nbgrader": {
     "grade": false,
     "grade_id": "cell-05a39eba6e7e96c1",
     "locked": false,
     "schema_version": 3,
     "solution": true
    }
   },
   "outputs": [],
   "source": [
    "import numpy as np  # we will need this for attempts to score \n",
    "\n",
    "# YOUR CODE HERE\n",
    "raise NotImplementedError()"
   ]
  },
  {
   "cell_type": "code",
   "execution_count": null,
   "metadata": {
    "deletable": false,
    "editable": false,
    "nbgrader": {
     "grade": true,
     "grade_id": "cell-e429403c7f5eff78",
     "locked": true,
     "points": 4,
     "schema_version": 3,
     "solution": false
    }
   },
   "outputs": [],
   "source": [
    "from utils import exercise_7_validate_Player, exercise_7_validate_Team\n",
    "import numpy as np \n",
    "assert Player, team\n",
    "exercise_7_validate_Player(Player)\n",
    "exercise_7_validate_Team(Team, Player)\n",
    "print('Great success! Section passed!')"
   ]
  },
  {
   "cell_type": "markdown",
   "metadata": {
    "deletable": false,
    "editable": false,
    "nbgrader": {
     "grade": false,
     "grade_id": "cell-5c6d9c4151e4a2bf",
     "locked": true,
     "schema_version": 3,
     "solution": false
    }
   },
   "source": [
    "---\n",
    "### Exercise 8: putting your classes to use! \n",
    "\n",
    "This one will just be a bit of fun. You will create a few teams, and then will use your classes to play some games, and in the end will print the results. "
   ]
  },
  {
   "cell_type": "code",
   "execution_count": null,
   "metadata": {
    "deletable": false,
    "nbgrader": {
     "grade": false,
     "grade_id": "cell-a43a4e57177eca9d",
     "locked": false,
     "schema_version": 3,
     "solution": true
    }
   },
   "outputs": [],
   "source": [
    "# YOUR CODE HERE\n",
    "raise NotImplementedError()"
   ]
  },
  {
   "cell_type": "code",
   "execution_count": null,
   "metadata": {
    "deletable": false,
    "editable": false,
    "nbgrader": {
     "grade": true,
     "grade_id": "cell-1d7bb58d538228da",
     "locked": true,
     "points": 4,
     "schema_version": 3,
     "solution": false
    }
   },
   "outputs": [],
   "source": [
    "from utils import exercise_7_validate_League\n",
    "exercise_7_validate_League(League, Team, Player)\n",
    "print(\"Great Success! Section passed!\")"
   ]
  },
  {
   "cell_type": "markdown",
   "metadata": {
    "deletable": false,
    "editable": false,
    "nbgrader": {
     "grade": false,
     "grade_id": "cell-d78ac70c5e6ad8ef",
     "locked": true,
     "schema_version": 3,
     "solution": false,
     "task": false
    }
   },
   "source": [
    "# Submit your work!\n",
    "\n",
    "To submit your work, [get your slack id](https://moshfeu.medium.com/how-to-find-my-member-id-in-slack-workspace-d4bba942e38c) and fill it in the `slack_id` variable.\n",
    "\n",
    "Example: `slack_id = \"UTS63FC02\"`"
   ]
  },
  {
   "cell_type": "code",
   "execution_count": null,
   "metadata": {
    "deletable": false,
    "nbgrader": {
     "grade": false,
     "grade_id": "cell-555cf377c715246c",
     "locked": false,
     "schema_version": 3,
     "solution": true,
     "task": false
    }
   },
   "outputs": [],
   "source": [
    "# YOUR CODE HERE\n",
    "raise NotImplementedError()\n",
    "# slack_id ="
   ]
  },
  {
   "cell_type": "code",
   "execution_count": null,
   "metadata": {
    "deletable": false,
    "editable": false,
    "nbgrader": {
     "grade": true,
     "grade_id": "cell-52a14f9f098dd4f6",
     "locked": true,
     "points": 0,
     "schema_version": 3,
     "solution": false,
     "task": false
    }
   },
   "outputs": [],
   "source": [
    "from submit import submit\n",
    "\n",
    "assert slack_id is not None\n",
    "submit(slack_id=slack_id, learning_unit=9)"
   ]
  }
 ],
 "metadata": {
  "kernelspec": {
   "display_name": "Python 3",
   "language": "python",
   "name": "python3"
  },
  "language_info": {
   "codemirror_mode": {
    "name": "ipython",
    "version": 3
   },
   "file_extension": ".py",
   "mimetype": "text/x-python",
   "name": "python",
   "nbconvert_exporter": "python",
   "pygments_lexer": "ipython3",
   "version": "3.6.5"
  }
 },
 "nbformat": 4,
 "nbformat_minor": 2
}
