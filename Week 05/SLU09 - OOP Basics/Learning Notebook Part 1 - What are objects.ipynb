{
 "cells": [
  {
   "cell_type": "markdown",
   "metadata": {},
   "source": [
    "# Part 1: why objects? "
   ]
  },
  {
   "cell_type": "markdown",
   "metadata": {},
   "source": [
    "Before we start getting into objects, let's establish a little toy problem.\n",
    "\n",
    "```\n",
    "Toy problem #1: \n",
    "We want to store some information about some fruits. \n",
    "There are only three products at our (crappy) supermarket, which are \n",
    "- 10 apples, at 1 euro each, expire in 25 days \n",
    "- 6 bananas, at 2 euros each, expire in 15 days \n",
    "- 2 oranges, at 3 euros each, expire in 20 days\n",
    "```"
   ]
  },
  {
   "cell_type": "code",
   "execution_count": 1,
   "metadata": {},
   "outputs": [],
   "source": [
    "# We need to keep track of a few things in one go, so dictionary seems alright \n",
    "my_fruits_dict = {\n",
    "    'apples': {\n",
    "        \"name\": 'apples',\n",
    "        \"price_per_unit\": 1,\n",
    "        \"number_of_units\": 10,\n",
    "        \"days_until_expired\": 25\n",
    "    },\n",
    "    'bananas': {\n",
    "        \"name\": 'banana',\n",
    "        \"price_per_unit\": 2,\n",
    "        \"number_of_units\": 6,\n",
    "        \"days_until_expired\": 15\n",
    "    }, \n",
    "    'oranges': {\n",
    "        \"name\": 'orange',\n",
    "        \"price_per_unit\": 3,\n",
    "        \"number_of_units\": 2,\n",
    "        \"days_until_expired\": 20 \n",
    "    },\n",
    "}"
   ]
  },
  {
   "cell_type": "markdown",
   "metadata": {},
   "source": [
    "So, this worked. But it's a bit unpleasant. For one thing, we had to write the name of the keys a bunch of times\n",
    "- \"name\", \n",
    "- \"price_per_unit\", \n",
    "- \"number_of_units\" \n",
    "- \"expiry_date\"\n",
    "\n",
    "The issue is that all \"fruits\" share certain properties (price, expiry date...), but Python does not know it. We are saying that oranges are \"entries in a dictionary\". What we want to say is \"oranges are fruits\".  "
   ]
  },
  {
   "cell_type": "markdown",
   "metadata": {},
   "source": [
    "### Bring in the objects! \n",
    "\n",
    "In this notebook we will just illustrate what objects look like without getting into any detail. Don't worry, in notebook 2 and 3 you'll understand all about them, this one is just for you to get a vague idea of why objects exist.\n",
    "\n",
    "So, back to our example: What we need is something which is a \"Fruit\". This thing would always have a name, a price per unit, a number of units, and an expiry date. \n",
    "\n",
    "Something like... This! "
   ]
  },
  {
   "cell_type": "code",
   "execution_count": 2,
   "metadata": {},
   "outputs": [],
   "source": [
    "from utils import Fruit"
   ]
  },
  {
   "cell_type": "markdown",
   "metadata": {},
   "source": [
    "What is this Fruit? It's a `Class`. We will use this class to make different fruits, which will all share a bunch of properties. \n",
    "\n",
    "First, let's just take a look at the Fruit class:"
   ]
  },
  {
   "cell_type": "code",
   "execution_count": 3,
   "metadata": {},
   "outputs": [
    {
     "data": {
      "text/plain": [
       "utils.Fruit"
      ]
     },
     "execution_count": 3,
     "metadata": {},
     "output_type": "execute_result"
    }
   ],
   "source": [
    "Fruit"
   ]
  },
  {
   "cell_type": "markdown",
   "metadata": {},
   "source": [
    "Well, that's kind of boring. Let's just use our \"Fruit thing\" and make some apples. "
   ]
  },
  {
   "cell_type": "code",
   "execution_count": 4,
   "metadata": {},
   "outputs": [],
   "source": [
    "apples = Fruit(name='apples', \n",
    "               price_per_unit=1, \n",
    "               nr_units=10,\n",
    "               days_until_expired=25) "
   ]
  },
  {
   "cell_type": "markdown",
   "metadata": {},
   "source": [
    "Great! Now we have an `apples` object, created with a `Fruit` class. \n",
    "\n",
    "The fundamental thing to get here is that in Python you can create \"objects\", which share a bunch of properties. This is extremely useful for when you are working on something that carries lots of state (fancy word for \"information\") around. \n",
    "\n",
    "It will become more and more obvious as you see more examples. "
   ]
  },
  {
   "cell_type": "code",
   "execution_count": 5,
   "metadata": {},
   "outputs": [
    {
     "name": "stdout",
     "output_type": "stream",
     "text": [
      "1\n"
     ]
    }
   ],
   "source": [
    "# what is the price per unit of our apples? \n",
    "print(apples.price_per_unit)"
   ]
  },
  {
   "cell_type": "code",
   "execution_count": 6,
   "metadata": {},
   "outputs": [
    {
     "name": "stdout",
     "output_type": "stream",
     "text": [
      "10\n"
     ]
    }
   ],
   "source": [
    "# How many apples do we have?\n",
    "print(apples.nr_units)"
   ]
  },
  {
   "cell_type": "markdown",
   "metadata": {},
   "source": [
    "Let's create the oranges and bananas: "
   ]
  },
  {
   "cell_type": "code",
   "execution_count": 7,
   "metadata": {},
   "outputs": [],
   "source": [
    "oranges = Fruit(name='oranges', \n",
    "                price_per_unit=3, \n",
    "                nr_units=2,\n",
    "                days_until_expired=20)"
   ]
  },
  {
   "cell_type": "code",
   "execution_count": 8,
   "metadata": {},
   "outputs": [],
   "source": [
    "bananas = Fruit(name='bananas', \n",
    "                price_per_unit=2, \n",
    "                nr_units=6,\n",
    "                days_until_expired=7)"
   ]
  },
  {
   "cell_type": "markdown",
   "metadata": {},
   "source": [
    "Now we can put these 3 fruits together in a list: "
   ]
  },
  {
   "cell_type": "code",
   "execution_count": 9,
   "metadata": {},
   "outputs": [],
   "source": [
    "# this is clearly a lot easier to read\n",
    "my_fruits_list = [apples, bananas, oranges]"
   ]
  },
  {
   "cell_type": "markdown",
   "metadata": {},
   "source": [
    "Ok, up to here we've just used these objects to keep information about our fruits. For the record, the `name`, `price_per_unit`, etc are all called \"attributes\". \n",
    "\n",
    "Oh, you want more nomenclature? Ok, fine... \n",
    "\n",
    "\n",
    "    Nomenclature time! \n",
    "    - a Fruit is a Class definition. \n",
    "        - It is not any particular fruit and will be used to build (instiantiate) fruits. \n",
    "    - apples is an instance of a Fruit (because it was created from a Fruit). \n",
    "        - It is a variable like any other but the value that it holds is that of a Fruit instance\n",
    "    - both the apples and the Fruit are objects.  \n",
    "    - you instantiate (build) a new instance using the class name (e.g. Fruit) \n",
    "    - we write variables that are the instance of a class (e.g. apple) with lowercase (never Apple). \n",
    "    - both classes and instances of classes have attributes. \n",
    "        - For instance, the apple has an attribute price. \n",
    "\n",
    "Don't worry about this nomenclature too much just yet. Know where it is, because you'll probably want to reference it. "
   ]
  },
  {
   "cell_type": "markdown",
   "metadata": {},
   "source": [
    "### Methods (fancy word for functions in classes)\n",
    "But if this all we could do with classes was carry information around, that would be boring. \n",
    "\n",
    "Well, it turns out that there is more to this \"Fruit\" thing than meets the eye. "
   ]
  },
  {
   "cell_type": "markdown",
   "metadata": {},
   "source": [
    "One of the things we want to do it calculate the price of each of all our oranges, bananas, etc. This is something that all fruits share, so it made sense to build it into the Fruit class itself.\n",
    "\n",
    "```\n",
    "Nomenclature time! \n",
    "- objects can have methods, which are functions associated with that object. \n",
    "```"
   ]
  },
  {
   "cell_type": "markdown",
   "metadata": {},
   "source": [
    "And because `apples`, `oranges` and `bananas` are all `Fruit`, then they all have this ability to calculate price! "
   ]
  },
  {
   "cell_type": "code",
   "execution_count": 10,
   "metadata": {},
   "outputs": [
    {
     "data": {
      "text/plain": [
       "10"
      ]
     },
     "execution_count": 10,
     "metadata": {},
     "output_type": "execute_result"
    }
   ],
   "source": [
    "apples.calculate_price()   # you will learn how to do this soon! "
   ]
  },
  {
   "cell_type": "markdown",
   "metadata": {},
   "source": [
    "Cool! So we didn't have to implement anything specific for each of them, that was all created at the `Fruit` level. Makes sense? "
   ]
  },
  {
   "cell_type": "code",
   "execution_count": 11,
   "metadata": {},
   "outputs": [
    {
     "name": "stdout",
     "output_type": "stream",
     "text": [
      "12\n",
      "6\n"
     ]
    }
   ],
   "source": [
    "print(bananas.calculate_price())\n",
    "print(oranges.calculate_price())"
   ]
  },
  {
   "cell_type": "markdown",
   "metadata": {},
   "source": [
    "Ok, enough fruits for now. Go to your exercise notebook and do Exercises 1 and 2! Get Fruity!  "
   ]
  },
  {
   "cell_type": "code",
   "execution_count": null,
   "metadata": {},
   "outputs": [],
   "source": []
  }
 ],
 "metadata": {
  "kernelspec": {
   "display_name": "Python 3",
   "language": "python",
   "name": "python3"
  },
  "language_info": {
   "codemirror_mode": {
    "name": "ipython",
    "version": 3
   },
   "file_extension": ".py",
   "mimetype": "text/x-python",
   "name": "python",
   "nbconvert_exporter": "python",
   "pygments_lexer": "ipython3",
   "version": "3.6.7"
  }
 },
 "nbformat": 4,
 "nbformat_minor": 2
}
