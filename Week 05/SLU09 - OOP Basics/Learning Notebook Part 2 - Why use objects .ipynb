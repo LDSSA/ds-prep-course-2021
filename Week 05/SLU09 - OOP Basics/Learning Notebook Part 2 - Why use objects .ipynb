{
 "cells": [
  {
   "cell_type": "markdown",
   "metadata": {},
   "source": [
    "# Part 2: why objects can be useful "
   ]
  },
  {
   "cell_type": "markdown",
   "metadata": {},
   "source": [
    "In part 1 we used some Fruit objects. But realistically, it's tricky to tell what great value came from it, as the problem was so simple. \n",
    "\n",
    "In this section we're going to go a bit beyond, and make a proper little market. \n",
    "\n",
    "```\n",
    "Toy problem #2: \n",
    "We want to make a little market. It will have Fruits, and Toilet Paper. \n",
    "\n",
    "Toiletpaper has slightly different properties than Fruit. \n",
    "- price \n",
    "- expiration date (which will be super long) \n",
    "- resistance \n",
    "\n",
    "We will also have the concept of a Basket. We can do a few things with it: \n",
    "- Add stuff (fruits, toilet paper) \n",
    "- Show which items will expire during the next n days \n",
    "- Remove stuff \n",
    "- Examine what's in the basket \n",
    "- Check total price \n",
    "```\n",
    "_Note: We made some fruits in Notebook 1, so we'll just import them here._"
   ]
  },
  {
   "cell_type": "code",
   "execution_count": 18,
   "metadata": {},
   "outputs": [],
   "source": [
    "from utils import Fruit, Toiletpaper, Basket, get_fruits\n",
    "apples, bananas, oranges = get_fruits()   \n",
    "# feel free to ignore this cell, I'm just bringing in code we'd already defined"
   ]
  },
  {
   "cell_type": "markdown",
   "metadata": {},
   "source": [
    "Let's start by making two types of toilet paper, one simple, and one luxurious.  \n",
    "\n",
    "You will notice that the attributes are slightly different from those of Fruits, as Toilet paper has `thickness`, which would not make sense in a Fruit. "
   ]
  },
  {
   "cell_type": "code",
   "execution_count": 2,
   "metadata": {},
   "outputs": [],
   "source": [
    "luxurious_toilet_paper = Toiletpaper(name='Smooth and dry toilet paper',\n",
    "                                 thickness='Tripple leaf', \n",
    "                                 price_per_unit=50, \n",
    "                                 days_until_expired=2000, \n",
    "                                 nr_units=1)\n",
    "\n",
    "basic_toilet_paper = Toiletpaper(name='Basic toilet paper',\n",
    "                                 thickness='Single leaf', \n",
    "                                 price_per_unit=3, \n",
    "                                 days_until_expired=365, \n",
    "                                 nr_units=1)"
   ]
  },
  {
   "cell_type": "markdown",
   "metadata": {},
   "source": [
    "You may have wondered why we would bother to have a `name` argument, and not just use the name of the variable. \n",
    "\n",
    "The simple answer is that you can't print the name of the variable, so if you add `basic_toilet_paper` to a list or anything else, you will struggle to figure out what it was. \n",
    "\n",
    "So it's always a good idea to have a name. "
   ]
  },
  {
   "cell_type": "code",
   "execution_count": 3,
   "metadata": {},
   "outputs": [
    {
     "name": "stdout",
     "output_type": "stream",
     "text": [
      "<utils.Toiletpaper object at 0x1060e33c8>\n"
     ]
    }
   ],
   "source": [
    "# not very useful, we can only see that it is an instance of Toiletpaper\n",
    "print(basic_toilet_paper) "
   ]
  },
  {
   "cell_type": "code",
   "execution_count": 4,
   "metadata": {},
   "outputs": [
    {
     "name": "stdout",
     "output_type": "stream",
     "text": [
      "Basic toilet paper\n"
     ]
    }
   ],
   "source": [
    "# Quite clear! \n",
    "print(basic_toilet_paper.name) "
   ]
  },
  {
   "cell_type": "markdown",
   "metadata": {},
   "source": [
    "----"
   ]
  },
  {
   "cell_type": "markdown",
   "metadata": {},
   "source": [
    "Great, now for our basket. We will create a basket called `my_basket`, and will use it to pick up some fruits and toilet paper. We will then use some cool \"basket\" specific methods to calculate prices, and to see if any items are about to expire. "
   ]
  },
  {
   "cell_type": "code",
   "execution_count": 5,
   "metadata": {},
   "outputs": [],
   "source": [
    "# create the basket (this is called \"instantiate\", you'll hear this word around)\n",
    "my_basket = Basket()"
   ]
  },
  {
   "cell_type": "code",
   "execution_count": 6,
   "metadata": {},
   "outputs": [],
   "source": [
    "# add some apples \n",
    "my_basket.add_item(apples)"
   ]
  },
  {
   "cell_type": "code",
   "execution_count": 7,
   "metadata": {},
   "outputs": [],
   "source": [
    "# add some bananas \n",
    "my_basket.add_item(bananas)"
   ]
  },
  {
   "cell_type": "code",
   "execution_count": 8,
   "metadata": {},
   "outputs": [],
   "source": [
    "# add some oranges \n",
    "my_basket.add_item(oranges)"
   ]
  },
  {
   "cell_type": "markdown",
   "metadata": {},
   "source": [
    "So what does our basket look like now? "
   ]
  },
  {
   "cell_type": "code",
   "execution_count": 9,
   "metadata": {},
   "outputs": [
    {
     "data": {
      "text/plain": [
       "<utils.Basket at 0x1060e3160>"
      ]
     },
     "execution_count": 9,
     "metadata": {},
     "output_type": "execute_result"
    }
   ],
   "source": [
    "my_basket"
   ]
  },
  {
   "cell_type": "markdown",
   "metadata": {},
   "source": [
    "Oh right, we are just calling the object, so it's just telling us where it is in memory.   \n",
    "\n",
    "Fortunately, the basket has a cool method (a function that \"lives in the class\") for this: "
   ]
  },
  {
   "cell_type": "code",
   "execution_count": 25,
   "metadata": {},
   "outputs": [
    {
     "name": "stdout",
     "output_type": "stream",
     "text": [
      "The total price is 75\n",
      "- 10 apples (total price 10)\n",
      "- 2 oranges (total price 6)\n",
      "- 1 Basic toilet paper (total price 3)\n",
      "- 2 oranges (total price 6)\n",
      "- 1 Smooth and dry toilet paper (total price 50)\n"
     ]
    }
   ],
   "source": [
    "my_basket.examine_basket()   # <-- examine_basket is a method that all baskets share"
   ]
  },
  {
   "cell_type": "markdown",
   "metadata": {},
   "source": [
    "Nice. Now, time to get some wonderfull, tripple leaf toilet paper! "
   ]
  },
  {
   "cell_type": "code",
   "execution_count": 21,
   "metadata": {},
   "outputs": [],
   "source": [
    "# add the toilet paper! \n",
    "my_basket.add_item(luxurious_toilet_paper)"
   ]
  },
  {
   "cell_type": "code",
   "execution_count": 22,
   "metadata": {},
   "outputs": [
    {
     "name": "stdout",
     "output_type": "stream",
     "text": [
      "The total price is 75\n",
      "- 10 apples (total price 10)\n",
      "- 2 oranges (total price 6)\n",
      "- 1 Basic toilet paper (total price 3)\n",
      "- 2 oranges (total price 6)\n",
      "- 1 Smooth and dry toilet paper (total price 50)\n"
     ]
    }
   ],
   "source": [
    "my_basket.examine_basket()"
   ]
  },
  {
   "cell_type": "markdown",
   "metadata": {},
   "source": [
    "Oh my, we are already at 78 euros? We probably should get rid of this crazy expensive toilet paper then, and replace it with some basic stuff: "
   ]
  },
  {
   "cell_type": "code",
   "execution_count": 13,
   "metadata": {},
   "outputs": [],
   "source": [
    "my_basket.remove_item(luxurious_toilet_paper)\n",
    "my_basket.add_item(basic_toilet_paper)"
   ]
  },
  {
   "cell_type": "code",
   "execution_count": 14,
   "metadata": {},
   "outputs": [
    {
     "name": "stdout",
     "output_type": "stream",
     "text": [
      "The total price is 31\n",
      "- 10 apples (total price 10)\n",
      "- 6 bananas (total price 12)\n",
      "- 2 oranges (total price 6)\n",
      "- 1 Basic toilet paper (total price 3)\n"
     ]
    }
   ],
   "source": [
    "my_basket.examine_basket()"
   ]
  },
  {
   "cell_type": "markdown",
   "metadata": {},
   "source": [
    "Great, we're almost done. I'm just a bit worried that some of the fruit may be about to expire... let's take a quick look: "
   ]
  },
  {
   "cell_type": "code",
   "execution_count": 15,
   "metadata": {},
   "outputs": [
    {
     "name": "stdout",
     "output_type": "stream",
     "text": [
      "The item bananas will expire in 7 days\n"
     ]
    }
   ],
   "source": [
    "my_basket.check_for_items_close_to_expire(10)"
   ]
  },
  {
   "cell_type": "markdown",
   "metadata": {},
   "source": [
    "Ah, got it. Then let's replace the bananas with some more oranges. "
   ]
  },
  {
   "cell_type": "code",
   "execution_count": 16,
   "metadata": {},
   "outputs": [],
   "source": [
    "my_basket.remove_item(bananas)\n",
    "my_basket.add_item(oranges)"
   ]
  },
  {
   "cell_type": "code",
   "execution_count": 17,
   "metadata": {},
   "outputs": [
    {
     "name": "stdout",
     "output_type": "stream",
     "text": [
      "The total price is 25\n",
      "- 10 apples (total price 10)\n",
      "- 2 oranges (total price 6)\n",
      "- 1 Basic toilet paper (total price 3)\n",
      "- 2 oranges (total price 6)\n"
     ]
    }
   ],
   "source": [
    "my_basket.examine_basket()"
   ]
  },
  {
   "cell_type": "markdown",
   "metadata": {},
   "source": [
    "### So, when are objects useful?\n",
    "\n",
    "Objects are not always the right tool to use. They are quite useful you have to keep state (information) for a long period of time (for instance the basket needs to keep track of products), or when you need to create a bunch of similar \"things\" (e.g. fruits). \n",
    "\n",
    "Everything that we are doing with objects we could do with functions, lists and dictionaries, but it would be a lot more messy and full of repetition. "
   ]
  },
  {
   "cell_type": "markdown",
   "metadata": {},
   "source": [
    "##### Now off to exercise 3! "
   ]
  }
 ],
 "metadata": {
  "kernelspec": {
   "display_name": "Python 3",
   "language": "python",
   "name": "python3"
  },
  "language_info": {
   "codemirror_mode": {
    "name": "ipython",
    "version": 3
   },
   "file_extension": ".py",
   "mimetype": "text/x-python",
   "name": "python",
   "nbconvert_exporter": "python",
   "pygments_lexer": "ipython3",
   "version": "3.7.3"
  }
 },
 "nbformat": 4,
 "nbformat_minor": 2
}
